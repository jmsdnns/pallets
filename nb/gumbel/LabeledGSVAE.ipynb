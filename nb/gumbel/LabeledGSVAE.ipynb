{
 "cells": [
  {
   "cell_type": "markdown",
   "metadata": {},
   "source": [
    "# Gumbel Softmax VAE"
   ]
  },
  {
   "cell_type": "markdown",
   "metadata": {},
   "source": [
    "This notebook is intended for loading and exploring arbitrary pre-trained models"
   ]
  },
  {
   "cell_type": "code",
   "execution_count": 1,
   "metadata": {},
   "outputs": [],
   "source": [
    "import torch\n",
    "from torch.utils.data import DataLoader, SubsetRandomSampler\n",
    "from torchvision.transforms.functional import to_pil_image\n",
    "import matplotlib.pyplot as plt\n",
    "%matplotlib inline"
   ]
  },
  {
   "cell_type": "code",
   "execution_count": 2,
   "metadata": {},
   "outputs": [],
   "source": [
    "# Load pallets library from project root\n",
    "import sys, os\n",
    "sys.path.append(os.path.abspath(os.path.join(os.getcwd(), '..', '..')))\n",
    "\n",
    "from pallets import (\n",
    "    images as I,\n",
    "    datasets as DS,\n",
    "    models as M,\n",
    "    logging as L\n",
    ")\n"
   ]
  },
  {
   "cell_type": "markdown",
   "metadata": {},
   "source": [
    "# Settings"
   ]
  },
  {
   "cell_type": "code",
   "execution_count": 3,
   "metadata": {},
   "outputs": [],
   "source": [
    "SAVE_NAME = 'gsvae.labeled'"
   ]
  },
  {
   "cell_type": "code",
   "execution_count": 4,
   "metadata": {},
   "outputs": [],
   "source": [
    "USE_GPU = True\n",
    "LOG_LEVEL = 'INFO'\n",
    "LABELS_FILE = 'pallets_labels.json'\n",
    "\n",
    "\n",
    "TEST_SIZE = 1000\n",
    "EPOCHS = 50\n",
    "LR = 1e-03\n",
    "BATCH_SIZE = 32\n",
    "\n",
    "TEMPERATURE = 1\n"
   ]
  },
  {
   "cell_type": "code",
   "execution_count": 5,
   "metadata": {},
   "outputs": [
    {
     "data": {
      "text/plain": [
       "<Logger pallets (INFO)>"
      ]
     },
     "execution_count": 5,
     "metadata": {},
     "output_type": "execute_result"
    }
   ],
   "source": [
    "# To GPU, or not to GPU\n",
    "device = M.get_device(require_gpu=USE_GPU)\n",
    "\n",
    "# Logging\n",
    "L.init_logger(level=LOG_LEVEL, notebook=True)\n"
   ]
  },
  {
   "cell_type": "markdown",
   "metadata": {},
   "source": [
    "# Dataset"
   ]
  },
  {
   "cell_type": "code",
   "execution_count": 6,
   "metadata": {},
   "outputs": [
    {
     "name": "stdout",
     "output_type": "stream",
     "text": [
      "INFO | loading punk images\n",
      "INFO | - image 0\n",
      "INFO | - image 1000\n",
      "INFO | - image 2000\n",
      "INFO | - image 3000\n",
      "INFO | - image 4000\n",
      "INFO | - image 5000\n",
      "INFO | - image 6000\n",
      "INFO | - image 7000\n",
      "INFO | - image 8000\n",
      "INFO | - image 9000\n",
      "INFO | punk images complete\n",
      "INFO | loading punk labels: pallets_labels.json\n"
     ]
    }
   ],
   "source": [
    "all_colors = I.get_punk_colors()\n",
    "mapper = DS.ColorOneHotMapper(all_colors)\n",
    "dataset = DS.OneHotCPunksDataset(\n",
    "    mapper, labels_file=LABELS_FILE, test_size=TEST_SIZE\n",
    ")\n",
    "\n",
    "# Uncomment to put entire dataset in GPU RAM\n",
    "# dataset = DS.FastOneHotCPunksDataset(\n",
    "#     device, mapper, labels_file=LABELS_FILE, test_size=TEST_SIZE\n",
    "# )"
   ]
  },
  {
   "cell_type": "code",
   "execution_count": 7,
   "metadata": {},
   "outputs": [],
   "source": [
    "train_sampler = SubsetRandomSampler(dataset.train_idx)\n",
    "test_sampler = SubsetRandomSampler(dataset.test_idx)\n",
    "\n",
    "train_loader = DataLoader(dataset, batch_size=BATCH_SIZE, sampler=train_sampler)\n",
    "test_loader = DataLoader(dataset, batch_size=BATCH_SIZE, sampler=test_sampler)"
   ]
  },
  {
   "cell_type": "markdown",
   "metadata": {},
   "source": [
    "# Training"
   ]
  },
  {
   "cell_type": "code",
   "execution_count": 8,
   "metadata": {},
   "outputs": [],
   "source": [
    "input_dim = 222 * 24 * 24\n",
    "hidden_dim = 128\n",
    "latent_dim = 32\n",
    "classes_dim = len(dataset._label_keys)  # 92\n"
   ]
  },
  {
   "cell_type": "code",
   "execution_count": 9,
   "metadata": {},
   "outputs": [
    {
     "name": "stdout",
     "output_type": "stream",
     "text": [
      "INFO | model: pallets.models.gumbel.LabeledGSVAE\n",
      "INFO | criterion: pallets.models.gumbel.Loss\n",
      "INFO | learn rate: 0.001\n",
      "INFO | epochs: 50\n",
      "INFO | epoch 1 (  0%) loss: 1419241.875000\n",
      "INFO | epoch 1 ( 35%) loss: 258467.555422\n",
      "INFO | epoch 1 ( 70%) loss: 135705.091204\n",
      "INFO | epoch 1 (100%) loss: 99979.637431\n",
      "INFO | epoch 1 (test) loss: 11156.620026\n",
      "INFO | epoch 2 (  0%) loss: 10660.712891\n",
      "INFO | epoch 2 ( 35%) loss: 11339.612517\n",
      "INFO | epoch 2 ( 70%) loss: 11307.118805\n",
      "INFO | epoch 2 (100%) loss: 11252.291447\n",
      "INFO | epoch 2 (test) loss: 11047.788788\n",
      "INFO | epoch 3 (  0%) loss: 10925.098633\n",
      "INFO | epoch 3 ( 35%) loss: 11179.087871\n",
      "INFO | epoch 3 ( 70%) loss: 11190.389221\n",
      "INFO | epoch 3 (100%) loss: 11158.073227\n",
      "INFO | epoch 3 (test) loss: 10988.958115\n",
      "INFO | epoch 4 (  0%) loss: 11361.206055\n",
      "INFO | epoch 4 ( 35%) loss: 11156.276648\n",
      "INFO | epoch 4 ( 70%) loss: 11128.152528\n",
      "INFO | epoch 4 (100%) loss: 11070.894806\n",
      "INFO | epoch 4 (test) loss: 10817.397125\n",
      "INFO | epoch 5 (  0%) loss: 11084.065430\n",
      "INFO | epoch 5 ( 35%) loss: 10984.323445\n",
      "INFO | epoch 5 ( 70%) loss: 10953.445793\n",
      "INFO | epoch 5 (100%) loss: 10830.800323\n",
      "INFO | epoch 5 (test) loss: 10232.962639\n",
      "INFO | epoch 6 (  0%) loss: 10544.832031\n",
      "INFO | epoch 6 ( 35%) loss: 10140.533164\n",
      "INFO | epoch 6 ( 70%) loss: 10035.263881\n",
      "INFO | epoch 6 (100%) loss: 9931.645786\n",
      "INFO | epoch 6 (test) loss: 9534.939636\n",
      "INFO | epoch 7 (  0%) loss: 9215.046875\n",
      "INFO | epoch 7 ( 35%) loss: 9658.183671\n",
      "INFO | epoch 7 ( 70%) loss: 9594.923367\n",
      "INFO | epoch 7 (100%) loss: 9478.526946\n",
      "INFO | epoch 7 (test) loss: 9118.928741\n",
      "INFO | epoch 8 (  0%) loss: 9548.783203\n",
      "INFO | epoch 8 ( 35%) loss: 9152.980527\n",
      "INFO | epoch 8 ( 70%) loss: 9075.224175\n",
      "INFO | epoch 8 (100%) loss: 9017.774533\n",
      "INFO | epoch 8 (test) loss: 8725.387615\n",
      "INFO | epoch 9 (  0%) loss: 8574.556641\n",
      "INFO | epoch 9 ( 35%) loss: 8791.288439\n",
      "INFO | epoch 9 ( 70%) loss: 8715.977862\n",
      "INFO | epoch 9 (100%) loss: 8631.130575\n",
      "INFO | epoch 9 (test) loss: 8170.964226\n",
      "INFO | epoch 10 (  0%) loss: 8194.153320\n",
      "INFO | epoch 10 ( 35%) loss: 8181.579372\n",
      "INFO | epoch 10 ( 70%) loss: 7933.657708\n",
      "INFO | epoch 10 (100%) loss: 7726.208230\n",
      "INFO | epoch 10 (test) loss: 7005.164768\n",
      "INFO | epoch 11 (  0%) loss: 7142.008789\n",
      "INFO | epoch 11 ( 35%) loss: 6933.703096\n",
      "INFO | epoch 11 ( 70%) loss: 6740.247291\n",
      "INFO | epoch 11 (100%) loss: 6600.191117\n",
      "INFO | epoch 11 (test) loss: 6048.384838\n",
      "INFO | epoch 12 (  0%) loss: 6830.671387\n",
      "INFO | epoch 12 ( 35%) loss: 6011.165319\n",
      "INFO | epoch 12 ( 70%) loss: 5918.926607\n",
      "INFO | epoch 12 (100%) loss: 5804.299326\n",
      "INFO | epoch 12 (test) loss: 5424.441635\n",
      "INFO | epoch 13 (  0%) loss: 5327.593262\n",
      "INFO | epoch 13 ( 35%) loss: 5433.940343\n",
      "INFO | epoch 13 ( 70%) loss: 5307.998613\n",
      "INFO | epoch 13 (100%) loss: 5220.344547\n",
      "INFO | epoch 13 (test) loss: 4821.918690\n",
      "INFO | epoch 14 (  0%) loss: 4338.987305\n",
      "INFO | epoch 14 ( 35%) loss: 4831.636893\n",
      "INFO | epoch 14 ( 70%) loss: 4755.021616\n",
      "INFO | epoch 14 (100%) loss: 4657.056971\n",
      "INFO | epoch 14 (test) loss: 4190.395153\n",
      "INFO | epoch 15 (  0%) loss: 4112.315918\n",
      "INFO | epoch 15 ( 35%) loss: 4267.988129\n",
      "INFO | epoch 15 ( 70%) loss: 4161.600049\n",
      "INFO | epoch 15 (100%) loss: 4083.018158\n",
      "INFO | epoch 15 (test) loss: 3720.223080\n",
      "INFO | epoch 16 (  0%) loss: 3100.393799\n",
      "INFO | epoch 16 ( 35%) loss: 3766.022659\n",
      "INFO | epoch 16 ( 70%) loss: 3682.615718\n",
      "INFO | epoch 16 (100%) loss: 3614.384502\n",
      "INFO | epoch 16 (test) loss: 3285.094469\n",
      "INFO | epoch 17 (  0%) loss: 3567.601807\n",
      "INFO | epoch 17 ( 35%) loss: 3333.295241\n",
      "INFO | epoch 17 ( 70%) loss: 3299.077312\n",
      "INFO | epoch 17 (100%) loss: 3240.112328\n",
      "INFO | epoch 17 (test) loss: 2958.190662\n",
      "INFO | epoch 18 (  0%) loss: 2911.560547\n",
      "INFO | epoch 18 ( 35%) loss: 3004.278526\n",
      "INFO | epoch 18 ( 70%) loss: 2949.617690\n",
      "INFO | epoch 18 (100%) loss: 2901.565355\n",
      "INFO | epoch 18 (test) loss: 2703.374800\n",
      "INFO | epoch 19 (  0%) loss: 2803.573975\n",
      "INFO | epoch 19 ( 35%) loss: 2710.611055\n",
      "INFO | epoch 19 ( 70%) loss: 2666.335311\n",
      "INFO | epoch 19 (100%) loss: 2624.146039\n",
      "INFO | epoch 19 (test) loss: 2383.458006\n",
      "INFO | epoch 20 (  0%) loss: 2153.345703\n",
      "INFO | epoch 20 ( 35%) loss: 2382.345816\n",
      "INFO | epoch 20 ( 70%) loss: 2345.608871\n",
      "INFO | epoch 20 (100%) loss: 2325.922932\n",
      "INFO | epoch 20 (test) loss: 2157.000683\n",
      "INFO | epoch 21 (  0%) loss: 1862.597046\n",
      "INFO | epoch 21 ( 35%) loss: 2131.852231\n",
      "INFO | epoch 21 ( 70%) loss: 2098.383714\n",
      "INFO | epoch 21 (100%) loss: 2059.570679\n",
      "INFO | epoch 21 (test) loss: 1899.526346\n",
      "INFO | epoch 22 (  0%) loss: 1703.308594\n",
      "INFO | epoch 22 ( 35%) loss: 1881.223240\n",
      "INFO | epoch 22 ( 70%) loss: 1858.638136\n",
      "INFO | epoch 22 (100%) loss: 1836.720278\n",
      "INFO | epoch 22 (test) loss: 1710.061032\n",
      "INFO | epoch 23 (  0%) loss: 1916.642822\n",
      "INFO | epoch 23 ( 35%) loss: 1706.065871\n",
      "INFO | epoch 23 ( 70%) loss: 1707.138738\n",
      "INFO | epoch 23 (100%) loss: 1674.147783\n",
      "INFO | epoch 23 (test) loss: 1594.366585\n",
      "INFO | epoch 24 (  0%) loss: 1520.897095\n",
      "INFO | epoch 24 ( 35%) loss: 1520.024827\n",
      "INFO | epoch 24 ( 70%) loss: 1507.063297\n",
      "INFO | epoch 24 (100%) loss: 1484.403279\n",
      "INFO | epoch 24 (test) loss: 1422.071381\n",
      "INFO | epoch 25 (  0%) loss: 1459.372559\n",
      "INFO | epoch 25 ( 35%) loss: 1401.920046\n",
      "INFO | epoch 25 ( 70%) loss: 1375.029695\n",
      "INFO | epoch 25 (100%) loss: 1361.430252\n",
      "INFO | epoch 25 (test) loss: 1331.200106\n",
      "INFO | epoch 26 (  0%) loss: 1254.322388\n",
      "INFO | epoch 26 ( 35%) loss: 1262.761559\n",
      "INFO | epoch 26 ( 70%) loss: 1253.012518\n",
      "INFO | epoch 26 (100%) loss: 1237.412423\n",
      "INFO | epoch 26 (test) loss: 1240.796654\n",
      "INFO | epoch 27 (  0%) loss: 1139.271484\n",
      "INFO | epoch 27 ( 35%) loss: 1147.494309\n",
      "INFO | epoch 27 ( 70%) loss: 1139.690446\n",
      "INFO | epoch 27 (100%) loss: 1123.410379\n",
      "INFO | epoch 27 (test) loss: 1157.701841\n",
      "INFO | epoch 28 (  0%) loss: 1000.067932\n",
      "INFO | epoch 28 ( 35%) loss: 1070.047457\n",
      "INFO | epoch 28 ( 70%) loss: 1059.696016\n",
      "INFO | epoch 28 (100%) loss: 1046.389656\n",
      "INFO | epoch 28 (test) loss: 1074.886754\n",
      "INFO | epoch 29 (  0%) loss: 1063.481445\n",
      "INFO | epoch 29 ( 35%) loss: 962.788458\n",
      "INFO | epoch 29 ( 70%) loss: 963.336694\n",
      "INFO | epoch 29 (100%) loss: 954.612798\n",
      "INFO | epoch 29 (test) loss: 992.169963\n",
      "INFO | epoch 30 (  0%) loss: 956.468750\n",
      "INFO | epoch 30 ( 35%) loss: 889.922601\n",
      "INFO | epoch 30 ( 70%) loss: 877.243893\n",
      "INFO | epoch 30 (100%) loss: 869.755130\n",
      "INFO | epoch 30 (test) loss: 907.147220\n",
      "INFO | epoch 31 (  0%) loss: 812.599243\n",
      "INFO | epoch 31 ( 35%) loss: 826.604822\n",
      "INFO | epoch 31 ( 70%) loss: 822.895671\n",
      "INFO | epoch 31 (100%) loss: 811.536114\n",
      "INFO | epoch 31 (test) loss: 857.800843\n",
      "INFO | epoch 32 (  0%) loss: 760.481323\n",
      "INFO | epoch 32 ( 35%) loss: 748.917892\n",
      "INFO | epoch 32 ( 70%) loss: 738.108244\n",
      "INFO | epoch 32 (100%) loss: 729.291030\n",
      "INFO | epoch 32 (test) loss: 795.057493\n",
      "INFO | epoch 33 (  0%) loss: 625.461304\n",
      "INFO | epoch 33 ( 35%) loss: 677.995295\n",
      "INFO | epoch 33 ( 70%) loss: 674.814822\n",
      "INFO | epoch 33 (100%) loss: 675.568121\n",
      "INFO | epoch 33 (test) loss: 767.456862\n",
      "INFO | epoch 34 (  0%) loss: 687.284729\n",
      "INFO | epoch 34 ( 35%) loss: 674.909027\n",
      "INFO | epoch 34 ( 70%) loss: 654.972706\n",
      "INFO | epoch 34 (100%) loss: 638.287897\n",
      "INFO | epoch 34 (test) loss: 670.661122\n",
      "INFO | epoch 35 (  0%) loss: 606.744385\n",
      "INFO | epoch 35 ( 35%) loss: 575.211113\n",
      "INFO | epoch 35 ( 70%) loss: 585.386367\n",
      "INFO | epoch 35 (100%) loss: 580.171013\n",
      "INFO | epoch 35 (test) loss: 637.549601\n",
      "INFO | epoch 36 (  0%) loss: 629.574890\n",
      "INFO | epoch 36 ( 35%) loss: 557.244791\n",
      "INFO | epoch 36 ( 70%) loss: 555.558649\n",
      "INFO | epoch 36 (100%) loss: 548.219218\n",
      "INFO | epoch 36 (test) loss: 603.337631\n",
      "INFO | epoch 37 (  0%) loss: 478.806641\n",
      "INFO | epoch 37 ( 35%) loss: 504.412323\n",
      "INFO | epoch 37 ( 70%) loss: 505.711864\n",
      "INFO | epoch 37 (100%) loss: 508.164620\n",
      "INFO | epoch 37 (test) loss: 596.471814\n",
      "INFO | epoch 38 (  0%) loss: 466.213043\n",
      "INFO | epoch 38 ( 35%) loss: 485.524195\n",
      "INFO | epoch 38 ( 70%) loss: 489.665717\n",
      "INFO | epoch 38 (100%) loss: 477.712813\n",
      "INFO | epoch 38 (test) loss: 533.815420\n",
      "INFO | epoch 39 (  0%) loss: 382.447510\n",
      "INFO | epoch 39 ( 35%) loss: 440.846630\n",
      "INFO | epoch 39 ( 70%) loss: 435.666735\n",
      "INFO | epoch 39 (100%) loss: 431.610706\n",
      "INFO | epoch 39 (test) loss: 508.732305\n",
      "INFO | epoch 40 (  0%) loss: 410.924561\n",
      "INFO | epoch 40 ( 35%) loss: 409.432149\n",
      "INFO | epoch 40 ( 70%) loss: 407.274257\n",
      "INFO | epoch 40 (100%) loss: 402.854984\n",
      "INFO | epoch 40 (test) loss: 446.947064\n",
      "INFO | epoch 41 (  0%) loss: 397.842957\n",
      "INFO | epoch 41 ( 35%) loss: 375.967817\n",
      "INFO | epoch 41 ( 70%) loss: 372.095979\n",
      "INFO | epoch 41 (100%) loss: 373.823165\n",
      "INFO | epoch 41 (test) loss: 448.201968\n",
      "INFO | epoch 42 (  0%) loss: 437.194916\n",
      "INFO | epoch 42 ( 35%) loss: 379.820484\n",
      "INFO | epoch 42 ( 70%) loss: 369.796447\n",
      "INFO | epoch 42 (100%) loss: 364.083393\n",
      "INFO | epoch 42 (test) loss: 414.242637\n",
      "INFO | epoch 43 (  0%) loss: 346.781067\n",
      "INFO | epoch 43 ( 35%) loss: 330.710379\n",
      "INFO | epoch 43 ( 70%) loss: 331.364750\n",
      "INFO | epoch 43 (100%) loss: 344.351258\n",
      "INFO | epoch 43 (test) loss: 457.001387\n",
      "INFO | epoch 44 (  0%) loss: 311.488251\n",
      "INFO | epoch 44 ( 35%) loss: 337.059692\n",
      "INFO | epoch 44 ( 70%) loss: 374.315165\n",
      "INFO | epoch 44 (100%) loss: 379.800330\n",
      "INFO | epoch 44 (test) loss: 412.440963\n",
      "INFO | epoch 45 (  0%) loss: 302.687744\n",
      "INFO | epoch 45 ( 35%) loss: 355.851597\n",
      "INFO | epoch 45 ( 70%) loss: 352.225682\n",
      "INFO | epoch 45 (100%) loss: 337.899366\n",
      "INFO | epoch 45 (test) loss: 380.886229\n",
      "INFO | epoch 46 (  0%) loss: 327.723907\n",
      "INFO | epoch 46 ( 35%) loss: 285.938289\n",
      "INFO | epoch 46 ( 70%) loss: 289.584123\n",
      "INFO | epoch 46 (100%) loss: 296.310273\n",
      "INFO | epoch 46 (test) loss: 489.300241\n",
      "INFO | epoch 47 (  0%) loss: 410.508362\n",
      "INFO | epoch 47 ( 35%) loss: 312.088402\n",
      "INFO | epoch 47 ( 70%) loss: 293.947879\n",
      "INFO | epoch 47 (100%) loss: 287.281642\n",
      "INFO | epoch 47 (test) loss: 336.888661\n",
      "INFO | epoch 48 (  0%) loss: 322.537811\n",
      "INFO | epoch 48 ( 35%) loss: 255.423993\n",
      "INFO | epoch 48 ( 70%) loss: 253.283199\n",
      "INFO | epoch 48 (100%) loss: 253.270398\n",
      "INFO | epoch 48 (test) loss: 311.696913\n",
      "INFO | epoch 49 (  0%) loss: 229.307999\n",
      "INFO | epoch 49 ( 35%) loss: 251.983548\n",
      "INFO | epoch 49 ( 70%) loss: 257.109513\n",
      "INFO | epoch 49 (100%) loss: 253.610413\n",
      "INFO | epoch 49 (test) loss: 300.304478\n",
      "INFO | epoch 50 (  0%) loss: 232.249512\n",
      "INFO | epoch 50 ( 35%) loss: 245.557051\n",
      "INFO | epoch 50 ( 70%) loss: 258.118448\n",
      "INFO | epoch 50 (100%) loss: 270.159137\n",
      "INFO | epoch 50 (test) loss: 318.765559\n",
      "INFO | model blob saved to /home/jmsdnns/ML/pallets/saved/gsvae.labeled.pkl\n",
      "INFO | training losses saved to /home/jmsdnns/ML/pallets/saved/gsvae.labeled.json\n"
     ]
    }
   ],
   "source": [
    "model = M.gumbel.LabeledGSVAE(\n",
    "    input_dim, hidden_dim, latent_dim, classes_dim, TEMPERATURE\n",
    ")\n",
    "criterion = M.gumbel.Loss()\n",
    "\n",
    "train_losses, test_losses = M.gumbel.train(\n",
    "    device, model, criterion, train_loader, test_loader,\n",
    "    learn_rate=LR, epochs=EPOCHS, with_labels=True\n",
    ")\n",
    "\n",
    "M.save(SAVE_NAME, model, train_losses, test_losses)\n"
   ]
  },
  {
   "cell_type": "markdown",
   "metadata": {},
   "source": [
    "# Results"
   ]
  },
  {
   "cell_type": "markdown",
   "metadata": {},
   "source": [
    "## Random Inputs"
   ]
  },
  {
   "cell_type": "code",
   "execution_count": 10,
   "metadata": {},
   "outputs": [],
   "source": [
    "import random\n",
    "\n",
    "def rand_label():\n",
    "    label_idx = int(random.random() * len(dataset._labels))\n",
    "    features = dataset._labels[label_idx]\n",
    "    enabled_names = [k for k,v in zip(dataset._label_keys, features) if v.item() == 1]\n",
    "    return features.to(device), enabled_names\n"
   ]
  },
  {
   "cell_type": "code",
   "execution_count": 11,
   "metadata": {},
   "outputs": [],
   "source": [
    "def rand_punk():\n",
    "    z = torch.randn(1, latent_dim*classes_dim).to(device)\n",
    "    # print(z.shape)\n",
    "\n",
    "    with torch.no_grad():\n",
    "        model.eval()\n",
    "        generated_image = model.decoder(z)\n",
    "        # print(generated_image.shape)\n",
    "\n",
    "    decoded_one_hot = generated_image[0].view((222, 24, 24))\n",
    "    # print(decoded_one_hot.shape)\n",
    "\n",
    "    decoded = DS.one_hot_to_rgba(decoded_one_hot, dataset.mapper)\n",
    "    # print(decoded.shape)\n",
    "    return decoded\n",
    "\n"
   ]
  },
  {
   "cell_type": "markdown",
   "metadata": {},
   "source": [
    "### 5 Randoms"
   ]
  },
  {
   "cell_type": "code",
   "execution_count": 12,
   "metadata": {},
   "outputs": [
    {
     "data": {
      "image/png": "[encoded data removed]",
      "text/plain": [
       "<Figure size 640x480 with 1 Axes>"
      ]
     },
     "metadata": {},
     "output_type": "display_data"
    }
   ],
   "source": [
    "decoded = rand_punk()\n",
    "plt.imshow(to_pil_image(decoded))\n",
    "plt.axis('off')\n",
    "plt.show()\n"
   ]
  },
  {
   "cell_type": "code",
   "execution_count": 13,
   "metadata": {},
   "outputs": [
    {
     "data": {
      "image/png": "[encoded data removed]",
      "text/plain": [
       "<Figure size 640x480 with 1 Axes>"
      ]
     },
     "metadata": {},
     "output_type": "display_data"
    }
   ],
   "source": [
    "decoded = rand_punk()\n",
    "plt.imshow(to_pil_image(decoded))\n",
    "plt.axis('off')\n",
    "plt.show()\n"
   ]
  },
  {
   "cell_type": "code",
   "execution_count": 14,
   "metadata": {},
   "outputs": [
    {
     "data": {
      "image/png": "[encoded data removed]",
      "text/plain": [
       "<Figure size 640x480 with 1 Axes>"
      ]
     },
     "metadata": {},
     "output_type": "display_data"
    }
   ],
   "source": [
    "decoded = rand_punk()\n",
    "plt.imshow(to_pil_image(decoded))\n",
    "plt.axis('off')\n",
    "plt.show()\n"
   ]
  },
  {
   "cell_type": "code",
   "execution_count": 15,
   "metadata": {},
   "outputs": [
    {
     "data": {
      "image/png": "[encoded data removed]",
      "text/plain": [
       "<Figure size 640x480 with 1 Axes>"
      ]
     },
     "metadata": {},
     "output_type": "display_data"
    }
   ],
   "source": [
    "decoded = rand_punk()\n",
    "plt.imshow(to_pil_image(decoded))\n",
    "plt.axis('off')\n",
    "plt.show()\n"
   ]
  },
  {
   "cell_type": "code",
   "execution_count": 16,
   "metadata": {},
   "outputs": [
    {
     "data": {
      "image/png": "[encoded data removed]",
      "text/plain": [
       "<Figure size 640x480 with 1 Axes>"
      ]
     },
     "metadata": {},
     "output_type": "display_data"
    }
   ],
   "source": [
    "decoded = rand_punk()\n",
    "plt.imshow(to_pil_image(decoded))\n",
    "plt.axis('off')\n",
    "plt.show()\n"
   ]
  },
  {
   "cell_type": "markdown",
   "metadata": {},
   "source": [
    "## Reconstruction"
   ]
  },
  {
   "cell_type": "code",
   "execution_count": 17,
   "metadata": {},
   "outputs": [],
   "source": [
    "def reconstruct_punk(idx):\n",
    "    punk = I.get_punk_tensor(idx)\n",
    "    p = DS.rgba_to_one_hot(punk, dataset.mapper)\n",
    "    p = p.unsqueeze(0)\n",
    "    p = p.to(device)\n",
    "\n",
    "    _, labels = dataset[idx]\n",
    "    l = labels.unsqueeze(0)\n",
    "    l = l.to(device)\n",
    "    enabled_features = [k for k,v in zip(dataset._label_keys, labels) if v.item() == 1]\n",
    "\n",
    "    model.eval()\n",
    "    with torch.no_grad():\n",
    "        reconstructed, x_y = model.forward(p, l)\n",
    "\n",
    "    recon_punk = reconstructed[0].cpu()\n",
    "    recon_punk = recon_punk.view((222, 24, 24))\n",
    "    recon_punk = DS.one_hot_to_rgba(recon_punk, dataset.mapper)\n",
    "\n",
    "    return punk, recon_punk, enabled_features\n",
    "\n",
    "\n",
    "def draw_two(img1, img2):\n",
    "    page_size = 2\n",
    "    view_x, view_y = 4*page_size, 2*page_size\n",
    "    fig = plt.figure(figsize=(view_x, view_y))\n",
    "    fig.add_subplot(1, 2, 1)\n",
    "    plt.imshow(to_pil_image(img1))\n",
    "    plt.axis('off')\n",
    "    fig.add_subplot(1, 2, 2)\n",
    "    plt.imshow(to_pil_image(img2))\n",
    "    plt.axis('off')\n",
    "    plt.show()\n"
   ]
  },
  {
   "cell_type": "markdown",
   "metadata": {},
   "source": [
    "### 5 Reconstructions"
   ]
  },
  {
   "cell_type": "code",
   "execution_count": 18,
   "metadata": {},
   "outputs": [
    {
     "name": "stdout",
     "output_type": "stream",
     "text": [
      "Features: female, rosyCheeks, darkHair, cigarette\n"
     ]
    },
    {
     "data": {
      "image/png": "[encoded data removed]",
      "text/plain": [
       "<Figure size 800x400 with 2 Axes>"
      ]
     },
     "metadata": {},
     "output_type": "display_data"
    }
   ],
   "source": [
    "punk, recon_punk, features = reconstruct_punk(1000)\n",
    "\n",
    "print(f\"Features: {', '.join(features)}\")\n",
    "draw_two(punk, recon_punk)"
   ]
  },
  {
   "cell_type": "code",
   "execution_count": 19,
   "metadata": {},
   "outputs": [
    {
     "name": "stdout",
     "output_type": "stream",
     "text": [
      "Features: female, stringyHair, purpleLipstick, earring\n"
     ]
    },
    {
     "data": {
      "image/png": "[encoded data removed]",
      "text/plain": [
       "<Figure size 800x400 with 2 Axes>"
      ]
     },
     "metadata": {},
     "output_type": "display_data"
    }
   ],
   "source": [
    "punk, recon_punk, features = reconstruct_punk(2001)\n",
    "\n",
    "print(f\"Features: {', '.join(features)}\")\n",
    "draw_two(punk, recon_punk)\n"
   ]
  },
  {
   "cell_type": "code",
   "execution_count": 20,
   "metadata": {},
   "outputs": [
    {
     "name": "stdout",
     "output_type": "stream",
     "text": [
      "Features: female, wildWhiteHair, greenEyeShadow, hotLipstick\n"
     ]
    },
    {
     "data": {
      "image/png": "[encoded data removed]",
      "text/plain": [
       "<Figure size 800x400 with 2 Axes>"
      ]
     },
     "metadata": {},
     "output_type": "display_data"
    }
   ],
   "source": [
    "punk, recon_punk, features = reconstruct_punk(5000)\n",
    "\n",
    "print(f\"Features: {', '.join(features)}\")\n",
    "draw_two(punk, recon_punk)"
   ]
  },
  {
   "cell_type": "code",
   "execution_count": 21,
   "metadata": {},
   "outputs": [
    {
     "name": "stdout",
     "output_type": "stream",
     "text": [
      "Features: male, rosyCheeks, mustache, vr, cap, cigarette\n"
     ]
    },
    {
     "data": {
      "image/png": "[encoded data removed]",
      "text/plain": [
       "<Figure size 800x400 with 2 Axes>"
      ]
     },
     "metadata": {},
     "output_type": "display_data"
    }
   ],
   "source": [
    "punk, recon_punk, features = reconstruct_punk(8000)\n",
    "\n",
    "print(f\"Features: {', '.join(features)}\")\n",
    "draw_two(punk, recon_punk)"
   ]
  },
  {
   "cell_type": "code",
   "execution_count": 22,
   "metadata": {},
   "outputs": [
    {
     "name": "stdout",
     "output_type": "stream",
     "text": [
      "Features: male, handlebars, bandana\n"
     ]
    },
    {
     "data": {
      "image/png": "[encoded data removed]",
      "text/plain": [
       "<Figure size 800x400 with 2 Axes>"
      ]
     },
     "metadata": {},
     "output_type": "display_data"
    }
   ],
   "source": [
    "punk, recon_punk, features = reconstruct_punk(1337)\n",
    "\n",
    "print(f\"Features: {', '.join(features)}\")\n",
    "draw_two(punk, recon_punk)"
   ]
  },
  {
   "cell_type": "markdown",
   "metadata": {},
   "source": [
    "## Losses"
   ]
  },
  {
   "cell_type": "code",
   "execution_count": 23,
   "metadata": {},
   "outputs": [
    {
     "data": {
      "text/plain": [
       "<function matplotlib.pyplot.show(close=None, block=None)>"
      ]
     },
     "execution_count": 23,
     "metadata": {},
     "output_type": "execute_result"
    },
    {
     "data": {
      "image/png": "[encoded data removed]",
      "text/plain": [
       "<Figure size 640x480 with 1 Axes>"
      ]
     },
     "metadata": {},
     "output_type": "display_data"
    }
   ],
   "source": [
    "plt.title(\"Train & Test loss\")\n",
    "plt.plot(train_losses, label='train loss')\n",
    "plt.plot(test_losses, label='test loss')\n",
    "plt.legend()\n",
    "plt.show\n"
   ]
  },
  {
   "cell_type": "code",
   "execution_count": 24,
   "metadata": {},
   "outputs": [
    {
     "data": {
      "text/plain": [
       "[199959.2748625194,\n",
       " 22504.58289353391,\n",
       " 22316.14645320811,\n",
       " 22141.789611383534,\n",
       " 21661.600646539784,\n",
       " 19863.291571434507,\n",
       " 18957.053891012856,\n",
       " 18035.54906533965,\n",
       " 17262.261149954287,\n",
       " 15452.416459753158,\n",
       " 13200.382234181072,\n",
       " 11608.598651858932,\n",
       " 10440.689094705785,\n",
       " 9314.113941814883,\n",
       " 8166.036316350842,\n",
       " 7228.769003577267,\n",
       " 6480.224655692459,\n",
       " 5803.130710466534,\n",
       " 5248.2920774635695,\n",
       " 4651.845864153923,\n",
       " 4119.141358287622,\n",
       " 3673.4405550043634,\n",
       " 3348.2955657742546,\n",
       " 2968.806557513298,\n",
       " 2722.860504366827,\n",
       " 2474.824845983627,\n",
       " 2246.8207583596522,\n",
       " 2092.779311809134,\n",
       " 1909.2255963264627,\n",
       " 1739.510260724007,\n",
       " 1623.0722281814467,\n",
       " 1458.5820598196476,\n",
       " 1351.136242697425,\n",
       " 1276.575794734008,\n",
       " 1160.3420262438185,\n",
       " 1096.4384358723958,\n",
       " 1016.3292398114577,\n",
       " 955.4256267141789,\n",
       " 863.2214119011629,\n",
       " 805.7099677552568,\n",
       " 747.6463303802707,\n",
       " 728.1667864102844,\n",
       " 688.7025161634946,\n",
       " 759.6006595259862,\n",
       " 675.7987315401118,\n",
       " 592.6205452993406,\n",
       " 574.5632843666888,\n",
       " 506.54079523830546,\n",
       " 507.2208254658584,\n",
       " 540.3182739366031]"
      ]
     },
     "execution_count": 24,
     "metadata": {},
     "output_type": "execute_result"
    }
   ],
   "source": [
    "train_losses"
   ]
  },
  {
   "cell_type": "code",
   "execution_count": 25,
   "metadata": {},
   "outputs": [
    {
     "data": {
      "text/plain": [
       "[22313.24005126953,\n",
       " 22095.577575683594,\n",
       " 21977.916229248047,\n",
       " 21634.79425048828,\n",
       " 20465.92527770996,\n",
       " 19069.879272460938,\n",
       " 18237.857482910156,\n",
       " 17450.775230407715,\n",
       " 16341.928451538086,\n",
       " 14010.329536437988,\n",
       " 12096.769676208496,\n",
       " 10848.883270263672,\n",
       " 9643.837379455566,\n",
       " 8380.790306091309,\n",
       " 7440.446159362793,\n",
       " 6570.188938140869,\n",
       " 5916.381324768066,\n",
       " 5406.749599456787,\n",
       " 4766.916011810303,\n",
       " 4314.001365661621,\n",
       " 3799.05269241333,\n",
       " 3420.122064590454,\n",
       " 3188.733169555664,\n",
       " 2844.1427612304688,\n",
       " 2662.4002113342285,\n",
       " 2481.593307495117,\n",
       " 2315.4036827087402,\n",
       " 2149.7735080718994,\n",
       " 1984.3399257659912,\n",
       " 1814.294439315796,\n",
       " 1715.6016855239868,\n",
       " 1590.1149854660034,\n",
       " 1534.913724899292,\n",
       " 1341.322244644165,\n",
       " 1275.099202156067,\n",
       " 1206.6752610206604,\n",
       " 1192.9436283111572,\n",
       " 1067.6308403015137,\n",
       " 1017.4646096229553,\n",
       " 893.8941287994385,\n",
       " 896.4039359092712,\n",
       " 828.4852743148804,\n",
       " 914.0027747154236,\n",
       " 824.8819265365601,\n",
       " 761.7724571228027,\n",
       " 978.6004819869995,\n",
       " 673.7773218154907,\n",
       " 623.3938264846802,\n",
       " 600.6089553833008,\n",
       " 637.5311179161072]"
      ]
     },
     "execution_count": 25,
     "metadata": {},
     "output_type": "execute_result"
    }
   ],
   "source": [
    "test_losses"
   ]
  },
  {
   "cell_type": "code",
   "execution_count": null,
   "metadata": {},
   "outputs": [],
   "source": []
  }
 ],
 "metadata": {
  "kernelspec": {
   "display_name": "pallets",
   "language": "python",
   "name": "python3"
  },
  "language_info": {
   "codemirror_mode": {
    "name": "ipython",
    "version": 3
   },
   "file_extension": ".py",
   "mimetype": "text/x-python",
   "name": "python",
   "nbconvert_exporter": "python",
   "pygments_lexer": "ipython3",
   "version": "3.11.6"
  }
 },
 "nbformat": 4,
 "nbformat_minor": 2
}
