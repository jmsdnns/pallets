{
 "cells": [
  {
   "cell_type": "markdown",
   "metadata": {},
   "source": [
    "# Gumbel Softmax VAE"
   ]
  },
  {
   "cell_type": "markdown",
   "metadata": {},
   "source": [
    "This notebook is intended for loading and exploring arbitrary pre-trained models"
   ]
  },
  {
   "cell_type": "code",
   "execution_count": 1,
   "metadata": {},
   "outputs": [],
   "source": [
    "import torch\n",
    "from torch.utils.data import DataLoader, SubsetRandomSampler\n",
    "import torch.nn.functional as F\n",
    "from torchvision.transforms.functional import to_pil_image\n",
    "import matplotlib.pyplot as plt\n",
    "%matplotlib inline"
   ]
  },
  {
   "cell_type": "code",
   "execution_count": 2,
   "metadata": {},
   "outputs": [],
   "source": [
    "# Load pallets library from project root\n",
    "import sys, os\n",
    "sys.path.append(os.path.abspath(os.path.join(os.getcwd(), '..', '..')))\n",
    "\n",
    "from pallets import (\n",
    "    images as I,\n",
    "    datasets as DS,\n",
    "    models as M,\n",
    "    logging as L\n",
    ")\n"
   ]
  },
  {
   "cell_type": "markdown",
   "metadata": {},
   "source": [
    "# Settings"
   ]
  },
  {
   "cell_type": "code",
   "execution_count": 3,
   "metadata": {},
   "outputs": [],
   "source": [
    "SAVE_NAME = 'gsvae'"
   ]
  },
  {
   "cell_type": "code",
   "execution_count": 4,
   "metadata": {},
   "outputs": [],
   "source": [
    "USE_GPU = True\n",
    "LOG_LEVEL = 'INFO'\n",
    "LABELS_FILE = 'pallets_labels.json'\n",
    "\n",
    "\n",
    "TEST_SIZE = 1000\n",
    "EPOCHS = 50\n",
    "LR = 1e-03\n",
    "BATCH_SIZE = 32\n",
    "\n",
    "TEMPERATURE = 1\n"
   ]
  },
  {
   "cell_type": "code",
   "execution_count": 5,
   "metadata": {},
   "outputs": [
    {
     "data": {
      "text/plain": [
       "<Logger pallets (INFO)>"
      ]
     },
     "execution_count": 5,
     "metadata": {},
     "output_type": "execute_result"
    }
   ],
   "source": [
    "# To GPU, or not to GPU\n",
    "device = M.get_device(require_gpu=USE_GPU)\n",
    "\n",
    "# Logging\n",
    "L.init_logger(level=LOG_LEVEL, notebook=True)\n"
   ]
  },
  {
   "cell_type": "markdown",
   "metadata": {},
   "source": [
    "# Dataset"
   ]
  },
  {
   "cell_type": "code",
   "execution_count": 6,
   "metadata": {},
   "outputs": [],
   "source": [
    "all_colors = I.get_punk_colors()\n",
    "mapper = DS.ColorOneHotMapper(all_colors)\n",
    "dataset = DS.OneHotCPunksDataset(\n",
    "    mapper, labels_file=LABELS_FILE, test_size=TEST_SIZE\n",
    ")\n",
    "\n",
    "# Uncomment to put entire dataset in GPU RAM\n",
    "# dataset = DS.FastOneHotCPunksDataset(\n",
    "#     device, mapper, labels_file=LABELS_FILE, test_size=TEST_SIZE\n",
    "# )"
   ]
  },
  {
   "cell_type": "code",
   "execution_count": 7,
   "metadata": {},
   "outputs": [],
   "source": [
    "train_sampler = SubsetRandomSampler(dataset.train_idx)\n",
    "test_sampler = SubsetRandomSampler(dataset.test_idx)\n",
    "\n",
    "train_loader = DataLoader(dataset, batch_size=BATCH_SIZE, sampler=train_sampler)\n",
    "test_loader = DataLoader(dataset, batch_size=BATCH_SIZE, sampler=test_sampler)"
   ]
  },
  {
   "cell_type": "markdown",
   "metadata": {},
   "source": [
    "# Training"
   ]
  },
  {
   "cell_type": "code",
   "execution_count": 8,
   "metadata": {},
   "outputs": [],
   "source": [
    "input_dim = 222 * 24 * 24\n",
    "hidden_dim = 128\n",
    "latent_dims = 32\n",
    "classes_dim = len(dataset._label_keys)  # 92\n"
   ]
  },
  {
   "cell_type": "code",
   "execution_count": 9,
   "metadata": {},
   "outputs": [
    {
     "name": "stdout",
     "output_type": "stream",
     "text": [
      "INFO | model: pallets.models.gumbel.GSVAE\n",
      "INFO | criterion: pallets.models.gumbel.Loss\n",
      "INFO | learn rate: 0.001\n",
      "INFO | epochs: 50\n",
      "INFO | epoch 1 (  0%) loss: 1418777.250000\n",
      "INFO | epoch 1 ( 35%) loss: 259083.521765\n",
      "INFO | epoch 1 ( 70%) loss: 135991.394458\n",
      "INFO | epoch 1 (100%) loss: 100175.826082\n",
      "INFO | epoch 1 (test) loss: 11014.241844\n",
      "INFO | epoch 2 (  0%) loss: 11085.201172\n",
      "INFO | epoch 2 ( 35%) loss: 11335.235168\n",
      "INFO | epoch 2 ( 70%) loss: 11315.260047\n",
      "INFO | epoch 2 (100%) loss: 11243.708569\n",
      "INFO | epoch 2 (test) loss: 10860.804543\n",
      "INFO | epoch 3 (  0%) loss: 11295.286133\n",
      "INFO | epoch 3 ( 35%) loss: 11169.466787\n",
      "INFO | epoch 3 ( 70%) loss: 11190.697819\n",
      "INFO | epoch 3 (100%) loss: 11161.614564\n",
      "INFO | epoch 3 (test) loss: 10827.099236\n",
      "INFO | epoch 4 (  0%) loss: 11502.915039\n",
      "INFO | epoch 4 ( 35%) loss: 11257.838887\n",
      "INFO | epoch 4 ( 70%) loss: 11149.786167\n",
      "INFO | epoch 4 (100%) loss: 11095.192729\n",
      "INFO | epoch 4 (test) loss: 10807.785820\n",
      "INFO | epoch 5 (  0%) loss: 11109.417969\n",
      "INFO | epoch 5 ( 35%) loss: 11044.341836\n",
      "INFO | epoch 5 ( 70%) loss: 11045.101669\n",
      "INFO | epoch 5 (100%) loss: 10995.113944\n",
      "INFO | epoch 5 (test) loss: 10658.725418\n",
      "INFO | epoch 6 (  0%) loss: 11412.000977\n",
      "INFO | epoch 6 ( 35%) loss: 10987.101746\n",
      "INFO | epoch 6 ( 70%) loss: 10903.191047\n",
      "INFO | epoch 6 (100%) loss: 10776.396905\n",
      "INFO | epoch 6 (test) loss: 10155.569160\n",
      "INFO | epoch 7 (  0%) loss: 10923.096680\n",
      "INFO | epoch 7 ( 35%) loss: 10352.523128\n",
      "INFO | epoch 7 ( 70%) loss: 10186.358219\n",
      "INFO | epoch 7 (100%) loss: 10093.251841\n",
      "INFO | epoch 7 (test) loss: 9566.647240\n",
      "INFO | epoch 8 (  0%) loss: 9504.672852\n",
      "INFO | epoch 8 ( 35%) loss: 9891.587011\n",
      "INFO | epoch 8 ( 70%) loss: 9733.461122\n",
      "INFO | epoch 8 (100%) loss: 9664.224190\n",
      "INFO | epoch 8 (test) loss: 9208.093056\n",
      "INFO | epoch 9 (  0%) loss: 9618.790039\n",
      "INFO | epoch 9 ( 35%) loss: 9350.635965\n",
      "INFO | epoch 9 ( 70%) loss: 9190.805387\n",
      "INFO | epoch 9 (100%) loss: 9075.291595\n",
      "INFO | epoch 9 (test) loss: 8597.036072\n",
      "INFO | epoch 10 (  0%) loss: 8381.995117\n",
      "INFO | epoch 10 ( 35%) loss: 8808.875778\n",
      "INFO | epoch 10 ( 70%) loss: 8659.215228\n",
      "INFO | epoch 10 (100%) loss: 8536.008070\n",
      "INFO | epoch 10 (test) loss: 8065.653103\n",
      "INFO | epoch 11 (  0%) loss: 8615.347656\n",
      "INFO | epoch 11 ( 35%) loss: 8147.935629\n",
      "INFO | epoch 11 ( 70%) loss: 8029.660232\n",
      "INFO | epoch 11 (100%) loss: 7916.273091\n",
      "INFO | epoch 11 (test) loss: 7393.511436\n",
      "INFO | epoch 12 (  0%) loss: 7589.239258\n",
      "INFO | epoch 12 ( 35%) loss: 7290.329798\n",
      "INFO | epoch 12 ( 70%) loss: 7071.487817\n",
      "INFO | epoch 12 (100%) loss: 6899.580293\n",
      "INFO | epoch 12 (test) loss: 6144.520473\n",
      "INFO | epoch 13 (  0%) loss: 6832.296875\n",
      "INFO | epoch 13 ( 35%) loss: 6127.774322\n",
      "INFO | epoch 13 ( 70%) loss: 5943.394007\n",
      "INFO | epoch 13 (100%) loss: 5769.026904\n",
      "INFO | epoch 13 (test) loss: 5174.734138\n",
      "INFO | epoch 14 (  0%) loss: 5118.164551\n",
      "INFO | epoch 14 ( 35%) loss: 5207.588669\n",
      "INFO | epoch 14 ( 70%) loss: 5017.128343\n",
      "INFO | epoch 14 (100%) loss: 4892.221180\n",
      "INFO | epoch 14 (test) loss: 4491.827553\n",
      "INFO | epoch 15 (  0%) loss: 4662.037598\n",
      "INFO | epoch 15 ( 35%) loss: 4442.607881\n",
      "INFO | epoch 15 ( 70%) loss: 4377.086553\n",
      "INFO | epoch 15 (100%) loss: 4296.014051\n",
      "INFO | epoch 15 (test) loss: 3925.723186\n",
      "INFO | epoch 16 (  0%) loss: 3563.302979\n",
      "INFO | epoch 16 ( 35%) loss: 3925.852314\n",
      "INFO | epoch 16 ( 70%) loss: 3871.416169\n",
      "INFO | epoch 16 (100%) loss: 3826.952658\n",
      "INFO | epoch 16 (test) loss: 3521.658144\n",
      "INFO | epoch 17 (  0%) loss: 3679.368896\n",
      "INFO | epoch 17 ( 35%) loss: 3522.474092\n",
      "INFO | epoch 17 ( 70%) loss: 3479.038012\n",
      "INFO | epoch 17 (100%) loss: 3425.757239\n",
      "INFO | epoch 17 (test) loss: 3178.065445\n",
      "INFO | epoch 18 (  0%) loss: 3211.424805\n",
      "INFO | epoch 18 ( 35%) loss: 3179.794953\n",
      "INFO | epoch 18 ( 70%) loss: 3146.298852\n",
      "INFO | epoch 18 (100%) loss: 3086.221911\n",
      "INFO | epoch 18 (test) loss: 2884.718035\n",
      "INFO | epoch 19 (  0%) loss: 2851.715332\n",
      "INFO | epoch 19 ( 35%) loss: 2863.352152\n",
      "INFO | epoch 19 ( 70%) loss: 2816.306508\n",
      "INFO | epoch 19 (100%) loss: 2776.866901\n",
      "INFO | epoch 19 (test) loss: 2610.733505\n",
      "INFO | epoch 20 (  0%) loss: 3645.129639\n",
      "INFO | epoch 20 ( 35%) loss: 2580.793948\n",
      "INFO | epoch 20 ( 70%) loss: 2530.349906\n",
      "INFO | epoch 20 (100%) loss: 2506.134692\n",
      "INFO | epoch 20 (test) loss: 2334.345504\n",
      "INFO | epoch 21 (  0%) loss: 2217.827881\n",
      "INFO | epoch 21 ( 35%) loss: 2316.093948\n",
      "INFO | epoch 21 ( 70%) loss: 2286.954458\n",
      "INFO | epoch 21 (100%) loss: 2237.328685\n",
      "INFO | epoch 21 (test) loss: 2074.452179\n",
      "INFO | epoch 22 (  0%) loss: 2153.617920\n",
      "INFO | epoch 22 ( 35%) loss: 2071.563713\n",
      "INFO | epoch 22 ( 70%) loss: 2034.975441\n",
      "INFO | epoch 22 (100%) loss: 1999.010345\n",
      "INFO | epoch 22 (test) loss: 1886.643535\n",
      "INFO | epoch 23 (  0%) loss: 1703.075562\n",
      "INFO | epoch 23 ( 35%) loss: 1818.580936\n",
      "INFO | epoch 23 ( 70%) loss: 1817.760477\n",
      "INFO | epoch 23 (100%) loss: 1798.376094\n",
      "INFO | epoch 23 (test) loss: 1707.814716\n",
      "INFO | epoch 24 (  0%) loss: 1649.397461\n",
      "INFO | epoch 24 ( 35%) loss: 1682.584905\n",
      "INFO | epoch 24 ( 70%) loss: 1658.240459\n",
      "INFO | epoch 24 (100%) loss: 1642.647262\n",
      "INFO | epoch 24 (test) loss: 1531.452138\n",
      "INFO | epoch 25 (  0%) loss: 1410.928467\n",
      "INFO | epoch 25 ( 35%) loss: 1537.387658\n",
      "INFO | epoch 25 ( 70%) loss: 1519.572118\n",
      "INFO | epoch 25 (100%) loss: 1494.431005\n",
      "INFO | epoch 25 (test) loss: 1420.643966\n",
      "INFO | epoch 26 (  0%) loss: 1259.223267\n",
      "INFO | epoch 26 ( 35%) loss: 1384.381327\n",
      "INFO | epoch 26 ( 70%) loss: 1382.811049\n",
      "INFO | epoch 26 (100%) loss: 1376.043449\n",
      "INFO | epoch 26 (test) loss: 1314.154285\n",
      "INFO | epoch 27 (  0%) loss: 1303.806274\n",
      "INFO | epoch 27 ( 35%) loss: 1273.660000\n",
      "INFO | epoch 27 ( 70%) loss: 1268.567865\n",
      "INFO | epoch 27 (100%) loss: 1252.321488\n",
      "INFO | epoch 27 (test) loss: 1202.146570\n",
      "INFO | epoch 28 (  0%) loss: 1203.310181\n",
      "INFO | epoch 28 ( 35%) loss: 1154.015771\n",
      "INFO | epoch 28 ( 70%) loss: 1163.763226\n",
      "INFO | epoch 28 (100%) loss: 1152.806586\n",
      "INFO | epoch 28 (test) loss: 1151.496347\n",
      "INFO | epoch 29 (  0%) loss: 1039.079956\n",
      "INFO | epoch 29 ( 35%) loss: 1093.362056\n",
      "INFO | epoch 29 ( 70%) loss: 1069.364092\n",
      "INFO | epoch 29 (100%) loss: 1064.780985\n",
      "INFO | epoch 29 (test) loss: 1036.744416\n",
      "INFO | epoch 30 (  0%) loss: 1165.810059\n",
      "INFO | epoch 30 ( 35%) loss: 989.635233\n",
      "INFO | epoch 30 ( 70%) loss: 990.115194\n",
      "INFO | epoch 30 (100%) loss: 982.209450\n",
      "INFO | epoch 30 (test) loss: 984.410923\n",
      "INFO | epoch 31 (  0%) loss: 882.352356\n",
      "INFO | epoch 31 ( 35%) loss: 905.327843\n",
      "INFO | epoch 31 ( 70%) loss: 907.602205\n",
      "INFO | epoch 31 (100%) loss: 896.925025\n",
      "INFO | epoch 31 (test) loss: 906.903664\n",
      "INFO | epoch 32 (  0%) loss: 938.472778\n",
      "INFO | epoch 32 ( 35%) loss: 836.540787\n",
      "INFO | epoch 32 ( 70%) loss: 827.329560\n",
      "INFO | epoch 32 (100%) loss: 826.774191\n",
      "INFO | epoch 32 (test) loss: 836.228180\n",
      "INFO | epoch 33 (  0%) loss: 684.476135\n",
      "INFO | epoch 33 ( 35%) loss: 769.173779\n",
      "INFO | epoch 33 ( 70%) loss: 765.970394\n",
      "INFO | epoch 33 (100%) loss: 759.018143\n",
      "INFO | epoch 33 (test) loss: 802.524525\n",
      "INFO | epoch 34 (  0%) loss: 747.805115\n",
      "INFO | epoch 34 ( 35%) loss: 714.731433\n",
      "INFO | epoch 34 ( 70%) loss: 711.015476\n",
      "INFO | epoch 34 (100%) loss: 702.535390\n",
      "INFO | epoch 34 (test) loss: 728.005786\n",
      "INFO | epoch 35 (  0%) loss: 667.319397\n",
      "INFO | epoch 35 ( 35%) loss: 636.825374\n",
      "INFO | epoch 35 ( 70%) loss: 648.983499\n",
      "INFO | epoch 35 (100%) loss: 646.776375\n",
      "INFO | epoch 35 (test) loss: 674.922471\n",
      "INFO | epoch 36 (  0%) loss: 506.211121\n",
      "INFO | epoch 36 ( 35%) loss: 591.928563\n",
      "INFO | epoch 36 ( 70%) loss: 601.426641\n",
      "INFO | epoch 36 (100%) loss: 602.828560\n",
      "INFO | epoch 36 (test) loss: 643.709377\n",
      "INFO | epoch 37 (  0%) loss: 566.757874\n",
      "INFO | epoch 37 ( 35%) loss: 553.853230\n",
      "INFO | epoch 37 ( 70%) loss: 548.776237\n",
      "INFO | epoch 37 (100%) loss: 548.342235\n",
      "INFO | epoch 37 (test) loss: 601.108989\n",
      "INFO | epoch 38 (  0%) loss: 625.310425\n",
      "INFO | epoch 38 ( 35%) loss: 501.568084\n",
      "INFO | epoch 38 ( 70%) loss: 507.385283\n",
      "INFO | epoch 38 (100%) loss: 508.331172\n",
      "INFO | epoch 38 (test) loss: 561.349710\n",
      "INFO | epoch 39 (  0%) loss: 480.022888\n",
      "INFO | epoch 39 ( 35%) loss: 467.160627\n",
      "INFO | epoch 39 ( 70%) loss: 474.374426\n",
      "INFO | epoch 39 (100%) loss: 473.784529\n",
      "INFO | epoch 39 (test) loss: 521.543141\n",
      "INFO | epoch 40 (  0%) loss: 457.458344\n",
      "INFO | epoch 40 ( 35%) loss: 458.742947\n",
      "INFO | epoch 40 ( 70%) loss: 455.075713\n",
      "INFO | epoch 40 (100%) loss: 450.360631\n",
      "INFO | epoch 40 (test) loss: 487.020007\n",
      "INFO | epoch 41 (  0%) loss: 350.043976\n",
      "INFO | epoch 41 ( 35%) loss: 419.536918\n",
      "INFO | epoch 41 ( 70%) loss: 411.903509\n",
      "INFO | epoch 41 (100%) loss: 410.059496\n",
      "INFO | epoch 41 (test) loss: 469.109246\n",
      "INFO | epoch 42 (  0%) loss: 395.289276\n",
      "INFO | epoch 42 ( 35%) loss: 399.033679\n",
      "INFO | epoch 42 ( 70%) loss: 397.854364\n",
      "INFO | epoch 42 (100%) loss: 395.179966\n",
      "INFO | epoch 42 (test) loss: 449.656530\n",
      "INFO | epoch 43 (  0%) loss: 409.536896\n",
      "INFO | epoch 43 ( 35%) loss: 373.146488\n",
      "INFO | epoch 43 ( 70%) loss: 379.636248\n",
      "INFO | epoch 43 (100%) loss: 372.745388\n",
      "INFO | epoch 43 (test) loss: 405.347944\n",
      "INFO | epoch 44 (  0%) loss: 325.147675\n",
      "INFO | epoch 44 ( 35%) loss: 353.009092\n",
      "INFO | epoch 44 ( 70%) loss: 353.262474\n",
      "INFO | epoch 44 (100%) loss: 350.832779\n",
      "INFO | epoch 44 (test) loss: 396.117424\n",
      "INFO | epoch 45 (  0%) loss: 340.030029\n",
      "INFO | epoch 45 ( 35%) loss: 326.218726\n",
      "INFO | epoch 45 ( 70%) loss: 328.710451\n",
      "INFO | epoch 45 (100%) loss: 328.248164\n",
      "INFO | epoch 45 (test) loss: 378.477537\n",
      "INFO | epoch 46 (  0%) loss: 301.265625\n",
      "INFO | epoch 46 ( 35%) loss: 303.955441\n",
      "INFO | epoch 46 ( 70%) loss: 307.201432\n",
      "INFO | epoch 46 (100%) loss: 306.063579\n",
      "INFO | epoch 46 (test) loss: 364.984737\n",
      "INFO | epoch 47 (  0%) loss: 255.979797\n",
      "INFO | epoch 47 ( 35%) loss: 281.505342\n",
      "INFO | epoch 47 ( 70%) loss: 282.194793\n",
      "INFO | epoch 47 (100%) loss: 285.323034\n",
      "INFO | epoch 47 (test) loss: 347.928302\n",
      "INFO | epoch 48 (  0%) loss: 260.182922\n",
      "INFO | epoch 48 ( 35%) loss: 308.260589\n",
      "INFO | epoch 48 ( 70%) loss: 303.767452\n",
      "INFO | epoch 48 (100%) loss: 297.426531\n",
      "INFO | epoch 48 (test) loss: 357.067180\n",
      "INFO | epoch 49 (  0%) loss: 277.820435\n",
      "INFO | epoch 49 ( 35%) loss: 274.339385\n",
      "INFO | epoch 49 ( 70%) loss: 273.851253\n",
      "INFO | epoch 49 (100%) loss: 271.474167\n",
      "INFO | epoch 49 (test) loss: 327.252824\n",
      "INFO | epoch 50 (  0%) loss: 234.029129\n",
      "INFO | epoch 50 ( 35%) loss: 251.691152\n",
      "INFO | epoch 50 ( 70%) loss: 260.569227\n",
      "INFO | epoch 50 (100%) loss: 261.893913\n",
      "INFO | epoch 50 (test) loss: 335.040758\n",
      "INFO | model blob saved to /home/jmsdnns/ML/pallets/saved/gsvae.pkl\n",
      "INFO | training losses saved to /home/jmsdnns/ML/pallets/saved/gsvae.json\n"
     ]
    }
   ],
   "source": [
    "model = M.gumbel.GSVAE(\n",
    "    input_dim, hidden_dim, latent_dims, classes_dim, TEMPERATURE\n",
    ")\n",
    "criterion = M.gumbel.Loss()\n",
    "\n",
    "train_losses, test_losses = M.gumbel.train(\n",
    "    device, model, criterion, train_loader, test_loader,\n",
    "    learn_rate=LR, epochs=EPOCHS,\n",
    ")\n",
    "\n",
    "M.save(SAVE_NAME, model, train_losses, test_losses)\n",
    "\n",
    "# model, train_losses, test_losses = M.load(SAVE_NAME, device)"
   ]
  },
  {
   "cell_type": "markdown",
   "metadata": {},
   "source": [
    "# Results"
   ]
  },
  {
   "cell_type": "code",
   "execution_count": 10,
   "metadata": {},
   "outputs": [
    {
     "name": "stdout",
     "output_type": "stream",
     "text": [
      "torch.Size([1, 127872])\n",
      "torch.Size([222, 24, 24])\n",
      "torch.Size([4, 24, 24])\n"
     ]
    },
    {
     "data": {
      "image/png": "[encoded data removed]",
      "text/plain": [
       "<Figure size 640x480 with 1 Axes>"
      ]
     },
     "metadata": {},
     "output_type": "display_data"
    }
   ],
   "source": [
    "\n",
    "# Totally Random\n",
    "\n",
    "# z = torch.randn(1, latent_dims + classes_dim).to(device)\n",
    "z = torch.randn(1, latent_dims*classes_dim).to(device)\n",
    "\n",
    "\n",
    "with torch.no_grad():\n",
    "    model.eval()\n",
    "    generated_image = model.decoder(z)\n",
    "    print(generated_image.shape)\n",
    "\n",
    "\n",
    "decoded_one_hot = generated_image[0].view(222, 24, 24)\n",
    "print(decoded_one_hot.shape)\n",
    "\n",
    "decoded = DS.one_hot_to_rgba(decoded_one_hot, dataset.mapper)\n",
    "print(decoded.shape)\n",
    "\n",
    "plt.imshow(to_pil_image(decoded))\n",
    "plt.axis('off')\n",
    "plt.show()\n"
   ]
  },
  {
   "cell_type": "code",
   "execution_count": 11,
   "metadata": {},
   "outputs": [],
   "source": [
    "# _, test_labels = next(iter(train_loader))\n",
    "# features = test_labels[2]\n",
    "\n",
    "# enabled_features = [k for k,v in zip(dataset._label_keys, features) if v.item() == 1]\n",
    "# print(f\"Features: {enabled_features}\")\n"
   ]
  },
  {
   "cell_type": "code",
   "execution_count": 12,
   "metadata": {},
   "outputs": [
    {
     "data": {
      "image/png": "[encoded data removed]",
      "text/plain": [
       "<Figure size 640x480 with 1 Axes>"
      ]
     },
     "metadata": {},
     "output_type": "display_data"
    }
   ],
   "source": [
    "punk, punk_labels = dataset[1800]\n",
    "punk = DS.one_hot_to_rgba(punk, dataset.mapper)\n",
    "\n",
    "plt.imshow(to_pil_image(punk))\n",
    "plt.show()\n",
    "\n"
   ]
  },
  {
   "cell_type": "code",
   "execution_count": 14,
   "metadata": {},
   "outputs": [
    {
     "name": "stdout",
     "output_type": "stream",
     "text": [
      "torch.Size([1, 222, 24, 24])\n"
     ]
    },
    {
     "data": {
      "image/png": "[encoded data removed]",
      "text/plain": [
       "<Figure size 640x480 with 1 Axes>"
      ]
     },
     "metadata": {},
     "output_type": "display_data"
    }
   ],
   "source": [
    "punk, punk_labels = dataset[1800]\n",
    "\n",
    "p = punk.unsqueeze(0)\n",
    "p = p.to(device)\n",
    "\n",
    "model.eval()\n",
    "with torch.no_grad():\n",
    "    reconstructed, mu = model.forward(p)\n",
    "    print(reconstructed.shape)\n",
    "\n",
    "recon_punk = reconstructed[0].cpu()\n",
    "recon_punk = DS.one_hot_to_rgba(recon_punk, dataset.mapper)\n",
    "plt.imshow(to_pil_image(recon_punk.cpu()))\n",
    "plt.show()\n"
   ]
  },
  {
   "cell_type": "markdown",
   "metadata": {},
   "source": [
    "## Losses"
   ]
  },
  {
   "cell_type": "code",
   "execution_count": 15,
   "metadata": {},
   "outputs": [
    {
     "data": {
      "text/plain": [
       "<function matplotlib.pyplot.show(close=None, block=None)>"
      ]
     },
     "execution_count": 15,
     "metadata": {},
     "output_type": "execute_result"
    },
    {
     "data": {
      "image/png": "[encoded data removed]",
      "text/plain": [
       "<Figure size 640x480 with 1 Axes>"
      ]
     },
     "metadata": {},
     "output_type": "display_data"
    }
   ],
   "source": [
    "plt.title(\"Train & Test loss\")\n",
    "plt.plot(train_losses, label='train loss')\n",
    "plt.plot(test_losses, label='test loss')\n",
    "plt.legend()\n",
    "plt.show\n"
   ]
  },
  {
   "cell_type": "code",
   "execution_count": 16,
   "metadata": {},
   "outputs": [
    {
     "data": {
      "text/plain": [
       "[200351.65216367465,\n",
       " 22487.41713763298,\n",
       " 22323.229128573803,\n",
       " 22190.385458222518,\n",
       " 21990.227888824247,\n",
       " 21552.793810255986,\n",
       " 20186.5036828873,\n",
       " 19328.448380707003,\n",
       " 18150.58318961935,\n",
       " 17072.01614098515,\n",
       " 15832.546181536736,\n",
       " 13799.160586526208,\n",
       " 11538.053807901153,\n",
       " 9784.442360303081,\n",
       " 8592.028101278534,\n",
       " 7653.905315859098,\n",
       " 6851.514477452488,\n",
       " 6172.443822982464,\n",
       " 5553.733802741301,\n",
       " 5012.269384073027,\n",
       " 4474.657369627174,\n",
       " 3998.020690485095,\n",
       " 3596.7521879588458,\n",
       " 3285.294523631427,\n",
       " 2988.862010117118,\n",
       " 2752.086898479056,\n",
       " 2504.642976368573,\n",
       " 2305.6131714083626,\n",
       " 2129.561970162899,\n",
       " 1964.418900185443,\n",
       " 1793.8500504730441,\n",
       " 1653.548381399601,\n",
       " 1518.0362869154476,\n",
       " 1405.0707790293593,\n",
       " 1293.5527499043349,\n",
       " 1205.657119318103,\n",
       " 1096.6844697776417,\n",
       " 1016.6623437759724,\n",
       " 947.5690582491827,\n",
       " 900.7212618564038,\n",
       " 820.1189929880994,\n",
       " 790.3599326492201,\n",
       " 745.4907767113219,\n",
       " 701.6655586188566,\n",
       " 656.496327718099,\n",
       " 612.1271581987962,\n",
       " 570.6460688705986,\n",
       " 594.8530629475912,\n",
       " 542.9483346330359,\n",
       " 523.78782626754]"
      ]
     },
     "execution_count": 16,
     "metadata": {},
     "output_type": "execute_result"
    }
   ],
   "source": [
    "train_losses"
   ]
  },
  {
   "cell_type": "code",
   "execution_count": 17,
   "metadata": {},
   "outputs": [
    {
     "data": {
      "text/plain": [
       "[22028.483688354492,\n",
       " 21721.609085083008,\n",
       " 21654.198471069336,\n",
       " 21615.57164001465,\n",
       " 21317.45083618164,\n",
       " 20311.13832092285,\n",
       " 19133.294479370117,\n",
       " 18416.186111450195,\n",
       " 17194.072143554688,\n",
       " 16131.306205749512,\n",
       " 14787.022872924805,\n",
       " 12289.04094696045,\n",
       " 10349.468276977539,\n",
       " 8983.65510559082,\n",
       " 7851.44637298584,\n",
       " 7043.316287994385,\n",
       " 6356.130889892578,\n",
       " 5769.436069488525,\n",
       " 5221.467010498047,\n",
       " 4668.691007614136,\n",
       " 4148.904357910156,\n",
       " 3773.2870693206787,\n",
       " 3415.6294326782227,\n",
       " 3062.904275894165,\n",
       " 2841.2879314422607,\n",
       " 2628.308569908142,\n",
       " 2404.293140411377,\n",
       " 2302.9926948547363,\n",
       " 2073.488832473755,\n",
       " 1968.8218460083008,\n",
       " 1813.8073282241821,\n",
       " 1672.4563608169556,\n",
       " 1605.0490493774414,\n",
       " 1456.0115718841553,\n",
       " 1349.8449411392212,\n",
       " 1287.4187545776367,\n",
       " 1202.217978477478,\n",
       " 1122.6994199752808,\n",
       " 1043.0862822532654,\n",
       " 974.0400147438049,\n",
       " 938.2184915542603,\n",
       " 899.3130605220795,\n",
       " 810.6958889961243,\n",
       " 792.2348489761353,\n",
       " 756.9550738334656,\n",
       " 729.9694738388062,\n",
       " 695.8566045761108,\n",
       " 714.1343593597412,\n",
       " 654.5056486129761,\n",
       " 670.0815162658691]"
      ]
     },
     "execution_count": 17,
     "metadata": {},
     "output_type": "execute_result"
    }
   ],
   "source": [
    "test_losses"
   ]
  },
  {
   "cell_type": "code",
   "execution_count": null,
   "metadata": {},
   "outputs": [],
   "source": []
  }
 ],
 "metadata": {
  "kernelspec": {
   "display_name": "pallets",
   "language": "python",
   "name": "python3"
  },
  "language_info": {
   "codemirror_mode": {
    "name": "ipython",
    "version": 3
   },
   "file_extension": ".py",
   "mimetype": "text/x-python",
   "name": "python",
   "nbconvert_exporter": "python",
   "pygments_lexer": "ipython3",
   "version": "3.11.6"
  }
 },
 "nbformat": 4,
 "nbformat_minor": 2
}
