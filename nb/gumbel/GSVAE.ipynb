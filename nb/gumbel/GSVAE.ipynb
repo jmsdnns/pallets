{
 "cells": [
  {
   "cell_type": "markdown",
   "metadata": {},
   "source": [
    "# Gumbel Softmax VAE"
   ]
  },
  {
   "cell_type": "markdown",
   "metadata": {},
   "source": [
    "This notebook is intended for loading and exploring arbitrary pre-trained models"
   ]
  },
  {
   "cell_type": "code",
   "execution_count": 1,
   "metadata": {},
   "outputs": [],
   "source": [
    "import torch\n",
    "from torch.utils.data import DataLoader, SubsetRandomSampler\n",
    "from torchvision.transforms.functional import to_pil_image\n",
    "import matplotlib.pyplot as plt\n",
    "%matplotlib inline"
   ]
  },
  {
   "cell_type": "code",
   "execution_count": 2,
   "metadata": {},
   "outputs": [],
   "source": [
    "# Load pallets library from project root\n",
    "import sys, os\n",
    "sys.path.append(os.path.abspath(os.path.join(os.getcwd(), '..', '..')))\n",
    "\n",
    "from pallets import (\n",
    "    images as I,\n",
    "    datasets as DS,\n",
    "    models as M,\n",
    "    logging as L\n",
    ")\n"
   ]
  },
  {
   "cell_type": "markdown",
   "metadata": {},
   "source": [
    "# Settings"
   ]
  },
  {
   "cell_type": "code",
   "execution_count": 3,
   "metadata": {},
   "outputs": [],
   "source": [
    "SAVE_NAME = 'gsvae'"
   ]
  },
  {
   "cell_type": "code",
   "execution_count": 4,
   "metadata": {},
   "outputs": [],
   "source": [
    "USE_GPU = True\n",
    "LOG_LEVEL = 'INFO'\n",
    "LABELS_FILE = 'pallets_labels.json'\n",
    "\n",
    "\n",
    "TEST_SIZE = 1000\n",
    "EPOCHS = 50\n",
    "LR = 1e-03\n",
    "BATCH_SIZE = 32\n",
    "\n",
    "TEMPERATURE = 1\n"
   ]
  },
  {
   "cell_type": "code",
   "execution_count": 5,
   "metadata": {},
   "outputs": [
    {
     "data": {
      "text/plain": [
       "<Logger pallets (INFO)>"
      ]
     },
     "execution_count": 5,
     "metadata": {},
     "output_type": "execute_result"
    }
   ],
   "source": [
    "# To GPU, or not to GPU\n",
    "device = M.get_device(require_gpu=USE_GPU)\n",
    "\n",
    "# Logging\n",
    "L.init_logger(level=LOG_LEVEL, notebook=True)\n"
   ]
  },
  {
   "cell_type": "markdown",
   "metadata": {},
   "source": [
    "# Dataset"
   ]
  },
  {
   "cell_type": "code",
   "execution_count": 6,
   "metadata": {},
   "outputs": [
    {
     "name": "stdout",
     "output_type": "stream",
     "text": [
      "INFO | loading punk images\n",
      "INFO | - image 0\n",
      "INFO | - image 1000\n",
      "INFO | - image 2000\n",
      "INFO | - image 3000\n",
      "INFO | - image 4000\n",
      "INFO | - image 5000\n",
      "INFO | - image 6000\n",
      "INFO | - image 7000\n",
      "INFO | - image 8000\n",
      "INFO | - image 9000\n",
      "INFO | punk images complete\n",
      "INFO | loading punk labels: pallets_labels.json\n"
     ]
    }
   ],
   "source": [
    "all_colors = I.get_punk_colors()\n",
    "mapper = DS.ColorOneHotMapper(all_colors)\n",
    "dataset = DS.OneHotCPunksDataset(\n",
    "    mapper, labels_file=LABELS_FILE, test_size=TEST_SIZE\n",
    ")\n",
    "\n",
    "# Uncomment to put entire dataset in GPU RAM\n",
    "# dataset = DS.FastOneHotCPunksDataset(\n",
    "#     device, mapper, labels_file=LABELS_FILE, test_size=TEST_SIZE\n",
    "# )"
   ]
  },
  {
   "cell_type": "code",
   "execution_count": 7,
   "metadata": {},
   "outputs": [],
   "source": [
    "train_sampler = SubsetRandomSampler(dataset.train_idx)\n",
    "test_sampler = SubsetRandomSampler(dataset.test_idx)\n",
    "\n",
    "train_loader = DataLoader(dataset, batch_size=BATCH_SIZE, sampler=train_sampler)\n",
    "test_loader = DataLoader(dataset, batch_size=BATCH_SIZE, sampler=test_sampler)"
   ]
  },
  {
   "cell_type": "markdown",
   "metadata": {},
   "source": [
    "# Training"
   ]
  },
  {
   "cell_type": "code",
   "execution_count": 8,
   "metadata": {},
   "outputs": [],
   "source": [
    "input_dim = 222 * 24 * 24\n",
    "hidden_dim = 128\n",
    "latent_dim = 32\n",
    "classes_dim = len(dataset._label_keys)  # 92\n"
   ]
  },
  {
   "cell_type": "code",
   "execution_count": 9,
   "metadata": {},
   "outputs": [
    {
     "name": "stdout",
     "output_type": "stream",
     "text": [
      "INFO | model: pallets.models.gumbel.GSVAE\n",
      "INFO | criterion: pallets.models.gumbel.Loss\n",
      "INFO | learn rate: 0.001\n",
      "INFO | epochs: 50\n",
      "INFO | epoch 1 (  0%) loss: 1418800.750000\n",
      "INFO | epoch 1 ( 35%) loss: 257052.760762\n",
      "INFO | epoch 1 ( 70%) loss: 134988.705958\n",
      "INFO | epoch 1 (100%) loss: 99491.173621\n",
      "INFO | epoch 1 (test) loss: 11285.980515\n",
      "INFO | epoch 2 (  0%) loss: 11743.726562\n",
      "INFO | epoch 2 ( 35%) loss: 11392.429842\n",
      "INFO | epoch 2 ( 70%) loss: 11333.165778\n",
      "INFO | epoch 2 (100%) loss: 11251.151843\n",
      "INFO | epoch 2 (test) loss: 11126.001442\n",
      "INFO | epoch 3 (  0%) loss: 11288.367188\n",
      "INFO | epoch 3 ( 35%) loss: 11137.760675\n",
      "INFO | epoch 3 ( 70%) loss: 11151.983680\n",
      "INFO | epoch 3 (100%) loss: 11145.317053\n",
      "INFO | epoch 3 (test) loss: 11070.481850\n",
      "INFO | epoch 4 (  0%) loss: 10891.550781\n",
      "INFO | epoch 4 ( 35%) loss: 11097.089747\n",
      "INFO | epoch 4 ( 70%) loss: 11153.761568\n",
      "INFO | epoch 4 (100%) loss: 11116.495903\n",
      "INFO | epoch 4 (test) loss: 11043.736076\n",
      "INFO | epoch 5 (  0%) loss: 10931.240234\n",
      "INFO | epoch 5 ( 35%) loss: 11117.385733\n",
      "INFO | epoch 5 ( 70%) loss: 11109.099629\n",
      "INFO | epoch 5 (100%) loss: 11065.200716\n",
      "INFO | epoch 5 (test) loss: 10962.846291\n",
      "INFO | epoch 6 (  0%) loss: 11271.662109\n",
      "INFO | epoch 6 ( 35%) loss: 11082.228458\n",
      "INFO | epoch 6 ( 70%) loss: 11005.970684\n",
      "INFO | epoch 6 (100%) loss: 10969.045579\n",
      "INFO | epoch 6 (test) loss: 10832.474190\n",
      "INFO | epoch 7 (  0%) loss: 11033.776367\n",
      "INFO | epoch 7 ( 35%) loss: 10918.519696\n",
      "INFO | epoch 7 ( 70%) loss: 10749.525556\n",
      "INFO | epoch 7 (100%) loss: 10558.599252\n",
      "INFO | epoch 7 (test) loss: 9962.873886\n",
      "INFO | epoch 8 (  0%) loss: 9569.529297\n",
      "INFO | epoch 8 ( 35%) loss: 9898.832031\n",
      "INFO | epoch 8 ( 70%) loss: 9813.136194\n",
      "INFO | epoch 8 (100%) loss: 9679.588501\n",
      "INFO | epoch 8 (test) loss: 9196.189484\n",
      "INFO | epoch 9 (  0%) loss: 10224.861328\n",
      "INFO | epoch 9 ( 35%) loss: 9149.928547\n",
      "INFO | epoch 9 ( 70%) loss: 9101.111680\n",
      "INFO | epoch 9 (100%) loss: 9039.498648\n",
      "INFO | epoch 9 (test) loss: 8756.436424\n",
      "INFO | epoch 10 (  0%) loss: 8938.675781\n",
      "INFO | epoch 10 ( 35%) loss: 8826.533058\n",
      "INFO | epoch 10 ( 70%) loss: 8778.716277\n",
      "INFO | epoch 10 (100%) loss: 8726.532530\n",
      "INFO | epoch 10 (test) loss: 8392.746590\n",
      "INFO | epoch 11 (  0%) loss: 9662.874023\n",
      "INFO | epoch 11 ( 35%) loss: 8478.636269\n",
      "INFO | epoch 11 ( 70%) loss: 8391.358729\n",
      "INFO | epoch 11 (100%) loss: 8278.703269\n",
      "INFO | epoch 11 (test) loss: 7908.275490\n",
      "INFO | epoch 12 (  0%) loss: 7786.922363\n",
      "INFO | epoch 12 ( 35%) loss: 7975.367830\n",
      "INFO | epoch 12 ( 70%) loss: 7846.445903\n",
      "INFO | epoch 12 (100%) loss: 7673.348881\n",
      "INFO | epoch 12 (test) loss: 7004.392071\n",
      "INFO | epoch 13 (  0%) loss: 7442.692383\n",
      "INFO | epoch 13 ( 35%) loss: 6823.569839\n",
      "INFO | epoch 13 ( 70%) loss: 6517.107271\n",
      "INFO | epoch 13 (100%) loss: 6244.847389\n",
      "INFO | epoch 13 (test) loss: 5401.859516\n",
      "INFO | epoch 14 (  0%) loss: 5336.666016\n",
      "INFO | epoch 14 ( 35%) loss: 5216.099073\n",
      "INFO | epoch 14 ( 70%) loss: 5055.819606\n",
      "INFO | epoch 14 (100%) loss: 4903.205337\n",
      "INFO | epoch 14 (test) loss: 4389.590652\n",
      "INFO | epoch 15 (  0%) loss: 4744.203613\n",
      "INFO | epoch 15 ( 35%) loss: 4340.303508\n",
      "INFO | epoch 15 ( 70%) loss: 4253.282650\n",
      "INFO | epoch 15 (100%) loss: 4183.933213\n",
      "INFO | epoch 15 (test) loss: 3846.625834\n",
      "INFO | epoch 16 (  0%) loss: 3633.250244\n",
      "INFO | epoch 16 ( 35%) loss: 3849.845309\n",
      "INFO | epoch 16 ( 70%) loss: 3815.585217\n",
      "INFO | epoch 16 (100%) loss: 3762.686548\n",
      "INFO | epoch 16 (test) loss: 3486.626415\n",
      "INFO | epoch 17 (  0%) loss: 3241.410645\n",
      "INFO | epoch 17 ( 35%) loss: 3463.039974\n",
      "INFO | epoch 17 ( 70%) loss: 3416.204668\n",
      "INFO | epoch 17 (100%) loss: 3368.009408\n",
      "INFO | epoch 17 (test) loss: 3143.258844\n",
      "INFO | epoch 18 (  0%) loss: 3533.697021\n",
      "INFO | epoch 18 ( 35%) loss: 3128.966647\n",
      "INFO | epoch 18 ( 70%) loss: 3065.455589\n",
      "INFO | epoch 18 (100%) loss: 3004.990433\n",
      "INFO | epoch 18 (test) loss: 2771.304005\n",
      "INFO | epoch 19 (  0%) loss: 3157.844238\n",
      "INFO | epoch 19 ( 35%) loss: 2751.446560\n",
      "INFO | epoch 19 ( 70%) loss: 2691.945834\n",
      "INFO | epoch 19 (100%) loss: 2630.649980\n",
      "INFO | epoch 19 (test) loss: 2427.139277\n",
      "INFO | epoch 20 (  0%) loss: 2033.526001\n",
      "INFO | epoch 20 ( 35%) loss: 2364.110158\n",
      "INFO | epoch 20 ( 70%) loss: 2344.674405\n",
      "INFO | epoch 20 (100%) loss: 2308.621865\n",
      "INFO | epoch 20 (test) loss: 2138.546804\n",
      "INFO | epoch 21 (  0%) loss: 2283.870117\n",
      "INFO | epoch 21 ( 35%) loss: 2116.884769\n",
      "INFO | epoch 21 ( 70%) loss: 2072.873846\n",
      "INFO | epoch 21 (100%) loss: 2044.827809\n",
      "INFO | epoch 21 (test) loss: 1974.509165\n",
      "INFO | epoch 22 (  0%) loss: 1910.070068\n",
      "INFO | epoch 22 ( 35%) loss: 1883.463769\n",
      "INFO | epoch 22 ( 70%) loss: 1875.731354\n",
      "INFO | epoch 22 (100%) loss: 1852.030618\n",
      "INFO | epoch 22 (test) loss: 1772.803658\n",
      "INFO | epoch 23 (  0%) loss: 1837.299561\n",
      "INFO | epoch 23 ( 35%) loss: 1684.213865\n",
      "INFO | epoch 23 ( 70%) loss: 1690.663279\n",
      "INFO | epoch 23 (100%) loss: 1667.158845\n",
      "INFO | epoch 23 (test) loss: 1606.779733\n",
      "INFO | epoch 24 (  0%) loss: 1566.245361\n",
      "INFO | epoch 24 ( 35%) loss: 1517.778969\n",
      "INFO | epoch 24 ( 70%) loss: 1531.385985\n",
      "INFO | epoch 24 (100%) loss: 1521.441550\n",
      "INFO | epoch 24 (test) loss: 1491.902054\n",
      "INFO | epoch 25 (  0%) loss: 1432.198608\n",
      "INFO | epoch 25 ( 35%) loss: 1438.170345\n",
      "INFO | epoch 25 ( 70%) loss: 1412.906726\n",
      "INFO | epoch 25 (100%) loss: 1401.203251\n",
      "INFO | epoch 25 (test) loss: 1352.607285\n",
      "INFO | epoch 26 (  0%) loss: 1674.086792\n",
      "INFO | epoch 26 ( 35%) loss: 1310.528485\n",
      "INFO | epoch 26 ( 70%) loss: 1306.175359\n",
      "INFO | epoch 26 (100%) loss: 1292.778789\n",
      "INFO | epoch 26 (test) loss: 1314.547496\n",
      "INFO | epoch 27 (  0%) loss: 1272.633789\n",
      "INFO | epoch 27 ( 35%) loss: 1211.912952\n",
      "INFO | epoch 27 ( 70%) loss: 1196.310597\n",
      "INFO | epoch 27 (100%) loss: 1187.554425\n",
      "INFO | epoch 27 (test) loss: 1206.606079\n",
      "INFO | epoch 28 (  0%) loss: 932.007141\n",
      "INFO | epoch 28 ( 35%) loss: 1113.771237\n",
      "INFO | epoch 28 ( 70%) loss: 1108.441165\n",
      "INFO | epoch 28 (100%) loss: 1088.560798\n",
      "INFO | epoch 28 (test) loss: 1063.631860\n",
      "INFO | epoch 29 (  0%) loss: 1053.362549\n",
      "INFO | epoch 29 ( 35%) loss: 1021.149253\n",
      "INFO | epoch 29 ( 70%) loss: 1022.267165\n",
      "INFO | epoch 29 (100%) loss: 1010.294779\n",
      "INFO | epoch 29 (test) loss: 999.815656\n",
      "INFO | epoch 30 (  0%) loss: 997.535583\n",
      "INFO | epoch 30 ( 35%) loss: 937.018366\n",
      "INFO | epoch 30 ( 70%) loss: 918.484149\n",
      "INFO | epoch 30 (100%) loss: 912.736852\n",
      "INFO | epoch 30 (test) loss: 916.159029\n",
      "INFO | epoch 31 (  0%) loss: 792.044434\n",
      "INFO | epoch 31 ( 35%) loss: 846.109091\n",
      "INFO | epoch 31 ( 70%) loss: 850.839024\n",
      "INFO | epoch 31 (100%) loss: 838.704157\n",
      "INFO | epoch 31 (test) loss: 868.920311\n",
      "INFO | epoch 32 (  0%) loss: 726.241638\n",
      "INFO | epoch 32 ( 35%) loss: 773.019674\n",
      "INFO | epoch 32 ( 70%) loss: 774.314681\n",
      "INFO | epoch 32 (100%) loss: 773.104797\n",
      "INFO | epoch 32 (test) loss: 803.297623\n",
      "INFO | epoch 33 (  0%) loss: 825.671387\n",
      "INFO | epoch 33 ( 35%) loss: 714.371346\n",
      "INFO | epoch 33 ( 70%) loss: 702.428680\n",
      "INFO | epoch 33 (100%) loss: 699.524325\n",
      "INFO | epoch 33 (test) loss: 736.078137\n",
      "INFO | epoch 34 (  0%) loss: 801.032898\n",
      "INFO | epoch 34 ( 35%) loss: 659.955459\n",
      "INFO | epoch 34 ( 70%) loss: 658.955542\n",
      "INFO | epoch 34 (100%) loss: 647.425992\n",
      "INFO | epoch 34 (test) loss: 701.331124\n",
      "INFO | epoch 35 (  0%) loss: 502.008148\n",
      "INFO | epoch 35 ( 35%) loss: 595.192383\n",
      "INFO | epoch 35 ( 70%) loss: 598.076259\n",
      "INFO | epoch 35 (100%) loss: 592.581847\n",
      "INFO | epoch 35 (test) loss: 647.580427\n",
      "INFO | epoch 36 (  0%) loss: 567.231812\n",
      "INFO | epoch 36 ( 35%) loss: 563.308871\n",
      "INFO | epoch 36 ( 70%) loss: 550.036936\n",
      "INFO | epoch 36 (100%) loss: 550.113386\n",
      "INFO | epoch 36 (test) loss: 624.212274\n",
      "INFO | epoch 37 (  0%) loss: 730.246765\n",
      "INFO | epoch 37 ( 35%) loss: 517.214127\n",
      "INFO | epoch 37 ( 70%) loss: 524.456012\n",
      "INFO | epoch 37 (100%) loss: 524.109998\n",
      "INFO | epoch 37 (test) loss: 602.838227\n",
      "INFO | epoch 38 (  0%) loss: 509.274902\n",
      "INFO | epoch 38 ( 35%) loss: 483.984297\n",
      "INFO | epoch 38 ( 70%) loss: 484.719386\n",
      "INFO | epoch 38 (100%) loss: 481.908276\n",
      "INFO | epoch 38 (test) loss: 536.204935\n",
      "INFO | epoch 39 (  0%) loss: 499.508942\n",
      "INFO | epoch 39 ( 35%) loss: 462.368921\n",
      "INFO | epoch 39 ( 70%) loss: 458.218857\n",
      "INFO | epoch 39 (100%) loss: 453.431556\n",
      "INFO | epoch 39 (test) loss: 491.869335\n",
      "INFO | epoch 40 (  0%) loss: 375.704681\n",
      "INFO | epoch 40 ( 35%) loss: 412.336434\n",
      "INFO | epoch 40 ( 70%) loss: 414.417645\n",
      "INFO | epoch 40 (100%) loss: 415.576739\n",
      "INFO | epoch 40 (test) loss: 484.538784\n",
      "INFO | epoch 41 (  0%) loss: 543.452332\n",
      "INFO | epoch 41 ( 35%) loss: 394.758912\n",
      "INFO | epoch 41 ( 70%) loss: 392.176737\n",
      "INFO | epoch 41 (100%) loss: 400.583600\n",
      "INFO | epoch 41 (test) loss: 495.393762\n",
      "INFO | epoch 42 (  0%) loss: 432.955963\n",
      "INFO | epoch 42 ( 35%) loss: 390.554386\n",
      "INFO | epoch 42 ( 70%) loss: 384.314466\n",
      "INFO | epoch 42 (100%) loss: 386.972326\n",
      "INFO | epoch 42 (test) loss: 508.289703\n",
      "INFO | epoch 43 (  0%) loss: 402.717224\n",
      "INFO | epoch 43 ( 35%) loss: 379.503115\n",
      "INFO | epoch 43 ( 70%) loss: 366.575921\n",
      "INFO | epoch 43 (100%) loss: 364.934680\n",
      "INFO | epoch 43 (test) loss: 404.311895\n",
      "INFO | epoch 44 (  0%) loss: 361.603394\n",
      "INFO | epoch 44 ( 35%) loss: 335.901090\n",
      "INFO | epoch 44 ( 70%) loss: 336.045079\n",
      "INFO | epoch 44 (100%) loss: 352.251189\n",
      "INFO | epoch 44 (test) loss: 434.484411\n",
      "INFO | epoch 45 (  0%) loss: 336.634033\n",
      "INFO | epoch 45 ( 35%) loss: 327.034053\n",
      "INFO | epoch 45 ( 70%) loss: 319.867022\n",
      "INFO | epoch 45 (100%) loss: 315.904437\n",
      "INFO | epoch 45 (test) loss: 388.118002\n",
      "INFO | epoch 46 (  0%) loss: 277.145782\n",
      "INFO | epoch 46 ( 35%) loss: 287.484939\n",
      "INFO | epoch 46 ( 70%) loss: 291.188076\n",
      "INFO | epoch 46 (100%) loss: 289.553488\n",
      "INFO | epoch 46 (test) loss: 370.000811\n",
      "INFO | epoch 47 (  0%) loss: 296.472931\n",
      "INFO | epoch 47 ( 35%) loss: 286.313553\n",
      "INFO | epoch 47 ( 70%) loss: 290.560064\n",
      "INFO | epoch 47 (100%) loss: 290.664538\n",
      "INFO | epoch 47 (test) loss: 357.769802\n",
      "INFO | epoch 48 (  0%) loss: 300.077789\n",
      "INFO | epoch 48 ( 35%) loss: 272.741200\n",
      "INFO | epoch 48 ( 70%) loss: 268.790516\n",
      "INFO | epoch 48 (100%) loss: 270.442166\n",
      "INFO | epoch 48 (test) loss: 332.438964\n",
      "INFO | epoch 49 (  0%) loss: 207.402237\n",
      "INFO | epoch 49 ( 35%) loss: 270.518656\n",
      "INFO | epoch 49 ( 70%) loss: 272.339868\n",
      "INFO | epoch 49 (100%) loss: 277.381884\n",
      "INFO | epoch 49 (test) loss: 347.891261\n",
      "INFO | epoch 50 (  0%) loss: 253.457825\n",
      "INFO | epoch 50 ( 35%) loss: 263.511721\n",
      "INFO | epoch 50 ( 70%) loss: 257.903166\n",
      "INFO | epoch 50 (100%) loss: 252.048600\n",
      "INFO | epoch 50 (test) loss: 292.347318\n",
      "INFO | model blob saved to /home/jmsdnns/ML/pallets/saved/gsvae.pkl\n",
      "INFO | training losses saved to /home/jmsdnns/ML/pallets/saved/gsvae.json\n"
     ]
    }
   ],
   "source": [
    "model = M.gumbel.GSVAE(\n",
    "    input_dim, hidden_dim, latent_dim, classes_dim, TEMPERATURE\n",
    ")\n",
    "criterion = M.gumbel.Loss()\n",
    "\n",
    "train_losses, test_losses = M.gumbel.train(\n",
    "    device, model, criterion, train_loader, test_loader,\n",
    "    learn_rate=LR, epochs=EPOCHS,\n",
    ")\n",
    "\n",
    "M.save(SAVE_NAME, model, train_losses, test_losses)\n"
   ]
  },
  {
   "cell_type": "markdown",
   "metadata": {},
   "source": [
    "# Results"
   ]
  },
  {
   "cell_type": "markdown",
   "metadata": {},
   "source": [
    "## Random Inputs"
   ]
  },
  {
   "cell_type": "code",
   "execution_count": 10,
   "metadata": {},
   "outputs": [],
   "source": [
    "def rand_punk():\n",
    "    z = torch.randn(1, latent_dim*classes_dim).to(device)\n",
    "    with torch.no_grad():\n",
    "        model.eval()\n",
    "        generated_image = model.decoder(z)\n",
    "    decoded_one_hot = generated_image[0].view(222, 24, 24)\n",
    "    decoded = DS.one_hot_to_rgba(decoded_one_hot, dataset.mapper)\n",
    "    return decoded\n"
   ]
  },
  {
   "cell_type": "markdown",
   "metadata": {},
   "source": [
    "### 5 Randoms"
   ]
  },
  {
   "cell_type": "code",
   "execution_count": 11,
   "metadata": {},
   "outputs": [
    {
     "data": {
      "image/png": "[encoded data removed]",
      "text/plain": [
       "<Figure size 640x480 with 1 Axes>"
      ]
     },
     "metadata": {},
     "output_type": "display_data"
    }
   ],
   "source": [
    "decoded = rand_punk()\n",
    "plt.imshow(to_pil_image(decoded))\n",
    "plt.axis('off')\n",
    "plt.show()\n"
   ]
  },
  {
   "cell_type": "code",
   "execution_count": 12,
   "metadata": {},
   "outputs": [
    {
     "data": {
      "image/png": "[encoded data removed]",
      "text/plain": [
       "<Figure size 640x480 with 1 Axes>"
      ]
     },
     "metadata": {},
     "output_type": "display_data"
    }
   ],
   "source": [
    "decoded = rand_punk()\n",
    "plt.imshow(to_pil_image(decoded))\n",
    "plt.axis('off')\n",
    "plt.show()\n"
   ]
  },
  {
   "cell_type": "code",
   "execution_count": 13,
   "metadata": {},
   "outputs": [
    {
     "data": {
      "image/png": "[encoded data removed]",
      "text/plain": [
       "<Figure size 640x480 with 1 Axes>"
      ]
     },
     "metadata": {},
     "output_type": "display_data"
    }
   ],
   "source": [
    "decoded = rand_punk()\n",
    "plt.imshow(to_pil_image(decoded))\n",
    "plt.axis('off')\n",
    "plt.show()\n"
   ]
  },
  {
   "cell_type": "code",
   "execution_count": 14,
   "metadata": {},
   "outputs": [
    {
     "data": {
      "image/png": "[encoded data removed]",
      "text/plain": [
       "<Figure size 640x480 with 1 Axes>"
      ]
     },
     "metadata": {},
     "output_type": "display_data"
    }
   ],
   "source": [
    "decoded = rand_punk()\n",
    "plt.imshow(to_pil_image(decoded))\n",
    "plt.axis('off')\n",
    "plt.show()\n"
   ]
  },
  {
   "cell_type": "code",
   "execution_count": 15,
   "metadata": {},
   "outputs": [
    {
     "data": {
      "image/png": "[encoded data removed]",
      "text/plain": [
       "<Figure size 640x480 with 1 Axes>"
      ]
     },
     "metadata": {},
     "output_type": "display_data"
    }
   ],
   "source": [
    "decoded = rand_punk()\n",
    "plt.imshow(to_pil_image(decoded))\n",
    "plt.axis('off')\n",
    "plt.show()\n"
   ]
  },
  {
   "cell_type": "markdown",
   "metadata": {},
   "source": [
    "## Reconstruction"
   ]
  },
  {
   "cell_type": "code",
   "execution_count": 16,
   "metadata": {},
   "outputs": [],
   "source": [
    "def reconstruct_punk(idx):\n",
    "    punk = I.get_punk_tensor(idx)\n",
    "    x = DS.rgba_to_one_hot(punk, dataset.mapper)\n",
    "    x = x.unsqueeze(0)\n",
    "    x = x.to(device)\n",
    "\n",
    "    model.eval()\n",
    "    with torch.no_grad():\n",
    "        reconstructed, x_y = model.forward(x)\n",
    "\n",
    "    recon_punk = reconstructed[0].cpu()\n",
    "    recon_punk = recon_punk.view((222, 24, 24))\n",
    "    recon_punk = DS.one_hot_to_rgba(recon_punk, dataset.mapper)\n",
    "\n",
    "    return punk, recon_punk\n",
    "\n",
    "\n",
    "def draw_two(img1, img2):\n",
    "    page_size = 2\n",
    "    view_x, view_y = 4*page_size, 2*page_size\n",
    "    fig = plt.figure(figsize=(view_x, view_y))\n",
    "    fig.add_subplot(1, 2, 1)\n",
    "    plt.imshow(to_pil_image(img1))\n",
    "    plt.axis('off')\n",
    "    fig.add_subplot(1, 2, 2)\n",
    "    plt.imshow(to_pil_image(img2))\n",
    "    plt.axis('off')\n",
    "    plt.show()\n"
   ]
  },
  {
   "cell_type": "markdown",
   "metadata": {},
   "source": [
    "### 5 Reconstructions"
   ]
  },
  {
   "cell_type": "code",
   "execution_count": 17,
   "metadata": {},
   "outputs": [
    {
     "data": {
      "image/png": "[encoded data removed]",
      "text/plain": [
       "<Figure size 800x400 with 2 Axes>"
      ]
     },
     "metadata": {},
     "output_type": "display_data"
    }
   ],
   "source": [
    "punk, recon_punk = reconstruct_punk(1000)\n",
    "\n",
    "draw_two(punk, recon_punk)"
   ]
  },
  {
   "cell_type": "code",
   "execution_count": 18,
   "metadata": {},
   "outputs": [
    {
     "data": {
      "image/png": "[encoded data removed]",
      "text/plain": [
       "<Figure size 800x400 with 2 Axes>"
      ]
     },
     "metadata": {},
     "output_type": "display_data"
    }
   ],
   "source": [
    "punk, recon_punk = reconstruct_punk(2001)\n",
    "\n",
    "draw_two(punk, recon_punk)"
   ]
  },
  {
   "cell_type": "code",
   "execution_count": 19,
   "metadata": {},
   "outputs": [
    {
     "data": {
      "image/png": "[encoded data removed]",
      "text/plain": [
       "<Figure size 800x400 with 2 Axes>"
      ]
     },
     "metadata": {},
     "output_type": "display_data"
    }
   ],
   "source": [
    "punk, recon_punk = reconstruct_punk(5000)\n",
    "\n",
    "draw_two(punk, recon_punk)"
   ]
  },
  {
   "cell_type": "code",
   "execution_count": 20,
   "metadata": {},
   "outputs": [
    {
     "data": {
      "image/png": "[encoded data removed]",
      "text/plain": [
       "<Figure size 800x400 with 2 Axes>"
      ]
     },
     "metadata": {},
     "output_type": "display_data"
    }
   ],
   "source": [
    "punk, recon_punk = reconstruct_punk(8000)\n",
    "\n",
    "draw_two(punk, recon_punk)"
   ]
  },
  {
   "cell_type": "code",
   "execution_count": 21,
   "metadata": {},
   "outputs": [
    {
     "data": {
      "image/png": "[encoded data removed]",
      "text/plain": [
       "<Figure size 800x400 with 2 Axes>"
      ]
     },
     "metadata": {},
     "output_type": "display_data"
    }
   ],
   "source": [
    "punk, recon_punk = reconstruct_punk(1337)\n",
    "\n",
    "draw_two(punk, recon_punk)"
   ]
  },
  {
   "cell_type": "markdown",
   "metadata": {},
   "source": [
    "## Losses"
   ]
  },
  {
   "cell_type": "code",
   "execution_count": 22,
   "metadata": {},
   "outputs": [
    {
     "data": {
      "text/plain": [
       "<function matplotlib.pyplot.show(close=None, block=None)>"
      ]
     },
     "execution_count": 22,
     "metadata": {},
     "output_type": "execute_result"
    },
    {
     "data": {
      "image/png": "[encoded data removed]",
      "text/plain": [
       "<Figure size 640x480 with 1 Axes>"
      ]
     },
     "metadata": {},
     "output_type": "display_data"
    }
   ],
   "source": [
    "plt.title(\"Train & Test loss\")\n",
    "plt.plot(train_losses, label='train loss')\n",
    "plt.plot(test_losses, label='test loss')\n",
    "plt.legend()\n",
    "plt.show\n"
   ]
  },
  {
   "cell_type": "code",
   "execution_count": 23,
   "metadata": {},
   "outputs": [
    {
     "data": {
      "text/plain": [
       "[198982.34724242298,\n",
       " 22502.30368669659,\n",
       " 22290.634105925863,\n",
       " 22232.991806571365,\n",
       " 22130.401432984265,\n",
       " 21938.09115795379,\n",
       " 21117.198503643063,\n",
       " 19359.177001953125,\n",
       " 18078.997295406694,\n",
       " 17453.065060013574,\n",
       " 16557.40653742797,\n",
       " 15346.697761697973,\n",
       " 12489.694778334164,\n",
       " 9806.410673100898,\n",
       " 8367.866426075603,\n",
       " 7525.3730953568265,\n",
       " 6736.018816575936,\n",
       " 6009.980866993573,\n",
       " 5261.299960521941,\n",
       " 4617.243730260971,\n",
       " 4089.6556182212016,\n",
       " 3704.0612357930936,\n",
       " 3334.3176901526485,\n",
       " 3042.88310057728,\n",
       " 2802.4065021487836,\n",
       " 2585.5575788782,\n",
       " 2375.10884905876,\n",
       " 2177.121596316074,\n",
       " 2020.5895584863974,\n",
       " 1825.4737039119639,\n",
       " 1677.4083137241662,\n",
       " 1546.2095938608156,\n",
       " 1399.048649131829,\n",
       " 1294.8519833612104,\n",
       " 1185.1636935836034,\n",
       " 1100.2267722271858,\n",
       " 1048.219995809785,\n",
       " 963.8165526153348,\n",
       " 906.8631115636082,\n",
       " 831.1534789065097,\n",
       " 801.1672006701747,\n",
       " 773.9446528549736,\n",
       " 729.8693598754018,\n",
       " 704.5023780985082,\n",
       " 631.8088747660319,\n",
       " 579.1069752578194,\n",
       " 581.32907645584,\n",
       " 540.8843329679881,\n",
       " 554.7637678646872,\n",
       " 504.0972002719311]"
      ]
     },
     "execution_count": 23,
     "metadata": {},
     "output_type": "execute_result"
    }
   ],
   "source": [
    "train_losses"
   ]
  },
  {
   "cell_type": "code",
   "execution_count": 24,
   "metadata": {},
   "outputs": [
    {
     "data": {
      "text/plain": [
       "[22571.961029052734,\n",
       " 22252.002883911133,\n",
       " 22140.96369934082,\n",
       " 22087.47215270996,\n",
       " 21925.692581176758,\n",
       " 21664.9483795166,\n",
       " 19925.747772216797,\n",
       " 18392.378967285156,\n",
       " 17512.872848510742,\n",
       " 16785.49317932129,\n",
       " 15816.550979614258,\n",
       " 14008.784141540527,\n",
       " 10803.719032287598,\n",
       " 8779.18130493164,\n",
       " 7693.251667022705,\n",
       " 6973.252830505371,\n",
       " 6286.517688751221,\n",
       " 5542.608009338379,\n",
       " 4854.278553009033,\n",
       " 4277.093608856201,\n",
       " 3949.0183296203613,\n",
       " 3545.6073150634766,\n",
       " 3213.559465408325,\n",
       " 2983.8041076660156,\n",
       " 2705.214569091797,\n",
       " 2629.09499168396,\n",
       " 2413.212158203125,\n",
       " 2127.26372051239,\n",
       " 1999.631311416626,\n",
       " 1832.3180570602417,\n",
       " 1737.8406229019165,\n",
       " 1606.5952453613281,\n",
       " 1472.1562747955322,\n",
       " 1402.6622486114502,\n",
       " 1295.1608543395996,\n",
       " 1248.424548149109,\n",
       " 1205.676453590393,\n",
       " 1072.409870147705,\n",
       " 983.7386693954468,\n",
       " 969.0775680541992,\n",
       " 990.7875242233276,\n",
       " 1016.5794057846069,\n",
       " 808.6237897872925,\n",
       " 868.968822479248,\n",
       " 776.2360033988953,\n",
       " 740.0016222000122,\n",
       " 715.5396037101746,\n",
       " 664.8779273033142,\n",
       " 695.7825222015381,\n",
       " 584.6946363449097]"
      ]
     },
     "execution_count": 24,
     "metadata": {},
     "output_type": "execute_result"
    }
   ],
   "source": [
    "test_losses"
   ]
  },
  {
   "cell_type": "code",
   "execution_count": null,
   "metadata": {},
   "outputs": [],
   "source": []
  }
 ],
 "metadata": {
  "kernelspec": {
   "display_name": "pallets",
   "language": "python",
   "name": "python3"
  },
  "language_info": {
   "codemirror_mode": {
    "name": "ipython",
    "version": 3
   },
   "file_extension": ".py",
   "mimetype": "text/x-python",
   "name": "python",
   "nbconvert_exporter": "python",
   "pygments_lexer": "ipython3",
   "version": "3.11.6"
  }
 },
 "nbformat": 4,
 "nbformat_minor": 2
}
