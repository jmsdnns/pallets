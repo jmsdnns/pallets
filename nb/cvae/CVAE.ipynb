{
 "cells": [
  {
   "cell_type": "markdown",
   "metadata": {},
   "source": [
    "# Conditional Variational Autoencoder"
   ]
  },
  {
   "cell_type": "code",
   "execution_count": 1,
   "id": "19d0f047",
   "metadata": {},
   "outputs": [],
   "source": [
    "import torch\n",
    "from torchvision import transforms\n",
    "from torch.utils.data import DataLoader, SubsetRandomSampler\n",
    "import matplotlib.pyplot as plt\n",
    "%matplotlib inline"
   ]
  },
  {
   "cell_type": "code",
   "execution_count": 2,
   "metadata": {},
   "outputs": [],
   "source": [
    "# Load pallets library from project root\n",
    "import sys, os\n",
    "sys.path.append(os.path.abspath(os.path.join(os.getcwd(), '..', '..')))\n",
    "\n",
    "from pallets import (\n",
    "    images as I,\n",
    "    datasets as DS,\n",
    "    models as M,\n",
    "    logging as L\n",
    ")\n"
   ]
  },
  {
   "cell_type": "markdown",
   "id": "844bbd48",
   "metadata": {},
   "source": [
    "# Settings"
   ]
  },
  {
   "cell_type": "code",
   "execution_count": 3,
   "id": "9b8ec428",
   "metadata": {},
   "outputs": [],
   "source": [
    "SAVE_NAME = 'cvae'"
   ]
  },
  {
   "cell_type": "code",
   "execution_count": 4,
   "id": "ae1b5c2f",
   "metadata": {},
   "outputs": [],
   "source": [
    "USE_GPU = True\n",
    "LOG_LEVEL = 'INFO'\n",
    "LABELS_FILE = 'pallets_labels.json'\n",
    "\n",
    "TEST_SIZE = 1000\n",
    "EPOCHS = 50\n",
    "LR = 1e-03\n",
    "BATCH_SIZE = 32\n"
   ]
  },
  {
   "cell_type": "code",
   "execution_count": 5,
   "metadata": {},
   "outputs": [
    {
     "data": {
      "text/plain": [
       "<Logger pallets (INFO)>"
      ]
     },
     "execution_count": 5,
     "metadata": {},
     "output_type": "execute_result"
    }
   ],
   "source": [
    "# To GPU, or not to GPU\n",
    "device = M.get_device(require_gpu=USE_GPU)\n",
    "\n",
    "# Logging\n",
    "L.init_logger(level=LOG_LEVEL, notebook=True)\n"
   ]
  },
  {
   "cell_type": "markdown",
   "metadata": {},
   "source": [
    "# Dataset"
   ]
  },
  {
   "cell_type": "code",
   "execution_count": 6,
   "id": "35fef1c0",
   "metadata": {},
   "outputs": [
    {
     "name": "stdout",
     "output_type": "stream",
     "text": [
      "INFO | loading punk images\n",
      "INFO | - image 0\n",
      "INFO | - image 1000\n",
      "INFO | - image 2000\n",
      "INFO | - image 3000\n",
      "INFO | - image 4000\n",
      "INFO | - image 5000\n",
      "INFO | - image 6000\n",
      "INFO | - image 7000\n",
      "INFO | - image 8000\n",
      "INFO | - image 9000\n",
      "INFO | punk images complete\n",
      "INFO | loading punk labels: pallets_labels.json\n"
     ]
    }
   ],
   "source": [
    "all_colors = I.get_punk_colors()\n",
    "mapper = DS.ColorOneHotMapper(all_colors)\n",
    "dataset = DS.OneHotCPunksDataset(\n",
    "    mapper, labels_file=LABELS_FILE, test_size=TEST_SIZE\n",
    ")\n",
    "\n",
    "# Uncomment to put entire dataset in GPU RAM\n",
    "# dataset = DS.FastOneHotCPunksDataset(\n",
    "#     device, mapper, labels_file=LABELS_FILE, test_size=TEST_SIZE\n",
    "# )"
   ]
  },
  {
   "cell_type": "code",
   "execution_count": 7,
   "id": "8eac2395",
   "metadata": {},
   "outputs": [],
   "source": [
    "train_sampler = SubsetRandomSampler(dataset.train_idx)\n",
    "test_sampler = SubsetRandomSampler(dataset.test_idx)\n",
    "\n",
    "train_loader = DataLoader(dataset, batch_size=BATCH_SIZE, sampler=train_sampler)\n",
    "test_loader = DataLoader(dataset, batch_size=BATCH_SIZE, sampler=test_sampler)"
   ]
  },
  {
   "cell_type": "markdown",
   "id": "b39e0222",
   "metadata": {},
   "source": [
    "# Training"
   ]
  },
  {
   "cell_type": "code",
   "execution_count": 8,
   "id": "d3fe1530",
   "metadata": {},
   "outputs": [],
   "source": [
    "input_dim = 24 * 24 * 222\n",
    "hidden_dim = 576\n",
    "latent_dim = 32\n",
    "classes_dim = len(dataset._label_keys)  # 92\n"
   ]
  },
  {
   "cell_type": "code",
   "execution_count": 9,
   "id": "9521e7fe",
   "metadata": {},
   "outputs": [
    {
     "name": "stdout",
     "output_type": "stream",
     "text": [
      "INFO | model: pallets.models.cvae.CVAE\n",
      "INFO | criterion: pallets.models.cvae.Loss\n",
      "INFO | learn rate: 0.001\n",
      "INFO | epochs: 50\n",
      "INFO | epoch 1 (  0%) loss: 1422887.375000\n",
      "INFO | epoch 1 ( 35%) loss: 90973.002901\n",
      "INFO | epoch 1 ( 70%) loss: 51420.222360\n",
      "INFO | epoch 1 (100%) loss: 38996.729947\n",
      "INFO | epoch 1 (test) loss: 7079.896622\n",
      "INFO | epoch 2 (  0%) loss: 7252.196289\n",
      "INFO | epoch 2 ( 35%) loss: 6298.391553\n",
      "INFO | epoch 2 ( 70%) loss: 5628.102177\n",
      "INFO | epoch 2 (100%) loss: 5211.681871\n",
      "INFO | epoch 2 (test) loss: 3843.845818\n",
      "INFO | epoch 3 (  0%) loss: 3952.945312\n",
      "INFO | epoch 3 ( 35%) loss: 3591.531513\n",
      "INFO | epoch 3 ( 70%) loss: 3380.693630\n",
      "INFO | epoch 3 (100%) loss: 3216.313632\n",
      "INFO | epoch 3 (test) loss: 2664.408588\n",
      "INFO | epoch 4 (  0%) loss: 2886.278320\n",
      "INFO | epoch 4 ( 35%) loss: 2539.441965\n",
      "INFO | epoch 4 ( 70%) loss: 2422.085775\n",
      "INFO | epoch 4 (100%) loss: 2339.493400\n",
      "INFO | epoch 4 (test) loss: 2127.593605\n",
      "INFO | epoch 5 (  0%) loss: 2065.791260\n",
      "INFO | epoch 5 ( 35%) loss: 1989.315619\n",
      "INFO | epoch 5 ( 70%) loss: 1909.277349\n",
      "INFO | epoch 5 (100%) loss: 1850.515226\n",
      "INFO | epoch 5 (test) loss: 1690.020204\n",
      "INFO | epoch 6 (  0%) loss: 1662.896606\n",
      "INFO | epoch 6 ( 35%) loss: 1615.638401\n",
      "INFO | epoch 6 ( 70%) loss: 1560.787056\n",
      "INFO | epoch 6 (100%) loss: 1517.055904\n",
      "INFO | epoch 6 (test) loss: 1401.694407\n",
      "INFO | epoch 7 (  0%) loss: 1405.105469\n",
      "INFO | epoch 7 ( 35%) loss: 1352.177570\n",
      "INFO | epoch 7 ( 70%) loss: 1316.524452\n",
      "INFO | epoch 7 (100%) loss: 1285.303911\n",
      "INFO | epoch 7 (test) loss: 1202.941669\n",
      "INFO | epoch 8 (  0%) loss: 1204.430908\n",
      "INFO | epoch 8 ( 35%) loss: 1158.342332\n",
      "INFO | epoch 8 ( 70%) loss: 1128.372970\n",
      "INFO | epoch 8 (100%) loss: 1108.598820\n",
      "INFO | epoch 8 (test) loss: 1072.452693\n",
      "INFO | epoch 9 (  0%) loss: 1079.528809\n",
      "INFO | epoch 9 ( 35%) loss: 999.908872\n",
      "INFO | epoch 9 ( 70%) loss: 983.019368\n",
      "INFO | epoch 9 (100%) loss: 969.543716\n",
      "INFO | epoch 9 (test) loss: 964.181181\n",
      "INFO | epoch 10 (  0%) loss: 965.695923\n",
      "INFO | epoch 10 ( 35%) loss: 891.008652\n",
      "INFO | epoch 10 ( 70%) loss: 878.880563\n",
      "INFO | epoch 10 (100%) loss: 860.926684\n",
      "INFO | epoch 10 (test) loss: 838.020078\n",
      "INFO | epoch 11 (  0%) loss: 772.781921\n",
      "INFO | epoch 11 ( 35%) loss: 792.922000\n",
      "INFO | epoch 11 ( 70%) loss: 786.050082\n",
      "INFO | epoch 11 (100%) loss: 775.132509\n",
      "INFO | epoch 11 (test) loss: 767.461267\n",
      "INFO | epoch 12 (  0%) loss: 812.139099\n",
      "INFO | epoch 12 ( 35%) loss: 718.267288\n",
      "INFO | epoch 12 ( 70%) loss: 705.518328\n",
      "INFO | epoch 12 (100%) loss: 696.830317\n",
      "INFO | epoch 12 (test) loss: 692.279434\n",
      "INFO | epoch 13 (  0%) loss: 672.396851\n",
      "INFO | epoch 13 ( 35%) loss: 651.880378\n",
      "INFO | epoch 13 ( 70%) loss: 640.389715\n",
      "INFO | epoch 13 (100%) loss: 627.448913\n",
      "INFO | epoch 13 (test) loss: 627.140863\n",
      "INFO | epoch 14 (  0%) loss: 562.780334\n",
      "INFO | epoch 14 ( 35%) loss: 588.328482\n",
      "INFO | epoch 14 ( 70%) loss: 580.599440\n",
      "INFO | epoch 14 (100%) loss: 572.043401\n",
      "INFO | epoch 14 (test) loss: 562.892701\n",
      "INFO | epoch 15 (  0%) loss: 484.623627\n",
      "INFO | epoch 15 ( 35%) loss: 534.646434\n",
      "INFO | epoch 15 ( 70%) loss: 526.533734\n",
      "INFO | epoch 15 (100%) loss: 518.887887\n",
      "INFO | epoch 15 (test) loss: 528.138076\n",
      "INFO | epoch 16 (  0%) loss: 502.095551\n",
      "INFO | epoch 16 ( 35%) loss: 486.437920\n",
      "INFO | epoch 16 ( 70%) loss: 481.555071\n",
      "INFO | epoch 16 (100%) loss: 473.151819\n",
      "INFO | epoch 16 (test) loss: 473.533591\n",
      "INFO | epoch 17 (  0%) loss: 449.519165\n",
      "INFO | epoch 17 ( 35%) loss: 441.484015\n",
      "INFO | epoch 17 ( 70%) loss: 438.798391\n",
      "INFO | epoch 17 (100%) loss: 433.365829\n",
      "INFO | epoch 17 (test) loss: 440.816876\n",
      "INFO | epoch 18 (  0%) loss: 399.495850\n",
      "INFO | epoch 18 ( 35%) loss: 408.530015\n",
      "INFO | epoch 18 ( 70%) loss: 402.149140\n",
      "INFO | epoch 18 (100%) loss: 397.606385\n",
      "INFO | epoch 18 (test) loss: 401.019530\n",
      "INFO | epoch 19 (  0%) loss: 453.003021\n",
      "INFO | epoch 19 ( 35%) loss: 377.895344\n",
      "INFO | epoch 19 ( 70%) loss: 368.990254\n",
      "INFO | epoch 19 (100%) loss: 366.206060\n",
      "INFO | epoch 19 (test) loss: 371.304341\n",
      "INFO | epoch 20 (  0%) loss: 335.460205\n",
      "INFO | epoch 20 ( 35%) loss: 343.095791\n",
      "INFO | epoch 20 ( 70%) loss: 340.002079\n",
      "INFO | epoch 20 (100%) loss: 335.803431\n",
      "INFO | epoch 20 (test) loss: 335.894865\n",
      "INFO | epoch 21 (  0%) loss: 296.802490\n",
      "INFO | epoch 21 ( 35%) loss: 312.164853\n",
      "INFO | epoch 21 ( 70%) loss: 308.875708\n",
      "INFO | epoch 21 (100%) loss: 306.165646\n",
      "INFO | epoch 21 (test) loss: 310.249971\n",
      "INFO | epoch 22 (  0%) loss: 286.341583\n",
      "INFO | epoch 22 ( 35%) loss: 289.051791\n",
      "INFO | epoch 22 ( 70%) loss: 288.072267\n",
      "INFO | epoch 22 (100%) loss: 284.024637\n",
      "INFO | epoch 22 (test) loss: 280.037339\n",
      "INFO | epoch 23 (  0%) loss: 242.638611\n",
      "INFO | epoch 23 ( 35%) loss: 271.147570\n",
      "INFO | epoch 23 ( 70%) loss: 264.327403\n",
      "INFO | epoch 23 (100%) loss: 260.964499\n",
      "INFO | epoch 23 (test) loss: 274.264100\n",
      "INFO | epoch 24 (  0%) loss: 289.305695\n",
      "INFO | epoch 24 ( 35%) loss: 244.254910\n",
      "INFO | epoch 24 ( 70%) loss: 242.638935\n",
      "INFO | epoch 24 (100%) loss: 239.258488\n",
      "INFO | epoch 24 (test) loss: 251.874077\n",
      "INFO | epoch 25 (  0%) loss: 244.558105\n",
      "INFO | epoch 25 ( 35%) loss: 229.502627\n",
      "INFO | epoch 25 ( 70%) loss: 229.493192\n",
      "INFO | epoch 25 (100%) loss: 226.526710\n",
      "INFO | epoch 25 (test) loss: 223.854063\n",
      "INFO | epoch 26 (  0%) loss: 181.573822\n",
      "INFO | epoch 26 ( 35%) loss: 210.189668\n",
      "INFO | epoch 26 ( 70%) loss: 207.527818\n",
      "INFO | epoch 26 (100%) loss: 203.983125\n",
      "INFO | epoch 26 (test) loss: 208.331933\n",
      "INFO | epoch 27 (  0%) loss: 239.993164\n",
      "INFO | epoch 27 ( 35%) loss: 189.985752\n",
      "INFO | epoch 27 ( 70%) loss: 191.200293\n",
      "INFO | epoch 27 (100%) loss: 191.034284\n",
      "INFO | epoch 27 (test) loss: 206.462543\n",
      "INFO | epoch 28 (  0%) loss: 169.903488\n",
      "INFO | epoch 28 ( 35%) loss: 178.847659\n",
      "INFO | epoch 28 ( 70%) loss: 179.523196\n",
      "INFO | epoch 28 (100%) loss: 178.393166\n",
      "INFO | epoch 28 (test) loss: 195.238560\n",
      "INFO | epoch 29 (  0%) loss: 222.561859\n",
      "INFO | epoch 29 ( 35%) loss: 171.454504\n",
      "INFO | epoch 29 ( 70%) loss: 173.221006\n",
      "INFO | epoch 29 (100%) loss: 170.446161\n",
      "INFO | epoch 29 (test) loss: 177.570419\n",
      "INFO | epoch 30 (  0%) loss: 163.041199\n",
      "INFO | epoch 30 ( 35%) loss: 167.432833\n",
      "INFO | epoch 30 ( 70%) loss: 163.355911\n",
      "INFO | epoch 30 (100%) loss: 163.100523\n",
      "INFO | epoch 30 (test) loss: 167.642175\n",
      "INFO | epoch 31 (  0%) loss: 161.902527\n",
      "INFO | epoch 31 ( 35%) loss: 149.450778\n",
      "INFO | epoch 31 ( 70%) loss: 150.585629\n",
      "INFO | epoch 31 (100%) loss: 149.627506\n",
      "INFO | epoch 31 (test) loss: 152.908397\n",
      "INFO | epoch 32 (  0%) loss: 155.796280\n",
      "INFO | epoch 32 ( 35%) loss: 135.990653\n",
      "INFO | epoch 32 ( 70%) loss: 143.098346\n",
      "INFO | epoch 32 (100%) loss: 140.027499\n",
      "INFO | epoch 32 (test) loss: 152.978428\n",
      "INFO | epoch 33 (  0%) loss: 111.170067\n",
      "INFO | epoch 33 ( 35%) loss: 132.036911\n",
      "INFO | epoch 33 ( 70%) loss: 130.919764\n",
      "INFO | epoch 33 (100%) loss: 129.458076\n",
      "INFO | epoch 33 (test) loss: 147.489411\n",
      "INFO | epoch 34 (  0%) loss: 109.607239\n",
      "INFO | epoch 34 ( 35%) loss: 165.543425\n",
      "INFO | epoch 34 ( 70%) loss: 148.458235\n",
      "INFO | epoch 34 (100%) loss: 141.181535\n",
      "INFO | epoch 34 (test) loss: 134.016671\n",
      "INFO | epoch 35 (  0%) loss: 113.099304\n",
      "INFO | epoch 35 ( 35%) loss: 119.846042\n",
      "INFO | epoch 35 ( 70%) loss: 121.221982\n",
      "INFO | epoch 35 (100%) loss: 119.546434\n",
      "INFO | epoch 35 (test) loss: 129.577571\n",
      "INFO | epoch 36 (  0%) loss: 107.482361\n",
      "INFO | epoch 36 ( 35%) loss: 118.259935\n",
      "INFO | epoch 36 ( 70%) loss: 114.418997\n",
      "INFO | epoch 36 (100%) loss: 115.706434\n",
      "INFO | epoch 36 (test) loss: 135.409795\n",
      "INFO | epoch 37 (  0%) loss: 142.347214\n",
      "INFO | epoch 37 ( 35%) loss: 106.547493\n",
      "INFO | epoch 37 ( 70%) loss: 107.405305\n",
      "INFO | epoch 37 (100%) loss: 107.313782\n",
      "INFO | epoch 37 (test) loss: 115.969040\n",
      "INFO | epoch 38 (  0%) loss: 105.558899\n",
      "INFO | epoch 38 ( 35%) loss: 105.762894\n",
      "INFO | epoch 38 ( 70%) loss: 105.087370\n",
      "INFO | epoch 38 (100%) loss: 103.492594\n",
      "INFO | epoch 38 (test) loss: 115.981524\n",
      "INFO | epoch 39 (  0%) loss: 97.054688\n",
      "INFO | epoch 39 ( 35%) loss: 109.959447\n",
      "INFO | epoch 39 ( 70%) loss: 108.561257\n",
      "INFO | epoch 39 (100%) loss: 107.194936\n",
      "INFO | epoch 39 (test) loss: 123.119338\n",
      "INFO | epoch 40 (  0%) loss: 96.722099\n",
      "INFO | epoch 40 ( 35%) loss: 107.525156\n",
      "INFO | epoch 40 ( 70%) loss: 101.609633\n",
      "INFO | epoch 40 (100%) loss: 100.658910\n",
      "INFO | epoch 40 (test) loss: 107.436706\n",
      "INFO | epoch 41 (  0%) loss: 90.962791\n",
      "INFO | epoch 41 ( 35%) loss: 102.348862\n",
      "INFO | epoch 41 ( 70%) loss: 100.096526\n",
      "INFO | epoch 41 (100%) loss: 102.870939\n",
      "INFO | epoch 41 (test) loss: 111.233327\n",
      "INFO | epoch 42 (  0%) loss: 102.811951\n",
      "INFO | epoch 42 ( 35%) loss: 101.603687\n",
      "INFO | epoch 42 ( 70%) loss: 105.370946\n",
      "INFO | epoch 42 (100%) loss: 103.570248\n",
      "INFO | epoch 42 (test) loss: 121.109555\n",
      "INFO | epoch 43 (  0%) loss: 90.410202\n",
      "INFO | epoch 43 ( 35%) loss: 102.753502\n",
      "INFO | epoch 43 ( 70%) loss: 102.078284\n",
      "INFO | epoch 43 (100%) loss: 100.079712\n",
      "INFO | epoch 43 (test) loss: 128.211039\n",
      "INFO | epoch 44 (  0%) loss: 95.855476\n",
      "INFO | epoch 44 ( 35%) loss: 105.181576\n",
      "INFO | epoch 44 ( 70%) loss: 102.598658\n",
      "INFO | epoch 44 (100%) loss: 106.844522\n",
      "INFO | epoch 44 (test) loss: 114.335600\n",
      "INFO | epoch 45 (  0%) loss: 94.986794\n",
      "INFO | epoch 45 ( 35%) loss: 100.097543\n",
      "INFO | epoch 45 ( 70%) loss: 97.160113\n",
      "INFO | epoch 45 (100%) loss: 97.059401\n",
      "INFO | epoch 45 (test) loss: 103.243093\n",
      "INFO | epoch 46 (  0%) loss: 81.093018\n",
      "INFO | epoch 46 ( 35%) loss: 103.479680\n",
      "INFO | epoch 46 ( 70%) loss: 112.794185\n",
      "INFO | epoch 46 (100%) loss: 110.376595\n",
      "INFO | epoch 46 (test) loss: 120.758259\n",
      "INFO | epoch 47 (  0%) loss: 112.856918\n",
      "INFO | epoch 47 ( 35%) loss: 98.317698\n",
      "INFO | epoch 47 ( 70%) loss: 99.967633\n",
      "INFO | epoch 47 (100%) loss: 101.208050\n",
      "INFO | epoch 47 (test) loss: 147.431703\n",
      "INFO | epoch 48 (  0%) loss: 154.021576\n",
      "INFO | epoch 48 ( 35%) loss: 112.425756\n",
      "INFO | epoch 48 ( 70%) loss: 114.979028\n",
      "INFO | epoch 48 (100%) loss: 115.083640\n",
      "INFO | epoch 48 (test) loss: 146.712965\n",
      "INFO | epoch 49 (  0%) loss: 116.538826\n",
      "INFO | epoch 49 ( 35%) loss: 126.980562\n",
      "INFO | epoch 49 ( 70%) loss: 129.232897\n",
      "INFO | epoch 49 (100%) loss: 128.622187\n",
      "INFO | epoch 49 (test) loss: 135.030421\n",
      "INFO | epoch 50 (  0%) loss: 103.008781\n",
      "INFO | epoch 50 ( 35%) loss: 119.959253\n",
      "INFO | epoch 50 ( 70%) loss: 121.489050\n",
      "INFO | epoch 50 (100%) loss: 121.852806\n",
      "INFO | epoch 50 (test) loss: 137.946773\n",
      "INFO | model blob saved to /home/jmsdnns/ML/pallets/saved/cvae.pkl\n",
      "INFO | training losses saved to /home/jmsdnns/ML/pallets/saved/cvae.json\n"
     ]
    }
   ],
   "source": [
    "model = M.cvae.CVAE(input_dim, hidden_dim, latent_dim, classes_dim)\n",
    "criterion = M.cvae.Loss()\n",
    "\n",
    "train_losses, test_losses = M.cvae.train(\n",
    "    device, model, criterion, train_loader, test_loader,\n",
    "    learn_rate=LR, epochs=EPOCHS\n",
    ")\n",
    "\n",
    "M.save(SAVE_NAME, model, train_losses, test_losses)"
   ]
  },
  {
   "cell_type": "markdown",
   "id": "77fb32ad",
   "metadata": {},
   "source": [
    "# Results"
   ]
  },
  {
   "cell_type": "markdown",
   "id": "46b6dd3b",
   "metadata": {},
   "source": [
    "## Random Inputs w/ Real Labels"
   ]
  },
  {
   "cell_type": "code",
   "execution_count": 10,
   "id": "f2b9d212",
   "metadata": {},
   "outputs": [],
   "source": [
    "import random\n",
    "\n",
    "def rand_label():\n",
    "    label_idx = int(random.random() * len(dataset._labels))\n",
    "    features = dataset._labels[label_idx]\n",
    "    enabled_names = [k for k,v in zip(dataset._label_keys, features) if v.item() == 1]\n",
    "    return features.to(device), enabled_names\n"
   ]
  },
  {
   "cell_type": "code",
   "execution_count": 11,
   "id": "38c47d81",
   "metadata": {},
   "outputs": [],
   "source": [
    "# Generate new image\n",
    "\n",
    "def rand_punk():\n",
    "    z = torch.randn(1, latent_dim).to(device)\n",
    "    # print(z.shape)\n",
    "    features, names = rand_label()\n",
    "    print(f\"Features: {', '.join(names)}\")\n",
    "\n",
    "    with torch.no_grad():\n",
    "        model.eval()\n",
    "        generated_image = model.decoder(z, features.unsqueeze(0))\n",
    "        # print(generated_image.shape)\n",
    "\n",
    "    decoded_one_hot = generated_image[0]\n",
    "    decoded_one_hot = decoded_one_hot.view((222, 24, 24))\n",
    "    # print(decoded_one_hot.shape)\n",
    "    decoded = DS.one_hot_to_rgba(decoded_one_hot, dataset.mapper)\n",
    "    print(f\"Shape: {decoded.shape}\")\n",
    "    return decoded\n"
   ]
  },
  {
   "cell_type": "markdown",
   "id": "31e74ceb",
   "metadata": {},
   "source": [
    "### 5 Randoms w/ Real Labels"
   ]
  },
  {
   "cell_type": "code",
   "execution_count": 12,
   "metadata": {},
   "outputs": [
    {
     "name": "stdout",
     "output_type": "stream",
     "text": [
      "Features: male, clownEyesBlue, crazyHair, cigarette\n",
      "Shape: torch.Size([4, 24, 24])\n"
     ]
    },
    {
     "data": {
      "image/png": "[encoded data removed]",
      "text/plain": [
       "<Figure size 640x480 with 1 Axes>"
      ]
     },
     "metadata": {},
     "output_type": "display_data"
    }
   ],
   "source": [
    "decoded = rand_punk()\n",
    "\n",
    "plt.imshow(transforms.functional.to_pil_image(decoded))\n",
    "plt.axis('off')\n",
    "plt.show()\n"
   ]
  },
  {
   "cell_type": "code",
   "execution_count": 13,
   "id": "6744444a",
   "metadata": {},
   "outputs": [
    {
     "name": "stdout",
     "output_type": "stream",
     "text": [
      "Features: male, peakSpike, eyePatch\n",
      "Shape: torch.Size([4, 24, 24])\n"
     ]
    },
    {
     "data": {
      "image/png": "[encoded data removed]",
      "text/plain": [
       "<Figure size 640x480 with 1 Axes>"
      ]
     },
     "metadata": {},
     "output_type": "display_data"
    }
   ],
   "source": [
    "decoded = rand_punk()\n",
    "\n",
    "plt.imshow(transforms.functional.to_pil_image(decoded))\n",
    "plt.axis('off')\n",
    "plt.show()\n"
   ]
  },
  {
   "cell_type": "code",
   "execution_count": 14,
   "id": "e190c583",
   "metadata": {},
   "outputs": [
    {
     "name": "stdout",
     "output_type": "stream",
     "text": [
      "Features: male, mohawkThin, mole\n",
      "Shape: torch.Size([4, 24, 24])\n"
     ]
    },
    {
     "data": {
      "image/png": "[encoded data removed]",
      "text/plain": [
       "<Figure size 640x480 with 1 Axes>"
      ]
     },
     "metadata": {},
     "output_type": "display_data"
    }
   ],
   "source": [
    "decoded = rand_punk()\n",
    "\n",
    "plt.imshow(transforms.functional.to_pil_image(decoded))\n",
    "plt.axis('off')\n",
    "plt.show()\n"
   ]
  },
  {
   "cell_type": "code",
   "execution_count": 15,
   "id": "be357c27",
   "metadata": {},
   "outputs": [
    {
     "name": "stdout",
     "output_type": "stream",
     "text": [
      "Features: female, purpleEyeShadow, cap, cigarette\n",
      "Shape: torch.Size([4, 24, 24])\n"
     ]
    },
    {
     "data": {
      "image/png": "[encoded data removed]",
      "text/plain": [
       "<Figure size 640x480 with 1 Axes>"
      ]
     },
     "metadata": {},
     "output_type": "display_data"
    }
   ],
   "source": [
    "decoded = rand_punk()\n",
    "\n",
    "plt.imshow(transforms.functional.to_pil_image(decoded))\n",
    "plt.axis('off')\n",
    "plt.show()\n"
   ]
  },
  {
   "cell_type": "code",
   "execution_count": 16,
   "id": "d8f339ae",
   "metadata": {},
   "outputs": [
    {
     "name": "stdout",
     "output_type": "stream",
     "text": [
      "Features: male, stringyHair\n",
      "Shape: torch.Size([4, 24, 24])\n"
     ]
    },
    {
     "data": {
      "image/png": "[encoded data removed]",
      "text/plain": [
       "<Figure size 640x480 with 1 Axes>"
      ]
     },
     "metadata": {},
     "output_type": "display_data"
    }
   ],
   "source": [
    "decoded = rand_punk()\n",
    "\n",
    "plt.imshow(transforms.functional.to_pil_image(decoded))\n",
    "plt.axis('off')\n",
    "plt.show()\n"
   ]
  },
  {
   "cell_type": "markdown",
   "id": "3e1bd761",
   "metadata": {},
   "source": [
    "## Reconstruction"
   ]
  },
  {
   "cell_type": "code",
   "execution_count": 17,
   "id": "a150efab",
   "metadata": {},
   "outputs": [],
   "source": [
    "def reconstruct_punk(idx):\n",
    "    punk = I.get_punk_tensor(idx)\n",
    "    p = DS.rgba_to_one_hot(punk, dataset.mapper)\n",
    "    p = p.unsqueeze(0)\n",
    "    p = p.to(device)\n",
    "\n",
    "    _, labels = dataset[idx]\n",
    "    l = labels.unsqueeze(0)\n",
    "    l = l.to(device)\n",
    "    enabled_features = [k for k,v in zip(dataset._label_keys, labels) if v.item() == 1]\n",
    "\n",
    "    model.eval()\n",
    "    with torch.no_grad():\n",
    "        reconstructed, mu, logvar = model.forward(p, l)\n",
    "\n",
    "    recon_punk = reconstructed[0].cpu()\n",
    "    recon_punk = DS.one_hot_to_rgba(recon_punk, dataset.mapper)\n",
    "\n",
    "    return punk, recon_punk, enabled_features\n",
    "\n",
    "\n",
    "def draw_two(img1, img2):\n",
    "    page_size = 2\n",
    "    view_x, view_y = 4*page_size, 2*page_size\n",
    "    fig = plt.figure(figsize=(view_x, view_y))\n",
    "    fig.add_subplot(1, 2, 1)\n",
    "    plt.imshow(transforms.functional.to_pil_image(img1))\n",
    "    plt.axis('off')\n",
    "    fig.add_subplot(1, 2, 2)\n",
    "    plt.imshow(transforms.functional.to_pil_image(img2))\n",
    "    plt.axis('off')\n",
    "    plt.show()\n"
   ]
  },
  {
   "cell_type": "markdown",
   "id": "7a12b220",
   "metadata": {},
   "source": [
    "### 5 Reconstructions"
   ]
  },
  {
   "cell_type": "code",
   "execution_count": 18,
   "id": "142e642d",
   "metadata": {},
   "outputs": [
    {
     "name": "stdout",
     "output_type": "stream",
     "text": [
      "Features: female, rosyCheeks, darkHair, cigarette\n"
     ]
    },
    {
     "data": {
      "image/png": "[encoded data removed]",
      "text/plain": [
       "<Figure size 800x400 with 2 Axes>"
      ]
     },
     "metadata": {},
     "output_type": "display_data"
    }
   ],
   "source": [
    "punk, recon_punk, features = reconstruct_punk(1000)\n",
    "\n",
    "print(f\"Features: {', '.join(features)}\")\n",
    "draw_two(punk, recon_punk)"
   ]
  },
  {
   "cell_type": "code",
   "execution_count": 19,
   "metadata": {},
   "outputs": [
    {
     "name": "stdout",
     "output_type": "stream",
     "text": [
      "Features: female, stringyHair, purpleLipstick, earring\n"
     ]
    },
    {
     "data": {
      "image/png": "[encoded data removed]",
      "text/plain": [
       "<Figure size 800x400 with 2 Axes>"
      ]
     },
     "metadata": {},
     "output_type": "display_data"
    }
   ],
   "source": [
    "punk, recon_punk, features = reconstruct_punk(2001)\n",
    "\n",
    "print(f\"Features: {', '.join(features)}\")\n",
    "draw_two(punk, recon_punk)\n"
   ]
  },
  {
   "cell_type": "code",
   "execution_count": 20,
   "id": "8e401eca",
   "metadata": {},
   "outputs": [
    {
     "name": "stdout",
     "output_type": "stream",
     "text": [
      "Features: female, wildWhiteHair, greenEyeShadow, hotLipstick\n"
     ]
    },
    {
     "data": {
      "image/png": "[encoded data removed]",
      "text/plain": [
       "<Figure size 800x400 with 2 Axes>"
      ]
     },
     "metadata": {},
     "output_type": "display_data"
    }
   ],
   "source": [
    "punk, recon_punk, features = reconstruct_punk(5000)\n",
    "\n",
    "print(f\"Features: {', '.join(features)}\")\n",
    "draw_two(punk, recon_punk)"
   ]
  },
  {
   "cell_type": "code",
   "execution_count": 21,
   "id": "99f3ac30",
   "metadata": {},
   "outputs": [
    {
     "name": "stdout",
     "output_type": "stream",
     "text": [
      "Features: male, rosyCheeks, mustache, vr, cap, cigarette\n"
     ]
    },
    {
     "data": {
      "image/png": "[encoded data removed]",
      "text/plain": [
       "<Figure size 800x400 with 2 Axes>"
      ]
     },
     "metadata": {},
     "output_type": "display_data"
    }
   ],
   "source": [
    "punk, recon_punk, features = reconstruct_punk(8000)\n",
    "\n",
    "print(f\"Features: {', '.join(features)}\")\n",
    "draw_two(punk, recon_punk)"
   ]
  },
  {
   "cell_type": "code",
   "execution_count": 22,
   "id": "eb402159",
   "metadata": {},
   "outputs": [
    {
     "name": "stdout",
     "output_type": "stream",
     "text": [
      "Features: male, handlebars, bandana\n"
     ]
    },
    {
     "data": {
      "image/png": "[encoded data removed]",
      "text/plain": [
       "<Figure size 800x400 with 2 Axes>"
      ]
     },
     "metadata": {},
     "output_type": "display_data"
    }
   ],
   "source": [
    "punk, recon_punk, features = reconstruct_punk(1337)\n",
    "\n",
    "print(f\"Features: {', '.join(features)}\")\n",
    "draw_two(punk, recon_punk)"
   ]
  },
  {
   "cell_type": "markdown",
   "id": "76e07a58",
   "metadata": {},
   "source": [
    "## Losses"
   ]
  },
  {
   "cell_type": "code",
   "execution_count": 23,
   "metadata": {},
   "outputs": [
    {
     "data": {
      "text/plain": [
       "<function matplotlib.pyplot.show(close=None, block=None)>"
      ]
     },
     "execution_count": 23,
     "metadata": {},
     "output_type": "execute_result"
    },
    {
     "data": {
      "image/png": "[encoded data removed]",
      "text/plain": [
       "<Figure size 640x480 with 1 Axes>"
      ]
     },
     "metadata": {},
     "output_type": "display_data"
    }
   ],
   "source": [
    "plt.title(\"Train & Test loss\")\n",
    "plt.plot(train_losses, label='train loss')\n",
    "plt.plot(test_losses, label='test loss')\n",
    "plt.legend()\n",
    "plt.show\n"
   ]
  },
  {
   "cell_type": "code",
   "execution_count": 24,
   "id": "c1261252",
   "metadata": {},
   "outputs": [
    {
     "data": {
      "text/plain": [
       "[77993.45989340924,\n",
       " 10423.36374182735,\n",
       " 6432.627264793883,\n",
       " 4678.986799524186,\n",
       " 3701.0304517813606,\n",
       " 3034.1118073159078,\n",
       " 2570.6078216336296,\n",
       " 2217.197640060533,\n",
       " 1939.0874317791445,\n",
       " 1721.8533670411887,\n",
       " 1550.2650185442985,\n",
       " 1393.6606340340688,\n",
       " 1254.897825849817,\n",
       " 1144.0868023811502,\n",
       " 1037.7757749625132,\n",
       " 946.3036388640708,\n",
       " 866.7316576369266,\n",
       " 795.2127706108364,\n",
       " 732.4121194393077,\n",
       " 671.6068627107228,\n",
       " 612.3312921726957,\n",
       " 568.0492743634163,\n",
       " 521.9289981490331,\n",
       " 478.5169764309065,\n",
       " 453.05342015476094,\n",
       " 407.96625039932576,\n",
       " 382.0685673977466,\n",
       " 356.7863326918149,\n",
       " 340.89232271613804,\n",
       " 326.20104653108206,\n",
       " 299.2550123769341,\n",
       " 280.05499803259016,\n",
       " 258.91615262944646,\n",
       " 282.36307017008465,\n",
       " 239.09286791213015,\n",
       " 231.4128674716814,\n",
       " 214.62756449110964,\n",
       " 206.9851871788079,\n",
       " 214.38987203016347,\n",
       " 201.31782082632077,\n",
       " 205.74187740028327,\n",
       " 207.1404960984034,\n",
       " 200.1594230164873,\n",
       " 213.6890443842462,\n",
       " 194.11880233439993,\n",
       " 220.75319003382472,\n",
       " 202.41609981888575,\n",
       " 230.167280034816,\n",
       " 257.24437497186324,\n",
       " 243.70561177679832]"
      ]
     },
     "execution_count": 24,
     "metadata": {},
     "output_type": "execute_result"
    }
   ],
   "source": [
    "train_losses\n"
   ]
  },
  {
   "cell_type": "code",
   "execution_count": 25,
   "id": "15d6f86b",
   "metadata": {},
   "outputs": [
    {
     "data": {
      "text/plain": [
       "[14159.793243408203,\n",
       " 7687.691635131836,\n",
       " 5328.817176818848,\n",
       " 4255.187210083008,\n",
       " 3380.040407180786,\n",
       " 2803.3888149261475,\n",
       " 2405.8833389282227,\n",
       " 2144.9053859710693,\n",
       " 1928.362361907959,\n",
       " 1676.0401554107666,\n",
       " 1534.922534942627,\n",
       " 1384.5588684082031,\n",
       " 1254.2817268371582,\n",
       " 1125.7854022979736,\n",
       " 1056.2761521339417,\n",
       " 947.0671820640564,\n",
       " 881.6337523460388,\n",
       " 802.0390605926514,\n",
       " 742.608681678772,\n",
       " 671.7897305488586,\n",
       " 620.4999413490295,\n",
       " 560.0746772289276,\n",
       " 548.5281991958618,\n",
       " 503.7481541633606,\n",
       " 447.7081253528595,\n",
       " 416.66386556625366,\n",
       " 412.9250867366791,\n",
       " 390.4771201610565,\n",
       " 355.1408386230469,\n",
       " 335.2843506336212,\n",
       " 305.8167943954468,\n",
       " 305.95685625076294,\n",
       " 294.9788212776184,\n",
       " 268.0333411693573,\n",
       " 259.15514290332794,\n",
       " 270.81958961486816,\n",
       " 231.93807983398438,\n",
       " 231.9630470275879,\n",
       " 246.23867630958557,\n",
       " 214.87341284751892,\n",
       " 222.46665477752686,\n",
       " 242.21910989284515,\n",
       " 256.4220778942108,\n",
       " 228.67119932174683,\n",
       " 206.48618698120117,\n",
       " 241.51651895046234,\n",
       " 294.86340618133545,\n",
       " 293.42593026161194,\n",
       " 270.0608425140381,\n",
       " 275.8935457468033]"
      ]
     },
     "execution_count": 25,
     "metadata": {},
     "output_type": "execute_result"
    }
   ],
   "source": [
    "test_losses\n"
   ]
  }
 ],
 "metadata": {
  "kernelspec": {
   "display_name": "Python 3 (ipykernel)",
   "language": "python",
   "name": "python3"
  },
  "language_info": {
   "codemirror_mode": {
    "name": "ipython",
    "version": 3
   },
   "file_extension": ".py",
   "mimetype": "text/x-python",
   "name": "python",
   "nbconvert_exporter": "python",
   "pygments_lexer": "ipython3",
   "version": "3.11.6"
  }
 },
 "nbformat": 4,
 "nbformat_minor": 5
}
