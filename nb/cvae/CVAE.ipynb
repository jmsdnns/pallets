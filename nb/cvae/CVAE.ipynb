{
 "cells": [
  {
   "cell_type": "markdown",
   "metadata": {},
   "source": [
    "# Punks Gen w/ Conditional VAE"
   ]
  },
  {
   "cell_type": "code",
   "execution_count": 1,
   "id": "19d0f047",
   "metadata": {},
   "outputs": [],
   "source": [
    "import sys\n",
    "import os\n",
    "import torch\n",
    "from torchvision import transforms\n",
    "from torch.utils.data import DataLoader, SubsetRandomSampler\n",
    "import matplotlib.pyplot as plt\n",
    "\n",
    "%matplotlib inline\n"
   ]
  },
  {
   "cell_type": "code",
   "execution_count": 2,
   "metadata": {},
   "outputs": [],
   "source": [
    "# Load pallets library\n",
    "\n",
    "sys.path.append(os.path.abspath(os.path.join(os.getcwd(), '..')))\n",
    "from pallets import images as I, datasets as DS, models as M, logging as L\n"
   ]
  },
  {
   "cell_type": "markdown",
   "id": "844bbd48",
   "metadata": {},
   "source": [
    "# Settings"
   ]
  },
  {
   "cell_type": "code",
   "execution_count": 3,
   "id": "9b8ec428",
   "metadata": {},
   "outputs": [],
   "source": [
    "SAVE_NAME = 'cvae.naive'"
   ]
  },
  {
   "cell_type": "code",
   "execution_count": 4,
   "id": "ae1b5c2f",
   "metadata": {},
   "outputs": [],
   "source": [
    "USE_GPU = True\n",
    "LOG_LEVEL = 'INFO'\n",
    "\n",
    "TEST_SIZE = 1000\n",
    "EPOCHS = 50\n",
    "LR = 1e-03\n",
    "BATCH_SIZE = 32\n"
   ]
  },
  {
   "cell_type": "code",
   "execution_count": 5,
   "metadata": {},
   "outputs": [
    {
     "data": {
      "text/plain": [
       "<Logger pallets (INFO)>"
      ]
     },
     "execution_count": 5,
     "metadata": {},
     "output_type": "execute_result"
    }
   ],
   "source": [
    "# To GPU, or not to GPU\n",
    "device = M.get_device(require_gpu=USE_GPU)\n",
    "\n",
    "# Logging\n",
    "L.init_logger(notebook=True)\n"
   ]
  },
  {
   "cell_type": "markdown",
   "metadata": {},
   "source": [
    "## Prepare Datasets"
   ]
  },
  {
   "cell_type": "code",
   "execution_count": 6,
   "id": "35fef1c0",
   "metadata": {},
   "outputs": [],
   "source": [
    "# all_colors = I.get_punk_colors()\n",
    "# mapper = DS.ColorOneHotMapper(all_colors)\n",
    "# dataset = DS.OneHotCPunksDataset(\n",
    "#     mapper, labels_file=LABELS_FILE, test_size=TEST_SIZE\n",
    "# )\n",
    "# torch.save(dataset, '../artifacts/onehot_ds_cpu.pt')\n",
    "\n",
    "dataset = torch.load('../artifacts/onehot_ds_cpu.pt')"
   ]
  },
  {
   "cell_type": "code",
   "execution_count": 7,
   "metadata": {},
   "outputs": [],
   "source": [
    "train_sampler = SubsetRandomSampler(dataset.train_idx)\n",
    "test_sampler = SubsetRandomSampler(dataset.test_idx)\n",
    "\n",
    "train_loader = DataLoader(\n",
    "    dataset, batch_size=BATCH_SIZE, sampler=train_sampler,\n",
    ")\n",
    "test_loader = DataLoader(\n",
    "    dataset, batch_size=BATCH_SIZE, sampler=test_sampler,\n",
    ")\n"
   ]
  },
  {
   "cell_type": "markdown",
   "id": "b39e0222",
   "metadata": {},
   "source": [
    "## CVAE"
   ]
  },
  {
   "cell_type": "code",
   "execution_count": 8,
   "id": "7e4d5fd0",
   "metadata": {},
   "outputs": [],
   "source": [
    "input_dim = 24 * 24 * 222\n",
    "hidden_dim = 576\n",
    "latent_dim = 32\n",
    "classes_dim = 92\n",
    "\n",
    "\n",
    "model = M.cvae.CVAE(input_dim, hidden_dim, latent_dim, classes_dim)\n",
    "criterion = M.cvae.Loss()\n"
   ]
  },
  {
   "cell_type": "code",
   "execution_count": 9,
   "id": "9521e7fe",
   "metadata": {},
   "outputs": [
    {
     "name": "stdout",
     "output_type": "stream",
     "text": [
      "INFO | model: pallets.models.cvae.CVAE\n",
      "INFO | criterion: pallets.models.cvae.Loss\n",
      "INFO | learn rate: 0.001\n",
      "INFO | epochs: 50\n",
      "INFO | epoch 1 (  0%) loss: 1422177.375000\n",
      "INFO | epoch 1 ( 35%) loss: 92106.045299\n",
      "INFO | epoch 1 ( 70%) loss: 51946.647364\n",
      "INFO | epoch 1 (100%) loss: 39234.954006\n",
      "INFO | epoch 1 (test) loss: 6571.292175\n",
      "INFO | epoch 2 (  0%) loss: 6257.865234\n",
      "INFO | epoch 2 ( 35%) loss: 5917.445535\n",
      "INFO | epoch 2 ( 70%) loss: 5559.684808\n",
      "INFO | epoch 2 (100%) loss: 5192.472444\n",
      "INFO | epoch 2 (test) loss: 3872.834715\n",
      "INFO | epoch 3 (  0%) loss: 4005.198730\n",
      "INFO | epoch 3 ( 35%) loss: 3677.484544\n",
      "INFO | epoch 3 ( 70%) loss: 3449.029907\n",
      "INFO | epoch 3 (100%) loss: 3290.213835\n",
      "INFO | epoch 3 (test) loss: 2751.105015\n",
      "INFO | epoch 4 (  0%) loss: 2829.996826\n",
      "INFO | epoch 4 ( 35%) loss: 2644.205900\n",
      "INFO | epoch 4 ( 70%) loss: 2524.381029\n",
      "INFO | epoch 4 (100%) loss: 2428.236728\n",
      "INFO | epoch 4 (test) loss: 2082.985722\n",
      "INFO | epoch 5 (  0%) loss: 2260.326172\n",
      "INFO | epoch 5 ( 35%) loss: 2064.656080\n",
      "INFO | epoch 5 ( 70%) loss: 1980.455031\n",
      "INFO | epoch 5 (100%) loss: 1928.966421\n",
      "INFO | epoch 5 (test) loss: 1747.250071\n",
      "INFO | epoch 6 (  0%) loss: 1636.940674\n",
      "INFO | epoch 6 ( 35%) loss: 1672.840518\n",
      "INFO | epoch 6 ( 70%) loss: 1625.272763\n",
      "INFO | epoch 6 (100%) loss: 1583.651796\n",
      "INFO | epoch 6 (test) loss: 1432.063656\n",
      "INFO | epoch 7 (  0%) loss: 1336.180786\n",
      "INFO | epoch 7 ( 35%) loss: 1392.228282\n",
      "INFO | epoch 7 ( 70%) loss: 1358.419024\n",
      "INFO | epoch 7 (100%) loss: 1331.949389\n",
      "INFO | epoch 7 (test) loss: 1241.022829\n",
      "INFO | epoch 8 (  0%) loss: 1270.260742\n",
      "INFO | epoch 8 ( 35%) loss: 1196.047386\n",
      "INFO | epoch 8 ( 70%) loss: 1169.785924\n",
      "INFO | epoch 8 (100%) loss: 1146.513736\n",
      "INFO | epoch 8 (test) loss: 1079.853089\n",
      "INFO | epoch 9 (  0%) loss: 1016.625183\n",
      "INFO | epoch 9 ( 35%) loss: 1055.199173\n",
      "INFO | epoch 9 ( 70%) loss: 1029.251358\n",
      "INFO | epoch 9 (100%) loss: 1011.064930\n",
      "INFO | epoch 9 (test) loss: 952.926448\n",
      "INFO | epoch 10 (  0%) loss: 920.999023\n",
      "INFO | epoch 10 ( 35%) loss: 930.801877\n",
      "INFO | epoch 10 ( 70%) loss: 907.046130\n",
      "INFO | epoch 10 (100%) loss: 891.909896\n",
      "INFO | epoch 10 (test) loss: 854.803493\n",
      "INFO | epoch 11 (  0%) loss: 847.808960\n",
      "INFO | epoch 11 ( 35%) loss: 825.532373\n",
      "INFO | epoch 11 ( 70%) loss: 812.660162\n",
      "INFO | epoch 11 (100%) loss: 798.142285\n",
      "INFO | epoch 11 (test) loss: 753.051980\n",
      "INFO | epoch 12 (  0%) loss: 759.862854\n",
      "INFO | epoch 12 ( 35%) loss: 746.321854\n",
      "INFO | epoch 12 ( 70%) loss: 734.833067\n",
      "INFO | epoch 12 (100%) loss: 726.545299\n",
      "INFO | epoch 12 (test) loss: 689.702016\n",
      "INFO | epoch 13 (  0%) loss: 713.102783\n",
      "INFO | epoch 13 ( 35%) loss: 675.732532\n",
      "INFO | epoch 13 ( 70%) loss: 664.510067\n",
      "INFO | epoch 13 (100%) loss: 652.807873\n",
      "INFO | epoch 13 (test) loss: 627.962051\n",
      "INFO | epoch 14 (  0%) loss: 610.992432\n",
      "INFO | epoch 14 ( 35%) loss: 619.389619\n",
      "INFO | epoch 14 ( 70%) loss: 604.433979\n",
      "INFO | epoch 14 (100%) loss: 596.698549\n",
      "INFO | epoch 14 (test) loss: 581.594286\n",
      "INFO | epoch 15 (  0%) loss: 553.223450\n",
      "INFO | epoch 15 ( 35%) loss: 555.686044\n",
      "INFO | epoch 15 ( 70%) loss: 549.458777\n",
      "INFO | epoch 15 (100%) loss: 542.658920\n",
      "INFO | epoch 15 (test) loss: 539.533894\n",
      "INFO | epoch 16 (  0%) loss: 513.401978\n",
      "INFO | epoch 16 ( 35%) loss: 512.035686\n",
      "INFO | epoch 16 ( 70%) loss: 505.720545\n",
      "INFO | epoch 16 (100%) loss: 499.216324\n",
      "INFO | epoch 16 (test) loss: 489.830578\n",
      "INFO | epoch 17 (  0%) loss: 470.127960\n",
      "INFO | epoch 17 ( 35%) loss: 464.918061\n",
      "INFO | epoch 17 ( 70%) loss: 458.386423\n",
      "INFO | epoch 17 (100%) loss: 450.707949\n",
      "INFO | epoch 17 (test) loss: 452.073725\n",
      "INFO | epoch 18 (  0%) loss: 421.303436\n",
      "INFO | epoch 18 ( 35%) loss: 428.125257\n",
      "INFO | epoch 18 ( 70%) loss: 422.505068\n",
      "INFO | epoch 18 (100%) loss: 415.786407\n",
      "INFO | epoch 18 (test) loss: 411.426597\n",
      "INFO | epoch 19 (  0%) loss: 360.752075\n",
      "INFO | epoch 19 ( 35%) loss: 392.916556\n",
      "INFO | epoch 19 ( 70%) loss: 385.123220\n",
      "INFO | epoch 19 (100%) loss: 376.918951\n",
      "INFO | epoch 19 (test) loss: 378.562744\n",
      "INFO | epoch 20 (  0%) loss: 363.405396\n",
      "INFO | epoch 20 ( 35%) loss: 365.280082\n",
      "INFO | epoch 20 ( 70%) loss: 358.547053\n",
      "INFO | epoch 20 (100%) loss: 352.235404\n",
      "INFO | epoch 20 (test) loss: 345.461952\n",
      "INFO | epoch 21 (  0%) loss: 283.033966\n",
      "INFO | epoch 21 ( 35%) loss: 326.880542\n",
      "INFO | epoch 21 ( 70%) loss: 322.195469\n",
      "INFO | epoch 21 (100%) loss: 317.490391\n",
      "INFO | epoch 21 (test) loss: 321.613193\n",
      "INFO | epoch 22 (  0%) loss: 294.938873\n",
      "INFO | epoch 22 ( 35%) loss: 299.595753\n",
      "INFO | epoch 22 ( 70%) loss: 295.102850\n",
      "INFO | epoch 22 (100%) loss: 290.937267\n",
      "INFO | epoch 22 (test) loss: 316.754857\n",
      "INFO | epoch 23 (  0%) loss: 308.831970\n",
      "INFO | epoch 23 ( 35%) loss: 279.525406\n",
      "INFO | epoch 23 ( 70%) loss: 272.078239\n",
      "INFO | epoch 23 (100%) loss: 268.009964\n",
      "INFO | epoch 23 (test) loss: 267.968333\n",
      "INFO | epoch 24 (  0%) loss: 226.507996\n",
      "INFO | epoch 24 ( 35%) loss: 262.953126\n",
      "INFO | epoch 24 ( 70%) loss: 255.501263\n",
      "INFO | epoch 24 (100%) loss: 249.286757\n",
      "INFO | epoch 24 (test) loss: 259.199045\n",
      "INFO | epoch 25 (  0%) loss: 208.868362\n",
      "INFO | epoch 25 ( 35%) loss: 231.398951\n",
      "INFO | epoch 25 ( 70%) loss: 231.447248\n",
      "INFO | epoch 25 (100%) loss: 226.983891\n",
      "INFO | epoch 25 (test) loss: 232.907037\n",
      "INFO | epoch 26 (  0%) loss: 187.593048\n",
      "INFO | epoch 26 ( 35%) loss: 217.101489\n",
      "INFO | epoch 26 ( 70%) loss: 218.582170\n",
      "INFO | epoch 26 (100%) loss: 214.046230\n",
      "INFO | epoch 26 (test) loss: 225.554520\n",
      "INFO | epoch 27 (  0%) loss: 174.094681\n",
      "INFO | epoch 27 ( 35%) loss: 193.260830\n",
      "INFO | epoch 27 ( 70%) loss: 194.613078\n",
      "INFO | epoch 27 (100%) loss: 193.060973\n",
      "INFO | epoch 27 (test) loss: 212.967843\n",
      "INFO | epoch 28 (  0%) loss: 200.943192\n",
      "INFO | epoch 28 ( 35%) loss: 193.923803\n",
      "INFO | epoch 28 ( 70%) loss: 187.716335\n",
      "INFO | epoch 28 (100%) loss: 185.735688\n",
      "INFO | epoch 28 (test) loss: 196.198347\n",
      "INFO | epoch 29 (  0%) loss: 211.676071\n",
      "INFO | epoch 29 ( 35%) loss: 174.900867\n",
      "INFO | epoch 29 ( 70%) loss: 171.919767\n",
      "INFO | epoch 29 (100%) loss: 167.769619\n",
      "INFO | epoch 29 (test) loss: 173.502402\n",
      "INFO | epoch 30 (  0%) loss: 143.930954\n",
      "INFO | epoch 30 ( 35%) loss: 154.768452\n",
      "INFO | epoch 30 ( 70%) loss: 156.518272\n",
      "INFO | epoch 30 (100%) loss: 157.456005\n",
      "INFO | epoch 30 (test) loss: 168.329146\n",
      "INFO | epoch 31 (  0%) loss: 144.096619\n",
      "INFO | epoch 31 ( 35%) loss: 148.337126\n",
      "INFO | epoch 31 ( 70%) loss: 148.421468\n",
      "INFO | epoch 31 (100%) loss: 148.406952\n",
      "INFO | epoch 31 (test) loss: 157.354007\n",
      "INFO | epoch 32 (  0%) loss: 136.595276\n",
      "INFO | epoch 32 ( 35%) loss: 135.563628\n",
      "INFO | epoch 32 ( 70%) loss: 135.230923\n",
      "INFO | epoch 32 (100%) loss: 135.925259\n",
      "INFO | epoch 32 (test) loss: 154.410204\n",
      "INFO | epoch 33 (  0%) loss: 145.198242\n",
      "INFO | epoch 33 ( 35%) loss: 132.679741\n",
      "INFO | epoch 33 ( 70%) loss: 131.675735\n",
      "INFO | epoch 33 (100%) loss: 129.722289\n",
      "INFO | epoch 33 (test) loss: 142.847099\n",
      "INFO | epoch 34 (  0%) loss: 288.378448\n",
      "INFO | epoch 34 ( 35%) loss: 129.753919\n",
      "INFO | epoch 34 ( 70%) loss: 130.082318\n",
      "INFO | epoch 34 (100%) loss: 130.038298\n",
      "INFO | epoch 34 (test) loss: 166.957205\n",
      "INFO | epoch 35 (  0%) loss: 129.873260\n",
      "INFO | epoch 35 ( 35%) loss: 124.015932\n",
      "INFO | epoch 35 ( 70%) loss: 120.554709\n",
      "INFO | epoch 35 (100%) loss: 120.171671\n",
      "INFO | epoch 35 (test) loss: 147.332180\n",
      "INFO | epoch 36 (  0%) loss: 127.130707\n",
      "INFO | epoch 36 ( 35%) loss: 115.316893\n",
      "INFO | epoch 36 ( 70%) loss: 111.650946\n",
      "INFO | epoch 36 (100%) loss: 110.693915\n",
      "INFO | epoch 36 (test) loss: 129.917164\n",
      "INFO | epoch 37 (  0%) loss: 116.272629\n",
      "INFO | epoch 37 ( 35%) loss: 108.636942\n",
      "INFO | epoch 37 ( 70%) loss: 113.135413\n",
      "INFO | epoch 37 (100%) loss: 109.448628\n",
      "INFO | epoch 37 (test) loss: 120.619125\n",
      "INFO | epoch 38 (  0%) loss: 97.470253\n",
      "INFO | epoch 38 ( 35%) loss: 106.007235\n",
      "INFO | epoch 38 ( 70%) loss: 101.836166\n",
      "INFO | epoch 38 (100%) loss: 102.670863\n",
      "INFO | epoch 38 (test) loss: 121.114139\n",
      "INFO | epoch 39 (  0%) loss: 102.639084\n",
      "INFO | epoch 39 ( 35%) loss: 108.597775\n",
      "INFO | epoch 39 ( 70%) loss: 103.783462\n",
      "INFO | epoch 39 (100%) loss: 106.493782\n",
      "INFO | epoch 39 (test) loss: 137.344931\n",
      "INFO | epoch 40 (  0%) loss: 96.276169\n",
      "INFO | epoch 40 ( 35%) loss: 115.041542\n",
      "INFO | epoch 40 ( 70%) loss: 108.662962\n",
      "INFO | epoch 40 (100%) loss: 106.374440\n",
      "INFO | epoch 40 (test) loss: 109.572654\n",
      "INFO | epoch 41 (  0%) loss: 130.732086\n",
      "INFO | epoch 41 ( 35%) loss: 93.074563\n",
      "INFO | epoch 41 ( 70%) loss: 96.309088\n",
      "INFO | epoch 41 (100%) loss: 95.848401\n",
      "INFO | epoch 41 (test) loss: 119.338068\n",
      "INFO | epoch 42 (  0%) loss: 116.901672\n",
      "INFO | epoch 42 ( 35%) loss: 89.592001\n",
      "INFO | epoch 42 ( 70%) loss: 91.485276\n",
      "INFO | epoch 42 (100%) loss: 92.794477\n",
      "INFO | epoch 42 (test) loss: 109.538967\n",
      "INFO | epoch 43 (  0%) loss: 93.675949\n",
      "INFO | epoch 43 ( 35%) loss: 93.335564\n",
      "INFO | epoch 43 ( 70%) loss: 95.050544\n",
      "INFO | epoch 43 (100%) loss: 98.007017\n",
      "INFO | epoch 43 (test) loss: 115.630864\n",
      "INFO | epoch 44 (  0%) loss: 82.550529\n",
      "INFO | epoch 44 ( 35%) loss: 96.016148\n",
      "INFO | epoch 44 ( 70%) loss: 95.358824\n",
      "INFO | epoch 44 (100%) loss: 95.457491\n",
      "INFO | epoch 44 (test) loss: 116.455590\n",
      "INFO | epoch 45 (  0%) loss: 95.970764\n",
      "INFO | epoch 45 ( 35%) loss: 93.076061\n",
      "INFO | epoch 45 ( 70%) loss: 92.976851\n",
      "INFO | epoch 45 (100%) loss: 89.822519\n",
      "INFO | epoch 45 (test) loss: 100.330715\n",
      "INFO | epoch 46 (  0%) loss: 75.618668\n",
      "INFO | epoch 46 ( 35%) loss: 87.555583\n",
      "INFO | epoch 46 ( 70%) loss: 96.776865\n",
      "INFO | epoch 46 (100%) loss: 94.312322\n",
      "INFO | epoch 46 (test) loss: 103.840454\n",
      "INFO | epoch 47 (  0%) loss: 79.597626\n",
      "INFO | epoch 47 ( 35%) loss: 87.412764\n",
      "INFO | epoch 47 ( 70%) loss: 89.004320\n",
      "INFO | epoch 47 (100%) loss: 88.550712\n",
      "INFO | epoch 47 (test) loss: 120.949073\n",
      "INFO | epoch 48 (  0%) loss: 99.541939\n",
      "INFO | epoch 48 ( 35%) loss: 101.462608\n",
      "INFO | epoch 48 ( 70%) loss: 94.728118\n",
      "INFO | epoch 48 (100%) loss: 94.821380\n",
      "INFO | epoch 48 (test) loss: 106.684827\n",
      "INFO | epoch 49 (  0%) loss: 84.630157\n",
      "INFO | epoch 49 ( 35%) loss: 92.151715\n",
      "INFO | epoch 49 ( 70%) loss: 93.292053\n",
      "INFO | epoch 49 (100%) loss: 90.821988\n",
      "INFO | epoch 49 (test) loss: 102.319845\n",
      "INFO | epoch 50 (  0%) loss: 90.140182\n",
      "INFO | epoch 50 ( 35%) loss: 81.849305\n",
      "INFO | epoch 50 ( 70%) loss: 83.191328\n",
      "INFO | epoch 50 (100%) loss: 81.974755\n",
      "INFO | epoch 50 (test) loss: 98.133075\n"
     ]
    }
   ],
   "source": [
    "\n",
    "train_losses, test_losses = M.cvae.train(\n",
    "    device, model, criterion, train_loader, test_loader,\n",
    "    learn_rate=LR, epochs=EPOCHS\n",
    ")\n"
   ]
  },
  {
   "cell_type": "code",
   "execution_count": 10,
   "metadata": {},
   "outputs": [
    {
     "name": "stdout",
     "output_type": "stream",
     "text": [
      "INFO | model blob saved to /home/jmsdnns/ML/pallets/saved/cvae.naive.pkl\n",
      "INFO | training losses saved to /home/jmsdnns/ML/pallets/saved/cvae.naive.json\n"
     ]
    }
   ],
   "source": [
    "M.save(SAVE_NAME, model, train_losses, test_losses)"
   ]
  },
  {
   "cell_type": "markdown",
   "id": "77fb32ad",
   "metadata": {},
   "source": [
    "# Model Output to Image"
   ]
  },
  {
   "cell_type": "code",
   "execution_count": 11,
   "id": "84a76798",
   "metadata": {},
   "outputs": [],
   "source": [
    "# model, train_losses, test_losses = M.load(SAVE_NAME, device)\n",
    "# model = model.to(device)\n"
   ]
  },
  {
   "cell_type": "markdown",
   "id": "c71acb2c",
   "metadata": {},
   "source": [
    "#"
   ]
  },
  {
   "cell_type": "code",
   "execution_count": 12,
   "id": "f2b9d212",
   "metadata": {},
   "outputs": [],
   "source": [
    "import random\n",
    "import json\n",
    "\n",
    "raw_labels = json.load(open(\"../artifacts/pallets_labels.json\"))\n",
    "label_keys = [k for k in raw_labels[\"0\"].keys()]\n",
    "\n",
    "def rand_label():\n",
    "    label_idx = int(random.random() * len(dataset._labels))\n",
    "    features = dataset._labels[label_idx]\n",
    "    enabled_names = [k for k,v in zip(label_keys, features) if v.item() == 1]\n",
    "    return features.to(device), enabled_names\n"
   ]
  },
  {
   "cell_type": "code",
   "execution_count": 13,
   "id": "38c47d81",
   "metadata": {},
   "outputs": [],
   "source": [
    "# Generate new image\n",
    "\n",
    "def rand_punk():\n",
    "    z = torch.randn(1, latent_dim).to(device)\n",
    "    # print(z.shape)\n",
    "    features, names = rand_label()\n",
    "    print(f\"Features: {', '.join(names)}\")\n",
    "\n",
    "    with torch.no_grad():\n",
    "        model.eval()\n",
    "        generated_image = model.decoder(z, features.unsqueeze(0))\n",
    "        # print(generated_image.shape)\n",
    "\n",
    "    decoded_one_hot = generated_image[0]\n",
    "    decoded_one_hot = decoded_one_hot.view((222, 24, 24))\n",
    "    # print(decoded_one_hot.shape)\n",
    "    decoded = DS.one_hot_to_rgba(decoded_one_hot, dataset.mapper)\n",
    "    print(f\"Shape: {decoded.shape}\")\n",
    "    return decoded\n"
   ]
  },
  {
   "cell_type": "markdown",
   "id": "31e74ceb",
   "metadata": {},
   "source": [
    "### 5 Randoms"
   ]
  },
  {
   "cell_type": "code",
   "execution_count": 14,
   "metadata": {},
   "outputs": [
    {
     "name": "stdout",
     "output_type": "stream",
     "text": [
      "Features: female, greenEyeShadow, bandana, purpleLipstick, cigarette\n",
      "Shape: torch.Size([4, 24, 24])\n"
     ]
    },
    {
     "data": {
      "image/png": "[encoded data removed]",
      "text/plain": [
       "<Figure size 640x480 with 1 Axes>"
      ]
     },
     "metadata": {},
     "output_type": "display_data"
    }
   ],
   "source": [
    "decoded = rand_punk()\n",
    "\n",
    "plt.imshow(transforms.functional.to_pil_image(decoded))\n",
    "plt.axis('off')\n",
    "plt.show()\n"
   ]
  },
  {
   "cell_type": "code",
   "execution_count": 15,
   "id": "6744444a",
   "metadata": {},
   "outputs": [
    {
     "name": "stdout",
     "output_type": "stream",
     "text": [
      "Features: female, straightHairBlonde, hornedRimGlasses, blackLipstick\n",
      "Shape: torch.Size([4, 24, 24])\n"
     ]
    },
    {
     "data": {
      "image/png": "[encoded data removed]",
      "text/plain": [
       "<Figure size 640x480 with 1 Axes>"
      ]
     },
     "metadata": {},
     "output_type": "display_data"
    }
   ],
   "source": [
    "decoded = rand_punk()\n",
    "\n",
    "plt.imshow(transforms.functional.to_pil_image(decoded))\n",
    "plt.axis('off')\n",
    "plt.show()\n"
   ]
  },
  {
   "cell_type": "code",
   "execution_count": 16,
   "id": "e190c583",
   "metadata": {},
   "outputs": [
    {
     "name": "stdout",
     "output_type": "stream",
     "text": [
      "Features: male, chinstrap, mohawk, classicShades\n",
      "Shape: torch.Size([4, 24, 24])\n"
     ]
    },
    {
     "data": {
      "image/png": "[encoded data removed]",
      "text/plain": [
       "<Figure size 640x480 with 1 Axes>"
      ]
     },
     "metadata": {},
     "output_type": "display_data"
    }
   ],
   "source": [
    "decoded = rand_punk()\n",
    "\n",
    "plt.imshow(transforms.functional.to_pil_image(decoded))\n",
    "plt.axis('off')\n",
    "plt.show()\n"
   ]
  },
  {
   "cell_type": "code",
   "execution_count": 17,
   "id": "be357c27",
   "metadata": {},
   "outputs": [
    {
     "name": "stdout",
     "output_type": "stream",
     "text": [
      "Features: female, blondeShort, blueEyeShadow\n",
      "Shape: torch.Size([4, 24, 24])\n"
     ]
    },
    {
     "data": {
      "image/png": "[encoded data removed]",
      "text/plain": [
       "<Figure size 640x480 with 1 Axes>"
      ]
     },
     "metadata": {},
     "output_type": "display_data"
    }
   ],
   "source": [
    "decoded = rand_punk()\n",
    "\n",
    "plt.imshow(transforms.functional.to_pil_image(decoded))\n",
    "plt.axis('off')\n",
    "plt.show()\n"
   ]
  },
  {
   "cell_type": "code",
   "execution_count": 18,
   "id": "d8f339ae",
   "metadata": {},
   "outputs": [
    {
     "name": "stdout",
     "output_type": "stream",
     "text": [
      "Features: male, normalBeard, mohawkDark, earring\n",
      "Shape: torch.Size([4, 24, 24])\n"
     ]
    },
    {
     "data": {
      "image/png": "[encoded data removed]",
      "text/plain": [
       "<Figure size 640x480 with 1 Axes>"
      ]
     },
     "metadata": {},
     "output_type": "display_data"
    }
   ],
   "source": [
    "decoded = rand_punk()\n",
    "\n",
    "plt.imshow(transforms.functional.to_pil_image(decoded))\n",
    "plt.axis('off')\n",
    "plt.show()\n"
   ]
  },
  {
   "cell_type": "markdown",
   "id": "3e1bd761",
   "metadata": {},
   "source": [
    "## Reconstruction"
   ]
  },
  {
   "cell_type": "code",
   "execution_count": 19,
   "id": "a150efab",
   "metadata": {},
   "outputs": [],
   "source": [
    "def reconstruct_punk(idx):\n",
    "    punk = I.get_punk_tensor(idx)\n",
    "    p = DS.rgba_to_one_hot(punk, dataset.mapper)\n",
    "    p = p.unsqueeze(0)\n",
    "    p = p.to(device)\n",
    "\n",
    "    _, labels = dataset[idx]\n",
    "    l = labels.unsqueeze(0)\n",
    "    l = l.to(device)\n",
    "    enabled_features = [k for k,v in zip(label_keys, labels) if v.item() == 1]\n",
    "\n",
    "    model.eval()\n",
    "    with torch.no_grad():\n",
    "        reconstructed, mu, logvar = model.forward(p, l)\n",
    "\n",
    "    recon_punk = reconstructed[0].cpu()\n",
    "    recon_punk = DS.one_hot_to_rgba(recon_punk, dataset.mapper)\n",
    "\n",
    "    return punk, recon_punk, enabled_features\n",
    "\n",
    "\n",
    "def draw_two(img1, img2):\n",
    "    page_size = 2\n",
    "    view_x, view_y = 4*page_size, 2*page_size\n",
    "    fig = plt.figure(figsize=(view_x, view_y))\n",
    "    fig.add_subplot(1, 2, 1)\n",
    "    plt.imshow(transforms.functional.to_pil_image(img1))\n",
    "    plt.axis('off')\n",
    "    fig.add_subplot(1, 2, 2)\n",
    "    plt.imshow(transforms.functional.to_pil_image(img2))\n",
    "    plt.axis('off')\n",
    "    plt.show()\n"
   ]
  },
  {
   "cell_type": "markdown",
   "id": "7a12b220",
   "metadata": {},
   "source": [
    "### 5 Recons"
   ]
  },
  {
   "cell_type": "code",
   "execution_count": 20,
   "id": "142e642d",
   "metadata": {},
   "outputs": [
    {
     "name": "stdout",
     "output_type": "stream",
     "text": [
      "Features: female, rosyCheeks, darkHair, cigarette\n"
     ]
    },
    {
     "data": {
      "image/png": "[encoded data removed]",
      "text/plain": [
       "<Figure size 800x400 with 2 Axes>"
      ]
     },
     "metadata": {},
     "output_type": "display_data"
    }
   ],
   "source": [
    "punk, recon_punk, features = reconstruct_punk(1000)\n",
    "\n",
    "print(f\"Features: {', '.join(features)}\")\n",
    "draw_two(punk, recon_punk)"
   ]
  },
  {
   "cell_type": "code",
   "execution_count": 21,
   "metadata": {},
   "outputs": [
    {
     "name": "stdout",
     "output_type": "stream",
     "text": [
      "Features: female, stringyHair, purpleLipstick, earring\n"
     ]
    },
    {
     "data": {
      "image/png": "[encoded data removed]",
      "text/plain": [
       "<Figure size 800x400 with 2 Axes>"
      ]
     },
     "metadata": {},
     "output_type": "display_data"
    }
   ],
   "source": [
    "punk, recon_punk, features = reconstruct_punk(2001)\n",
    "\n",
    "print(f\"Features: {', '.join(features)}\")\n",
    "draw_two(punk, recon_punk)\n"
   ]
  },
  {
   "cell_type": "code",
   "execution_count": 22,
   "id": "8e401eca",
   "metadata": {},
   "outputs": [
    {
     "name": "stdout",
     "output_type": "stream",
     "text": [
      "Features: female, wildWhiteHair, greenEyeShadow, hotLipstick\n"
     ]
    },
    {
     "data": {
      "image/png": "[encoded data removed]",
      "text/plain": [
       "<Figure size 800x400 with 2 Axes>"
      ]
     },
     "metadata": {},
     "output_type": "display_data"
    }
   ],
   "source": [
    "punk, recon_punk, features = reconstruct_punk(5000)\n",
    "\n",
    "print(f\"Features: {', '.join(features)}\")\n",
    "draw_two(punk, recon_punk)"
   ]
  },
  {
   "cell_type": "code",
   "execution_count": 23,
   "id": "99f3ac30",
   "metadata": {},
   "outputs": [
    {
     "name": "stdout",
     "output_type": "stream",
     "text": [
      "Features: male, rosyCheeks, mustache, vr, cap, cigarette\n"
     ]
    },
    {
     "data": {
      "image/png": "[encoded data removed]",
      "text/plain": [
       "<Figure size 800x400 with 2 Axes>"
      ]
     },
     "metadata": {},
     "output_type": "display_data"
    }
   ],
   "source": [
    "punk, recon_punk, features = reconstruct_punk(8000)\n",
    "\n",
    "print(f\"Features: {', '.join(features)}\")\n",
    "draw_two(punk, recon_punk)"
   ]
  },
  {
   "cell_type": "code",
   "execution_count": 24,
   "id": "eb402159",
   "metadata": {},
   "outputs": [
    {
     "name": "stdout",
     "output_type": "stream",
     "text": [
      "Features: male, handlebars, bandana\n"
     ]
    },
    {
     "data": {
      "image/png": "[encoded data removed]",
      "text/plain": [
       "<Figure size 800x400 with 2 Axes>"
      ]
     },
     "metadata": {},
     "output_type": "display_data"
    }
   ],
   "source": [
    "punk, recon_punk, features = reconstruct_punk(1337)\n",
    "\n",
    "print(f\"Features: {', '.join(features)}\")\n",
    "draw_two(punk, recon_punk)"
   ]
  },
  {
   "cell_type": "markdown",
   "id": "04a97510",
   "metadata": {},
   "source": [
    "# Testing"
   ]
  },
  {
   "cell_type": "code",
   "execution_count": 25,
   "metadata": {},
   "outputs": [
    {
     "data": {
      "text/plain": [
       "<function matplotlib.pyplot.show(close=None, block=None)>"
      ]
     },
     "execution_count": 25,
     "metadata": {},
     "output_type": "execute_result"
    },
    {
     "data": {
      "image/png": "[encoded data removed]",
      "text/plain": [
       "<Figure size 640x480 with 1 Axes>"
      ]
     },
     "metadata": {},
     "output_type": "display_data"
    }
   ],
   "source": [
    "plt.title(\"Train & Test loss\")\n",
    "plt.plot(train_losses, label='train loss')\n",
    "plt.plot(test_losses, label='test loss')\n",
    "plt.legend()\n",
    "plt.show\n"
   ]
  },
  {
   "cell_type": "code",
   "execution_count": 26,
   "id": "c1261252",
   "metadata": {},
   "outputs": [
    {
     "data": {
      "text/plain": [
       "[78469.90801266069,\n",
       " 10384.94488828402,\n",
       " 6580.427669011109,\n",
       " 4856.473455983696,\n",
       " 3857.9328427145665,\n",
       " 3167.303592330175,\n",
       " 2663.898777522094,\n",
       " 2293.0274723134144,\n",
       " 2022.129860086644,\n",
       " 1783.8197913203678,\n",
       " 1596.2845698146955,\n",
       " 1453.0905972744556,\n",
       " 1305.6157455985428,\n",
       " 1193.3970975402399,\n",
       " 1085.3178404679536,\n",
       " 998.43264824617,\n",
       " 901.4158971258935,\n",
       " 831.5728144003144,\n",
       " 753.8379018797096,\n",
       " 704.4708080968113,\n",
       " 634.9807812846299,\n",
       " 581.8745333083133,\n",
       " 536.0199273833147,\n",
       " 498.5735132744972,\n",
       " 453.9677823655149,\n",
       " 428.0924604699967,\n",
       " 386.12194569905597,\n",
       " 371.47137635143093,\n",
       " 335.5392375432008,\n",
       " 314.9120096788339,\n",
       " 296.8139039979759,\n",
       " 271.85051748938594,\n",
       " 259.4445785089587,\n",
       " 260.0765958745429,\n",
       " 240.34334220615685,\n",
       " 221.38782925977773,\n",
       " 218.89725585017644,\n",
       " 205.34172501800754,\n",
       " 212.98756474975153,\n",
       " 212.74887983173343,\n",
       " 191.69680116531697,\n",
       " 185.58895451971824,\n",
       " 196.01403364898465,\n",
       " 190.91498155796782,\n",
       " 179.64503737375247,\n",
       " 188.62464485439003,\n",
       " 177.10142318238604,\n",
       " 189.642760784068,\n",
       " 181.64397594100194,\n",
       " 163.94951079077754]"
      ]
     },
     "execution_count": 26,
     "metadata": {},
     "output_type": "execute_result"
    }
   ],
   "source": [
    "train_losses\n"
   ]
  },
  {
   "cell_type": "code",
   "execution_count": 27,
   "id": "15d6f86b",
   "metadata": {},
   "outputs": [
    {
     "data": {
      "text/plain": [
       "[13142.584350585938,\n",
       " 7745.669429779053,\n",
       " 5502.210029602051,\n",
       " 4165.9714431762695,\n",
       " 3494.500141143799,\n",
       " 2864.127311706543,\n",
       " 2482.0456581115723,\n",
       " 2159.706178665161,\n",
       " 1905.8528966903687,\n",
       " 1709.606985092163,\n",
       " 1506.1039600372314,\n",
       " 1379.40403175354,\n",
       " 1255.9241018295288,\n",
       " 1163.1885719299316,\n",
       " 1079.0677871704102,\n",
       " 979.6611561775208,\n",
       " 904.1474494934082,\n",
       " 822.8531937599182,\n",
       " 757.1254873275757,\n",
       " 690.9239044189453,\n",
       " 643.2263851165771,\n",
       " 633.5097146034241,\n",
       " 535.936665058136,\n",
       " 518.3980898857117,\n",
       " 465.8140733242035,\n",
       " 451.10904026031494,\n",
       " 425.93568563461304,\n",
       " 392.3966934680939,\n",
       " 347.0048031806946,\n",
       " 336.65829157829285,\n",
       " 314.7080146074295,\n",
       " 308.82040882110596,\n",
       " 285.69419741630554,\n",
       " 333.9144096374512,\n",
       " 294.66436076164246,\n",
       " 259.8343276977539,\n",
       " 241.23825097084045,\n",
       " 242.22827744483948,\n",
       " 274.68986225128174,\n",
       " 219.14530897140503,\n",
       " 238.67613577842712,\n",
       " 219.07793474197388,\n",
       " 231.26172769069672,\n",
       " 232.91118049621582,\n",
       " 200.6614307165146,\n",
       " 207.6809070110321,\n",
       " 241.89814591407776,\n",
       " 213.36965441703796,\n",
       " 204.63969004154205,\n",
       " 196.26614916324615]"
      ]
     },
     "execution_count": 27,
     "metadata": {},
     "output_type": "execute_result"
    }
   ],
   "source": [
    "test_losses\n"
   ]
  }
 ],
 "metadata": {
  "kernelspec": {
   "display_name": "Python 3 (ipykernel)",
   "language": "python",
   "name": "python3"
  },
  "language_info": {
   "codemirror_mode": {
    "name": "ipython",
    "version": 3
   },
   "file_extension": ".py",
   "mimetype": "text/x-python",
   "name": "python",
   "nbconvert_exporter": "python",
   "pygments_lexer": "ipython3",
   "version": "3.11.6"
  }
 },
 "nbformat": 4,
 "nbformat_minor": 5
}
