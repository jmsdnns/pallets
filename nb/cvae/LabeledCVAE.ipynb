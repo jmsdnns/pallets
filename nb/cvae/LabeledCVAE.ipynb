{
 "cells": [
  {
   "cell_type": "markdown",
   "metadata": {},
   "source": [
    "# Labeled CVAE"
   ]
  },
  {
   "cell_type": "code",
   "execution_count": 1,
   "id": "19d0f047",
   "metadata": {},
   "outputs": [],
   "source": [
    "import torch\n",
    "from torchvision import transforms\n",
    "from torch.utils.data import DataLoader, SubsetRandomSampler\n",
    "import matplotlib.pyplot as plt\n",
    "%matplotlib inline"
   ]
  },
  {
   "cell_type": "code",
   "execution_count": 2,
   "metadata": {},
   "outputs": [],
   "source": [
    "# Load pallets library from project root\n",
    "import sys, os\n",
    "sys.path.append(os.path.abspath(os.path.join(os.getcwd(), '..', '..')))\n",
    "\n",
    "from pallets import (\n",
    "    images as I,\n",
    "    datasets as DS,\n",
    "    models as M,\n",
    "    logging as L\n",
    ")\n"
   ]
  },
  {
   "cell_type": "markdown",
   "id": "844bbd48",
   "metadata": {},
   "source": [
    "# Settings"
   ]
  },
  {
   "cell_type": "code",
   "execution_count": 3,
   "id": "9b8ec428",
   "metadata": {},
   "outputs": [],
   "source": [
    "SAVE_NAME = 'cvae.labeled'"
   ]
  },
  {
   "cell_type": "code",
   "execution_count": 4,
   "id": "ae1b5c2f",
   "metadata": {},
   "outputs": [],
   "source": [
    "USE_GPU = True\n",
    "LOG_LEVEL = 'INFO'\n",
    "LABELS_FILE = 'pallets_labels.json'\n",
    "\n",
    "TEST_SIZE = 1000\n",
    "EPOCHS = 50\n",
    "LR = 1e-03\n",
    "BATCH_SIZE = 32\n"
   ]
  },
  {
   "cell_type": "code",
   "execution_count": 5,
   "metadata": {},
   "outputs": [
    {
     "data": {
      "text/plain": [
       "<Logger pallets (INFO)>"
      ]
     },
     "execution_count": 5,
     "metadata": {},
     "output_type": "execute_result"
    }
   ],
   "source": [
    "# To GPU, or not to GPU\n",
    "device = M.get_device(require_gpu=USE_GPU)\n",
    "\n",
    "# Logging\n",
    "L.init_logger(level=LOG_LEVEL, notebook=True)\n"
   ]
  },
  {
   "cell_type": "markdown",
   "metadata": {},
   "source": [
    "## Prepare Datasets"
   ]
  },
  {
   "cell_type": "code",
   "execution_count": 6,
   "id": "35fef1c0",
   "metadata": {},
   "outputs": [
    {
     "name": "stdout",
     "output_type": "stream",
     "text": [
      "INFO | loading punk images\n",
      "INFO | - image 0\n",
      "INFO | - image 1000\n",
      "INFO | - image 2000\n",
      "INFO | - image 3000\n",
      "INFO | - image 4000\n",
      "INFO | - image 5000\n",
      "INFO | - image 6000\n",
      "INFO | - image 7000\n",
      "INFO | - image 8000\n",
      "INFO | - image 9000\n",
      "INFO | punk images complete\n",
      "INFO | loading punk labels: pallets_labels.json\n"
     ]
    }
   ],
   "source": [
    "all_colors = I.get_punk_colors()\n",
    "mapper = DS.ColorOneHotMapper(all_colors)\n",
    "dataset = DS.OneHotCPunksDataset(\n",
    "    mapper, labels_file=LABELS_FILE, test_size=TEST_SIZE\n",
    ")\n",
    "\n",
    "# Uncomment to put entire dataset in GPU RAM\n",
    "# dataset = DS.FastOneHotCPunksDataset(\n",
    "#     device, mapper, labels_file=LABELS_FILE, test_size=TEST_SIZE\n",
    "# )"
   ]
  },
  {
   "cell_type": "code",
   "execution_count": 7,
   "metadata": {},
   "outputs": [],
   "source": [
    "train_sampler = SubsetRandomSampler(dataset.train_idx)\n",
    "test_sampler = SubsetRandomSampler(dataset.test_idx)\n",
    "\n",
    "train_loader = DataLoader(dataset, batch_size=BATCH_SIZE, sampler=train_sampler)\n",
    "test_loader = DataLoader(dataset, batch_size=BATCH_SIZE, sampler=test_sampler)"
   ]
  },
  {
   "cell_type": "markdown",
   "id": "b39e0222",
   "metadata": {},
   "source": [
    "## Labeled Naive CVAE"
   ]
  },
  {
   "cell_type": "code",
   "execution_count": 8,
   "id": "7e4d5fd0",
   "metadata": {},
   "outputs": [],
   "source": [
    "input_dim = 24 * 24 * 222\n",
    "hidden_dim = 576\n",
    "latent_dim = 32\n",
    "classes_dim = len(dataset._label_keys)  # 92\n"
   ]
  },
  {
   "cell_type": "code",
   "execution_count": 9,
   "id": "9521e7fe",
   "metadata": {},
   "outputs": [
    {
     "name": "stdout",
     "output_type": "stream",
     "text": [
      "INFO | model: pallets.models.cvae.LabeledCVAE\n",
      "INFO | criterion: pallets.models.cvae.Loss\n",
      "INFO | learn rate: 0.001\n",
      "INFO | epochs: 50\n",
      "INFO | epoch 1 (  0%) loss: 1423593.125000\n",
      "INFO | epoch 1 ( 35%) loss: 88232.447633\n",
      "INFO | epoch 1 ( 70%) loss: 49998.685532\n",
      "INFO | epoch 1 (100%) loss: 37908.333248\n",
      "INFO | epoch 1 (test) loss: 6926.361279\n",
      "INFO | epoch 2 (  0%) loss: 6745.611328\n",
      "INFO | epoch 2 ( 35%) loss: 6538.608302\n",
      "INFO | epoch 2 ( 70%) loss: 5885.737992\n",
      "INFO | epoch 2 (100%) loss: 5409.353846\n",
      "INFO | epoch 2 (test) loss: 3903.990690\n",
      "INFO | epoch 3 (  0%) loss: 3624.968750\n",
      "INFO | epoch 3 ( 35%) loss: 3598.175984\n",
      "INFO | epoch 3 ( 70%) loss: 3366.212178\n",
      "INFO | epoch 3 (100%) loss: 3210.196091\n",
      "INFO | epoch 3 (test) loss: 2801.327785\n",
      "INFO | epoch 4 (  0%) loss: 2804.128418\n",
      "INFO | epoch 4 ( 35%) loss: 2578.875919\n",
      "INFO | epoch 4 ( 70%) loss: 2449.443076\n",
      "INFO | epoch 4 (100%) loss: 2357.474783\n",
      "INFO | epoch 4 (test) loss: 2153.213619\n",
      "INFO | epoch 5 (  0%) loss: 2202.340820\n",
      "INFO | epoch 5 ( 35%) loss: 1958.569778\n",
      "INFO | epoch 5 ( 70%) loss: 1892.043015\n",
      "INFO | epoch 5 (100%) loss: 1840.395952\n",
      "INFO | epoch 5 (test) loss: 1751.493816\n",
      "INFO | epoch 6 (  0%) loss: 1624.591309\n",
      "INFO | epoch 6 ( 35%) loss: 1595.367297\n",
      "INFO | epoch 6 ( 70%) loss: 1549.535858\n",
      "INFO | epoch 6 (100%) loss: 1508.776043\n",
      "INFO | epoch 6 (test) loss: 1503.972304\n",
      "INFO | epoch 7 (  0%) loss: 1503.257568\n",
      "INFO | epoch 7 ( 35%) loss: 1353.744496\n",
      "INFO | epoch 7 ( 70%) loss: 1317.228660\n",
      "INFO | epoch 7 (100%) loss: 1285.220787\n",
      "INFO | epoch 7 (test) loss: 1249.438839\n",
      "INFO | epoch 8 (  0%) loss: 1270.046875\n",
      "INFO | epoch 8 ( 35%) loss: 1156.732979\n",
      "INFO | epoch 8 ( 70%) loss: 1128.621205\n",
      "INFO | epoch 8 (100%) loss: 1112.047168\n",
      "INFO | epoch 8 (test) loss: 1083.952080\n",
      "INFO | epoch 9 (  0%) loss: 1010.633606\n",
      "INFO | epoch 9 ( 35%) loss: 1015.082472\n",
      "INFO | epoch 9 ( 70%) loss: 986.145595\n",
      "INFO | epoch 9 (100%) loss: 966.514770\n",
      "INFO | epoch 9 (test) loss: 964.279748\n",
      "INFO | epoch 10 (  0%) loss: 987.024536\n",
      "INFO | epoch 10 ( 35%) loss: 889.271629\n",
      "INFO | epoch 10 ( 70%) loss: 874.473702\n",
      "INFO | epoch 10 (100%) loss: 857.283829\n",
      "INFO | epoch 10 (test) loss: 852.884037\n",
      "INFO | epoch 11 (  0%) loss: 813.513184\n",
      "INFO | epoch 11 ( 35%) loss: 793.097092\n",
      "INFO | epoch 11 ( 70%) loss: 783.527383\n",
      "INFO | epoch 11 (100%) loss: 767.677538\n",
      "INFO | epoch 11 (test) loss: 778.400311\n",
      "INFO | epoch 12 (  0%) loss: 697.741821\n",
      "INFO | epoch 12 ( 35%) loss: 712.583953\n",
      "INFO | epoch 12 ( 70%) loss: 700.236983\n",
      "INFO | epoch 12 (100%) loss: 691.994792\n",
      "INFO | epoch 12 (test) loss: 681.602884\n",
      "INFO | epoch 13 (  0%) loss: 662.583130\n",
      "INFO | epoch 13 ( 35%) loss: 643.752205\n",
      "INFO | epoch 13 ( 70%) loss: 632.602151\n",
      "INFO | epoch 13 (100%) loss: 623.880382\n",
      "INFO | epoch 13 (test) loss: 621.008989\n",
      "INFO | epoch 14 (  0%) loss: 612.496948\n",
      "INFO | epoch 14 ( 35%) loss: 575.534647\n",
      "INFO | epoch 14 ( 70%) loss: 574.567179\n",
      "INFO | epoch 14 (100%) loss: 566.479248\n",
      "INFO | epoch 14 (test) loss: 563.400029\n",
      "INFO | epoch 15 (  0%) loss: 578.859741\n",
      "INFO | epoch 15 ( 35%) loss: 531.553232\n",
      "INFO | epoch 15 ( 70%) loss: 527.001037\n",
      "INFO | epoch 15 (100%) loss: 517.466317\n",
      "INFO | epoch 15 (test) loss: 532.165802\n",
      "INFO | epoch 16 (  0%) loss: 464.354431\n",
      "INFO | epoch 16 ( 35%) loss: 481.348696\n",
      "INFO | epoch 16 ( 70%) loss: 476.008826\n",
      "INFO | epoch 16 (100%) loss: 469.466468\n",
      "INFO | epoch 16 (test) loss: 474.755593\n",
      "INFO | epoch 17 (  0%) loss: 462.633911\n",
      "INFO | epoch 17 ( 35%) loss: 437.593804\n",
      "INFO | epoch 17 ( 70%) loss: 430.927656\n",
      "INFO | epoch 17 (100%) loss: 426.590969\n",
      "INFO | epoch 17 (test) loss: 433.493756\n",
      "INFO | epoch 18 (  0%) loss: 384.860931\n",
      "INFO | epoch 18 ( 35%) loss: 407.335699\n",
      "INFO | epoch 18 ( 70%) loss: 399.077353\n",
      "INFO | epoch 18 (100%) loss: 393.285407\n",
      "INFO | epoch 18 (test) loss: 410.833937\n",
      "INFO | epoch 19 (  0%) loss: 369.829041\n",
      "INFO | epoch 19 ( 35%) loss: 367.973700\n",
      "INFO | epoch 19 ( 70%) loss: 366.323484\n",
      "INFO | epoch 19 (100%) loss: 363.608412\n",
      "INFO | epoch 19 (test) loss: 378.902534\n",
      "INFO | epoch 20 (  0%) loss: 331.694824\n",
      "INFO | epoch 20 ( 35%) loss: 338.923622\n",
      "INFO | epoch 20 ( 70%) loss: 335.263673\n",
      "INFO | epoch 20 (100%) loss: 329.626902\n",
      "INFO | epoch 20 (test) loss: 341.378279\n",
      "INFO | epoch 21 (  0%) loss: 321.057251\n",
      "INFO | epoch 21 ( 35%) loss: 323.793287\n",
      "INFO | epoch 21 ( 70%) loss: 316.992491\n",
      "INFO | epoch 21 (100%) loss: 310.902686\n",
      "INFO | epoch 21 (test) loss: 319.931873\n",
      "INFO | epoch 22 (  0%) loss: 274.352112\n",
      "INFO | epoch 22 ( 35%) loss: 292.504896\n",
      "INFO | epoch 22 ( 70%) loss: 293.752615\n",
      "INFO | epoch 22 (100%) loss: 288.550342\n",
      "INFO | epoch 22 (test) loss: 343.671114\n",
      "INFO | epoch 23 (  0%) loss: 242.184067\n",
      "INFO | epoch 23 ( 35%) loss: 269.326588\n",
      "INFO | epoch 23 ( 70%) loss: 270.246749\n",
      "INFO | epoch 23 (100%) loss: 267.905264\n",
      "INFO | epoch 23 (test) loss: 284.621200\n",
      "INFO | epoch 24 (  0%) loss: 234.094162\n",
      "INFO | epoch 24 ( 35%) loss: 252.132084\n",
      "INFO | epoch 24 ( 70%) loss: 246.209898\n",
      "INFO | epoch 24 (100%) loss: 244.383371\n",
      "INFO | epoch 24 (test) loss: 280.030351\n",
      "INFO | epoch 25 (  0%) loss: 222.521088\n",
      "INFO | epoch 25 ( 35%) loss: 234.934850\n",
      "INFO | epoch 25 ( 70%) loss: 232.638656\n",
      "INFO | epoch 25 (100%) loss: 231.579614\n",
      "INFO | epoch 25 (test) loss: 255.487929\n",
      "INFO | epoch 26 (  0%) loss: 204.916351\n",
      "INFO | epoch 26 ( 35%) loss: 213.405231\n",
      "INFO | epoch 26 ( 70%) loss: 214.541745\n",
      "INFO | epoch 26 (100%) loss: 210.498102\n",
      "INFO | epoch 26 (test) loss: 226.181442\n",
      "INFO | epoch 27 (  0%) loss: 231.852249\n",
      "INFO | epoch 27 ( 35%) loss: 203.576061\n",
      "INFO | epoch 27 ( 70%) loss: 200.490627\n",
      "INFO | epoch 27 (100%) loss: 195.427320\n",
      "INFO | epoch 27 (test) loss: 215.910060\n",
      "INFO | epoch 28 (  0%) loss: 168.696426\n",
      "INFO | epoch 28 ( 35%) loss: 184.562257\n",
      "INFO | epoch 28 ( 70%) loss: 181.561444\n",
      "INFO | epoch 28 (100%) loss: 178.527718\n",
      "INFO | epoch 28 (test) loss: 192.886151\n",
      "INFO | epoch 29 (  0%) loss: 188.046906\n",
      "INFO | epoch 29 ( 35%) loss: 174.136394\n",
      "INFO | epoch 29 ( 70%) loss: 172.828047\n",
      "INFO | epoch 29 (100%) loss: 171.886030\n",
      "INFO | epoch 29 (test) loss: 187.196449\n",
      "INFO | epoch 30 (  0%) loss: 163.618942\n",
      "INFO | epoch 30 ( 35%) loss: 164.417872\n",
      "INFO | epoch 30 ( 70%) loss: 161.146361\n",
      "INFO | epoch 30 (100%) loss: 159.417004\n",
      "INFO | epoch 30 (test) loss: 173.732220\n",
      "INFO | epoch 31 (  0%) loss: 158.911423\n",
      "INFO | epoch 31 ( 35%) loss: 156.782076\n",
      "INFO | epoch 31 ( 70%) loss: 158.052061\n",
      "INFO | epoch 31 (100%) loss: 156.172856\n",
      "INFO | epoch 31 (test) loss: 164.857191\n",
      "INFO | epoch 32 (  0%) loss: 152.964233\n",
      "INFO | epoch 32 ( 35%) loss: 146.868982\n",
      "INFO | epoch 32 ( 70%) loss: 144.957282\n",
      "INFO | epoch 32 (100%) loss: 145.541081\n",
      "INFO | epoch 32 (test) loss: 171.861038\n",
      "INFO | epoch 33 (  0%) loss: 180.447235\n",
      "INFO | epoch 33 ( 35%) loss: 147.732850\n",
      "INFO | epoch 33 ( 70%) loss: 144.863666\n",
      "INFO | epoch 33 (100%) loss: 139.864216\n",
      "INFO | epoch 33 (test) loss: 153.596599\n",
      "INFO | epoch 34 (  0%) loss: 108.483932\n",
      "INFO | epoch 34 ( 35%) loss: 135.367098\n",
      "INFO | epoch 34 ( 70%) loss: 132.776199\n",
      "INFO | epoch 34 (100%) loss: 131.002763\n",
      "INFO | epoch 34 (test) loss: 154.371211\n",
      "INFO | epoch 35 (  0%) loss: 127.404327\n",
      "INFO | epoch 35 ( 35%) loss: 135.575457\n",
      "INFO | epoch 35 ( 70%) loss: 134.838896\n",
      "INFO | epoch 35 (100%) loss: 130.106412\n",
      "INFO | epoch 35 (test) loss: 150.672075\n",
      "INFO | epoch 36 (  0%) loss: 104.423157\n",
      "INFO | epoch 36 ( 35%) loss: 124.714414\n",
      "INFO | epoch 36 ( 70%) loss: 121.693635\n",
      "INFO | epoch 36 (100%) loss: 121.048705\n",
      "INFO | epoch 36 (test) loss: 132.706560\n",
      "INFO | epoch 37 (  0%) loss: 117.166916\n",
      "INFO | epoch 37 ( 35%) loss: 110.020113\n",
      "INFO | epoch 37 ( 70%) loss: 124.751838\n",
      "INFO | epoch 37 (100%) loss: 124.106765\n",
      "INFO | epoch 37 (test) loss: 128.066795\n",
      "INFO | epoch 38 (  0%) loss: 108.804214\n",
      "INFO | epoch 38 ( 35%) loss: 123.258123\n",
      "INFO | epoch 38 ( 70%) loss: 118.432704\n",
      "INFO | epoch 38 (100%) loss: 115.412265\n",
      "INFO | epoch 38 (test) loss: 122.522269\n",
      "INFO | epoch 39 (  0%) loss: 99.556801\n",
      "INFO | epoch 39 ( 35%) loss: 102.064411\n",
      "INFO | epoch 39 ( 70%) loss: 112.463783\n",
      "INFO | epoch 39 (100%) loss: 112.089799\n",
      "INFO | epoch 39 (test) loss: 129.163205\n",
      "INFO | epoch 40 (  0%) loss: 105.966957\n",
      "INFO | epoch 40 ( 35%) loss: 110.495510\n",
      "INFO | epoch 40 ( 70%) loss: 103.961245\n",
      "INFO | epoch 40 (100%) loss: 101.879302\n",
      "INFO | epoch 40 (test) loss: 115.056815\n",
      "INFO | epoch 41 (  0%) loss: 89.217529\n",
      "INFO | epoch 41 ( 35%) loss: 99.189637\n",
      "INFO | epoch 41 ( 70%) loss: 99.848603\n",
      "INFO | epoch 41 (100%) loss: 100.821031\n",
      "INFO | epoch 41 (test) loss: 142.022021\n",
      "INFO | epoch 42 (  0%) loss: 87.306885\n",
      "INFO | epoch 42 ( 35%) loss: 91.986686\n",
      "INFO | epoch 42 ( 70%) loss: 93.891756\n",
      "INFO | epoch 42 (100%) loss: 94.629059\n",
      "INFO | epoch 42 (test) loss: 114.020569\n",
      "INFO | epoch 43 (  0%) loss: 87.965149\n",
      "INFO | epoch 43 ( 35%) loss: 97.270919\n",
      "INFO | epoch 43 ( 70%) loss: 97.294978\n",
      "INFO | epoch 43 (100%) loss: 94.629595\n",
      "INFO | epoch 43 (test) loss: 112.782597\n",
      "INFO | epoch 44 (  0%) loss: 79.808472\n",
      "INFO | epoch 44 ( 35%) loss: 93.721593\n",
      "INFO | epoch 44 ( 70%) loss: 95.911725\n",
      "INFO | epoch 44 (100%) loss: 94.016952\n",
      "INFO | epoch 44 (test) loss: 121.840981\n",
      "INFO | epoch 45 (  0%) loss: 103.587662\n",
      "INFO | epoch 45 ( 35%) loss: 94.517772\n",
      "INFO | epoch 45 ( 70%) loss: 97.714617\n",
      "INFO | epoch 45 (100%) loss: 103.256909\n",
      "INFO | epoch 45 (test) loss: 135.704670\n",
      "INFO | epoch 46 (  0%) loss: 122.366310\n",
      "INFO | epoch 46 ( 35%) loss: 99.197133\n",
      "INFO | epoch 46 ( 70%) loss: 104.771804\n",
      "INFO | epoch 46 (100%) loss: 108.661398\n",
      "INFO | epoch 46 (test) loss: 127.948620\n",
      "INFO | epoch 47 (  0%) loss: 92.457016\n",
      "INFO | epoch 47 ( 35%) loss: 98.338374\n",
      "INFO | epoch 47 ( 70%) loss: 101.311106\n",
      "INFO | epoch 47 (100%) loss: 100.139573\n",
      "INFO | epoch 47 (test) loss: 114.110178\n",
      "INFO | epoch 48 (  0%) loss: 83.564224\n",
      "INFO | epoch 48 ( 35%) loss: 91.647272\n",
      "INFO | epoch 48 ( 70%) loss: 95.689671\n",
      "INFO | epoch 48 (100%) loss: 98.926598\n",
      "INFO | epoch 48 (test) loss: 118.242511\n",
      "INFO | epoch 49 (  0%) loss: 90.806107\n",
      "INFO | epoch 49 ( 35%) loss: 98.092199\n",
      "INFO | epoch 49 ( 70%) loss: 101.583362\n",
      "INFO | epoch 49 (100%) loss: 98.367951\n",
      "INFO | epoch 49 (test) loss: 103.866755\n",
      "INFO | epoch 50 (  0%) loss: 84.068741\n",
      "INFO | epoch 50 ( 35%) loss: 106.924756\n",
      "INFO | epoch 50 ( 70%) loss: 106.063829\n",
      "INFO | epoch 50 (100%) loss: 105.052579\n",
      "INFO | epoch 50 (test) loss: 142.632611\n",
      "INFO | model blob saved to /home/jmsdnns/ML/pallets/saved/cvae.labeled.pkl\n",
      "INFO | training losses saved to /home/jmsdnns/ML/pallets/saved/cvae.labeled.json\n"
     ]
    }
   ],
   "source": [
    "model = M.cvae.LabeledCVAE(input_dim, hidden_dim, latent_dim, classes_dim)\n",
    "criterion = M.cvae.Loss()\n",
    "\n",
    "train_losses, test_losses = M.cvae.train(\n",
    "    device, model, criterion, train_loader, test_loader,\n",
    "    learn_rate=LR, epochs=EPOCHS, conditional_loss=True\n",
    ")\n",
    "\n",
    "M.save(SAVE_NAME, model, train_losses, test_losses)"
   ]
  },
  {
   "cell_type": "markdown",
   "id": "77fb32ad",
   "metadata": {},
   "source": [
    "# Results"
   ]
  },
  {
   "cell_type": "code",
   "execution_count": 10,
   "id": "f2b9d212",
   "metadata": {},
   "outputs": [],
   "source": [
    "import random\n",
    "\n",
    "def rand_label():\n",
    "    label_idx = int(random.random() * len(dataset._labels))\n",
    "    features = dataset._labels[label_idx]\n",
    "    enabled_names = [k for k,v in zip(dataset._label_keys, features) if v.item() == 1]\n",
    "    return features.to(device), enabled_names\n"
   ]
  },
  {
   "cell_type": "code",
   "execution_count": 11,
   "id": "38c47d81",
   "metadata": {},
   "outputs": [],
   "source": [
    "# Generate new image\n",
    "\n",
    "def rand_punk():\n",
    "    z = torch.randn(1, latent_dim).to(device)\n",
    "    # print(z.shape)\n",
    "    features, names = rand_label()\n",
    "    print(f\"Features: {', '.join(names)}\")\n",
    "\n",
    "    with torch.no_grad():\n",
    "        model.eval()\n",
    "        generated_image = model.decoder(z, features.unsqueeze(0))\n",
    "        # print(generated_image.shape)\n",
    "\n",
    "    decoded_one_hot = generated_image[0]\n",
    "    print(decoded_one_hot.shape)\n",
    "    decoded_one_hot = decoded_one_hot[:-classes_dim].view((222, 24, 24))\n",
    "    # print(decoded_one_hot.shape)\n",
    "    decoded = DS.one_hot_to_rgba(decoded_one_hot, dataset.mapper)\n",
    "    print(f\"Shape: {decoded.shape}\")\n",
    "    return decoded\n"
   ]
  },
  {
   "cell_type": "markdown",
   "id": "31e74ceb",
   "metadata": {},
   "source": [
    "### 5 Randoms w/ Real Labels"
   ]
  },
  {
   "cell_type": "code",
   "execution_count": 12,
   "metadata": {},
   "outputs": [
    {
     "name": "stdout",
     "output_type": "stream",
     "text": [
      "Features: male, shavedHead, smallShades\n",
      "torch.Size([127964])\n",
      "Shape: torch.Size([4, 24, 24])\n"
     ]
    },
    {
     "data": {
      "image/png": "[encoded data removed]",
      "text/plain": [
       "<Figure size 640x480 with 1 Axes>"
      ]
     },
     "metadata": {},
     "output_type": "display_data"
    }
   ],
   "source": [
    "decoded = rand_punk()\n",
    "\n",
    "plt.imshow(transforms.functional.to_pil_image(decoded))\n",
    "plt.axis('off')\n",
    "plt.show()\n"
   ]
  },
  {
   "cell_type": "code",
   "execution_count": 13,
   "id": "6744444a",
   "metadata": {},
   "outputs": [
    {
     "name": "stdout",
     "output_type": "stream",
     "text": [
      "Features: female, purpleEyeShadow, frumpyHair, mole\n",
      "torch.Size([127964])\n",
      "Shape: torch.Size([4, 24, 24])\n"
     ]
    },
    {
     "data": {
      "image/png": "[encoded data removed]",
      "text/plain": [
       "<Figure size 640x480 with 1 Axes>"
      ]
     },
     "metadata": {},
     "output_type": "display_data"
    }
   ],
   "source": [
    "decoded = rand_punk()\n",
    "\n",
    "plt.imshow(transforms.functional.to_pil_image(decoded))\n",
    "plt.axis('off')\n",
    "plt.show()\n"
   ]
  },
  {
   "cell_type": "code",
   "execution_count": 14,
   "id": "e190c583",
   "metadata": {},
   "outputs": [
    {
     "name": "stdout",
     "output_type": "stream",
     "text": [
      "Features: female, pigtails, purpleLipstick, earring\n",
      "torch.Size([127964])\n",
      "Shape: torch.Size([4, 24, 24])\n"
     ]
    },
    {
     "data": {
      "image/png": "[encoded data removed]",
      "text/plain": [
       "<Figure size 640x480 with 1 Axes>"
      ]
     },
     "metadata": {},
     "output_type": "display_data"
    }
   ],
   "source": [
    "decoded = rand_punk()\n",
    "\n",
    "plt.imshow(transforms.functional.to_pil_image(decoded))\n",
    "plt.axis('off')\n",
    "plt.show()\n"
   ]
  },
  {
   "cell_type": "code",
   "execution_count": 15,
   "id": "be357c27",
   "metadata": {},
   "outputs": [
    {
     "name": "stdout",
     "output_type": "stream",
     "text": [
      "Features: male, doRag, regularShades, mole\n",
      "torch.Size([127964])\n",
      "Shape: torch.Size([4, 24, 24])\n"
     ]
    },
    {
     "data": {
      "image/png": "[encoded data removed]",
      "text/plain": [
       "<Figure size 640x480 with 1 Axes>"
      ]
     },
     "metadata": {},
     "output_type": "display_data"
    }
   ],
   "source": [
    "decoded = rand_punk()\n",
    "\n",
    "plt.imshow(transforms.functional.to_pil_image(decoded))\n",
    "plt.axis('off')\n",
    "plt.show()\n"
   ]
  },
  {
   "cell_type": "code",
   "execution_count": 16,
   "id": "d8f339ae",
   "metadata": {},
   "outputs": [
    {
     "name": "stdout",
     "output_type": "stream",
     "text": [
      "Features: female, tassleHat, nerdGlasses\n",
      "torch.Size([127964])\n",
      "Shape: torch.Size([4, 24, 24])\n"
     ]
    },
    {
     "data": {
      "image/png": "[encoded data removed]",
      "text/plain": [
       "<Figure size 640x480 with 1 Axes>"
      ]
     },
     "metadata": {},
     "output_type": "display_data"
    }
   ],
   "source": [
    "decoded = rand_punk()\n",
    "\n",
    "plt.imshow(transforms.functional.to_pil_image(decoded))\n",
    "plt.axis('off')\n",
    "plt.show()\n"
   ]
  },
  {
   "cell_type": "markdown",
   "id": "3e1bd761",
   "metadata": {},
   "source": [
    "## Reconstruction"
   ]
  },
  {
   "cell_type": "code",
   "execution_count": 17,
   "id": "a150efab",
   "metadata": {},
   "outputs": [],
   "source": [
    "def reconstruct_punk(idx):\n",
    "    punk = I.get_punk_tensor(idx)\n",
    "    p = DS.rgba_to_one_hot(punk, dataset.mapper)\n",
    "    p = p.unsqueeze(0)\n",
    "    p = p.to(device)\n",
    "\n",
    "    _, labels = dataset[idx]\n",
    "    l = labels.unsqueeze(0)\n",
    "    l = l.to(device)\n",
    "    enabled_features = [k for k,v in zip(dataset._label_keys, labels) if v.item() == 1]\n",
    "\n",
    "    model.eval()\n",
    "    with torch.no_grad():\n",
    "        reconstructed, mu, logvar = model.forward(p, l)\n",
    "\n",
    "    recon_punk = reconstructed[0].cpu()\n",
    "    recon_punk = recon_punk[:-classes_dim].view((222, 24, 24))\n",
    "    recon_punk = DS.one_hot_to_rgba(recon_punk, dataset.mapper)\n",
    "\n",
    "    return punk, recon_punk, enabled_features\n",
    "\n",
    "\n",
    "def draw_two(img1, img2):\n",
    "    page_size = 2\n",
    "    view_x, view_y = 4*page_size, 2*page_size\n",
    "    fig = plt.figure(figsize=(view_x, view_y))\n",
    "    fig.add_subplot(1, 2, 1)\n",
    "    plt.imshow(transforms.functional.to_pil_image(img1))\n",
    "    plt.axis('off')\n",
    "    fig.add_subplot(1, 2, 2)\n",
    "    plt.imshow(transforms.functional.to_pil_image(img2))\n",
    "    plt.axis('off')\n",
    "    plt.show()\n"
   ]
  },
  {
   "cell_type": "markdown",
   "id": "7a12b220",
   "metadata": {},
   "source": [
    "### 5 Reconstructions"
   ]
  },
  {
   "cell_type": "code",
   "execution_count": 18,
   "id": "142e642d",
   "metadata": {},
   "outputs": [
    {
     "name": "stdout",
     "output_type": "stream",
     "text": [
      "Features: female, rosyCheeks, darkHair, cigarette\n"
     ]
    },
    {
     "data": {
      "image/png": "[encoded data removed]",
      "text/plain": [
       "<Figure size 800x400 with 2 Axes>"
      ]
     },
     "metadata": {},
     "output_type": "display_data"
    }
   ],
   "source": [
    "punk, recon_punk, features = reconstruct_punk(1000)\n",
    "\n",
    "print(f\"Features: {', '.join(features)}\")\n",
    "draw_two(punk, recon_punk)"
   ]
  },
  {
   "cell_type": "code",
   "execution_count": 19,
   "metadata": {},
   "outputs": [
    {
     "name": "stdout",
     "output_type": "stream",
     "text": [
      "Features: female, stringyHair, purpleLipstick, earring\n"
     ]
    },
    {
     "data": {
      "image/png": "[encoded data removed]",
      "text/plain": [
       "<Figure size 800x400 with 2 Axes>"
      ]
     },
     "metadata": {},
     "output_type": "display_data"
    }
   ],
   "source": [
    "punk, recon_punk, features = reconstruct_punk(2001)\n",
    "\n",
    "print(f\"Features: {', '.join(features)}\")\n",
    "draw_two(punk, recon_punk)\n"
   ]
  },
  {
   "cell_type": "code",
   "execution_count": 20,
   "id": "8e401eca",
   "metadata": {},
   "outputs": [
    {
     "name": "stdout",
     "output_type": "stream",
     "text": [
      "Features: female, wildWhiteHair, greenEyeShadow, hotLipstick\n"
     ]
    },
    {
     "data": {
      "image/png": "[encoded data removed]",
      "text/plain": [
       "<Figure size 800x400 with 2 Axes>"
      ]
     },
     "metadata": {},
     "output_type": "display_data"
    }
   ],
   "source": [
    "punk, recon_punk, features = reconstruct_punk(5000)\n",
    "\n",
    "print(f\"Features: {', '.join(features)}\")\n",
    "draw_two(punk, recon_punk)"
   ]
  },
  {
   "cell_type": "code",
   "execution_count": 21,
   "id": "99f3ac30",
   "metadata": {},
   "outputs": [
    {
     "name": "stdout",
     "output_type": "stream",
     "text": [
      "Features: male, rosyCheeks, mustache, vr, cap, cigarette\n"
     ]
    },
    {
     "data": {
      "image/png": "[encoded data removed]",
      "text/plain": [
       "<Figure size 800x400 with 2 Axes>"
      ]
     },
     "metadata": {},
     "output_type": "display_data"
    }
   ],
   "source": [
    "punk, recon_punk, features = reconstruct_punk(8000)\n",
    "\n",
    "print(f\"Features: {', '.join(features)}\")\n",
    "draw_two(punk, recon_punk)"
   ]
  },
  {
   "cell_type": "code",
   "execution_count": 22,
   "id": "eb402159",
   "metadata": {},
   "outputs": [
    {
     "name": "stdout",
     "output_type": "stream",
     "text": [
      "Features: male, handlebars, bandana\n"
     ]
    },
    {
     "data": {
      "image/png": "[encoded data removed]",
      "text/plain": [
       "<Figure size 800x400 with 2 Axes>"
      ]
     },
     "metadata": {},
     "output_type": "display_data"
    }
   ],
   "source": [
    "punk, recon_punk, features = reconstruct_punk(1337)\n",
    "\n",
    "print(f\"Features: {', '.join(features)}\")\n",
    "draw_two(punk, recon_punk)"
   ]
  },
  {
   "cell_type": "markdown",
   "id": "04a97510",
   "metadata": {},
   "source": [
    "## Losses"
   ]
  },
  {
   "cell_type": "code",
   "execution_count": 23,
   "metadata": {},
   "outputs": [
    {
     "data": {
      "text/plain": [
       "<function matplotlib.pyplot.show(close=None, block=None)>"
      ]
     },
     "execution_count": 23,
     "metadata": {},
     "output_type": "execute_result"
    },
    {
     "data": {
      "image/png": "[encoded data removed]",
      "text/plain": [
       "<Figure size 640x480 with 1 Axes>"
      ]
     },
     "metadata": {},
     "output_type": "display_data"
    }
   ],
   "source": [
    "plt.title(\"Train & Test loss\")\n",
    "plt.plot(train_losses, label='train loss')\n",
    "plt.plot(test_losses, label='test loss')\n",
    "plt.legend()\n",
    "plt.show\n"
   ]
  },
  {
   "cell_type": "code",
   "execution_count": 24,
   "id": "c1261252",
   "metadata": {},
   "outputs": [
    {
     "data": {
      "text/plain": [
       "[75816.66649524878,\n",
       " 10818.70769268063,\n",
       " 6420.392181612921,\n",
       " 4714.949565914506,\n",
       " 3680.791904747063,\n",
       " 3017.552086796321,\n",
       " 2570.441573988461,\n",
       " 2224.0943350284656,\n",
       " 1933.0295397170046,\n",
       " 1714.5676587693235,\n",
       " 1535.3550761337822,\n",
       " 1383.9895837662068,\n",
       " 1247.7607630736438,\n",
       " 1132.95849674306,\n",
       " 1034.932633582582,\n",
       " 938.9329368104326,\n",
       " 853.1819370350939,\n",
       " 786.570814524982,\n",
       " 727.2168233884987,\n",
       " 659.2538031179009,\n",
       " 621.8053717105946,\n",
       " 577.1006844162096,\n",
       " 535.8105273686402,\n",
       " 488.7667427333534,\n",
       " 463.1592271412518,\n",
       " 420.99620391629264,\n",
       " 390.8546402843286,\n",
       " 357.0554353971008,\n",
       " 343.77206036723254,\n",
       " 318.8340080748213,\n",
       " 312.34571270232505,\n",
       " 291.08216211305444,\n",
       " 279.7284327838438,\n",
       " 262.0055263329905,\n",
       " 260.21282472001747,\n",
       " 242.09740960682538,\n",
       " 248.2135298573379,\n",
       " 230.82453079764724,\n",
       " 224.17959876094304,\n",
       " 203.75860419848286,\n",
       " 201.64206236981332,\n",
       " 189.25811703999838,\n",
       " 189.25919049851439,\n",
       " 188.03390394711326,\n",
       " 206.51381818622562,\n",
       " 217.32279638195715,\n",
       " 200.27914557220242,\n",
       " 197.85319524453888,\n",
       " 196.73590201519906,\n",
       " 210.10515843384655]"
      ]
     },
     "execution_count": 24,
     "metadata": {},
     "output_type": "execute_result"
    }
   ],
   "source": [
    "train_losses\n"
   ]
  },
  {
   "cell_type": "code",
   "execution_count": 25,
   "id": "15d6f86b",
   "metadata": {},
   "outputs": [
    {
     "data": {
      "text/plain": [
       "[13852.722557067871,\n",
       " 7807.9813804626465,\n",
       " 5602.655570983887,\n",
       " 4306.4272384643555,\n",
       " 3502.987632751465,\n",
       " 3007.9446086883545,\n",
       " 2498.8776779174805,\n",
       " 2167.9041595458984,\n",
       " 1928.5594968795776,\n",
       " 1705.7680749893188,\n",
       " 1556.8006219863892,\n",
       " 1363.205768585205,\n",
       " 1242.017978668213,\n",
       " 1126.8000583648682,\n",
       " 1064.331603050232,\n",
       " 949.5111865997314,\n",
       " 866.987512588501,\n",
       " 821.6678743362427,\n",
       " 757.8050684928894,\n",
       " 682.7565588951111,\n",
       " 639.8637466430664,\n",
       " 687.342227935791,\n",
       " 569.2424001693726,\n",
       " 560.0607013702393,\n",
       " 510.97585821151733,\n",
       " 452.36288499832153,\n",
       " 431.82012033462524,\n",
       " 385.7723021507263,\n",
       " 374.3928985595703,\n",
       " 347.46443915367126,\n",
       " 329.7143819332123,\n",
       " 343.72207617759705,\n",
       " 307.19319701194763,\n",
       " 308.7424211502075,\n",
       " 301.3441495895386,\n",
       " 265.41312050819397,\n",
       " 256.13358902931213,\n",
       " 245.04453706741333,\n",
       " 258.32641077041626,\n",
       " 230.1136291027069,\n",
       " 284.0440423488617,\n",
       " 228.04113841056824,\n",
       " 225.56519484519958,\n",
       " 243.68196153640747,\n",
       " 271.4093405008316,\n",
       " 255.89724028110504,\n",
       " 228.2203551530838,\n",
       " 236.48502254486084,\n",
       " 207.73351073265076,\n",
       " 285.265221118927]"
      ]
     },
     "execution_count": 25,
     "metadata": {},
     "output_type": "execute_result"
    }
   ],
   "source": [
    "test_losses\n"
   ]
  }
 ],
 "metadata": {
  "kernelspec": {
   "display_name": "Python 3 (ipykernel)",
   "language": "python",
   "name": "python3"
  },
  "language_info": {
   "codemirror_mode": {
    "name": "ipython",
    "version": 3
   },
   "file_extension": ".py",
   "mimetype": "text/x-python",
   "name": "python",
   "nbconvert_exporter": "python",
   "pygments_lexer": "ipython3",
   "version": "3.11.6"
  }
 },
 "nbformat": 4,
 "nbformat_minor": 5
}
