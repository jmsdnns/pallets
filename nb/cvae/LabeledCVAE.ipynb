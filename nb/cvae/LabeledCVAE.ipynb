{
 "cells": [
  {
   "cell_type": "markdown",
   "metadata": {},
   "source": [
    "# Labeled CVAE"
   ]
  },
  {
   "cell_type": "code",
   "execution_count": 1,
   "id": "19d0f047",
   "metadata": {},
   "outputs": [],
   "source": [
    "import sys\n",
    "import os\n",
    "import torch\n",
    "from torchvision import transforms\n",
    "from torch.utils.data import DataLoader, SubsetRandomSampler\n",
    "import matplotlib.pyplot as plt\n",
    "\n",
    "%matplotlib inline\n"
   ]
  },
  {
   "cell_type": "code",
   "execution_count": 2,
   "metadata": {},
   "outputs": [],
   "source": [
    "# Load pallets library\n",
    "\n",
    "sys.path.append(os.path.abspath(os.path.join(os.getcwd(), '..')))\n",
    "from pallets import images as I, datasets as DS, models as M, logging as L\n"
   ]
  },
  {
   "cell_type": "markdown",
   "id": "844bbd48",
   "metadata": {},
   "source": [
    "# Settings"
   ]
  },
  {
   "cell_type": "code",
   "execution_count": 3,
   "id": "9b8ec428",
   "metadata": {},
   "outputs": [],
   "source": [
    "SAVE_NAME = 'cvae.labeled'"
   ]
  },
  {
   "cell_type": "code",
   "execution_count": 4,
   "id": "ae1b5c2f",
   "metadata": {},
   "outputs": [],
   "source": [
    "USE_GPU = True\n",
    "LOG_LEVEL = 'INFO'\n",
    "LABELS_FILE = 'pallets_labels.json'\n",
    "\n",
    "TEST_SIZE = 1000\n",
    "EPOCHS = 50\n",
    "LR = 1e-03\n",
    "BATCH_SIZE = 32\n"
   ]
  },
  {
   "cell_type": "code",
   "execution_count": 5,
   "metadata": {},
   "outputs": [
    {
     "data": {
      "text/plain": [
       "<Logger pallets (INFO)>"
      ]
     },
     "execution_count": 5,
     "metadata": {},
     "output_type": "execute_result"
    }
   ],
   "source": [
    "# To GPU, or not to GPU\n",
    "device = M.get_device(require_gpu=USE_GPU)\n",
    "\n",
    "# Logging\n",
    "L.init_logger(level=LOG_LEVEL, notebook=True)\n"
   ]
  },
  {
   "cell_type": "markdown",
   "metadata": {},
   "source": [
    "## Prepare Datasets"
   ]
  },
  {
   "cell_type": "code",
   "execution_count": 6,
   "id": "35fef1c0",
   "metadata": {},
   "outputs": [],
   "source": [
    "all_colors = I.get_punk_colors()\n",
    "mapper = DS.ColorOneHotMapper(all_colors)\n",
    "dataset = DS.OneHotCPunksDataset(\n",
    "    mapper, labels_file=LABELS_FILE, test_size=TEST_SIZE\n",
    ")\n",
    "\n",
    "# Uncomment to put entire dataset in GPU RAM\n",
    "# dataset = DS.FastOneHotCPunksDataset(\n",
    "#     device, mapper, labels_file=LABELS_FILE, test_size=TEST_SIZE\n",
    "# )"
   ]
  },
  {
   "cell_type": "code",
   "execution_count": 7,
   "metadata": {},
   "outputs": [],
   "source": [
    "train_sampler = SubsetRandomSampler(dataset.train_idx)\n",
    "test_sampler = SubsetRandomSampler(dataset.test_idx)\n",
    "\n",
    "train_loader = DataLoader(dataset, batch_size=BATCH_SIZE, sampler=train_sampler)\n",
    "test_loader = DataLoader(dataset, batch_size=BATCH_SIZE, sampler=test_sampler)"
   ]
  },
  {
   "cell_type": "markdown",
   "id": "b39e0222",
   "metadata": {},
   "source": [
    "## Labeled Naive CVAE"
   ]
  },
  {
   "cell_type": "code",
   "execution_count": 8,
   "id": "7e4d5fd0",
   "metadata": {},
   "outputs": [],
   "source": [
    "input_dim = 24 * 24 * 222\n",
    "hidden_dim = 576\n",
    "latent_dim = 32\n",
    "classes_dim = len(dataset._label_keys)  # 92\n"
   ]
  },
  {
   "cell_type": "code",
   "execution_count": 9,
   "id": "9521e7fe",
   "metadata": {},
   "outputs": [
    {
     "name": "stdout",
     "output_type": "stream",
     "text": [
      "INFO | model: pallets.models.cvae.LabeledCVAE\n",
      "INFO | criterion: pallets.models.cvae.Loss\n",
      "INFO | learn rate: 0.001\n",
      "INFO | epochs: 50\n",
      "INFO | epoch 1 (  0%) loss: 1423938.500000\n",
      "INFO | epoch 1 ( 35%) loss: 89962.270885\n",
      "INFO | epoch 1 ( 70%) loss: 50939.262098\n",
      "INFO | epoch 1 (100%) loss: 38575.764303\n",
      "INFO | epoch 1 (test) loss: 6941.493267\n",
      "INFO | epoch 2 (  0%) loss: 6994.135254\n",
      "INFO | epoch 2 ( 35%) loss: 6322.110313\n",
      "INFO | epoch 2 ( 70%) loss: 5699.957447\n",
      "INFO | epoch 2 (100%) loss: 5270.817404\n",
      "INFO | epoch 2 (test) loss: 3822.044807\n",
      "INFO | epoch 3 (  0%) loss: 3979.896240\n",
      "INFO | epoch 3 ( 35%) loss: 3646.543061\n",
      "INFO | epoch 3 ( 70%) loss: 3416.485682\n",
      "INFO | epoch 3 (100%) loss: 3275.893153\n",
      "INFO | epoch 3 (test) loss: 2721.784670\n",
      "INFO | epoch 4 (  0%) loss: 2889.577637\n",
      "INFO | epoch 4 ( 35%) loss: 2608.941902\n",
      "INFO | epoch 4 ( 70%) loss: 2510.254811\n",
      "INFO | epoch 4 (100%) loss: 2401.550012\n",
      "INFO | epoch 4 (test) loss: 2068.173944\n",
      "INFO | epoch 5 (  0%) loss: 2158.130615\n",
      "INFO | epoch 5 ( 35%) loss: 2012.002254\n",
      "INFO | epoch 5 ( 70%) loss: 1938.734250\n",
      "INFO | epoch 5 (100%) loss: 1884.105318\n",
      "INFO | epoch 5 (test) loss: 1663.994611\n",
      "INFO | epoch 6 (  0%) loss: 1709.664429\n",
      "INFO | epoch 6 ( 35%) loss: 1635.957107\n",
      "INFO | epoch 6 ( 70%) loss: 1586.775334\n",
      "INFO | epoch 6 (100%) loss: 1544.334896\n",
      "INFO | epoch 6 (test) loss: 1392.601604\n",
      "INFO | epoch 7 (  0%) loss: 1418.036743\n",
      "INFO | epoch 7 ( 35%) loss: 1381.711735\n",
      "INFO | epoch 7 ( 70%) loss: 1336.757282\n",
      "INFO | epoch 7 (100%) loss: 1305.941885\n",
      "INFO | epoch 7 (test) loss: 1278.059275\n",
      "INFO | epoch 8 (  0%) loss: 1139.001465\n",
      "INFO | epoch 8 ( 35%) loss: 1184.022301\n",
      "INFO | epoch 8 ( 70%) loss: 1153.849604\n",
      "INFO | epoch 8 (100%) loss: 1126.973918\n",
      "INFO | epoch 8 (test) loss: 1036.448028\n",
      "INFO | epoch 9 (  0%) loss: 1032.839111\n",
      "INFO | epoch 9 ( 35%) loss: 1019.465328\n",
      "INFO | epoch 9 ( 70%) loss: 995.799416\n",
      "INFO | epoch 9 (100%) loss: 983.763544\n",
      "INFO | epoch 9 (test) loss: 999.510615\n",
      "INFO | epoch 10 (  0%) loss: 1027.784668\n",
      "INFO | epoch 10 ( 35%) loss: 915.498852\n",
      "INFO | epoch 10 ( 70%) loss: 888.388689\n",
      "INFO | epoch 10 (100%) loss: 874.755252\n",
      "INFO | epoch 10 (test) loss: 830.648387\n",
      "INFO | epoch 11 (  0%) loss: 813.197388\n",
      "INFO | epoch 11 ( 35%) loss: 809.402752\n",
      "INFO | epoch 11 ( 70%) loss: 793.853632\n",
      "INFO | epoch 11 (100%) loss: 780.531548\n",
      "INFO | epoch 11 (test) loss: 745.180433\n",
      "INFO | epoch 12 (  0%) loss: 653.430481\n",
      "INFO | epoch 12 ( 35%) loss: 715.005671\n",
      "INFO | epoch 12 ( 70%) loss: 710.533699\n",
      "INFO | epoch 12 (100%) loss: 700.432271\n",
      "INFO | epoch 12 (test) loss: 668.436026\n",
      "INFO | epoch 13 (  0%) loss: 653.054749\n",
      "INFO | epoch 13 ( 35%) loss: 654.590881\n",
      "INFO | epoch 13 ( 70%) loss: 647.452260\n",
      "INFO | epoch 13 (100%) loss: 636.368096\n",
      "INFO | epoch 13 (test) loss: 612.191727\n",
      "INFO | epoch 14 (  0%) loss: 571.217529\n",
      "INFO | epoch 14 ( 35%) loss: 592.026776\n",
      "INFO | epoch 14 ( 70%) loss: 586.662371\n",
      "INFO | epoch 14 (100%) loss: 577.719682\n",
      "INFO | epoch 14 (test) loss: 555.257347\n",
      "INFO | epoch 15 (  0%) loss: 502.052490\n",
      "INFO | epoch 15 ( 35%) loss: 539.514071\n",
      "INFO | epoch 15 ( 70%) loss: 529.802253\n",
      "INFO | epoch 15 (100%) loss: 523.982665\n",
      "INFO | epoch 15 (test) loss: 520.951148\n",
      "INFO | epoch 16 (  0%) loss: 526.825073\n",
      "INFO | epoch 16 ( 35%) loss: 483.297584\n",
      "INFO | epoch 16 ( 70%) loss: 478.219174\n",
      "INFO | epoch 16 (100%) loss: 472.049769\n",
      "INFO | epoch 16 (test) loss: 473.024256\n",
      "INFO | epoch 17 (  0%) loss: 443.291931\n",
      "INFO | epoch 17 ( 35%) loss: 448.073008\n",
      "INFO | epoch 17 ( 70%) loss: 441.294936\n",
      "INFO | epoch 17 (100%) loss: 434.308580\n",
      "INFO | epoch 17 (test) loss: 434.366935\n",
      "INFO | epoch 18 (  0%) loss: 395.499390\n",
      "INFO | epoch 18 ( 35%) loss: 409.802417\n",
      "INFO | epoch 18 ( 70%) loss: 405.078185\n",
      "INFO | epoch 18 (100%) loss: 398.454546\n",
      "INFO | epoch 18 (test) loss: 388.909755\n",
      "INFO | epoch 19 (  0%) loss: 351.060883\n",
      "INFO | epoch 19 ( 35%) loss: 372.536415\n",
      "INFO | epoch 19 ( 70%) loss: 366.275672\n",
      "INFO | epoch 19 (100%) loss: 360.506891\n",
      "INFO | epoch 19 (test) loss: 360.909156\n",
      "INFO | epoch 20 (  0%) loss: 338.700806\n",
      "INFO | epoch 20 ( 35%) loss: 341.992161\n",
      "INFO | epoch 20 ( 70%) loss: 333.967290\n",
      "INFO | epoch 20 (100%) loss: 328.126066\n",
      "INFO | epoch 20 (test) loss: 343.663022\n",
      "INFO | epoch 21 (  0%) loss: 331.043579\n",
      "INFO | epoch 21 ( 35%) loss: 311.105054\n",
      "INFO | epoch 21 ( 70%) loss: 303.697011\n",
      "INFO | epoch 21 (100%) loss: 300.568211\n",
      "INFO | epoch 21 (test) loss: 303.947700\n",
      "INFO | epoch 22 (  0%) loss: 307.751221\n",
      "INFO | epoch 22 ( 35%) loss: 279.534743\n",
      "INFO | epoch 22 ( 70%) loss: 272.517932\n",
      "INFO | epoch 22 (100%) loss: 270.377768\n",
      "INFO | epoch 22 (test) loss: 269.032602\n",
      "INFO | epoch 23 (  0%) loss: 244.042755\n",
      "INFO | epoch 23 ( 35%) loss: 253.980364\n",
      "INFO | epoch 23 ( 70%) loss: 249.839256\n",
      "INFO | epoch 23 (100%) loss: 246.426421\n",
      "INFO | epoch 23 (test) loss: 252.326454\n",
      "INFO | epoch 24 (  0%) loss: 237.353394\n",
      "INFO | epoch 24 ( 35%) loss: 235.511822\n",
      "INFO | epoch 24 ( 70%) loss: 235.008485\n",
      "INFO | epoch 24 (100%) loss: 229.811358\n",
      "INFO | epoch 24 (test) loss: 234.830143\n",
      "INFO | epoch 25 (  0%) loss: 208.061310\n",
      "INFO | epoch 25 ( 35%) loss: 216.291479\n",
      "INFO | epoch 25 ( 70%) loss: 212.597972\n",
      "INFO | epoch 25 (100%) loss: 210.960337\n",
      "INFO | epoch 25 (test) loss: 215.362302\n",
      "INFO | epoch 26 (  0%) loss: 215.981033\n",
      "INFO | epoch 26 ( 35%) loss: 194.604160\n",
      "INFO | epoch 26 ( 70%) loss: 193.439899\n",
      "INFO | epoch 26 (100%) loss: 193.376818\n",
      "INFO | epoch 26 (test) loss: 192.773933\n",
      "INFO | epoch 27 (  0%) loss: 202.790207\n",
      "INFO | epoch 27 ( 35%) loss: 180.779984\n",
      "INFO | epoch 27 ( 70%) loss: 177.570632\n",
      "INFO | epoch 27 (100%) loss: 177.604838\n",
      "INFO | epoch 27 (test) loss: 191.048416\n",
      "INFO | epoch 28 (  0%) loss: 185.340454\n",
      "INFO | epoch 28 ( 35%) loss: 173.492437\n",
      "INFO | epoch 28 ( 70%) loss: 167.149812\n",
      "INFO | epoch 28 (100%) loss: 167.797181\n",
      "INFO | epoch 28 (test) loss: 179.748146\n",
      "INFO | epoch 29 (  0%) loss: 143.300049\n",
      "INFO | epoch 29 ( 35%) loss: 154.353541\n",
      "INFO | epoch 29 ( 70%) loss: 151.797635\n",
      "INFO | epoch 29 (100%) loss: 151.389561\n",
      "INFO | epoch 29 (test) loss: 166.907063\n",
      "INFO | epoch 30 (  0%) loss: 158.318192\n",
      "INFO | epoch 30 ( 35%) loss: 144.821629\n",
      "INFO | epoch 30 ( 70%) loss: 142.767835\n",
      "INFO | epoch 30 (100%) loss: 141.630620\n",
      "INFO | epoch 30 (test) loss: 152.846258\n",
      "INFO | epoch 31 (  0%) loss: 133.060440\n",
      "INFO | epoch 31 ( 35%) loss: 132.298333\n",
      "INFO | epoch 31 ( 70%) loss: 135.146685\n",
      "INFO | epoch 31 (100%) loss: 136.813615\n",
      "INFO | epoch 31 (test) loss: 155.017098\n",
      "INFO | epoch 32 (  0%) loss: 179.795044\n",
      "INFO | epoch 32 ( 35%) loss: 142.975065\n",
      "INFO | epoch 32 ( 70%) loss: 136.673949\n",
      "INFO | epoch 32 (100%) loss: 133.521669\n",
      "INFO | epoch 32 (test) loss: 137.107896\n",
      "INFO | epoch 33 (  0%) loss: 120.754555\n",
      "INFO | epoch 33 ( 35%) loss: 119.492666\n",
      "INFO | epoch 33 ( 70%) loss: 122.353647\n",
      "INFO | epoch 33 (100%) loss: 121.439570\n",
      "INFO | epoch 33 (test) loss: 132.515012\n",
      "INFO | epoch 34 (  0%) loss: 101.323532\n",
      "INFO | epoch 34 ( 35%) loss: 109.069704\n",
      "INFO | epoch 34 ( 70%) loss: 110.787882\n",
      "INFO | epoch 34 (100%) loss: 110.663140\n",
      "INFO | epoch 34 (test) loss: 124.591718\n",
      "INFO | epoch 35 (  0%) loss: 104.490982\n",
      "INFO | epoch 35 ( 35%) loss: 103.450329\n",
      "INFO | epoch 35 ( 70%) loss: 102.365038\n",
      "INFO | epoch 35 (100%) loss: 102.088735\n",
      "INFO | epoch 35 (test) loss: 133.756930\n",
      "INFO | epoch 36 (  0%) loss: 94.871643\n",
      "INFO | epoch 36 ( 35%) loss: 107.746942\n",
      "INFO | epoch 36 ( 70%) loss: 103.973166\n",
      "INFO | epoch 36 (100%) loss: 101.965833\n",
      "INFO | epoch 36 (test) loss: 122.543972\n",
      "INFO | epoch 37 (  0%) loss: 83.437698\n",
      "INFO | epoch 37 ( 35%) loss: 92.566342\n",
      "INFO | epoch 37 ( 70%) loss: 95.373301\n",
      "INFO | epoch 37 (100%) loss: 95.238821\n",
      "INFO | epoch 37 (test) loss: 109.319195\n",
      "INFO | epoch 38 (  0%) loss: 154.852600\n",
      "INFO | epoch 38 ( 35%) loss: 93.653101\n",
      "INFO | epoch 38 ( 70%) loss: 90.805436\n",
      "INFO | epoch 38 (100%) loss: 89.352457\n",
      "INFO | epoch 38 (test) loss: 108.852763\n",
      "INFO | epoch 39 (  0%) loss: 86.520798\n",
      "INFO | epoch 39 ( 35%) loss: 90.375368\n",
      "INFO | epoch 39 ( 70%) loss: 88.833731\n",
      "INFO | epoch 39 (100%) loss: 88.686718\n",
      "INFO | epoch 39 (test) loss: 108.613418\n",
      "INFO | epoch 40 (  0%) loss: 86.893005\n",
      "INFO | epoch 40 ( 35%) loss: 91.776784\n",
      "INFO | epoch 40 ( 70%) loss: 89.335355\n",
      "INFO | epoch 40 (100%) loss: 89.434218\n",
      "INFO | epoch 40 (test) loss: 104.195201\n",
      "INFO | epoch 41 (  0%) loss: 88.886940\n",
      "INFO | epoch 41 ( 35%) loss: 88.047179\n",
      "INFO | epoch 41 ( 70%) loss: 85.224558\n",
      "INFO | epoch 41 (100%) loss: 84.970161\n",
      "INFO | epoch 41 (test) loss: 118.852377\n",
      "INFO | epoch 42 (  0%) loss: 94.090042\n",
      "INFO | epoch 42 ( 35%) loss: 91.476772\n",
      "INFO | epoch 42 ( 70%) loss: 88.375391\n",
      "INFO | epoch 42 (100%) loss: 85.324205\n",
      "INFO | epoch 42 (test) loss: 103.780389\n",
      "INFO | epoch 43 (  0%) loss: 79.588684\n",
      "INFO | epoch 43 ( 35%) loss: 83.493384\n",
      "INFO | epoch 43 ( 70%) loss: 84.353824\n",
      "INFO | epoch 43 (100%) loss: 84.065418\n",
      "INFO | epoch 43 (test) loss: 126.513491\n",
      "INFO | epoch 44 (  0%) loss: 87.668159\n",
      "INFO | epoch 44 ( 35%) loss: 84.813052\n",
      "INFO | epoch 44 ( 70%) loss: 82.600237\n",
      "INFO | epoch 44 (100%) loss: 81.359878\n",
      "INFO | epoch 44 (test) loss: 91.715966\n",
      "INFO | epoch 45 (  0%) loss: 78.594589\n",
      "INFO | epoch 45 ( 35%) loss: 84.080230\n",
      "INFO | epoch 45 ( 70%) loss: 85.474250\n",
      "INFO | epoch 45 (100%) loss: 84.058177\n",
      "INFO | epoch 45 (test) loss: 101.896825\n",
      "INFO | epoch 46 (  0%) loss: 71.279564\n",
      "INFO | epoch 46 ( 35%) loss: 84.563879\n",
      "INFO | epoch 46 ( 70%) loss: 81.977159\n",
      "INFO | epoch 46 (100%) loss: 81.140327\n",
      "INFO | epoch 46 (test) loss: 94.955381\n",
      "INFO | epoch 47 (  0%) loss: 72.109962\n",
      "INFO | epoch 47 ( 35%) loss: 80.851810\n",
      "INFO | epoch 47 ( 70%) loss: 83.712137\n",
      "INFO | epoch 47 (100%) loss: 81.442297\n",
      "INFO | epoch 47 (test) loss: 91.018461\n",
      "INFO | epoch 48 (  0%) loss: 69.348518\n",
      "INFO | epoch 48 ( 35%) loss: 79.672795\n",
      "INFO | epoch 48 ( 70%) loss: 76.346231\n",
      "INFO | epoch 48 (100%) loss: 76.453732\n",
      "INFO | epoch 48 (test) loss: 98.623281\n",
      "INFO | epoch 49 (  0%) loss: 74.485298\n",
      "INFO | epoch 49 ( 35%) loss: 76.072183\n",
      "INFO | epoch 49 ( 70%) loss: 82.643866\n",
      "INFO | epoch 49 (100%) loss: 91.698793\n",
      "INFO | epoch 49 (test) loss: 111.982802\n",
      "INFO | epoch 50 (  0%) loss: 94.108315\n",
      "INFO | epoch 50 ( 35%) loss: 95.588818\n",
      "INFO | epoch 50 ( 70%) loss: 94.129380\n",
      "INFO | epoch 50 (100%) loss: 105.680750\n",
      "INFO | epoch 50 (test) loss: 118.962454\n"
     ]
    }
   ],
   "source": [
    "model = M.cvae.LabeledCVAE(input_dim, hidden_dim, latent_dim, classes_dim)\n",
    "criterion = M.cvae.Loss()\n",
    "\n",
    "train_losses, test_losses = M.cvae.train(\n",
    "    device, model, criterion, train_loader, test_loader,\n",
    "    learn_rate=LR, epochs=EPOCHS, conditional_loss=True\n",
    ")\n",
    "\n",
    "M.save(SAVE_NAME, model, train_losses, test_losses)"
   ]
  },
  {
   "cell_type": "markdown",
   "id": "77fb32ad",
   "metadata": {},
   "source": [
    "# Results"
   ]
  },
  {
   "cell_type": "code",
   "execution_count": 12,
   "id": "f2b9d212",
   "metadata": {},
   "outputs": [
    {
     "data": {
      "text/plain": [
       "['alien',\n",
       " 'ape',\n",
       " 'zombie',\n",
       " 'female',\n",
       " 'male',\n",
       " 'beanie',\n",
       " 'choker',\n",
       " 'pilotHelmet',\n",
       " 'tiara',\n",
       " 'orangeSide',\n",
       " 'buckTeeth',\n",
       " 'weldingGoggles',\n",
       " 'pigtails',\n",
       " 'pinkWithHat',\n",
       " 'topHat',\n",
       " 'spots',\n",
       " 'rosyCheeks',\n",
       " 'blondeShort',\n",
       " 'wildWhiteHair',\n",
       " 'cowboyHat',\n",
       " 'wildBlonde',\n",
       " 'straightHairBlonde',\n",
       " 'bigBeard',\n",
       " 'redMohawk',\n",
       " 'halfShaved',\n",
       " 'blondeBob',\n",
       " 'vampireHair',\n",
       " 'clownHairGreen',\n",
       " 'straightHairDark',\n",
       " 'straightHair',\n",
       " 'silverChain',\n",
       " 'darkHair',\n",
       " 'purpleHair',\n",
       " 'goldChain',\n",
       " 'medicalMask',\n",
       " 'tassleHat',\n",
       " 'fedora',\n",
       " 'policeCap',\n",
       " 'clownNose',\n",
       " 'smile',\n",
       " 'capForward',\n",
       " 'hoodie',\n",
       " 'frontBeardDark',\n",
       " 'frown',\n",
       " 'purpleEyeShadow',\n",
       " 'handlebars',\n",
       " 'blueEyeShadow',\n",
       " 'greenEyeShadow',\n",
       " 'vape',\n",
       " 'frontBeard',\n",
       " 'chinstrap',\n",
       " '3DGlasses',\n",
       " 'luxuriousBeard',\n",
       " 'mustache',\n",
       " 'normalBeardBlack',\n",
       " 'normalBeard',\n",
       " 'eyeMask',\n",
       " 'goat',\n",
       " 'doRag',\n",
       " 'shavedHead',\n",
       " 'muttonchops',\n",
       " 'peakSpike',\n",
       " 'pipe',\n",
       " 'vr',\n",
       " 'cap',\n",
       " 'smallShades',\n",
       " 'clownEyesGreen',\n",
       " 'clownEyesBlue',\n",
       " 'headband',\n",
       " 'crazyHair',\n",
       " 'knittedCap',\n",
       " 'mohawkDark',\n",
       " 'mohawk',\n",
       " 'mohawkThin',\n",
       " 'frumpyHair',\n",
       " 'wildHair',\n",
       " 'messyHair',\n",
       " 'eyePatch',\n",
       " 'stringyHair',\n",
       " 'bandana',\n",
       " 'classicShades',\n",
       " 'shadowBeard',\n",
       " 'regularShades',\n",
       " 'hornedRimGlasses',\n",
       " 'bigShades',\n",
       " 'nerdGlasses',\n",
       " 'blackLipstick',\n",
       " 'mole',\n",
       " 'purpleLipstick',\n",
       " 'hotLipstick',\n",
       " 'cigarette',\n",
       " 'earring']"
      ]
     },
     "execution_count": 12,
     "metadata": {},
     "output_type": "execute_result"
    }
   ],
   "source": [
    "import random\n",
    "\n",
    "def rand_label():\n",
    "    label_idx = int(random.random() * len(dataset._labels))\n",
    "    features = dataset._labels[label_idx]\n",
    "    enabled_names = [k for k,v in zip(dataset._label_keys, features) if v.item() == 1]\n",
    "    return features.to(device), enabled_names\n"
   ]
  },
  {
   "cell_type": "code",
   "execution_count": 13,
   "id": "38c47d81",
   "metadata": {},
   "outputs": [],
   "source": [
    "# Generate new image\n",
    "\n",
    "def rand_punk():\n",
    "    z = torch.randn(1, latent_dim).to(device)\n",
    "    # print(z.shape)\n",
    "    features, names = rand_label()\n",
    "    print(f\"Features: {', '.join(names)}\")\n",
    "\n",
    "    with torch.no_grad():\n",
    "        model.eval()\n",
    "        generated_image = model.decoder(z, features.unsqueeze(0))\n",
    "        # print(generated_image.shape)\n",
    "\n",
    "    decoded_one_hot = generated_image[0]\n",
    "    print(decoded_one_hot.shape)\n",
    "    decoded_one_hot = decoded_one_hot[:-classes_dim].view((222, 24, 24))\n",
    "    # print(decoded_one_hot.shape)\n",
    "    decoded = DS.one_hot_to_rgba(decoded_one_hot, dataset.mapper)\n",
    "    print(f\"Shape: {decoded.shape}\")\n",
    "    return decoded\n"
   ]
  },
  {
   "cell_type": "markdown",
   "id": "31e74ceb",
   "metadata": {},
   "source": [
    "### 5 Randoms w/ Real Labels"
   ]
  },
  {
   "cell_type": "code",
   "execution_count": 14,
   "metadata": {},
   "outputs": [
    {
     "name": "stdout",
     "output_type": "stream",
     "text": [
      "Features: male, doRag, vr\n",
      "torch.Size([127964])\n",
      "Shape: torch.Size([4, 24, 24])\n"
     ]
    },
    {
     "data": {
      "image/png": "[encoded data removed]",
      "text/plain": [
       "<Figure size 640x480 with 1 Axes>"
      ]
     },
     "metadata": {},
     "output_type": "display_data"
    }
   ],
   "source": [
    "decoded = rand_punk()\n",
    "\n",
    "plt.imshow(transforms.functional.to_pil_image(decoded))\n",
    "plt.axis('off')\n",
    "plt.show()\n"
   ]
  },
  {
   "cell_type": "code",
   "execution_count": 15,
   "id": "6744444a",
   "metadata": {},
   "outputs": [
    {
     "name": "stdout",
     "output_type": "stream",
     "text": [
      "Features: male, frown, muttonchops, knittedCap, regularShades\n",
      "torch.Size([127964])\n",
      "Shape: torch.Size([4, 24, 24])\n"
     ]
    },
    {
     "data": {
      "image/png": "[encoded data removed]",
      "text/plain": [
       "<Figure size 640x480 with 1 Axes>"
      ]
     },
     "metadata": {},
     "output_type": "display_data"
    }
   ],
   "source": [
    "decoded = rand_punk()\n",
    "\n",
    "plt.imshow(transforms.functional.to_pil_image(decoded))\n",
    "plt.axis('off')\n",
    "plt.show()\n"
   ]
  },
  {
   "cell_type": "code",
   "execution_count": 16,
   "id": "e190c583",
   "metadata": {},
   "outputs": [
    {
     "name": "stdout",
     "output_type": "stream",
     "text": [
      "Features: female, rosyCheeks, stringyHair\n",
      "torch.Size([127964])\n",
      "Shape: torch.Size([4, 24, 24])\n"
     ]
    },
    {
     "data": {
      "image/png": "[encoded data removed]",
      "text/plain": [
       "<Figure size 640x480 with 1 Axes>"
      ]
     },
     "metadata": {},
     "output_type": "display_data"
    }
   ],
   "source": [
    "decoded = rand_punk()\n",
    "\n",
    "plt.imshow(transforms.functional.to_pil_image(decoded))\n",
    "plt.axis('off')\n",
    "plt.show()\n"
   ]
  },
  {
   "cell_type": "code",
   "execution_count": 17,
   "id": "be357c27",
   "metadata": {},
   "outputs": [
    {
     "name": "stdout",
     "output_type": "stream",
     "text": [
      "Features: male, fedora, frontBeardDark, vr\n",
      "torch.Size([127964])\n",
      "Shape: torch.Size([4, 24, 24])\n"
     ]
    },
    {
     "data": {
      "image/png": "[encoded data removed]",
      "text/plain": [
       "<Figure size 640x480 with 1 Axes>"
      ]
     },
     "metadata": {},
     "output_type": "display_data"
    }
   ],
   "source": [
    "decoded = rand_punk()\n",
    "\n",
    "plt.imshow(transforms.functional.to_pil_image(decoded))\n",
    "plt.axis('off')\n",
    "plt.show()\n"
   ]
  },
  {
   "cell_type": "code",
   "execution_count": 18,
   "id": "d8f339ae",
   "metadata": {},
   "outputs": [
    {
     "name": "stdout",
     "output_type": "stream",
     "text": [
      "Features: female, clownHairGreen, blackLipstick\n",
      "torch.Size([127964])\n",
      "Shape: torch.Size([4, 24, 24])\n"
     ]
    },
    {
     "data": {
      "image/png": "[encoded data removed]",
      "text/plain": [
       "<Figure size 640x480 with 1 Axes>"
      ]
     },
     "metadata": {},
     "output_type": "display_data"
    }
   ],
   "source": [
    "decoded = rand_punk()\n",
    "\n",
    "plt.imshow(transforms.functional.to_pil_image(decoded))\n",
    "plt.axis('off')\n",
    "plt.show()\n"
   ]
  },
  {
   "cell_type": "markdown",
   "id": "3e1bd761",
   "metadata": {},
   "source": [
    "## Reconstruction"
   ]
  },
  {
   "cell_type": "code",
   "execution_count": 19,
   "id": "a150efab",
   "metadata": {},
   "outputs": [],
   "source": [
    "def reconstruct_punk(idx):\n",
    "    punk = I.get_punk_tensor(idx)\n",
    "    p = DS.rgba_to_one_hot(punk, dataset.mapper)\n",
    "    p = p.unsqueeze(0)\n",
    "    p = p.to(device)\n",
    "\n",
    "    _, labels = dataset[idx]\n",
    "    l = labels.unsqueeze(0)\n",
    "    l = l.to(device)\n",
    "    enabled_features = [k for k,v in zip(dataset._label_keys, labels) if v.item() == 1]\n",
    "\n",
    "    model.eval()\n",
    "    with torch.no_grad():\n",
    "        reconstructed, mu, logvar = model.forward(p, l)\n",
    "\n",
    "    recon_punk = reconstructed[0].cpu()\n",
    "    recon_punk = recon_punk[:-classes_dim].view((222, 24, 24))\n",
    "    recon_punk = DS.one_hot_to_rgba(recon_punk, dataset.mapper)\n",
    "\n",
    "    return punk, recon_punk, enabled_features\n",
    "\n",
    "\n",
    "def draw_two(img1, img2):\n",
    "    page_size = 2\n",
    "    view_x, view_y = 4*page_size, 2*page_size\n",
    "    fig = plt.figure(figsize=(view_x, view_y))\n",
    "    fig.add_subplot(1, 2, 1)\n",
    "    plt.imshow(transforms.functional.to_pil_image(img1))\n",
    "    plt.axis('off')\n",
    "    fig.add_subplot(1, 2, 2)\n",
    "    plt.imshow(transforms.functional.to_pil_image(img2))\n",
    "    plt.axis('off')\n",
    "    plt.show()\n"
   ]
  },
  {
   "cell_type": "markdown",
   "id": "7a12b220",
   "metadata": {},
   "source": [
    "### 5 Reconstructions"
   ]
  },
  {
   "cell_type": "code",
   "execution_count": 20,
   "id": "142e642d",
   "metadata": {},
   "outputs": [
    {
     "name": "stdout",
     "output_type": "stream",
     "text": [
      "Features: female, rosyCheeks, darkHair, cigarette\n"
     ]
    },
    {
     "data": {
      "image/png": "[encoded data removed]",
      "text/plain": [
       "<Figure size 800x400 with 2 Axes>"
      ]
     },
     "metadata": {},
     "output_type": "display_data"
    }
   ],
   "source": [
    "punk, recon_punk, features = reconstruct_punk(1000)\n",
    "\n",
    "print(f\"Features: {', '.join(features)}\")\n",
    "draw_two(punk, recon_punk)"
   ]
  },
  {
   "cell_type": "code",
   "execution_count": 21,
   "metadata": {},
   "outputs": [
    {
     "name": "stdout",
     "output_type": "stream",
     "text": [
      "Features: female, stringyHair, purpleLipstick, earring\n"
     ]
    },
    {
     "data": {
      "image/png": "[encoded data removed]",
      "text/plain": [
       "<Figure size 800x400 with 2 Axes>"
      ]
     },
     "metadata": {},
     "output_type": "display_data"
    }
   ],
   "source": [
    "punk, recon_punk, features = reconstruct_punk(2001)\n",
    "\n",
    "print(f\"Features: {', '.join(features)}\")\n",
    "draw_two(punk, recon_punk)\n"
   ]
  },
  {
   "cell_type": "code",
   "execution_count": 22,
   "id": "8e401eca",
   "metadata": {},
   "outputs": [
    {
     "name": "stdout",
     "output_type": "stream",
     "text": [
      "Features: female, wildWhiteHair, greenEyeShadow, hotLipstick\n"
     ]
    },
    {
     "data": {
      "image/png": "[encoded data removed]",
      "text/plain": [
       "<Figure size 800x400 with 2 Axes>"
      ]
     },
     "metadata": {},
     "output_type": "display_data"
    }
   ],
   "source": [
    "punk, recon_punk, features = reconstruct_punk(5000)\n",
    "\n",
    "print(f\"Features: {', '.join(features)}\")\n",
    "draw_two(punk, recon_punk)"
   ]
  },
  {
   "cell_type": "code",
   "execution_count": 23,
   "id": "99f3ac30",
   "metadata": {},
   "outputs": [
    {
     "name": "stdout",
     "output_type": "stream",
     "text": [
      "Features: male, rosyCheeks, mustache, vr, cap, cigarette\n"
     ]
    },
    {
     "data": {
      "image/png": "[encoded data removed]",
      "text/plain": [
       "<Figure size 800x400 with 2 Axes>"
      ]
     },
     "metadata": {},
     "output_type": "display_data"
    }
   ],
   "source": [
    "punk, recon_punk, features = reconstruct_punk(8000)\n",
    "\n",
    "print(f\"Features: {', '.join(features)}\")\n",
    "draw_two(punk, recon_punk)"
   ]
  },
  {
   "cell_type": "code",
   "execution_count": 24,
   "id": "eb402159",
   "metadata": {},
   "outputs": [
    {
     "name": "stdout",
     "output_type": "stream",
     "text": [
      "Features: male, handlebars, bandana\n"
     ]
    },
    {
     "data": {
      "image/png": "[encoded data removed]",
      "text/plain": [
       "<Figure size 800x400 with 2 Axes>"
      ]
     },
     "metadata": {},
     "output_type": "display_data"
    }
   ],
   "source": [
    "punk, recon_punk, features = reconstruct_punk(1337)\n",
    "\n",
    "print(f\"Features: {', '.join(features)}\")\n",
    "draw_two(punk, recon_punk)"
   ]
  },
  {
   "cell_type": "markdown",
   "id": "04a97510",
   "metadata": {},
   "source": [
    "## Losses"
   ]
  },
  {
   "cell_type": "code",
   "execution_count": 25,
   "metadata": {},
   "outputs": [
    {
     "data": {
      "text/plain": [
       "<function matplotlib.pyplot.show(close=None, block=None)>"
      ]
     },
     "execution_count": 25,
     "metadata": {},
     "output_type": "execute_result"
    },
    {
     "data": {
      "image/png": "[encoded data removed]",
      "text/plain": [
       "<Figure size 640x480 with 1 Axes>"
      ]
     },
     "metadata": {},
     "output_type": "display_data"
    }
   ],
   "source": [
    "plt.title(\"Train & Test loss\")\n",
    "plt.plot(train_losses, label='train loss')\n",
    "plt.plot(test_losses, label='test loss')\n",
    "plt.legend()\n",
    "plt.show\n"
   ]
  },
  {
   "cell_type": "code",
   "execution_count": 26,
   "id": "c1261252",
   "metadata": {},
   "outputs": [
    {
     "data": {
      "text/plain": [
       "[77151.52860600897,\n",
       " 10541.634807180852,\n",
       " 6551.786305529006,\n",
       " 4803.100023202017,\n",
       " 3768.2106353543327,\n",
       " 3088.6697928787125,\n",
       " 2611.8837706653785,\n",
       " 2253.9478357193316,\n",
       " 1967.5270887875388,\n",
       " 1749.5105032413564,\n",
       " 1561.0630960667388,\n",
       " 1400.8645425350107,\n",
       " 1272.736192743829,\n",
       " 1155.4393644941615,\n",
       " 1047.9653294340094,\n",
       " 944.0995373015708,\n",
       " 868.6171594714442,\n",
       " 796.9090920306267,\n",
       " 721.0137811755458,\n",
       " 656.2521329839179,\n",
       " 601.1364211495041,\n",
       " 540.7555355315512,\n",
       " 492.8528415328222,\n",
       " 459.6227161596853,\n",
       " 421.9206736679618,\n",
       " 386.75363640751397,\n",
       " 355.2096762149892,\n",
       " 335.5943620289471,\n",
       " 302.7791222917273,\n",
       " 283.261239126219,\n",
       " 273.6272298664066,\n",
       " 267.043338694471,\n",
       " 242.87913970406174,\n",
       " 221.32628012041673,\n",
       " 204.17746945644947,\n",
       " 203.93166588046026,\n",
       " 190.47764124768847,\n",
       " 178.70491468821857,\n",
       " 177.37343546008387,\n",
       " 178.86843574469816,\n",
       " 169.94032196964778,\n",
       " 170.64840907915263,\n",
       " 168.13083609452485,\n",
       " 162.71975643076794,\n",
       " 168.1163535693013,\n",
       " 162.28065382504295,\n",
       " 162.88459372013173,\n",
       " 152.90746370951334,\n",
       " 183.39758521276164,\n",
       " 211.36150059801466]"
      ]
     },
     "execution_count": 26,
     "metadata": {},
     "output_type": "execute_result"
    }
   ],
   "source": [
    "train_losses\n"
   ]
  },
  {
   "cell_type": "code",
   "execution_count": 27,
   "id": "15d6f86b",
   "metadata": {},
   "outputs": [
    {
     "data": {
      "text/plain": [
       "[13882.986534118652,\n",
       " 7644.089614868164,\n",
       " 5443.569339752197,\n",
       " 4136.347888946533,\n",
       " 3327.989221572876,\n",
       " 2785.20320892334,\n",
       " 2556.118549346924,\n",
       " 2072.896056175232,\n",
       " 1999.0212297439575,\n",
       " 1661.2967739105225,\n",
       " 1490.3608655929565,\n",
       " 1336.872052192688,\n",
       " 1224.383454322815,\n",
       " 1110.5146932601929,\n",
       " 1041.9022951126099,\n",
       " 946.0485124588013,\n",
       " 868.7338700294495,\n",
       " 777.8195104598999,\n",
       " 721.8183116912842,\n",
       " 687.3260431289673,\n",
       " 607.895400762558,\n",
       " 538.0652031898499,\n",
       " 504.6529083251953,\n",
       " 469.66028690338135,\n",
       " 430.7246036529541,\n",
       " 385.5478663444519,\n",
       " 382.0968313217163,\n",
       " 359.4962911605835,\n",
       " 333.8141267299652,\n",
       " 305.69251680374146,\n",
       " 310.03419530391693,\n",
       " 274.2157917022705,\n",
       " 265.0300235748291,\n",
       " 249.1834362745285,\n",
       " 267.51385951042175,\n",
       " 245.08794355392456,\n",
       " 218.63839042186737,\n",
       " 217.7055253982544,\n",
       " 217.2268352508545,\n",
       " 208.39040100574493,\n",
       " 237.70475363731384,\n",
       " 207.56077766418457,\n",
       " 253.02698135375977,\n",
       " 183.4319325685501,\n",
       " 203.7936499118805,\n",
       " 189.91076290607452,\n",
       " 182.03692185878754,\n",
       " 197.24656105041504,\n",
       " 223.9656035900116,\n",
       " 237.92490887641907]"
      ]
     },
     "execution_count": 27,
     "metadata": {},
     "output_type": "execute_result"
    }
   ],
   "source": [
    "test_losses\n"
   ]
  }
 ],
 "metadata": {
  "kernelspec": {
   "display_name": "Python 3 (ipykernel)",
   "language": "python",
   "name": "python3"
  },
  "language_info": {
   "codemirror_mode": {
    "name": "ipython",
    "version": 3
   },
   "file_extension": ".py",
   "mimetype": "text/x-python",
   "name": "python",
   "nbconvert_exporter": "python",
   "pygments_lexer": "ipython3",
   "version": "3.11.6"
  }
 },
 "nbformat": 4,
 "nbformat_minor": 5
}
