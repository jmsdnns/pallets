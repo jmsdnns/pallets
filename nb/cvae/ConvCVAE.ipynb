{
 "cells": [
  {
   "cell_type": "markdown",
   "metadata": {},
   "source": [
    "# Convolutional CVAE"
   ]
  },
  {
   "cell_type": "code",
   "execution_count": 1,
   "id": "19d0f047",
   "metadata": {},
   "outputs": [],
   "source": [
    "import torch\n",
    "from torchvision import transforms\n",
    "from torch.utils.data import DataLoader, SubsetRandomSampler\n",
    "import matplotlib.pyplot as plt\n",
    "%matplotlib inline\n"
   ]
  },
  {
   "cell_type": "code",
   "execution_count": 2,
   "metadata": {},
   "outputs": [],
   "source": [
    "# Load pallets library from project root\n",
    "import sys, os\n",
    "sys.path.append(os.path.abspath(os.path.join(os.getcwd(), '..', '..')))\n",
    "\n",
    "from pallets import (\n",
    "    images as I,\n",
    "    datasets as DS,\n",
    "    models as M,\n",
    "    logging as L\n",
    ")"
   ]
  },
  {
   "cell_type": "markdown",
   "id": "844bbd48",
   "metadata": {},
   "source": [
    "# Settings"
   ]
  },
  {
   "cell_type": "code",
   "execution_count": 3,
   "id": "9b8ec428",
   "metadata": {},
   "outputs": [],
   "source": [
    "SAVE_NAME = 'cvae.conv'"
   ]
  },
  {
   "cell_type": "code",
   "execution_count": 4,
   "id": "ae1b5c2f",
   "metadata": {},
   "outputs": [],
   "source": [
    "USE_GPU = True\n",
    "LOG_LEVEL = 'INFO'\n",
    "LABELS_FILE = 'pallets_labels.json'\n",
    "\n",
    "TEST_SIZE = 1000\n",
    "EPOCHS = 100\n",
    "LR = 3e-04\n",
    "BATCH_SIZE = 32\n"
   ]
  },
  {
   "cell_type": "code",
   "execution_count": 5,
   "metadata": {},
   "outputs": [
    {
     "data": {
      "text/plain": [
       "<Logger pallets (INFO)>"
      ]
     },
     "execution_count": 5,
     "metadata": {},
     "output_type": "execute_result"
    }
   ],
   "source": [
    "# To GPU, or not to GPU\n",
    "device = M.get_device(require_gpu=USE_GPU)\n",
    "\n",
    "# Logging\n",
    "L.init_logger(level=LOG_LEVEL, notebook=True)\n"
   ]
  },
  {
   "cell_type": "markdown",
   "metadata": {},
   "source": [
    "# Datasets"
   ]
  },
  {
   "cell_type": "code",
   "execution_count": 6,
   "id": "35fef1c0",
   "metadata": {},
   "outputs": [
    {
     "name": "stdout",
     "output_type": "stream",
     "text": [
      "INFO | loading punk images\n",
      "INFO | - image 0\n",
      "INFO | - image 1000\n",
      "INFO | - image 2000\n",
      "INFO | - image 3000\n",
      "INFO | - image 4000\n",
      "INFO | - image 5000\n",
      "INFO | - image 6000\n",
      "INFO | - image 7000\n",
      "INFO | - image 8000\n",
      "INFO | - image 9000\n",
      "INFO | punk images complete\n",
      "INFO | loading punk labels: pallets_labels.json\n"
     ]
    }
   ],
   "source": [
    "all_colors = I.get_punk_colors()\n",
    "mapper = DS.ColorOneHotMapper(all_colors)\n",
    "dataset = DS.OneHotCPunksDataset(\n",
    "    mapper, labels_file=LABELS_FILE, test_size=TEST_SIZE\n",
    ")\n",
    "\n",
    "# Uncomment to put entire dataset in GPU RAM\n",
    "# dataset = DS.FastOneHotCPunksDataset(\n",
    "#     device, mapper, labels_file=LABELS_FILE, test_size=TEST_SIZE\n",
    "# )"
   ]
  },
  {
   "cell_type": "code",
   "execution_count": 7,
   "metadata": {},
   "outputs": [],
   "source": [
    "train_sampler = SubsetRandomSampler(dataset.train_idx)\n",
    "test_sampler = SubsetRandomSampler(dataset.test_idx)\n",
    "\n",
    "train_loader = DataLoader(dataset, batch_size=BATCH_SIZE, sampler=train_sampler)\n",
    "test_loader = DataLoader(dataset, batch_size=BATCH_SIZE, sampler=test_sampler)\n"
   ]
  },
  {
   "cell_type": "markdown",
   "id": "b39e0222",
   "metadata": {},
   "source": [
    "# Training"
   ]
  },
  {
   "cell_type": "code",
   "execution_count": 8,
   "id": "7e4d5fd0",
   "metadata": {},
   "outputs": [],
   "source": [
    "input_dim = 222\n",
    "latent_dim = 32\n",
    "classes_dim = len(dataset._label_keys)  # 92\n",
    "\n",
    "model = M.cvae.ConvCVAE(input_dim, latent_dim, classes_dim)\n",
    "criterion = M.cvae.Loss()\n"
   ]
  },
  {
   "cell_type": "code",
   "execution_count": 9,
   "id": "9521e7fe",
   "metadata": {},
   "outputs": [
    {
     "name": "stdout",
     "output_type": "stream",
     "text": [
      "INFO | model: pallets.models.cvae.ConvCVAE\n",
      "INFO | criterion: pallets.models.cvae.Loss\n",
      "INFO | learn rate: 0.0003\n",
      "INFO | epochs: 100\n",
      "INFO | epoch 1 (  0%) loss: 1418066.250000\n",
      "INFO | epoch 1 ( 35%) loss: 160301.800046\n",
      "INFO | epoch 1 ( 70%) loss: 89603.184055\n",
      "INFO | epoch 1 (100%) loss: 68070.447081\n",
      "INFO | epoch 1 (test) loss: 13510.715233\n",
      "INFO | epoch 2 (  0%) loss: 13527.602539\n",
      "INFO | epoch 2 ( 35%) loss: 13130.250851\n",
      "INFO | epoch 2 ( 70%) loss: 12677.857825\n",
      "INFO | epoch 2 (100%) loss: 12337.935211\n",
      "INFO | epoch 2 (test) loss: 11142.884041\n",
      "INFO | epoch 3 (  0%) loss: 10860.658203\n",
      "INFO | epoch 3 ( 35%) loss: 10980.112701\n",
      "INFO | epoch 3 ( 70%) loss: 10782.032751\n",
      "INFO | epoch 3 (100%) loss: 10568.975565\n",
      "INFO | epoch 3 (test) loss: 9901.444809\n",
      "INFO | epoch 4 (  0%) loss: 10274.592773\n",
      "INFO | epoch 4 ( 35%) loss: 9784.649636\n",
      "INFO | epoch 4 ( 70%) loss: 9572.242637\n",
      "INFO | epoch 4 (100%) loss: 9443.572790\n",
      "INFO | epoch 4 (test) loss: 8865.763214\n",
      "INFO | epoch 5 (  0%) loss: 9494.643555\n",
      "INFO | epoch 5 ( 35%) loss: 8784.849111\n",
      "INFO | epoch 5 ( 70%) loss: 8611.140487\n",
      "INFO | epoch 5 (100%) loss: 8431.100761\n",
      "INFO | epoch 5 (test) loss: 7989.445187\n",
      "INFO | epoch 6 (  0%) loss: 6855.437012\n",
      "INFO | epoch 6 ( 35%) loss: 7833.601553\n",
      "INFO | epoch 6 ( 70%) loss: 7644.352082\n",
      "INFO | epoch 6 (100%) loss: 7493.393180\n",
      "INFO | epoch 6 (test) loss: 7007.410530\n",
      "INFO | epoch 7 (  0%) loss: 7223.961426\n",
      "INFO | epoch 7 ( 35%) loss: 6939.186069\n",
      "INFO | epoch 7 ( 70%) loss: 6810.890678\n",
      "INFO | epoch 7 (100%) loss: 6710.741040\n",
      "INFO | epoch 7 (test) loss: 6309.906464\n",
      "INFO | epoch 8 (  0%) loss: 6700.402832\n",
      "INFO | epoch 8 ( 35%) loss: 6220.917384\n",
      "INFO | epoch 8 ( 70%) loss: 6115.396727\n",
      "INFO | epoch 8 (100%) loss: 6007.192037\n",
      "INFO | epoch 8 (test) loss: 5630.522480\n",
      "INFO | epoch 9 (  0%) loss: 5873.961914\n",
      "INFO | epoch 9 ( 35%) loss: 5564.703425\n",
      "INFO | epoch 9 ( 70%) loss: 5487.855566\n",
      "INFO | epoch 9 (100%) loss: 5397.524653\n",
      "INFO | epoch 9 (test) loss: 5149.268993\n",
      "INFO | epoch 10 (  0%) loss: 4823.910156\n",
      "INFO | epoch 10 ( 35%) loss: 5030.190534\n",
      "INFO | epoch 10 ( 70%) loss: 4756.108012\n",
      "INFO | epoch 10 (100%) loss: 4455.631281\n",
      "INFO | epoch 10 (test) loss: 3543.424501\n",
      "INFO | epoch 11 (  0%) loss: 3279.302734\n",
      "INFO | epoch 11 ( 35%) loss: 3283.620226\n",
      "INFO | epoch 11 ( 70%) loss: 2881.622103\n",
      "INFO | epoch 11 (100%) loss: 2661.271992\n",
      "INFO | epoch 11 (test) loss: 2061.799179\n",
      "INFO | epoch 12 (  0%) loss: 2140.406006\n",
      "INFO | epoch 12 ( 35%) loss: 1905.739588\n",
      "INFO | epoch 12 ( 70%) loss: 1839.059840\n",
      "INFO | epoch 12 (100%) loss: 1774.319751\n",
      "INFO | epoch 12 (test) loss: 1647.952910\n",
      "INFO | epoch 13 (  0%) loss: 1636.679199\n",
      "INFO | epoch 13 ( 35%) loss: 1479.618477\n",
      "INFO | epoch 13 ( 70%) loss: 1428.039233\n",
      "INFO | epoch 13 (100%) loss: 1390.385118\n",
      "INFO | epoch 13 (test) loss: 1270.774833\n",
      "INFO | epoch 14 (  0%) loss: 1221.008545\n",
      "INFO | epoch 14 ( 35%) loss: 1185.876929\n",
      "INFO | epoch 14 ( 70%) loss: 1150.292523\n",
      "INFO | epoch 14 (100%) loss: 1109.359876\n",
      "INFO | epoch 14 (test) loss: 1051.998604\n",
      "INFO | epoch 15 (  0%) loss: 836.549561\n",
      "INFO | epoch 15 ( 35%) loss: 959.160299\n",
      "INFO | epoch 15 ( 70%) loss: 923.483630\n",
      "INFO | epoch 15 (100%) loss: 896.588778\n",
      "INFO | epoch 15 (test) loss: 873.129568\n",
      "INFO | epoch 16 (  0%) loss: 728.012634\n",
      "INFO | epoch 16 ( 35%) loss: 765.971970\n",
      "INFO | epoch 16 ( 70%) loss: 764.095426\n",
      "INFO | epoch 16 (100%) loss: 748.167455\n",
      "INFO | epoch 16 (test) loss: 744.287692\n",
      "INFO | epoch 17 (  0%) loss: 1007.149597\n",
      "INFO | epoch 17 ( 35%) loss: 663.216663\n",
      "INFO | epoch 17 ( 70%) loss: 648.249023\n",
      "INFO | epoch 17 (100%) loss: 627.279285\n",
      "INFO | epoch 17 (test) loss: 626.124872\n",
      "INFO | epoch 18 (  0%) loss: 447.539764\n",
      "INFO | epoch 18 ( 35%) loss: 549.012949\n",
      "INFO | epoch 18 ( 70%) loss: 531.576321\n",
      "INFO | epoch 18 (100%) loss: 526.543865\n",
      "INFO | epoch 18 (test) loss: 537.366026\n",
      "INFO | epoch 19 (  0%) loss: 373.703674\n",
      "INFO | epoch 19 ( 35%) loss: 482.798349\n",
      "INFO | epoch 19 ( 70%) loss: 469.866387\n",
      "INFO | epoch 19 (100%) loss: 460.003019\n",
      "INFO | epoch 19 (test) loss: 449.123767\n",
      "INFO | epoch 20 (  0%) loss: 481.759888\n",
      "INFO | epoch 20 ( 35%) loss: 399.677097\n",
      "INFO | epoch 20 ( 70%) loss: 402.265306\n",
      "INFO | epoch 20 (100%) loss: 406.521825\n",
      "INFO | epoch 20 (test) loss: 432.310869\n",
      "INFO | epoch 21 (  0%) loss: 554.302917\n",
      "INFO | epoch 21 ( 35%) loss: 361.638632\n",
      "INFO | epoch 21 ( 70%) loss: 359.076284\n",
      "INFO | epoch 21 (100%) loss: 352.151357\n",
      "INFO | epoch 21 (test) loss: 364.222143\n",
      "INFO | epoch 22 (  0%) loss: 340.541565\n",
      "INFO | epoch 22 ( 35%) loss: 322.535007\n",
      "INFO | epoch 22 ( 70%) loss: 318.305637\n",
      "INFO | epoch 22 (100%) loss: 314.896168\n",
      "INFO | epoch 22 (test) loss: 334.129540\n",
      "INFO | epoch 23 (  0%) loss: 349.601685\n",
      "INFO | epoch 23 ( 35%) loss: 288.703573\n",
      "INFO | epoch 23 ( 70%) loss: 285.580959\n",
      "INFO | epoch 23 (100%) loss: 283.529637\n",
      "INFO | epoch 23 (test) loss: 299.550064\n",
      "INFO | epoch 24 (  0%) loss: 213.085724\n",
      "INFO | epoch 24 ( 35%) loss: 261.087245\n",
      "INFO | epoch 24 ( 70%) loss: 260.745381\n",
      "INFO | epoch 24 (100%) loss: 265.291457\n",
      "INFO | epoch 24 (test) loss: 342.914394\n",
      "INFO | epoch 25 (  0%) loss: 324.687531\n",
      "INFO | epoch 25 ( 35%) loss: 283.493762\n",
      "INFO | epoch 25 ( 70%) loss: 276.630927\n",
      "INFO | epoch 25 (100%) loss: 269.836900\n",
      "INFO | epoch 25 (test) loss: 293.040538\n",
      "INFO | epoch 26 (  0%) loss: 196.082870\n",
      "INFO | epoch 26 ( 35%) loss: 457.655379\n",
      "INFO | epoch 26 ( 70%) loss: 373.421779\n",
      "INFO | epoch 26 (100%) loss: 331.653679\n",
      "INFO | epoch 26 (test) loss: 243.997502\n",
      "INFO | epoch 27 (  0%) loss: 212.214813\n",
      "INFO | epoch 27 ( 35%) loss: 211.656262\n",
      "INFO | epoch 27 ( 70%) loss: 206.340632\n",
      "INFO | epoch 27 (100%) loss: 200.745604\n",
      "INFO | epoch 27 (test) loss: 213.173543\n",
      "INFO | epoch 28 (  0%) loss: 201.844940\n",
      "INFO | epoch 28 ( 35%) loss: 189.733851\n",
      "INFO | epoch 28 ( 70%) loss: 186.690043\n",
      "INFO | epoch 28 (100%) loss: 184.811895\n",
      "INFO | epoch 28 (test) loss: 201.399225\n",
      "INFO | epoch 29 (  0%) loss: 125.082680\n",
      "INFO | epoch 29 ( 35%) loss: 185.661070\n",
      "INFO | epoch 29 ( 70%) loss: 183.961356\n",
      "INFO | epoch 29 (100%) loss: 181.353619\n",
      "INFO | epoch 29 (test) loss: 196.506058\n",
      "INFO | epoch 30 (  0%) loss: 164.694916\n",
      "INFO | epoch 30 ( 35%) loss: 161.330121\n",
      "INFO | epoch 30 ( 70%) loss: 160.762157\n",
      "INFO | epoch 30 (100%) loss: 162.665028\n",
      "INFO | epoch 30 (test) loss: 181.335092\n",
      "INFO | epoch 31 (  0%) loss: 101.730019\n",
      "INFO | epoch 31 ( 35%) loss: 152.015483\n",
      "INFO | epoch 31 ( 70%) loss: 152.548413\n",
      "INFO | epoch 31 (100%) loss: 152.454097\n",
      "INFO | epoch 31 (test) loss: 182.962862\n",
      "INFO | epoch 32 (  0%) loss: 163.966522\n",
      "INFO | epoch 32 ( 35%) loss: 142.284042\n",
      "INFO | epoch 32 ( 70%) loss: 143.387851\n",
      "INFO | epoch 32 (100%) loss: 144.341711\n",
      "INFO | epoch 32 (test) loss: 167.352368\n",
      "INFO | epoch 33 (  0%) loss: 163.756943\n",
      "INFO | epoch 33 ( 35%) loss: 176.487407\n",
      "INFO | epoch 33 ( 70%) loss: 168.040849\n",
      "INFO | epoch 33 (100%) loss: 164.347762\n",
      "INFO | epoch 33 (test) loss: 178.318148\n",
      "INFO | epoch 34 (  0%) loss: 128.487366\n",
      "INFO | epoch 34 ( 35%) loss: 142.500822\n",
      "INFO | epoch 34 ( 70%) loss: 141.071953\n",
      "INFO | epoch 34 (100%) loss: 137.642643\n",
      "INFO | epoch 34 (test) loss: 144.277248\n",
      "INFO | epoch 35 (  0%) loss: 108.042953\n",
      "INFO | epoch 35 ( 35%) loss: 123.042355\n",
      "INFO | epoch 35 ( 70%) loss: 130.753490\n",
      "INFO | epoch 35 (100%) loss: 133.575334\n",
      "INFO | epoch 35 (test) loss: 152.941784\n",
      "INFO | epoch 36 (  0%) loss: 111.695587\n",
      "INFO | epoch 36 ( 35%) loss: 121.403007\n",
      "INFO | epoch 36 ( 70%) loss: 121.627565\n",
      "INFO | epoch 36 (100%) loss: 120.144449\n",
      "INFO | epoch 36 (test) loss: 144.342221\n",
      "INFO | epoch 37 (  0%) loss: 122.278038\n",
      "INFO | epoch 37 ( 35%) loss: 115.083324\n",
      "INFO | epoch 37 ( 70%) loss: 111.949455\n",
      "INFO | epoch 37 (100%) loss: 113.492547\n",
      "INFO | epoch 37 (test) loss: 129.528110\n",
      "INFO | epoch 38 (  0%) loss: 165.110397\n",
      "INFO | epoch 38 ( 35%) loss: 111.336007\n",
      "INFO | epoch 38 ( 70%) loss: 111.940644\n",
      "INFO | epoch 38 (100%) loss: 112.080021\n",
      "INFO | epoch 38 (test) loss: 122.468823\n",
      "INFO | epoch 39 (  0%) loss: 239.236969\n",
      "INFO | epoch 39 ( 35%) loss: 105.367211\n",
      "INFO | epoch 39 ( 70%) loss: 120.247383\n",
      "INFO | epoch 39 (100%) loss: 117.004674\n",
      "INFO | epoch 39 (test) loss: 130.975310\n",
      "INFO | epoch 40 (  0%) loss: 85.627197\n",
      "INFO | epoch 40 ( 35%) loss: 106.839943\n",
      "INFO | epoch 40 ( 70%) loss: 119.153625\n",
      "INFO | epoch 40 (100%) loss: 117.083770\n",
      "INFO | epoch 40 (test) loss: 120.297218\n",
      "INFO | epoch 41 (  0%) loss: 82.843872\n",
      "INFO | epoch 41 ( 35%) loss: 95.498936\n",
      "INFO | epoch 41 ( 70%) loss: 99.885888\n",
      "INFO | epoch 41 (100%) loss: 96.788634\n",
      "INFO | epoch 41 (test) loss: 111.516890\n",
      "INFO | epoch 42 (  0%) loss: 84.413071\n",
      "INFO | epoch 42 ( 35%) loss: 86.224191\n",
      "INFO | epoch 42 ( 70%) loss: 96.567985\n",
      "INFO | epoch 42 (100%) loss: 93.774486\n",
      "INFO | epoch 42 (test) loss: 105.891891\n",
      "INFO | epoch 43 (  0%) loss: 82.090622\n",
      "INFO | epoch 43 ( 35%) loss: 94.250966\n",
      "INFO | epoch 43 ( 70%) loss: 92.647805\n",
      "INFO | epoch 43 (100%) loss: 91.723409\n",
      "INFO | epoch 43 (test) loss: 96.529735\n",
      "INFO | epoch 44 (  0%) loss: 63.650536\n",
      "INFO | epoch 44 ( 35%) loss: 83.721312\n",
      "INFO | epoch 44 ( 70%) loss: 83.291010\n",
      "INFO | epoch 44 (100%) loss: 85.114437\n",
      "INFO | epoch 44 (test) loss: 101.639546\n",
      "INFO | epoch 45 (  0%) loss: 73.770859\n",
      "INFO | epoch 45 ( 35%) loss: 81.373556\n",
      "INFO | epoch 45 ( 70%) loss: 85.111177\n",
      "INFO | epoch 45 (100%) loss: 84.089776\n",
      "INFO | epoch 45 (test) loss: 94.134015\n",
      "INFO | epoch 46 (  0%) loss: 69.591934\n",
      "INFO | epoch 46 ( 35%) loss: 102.914886\n",
      "INFO | epoch 46 ( 70%) loss: 100.388572\n",
      "INFO | epoch 46 (100%) loss: 96.484385\n",
      "INFO | epoch 46 (test) loss: 97.859694\n",
      "INFO | epoch 47 (  0%) loss: 128.047928\n",
      "INFO | epoch 47 ( 35%) loss: 75.258366\n",
      "INFO | epoch 47 ( 70%) loss: 82.764998\n",
      "INFO | epoch 47 (100%) loss: 80.870266\n",
      "INFO | epoch 47 (test) loss: 95.723540\n",
      "INFO | epoch 48 (  0%) loss: 78.970764\n",
      "INFO | epoch 48 ( 35%) loss: 96.181171\n",
      "INFO | epoch 48 ( 70%) loss: 101.302887\n",
      "INFO | epoch 48 (100%) loss: 94.779304\n",
      "INFO | epoch 48 (test) loss: 95.253747\n",
      "INFO | epoch 49 (  0%) loss: 78.273682\n",
      "INFO | epoch 49 ( 35%) loss: 95.894360\n",
      "INFO | epoch 49 ( 70%) loss: 91.781328\n",
      "INFO | epoch 49 (100%) loss: 87.928201\n",
      "INFO | epoch 49 (test) loss: 99.471862\n",
      "INFO | epoch 50 (  0%) loss: 70.347008\n",
      "INFO | epoch 50 ( 35%) loss: 82.189474\n",
      "INFO | epoch 50 ( 70%) loss: 84.486680\n",
      "INFO | epoch 50 (100%) loss: 88.414063\n",
      "INFO | epoch 50 (test) loss: 106.559105\n",
      "INFO | epoch 51 (  0%) loss: 131.897217\n",
      "INFO | epoch 51 ( 35%) loss: 78.261267\n",
      "INFO | epoch 51 ( 70%) loss: 77.605411\n",
      "INFO | epoch 51 (100%) loss: 76.805340\n",
      "INFO | epoch 51 (test) loss: 84.325699\n",
      "INFO | epoch 52 (  0%) loss: 52.863319\n",
      "INFO | epoch 52 ( 35%) loss: 72.170154\n",
      "INFO | epoch 52 ( 70%) loss: 75.051619\n",
      "INFO | epoch 52 (100%) loss: 74.853609\n",
      "INFO | epoch 52 (test) loss: 80.240367\n",
      "INFO | epoch 53 (  0%) loss: 58.329632\n",
      "INFO | epoch 53 ( 35%) loss: 77.677566\n",
      "INFO | epoch 53 ( 70%) loss: 70.592942\n",
      "INFO | epoch 53 (100%) loss: 70.148886\n",
      "INFO | epoch 53 (test) loss: 79.289448\n",
      "INFO | epoch 54 (  0%) loss: 50.036308\n",
      "INFO | epoch 54 ( 35%) loss: 78.009866\n",
      "INFO | epoch 54 ( 70%) loss: 89.479893\n",
      "INFO | epoch 54 (100%) loss: 84.711788\n",
      "INFO | epoch 54 (test) loss: 81.560057\n",
      "INFO | epoch 55 (  0%) loss: 62.944267\n",
      "INFO | epoch 55 ( 35%) loss: 77.836719\n",
      "INFO | epoch 55 ( 70%) loss: 80.426657\n",
      "INFO | epoch 55 (100%) loss: 77.639211\n",
      "INFO | epoch 55 (test) loss: 78.260759\n",
      "INFO | epoch 56 (  0%) loss: 53.021759\n",
      "INFO | epoch 56 ( 35%) loss: 88.708866\n",
      "INFO | epoch 56 ( 70%) loss: 77.992766\n",
      "INFO | epoch 56 (100%) loss: 81.540237\n",
      "INFO | epoch 56 (test) loss: 83.095666\n",
      "INFO | epoch 57 (  0%) loss: 76.334869\n",
      "INFO | epoch 57 ( 35%) loss: 73.597774\n",
      "INFO | epoch 57 ( 70%) loss: 74.334213\n",
      "INFO | epoch 57 (100%) loss: 74.120355\n",
      "INFO | epoch 57 (test) loss: 83.552891\n",
      "INFO | epoch 58 (  0%) loss: 62.554173\n",
      "INFO | epoch 58 ( 35%) loss: 77.570447\n",
      "INFO | epoch 58 ( 70%) loss: 92.569880\n",
      "INFO | epoch 58 (100%) loss: 95.210613\n",
      "INFO | epoch 58 (test) loss: 94.425155\n",
      "INFO | epoch 59 (  0%) loss: 88.454697\n",
      "INFO | epoch 59 ( 35%) loss: 91.868822\n",
      "INFO | epoch 59 ( 70%) loss: 81.073707\n",
      "INFO | epoch 59 (100%) loss: 77.711762\n",
      "INFO | epoch 59 (test) loss: 73.224949\n",
      "INFO | epoch 60 (  0%) loss: 58.771339\n",
      "INFO | epoch 60 ( 35%) loss: 77.379169\n",
      "INFO | epoch 60 ( 70%) loss: 76.959805\n",
      "INFO | epoch 60 (100%) loss: 74.629334\n",
      "INFO | epoch 60 (test) loss: 76.651155\n",
      "INFO | epoch 61 (  0%) loss: 53.106098\n",
      "INFO | epoch 61 ( 35%) loss: 65.017211\n",
      "INFO | epoch 61 ( 70%) loss: 62.285969\n",
      "INFO | epoch 61 (100%) loss: 61.856804\n",
      "INFO | epoch 61 (test) loss: 76.015332\n",
      "INFO | epoch 62 (  0%) loss: 101.001709\n",
      "INFO | epoch 62 ( 35%) loss: 76.613305\n",
      "INFO | epoch 62 ( 70%) loss: 74.381298\n",
      "INFO | epoch 62 (100%) loss: 70.332135\n",
      "INFO | epoch 62 (test) loss: 76.287691\n",
      "INFO | epoch 63 (  0%) loss: 51.145065\n",
      "INFO | epoch 63 ( 35%) loss: 55.615961\n",
      "INFO | epoch 63 ( 70%) loss: 60.071581\n",
      "INFO | epoch 63 (100%) loss: 63.880416\n",
      "INFO | epoch 63 (test) loss: 187.739148\n",
      "INFO | epoch 64 (  0%) loss: 123.204323\n",
      "INFO | epoch 64 ( 35%) loss: 91.939780\n",
      "INFO | epoch 64 ( 70%) loss: 74.415307\n",
      "INFO | epoch 64 (100%) loss: 71.334938\n",
      "INFO | epoch 64 (test) loss: 79.006831\n",
      "INFO | epoch 65 (  0%) loss: 101.225510\n",
      "INFO | epoch 65 ( 35%) loss: 59.824576\n",
      "INFO | epoch 65 ( 70%) loss: 70.434639\n",
      "INFO | epoch 65 (100%) loss: 69.284221\n",
      "INFO | epoch 65 (test) loss: 81.020581\n",
      "INFO | epoch 66 (  0%) loss: 107.302643\n",
      "INFO | epoch 66 ( 35%) loss: 74.929255\n",
      "INFO | epoch 66 ( 70%) loss: 68.160225\n",
      "INFO | epoch 66 (100%) loss: 66.262466\n",
      "INFO | epoch 66 (test) loss: 80.649841\n",
      "INFO | epoch 67 (  0%) loss: 101.924667\n",
      "INFO | epoch 67 ( 35%) loss: 66.134172\n",
      "INFO | epoch 67 ( 70%) loss: 66.792928\n",
      "INFO | epoch 67 (100%) loss: 63.214975\n",
      "INFO | epoch 67 (test) loss: 64.061222\n",
      "INFO | epoch 68 (  0%) loss: 739.602600\n",
      "INFO | epoch 68 ( 35%) loss: 101.659077\n",
      "INFO | epoch 68 ( 70%) loss: 85.797883\n",
      "INFO | epoch 68 (100%) loss: 84.349135\n",
      "INFO | epoch 68 (test) loss: 86.893155\n",
      "INFO | epoch 69 (  0%) loss: 48.696152\n",
      "INFO | epoch 69 ( 35%) loss: 63.531423\n",
      "INFO | epoch 69 ( 70%) loss: 70.583872\n",
      "INFO | epoch 69 (100%) loss: 68.945029\n",
      "INFO | epoch 69 (test) loss: 87.888044\n",
      "INFO | epoch 70 (  0%) loss: 50.031021\n",
      "INFO | epoch 70 ( 35%) loss: 110.539599\n",
      "INFO | epoch 70 ( 70%) loss: 87.070630\n",
      "INFO | epoch 70 (100%) loss: 86.154788\n",
      "INFO | epoch 70 (test) loss: 93.902147\n",
      "INFO | epoch 71 (  0%) loss: 75.931259\n",
      "INFO | epoch 71 ( 35%) loss: 67.998074\n",
      "INFO | epoch 71 ( 70%) loss: 67.039755\n",
      "INFO | epoch 71 (100%) loss: 65.787794\n",
      "INFO | epoch 71 (test) loss: 75.726270\n",
      "INFO | epoch 72 (  0%) loss: 104.906693\n",
      "INFO | epoch 72 ( 35%) loss: 59.367806\n",
      "INFO | epoch 72 ( 70%) loss: 74.137250\n",
      "INFO | epoch 72 (100%) loss: 82.464399\n",
      "INFO | epoch 72 (test) loss: 83.062964\n",
      "INFO | epoch 73 (  0%) loss: 63.263126\n",
      "INFO | epoch 73 ( 35%) loss: 63.170612\n",
      "INFO | epoch 73 ( 70%) loss: 69.156436\n",
      "INFO | epoch 73 (100%) loss: 67.693745\n",
      "INFO | epoch 73 (test) loss: 95.253931\n",
      "INFO | epoch 74 (  0%) loss: 60.237633\n",
      "INFO | epoch 74 ( 35%) loss: 84.066556\n",
      "INFO | epoch 74 ( 70%) loss: 75.452774\n",
      "INFO | epoch 74 (100%) loss: 70.796901\n",
      "INFO | epoch 74 (test) loss: 79.502928\n",
      "INFO | epoch 75 (  0%) loss: 68.073631\n",
      "INFO | epoch 75 ( 35%) loss: 67.330840\n",
      "INFO | epoch 75 ( 70%) loss: 77.386155\n",
      "INFO | epoch 75 (100%) loss: 84.128807\n",
      "INFO | epoch 75 (test) loss: 96.346359\n",
      "INFO | epoch 76 (  0%) loss: 78.656425\n",
      "INFO | epoch 76 ( 35%) loss: 87.269394\n",
      "INFO | epoch 76 ( 70%) loss: 79.047730\n",
      "INFO | epoch 76 (100%) loss: 77.360351\n",
      "INFO | epoch 76 (test) loss: 82.823411\n",
      "INFO | epoch 77 (  0%) loss: 53.156631\n",
      "INFO | epoch 77 ( 35%) loss: 61.663793\n",
      "INFO | epoch 77 ( 70%) loss: 59.640659\n",
      "INFO | epoch 77 (100%) loss: 59.874229\n",
      "INFO | epoch 77 (test) loss: 69.353200\n",
      "INFO | epoch 78 (  0%) loss: 39.878246\n",
      "INFO | epoch 78 ( 35%) loss: 59.756859\n",
      "INFO | epoch 78 ( 70%) loss: 58.669768\n",
      "INFO | epoch 78 (100%) loss: 59.899527\n",
      "INFO | epoch 78 (test) loss: 94.054232\n",
      "INFO | epoch 79 (  0%) loss: 63.016674\n",
      "INFO | epoch 79 ( 35%) loss: 114.366065\n",
      "INFO | epoch 79 ( 70%) loss: 93.427459\n",
      "INFO | epoch 79 (100%) loss: 82.300095\n",
      "INFO | epoch 79 (test) loss: 70.056903\n",
      "INFO | epoch 80 (  0%) loss: 43.808975\n",
      "INFO | epoch 80 ( 35%) loss: 55.476700\n",
      "INFO | epoch 80 ( 70%) loss: 81.888121\n",
      "INFO | epoch 80 (100%) loss: 79.844779\n",
      "INFO | epoch 80 (test) loss: 80.320965\n",
      "INFO | epoch 81 (  0%) loss: 50.677422\n",
      "INFO | epoch 81 ( 35%) loss: 56.461622\n",
      "INFO | epoch 81 ( 70%) loss: 57.355135\n",
      "INFO | epoch 81 (100%) loss: 56.170647\n",
      "INFO | epoch 81 (test) loss: 60.850210\n",
      "INFO | epoch 82 (  0%) loss: 46.185242\n",
      "INFO | epoch 82 ( 35%) loss: 57.669281\n",
      "INFO | epoch 82 ( 70%) loss: 57.852897\n",
      "INFO | epoch 82 (100%) loss: 57.352482\n",
      "INFO | epoch 82 (test) loss: 63.817442\n",
      "INFO | epoch 83 (  0%) loss: 39.960655\n",
      "INFO | epoch 83 ( 35%) loss: 52.076697\n",
      "INFO | epoch 83 ( 70%) loss: 58.412918\n",
      "INFO | epoch 83 (100%) loss: 62.822397\n",
      "INFO | epoch 83 (test) loss: 68.076373\n",
      "INFO | epoch 84 (  0%) loss: 52.773415\n",
      "INFO | epoch 84 ( 35%) loss: 57.208673\n",
      "INFO | epoch 84 ( 70%) loss: 58.332520\n",
      "INFO | epoch 84 (100%) loss: 70.780668\n",
      "INFO | epoch 84 (test) loss: 112.782290\n",
      "INFO | epoch 85 (  0%) loss: 78.677872\n",
      "INFO | epoch 85 ( 35%) loss: 60.180533\n",
      "INFO | epoch 85 ( 70%) loss: 62.303800\n",
      "INFO | epoch 85 (100%) loss: 59.913414\n",
      "INFO | epoch 85 (test) loss: 64.589808\n",
      "INFO | epoch 86 (  0%) loss: 44.474243\n",
      "INFO | epoch 86 ( 35%) loss: 50.818587\n",
      "INFO | epoch 86 ( 70%) loss: 51.231431\n",
      "INFO | epoch 86 (100%) loss: 49.655086\n",
      "INFO | epoch 86 (test) loss: 57.074079\n",
      "INFO | epoch 87 (  0%) loss: 41.033875\n",
      "INFO | epoch 87 ( 35%) loss: 44.484497\n",
      "INFO | epoch 87 ( 70%) loss: 46.763618\n",
      "INFO | epoch 87 (100%) loss: 46.023549\n",
      "INFO | epoch 87 (test) loss: 63.057238\n",
      "INFO | epoch 88 (  0%) loss: 55.453766\n",
      "INFO | epoch 88 ( 35%) loss: 45.139539\n",
      "INFO | epoch 88 ( 70%) loss: 51.471691\n",
      "INFO | epoch 88 (100%) loss: 50.584085\n",
      "INFO | epoch 88 (test) loss: 61.451256\n",
      "INFO | epoch 89 (  0%) loss: 43.822086\n",
      "INFO | epoch 89 ( 35%) loss: 49.075338\n",
      "INFO | epoch 89 ( 70%) loss: 46.424656\n",
      "INFO | epoch 89 (100%) loss: 49.290045\n",
      "INFO | epoch 89 (test) loss: 72.190274\n",
      "INFO | epoch 90 (  0%) loss: 58.892784\n",
      "INFO | epoch 90 ( 35%) loss: 56.459513\n",
      "INFO | epoch 90 ( 70%) loss: 69.725665\n",
      "INFO | epoch 90 (100%) loss: 68.367268\n",
      "INFO | epoch 90 (test) loss: 78.041208\n",
      "INFO | epoch 91 (  0%) loss: 71.549995\n",
      "INFO | epoch 91 ( 35%) loss: 61.552645\n",
      "INFO | epoch 91 ( 70%) loss: 59.057880\n",
      "INFO | epoch 91 (100%) loss: 95.223805\n",
      "INFO | epoch 91 (test) loss: 120.767372\n",
      "INFO | epoch 92 (  0%) loss: 68.922043\n",
      "INFO | epoch 92 ( 35%) loss: 142.173030\n",
      "INFO | epoch 92 ( 70%) loss: 99.179309\n",
      "INFO | epoch 92 (100%) loss: 89.334925\n",
      "INFO | epoch 92 (test) loss: 90.504175\n",
      "INFO | epoch 93 (  0%) loss: 111.556770\n",
      "INFO | epoch 93 ( 35%) loss: 58.386934\n",
      "INFO | epoch 93 ( 70%) loss: 53.137026\n",
      "INFO | epoch 93 (100%) loss: 53.190447\n",
      "INFO | epoch 93 (test) loss: 70.060282\n",
      "INFO | epoch 94 (  0%) loss: 53.846298\n",
      "INFO | epoch 94 ( 35%) loss: 52.211238\n",
      "INFO | epoch 94 ( 70%) loss: 48.382593\n",
      "INFO | epoch 94 (100%) loss: 57.005276\n",
      "INFO | epoch 94 (test) loss: 90.936006\n",
      "INFO | epoch 95 (  0%) loss: 66.868546\n",
      "INFO | epoch 95 ( 35%) loss: 71.505046\n",
      "INFO | epoch 95 ( 70%) loss: 61.876173\n",
      "INFO | epoch 95 (100%) loss: 65.652469\n",
      "INFO | epoch 95 (test) loss: 68.897732\n",
      "INFO | epoch 96 (  0%) loss: 61.004967\n",
      "INFO | epoch 96 ( 35%) loss: 50.639385\n",
      "INFO | epoch 96 ( 70%) loss: 49.289520\n",
      "INFO | epoch 96 (100%) loss: 47.821062\n",
      "INFO | epoch 96 (test) loss: 55.170250\n",
      "INFO | epoch 97 (  0%) loss: 40.002838\n",
      "INFO | epoch 97 ( 35%) loss: 49.337234\n",
      "INFO | epoch 97 ( 70%) loss: 50.571196\n",
      "INFO | epoch 97 (100%) loss: 49.896928\n",
      "INFO | epoch 97 (test) loss: 57.753336\n",
      "INFO | epoch 98 (  0%) loss: 42.053745\n",
      "INFO | epoch 98 ( 35%) loss: 69.382808\n",
      "INFO | epoch 98 ( 70%) loss: 62.037464\n",
      "INFO | epoch 98 (100%) loss: 64.636034\n",
      "INFO | epoch 98 (test) loss: 73.489115\n",
      "INFO | epoch 99 (  0%) loss: 55.127907\n",
      "INFO | epoch 99 ( 35%) loss: 60.195266\n",
      "INFO | epoch 99 ( 70%) loss: 58.921410\n",
      "INFO | epoch 99 (100%) loss: 61.174020\n",
      "INFO | epoch 99 (test) loss: 69.513141\n",
      "INFO | epoch 100 (  0%) loss: 53.124035\n",
      "INFO | epoch 100 ( 35%) loss: 52.264245\n",
      "INFO | epoch 100 ( 70%) loss: 51.148358\n",
      "INFO | epoch 100 (100%) loss: 50.679471\n",
      "INFO | epoch 100 (test) loss: 58.915528\n",
      "INFO | model blob saved to /home/jmsdnns/ML/pallets/saved/cvae.conv.pkl\n",
      "INFO | training losses saved to /home/jmsdnns/ML/pallets/saved/cvae.conv.json\n"
     ]
    }
   ],
   "source": [
    "train_losses, test_losses = M.cvae.train(\n",
    "    device, model, criterion, train_loader, test_loader,\n",
    "    learn_rate=LR, epochs=EPOCHS\n",
    ")\n",
    "\n",
    "M.save(SAVE_NAME, model, train_losses, test_losses)"
   ]
  },
  {
   "cell_type": "markdown",
   "id": "77fb32ad",
   "metadata": {},
   "source": [
    "# Results"
   ]
  },
  {
   "cell_type": "markdown",
   "id": "c7e79f56",
   "metadata": {},
   "source": [
    "## Random Inputs w/ Real Labels"
   ]
  },
  {
   "cell_type": "code",
   "execution_count": 10,
   "id": "f2b9d212",
   "metadata": {},
   "outputs": [],
   "source": [
    "import random\n",
    "\n",
    "\n",
    "def rand_label():\n",
    "    label_idx = int(random.random() * len(dataset._labels))\n",
    "    features = dataset._labels[label_idx]\n",
    "    enabled_names = [k for k,v in zip(dataset._label_keys, features) if v.item() == 1]\n",
    "    return features.to(device), enabled_names\n"
   ]
  },
  {
   "cell_type": "code",
   "execution_count": 11,
   "id": "38c47d81",
   "metadata": {},
   "outputs": [],
   "source": [
    "# Generate new image\n",
    "\n",
    "def rand_punk():\n",
    "    z = torch.randn(1, latent_dim).to(device)\n",
    "    # print(z.shape)\n",
    "    features, names = rand_label()\n",
    "    print(f\"Features: {', '.join(names)}\")\n",
    "\n",
    "    with torch.no_grad():\n",
    "        model.eval()\n",
    "        generated_image = model.decoder(z, features.unsqueeze(0))\n",
    "        # print(generated_image.shape)\n",
    "\n",
    "    decoded_one_hot = generated_image[0]\n",
    "    decoded_one_hot = decoded_one_hot.view((222, 24, 24))\n",
    "    # print(decoded_one_hot.shape)\n",
    "    decoded = DS.one_hot_to_rgba(decoded_one_hot, dataset.mapper)\n",
    "    print(f\"Shape: {decoded.shape}\")\n",
    "    return decoded\n"
   ]
  },
  {
   "cell_type": "markdown",
   "id": "31e74ceb",
   "metadata": {},
   "source": [
    "### 5 Randoms w/ Real Labels"
   ]
  },
  {
   "cell_type": "code",
   "execution_count": 12,
   "metadata": {},
   "outputs": [
    {
     "name": "stdout",
     "output_type": "stream",
     "text": [
      "Features: male, 3DGlasses, doRag\n",
      "Shape: torch.Size([4, 24, 24])\n",
      "torch.Size([4, 24, 24])\n"
     ]
    },
    {
     "data": {
      "image/png": "[encoded data removed]",
      "text/plain": [
       "<Figure size 640x480 with 1 Axes>"
      ]
     },
     "metadata": {},
     "output_type": "display_data"
    }
   ],
   "source": [
    "decoded = rand_punk()\n",
    "print(decoded.shape)\n",
    "\n",
    "plt.imshow(transforms.functional.to_pil_image(decoded))\n",
    "plt.axis('off')\n",
    "plt.show()\n"
   ]
  },
  {
   "cell_type": "code",
   "execution_count": 13,
   "id": "6744444a",
   "metadata": {},
   "outputs": [
    {
     "name": "stdout",
     "output_type": "stream",
     "text": [
      "Features: female, blueEyeShadow, messyHair, earring\n",
      "Shape: torch.Size([4, 24, 24])\n"
     ]
    },
    {
     "data": {
      "image/png": "[encoded data removed]",
      "text/plain": [
       "<Figure size 640x480 with 1 Axes>"
      ]
     },
     "metadata": {},
     "output_type": "display_data"
    }
   ],
   "source": [
    "decoded = rand_punk()\n",
    "\n",
    "plt.imshow(transforms.functional.to_pil_image(decoded))\n",
    "plt.axis('off')\n",
    "plt.show()\n"
   ]
  },
  {
   "cell_type": "code",
   "execution_count": 14,
   "id": "e190c583",
   "metadata": {},
   "outputs": [
    {
     "name": "stdout",
     "output_type": "stream",
     "text": [
      "Features: female, wildBlonde, bigShades\n",
      "Shape: torch.Size([4, 24, 24])\n"
     ]
    },
    {
     "data": {
      "image/png": "[encoded data removed]",
      "text/plain": [
       "<Figure size 640x480 with 1 Axes>"
      ]
     },
     "metadata": {},
     "output_type": "display_data"
    }
   ],
   "source": [
    "decoded = rand_punk()\n",
    "\n",
    "plt.imshow(transforms.functional.to_pil_image(decoded))\n",
    "plt.axis('off')\n",
    "plt.show()\n"
   ]
  },
  {
   "cell_type": "code",
   "execution_count": 15,
   "id": "be357c27",
   "metadata": {},
   "outputs": [
    {
     "name": "stdout",
     "output_type": "stream",
     "text": [
      "Features: female, pigtails, cigarette\n",
      "Shape: torch.Size([4, 24, 24])\n"
     ]
    },
    {
     "data": {
      "image/png": "[encoded data removed]",
      "text/plain": [
       "<Figure size 640x480 with 1 Axes>"
      ]
     },
     "metadata": {},
     "output_type": "display_data"
    }
   ],
   "source": [
    "decoded = rand_punk()\n",
    "\n",
    "plt.imshow(transforms.functional.to_pil_image(decoded))\n",
    "plt.axis('off')\n",
    "plt.show()\n"
   ]
  },
  {
   "cell_type": "code",
   "execution_count": 16,
   "id": "d8f339ae",
   "metadata": {},
   "outputs": [
    {
     "name": "stdout",
     "output_type": "stream",
     "text": [
      "Features: female, pipe, wildHair, purpleLipstick\n",
      "Shape: torch.Size([4, 24, 24])\n"
     ]
    },
    {
     "data": {
      "image/png": "[encoded data removed]",
      "text/plain": [
       "<Figure size 640x480 with 1 Axes>"
      ]
     },
     "metadata": {},
     "output_type": "display_data"
    }
   ],
   "source": [
    "decoded = rand_punk()\n",
    "\n",
    "plt.imshow(transforms.functional.to_pil_image(decoded))\n",
    "plt.axis('off')\n",
    "plt.show()\n"
   ]
  },
  {
   "cell_type": "markdown",
   "id": "3e1bd761",
   "metadata": {},
   "source": [
    "## Reconstruction"
   ]
  },
  {
   "cell_type": "code",
   "execution_count": 17,
   "id": "a150efab",
   "metadata": {},
   "outputs": [],
   "source": [
    "def reconstruct_punk(idx):\n",
    "    punk = I.get_punk_tensor(idx)\n",
    "    p = DS.rgba_to_one_hot(punk, dataset.mapper)\n",
    "    p = p.unsqueeze(0)\n",
    "    p = p.to(device)\n",
    "\n",
    "    _, labels = dataset[idx]\n",
    "    l = labels.unsqueeze(0)\n",
    "    l = l.to(device)\n",
    "    enabled_features = [k for k,v in zip(dataset._label_keys, labels) if v.item() == 1]\n",
    "\n",
    "    model.eval()\n",
    "    with torch.no_grad():\n",
    "        reconstructed, mu, logvar = model.forward(p, l)\n",
    "\n",
    "    recon_punk = reconstructed[0].cpu()\n",
    "    recon_punk = DS.one_hot_to_rgba(recon_punk, dataset.mapper)\n",
    "\n",
    "    return punk, recon_punk, enabled_features\n",
    "\n",
    "\n",
    "def draw_two(img1, img2):\n",
    "    page_size = 2\n",
    "    view_x, view_y = 4*page_size, 2*page_size\n",
    "    fig = plt.figure(figsize=(view_x, view_y))\n",
    "    fig.add_subplot(1, 2, 1)\n",
    "    plt.imshow(transforms.functional.to_pil_image(img1))\n",
    "    plt.axis('off')\n",
    "    fig.add_subplot(1, 2, 2)\n",
    "    plt.imshow(transforms.functional.to_pil_image(img2))\n",
    "    plt.axis('off')\n",
    "    plt.show()\n"
   ]
  },
  {
   "cell_type": "markdown",
   "id": "7a12b220",
   "metadata": {},
   "source": [
    "### 5 Reconstructions"
   ]
  },
  {
   "cell_type": "code",
   "execution_count": 18,
   "id": "142e642d",
   "metadata": {},
   "outputs": [
    {
     "name": "stdout",
     "output_type": "stream",
     "text": [
      "Features: female, rosyCheeks, darkHair, cigarette\n"
     ]
    },
    {
     "data": {
      "image/png": "[encoded data removed]",
      "text/plain": [
       "<Figure size 800x400 with 2 Axes>"
      ]
     },
     "metadata": {},
     "output_type": "display_data"
    }
   ],
   "source": [
    "punk, recon_punk, features = reconstruct_punk(1000)\n",
    "\n",
    "print(f\"Features: {', '.join(features)}\")\n",
    "draw_two(punk, recon_punk)"
   ]
  },
  {
   "cell_type": "code",
   "execution_count": 19,
   "metadata": {},
   "outputs": [
    {
     "name": "stdout",
     "output_type": "stream",
     "text": [
      "Features: female, stringyHair, purpleLipstick, earring\n"
     ]
    },
    {
     "data": {
      "image/png": "[encoded data removed]",
      "text/plain": [
       "<Figure size 800x400 with 2 Axes>"
      ]
     },
     "metadata": {},
     "output_type": "display_data"
    }
   ],
   "source": [
    "punk, recon_punk, features = reconstruct_punk(2001)\n",
    "\n",
    "print(f\"Features: {', '.join(features)}\")\n",
    "draw_two(punk, recon_punk)\n"
   ]
  },
  {
   "cell_type": "code",
   "execution_count": 20,
   "id": "8e401eca",
   "metadata": {},
   "outputs": [
    {
     "name": "stdout",
     "output_type": "stream",
     "text": [
      "Features: female, wildWhiteHair, greenEyeShadow, hotLipstick\n"
     ]
    },
    {
     "data": {
      "image/png": "[encoded data removed]",
      "text/plain": [
       "<Figure size 800x400 with 2 Axes>"
      ]
     },
     "metadata": {},
     "output_type": "display_data"
    }
   ],
   "source": [
    "punk, recon_punk, features = reconstruct_punk(5000)\n",
    "\n",
    "print(f\"Features: {', '.join(features)}\")\n",
    "draw_two(punk, recon_punk)"
   ]
  },
  {
   "cell_type": "code",
   "execution_count": 21,
   "id": "99f3ac30",
   "metadata": {},
   "outputs": [
    {
     "name": "stdout",
     "output_type": "stream",
     "text": [
      "Features: male, rosyCheeks, mustache, vr, cap, cigarette\n"
     ]
    },
    {
     "data": {
      "image/png": "[encoded data removed]",
      "text/plain": [
       "<Figure size 800x400 with 2 Axes>"
      ]
     },
     "metadata": {},
     "output_type": "display_data"
    }
   ],
   "source": [
    "punk, recon_punk, features = reconstruct_punk(8000)\n",
    "\n",
    "print(f\"Features: {', '.join(features)}\")\n",
    "draw_two(punk, recon_punk)"
   ]
  },
  {
   "cell_type": "code",
   "execution_count": 22,
   "id": "eb402159",
   "metadata": {},
   "outputs": [
    {
     "name": "stdout",
     "output_type": "stream",
     "text": [
      "Features: male, handlebars, bandana\n"
     ]
    },
    {
     "data": {
      "image/png": "[encoded data removed]",
      "text/plain": [
       "<Figure size 800x400 with 2 Axes>"
      ]
     },
     "metadata": {},
     "output_type": "display_data"
    }
   ],
   "source": [
    "punk, recon_punk, features = reconstruct_punk(1337)\n",
    "\n",
    "print(f\"Features: {', '.join(features)}\")\n",
    "draw_two(punk, recon_punk)"
   ]
  },
  {
   "cell_type": "markdown",
   "id": "04a97510",
   "metadata": {},
   "source": [
    "## Losses"
   ]
  },
  {
   "cell_type": "code",
   "execution_count": 23,
   "metadata": {},
   "outputs": [
    {
     "data": {
      "text/plain": [
       "<function matplotlib.pyplot.show(close=None, block=None)>"
      ]
     },
     "execution_count": 23,
     "metadata": {},
     "output_type": "execute_result"
    },
    {
     "data": {
      "image/png": "[encoded data removed]",
      "text/plain": [
       "<Figure size 640x480 with 1 Axes>"
      ]
     },
     "metadata": {},
     "output_type": "display_data"
    }
   ],
   "source": [
    "plt.title(\"Train & Test loss\")\n",
    "plt.plot(train_losses, label='train loss')\n",
    "plt.plot(test_losses, label='test loss')\n",
    "plt.legend()\n",
    "plt.show\n"
   ]
  },
  {
   "cell_type": "code",
   "execution_count": 24,
   "id": "c1261252",
   "metadata": {},
   "outputs": [
    {
     "data": {
      "text/plain": [
       "[136140.8941624418,\n",
       " 24675.87042193041,\n",
       " 21137.95113031915,\n",
       " 18887.145580535238,\n",
       " 16862.201521636747,\n",
       " 14986.786359638187,\n",
       " 13421.48207903923,\n",
       " 12014.384074758977,\n",
       " 10795.049306883035,\n",
       " 8911.262562853224,\n",
       " 5322.543983838237,\n",
       " 3548.6395012605276,\n",
       " 2780.770236400848,\n",
       " 2218.719752534907,\n",
       " 1793.1775564640127,\n",
       " 1496.3349099666514,\n",
       " 1254.5585706453796,\n",
       " 1053.087729271422,\n",
       " 920.0060382599527,\n",
       " 813.0436492270612,\n",
       " 704.3027132724194,\n",
       " 629.7923357807998,\n",
       " 567.0592734695326,\n",
       " 530.5829149070361,\n",
       " 539.6737997717892,\n",
       " 663.30735751754,\n",
       " 401.4912072039665,\n",
       " 369.62379082213056,\n",
       " 362.7072380552901,\n",
       " 325.3300567518735,\n",
       " 304.9081934665112,\n",
       " 288.68342157458585,\n",
       " 328.69552417511636,\n",
       " 275.28528505690554,\n",
       " 267.15066861091776,\n",
       " 240.28889716939725,\n",
       " 226.9850948009085,\n",
       " 224.16004210668254,\n",
       " 234.00934778037646,\n",
       " 234.16754085459607,\n",
       " 193.57726749122565,\n",
       " 187.54897154138445,\n",
       " 183.44681833145466,\n",
       " 170.22887477468936,\n",
       " 168.17955280195736,\n",
       " 192.96876966868732,\n",
       " 161.74053100829428,\n",
       " 189.55860735845903,\n",
       " 175.85640259330154,\n",
       " 176.8281261362928,\n",
       " 153.61068092508518,\n",
       " 149.7072173991102,\n",
       " 140.29777239400445,\n",
       " 169.42357575977948,\n",
       " 155.2784212531773,\n",
       " 163.08047389307765,\n",
       " 148.2407095347736,\n",
       " 190.42122679906535,\n",
       " 155.42352388936578,\n",
       " 149.25866824346232,\n",
       " 123.71360786924971,\n",
       " 140.66426906179873,\n",
       " 127.7608310753572,\n",
       " 142.66987517877672,\n",
       " 138.56844150597323,\n",
       " 132.52493127863457,\n",
       " 126.4299502136014,\n",
       " 168.6982690391811,\n",
       " 137.89005838894676,\n",
       " 172.30957646741933,\n",
       " 131.5755885577371,\n",
       " 164.92879889197383,\n",
       " 135.3874905160133,\n",
       " 141.5938026076513,\n",
       " 168.2576138246144,\n",
       " 154.720701109433,\n",
       " 119.74845769219365,\n",
       " 119.7990546733775,\n",
       " 164.6001908728417,\n",
       " 159.6895574204465,\n",
       " 112.34129313881516,\n",
       " 114.70496381259133,\n",
       " 125.64479499167584,\n",
       " 141.56133540809577,\n",
       " 119.82682899718588,\n",
       " 99.31017115437393,\n",
       " 92.04709792982602,\n",
       " 101.16817096953696,\n",
       " 98.58008943381884,\n",
       " 136.73453583954074,\n",
       " 190.44761029371978,\n",
       " 178.66984921989712,\n",
       " 106.38089389665753,\n",
       " 114.01055231838362,\n",
       " 131.30493853278193,\n",
       " 95.64212332380579,\n",
       " 99.79385584973275,\n",
       " 129.27206829422755,\n",
       " 122.34804045224021,\n",
       " 101.35894194393293]"
      ]
     },
     "execution_count": 24,
     "metadata": {},
     "output_type": "execute_result"
    }
   ],
   "source": [
    "train_losses\n"
   ]
  },
  {
   "cell_type": "code",
   "execution_count": 25,
   "id": "15d6f86b",
   "metadata": {},
   "outputs": [
    {
     "data": {
      "text/plain": [
       "[27021.430465698242,\n",
       " 22285.76808166504,\n",
       " 19802.889617919922,\n",
       " 17731.526428222656,\n",
       " 15978.89037322998,\n",
       " 14014.821060180664,\n",
       " 12619.812927246094,\n",
       " 11261.044960021973,\n",
       " 10298.537986755371,\n",
       " 7086.849002838135,\n",
       " 4123.598358154297,\n",
       " 3295.9058208465576,\n",
       " 2541.54966545105,\n",
       " 2103.9972076416016,\n",
       " 1746.2591361999512,\n",
       " 1488.5753831863403,\n",
       " 1252.249743461609,\n",
       " 1074.7320528030396,\n",
       " 898.2475337982178,\n",
       " 864.6217384338379,\n",
       " 728.4442853927612,\n",
       " 668.2590794563293,\n",
       " 599.1001286506653,\n",
       " 685.8287887573242,\n",
       " 586.0810761451721,\n",
       " 487.99500370025635,\n",
       " 426.3470869064331,\n",
       " 402.79844903945923,\n",
       " 393.0121158361435,\n",
       " 362.6701834201813,\n",
       " 365.9257242679596,\n",
       " 334.70473623275757,\n",
       " 356.63629627227783,\n",
       " 288.55449509620667,\n",
       " 305.88356733322144,\n",
       " 288.6844415664673,\n",
       " 259.0562207698822,\n",
       " 244.937646150589,\n",
       " 261.95062005519867,\n",
       " 240.59443593025208,\n",
       " 223.03377962112427,\n",
       " 211.78378224372864,\n",
       " 193.05946958065033,\n",
       " 203.27909231185913,\n",
       " 188.26802986860275,\n",
       " 195.71938705444336,\n",
       " 191.44708061218262,\n",
       " 190.5074931383133,\n",
       " 198.9437245130539,\n",
       " 213.11820989847183,\n",
       " 168.6513979434967,\n",
       " 160.48073410987854,\n",
       " 158.57889622449875,\n",
       " 163.12011420726776,\n",
       " 156.52151894569397,\n",
       " 166.19133162498474,\n",
       " 167.10578268766403,\n",
       " 188.85030901432037,\n",
       " 146.44989848136902,\n",
       " 153.30230909585953,\n",
       " 152.0306634902954,\n",
       " 152.57538205385208,\n",
       " 375.4782953262329,\n",
       " 158.013662815094,\n",
       " 162.04116225242615,\n",
       " 161.29968225955963,\n",
       " 128.12244325876236,\n",
       " 173.78630924224854,\n",
       " 175.7760877609253,\n",
       " 187.80429404973984,\n",
       " 151.4525396823883,\n",
       " 166.1259286403656,\n",
       " 190.50786191225052,\n",
       " 159.00585681200027,\n",
       " 192.6927170753479,\n",
       " 165.64682269096375,\n",
       " 138.70640003681183,\n",
       " 188.10846376419067,\n",
       " 140.11380529403687,\n",
       " 160.64192950725555,\n",
       " 121.70042073726654,\n",
       " 127.63488429784775,\n",
       " 136.15274596214294,\n",
       " 225.56458097696304,\n",
       " 129.17961597442627,\n",
       " 114.14815747737885,\n",
       " 126.1144757270813,\n",
       " 122.90251117944717,\n",
       " 144.38054752349854,\n",
       " 156.0824155807495,\n",
       " 241.53474485874176,\n",
       " 181.0083508491516,\n",
       " 140.1205639243126,\n",
       " 181.87201189994812,\n",
       " 137.79546403884888,\n",
       " 110.34050005674362,\n",
       " 115.50667142868042,\n",
       " 146.97822934389114,\n",
       " 139.026282787323,\n",
       " 117.83105683326721]"
      ]
     },
     "execution_count": 25,
     "metadata": {},
     "output_type": "execute_result"
    }
   ],
   "source": [
    "test_losses\n"
   ]
  }
 ],
 "metadata": {
  "kernelspec": {
   "display_name": "Python 3 (ipykernel)",
   "language": "python",
   "name": "python3"
  },
  "language_info": {
   "codemirror_mode": {
    "name": "ipython",
    "version": 3
   },
   "file_extension": ".py",
   "mimetype": "text/x-python",
   "name": "python",
   "nbconvert_exporter": "python",
   "pygments_lexer": "ipython3",
   "version": "3.11.6"
  }
 },
 "nbformat": 4,
 "nbformat_minor": 5
}
