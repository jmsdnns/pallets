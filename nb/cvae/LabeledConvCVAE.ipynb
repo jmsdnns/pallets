{
 "cells": [
  {
   "cell_type": "markdown",
   "metadata": {},
   "source": [
    "# Labeled Convolutional CVAE"
   ]
  },
  {
   "cell_type": "code",
   "execution_count": 1,
   "id": "19d0f047",
   "metadata": {},
   "outputs": [],
   "source": [
    "import torch\n",
    "from torchvision import transforms\n",
    "from torch.utils.data import DataLoader, SubsetRandomSampler\n",
    "import matplotlib.pyplot as plt\n",
    "%matplotlib inline\n"
   ]
  },
  {
   "cell_type": "code",
   "execution_count": 2,
   "metadata": {},
   "outputs": [],
   "source": [
    "# Load pallets library from project root\n",
    "import sys, os\n",
    "sys.path.append(os.path.abspath(os.path.join(os.getcwd(), '..', '..')))\n",
    "\n",
    "from pallets import (\n",
    "    images as I,\n",
    "    datasets as DS,\n",
    "    models as M,\n",
    "    logging as L\n",
    ")\n"
   ]
  },
  {
   "cell_type": "markdown",
   "id": "844bbd48",
   "metadata": {},
   "source": [
    "# Settings"
   ]
  },
  {
   "cell_type": "code",
   "execution_count": 3,
   "id": "9b8ec428",
   "metadata": {},
   "outputs": [],
   "source": [
    "SAVE_NAME = 'cvae.labeledconv'"
   ]
  },
  {
   "cell_type": "code",
   "execution_count": 4,
   "id": "ae1b5c2f",
   "metadata": {},
   "outputs": [],
   "source": [
    "USE_GPU = True\n",
    "LOG_LEVEL = 'INFO'\n",
    "LABELS_FILE = 'pallets_labels.json'\n",
    "\n",
    "TEST_SIZE = 1000\n",
    "EPOCHS = 100\n",
    "LR = 3e-04\n",
    "BATCH_SIZE = 32\n"
   ]
  },
  {
   "cell_type": "code",
   "execution_count": 5,
   "metadata": {},
   "outputs": [
    {
     "data": {
      "text/plain": [
       "<Logger pallets (INFO)>"
      ]
     },
     "execution_count": 5,
     "metadata": {},
     "output_type": "execute_result"
    }
   ],
   "source": [
    "# To GPU, or not to GPU\n",
    "device = M.get_device(require_gpu=USE_GPU)\n",
    "\n",
    "# Logging\n",
    "L.init_logger(level=LOG_LEVEL, notebook=True)\n"
   ]
  },
  {
   "cell_type": "markdown",
   "metadata": {},
   "source": [
    "# Dataset"
   ]
  },
  {
   "cell_type": "code",
   "execution_count": 6,
   "id": "35fef1c0",
   "metadata": {},
   "outputs": [],
   "source": [
    "all_colors = I.get_punk_colors()\n",
    "mapper = DS.ColorOneHotMapper(all_colors)\n",
    "dataset = DS.OneHotCPunksDataset(\n",
    "    mapper, labels_file=LABELS_FILE, test_size=TEST_SIZE\n",
    ")\n",
    "\n",
    "# Uncomment to put entire dataset in GPU RAM\n",
    "# dataset = DS.FastOneHotCPunksDataset(\n",
    "#     device, mapper, labels_file=LABELS_FILE, test_size=TEST_SIZE\n",
    "# )"
   ]
  },
  {
   "cell_type": "code",
   "execution_count": 7,
   "metadata": {},
   "outputs": [],
   "source": [
    "train_sampler = SubsetRandomSampler(dataset.train_idx)\n",
    "test_sampler = SubsetRandomSampler(dataset.test_idx)\n",
    "\n",
    "train_loader = DataLoader(dataset, batch_size=BATCH_SIZE, sampler=train_sampler)\n",
    "test_loader = DataLoader(dataset, batch_size=BATCH_SIZE, sampler=test_sampler)"
   ]
  },
  {
   "cell_type": "markdown",
   "id": "b39e0222",
   "metadata": {},
   "source": [
    "# Training"
   ]
  },
  {
   "cell_type": "code",
   "execution_count": 8,
   "id": "7e4d5fd0",
   "metadata": {},
   "outputs": [],
   "source": [
    "input_dim = 222\n",
    "latent_dim = 32\n",
    "classes_dim = len(dataset._label_keys)  # 92"
   ]
  },
  {
   "cell_type": "code",
   "execution_count": 9,
   "id": "9521e7fe",
   "metadata": {},
   "outputs": [
    {
     "name": "stdout",
     "output_type": "stream",
     "text": [
      "INFO | model: pallets.models.cvae.LabeledConvCVAE\n",
      "INFO | criterion: pallets.models.cvae.Loss\n",
      "INFO | learn rate: 0.0003\n",
      "INFO | epochs: 100\n",
      "INFO | epoch 1 (  0%) loss: 2005833.250000\n",
      "INFO | epoch 1 ( 35%) loss: 374603.732673\n",
      "INFO | epoch 1 ( 70%) loss: 260377.014537\n",
      "INFO | epoch 1 (100%) loss: 226331.495796\n",
      "INFO | epoch 1 (test) loss: 137282.846191\n",
      "INFO | epoch 2 (  0%) loss: 144363.343750\n",
      "INFO | epoch 2 ( 35%) loss: 138405.769183\n",
      "INFO | epoch 2 ( 70%) loss: 136476.885844\n",
      "INFO | epoch 2 (100%) loss: 135481.622140\n",
      "INFO | epoch 2 (test) loss: 129859.889282\n",
      "INFO | epoch 3 (  0%) loss: 126548.625000\n",
      "INFO | epoch 3 ( 35%) loss: 133222.772741\n",
      "INFO | epoch 3 ( 70%) loss: 132399.680543\n",
      "INFO | epoch 3 (100%) loss: 128101.479596\n",
      "INFO | epoch 3 (test) loss: 108071.662170\n",
      "INFO | epoch 4 (  0%) loss: 114308.476562\n",
      "INFO | epoch 4 ( 35%) loss: 110421.630647\n",
      "INFO | epoch 4 ( 70%) loss: 109115.573266\n",
      "INFO | epoch 4 (100%) loss: 108222.461284\n",
      "INFO | epoch 4 (test) loss: 102544.358643\n",
      "INFO | epoch 5 (  0%) loss: 101691.343750\n",
      "INFO | epoch 5 ( 35%) loss: 105294.460551\n",
      "INFO | epoch 5 ( 70%) loss: 104634.400770\n",
      "INFO | epoch 5 (100%) loss: 103765.127916\n",
      "INFO | epoch 5 (test) loss: 98820.462891\n",
      "INFO | epoch 6 (  0%) loss: 104280.367188\n",
      "INFO | epoch 6 ( 35%) loss: 100436.248685\n",
      "INFO | epoch 6 ( 70%) loss: 99307.667172\n",
      "INFO | epoch 6 (100%) loss: 98138.369272\n",
      "INFO | epoch 6 (test) loss: 92318.271301\n",
      "INFO | epoch 7 (  0%) loss: 91526.968750\n",
      "INFO | epoch 7 ( 35%) loss: 93485.028852\n",
      "INFO | epoch 7 ( 70%) loss: 91263.364272\n",
      "INFO | epoch 7 (100%) loss: 88971.445229\n",
      "INFO | epoch 7 (test) loss: 79745.106628\n",
      "INFO | epoch 8 (  0%) loss: 81943.039062\n",
      "INFO | epoch 8 ( 35%) loss: 80531.111696\n",
      "INFO | epoch 8 ( 70%) loss: 78117.479167\n",
      "INFO | epoch 8 (100%) loss: 76477.285987\n",
      "INFO | epoch 8 (test) loss: 68724.557495\n",
      "INFO | epoch 9 (  0%) loss: 63683.429688\n",
      "INFO | epoch 9 ( 35%) loss: 68574.686185\n",
      "INFO | epoch 9 ( 70%) loss: 66380.729963\n",
      "INFO | epoch 9 (100%) loss: 64597.516692\n",
      "INFO | epoch 9 (test) loss: 57854.795593\n",
      "INFO | epoch 10 (  0%) loss: 51068.250000\n",
      "INFO | epoch 10 ( 35%) loss: 56876.042389\n",
      "INFO | epoch 10 ( 70%) loss: 55486.212240\n",
      "INFO | epoch 10 (100%) loss: 53670.517602\n",
      "INFO | epoch 10 (test) loss: 47418.424530\n",
      "INFO | epoch 11 (  0%) loss: 45555.339844\n",
      "INFO | epoch 11 ( 35%) loss: 43943.044322\n",
      "INFO | epoch 11 ( 70%) loss: 41789.253663\n",
      "INFO | epoch 11 (100%) loss: 40148.327640\n",
      "INFO | epoch 11 (test) loss: 34781.997894\n",
      "INFO | epoch 12 (  0%) loss: 36381.132812\n",
      "INFO | epoch 12 ( 35%) loss: 32387.179378\n",
      "INFO | epoch 12 ( 70%) loss: 31533.045466\n",
      "INFO | epoch 12 (100%) loss: 30494.088149\n",
      "INFO | epoch 12 (test) loss: 27960.513000\n",
      "INFO | epoch 13 (  0%) loss: 26866.498047\n",
      "INFO | epoch 13 ( 35%) loss: 25466.855507\n",
      "INFO | epoch 13 ( 70%) loss: 24542.226572\n",
      "INFO | epoch 13 (100%) loss: 24304.132660\n",
      "INFO | epoch 13 (test) loss: 23562.560318\n",
      "INFO | epoch 14 (  0%) loss: 31514.730469\n",
      "INFO | epoch 14 ( 35%) loss: 20561.914836\n",
      "INFO | epoch 14 ( 70%) loss: 20388.808671\n",
      "INFO | epoch 14 (100%) loss: 20221.121636\n",
      "INFO | epoch 14 (test) loss: 19625.656662\n",
      "INFO | epoch 15 (  0%) loss: 15450.776367\n",
      "INFO | epoch 15 ( 35%) loss: 17626.319036\n",
      "INFO | epoch 15 ( 70%) loss: 17344.374315\n",
      "INFO | epoch 15 (100%) loss: 17199.225950\n",
      "INFO | epoch 15 (test) loss: 17210.084167\n",
      "INFO | epoch 16 (  0%) loss: 16113.424805\n",
      "INFO | epoch 16 ( 35%) loss: 14940.378171\n",
      "INFO | epoch 16 ( 70%) loss: 14676.750872\n",
      "INFO | epoch 16 (100%) loss: 14565.138880\n",
      "INFO | epoch 16 (test) loss: 15491.368912\n",
      "INFO | epoch 17 (  0%) loss: 9055.733398\n",
      "INFO | epoch 17 ( 35%) loss: 12912.377093\n",
      "INFO | epoch 17 ( 70%) loss: 12709.769099\n",
      "INFO | epoch 17 (100%) loss: 12637.409550\n",
      "INFO | epoch 17 (test) loss: 13455.505798\n",
      "INFO | epoch 18 (  0%) loss: 9229.375000\n",
      "INFO | epoch 18 ( 35%) loss: 11566.870030\n",
      "INFO | epoch 18 ( 70%) loss: 11332.393217\n",
      "INFO | epoch 18 (100%) loss: 11256.937162\n",
      "INFO | epoch 18 (test) loss: 12421.901382\n",
      "INFO | epoch 19 (  0%) loss: 10263.253906\n",
      "INFO | epoch 19 ( 35%) loss: 9912.653412\n",
      "INFO | epoch 19 ( 70%) loss: 9988.072586\n",
      "INFO | epoch 19 (100%) loss: 10150.950173\n",
      "INFO | epoch 19 (test) loss: 11044.745209\n",
      "INFO | epoch 20 (  0%) loss: 15200.886719\n",
      "INFO | epoch 20 ( 35%) loss: 9258.543921\n",
      "INFO | epoch 20 ( 70%) loss: 9163.658181\n",
      "INFO | epoch 20 (100%) loss: 9042.580938\n",
      "INFO | epoch 20 (test) loss: 10209.384827\n",
      "INFO | epoch 21 (  0%) loss: 10962.547852\n",
      "INFO | epoch 21 ( 35%) loss: 7949.062249\n",
      "INFO | epoch 21 ( 70%) loss: 8085.339907\n",
      "INFO | epoch 21 (100%) loss: 8146.727180\n",
      "INFO | epoch 21 (test) loss: 10260.408230\n",
      "INFO | epoch 22 (  0%) loss: 10075.973633\n",
      "INFO | epoch 22 ( 35%) loss: 7780.861135\n",
      "INFO | epoch 22 ( 70%) loss: 7806.528323\n",
      "INFO | epoch 22 (100%) loss: 7667.023133\n",
      "INFO | epoch 22 (test) loss: 9185.384331\n",
      "INFO | epoch 23 (  0%) loss: 6637.309082\n",
      "INFO | epoch 23 ( 35%) loss: 6629.225973\n",
      "INFO | epoch 23 ( 70%) loss: 6646.902118\n",
      "INFO | epoch 23 (100%) loss: 6790.642854\n",
      "INFO | epoch 23 (test) loss: 8471.759674\n",
      "INFO | epoch 24 (  0%) loss: 6116.725586\n",
      "INFO | epoch 24 ( 35%) loss: 6275.725371\n",
      "INFO | epoch 24 ( 70%) loss: 6248.136341\n",
      "INFO | epoch 24 (100%) loss: 6187.488966\n",
      "INFO | epoch 24 (test) loss: 7856.072803\n",
      "INFO | epoch 25 (  0%) loss: 4797.448242\n",
      "INFO | epoch 25 ( 35%) loss: 5451.913954\n",
      "INFO | epoch 25 ( 70%) loss: 5470.522636\n",
      "INFO | epoch 25 (100%) loss: 5452.312855\n",
      "INFO | epoch 25 (test) loss: 7523.130356\n",
      "INFO | epoch 26 (  0%) loss: 3923.955566\n",
      "INFO | epoch 26 ( 35%) loss: 4803.558248\n",
      "INFO | epoch 26 ( 70%) loss: 4831.790493\n",
      "INFO | epoch 26 (100%) loss: 4675.903333\n",
      "INFO | epoch 26 (test) loss: 6400.952400\n",
      "INFO | epoch 27 (  0%) loss: 6422.875000\n",
      "INFO | epoch 27 ( 35%) loss: 4053.561988\n",
      "INFO | epoch 27 ( 70%) loss: 4137.990059\n",
      "INFO | epoch 27 (100%) loss: 4216.235865\n",
      "INFO | epoch 27 (test) loss: 5885.770908\n",
      "INFO | epoch 28 (  0%) loss: 3601.921631\n",
      "INFO | epoch 28 ( 35%) loss: 3803.039215\n",
      "INFO | epoch 28 ( 70%) loss: 3915.752543\n",
      "INFO | epoch 28 (100%) loss: 3724.611339\n",
      "INFO | epoch 28 (test) loss: 5522.525055\n",
      "INFO | epoch 29 (  0%) loss: 1892.888672\n",
      "INFO | epoch 29 ( 35%) loss: 3941.256036\n",
      "INFO | epoch 29 ( 70%) loss: 3541.201364\n",
      "INFO | epoch 29 (100%) loss: 3506.570132\n",
      "INFO | epoch 29 (test) loss: 5194.861427\n",
      "INFO | epoch 30 (  0%) loss: 3014.668457\n",
      "INFO | epoch 30 ( 35%) loss: 2875.885278\n",
      "INFO | epoch 30 ( 70%) loss: 2848.380681\n",
      "INFO | epoch 30 (100%) loss: 2918.802896\n",
      "INFO | epoch 30 (test) loss: 5196.973976\n",
      "INFO | epoch 31 (  0%) loss: 2454.150146\n",
      "INFO | epoch 31 ( 35%) loss: 2529.892212\n",
      "INFO | epoch 31 ( 70%) loss: 2612.920879\n",
      "INFO | epoch 31 (100%) loss: 2679.700925\n",
      "INFO | epoch 31 (test) loss: 4807.535423\n",
      "INFO | epoch 32 (  0%) loss: 2750.914062\n",
      "INFO | epoch 32 ( 35%) loss: 2476.370180\n",
      "INFO | epoch 32 ( 70%) loss: 2554.466546\n",
      "INFO | epoch 32 (100%) loss: 2496.245763\n",
      "INFO | epoch 32 (test) loss: 4293.375652\n",
      "INFO | epoch 33 (  0%) loss: 1697.201172\n",
      "INFO | epoch 33 ( 35%) loss: 2347.043636\n",
      "INFO | epoch 33 ( 70%) loss: 2299.105138\n",
      "INFO | epoch 33 (100%) loss: 2360.180804\n",
      "INFO | epoch 33 (test) loss: 4254.133204\n",
      "INFO | epoch 34 (  0%) loss: 2155.034668\n",
      "INFO | epoch 34 ( 35%) loss: 2419.218871\n",
      "INFO | epoch 34 ( 70%) loss: 2244.764712\n",
      "INFO | epoch 34 (100%) loss: 2205.251456\n",
      "INFO | epoch 34 (test) loss: 4019.670798\n",
      "INFO | epoch 35 (  0%) loss: 2036.395752\n",
      "INFO | epoch 35 ( 35%) loss: 2035.464249\n",
      "INFO | epoch 35 ( 70%) loss: 2022.768070\n",
      "INFO | epoch 35 (100%) loss: 1943.306451\n",
      "INFO | epoch 35 (test) loss: 3903.647748\n",
      "INFO | epoch 36 (  0%) loss: 1897.972778\n",
      "INFO | epoch 36 ( 35%) loss: 1727.273604\n",
      "INFO | epoch 36 ( 70%) loss: 1779.792717\n",
      "INFO | epoch 36 (100%) loss: 1817.539737\n",
      "INFO | epoch 36 (test) loss: 4235.747146\n",
      "INFO | epoch 37 (  0%) loss: 1219.384399\n",
      "INFO | epoch 37 ( 35%) loss: 1686.266944\n",
      "INFO | epoch 37 ( 70%) loss: 1795.600574\n",
      "INFO | epoch 37 (100%) loss: 1894.718092\n",
      "INFO | epoch 37 (test) loss: 4931.115347\n",
      "INFO | epoch 38 (  0%) loss: 2748.254395\n",
      "INFO | epoch 38 ( 35%) loss: 1611.457046\n",
      "INFO | epoch 38 ( 70%) loss: 1738.650593\n",
      "INFO | epoch 38 (100%) loss: 1760.529996\n",
      "INFO | epoch 38 (test) loss: 3650.738660\n",
      "INFO | epoch 39 (  0%) loss: 1429.865967\n",
      "INFO | epoch 39 ( 35%) loss: 1503.535273\n",
      "INFO | epoch 39 ( 70%) loss: 1537.820037\n",
      "INFO | epoch 39 (100%) loss: 1589.296647\n",
      "INFO | epoch 39 (test) loss: 3639.212619\n",
      "INFO | epoch 40 (  0%) loss: 1388.568115\n",
      "INFO | epoch 40 ( 35%) loss: 1495.211075\n",
      "INFO | epoch 40 ( 70%) loss: 1466.563791\n",
      "INFO | epoch 40 (100%) loss: 1477.456766\n",
      "INFO | epoch 40 (test) loss: 3457.168118\n",
      "INFO | epoch 41 (  0%) loss: 1430.696777\n",
      "INFO | epoch 41 ( 35%) loss: 1316.048422\n",
      "INFO | epoch 41 ( 70%) loss: 1286.331088\n",
      "INFO | epoch 41 (100%) loss: 1295.490622\n",
      "INFO | epoch 41 (test) loss: 3224.916090\n",
      "INFO | epoch 42 (  0%) loss: 1429.124023\n",
      "INFO | epoch 42 ( 35%) loss: 1307.296242\n",
      "INFO | epoch 42 ( 70%) loss: 1424.679316\n",
      "INFO | epoch 42 (100%) loss: 1484.425975\n",
      "INFO | epoch 42 (test) loss: 3714.386863\n",
      "INFO | epoch 43 (  0%) loss: 883.386780\n",
      "INFO | epoch 43 ( 35%) loss: 1602.483461\n",
      "INFO | epoch 43 ( 70%) loss: 1457.179643\n",
      "INFO | epoch 43 (100%) loss: 1345.533058\n",
      "INFO | epoch 43 (test) loss: 3133.074530\n",
      "INFO | epoch 44 (  0%) loss: 836.879211\n",
      "INFO | epoch 44 ( 35%) loss: 946.164616\n",
      "INFO | epoch 44 ( 70%) loss: 965.650914\n",
      "INFO | epoch 44 (100%) loss: 1060.293847\n",
      "INFO | epoch 44 (test) loss: 3631.939400\n",
      "INFO | epoch 45 (  0%) loss: 1227.976807\n",
      "INFO | epoch 45 ( 35%) loss: 1214.661054\n",
      "INFO | epoch 45 ( 70%) loss: 1213.372679\n",
      "INFO | epoch 45 (100%) loss: 1186.813402\n",
      "INFO | epoch 45 (test) loss: 3055.705426\n",
      "INFO | epoch 46 (  0%) loss: 1327.955933\n",
      "INFO | epoch 46 ( 35%) loss: 984.067750\n",
      "INFO | epoch 46 ( 70%) loss: 979.889054\n",
      "INFO | epoch 46 (100%) loss: 992.509521\n",
      "INFO | epoch 46 (test) loss: 2745.852502\n",
      "INFO | epoch 47 (  0%) loss: 1209.039062\n",
      "INFO | epoch 47 ( 35%) loss: 1041.674769\n",
      "INFO | epoch 47 ( 70%) loss: 1083.014288\n",
      "INFO | epoch 47 (100%) loss: 1065.024444\n",
      "INFO | epoch 47 (test) loss: 3319.102694\n",
      "INFO | epoch 48 (  0%) loss: 677.723145\n",
      "INFO | epoch 48 ( 35%) loss: 994.596662\n",
      "INFO | epoch 48 ( 70%) loss: 991.827085\n",
      "INFO | epoch 48 (100%) loss: 986.733676\n",
      "INFO | epoch 48 (test) loss: 2721.048565\n",
      "INFO | epoch 49 (  0%) loss: 1313.259644\n",
      "INFO | epoch 49 ( 35%) loss: 833.691224\n",
      "INFO | epoch 49 ( 70%) loss: 911.412834\n",
      "INFO | epoch 49 (100%) loss: 973.265360\n",
      "INFO | epoch 49 (test) loss: 3527.687485\n",
      "INFO | epoch 50 (  0%) loss: 817.157227\n",
      "INFO | epoch 50 ( 35%) loss: 892.695459\n",
      "INFO | epoch 50 ( 70%) loss: 916.591461\n",
      "INFO | epoch 50 (100%) loss: 956.311709\n",
      "INFO | epoch 50 (test) loss: 3308.088040\n",
      "INFO | epoch 51 (  0%) loss: 626.418823\n",
      "INFO | epoch 51 ( 35%) loss: 1052.578855\n",
      "INFO | epoch 51 ( 70%) loss: 988.839095\n",
      "INFO | epoch 51 (100%) loss: 963.889747\n",
      "INFO | epoch 51 (test) loss: 2984.531416\n",
      "INFO | epoch 52 (  0%) loss: 416.073669\n",
      "INFO | epoch 52 ( 35%) loss: 659.944062\n",
      "INFO | epoch 52 ( 70%) loss: 709.322582\n",
      "INFO | epoch 52 (100%) loss: 788.604997\n",
      "INFO | epoch 52 (test) loss: 3198.264757\n",
      "INFO | epoch 53 (  0%) loss: 947.608154\n",
      "INFO | epoch 53 ( 35%) loss: 796.263653\n",
      "INFO | epoch 53 ( 70%) loss: 746.278394\n",
      "INFO | epoch 53 (100%) loss: 740.831469\n",
      "INFO | epoch 53 (test) loss: 3505.149646\n",
      "INFO | epoch 54 (  0%) loss: 1417.301392\n",
      "INFO | epoch 54 ( 35%) loss: 902.924961\n",
      "INFO | epoch 54 ( 70%) loss: 785.021279\n",
      "INFO | epoch 54 (100%) loss: 790.175669\n",
      "INFO | epoch 54 (test) loss: 3405.291725\n",
      "INFO | epoch 55 (  0%) loss: 821.743286\n",
      "INFO | epoch 55 ( 35%) loss: 808.690224\n",
      "INFO | epoch 55 ( 70%) loss: 788.050198\n",
      "INFO | epoch 55 (100%) loss: 777.094463\n",
      "INFO | epoch 55 (test) loss: 3402.908304\n",
      "INFO | epoch 56 (  0%) loss: 1148.701538\n",
      "INFO | epoch 56 ( 35%) loss: 593.001771\n",
      "INFO | epoch 56 ( 70%) loss: 596.490018\n",
      "INFO | epoch 56 (100%) loss: 585.043381\n",
      "INFO | epoch 56 (test) loss: 2538.818115\n",
      "INFO | epoch 57 (  0%) loss: 467.135284\n",
      "INFO | epoch 57 ( 35%) loss: 463.476680\n",
      "INFO | epoch 57 ( 70%) loss: 498.706063\n",
      "INFO | epoch 57 (100%) loss: 542.822091\n",
      "INFO | epoch 57 (test) loss: 2665.891187\n",
      "INFO | epoch 58 (  0%) loss: 767.887634\n",
      "INFO | epoch 58 ( 35%) loss: 560.855836\n",
      "INFO | epoch 58 ( 70%) loss: 606.622660\n",
      "INFO | epoch 58 (100%) loss: 617.697703\n",
      "INFO | epoch 58 (test) loss: 3184.644386\n",
      "INFO | epoch 59 (  0%) loss: 1341.470215\n",
      "INFO | epoch 59 ( 35%) loss: 733.796564\n",
      "INFO | epoch 59 ( 70%) loss: 803.078459\n",
      "INFO | epoch 59 (100%) loss: 845.735025\n",
      "INFO | epoch 59 (test) loss: 3438.073195\n",
      "INFO | epoch 60 (  0%) loss: 1070.677124\n",
      "INFO | epoch 60 ( 35%) loss: 784.988470\n",
      "INFO | epoch 60 ( 70%) loss: 832.322014\n",
      "INFO | epoch 60 (100%) loss: 809.562341\n",
      "INFO | epoch 60 (test) loss: 2803.630601\n",
      "INFO | epoch 61 (  0%) loss: 897.639893\n",
      "INFO | epoch 61 ( 35%) loss: 851.984977\n",
      "INFO | epoch 61 ( 70%) loss: 766.023567\n",
      "INFO | epoch 61 (100%) loss: 720.114276\n",
      "INFO | epoch 61 (test) loss: 2481.443186\n",
      "INFO | epoch 62 (  0%) loss: 679.017090\n",
      "INFO | epoch 62 ( 35%) loss: 552.810777\n",
      "INFO | epoch 62 ( 70%) loss: 655.413626\n",
      "INFO | epoch 62 (100%) loss: 750.215471\n",
      "INFO | epoch 62 (test) loss: 2813.999762\n",
      "INFO | epoch 63 (  0%) loss: 333.215088\n",
      "INFO | epoch 63 ( 35%) loss: 590.318412\n",
      "INFO | epoch 63 ( 70%) loss: 530.575529\n",
      "INFO | epoch 63 (100%) loss: 546.170820\n",
      "INFO | epoch 63 (test) loss: 2693.739595\n",
      "INFO | epoch 64 (  0%) loss: 1098.291748\n",
      "INFO | epoch 64 ( 35%) loss: 545.485698\n",
      "INFO | epoch 64 ( 70%) loss: 476.706364\n",
      "INFO | epoch 64 (100%) loss: 445.443678\n",
      "INFO | epoch 64 (test) loss: 2085.188644\n",
      "INFO | epoch 65 (  0%) loss: 1217.481934\n",
      "INFO | epoch 65 ( 35%) loss: 359.671723\n",
      "INFO | epoch 65 ( 70%) loss: 324.861472\n",
      "INFO | epoch 65 (100%) loss: 315.557297\n",
      "INFO | epoch 65 (test) loss: 2053.168791\n",
      "INFO | epoch 66 (  0%) loss: 340.116364\n",
      "INFO | epoch 66 ( 35%) loss: 298.194542\n",
      "INFO | epoch 66 ( 70%) loss: 302.266930\n",
      "INFO | epoch 66 (100%) loss: 316.162668\n",
      "INFO | epoch 66 (test) loss: 1931.425122\n",
      "INFO | epoch 67 (  0%) loss: 225.812439\n",
      "INFO | epoch 67 ( 35%) loss: 325.760798\n",
      "INFO | epoch 67 ( 70%) loss: 294.068597\n",
      "INFO | epoch 67 (100%) loss: 302.966659\n",
      "INFO | epoch 67 (test) loss: 2109.981647\n",
      "INFO | epoch 68 (  0%) loss: 241.040512\n",
      "INFO | epoch 68 ( 35%) loss: 268.033908\n",
      "INFO | epoch 68 ( 70%) loss: 255.994113\n",
      "INFO | epoch 68 (100%) loss: 248.898437\n",
      "INFO | epoch 68 (test) loss: 1886.311763\n",
      "INFO | epoch 69 (  0%) loss: 300.564636\n",
      "INFO | epoch 69 ( 35%) loss: 262.385683\n",
      "INFO | epoch 69 ( 70%) loss: 280.739394\n",
      "INFO | epoch 69 (100%) loss: 360.201881\n",
      "INFO | epoch 69 (test) loss: 3250.296619\n",
      "INFO | epoch 70 (  0%) loss: 943.669312\n",
      "INFO | epoch 70 ( 35%) loss: 1200.339847\n",
      "INFO | epoch 70 ( 70%) loss: 1137.206377\n",
      "INFO | epoch 70 (100%) loss: 1186.847567\n",
      "INFO | epoch 70 (test) loss: 3663.773384\n",
      "INFO | epoch 71 (  0%) loss: 733.150757\n",
      "INFO | epoch 71 ( 35%) loss: 1110.057562\n",
      "INFO | epoch 71 ( 70%) loss: 936.769501\n",
      "INFO | epoch 71 (100%) loss: 842.875600\n",
      "INFO | epoch 71 (test) loss: 2274.562058\n",
      "INFO | epoch 72 (  0%) loss: 281.366577\n",
      "INFO | epoch 72 ( 35%) loss: 511.101174\n",
      "INFO | epoch 72 ( 70%) loss: 1223.857052\n",
      "INFO | epoch 72 (100%) loss: 1038.077691\n",
      "INFO | epoch 72 (test) loss: 2343.796638\n",
      "INFO | epoch 73 (  0%) loss: 389.707520\n",
      "INFO | epoch 73 ( 35%) loss: 416.876344\n",
      "INFO | epoch 73 ( 70%) loss: 390.222301\n",
      "INFO | epoch 73 (100%) loss: 408.582463\n",
      "INFO | epoch 73 (test) loss: 2883.781159\n",
      "INFO | epoch 74 (  0%) loss: 1036.939941\n",
      "INFO | epoch 74 ( 35%) loss: 556.997395\n",
      "INFO | epoch 74 ( 70%) loss: 469.076197\n",
      "INFO | epoch 74 (100%) loss: 421.400015\n",
      "INFO | epoch 74 (test) loss: 2224.852058\n",
      "INFO | epoch 75 (  0%) loss: 176.243286\n",
      "INFO | epoch 75 ( 35%) loss: 225.649408\n",
      "INFO | epoch 75 ( 70%) loss: 222.911208\n",
      "INFO | epoch 75 (100%) loss: 219.485037\n",
      "INFO | epoch 75 (test) loss: 2124.990974\n",
      "INFO | epoch 76 (  0%) loss: 173.105682\n",
      "INFO | epoch 76 ( 35%) loss: 222.183228\n",
      "INFO | epoch 76 ( 70%) loss: 208.264468\n",
      "INFO | epoch 76 (100%) loss: 199.870640\n",
      "INFO | epoch 76 (test) loss: 2082.267034\n",
      "INFO | epoch 77 (  0%) loss: 214.734909\n",
      "INFO | epoch 77 ( 35%) loss: 206.805114\n",
      "INFO | epoch 77 ( 70%) loss: 203.551380\n",
      "INFO | epoch 77 (100%) loss: 193.166908\n",
      "INFO | epoch 77 (test) loss: 2033.829596\n",
      "INFO | epoch 78 (  0%) loss: 148.996216\n",
      "INFO | epoch 78 ( 35%) loss: 171.095479\n",
      "INFO | epoch 78 ( 70%) loss: 187.051082\n",
      "INFO | epoch 78 (100%) loss: 199.190197\n",
      "INFO | epoch 78 (test) loss: 2349.919869\n",
      "INFO | epoch 79 (  0%) loss: 217.463943\n",
      "INFO | epoch 79 ( 35%) loss: 335.859509\n",
      "INFO | epoch 79 ( 70%) loss: 454.560143\n",
      "INFO | epoch 79 (100%) loss: 504.256633\n",
      "INFO | epoch 79 (test) loss: 2705.048889\n",
      "INFO | epoch 80 (  0%) loss: 416.016907\n",
      "INFO | epoch 80 ( 35%) loss: 770.772124\n",
      "INFO | epoch 80 ( 70%) loss: 938.419694\n",
      "INFO | epoch 80 (100%) loss: 871.291415\n",
      "INFO | epoch 80 (test) loss: 2595.892483\n",
      "INFO | epoch 81 (  0%) loss: 597.493530\n",
      "INFO | epoch 81 ( 35%) loss: 354.421197\n",
      "INFO | epoch 81 ( 70%) loss: 328.565245\n",
      "INFO | epoch 81 (100%) loss: 314.012728\n",
      "INFO | epoch 81 (test) loss: 2196.979995\n",
      "INFO | epoch 82 (  0%) loss: 514.327271\n",
      "INFO | epoch 82 ( 35%) loss: 270.466974\n",
      "INFO | epoch 82 ( 70%) loss: 246.572320\n",
      "INFO | epoch 82 (100%) loss: 249.153428\n",
      "INFO | epoch 82 (test) loss: 2259.509793\n",
      "INFO | epoch 83 (  0%) loss: 190.171295\n",
      "INFO | epoch 83 ( 35%) loss: 199.530666\n",
      "INFO | epoch 83 ( 70%) loss: 194.595083\n",
      "INFO | epoch 83 (100%) loss: 195.021060\n",
      "INFO | epoch 83 (test) loss: 2239.794356\n",
      "INFO | epoch 84 (  0%) loss: 130.427689\n",
      "INFO | epoch 84 ( 35%) loss: 201.085935\n",
      "INFO | epoch 84 ( 70%) loss: 219.564270\n",
      "INFO | epoch 84 (100%) loss: 205.645897\n",
      "INFO | epoch 84 (test) loss: 2029.668602\n",
      "INFO | epoch 85 (  0%) loss: 167.522278\n",
      "INFO | epoch 85 ( 35%) loss: 163.556552\n",
      "INFO | epoch 85 ( 70%) loss: 166.545078\n",
      "INFO | epoch 85 (100%) loss: 159.330692\n",
      "INFO | epoch 85 (test) loss: 1880.508100\n",
      "INFO | epoch 86 (  0%) loss: 129.194458\n",
      "INFO | epoch 86 ( 35%) loss: 133.141922\n",
      "INFO | epoch 86 ( 70%) loss: 129.120155\n",
      "INFO | epoch 86 (100%) loss: 133.430664\n",
      "INFO | epoch 86 (test) loss: 2151.321141\n",
      "INFO | epoch 87 (  0%) loss: 103.440231\n",
      "INFO | epoch 87 ( 35%) loss: 346.010939\n",
      "INFO | epoch 87 ( 70%) loss: 584.515599\n",
      "INFO | epoch 87 (100%) loss: 671.683923\n",
      "INFO | epoch 87 (test) loss: 2633.185265\n",
      "INFO | epoch 88 (  0%) loss: 979.231445\n",
      "INFO | epoch 88 ( 35%) loss: 654.957514\n",
      "INFO | epoch 88 ( 70%) loss: 565.351487\n",
      "INFO | epoch 88 (100%) loss: 522.504334\n",
      "INFO | epoch 88 (test) loss: 2370.943061\n",
      "INFO | epoch 89 (  0%) loss: 220.198349\n",
      "INFO | epoch 89 ( 35%) loss: 608.209609\n",
      "INFO | epoch 89 ( 70%) loss: 475.091943\n",
      "INFO | epoch 89 (100%) loss: 411.358917\n",
      "INFO | epoch 89 (test) loss: 2071.263315\n",
      "INFO | epoch 90 (  0%) loss: 161.665070\n",
      "INFO | epoch 90 ( 35%) loss: 235.460030\n",
      "INFO | epoch 90 ( 70%) loss: 201.956629\n",
      "INFO | epoch 90 (100%) loss: 189.589820\n",
      "INFO | epoch 90 (test) loss: 1849.377253\n",
      "INFO | epoch 91 (  0%) loss: 137.986755\n",
      "INFO | epoch 91 ( 35%) loss: 209.965150\n",
      "INFO | epoch 91 ( 70%) loss: 227.330111\n",
      "INFO | epoch 91 (100%) loss: 250.311373\n",
      "INFO | epoch 91 (test) loss: 2942.855780\n",
      "INFO | epoch 92 (  0%) loss: 1424.087891\n",
      "INFO | epoch 92 ( 35%) loss: 289.448897\n",
      "INFO | epoch 92 ( 70%) loss: 255.037600\n",
      "INFO | epoch 92 (100%) loss: 232.296834\n",
      "INFO | epoch 92 (test) loss: 1828.991660\n",
      "INFO | epoch 93 (  0%) loss: 225.118927\n",
      "INFO | epoch 93 ( 35%) loss: 132.293284\n",
      "INFO | epoch 93 ( 70%) loss: 178.498280\n",
      "INFO | epoch 93 (100%) loss: 172.719185\n",
      "INFO | epoch 93 (test) loss: 1929.177346\n",
      "INFO | epoch 94 (  0%) loss: 178.581070\n",
      "INFO | epoch 94 ( 35%) loss: 142.138869\n",
      "INFO | epoch 94 ( 70%) loss: 133.773609\n",
      "INFO | epoch 94 (100%) loss: 157.112462\n",
      "INFO | epoch 94 (test) loss: 1950.836827\n",
      "INFO | epoch 95 (  0%) loss: 368.743256\n",
      "INFO | epoch 95 ( 35%) loss: 395.657543\n",
      "INFO | epoch 95 ( 70%) loss: 341.042470\n",
      "INFO | epoch 95 (100%) loss: 314.556564\n",
      "INFO | epoch 95 (test) loss: 2352.033566\n",
      "INFO | epoch 96 (  0%) loss: 235.195068\n",
      "INFO | epoch 96 ( 35%) loss: 251.925971\n",
      "INFO | epoch 96 ( 70%) loss: 385.265311\n",
      "INFO | epoch 96 (100%) loss: 429.067565\n",
      "INFO | epoch 96 (test) loss: 2456.484124\n",
      "INFO | epoch 97 (  0%) loss: 279.207855\n",
      "INFO | epoch 97 ( 35%) loss: 441.756348\n",
      "INFO | epoch 97 ( 70%) loss: 620.842193\n",
      "INFO | epoch 97 (100%) loss: 638.834120\n",
      "INFO | epoch 97 (test) loss: 2869.940486\n",
      "INFO | epoch 98 (  0%) loss: 389.144043\n",
      "INFO | epoch 98 ( 35%) loss: 332.494482\n",
      "INFO | epoch 98 ( 70%) loss: 349.812260\n",
      "INFO | epoch 98 (100%) loss: 335.508260\n",
      "INFO | epoch 98 (test) loss: 2228.175269\n",
      "INFO | epoch 99 (  0%) loss: 138.619553\n",
      "INFO | epoch 99 ( 35%) loss: 205.111238\n",
      "INFO | epoch 99 ( 70%) loss: 248.377884\n",
      "INFO | epoch 99 (100%) loss: 300.632183\n",
      "INFO | epoch 99 (test) loss: 2052.674130\n",
      "INFO | epoch 100 (  0%) loss: 864.044556\n",
      "INFO | epoch 100 ( 35%) loss: 339.460688\n",
      "INFO | epoch 100 ( 70%) loss: 317.881493\n",
      "INFO | epoch 100 (100%) loss: 297.642542\n",
      "INFO | epoch 100 (test) loss: 1887.320400\n"
     ]
    }
   ],
   "source": [
    "model = M.cvae.LabeledConvCVAE(input_dim, latent_dim, classes_dim)\n",
    "criterion = M.cvae.Loss()\n",
    "\n",
    "train_losses, test_losses = M.cvae.train(\n",
    "    device, model, criterion, train_loader, test_loader,\n",
    "    learn_rate=LR, epochs=EPOCHS, conditional_loss=True\n",
    ")\n",
    "\n",
    "M.save(SAVE_NAME, model, train_losses, test_losses)"
   ]
  },
  {
   "cell_type": "markdown",
   "id": "77fb32ad",
   "metadata": {},
   "source": [
    "# Results"
   ]
  },
  {
   "cell_type": "markdown",
   "id": "18005438",
   "metadata": {},
   "source": [
    "## Random Inputs w/ Real Labels"
   ]
  },
  {
   "cell_type": "code",
   "execution_count": 12,
   "id": "f2b9d212",
   "metadata": {},
   "outputs": [],
   "source": [
    "import random\n",
    "\n",
    "def rand_label():\n",
    "    label_idx = int(random.random() * len(dataset._labels))\n",
    "    features = dataset._labels[label_idx]\n",
    "    enabled_names = [k for k,v in zip(dataset._label_keys, features) if v.item() == 1]\n",
    "    return features.to(device), enabled_names\n"
   ]
  },
  {
   "cell_type": "code",
   "execution_count": 13,
   "id": "38c47d81",
   "metadata": {},
   "outputs": [],
   "source": [
    "# Generate new image\n",
    "\n",
    "def rand_punk():\n",
    "    z = torch.randn(1, latent_dim).to(device)\n",
    "    # print(z.shape)\n",
    "    features, names = rand_label()\n",
    "    print(f\"Features: {', '.join(names)}\")\n",
    "\n",
    "    with torch.no_grad():\n",
    "        model.eval()\n",
    "        generated_image = model.decoder(z, features.unsqueeze(0))\n",
    "        # print(generated_image.shape)\n",
    "\n",
    "    decoded_one_hot = generated_image[0][:222, :, :]\n",
    "    decoded_one_hot = decoded_one_hot.view((222, 24, 24))\n",
    "    # print(decoded_one_hot.shape)\n",
    "    decoded = DS.one_hot_to_rgba(decoded_one_hot, dataset.mapper)\n",
    "    print(f\"Shape: {decoded.shape}\")\n",
    "    return decoded\n"
   ]
  },
  {
   "cell_type": "markdown",
   "id": "31e74ceb",
   "metadata": {},
   "source": [
    "### 5 Randoms w/ Real Labels"
   ]
  },
  {
   "cell_type": "code",
   "execution_count": 14,
   "metadata": {},
   "outputs": [
    {
     "name": "stdout",
     "output_type": "stream",
     "text": [
      "Features: female, pigtails, purpleLipstick\n",
      "Shape: torch.Size([4, 24, 24])\n",
      "torch.Size([4, 24, 24])\n"
     ]
    },
    {
     "data": {
      "image/png": "[encoded data removed]",
      "text/plain": [
       "<Figure size 640x480 with 1 Axes>"
      ]
     },
     "metadata": {},
     "output_type": "display_data"
    }
   ],
   "source": [
    "decoded = rand_punk()\n",
    "print(decoded.shape)\n",
    "\n",
    "plt.imshow(transforms.functional.to_pil_image(decoded))\n",
    "plt.axis('off')\n",
    "plt.show()\n"
   ]
  },
  {
   "cell_type": "code",
   "execution_count": 15,
   "id": "6744444a",
   "metadata": {},
   "outputs": [
    {
     "name": "stdout",
     "output_type": "stream",
     "text": [
      "Features: female, straightHairDark, goldChain, nerdGlasses\n",
      "Shape: torch.Size([4, 24, 24])\n"
     ]
    },
    {
     "data": {
      "image/png": "[encoded data removed]",
      "text/plain": [
       "<Figure size 640x480 with 1 Axes>"
      ]
     },
     "metadata": {},
     "output_type": "display_data"
    }
   ],
   "source": [
    "decoded = rand_punk()\n",
    "\n",
    "plt.imshow(transforms.functional.to_pil_image(decoded))\n",
    "plt.axis('off')\n",
    "plt.show()\n"
   ]
  },
  {
   "cell_type": "code",
   "execution_count": 16,
   "id": "e190c583",
   "metadata": {},
   "outputs": [
    {
     "name": "stdout",
     "output_type": "stream",
     "text": [
      "Features: male, bigBeard, stringyHair\n",
      "Shape: torch.Size([4, 24, 24])\n"
     ]
    },
    {
     "data": {
      "image/png": "[encoded data removed]",
      "text/plain": [
       "<Figure size 640x480 with 1 Axes>"
      ]
     },
     "metadata": {},
     "output_type": "display_data"
    }
   ],
   "source": [
    "decoded = rand_punk()\n",
    "\n",
    "plt.imshow(transforms.functional.to_pil_image(decoded))\n",
    "plt.axis('off')\n",
    "plt.show()\n"
   ]
  },
  {
   "cell_type": "code",
   "execution_count": 17,
   "id": "be357c27",
   "metadata": {},
   "outputs": [
    {
     "name": "stdout",
     "output_type": "stream",
     "text": [
      "Features: female, straightHair, mole, cigarette\n",
      "Shape: torch.Size([4, 24, 24])\n"
     ]
    },
    {
     "data": {
      "image/png": "[encoded data removed]",
      "text/plain": [
       "<Figure size 640x480 with 1 Axes>"
      ]
     },
     "metadata": {},
     "output_type": "display_data"
    }
   ],
   "source": [
    "decoded = rand_punk()\n",
    "\n",
    "plt.imshow(transforms.functional.to_pil_image(decoded))\n",
    "plt.axis('off')\n",
    "plt.show()\n"
   ]
  },
  {
   "cell_type": "code",
   "execution_count": 18,
   "id": "d8f339ae",
   "metadata": {},
   "outputs": [
    {
     "name": "stdout",
     "output_type": "stream",
     "text": [
      "Features: female, mohawkDark, blackLipstick, earring\n",
      "Shape: torch.Size([4, 24, 24])\n"
     ]
    },
    {
     "data": {
      "image/png": "[encoded data removed]",
      "text/plain": [
       "<Figure size 640x480 with 1 Axes>"
      ]
     },
     "metadata": {},
     "output_type": "display_data"
    }
   ],
   "source": [
    "decoded = rand_punk()\n",
    "\n",
    "plt.imshow(transforms.functional.to_pil_image(decoded))\n",
    "plt.axis('off')\n",
    "plt.show()\n"
   ]
  },
  {
   "cell_type": "markdown",
   "id": "3e1bd761",
   "metadata": {},
   "source": [
    "## Reconstruction"
   ]
  },
  {
   "cell_type": "code",
   "execution_count": 19,
   "id": "a150efab",
   "metadata": {},
   "outputs": [],
   "source": [
    "def reconstruct_punk(idx):\n",
    "    punk = I.get_punk_tensor(idx)\n",
    "    p = DS.rgba_to_one_hot(punk, dataset.mapper)\n",
    "    p = p.unsqueeze(0)\n",
    "    p = p.to(device)\n",
    "\n",
    "    _, labels = dataset[idx]\n",
    "    l = labels.unsqueeze(0)\n",
    "    l = l.to(device)\n",
    "    enabled_features = [k for k,v in zip(label_keys, labels) if v.item() == 1]\n",
    "\n",
    "    model.eval()\n",
    "    with torch.no_grad():\n",
    "        reconstructed, mu, logvar = model.forward(p, l)\n",
    "\n",
    "    recon_punk = reconstructed[0][:222, :, :].cpu()\n",
    "    recon_punk = DS.one_hot_to_rgba(recon_punk, dataset.mapper)\n",
    "\n",
    "    return punk, recon_punk, enabled_features\n",
    "\n",
    "\n",
    "def draw_two(img1, img2):\n",
    "    page_size = 2\n",
    "    view_x, view_y = 4*page_size, 2*page_size\n",
    "    fig = plt.figure(figsize=(view_x, view_y))\n",
    "    fig.add_subplot(1, 2, 1)\n",
    "    plt.imshow(transforms.functional.to_pil_image(img1))\n",
    "    plt.axis('off')\n",
    "    fig.add_subplot(1, 2, 2)\n",
    "    plt.imshow(transforms.functional.to_pil_image(img2))\n",
    "    plt.axis('off')\n",
    "    plt.show()\n"
   ]
  },
  {
   "cell_type": "markdown",
   "id": "7a12b220",
   "metadata": {},
   "source": [
    "### 5 Reconstructions"
   ]
  },
  {
   "cell_type": "code",
   "execution_count": 20,
   "id": "142e642d",
   "metadata": {},
   "outputs": [
    {
     "name": "stdout",
     "output_type": "stream",
     "text": [
      "Features: female, rosyCheeks, darkHair, cigarette\n"
     ]
    },
    {
     "data": {
      "image/png": "[encoded data removed]",
      "text/plain": [
       "<Figure size 800x400 with 2 Axes>"
      ]
     },
     "metadata": {},
     "output_type": "display_data"
    }
   ],
   "source": [
    "punk, recon_punk, features = reconstruct_punk(1000)\n",
    "\n",
    "print(f\"Features: {', '.join(features)}\")\n",
    "draw_two(punk, recon_punk)"
   ]
  },
  {
   "cell_type": "code",
   "execution_count": 21,
   "metadata": {},
   "outputs": [
    {
     "name": "stdout",
     "output_type": "stream",
     "text": [
      "Features: female, stringyHair, purpleLipstick, earring\n"
     ]
    },
    {
     "data": {
      "image/png": "[encoded data removed]",
      "text/plain": [
       "<Figure size 800x400 with 2 Axes>"
      ]
     },
     "metadata": {},
     "output_type": "display_data"
    }
   ],
   "source": [
    "punk, recon_punk, features = reconstruct_punk(2001)\n",
    "\n",
    "print(f\"Features: {', '.join(features)}\")\n",
    "draw_two(punk, recon_punk)\n"
   ]
  },
  {
   "cell_type": "code",
   "execution_count": 22,
   "id": "8e401eca",
   "metadata": {},
   "outputs": [
    {
     "name": "stdout",
     "output_type": "stream",
     "text": [
      "Features: female, wildWhiteHair, greenEyeShadow, hotLipstick\n"
     ]
    },
    {
     "data": {
      "image/png": "[encoded data removed]",
      "text/plain": [
       "<Figure size 800x400 with 2 Axes>"
      ]
     },
     "metadata": {},
     "output_type": "display_data"
    }
   ],
   "source": [
    "punk, recon_punk, features = reconstruct_punk(5000)\n",
    "\n",
    "print(f\"Features: {', '.join(features)}\")\n",
    "draw_two(punk, recon_punk)"
   ]
  },
  {
   "cell_type": "code",
   "execution_count": 23,
   "id": "99f3ac30",
   "metadata": {},
   "outputs": [
    {
     "name": "stdout",
     "output_type": "stream",
     "text": [
      "Features: male, rosyCheeks, mustache, vr, cap, cigarette\n"
     ]
    },
    {
     "data": {
      "image/png": "[encoded data removed]",
      "text/plain": [
       "<Figure size 800x400 with 2 Axes>"
      ]
     },
     "metadata": {},
     "output_type": "display_data"
    }
   ],
   "source": [
    "punk, recon_punk, features = reconstruct_punk(8000)\n",
    "\n",
    "print(f\"Features: {', '.join(features)}\")\n",
    "draw_two(punk, recon_punk)"
   ]
  },
  {
   "cell_type": "code",
   "execution_count": 24,
   "id": "eb402159",
   "metadata": {},
   "outputs": [
    {
     "name": "stdout",
     "output_type": "stream",
     "text": [
      "Features: male, handlebars, bandana\n"
     ]
    },
    {
     "data": {
      "image/png": "[encoded data removed]",
      "text/plain": [
       "<Figure size 800x400 with 2 Axes>"
      ]
     },
     "metadata": {},
     "output_type": "display_data"
    }
   ],
   "source": [
    "punk, recon_punk, features = reconstruct_punk(1337)\n",
    "\n",
    "print(f\"Features: {', '.join(features)}\")\n",
    "draw_two(punk, recon_punk)"
   ]
  },
  {
   "cell_type": "markdown",
   "id": "04a97510",
   "metadata": {},
   "source": [
    "## Losses"
   ]
  },
  {
   "cell_type": "code",
   "execution_count": 25,
   "metadata": {},
   "outputs": [
    {
     "data": {
      "text/plain": [
       "<function matplotlib.pyplot.show(close=None, block=None)>"
      ]
     },
     "execution_count": 25,
     "metadata": {},
     "output_type": "execute_result"
    },
    {
     "data": {
      "image/png": "[encoded data removed]",
      "text/plain": [
       "<Figure size 640x480 with 1 Axes>"
      ]
     },
     "metadata": {},
     "output_type": "display_data"
    }
   ],
   "source": [
    "plt.title(\"Train & Test loss\")\n",
    "plt.plot(train_losses, label='train loss')\n",
    "plt.plot(test_losses, label='test loss')\n",
    "plt.legend()\n",
    "plt.show\n"
   ]
  },
  {
   "cell_type": "code",
   "execution_count": 26,
   "id": "c1261252",
   "metadata": {},
   "outputs": [
    {
     "data": {
      "text/plain": [
       "[452662.9915918661,\n",
       " 270963.2442791445,\n",
       " 256202.95919215426,\n",
       " 216444.92256759753,\n",
       " 207530.2558316711,\n",
       " 196276.73854443704,\n",
       " 177942.8904587766,\n",
       " 152954.57197473405,\n",
       " 129195.03338320035,\n",
       " 107341.03520473183,\n",
       " 80296.65528036347,\n",
       " 60988.17629723515,\n",
       " 48608.265320257095,\n",
       " 40442.243271415115,\n",
       " 34398.451899102394,\n",
       " 29130.277759308512,\n",
       " 25274.819100454344,\n",
       " 22513.874323851673,\n",
       " 20301.900345606162,\n",
       " 18085.161875623337,\n",
       " 16293.454359555075,\n",
       " 15334.046265514184,\n",
       " 13581.28570859652,\n",
       " 12374.977932111591,\n",
       " 10904.625709046708,\n",
       " 9351.806666164533,\n",
       " 8432.471729035073,\n",
       " 7449.222678759419,\n",
       " 7013.14026484929,\n",
       " 5837.605791673593,\n",
       " 5359.401850057832,\n",
       " 4992.491526069371,\n",
       " 4720.361607977685,\n",
       " 4410.5029110739415,\n",
       " 3886.6129019446407,\n",
       " 3635.0794742665394,\n",
       " 3789.4361831989695,\n",
       " 3521.059992580549,\n",
       " 3178.5932932102933,\n",
       " 2954.9135328793354,\n",
       " 2590.9812435934728,\n",
       " 2968.851949488863,\n",
       " 2691.066116982318,\n",
       " 2120.587693992236,\n",
       " 2373.626804000097,\n",
       " 1985.0190412372563,\n",
       " 2130.04888759099,\n",
       " 1973.4673524680713,\n",
       " 1946.5307193512613,\n",
       " 1912.6234180639822,\n",
       " 1927.779494048856,\n",
       " 1577.2099948098473,\n",
       " 1481.6629387605276,\n",
       " 1580.3513382715537,\n",
       " 1554.1889254522662,\n",
       " 1170.0867626650113,\n",
       " 1085.6441820293453,\n",
       " 1235.3954059790212,\n",
       " 1691.4700503518395,\n",
       " 1619.124681405142,\n",
       " 1440.2285519322604,\n",
       " 1500.4309411015072,\n",
       " 1092.3416404994666,\n",
       " 890.8873569677908,\n",
       " 631.1145946421522,\n",
       " 632.3253350765148,\n",
       " 605.9333171979755,\n",
       " 497.79687424247146,\n",
       " 720.4037620598543,\n",
       " 2373.6951344807944,\n",
       " 1685.7511993299984,\n",
       " 2076.1553812229886,\n",
       " 817.1649254332198,\n",
       " 842.8000299710754,\n",
       " 438.97007405166084,\n",
       " 399.74127933150487,\n",
       " 386.33381535144565,\n",
       " 398.3803945771346,\n",
       " 1008.5132661643603,\n",
       " 1742.5828299015127,\n",
       " 628.0254561782729,\n",
       " 498.30685627714115,\n",
       " 390.0421194522939,\n",
       " 411.2917940396789,\n",
       " 318.66138417670066,\n",
       " 266.86132899074687,\n",
       " 1343.3678457381877,\n",
       " 1045.0086680743711,\n",
       " 822.7178333093088,\n",
       " 379.1796393563561,\n",
       " 500.6227468125364,\n",
       " 464.59366733469864,\n",
       " 345.43836958864904,\n",
       " 314.2249243986522,\n",
       " 629.113128689164,\n",
       " 858.1351309701906,\n",
       " 1277.668240378089,\n",
       " 671.0165202364009,\n",
       " 601.2643659875748,\n",
       " 595.2850846364988]"
      ]
     },
     "execution_count": 26,
     "metadata": {},
     "output_type": "execute_result"
    }
   ],
   "source": [
    "train_losses\n"
   ]
  },
  {
   "cell_type": "code",
   "execution_count": 27,
   "id": "15d6f86b",
   "metadata": {},
   "outputs": [
    {
     "data": {
      "text/plain": [
       "[274565.6923828125,\n",
       " 259719.77856445312,\n",
       " 216143.3243408203,\n",
       " 205088.71728515625,\n",
       " 197640.92578125,\n",
       " 184636.54260253906,\n",
       " 159490.21325683594,\n",
       " 137449.11499023438,\n",
       " 115709.59118652344,\n",
       " 94836.8490600586,\n",
       " 69563.99578857422,\n",
       " 55921.02600097656,\n",
       " 47125.12063598633,\n",
       " 39251.31332397461,\n",
       " 34420.16833496094,\n",
       " 30982.737823486328,\n",
       " 26911.011596679688,\n",
       " 24843.802764892578,\n",
       " 22089.49041748047,\n",
       " 20418.769653320312,\n",
       " 20520.81645965576,\n",
       " 18370.768661499023,\n",
       " 16943.51934814453,\n",
       " 15712.145606994629,\n",
       " 15046.260711669922,\n",
       " 12801.904800415039,\n",
       " 11771.541816711426,\n",
       " 11045.050109863281,\n",
       " 10389.722854614258,\n",
       " 10393.947952270508,\n",
       " 9615.070846557617,\n",
       " 8586.751304626465,\n",
       " 8508.26640701294,\n",
       " 8039.341596603394,\n",
       " 7807.2954959869385,\n",
       " 8471.494291305542,\n",
       " 9862.230693817139,\n",
       " 7301.477319717407,\n",
       " 7278.42523765564,\n",
       " 6914.336235046387,\n",
       " 6449.832180976868,\n",
       " 7428.773725509644,\n",
       " 6266.149059295654,\n",
       " 7263.878799438477,\n",
       " 6111.410852432251,\n",
       " 5491.705003738403,\n",
       " 6638.2053871154785,\n",
       " 5442.097129821777,\n",
       " 7055.374969482422,\n",
       " 6616.176080703735,\n",
       " 5969.062831878662,\n",
       " 6396.529514312744,\n",
       " 7010.299292564392,\n",
       " 6810.583449840546,\n",
       " 6805.816607475281,\n",
       " 5077.636229276657,\n",
       " 5331.782373905182,\n",
       " 6369.288772106171,\n",
       " 6876.146390914917,\n",
       " 5607.2612018585205,\n",
       " 4962.886371612549,\n",
       " 5627.999523639679,\n",
       " 5387.479190826416,\n",
       " 4170.377288818359,\n",
       " 4106.337582588196,\n",
       " 3862.8502435684204,\n",
       " 4219.963293552399,\n",
       " 3772.623526573181,\n",
       " 6500.593237876892,\n",
       " 7327.546768188477,\n",
       " 4549.124116420746,\n",
       " 4687.593276500702,\n",
       " 5767.56231880188,\n",
       " 4449.704115867615,\n",
       " 4249.981948137283,\n",
       " 4164.534067869186,\n",
       " 4067.659191608429,\n",
       " 4699.839737653732,\n",
       " 5410.097778558731,\n",
       " 5191.784966945648,\n",
       " 4393.959989309311,\n",
       " 4519.019585847855,\n",
       " 4479.588712692261,\n",
       " 4059.337203979492,\n",
       " 3761.01620054245,\n",
       " 4302.642282247543,\n",
       " 5266.370530128479,\n",
       " 4741.886122703552,\n",
       " 4142.526629447937,\n",
       " 3698.754506587982,\n",
       " 5885.711559295654,\n",
       " 3657.983320236206,\n",
       " 3858.3546919822693,\n",
       " 3901.6736533641815,\n",
       " 4704.067132949829,\n",
       " 4912.968247413635,\n",
       " 5739.880971908569,\n",
       " 4456.35053730011,\n",
       " 4105.348259210587,\n",
       " 3774.6407990455627]"
      ]
     },
     "execution_count": 27,
     "metadata": {},
     "output_type": "execute_result"
    }
   ],
   "source": [
    "test_losses\n"
   ]
  }
 ],
 "metadata": {
  "kernelspec": {
   "display_name": "Python 3 (ipykernel)",
   "language": "python",
   "name": "python3"
  },
  "language_info": {
   "codemirror_mode": {
    "name": "ipython",
    "version": 3
   },
   "file_extension": ".py",
   "mimetype": "text/x-python",
   "name": "python",
   "nbconvert_exporter": "python",
   "pygments_lexer": "ipython3",
   "version": "3.11.6"
  }
 },
 "nbformat": 4,
 "nbformat_minor": 5
}
