{
 "cells": [
  {
   "cell_type": "markdown",
   "metadata": {},
   "source": [
    "# Labeled Convolutional CVAE"
   ]
  },
  {
   "cell_type": "code",
   "execution_count": 1,
   "id": "19d0f047",
   "metadata": {},
   "outputs": [],
   "source": [
    "import torch\n",
    "from torchvision import transforms\n",
    "from torch.utils.data import DataLoader, SubsetRandomSampler\n",
    "import matplotlib.pyplot as plt\n",
    "%matplotlib inline\n"
   ]
  },
  {
   "cell_type": "code",
   "execution_count": 2,
   "metadata": {},
   "outputs": [],
   "source": [
    "# Load pallets library from project root\n",
    "import sys, os\n",
    "sys.path.append(os.path.abspath(os.path.join(os.getcwd(), '..', '..')))\n",
    "\n",
    "from pallets import (\n",
    "    images as I,\n",
    "    datasets as DS,\n",
    "    models as M,\n",
    "    logging as L\n",
    ")"
   ]
  },
  {
   "cell_type": "markdown",
   "id": "844bbd48",
   "metadata": {},
   "source": [
    "# Settings"
   ]
  },
  {
   "cell_type": "code",
   "execution_count": 3,
   "id": "9b8ec428",
   "metadata": {},
   "outputs": [],
   "source": [
    "SAVE_NAME = 'cvae.conv.labeled'"
   ]
  },
  {
   "cell_type": "code",
   "execution_count": 4,
   "id": "ae1b5c2f",
   "metadata": {},
   "outputs": [],
   "source": [
    "USE_GPU = True\n",
    "LOG_LEVEL = 'INFO'\n",
    "LABELS_FILE = 'pallets_labels.json'\n",
    "\n",
    "TEST_SIZE = 1000\n",
    "EPOCHS = 100\n",
    "LR = 3e-04\n",
    "BATCH_SIZE = 32\n"
   ]
  },
  {
   "cell_type": "code",
   "execution_count": 5,
   "metadata": {},
   "outputs": [
    {
     "data": {
      "text/plain": [
       "<Logger pallets (INFO)>"
      ]
     },
     "execution_count": 5,
     "metadata": {},
     "output_type": "execute_result"
    }
   ],
   "source": [
    "# To GPU, or not to GPU\n",
    "device = M.get_device(require_gpu=USE_GPU)\n",
    "\n",
    "# Logging\n",
    "L.init_logger(level=LOG_LEVEL, notebook=True)\n"
   ]
  },
  {
   "cell_type": "markdown",
   "metadata": {},
   "source": [
    "# Dataset"
   ]
  },
  {
   "cell_type": "code",
   "execution_count": 6,
   "id": "35fef1c0",
   "metadata": {},
   "outputs": [
    {
     "name": "stdout",
     "output_type": "stream",
     "text": [
      "INFO | loading punk images\n",
      "INFO | - image 0\n",
      "INFO | - image 1000\n",
      "INFO | - image 2000\n",
      "INFO | - image 3000\n",
      "INFO | - image 4000\n",
      "INFO | - image 5000\n",
      "INFO | - image 6000\n",
      "INFO | - image 7000\n",
      "INFO | - image 8000\n",
      "INFO | - image 9000\n",
      "INFO | punk images complete\n",
      "INFO | loading punk labels: pallets_labels.json\n"
     ]
    }
   ],
   "source": [
    "all_colors = I.get_punk_colors()\n",
    "mapper = DS.ColorOneHotMapper(all_colors)\n",
    "dataset = DS.OneHotCPunksDataset(\n",
    "    mapper, labels_file=LABELS_FILE, test_size=TEST_SIZE\n",
    ")\n",
    "\n",
    "# Uncomment to put entire dataset in GPU RAM\n",
    "# dataset = DS.FastOneHotCPunksDataset(\n",
    "#     device, mapper, labels_file=LABELS_FILE, test_size=TEST_SIZE\n",
    "# )"
   ]
  },
  {
   "cell_type": "code",
   "execution_count": 7,
   "metadata": {},
   "outputs": [],
   "source": [
    "train_sampler = SubsetRandomSampler(dataset.train_idx)\n",
    "test_sampler = SubsetRandomSampler(dataset.test_idx)\n",
    "\n",
    "train_loader = DataLoader(dataset, batch_size=BATCH_SIZE, sampler=train_sampler)\n",
    "test_loader = DataLoader(dataset, batch_size=BATCH_SIZE, sampler=test_sampler)"
   ]
  },
  {
   "cell_type": "markdown",
   "id": "b39e0222",
   "metadata": {},
   "source": [
    "# Training"
   ]
  },
  {
   "cell_type": "code",
   "execution_count": 8,
   "id": "7e4d5fd0",
   "metadata": {},
   "outputs": [],
   "source": [
    "input_dim = 222\n",
    "latent_dim = 32\n",
    "classes_dim = len(dataset._label_keys)  # 92"
   ]
  },
  {
   "cell_type": "code",
   "execution_count": 9,
   "id": "9521e7fe",
   "metadata": {},
   "outputs": [
    {
     "name": "stdout",
     "output_type": "stream",
     "text": [
      "INFO | model: pallets.models.cvae.LabeledConvCVAE\n",
      "INFO | criterion: pallets.models.cvae.Loss\n",
      "INFO | learn rate: 0.0003\n",
      "INFO | epochs: 100\n"
     ]
    },
    {
     "name": "stdout",
     "output_type": "stream",
     "text": [
      "INFO | epoch 1 (  0%) loss: 2005726.250000\n",
      "INFO | epoch 1 ( 35%) loss: 339873.233601\n",
      "INFO | epoch 1 ( 70%) loss: 241921.033271\n",
      "INFO | epoch 1 (100%) loss: 212578.157303\n",
      "INFO | epoch 1 (test) loss: 135194.287170\n",
      "INFO | epoch 2 (  0%) loss: 133063.625000\n",
      "INFO | epoch 2 ( 35%) loss: 135468.649134\n",
      "INFO | epoch 2 ( 70%) loss: 134701.380869\n",
      "INFO | epoch 2 (100%) loss: 133864.933213\n",
      "INFO | epoch 2 (test) loss: 129977.242432\n",
      "INFO | epoch 3 (  0%) loss: 131311.171875\n",
      "INFO | epoch 3 ( 35%) loss: 125220.036819\n",
      "INFO | epoch 3 ( 70%) loss: 118753.395678\n",
      "INFO | epoch 3 (100%) loss: 115943.919679\n",
      "INFO | epoch 3 (test) loss: 107423.998474\n",
      "INFO | epoch 4 (  0%) loss: 111806.335938\n",
      "INFO | epoch 4 ( 35%) loss: 108740.759282\n",
      "INFO | epoch 4 ( 70%) loss: 107635.042366\n",
      "INFO | epoch 4 (100%) loss: 106917.455307\n",
      "INFO | epoch 4 (test) loss: 104194.661621\n",
      "INFO | epoch 5 (  0%) loss: 107273.109375\n",
      "INFO | epoch 5 ( 35%) loss: 104704.202661\n",
      "INFO | epoch 5 ( 70%) loss: 104120.509950\n",
      "INFO | epoch 5 (100%) loss: 103120.449918\n",
      "INFO | epoch 5 (test) loss: 100183.707458\n",
      "INFO | epoch 6 (  0%) loss: 100755.328125\n",
      "INFO | epoch 6 ( 35%) loss: 98742.478342\n",
      "INFO | epoch 6 ( 70%) loss: 97778.821556\n",
      "INFO | epoch 6 (100%) loss: 96094.667990\n",
      "INFO | epoch 6 (test) loss: 89667.205017\n",
      "INFO | epoch 7 (  0%) loss: 94161.320312\n",
      "INFO | epoch 7 ( 35%) loss: 89924.393410\n",
      "INFO | epoch 7 ( 70%) loss: 88600.249495\n",
      "INFO | epoch 7 (100%) loss: 86973.379246\n",
      "INFO | epoch 7 (test) loss: 81233.247681\n",
      "INFO | epoch 8 (  0%) loss: 76392.257812\n",
      "INFO | epoch 8 ( 35%) loss: 80204.200418\n",
      "INFO | epoch 8 ( 70%) loss: 77591.933982\n",
      "INFO | epoch 8 (100%) loss: 75072.277223\n",
      "INFO | epoch 8 (test) loss: 66583.268372\n",
      "INFO | epoch 9 (  0%) loss: 66668.890625\n",
      "INFO | epoch 9 ( 35%) loss: 65249.233718\n",
      "INFO | epoch 9 ( 70%) loss: 63009.927958\n",
      "INFO | epoch 9 (100%) loss: 61152.793886\n",
      "INFO | epoch 9 (test) loss: 55274.693268\n",
      "INFO | epoch 10 (  0%) loss: 50059.707031\n",
      "INFO | epoch 10 ( 35%) loss: 51894.150371\n",
      "INFO | epoch 10 ( 70%) loss: 50475.714319\n",
      "INFO | epoch 10 (100%) loss: 49160.190087\n",
      "INFO | epoch 10 (test) loss: 47870.675446\n",
      "INFO | epoch 11 (  0%) loss: 49367.792969\n",
      "INFO | epoch 11 ( 35%) loss: 43010.778639\n",
      "INFO | epoch 11 ( 70%) loss: 41948.830817\n",
      "INFO | epoch 11 (100%) loss: 40585.471777\n",
      "INFO | epoch 11 (test) loss: 39380.776062\n",
      "INFO | epoch 12 (  0%) loss: 31757.435547\n",
      "INFO | epoch 12 ( 35%) loss: 35890.404413\n",
      "INFO | epoch 12 ( 70%) loss: 34862.699403\n",
      "INFO | epoch 12 (100%) loss: 34349.373686\n",
      "INFO | epoch 12 (test) loss: 34013.087830\n",
      "INFO | epoch 13 (  0%) loss: 35969.726562\n",
      "INFO | epoch 13 ( 35%) loss: 30245.882658\n",
      "INFO | epoch 13 ( 70%) loss: 30125.416327\n",
      "INFO | epoch 13 (100%) loss: 29511.098732\n",
      "INFO | epoch 13 (test) loss: 30498.078156\n",
      "INFO | epoch 14 (  0%) loss: 25981.117188\n",
      "INFO | epoch 14 ( 35%) loss: 26263.654229\n",
      "INFO | epoch 14 ( 70%) loss: 25901.745205\n",
      "INFO | epoch 14 (100%) loss: 25409.881988\n",
      "INFO | epoch 14 (test) loss: 26366.042664\n",
      "INFO | epoch 15 (  0%) loss: 14329.519531\n",
      "INFO | epoch 15 ( 35%) loss: 22202.950978\n",
      "INFO | epoch 15 ( 70%) loss: 21480.402917\n",
      "INFO | epoch 15 (100%) loss: 21346.637199\n",
      "INFO | epoch 15 (test) loss: 22765.272034\n",
      "INFO | epoch 16 (  0%) loss: 19711.224609\n",
      "INFO | epoch 16 ( 35%) loss: 19133.793394\n",
      "INFO | epoch 16 ( 70%) loss: 18613.354667\n",
      "INFO | epoch 16 (100%) loss: 18325.774560\n",
      "INFO | epoch 16 (test) loss: 20237.426720\n",
      "INFO | epoch 17 (  0%) loss: 17046.861328\n",
      "INFO | epoch 17 ( 35%) loss: 16593.416567\n",
      "INFO | epoch 17 ( 70%) loss: 16376.621186\n",
      "INFO | epoch 17 (100%) loss: 16179.505252\n",
      "INFO | epoch 17 (test) loss: 18097.037140\n",
      "INFO | epoch 18 (  0%) loss: 14402.811523\n",
      "INFO | epoch 18 ( 35%) loss: 14671.158764\n",
      "INFO | epoch 18 ( 70%) loss: 14729.998027\n",
      "INFO | epoch 18 (100%) loss: 14566.550137\n",
      "INFO | epoch 18 (test) loss: 16820.347519\n",
      "INFO | epoch 19 (  0%) loss: 12650.464844\n",
      "INFO | epoch 19 ( 35%) loss: 12795.463727\n",
      "INFO | epoch 19 ( 70%) loss: 12925.103270\n",
      "INFO | epoch 19 (100%) loss: 12824.343866\n",
      "INFO | epoch 19 (test) loss: 15820.624786\n",
      "INFO | epoch 20 (  0%) loss: 15047.367188\n",
      "INFO | epoch 20 ( 35%) loss: 12198.136085\n",
      "INFO | epoch 20 ( 70%) loss: 12069.475103\n",
      "INFO | epoch 20 (100%) loss: 11891.168376\n",
      "INFO | epoch 20 (test) loss: 13831.914291\n",
      "INFO | epoch 21 (  0%) loss: 9320.948242\n",
      "INFO | epoch 21 ( 35%) loss: 10597.472912\n",
      "INFO | epoch 21 ( 70%) loss: 10624.656046\n",
      "INFO | epoch 21 (100%) loss: 10657.781773\n",
      "INFO | epoch 21 (test) loss: 14034.195290\n",
      "INFO | epoch 22 (  0%) loss: 11330.800781\n",
      "INFO | epoch 22 ( 35%) loss: 9356.249507\n",
      "INFO | epoch 22 ( 70%) loss: 9734.513247\n",
      "INFO | epoch 22 (100%) loss: 9780.818560\n",
      "INFO | epoch 22 (test) loss: 12447.192009\n",
      "INFO | epoch 23 (  0%) loss: 9523.190430\n",
      "INFO | epoch 23 ( 35%) loss: 9176.858921\n",
      "INFO | epoch 23 ( 70%) loss: 9161.920651\n",
      "INFO | epoch 23 (100%) loss: 9168.901567\n",
      "INFO | epoch 23 (test) loss: 11853.790611\n",
      "INFO | epoch 24 (  0%) loss: 14266.535156\n",
      "INFO | epoch 24 ( 35%) loss: 8211.944524\n",
      "INFO | epoch 24 ( 70%) loss: 8548.830197\n",
      "INFO | epoch 24 (100%) loss: 8541.055268\n",
      "INFO | epoch 24 (test) loss: 11340.909348\n",
      "INFO | epoch 25 (  0%) loss: 8817.621094\n",
      "INFO | epoch 25 ( 35%) loss: 8074.738334\n",
      "INFO | epoch 25 ( 70%) loss: 7964.035938\n",
      "INFO | epoch 25 (100%) loss: 7838.481671\n",
      "INFO | epoch 25 (test) loss: 10642.651291\n",
      "INFO | epoch 26 (  0%) loss: 8835.748047\n",
      "INFO | epoch 26 ( 35%) loss: 7664.588500\n",
      "INFO | epoch 26 ( 70%) loss: 7566.419213\n",
      "INFO | epoch 26 (100%) loss: 7594.092466\n",
      "INFO | epoch 26 (test) loss: 10174.404495\n",
      "INFO | epoch 27 (  0%) loss: 12135.719727\n",
      "INFO | epoch 27 ( 35%) loss: 6777.109162\n",
      "INFO | epoch 27 ( 70%) loss: 6897.366629\n",
      "INFO | epoch 27 (100%) loss: 6886.000787\n",
      "INFO | epoch 27 (test) loss: 9541.833923\n",
      "INFO | epoch 28 (  0%) loss: 5102.449219\n",
      "INFO | epoch 28 ( 35%) loss: 6169.500556\n",
      "INFO | epoch 28 ( 70%) loss: 6440.289461\n",
      "INFO | epoch 28 (100%) loss: 6438.840332\n",
      "INFO | epoch 28 (test) loss: 8737.636982\n",
      "INFO | epoch 29 (  0%) loss: 5272.020996\n",
      "INFO | epoch 29 ( 35%) loss: 5488.892104\n",
      "INFO | epoch 29 ( 70%) loss: 5622.726897\n",
      "INFO | epoch 29 (100%) loss: 5704.954884\n",
      "INFO | epoch 29 (test) loss: 8797.704163\n",
      "INFO | epoch 30 (  0%) loss: 6964.982422\n",
      "INFO | epoch 30 ( 35%) loss: 5536.222016\n",
      "INFO | epoch 30 ( 70%) loss: 5374.717930\n",
      "INFO | epoch 30 (100%) loss: 5281.880236\n",
      "INFO | epoch 30 (test) loss: 7641.444672\n",
      "INFO | epoch 31 (  0%) loss: 3327.297363\n",
      "INFO | epoch 31 ( 35%) loss: 4737.383455\n",
      "INFO | epoch 31 ( 70%) loss: 4639.143566\n",
      "INFO | epoch 31 (100%) loss: 4816.768736\n",
      "INFO | epoch 31 (test) loss: 7696.096493\n",
      "INFO | epoch 32 (  0%) loss: 7461.989746\n",
      "INFO | epoch 32 ( 35%) loss: 4647.351766\n",
      "INFO | epoch 32 ( 70%) loss: 4543.626577\n",
      "INFO | epoch 32 (100%) loss: 4504.436775\n",
      "INFO | epoch 32 (test) loss: 7592.783463\n",
      "INFO | epoch 33 (  0%) loss: 3001.240234\n",
      "INFO | epoch 33 ( 35%) loss: 3838.577617\n",
      "INFO | epoch 33 ( 70%) loss: 4165.557060\n",
      "INFO | epoch 33 (100%) loss: 4090.033415\n",
      "INFO | epoch 33 (test) loss: 6817.684464\n",
      "INFO | epoch 34 (  0%) loss: 2827.504883\n",
      "INFO | epoch 34 ( 35%) loss: 3745.370492\n",
      "INFO | epoch 34 ( 70%) loss: 3764.907920\n",
      "INFO | epoch 34 (100%) loss: 3731.526452\n",
      "INFO | epoch 34 (test) loss: 6534.746712\n",
      "INFO | epoch 35 (  0%) loss: 3442.815674\n",
      "INFO | epoch 35 ( 35%) loss: 3712.361592\n",
      "INFO | epoch 35 ( 70%) loss: 3581.147163\n",
      "INFO | epoch 35 (100%) loss: 3526.080395\n",
      "INFO | epoch 35 (test) loss: 6030.493908\n",
      "INFO | epoch 36 (  0%) loss: 2175.367920\n",
      "INFO | epoch 36 ( 35%) loss: 3113.270612\n",
      "INFO | epoch 36 ( 70%) loss: 3196.127588\n",
      "INFO | epoch 36 (100%) loss: 3159.422188\n",
      "INFO | epoch 36 (test) loss: 5466.576624\n",
      "INFO | epoch 37 (  0%) loss: 3895.017090\n",
      "INFO | epoch 37 ( 35%) loss: 2513.588038\n",
      "INFO | epoch 37 ( 70%) loss: 2678.900097\n",
      "INFO | epoch 37 (100%) loss: 2670.247517\n",
      "INFO | epoch 37 (test) loss: 5616.664163\n",
      "INFO | epoch 38 (  0%) loss: 2089.223145\n",
      "INFO | epoch 38 ( 35%) loss: 2646.481850\n",
      "INFO | epoch 38 ( 70%) loss: 2672.466561\n",
      "INFO | epoch 38 (100%) loss: 2679.870808\n",
      "INFO | epoch 38 (test) loss: 5688.885891\n",
      "INFO | epoch 39 (  0%) loss: 3121.147949\n",
      "INFO | epoch 39 ( 35%) loss: 2231.337617\n",
      "INFO | epoch 39 ( 70%) loss: 2370.590109\n",
      "INFO | epoch 39 (100%) loss: 2374.340127\n",
      "INFO | epoch 39 (test) loss: 5290.608746\n",
      "INFO | epoch 40 (  0%) loss: 2179.282471\n",
      "INFO | epoch 40 ( 35%) loss: 2230.397471\n",
      "INFO | epoch 40 ( 70%) loss: 2096.585034\n",
      "INFO | epoch 40 (100%) loss: 2123.483584\n",
      "INFO | epoch 40 (test) loss: 4888.415658\n",
      "INFO | epoch 41 (  0%) loss: 4512.045898\n",
      "INFO | epoch 41 ( 35%) loss: 2369.058236\n",
      "INFO | epoch 41 ( 70%) loss: 2603.096082\n",
      "INFO | epoch 41 (100%) loss: 2453.134118\n",
      "INFO | epoch 41 (test) loss: 4874.843481\n",
      "INFO | epoch 42 (  0%) loss: 2740.244385\n",
      "INFO | epoch 42 ( 35%) loss: 1781.069280\n",
      "INFO | epoch 42 ( 70%) loss: 1782.728160\n",
      "INFO | epoch 42 (100%) loss: 1818.305130\n",
      "INFO | epoch 42 (test) loss: 4540.002776\n",
      "INFO | epoch 43 (  0%) loss: 1429.253540\n",
      "INFO | epoch 43 ( 35%) loss: 1537.117650\n",
      "INFO | epoch 43 ( 70%) loss: 1562.452372\n",
      "INFO | epoch 43 (100%) loss: 1544.584495\n",
      "INFO | epoch 43 (test) loss: 4483.222338\n",
      "INFO | epoch 44 (  0%) loss: 1851.522461\n",
      "INFO | epoch 44 ( 35%) loss: 1823.921159\n",
      "INFO | epoch 44 ( 70%) loss: 1804.403606\n",
      "INFO | epoch 44 (100%) loss: 1751.196610\n",
      "INFO | epoch 44 (test) loss: 4147.958734\n",
      "INFO | epoch 45 (  0%) loss: 989.158997\n",
      "INFO | epoch 45 ( 35%) loss: 1334.770486\n",
      "INFO | epoch 45 ( 70%) loss: 1461.465630\n",
      "INFO | epoch 45 (100%) loss: 1507.118347\n",
      "INFO | epoch 45 (test) loss: 4469.360466\n",
      "INFO | epoch 46 (  0%) loss: 1081.931274\n",
      "INFO | epoch 46 ( 35%) loss: 1429.873541\n",
      "INFO | epoch 46 ( 70%) loss: 1423.329481\n",
      "INFO | epoch 46 (100%) loss: 1548.374722\n",
      "INFO | epoch 46 (test) loss: 4596.934202\n",
      "INFO | epoch 47 (  0%) loss: 1253.575928\n",
      "INFO | epoch 47 ( 35%) loss: 1861.777691\n",
      "INFO | epoch 47 ( 70%) loss: 1619.071893\n",
      "INFO | epoch 47 (100%) loss: 1511.725602\n",
      "INFO | epoch 47 (test) loss: 4227.367608\n",
      "INFO | epoch 48 (  0%) loss: 1746.462158\n",
      "INFO | epoch 48 ( 35%) loss: 1409.838460\n",
      "INFO | epoch 48 ( 70%) loss: 1340.161647\n",
      "INFO | epoch 48 (100%) loss: 1314.902592\n",
      "INFO | epoch 48 (test) loss: 3681.842785\n",
      "INFO | epoch 49 (  0%) loss: 833.600952\n",
      "INFO | epoch 49 ( 35%) loss: 1318.961595\n",
      "INFO | epoch 49 ( 70%) loss: 1293.562146\n",
      "INFO | epoch 49 (100%) loss: 1332.987604\n",
      "INFO | epoch 49 (test) loss: 4182.926363\n",
      "INFO | epoch 50 (  0%) loss: 843.650635\n",
      "INFO | epoch 50 ( 35%) loss: 1251.577425\n",
      "INFO | epoch 50 ( 70%) loss: 1193.908294\n",
      "INFO | epoch 50 (100%) loss: 1220.428266\n",
      "INFO | epoch 50 (test) loss: 3817.638424\n",
      "INFO | epoch 51 (  0%) loss: 1095.727417\n",
      "INFO | epoch 51 ( 35%) loss: 1107.240330\n",
      "INFO | epoch 51 ( 70%) loss: 1173.032806\n",
      "INFO | epoch 51 (100%) loss: 1153.131797\n",
      "INFO | epoch 51 (test) loss: 3646.418591\n",
      "INFO | epoch 52 (  0%) loss: 675.770508\n",
      "INFO | epoch 52 ( 35%) loss: 953.122190\n",
      "INFO | epoch 52 ( 70%) loss: 987.016489\n",
      "INFO | epoch 52 (100%) loss: 1018.715709\n",
      "INFO | epoch 52 (test) loss: 3449.932512\n",
      "INFO | epoch 53 (  0%) loss: 830.142578\n",
      "INFO | epoch 53 ( 35%) loss: 965.385661\n",
      "INFO | epoch 53 ( 70%) loss: 886.649986\n",
      "INFO | epoch 53 (100%) loss: 860.133365\n",
      "INFO | epoch 53 (test) loss: 3079.475058\n",
      "INFO | epoch 54 (  0%) loss: 575.500122\n",
      "INFO | epoch 54 ( 35%) loss: 757.028952\n",
      "INFO | epoch 54 ( 70%) loss: 787.797027\n",
      "INFO | epoch 54 (100%) loss: 821.497481\n",
      "INFO | epoch 54 (test) loss: 4307.336385\n",
      "INFO | epoch 55 (  0%) loss: 918.898499\n",
      "INFO | epoch 55 ( 35%) loss: 1393.123439\n",
      "INFO | epoch 55 ( 70%) loss: 1415.674322\n",
      "INFO | epoch 55 (100%) loss: 1414.935534\n",
      "INFO | epoch 55 (test) loss: 3968.709595\n",
      "INFO | epoch 56 (  0%) loss: 1385.589600\n",
      "INFO | epoch 56 ( 35%) loss: 1270.061408\n",
      "INFO | epoch 56 ( 70%) loss: 1235.506615\n",
      "INFO | epoch 56 (100%) loss: 1168.893156\n",
      "INFO | epoch 56 (test) loss: 3795.003469\n",
      "INFO | epoch 57 (  0%) loss: 1425.763306\n",
      "INFO | epoch 57 ( 35%) loss: 816.702482\n",
      "INFO | epoch 57 ( 70%) loss: 835.323728\n",
      "INFO | epoch 57 (100%) loss: 830.392921\n",
      "INFO | epoch 57 (test) loss: 3434.232013\n",
      "INFO | epoch 58 (  0%) loss: 993.592041\n",
      "INFO | epoch 58 ( 35%) loss: 812.127251\n",
      "INFO | epoch 58 ( 70%) loss: 845.236124\n",
      "INFO | epoch 58 (100%) loss: 833.751578\n",
      "INFO | epoch 58 (test) loss: 3194.967657\n",
      "INFO | epoch 59 (  0%) loss: 640.245972\n",
      "INFO | epoch 59 ( 35%) loss: 629.989435\n",
      "INFO | epoch 59 ( 70%) loss: 670.792152\n",
      "INFO | epoch 59 (100%) loss: 720.041718\n",
      "INFO | epoch 59 (test) loss: 4309.616161\n",
      "INFO | epoch 60 (  0%) loss: 3316.812744\n",
      "INFO | epoch 60 ( 35%) loss: 1129.538542\n",
      "INFO | epoch 60 ( 70%) loss: 1012.120964\n",
      "INFO | epoch 60 (100%) loss: 1083.745498\n",
      "INFO | epoch 60 (test) loss: 3769.038116\n",
      "INFO | epoch 61 (  0%) loss: 1039.730225\n",
      "INFO | epoch 61 ( 35%) loss: 820.382921\n",
      "INFO | epoch 61 ( 70%) loss: 876.383603\n",
      "INFO | epoch 61 (100%) loss: 908.358465\n",
      "INFO | epoch 61 (test) loss: 3500.315755\n",
      "INFO | epoch 62 (  0%) loss: 687.243042\n",
      "INFO | epoch 62 ( 35%) loss: 883.049425\n",
      "INFO | epoch 62 ( 70%) loss: 872.376586\n",
      "INFO | epoch 62 (100%) loss: 858.710030\n",
      "INFO | epoch 62 (test) loss: 2864.292210\n",
      "INFO | epoch 63 (  0%) loss: 588.840820\n",
      "INFO | epoch 63 ( 35%) loss: 729.161786\n",
      "INFO | epoch 63 ( 70%) loss: 749.356507\n",
      "INFO | epoch 63 (100%) loss: 747.174512\n",
      "INFO | epoch 63 (test) loss: 3086.375848\n",
      "INFO | epoch 64 (  0%) loss: 706.356628\n",
      "INFO | epoch 64 ( 35%) loss: 573.587830\n",
      "INFO | epoch 64 ( 70%) loss: 615.156228\n",
      "INFO | epoch 64 (100%) loss: 634.530748\n",
      "INFO | epoch 64 (test) loss: 2930.764375\n",
      "INFO | epoch 65 (  0%) loss: 354.810883\n",
      "INFO | epoch 65 ( 35%) loss: 826.870498\n",
      "INFO | epoch 65 ( 70%) loss: 742.859040\n",
      "INFO | epoch 65 (100%) loss: 685.786961\n",
      "INFO | epoch 65 (test) loss: 2610.220900\n",
      "INFO | epoch 66 (  0%) loss: 580.327332\n",
      "INFO | epoch 66 ( 35%) loss: 494.813944\n",
      "INFO | epoch 66 ( 70%) loss: 489.477089\n",
      "INFO | epoch 66 (100%) loss: 475.017625\n",
      "INFO | epoch 66 (test) loss: 2778.848577\n",
      "INFO | epoch 67 (  0%) loss: 453.841492\n",
      "INFO | epoch 67 ( 35%) loss: 449.515378\n",
      "INFO | epoch 67 ( 70%) loss: 491.562671\n",
      "INFO | epoch 67 (100%) loss: 481.343048\n",
      "INFO | epoch 67 (test) loss: 3007.432701\n",
      "INFO | epoch 68 (  0%) loss: 288.504395\n",
      "INFO | epoch 68 ( 35%) loss: 464.958453\n",
      "INFO | epoch 68 ( 70%) loss: 532.686417\n",
      "INFO | epoch 68 (100%) loss: 516.161379\n",
      "INFO | epoch 68 (test) loss: 2709.216156\n",
      "INFO | epoch 69 (  0%) loss: 685.523132\n",
      "INFO | epoch 69 ( 35%) loss: 856.671895\n",
      "INFO | epoch 69 ( 70%) loss: 834.024777\n",
      "INFO | epoch 69 (100%) loss: 951.834012\n",
      "INFO | epoch 69 (test) loss: 5023.451353\n",
      "INFO | epoch 70 (  0%) loss: 1610.327881\n",
      "INFO | epoch 70 ( 35%) loss: 1857.683645\n",
      "INFO | epoch 70 ( 70%) loss: 1592.683598\n",
      "INFO | epoch 70 (100%) loss: 1378.807274\n",
      "INFO | epoch 70 (test) loss: 3377.654554\n",
      "INFO | epoch 71 (  0%) loss: 416.198059\n",
      "INFO | epoch 71 ( 35%) loss: 696.934226\n",
      "INFO | epoch 71 ( 70%) loss: 633.557479\n",
      "INFO | epoch 71 (100%) loss: 608.643068\n",
      "INFO | epoch 71 (test) loss: 3032.799382\n",
      "INFO | epoch 72 (  0%) loss: 353.729126\n",
      "INFO | epoch 72 ( 35%) loss: 449.819456\n",
      "INFO | epoch 72 ( 70%) loss: 477.861616\n",
      "INFO | epoch 72 (100%) loss: 470.032907\n",
      "INFO | epoch 72 (test) loss: 2872.961200\n",
      "INFO | epoch 73 (  0%) loss: 367.421417\n",
      "INFO | epoch 73 ( 35%) loss: 369.725620\n",
      "INFO | epoch 73 ( 70%) loss: 358.939084\n",
      "INFO | epoch 73 (100%) loss: 344.667009\n",
      "INFO | epoch 73 (test) loss: 2307.105837\n",
      "INFO | epoch 74 (  0%) loss: 270.305145\n",
      "INFO | epoch 74 ( 35%) loss: 284.496873\n",
      "INFO | epoch 74 ( 70%) loss: 283.003658\n",
      "INFO | epoch 74 (100%) loss: 280.625616\n",
      "INFO | epoch 74 (test) loss: 2396.454479\n",
      "INFO | epoch 75 (  0%) loss: 279.022430\n",
      "INFO | epoch 75 ( 35%) loss: 264.134211\n",
      "INFO | epoch 75 ( 70%) loss: 258.345012\n",
      "INFO | epoch 75 (100%) loss: 253.124255\n",
      "INFO | epoch 75 (test) loss: 2410.402098\n",
      "INFO | epoch 76 (  0%) loss: 219.211945\n",
      "INFO | epoch 76 ( 35%) loss: 241.448362\n",
      "INFO | epoch 76 ( 70%) loss: 240.270678\n",
      "INFO | epoch 76 (100%) loss: 273.773707\n",
      "INFO | epoch 76 (test) loss: 2750.511723\n",
      "INFO | epoch 77 (  0%) loss: 276.347900\n",
      "INFO | epoch 77 ( 35%) loss: 396.937387\n",
      "INFO | epoch 77 ( 70%) loss: 563.016945\n",
      "INFO | epoch 77 (100%) loss: 648.436571\n",
      "INFO | epoch 77 (test) loss: 3689.515570\n",
      "INFO | epoch 78 (  0%) loss: 509.605499\n",
      "INFO | epoch 78 ( 35%) loss: 1525.683228\n",
      "INFO | epoch 78 ( 70%) loss: 1234.839111\n",
      "INFO | epoch 78 (100%) loss: 1111.536049\n",
      "INFO | epoch 78 (test) loss: 3691.108822\n",
      "INFO | epoch 79 (  0%) loss: 696.555664\n",
      "INFO | epoch 79 ( 35%) loss: 630.233048\n",
      "INFO | epoch 79 ( 70%) loss: 567.554170\n",
      "INFO | epoch 79 (100%) loss: 527.187777\n",
      "INFO | epoch 79 (test) loss: 2658.135778\n",
      "INFO | epoch 80 (  0%) loss: 368.542847\n",
      "INFO | epoch 80 ( 35%) loss: 343.248234\n",
      "INFO | epoch 80 ( 70%) loss: 325.822841\n",
      "INFO | epoch 80 (100%) loss: 327.829780\n",
      "INFO | epoch 80 (test) loss: 2524.338593\n",
      "INFO | epoch 81 (  0%) loss: 239.805237\n",
      "INFO | epoch 81 ( 35%) loss: 340.460822\n",
      "INFO | epoch 81 ( 70%) loss: 307.698686\n",
      "INFO | epoch 81 (100%) loss: 298.395139\n",
      "INFO | epoch 81 (test) loss: 2501.184160\n",
      "INFO | epoch 82 (  0%) loss: 327.608765\n",
      "INFO | epoch 82 ( 35%) loss: 341.364440\n",
      "INFO | epoch 82 ( 70%) loss: 313.184676\n",
      "INFO | epoch 82 (100%) loss: 289.206871\n",
      "INFO | epoch 82 (test) loss: 2366.930183\n",
      "INFO | epoch 83 (  0%) loss: 340.454651\n",
      "INFO | epoch 83 ( 35%) loss: 299.354985\n",
      "INFO | epoch 83 ( 70%) loss: 322.162828\n",
      "INFO | epoch 83 (100%) loss: 313.188009\n",
      "INFO | epoch 83 (test) loss: 2317.451898\n",
      "INFO | epoch 84 (  0%) loss: 220.288101\n",
      "INFO | epoch 84 ( 35%) loss: 250.370629\n",
      "INFO | epoch 84 ( 70%) loss: 306.629858\n",
      "INFO | epoch 84 (100%) loss: 311.388975\n",
      "INFO | epoch 84 (test) loss: 2836.671191\n",
      "INFO | epoch 85 (  0%) loss: 264.217834\n",
      "INFO | epoch 85 ( 35%) loss: 509.980990\n",
      "INFO | epoch 85 ( 70%) loss: 740.283558\n",
      "INFO | epoch 85 (100%) loss: 757.738074\n",
      "INFO | epoch 85 (test) loss: 4287.348223\n",
      "INFO | epoch 86 (  0%) loss: 1618.635132\n",
      "INFO | epoch 86 ( 35%) loss: 754.633818\n",
      "INFO | epoch 86 ( 70%) loss: 741.324094\n",
      "INFO | epoch 86 (100%) loss: 712.014071\n",
      "INFO | epoch 86 (test) loss: 2581.449963\n",
      "INFO | epoch 87 (  0%) loss: 290.736145\n",
      "INFO | epoch 87 ( 35%) loss: 459.788459\n",
      "INFO | epoch 87 ( 70%) loss: 428.341030\n",
      "INFO | epoch 87 (100%) loss: 406.925430\n",
      "INFO | epoch 87 (test) loss: 2223.810423\n",
      "INFO | epoch 88 (  0%) loss: 217.617096\n",
      "INFO | epoch 88 ( 35%) loss: 245.753209\n",
      "INFO | epoch 88 ( 70%) loss: 254.614423\n",
      "INFO | epoch 88 (100%) loss: 258.055740\n",
      "INFO | epoch 88 (test) loss: 2137.898087\n",
      "INFO | epoch 89 (  0%) loss: 199.060303\n",
      "INFO | epoch 89 ( 35%) loss: 226.010874\n",
      "INFO | epoch 89 ( 70%) loss: 218.414945\n",
      "INFO | epoch 89 (100%) loss: 209.590835\n",
      "INFO | epoch 89 (test) loss: 2145.025507\n",
      "INFO | epoch 90 (  0%) loss: 231.466629\n",
      "INFO | epoch 90 ( 35%) loss: 199.061093\n",
      "INFO | epoch 90 ( 70%) loss: 267.973409\n",
      "INFO | epoch 90 (100%) loss: 329.940643\n",
      "INFO | epoch 90 (test) loss: 2376.258435\n",
      "INFO | epoch 91 (  0%) loss: 461.014832\n",
      "INFO | epoch 91 ( 35%) loss: 436.959697\n",
      "INFO | epoch 91 ( 70%) loss: 417.798056\n",
      "INFO | epoch 91 (100%) loss: 403.631984\n",
      "INFO | epoch 91 (test) loss: 2398.490468\n",
      "INFO | epoch 92 (  0%) loss: 198.699829\n",
      "INFO | epoch 92 ( 35%) loss: 535.714597\n",
      "INFO | epoch 92 ( 70%) loss: 580.560784\n",
      "INFO | epoch 92 (100%) loss: 521.677848\n",
      "INFO | epoch 92 (test) loss: 2548.618070\n",
      "INFO | epoch 93 (  0%) loss: 245.245117\n",
      "INFO | epoch 93 ( 35%) loss: 323.981696\n",
      "INFO | epoch 93 ( 70%) loss: 395.684129\n",
      "INFO | epoch 93 (100%) loss: 428.390097\n",
      "INFO | epoch 93 (test) loss: 3042.952134\n",
      "INFO | epoch 94 (  0%) loss: 204.649734\n",
      "INFO | epoch 94 ( 35%) loss: 7232425.169236\n",
      "INFO | epoch 94 ( 70%) loss: 3634766.086345\n",
      "INFO | epoch 94 (100%) loss: 2590930.334629\n",
      "INFO | epoch 94 (test) loss: 2461.701287\n",
      "INFO | epoch 95 (  0%) loss: 487.139984\n",
      "INFO | epoch 95 ( 35%) loss: 497.392672\n",
      "INFO | epoch 95 ( 70%) loss: 466.135381\n",
      "INFO | epoch 95 (100%) loss: 1204.293068\n",
      "INFO | epoch 95 (test) loss: 3059.828469\n",
      "INFO | epoch 96 (  0%) loss: 397.087708\n",
      "INFO | epoch 96 ( 35%) loss: 376.010384\n",
      "INFO | epoch 96 ( 70%) loss: 344.314221\n",
      "INFO | epoch 96 (100%) loss: 338.594827\n",
      "INFO | epoch 96 (test) loss: 2138.227397\n",
      "INFO | epoch 97 (  0%) loss: 249.804108\n",
      "INFO | epoch 97 ( 35%) loss: 273.094362\n",
      "INFO | epoch 97 ( 70%) loss: 261.302807\n",
      "INFO | epoch 97 (100%) loss: 262.448951\n",
      "INFO | epoch 97 (test) loss: 2297.935203\n",
      "INFO | epoch 98 (  0%) loss: 163.500580\n",
      "INFO | epoch 98 ( 35%) loss: 250.932314\n",
      "INFO | epoch 98 ( 70%) loss: 259.235164\n",
      "INFO | epoch 98 (100%) loss: 247.277005\n",
      "INFO | epoch 98 (test) loss: 2125.729264\n",
      "INFO | epoch 99 (  0%) loss: 181.090027\n",
      "INFO | epoch 99 ( 35%) loss: 248.700197\n",
      "INFO | epoch 99 ( 70%) loss: 221.649986\n",
      "INFO | epoch 99 (100%) loss: 216.018389\n",
      "INFO | epoch 99 (test) loss: 2213.926233\n",
      "INFO | epoch 100 (  0%) loss: 201.498795\n",
      "INFO | epoch 100 ( 35%) loss: 200.326215\n",
      "INFO | epoch 100 ( 70%) loss: 189.532617\n",
      "INFO | epoch 100 (100%) loss: 187.026668\n",
      "INFO | epoch 100 (test) loss: 2067.567595\n",
      "INFO | model blob saved to /home/jmsdnns/ML/pallets/saved/cvae.conv.labeled.pkl\n",
      "INFO | training losses saved to /home/jmsdnns/ML/pallets/saved/cvae.conv.labeled.json\n"
     ]
    }
   ],
   "source": [
    "model = M.cvae.LabeledConvCVAE(input_dim, latent_dim, classes_dim)\n",
    "criterion = M.cvae.Loss()\n",
    "\n",
    "train_losses, test_losses = M.cvae.train(\n",
    "    device, model, criterion, train_loader, test_loader,\n",
    "    learn_rate=LR, epochs=EPOCHS, conditional_loss=True\n",
    ")\n",
    "\n",
    "M.save(SAVE_NAME, model, train_losses, test_losses)"
   ]
  },
  {
   "cell_type": "markdown",
   "id": "77fb32ad",
   "metadata": {},
   "source": [
    "# Results"
   ]
  },
  {
   "cell_type": "markdown",
   "id": "18005438",
   "metadata": {},
   "source": [
    "## Random Inputs w/ Real Labels"
   ]
  },
  {
   "cell_type": "code",
   "execution_count": 10,
   "id": "f2b9d212",
   "metadata": {},
   "outputs": [],
   "source": [
    "import random\n",
    "\n",
    "def rand_label():\n",
    "    label_idx = int(random.random() * len(dataset._labels))\n",
    "    features = dataset._labels[label_idx]\n",
    "    enabled_names = [k for k,v in zip(dataset._label_keys, features) if v.item() == 1]\n",
    "    return features.to(device), enabled_names\n"
   ]
  },
  {
   "cell_type": "code",
   "execution_count": 11,
   "id": "38c47d81",
   "metadata": {},
   "outputs": [],
   "source": [
    "# Generate new image\n",
    "\n",
    "def rand_punk():\n",
    "    z = torch.randn(1, latent_dim).to(device)\n",
    "    # print(z.shape)\n",
    "    features, names = rand_label()\n",
    "    print(f\"Features: {', '.join(names)}\")\n",
    "\n",
    "    with torch.no_grad():\n",
    "        model.eval()\n",
    "        generated_image = model.decoder(z, features.unsqueeze(0))\n",
    "        # print(generated_image.shape)\n",
    "\n",
    "    decoded_one_hot = generated_image[0][:222, :, :]\n",
    "    decoded_one_hot = decoded_one_hot.view((222, 24, 24))\n",
    "    # print(decoded_one_hot.shape)\n",
    "    decoded = DS.one_hot_to_rgba(decoded_one_hot, dataset.mapper)\n",
    "    print(f\"Shape: {decoded.shape}\")\n",
    "    return decoded\n"
   ]
  },
  {
   "cell_type": "markdown",
   "id": "31e74ceb",
   "metadata": {},
   "source": [
    "### 5 Randoms w/ Real Labels"
   ]
  },
  {
   "cell_type": "code",
   "execution_count": 12,
   "metadata": {},
   "outputs": [
    {
     "name": "stdout",
     "output_type": "stream",
     "text": [
      "Features: male, luxuriousBeard, frumpyHair, bigShades\n",
      "Shape: torch.Size([4, 24, 24])\n",
      "torch.Size([4, 24, 24])\n"
     ]
    },
    {
     "data": {
      "image/png": "[encoded data removed]",
      "text/plain": [
       "<Figure size 640x480 with 1 Axes>"
      ]
     },
     "metadata": {},
     "output_type": "display_data"
    }
   ],
   "source": [
    "decoded = rand_punk()\n",
    "print(decoded.shape)\n",
    "\n",
    "plt.imshow(transforms.functional.to_pil_image(decoded))\n",
    "plt.axis('off')\n",
    "plt.show()\n"
   ]
  },
  {
   "cell_type": "code",
   "execution_count": 13,
   "id": "6744444a",
   "metadata": {},
   "outputs": [
    {
     "name": "stdout",
     "output_type": "stream",
     "text": [
      "Features: female, pilotHelmet, cigarette\n",
      "Shape: torch.Size([4, 24, 24])\n"
     ]
    },
    {
     "data": {
      "image/png": "[encoded data removed]",
      "text/plain": [
       "<Figure size 640x480 with 1 Axes>"
      ]
     },
     "metadata": {},
     "output_type": "display_data"
    }
   ],
   "source": [
    "decoded = rand_punk()\n",
    "\n",
    "plt.imshow(transforms.functional.to_pil_image(decoded))\n",
    "plt.axis('off')\n",
    "plt.show()\n"
   ]
  },
  {
   "cell_type": "code",
   "execution_count": 14,
   "id": "e190c583",
   "metadata": {},
   "outputs": [
    {
     "name": "stdout",
     "output_type": "stream",
     "text": [
      "Features: female, stringyHair\n",
      "Shape: torch.Size([4, 24, 24])\n"
     ]
    },
    {
     "data": {
      "image/png": "[encoded data removed]",
      "text/plain": [
       "<Figure size 640x480 with 1 Axes>"
      ]
     },
     "metadata": {},
     "output_type": "display_data"
    }
   ],
   "source": [
    "decoded = rand_punk()\n",
    "\n",
    "plt.imshow(transforms.functional.to_pil_image(decoded))\n",
    "plt.axis('off')\n",
    "plt.show()\n"
   ]
  },
  {
   "cell_type": "code",
   "execution_count": 15,
   "id": "be357c27",
   "metadata": {},
   "outputs": [
    {
     "name": "stdout",
     "output_type": "stream",
     "text": [
      "Features: male, normalBeardBlack, eyeMask\n",
      "Shape: torch.Size([4, 24, 24])\n"
     ]
    },
    {
     "data": {
      "image/png": "[encoded data removed]",
      "text/plain": [
       "<Figure size 640x480 with 1 Axes>"
      ]
     },
     "metadata": {},
     "output_type": "display_data"
    }
   ],
   "source": [
    "decoded = rand_punk()\n",
    "\n",
    "plt.imshow(transforms.functional.to_pil_image(decoded))\n",
    "plt.axis('off')\n",
    "plt.show()\n"
   ]
  },
  {
   "cell_type": "code",
   "execution_count": 16,
   "id": "d8f339ae",
   "metadata": {},
   "outputs": [
    {
     "name": "stdout",
     "output_type": "stream",
     "text": [
      "Features: male, buckTeeth, messyHair, nerdGlasses\n"
     ]
    },
    {
     "name": "stdout",
     "output_type": "stream",
     "text": [
      "Shape: torch.Size([4, 24, 24])\n"
     ]
    },
    {
     "data": {
      "image/png": "[encoded data removed]",
      "text/plain": [
       "<Figure size 640x480 with 1 Axes>"
      ]
     },
     "metadata": {},
     "output_type": "display_data"
    }
   ],
   "source": [
    "decoded = rand_punk()\n",
    "\n",
    "plt.imshow(transforms.functional.to_pil_image(decoded))\n",
    "plt.axis('off')\n",
    "plt.show()\n"
   ]
  },
  {
   "cell_type": "markdown",
   "id": "3e1bd761",
   "metadata": {},
   "source": [
    "## Reconstruction"
   ]
  },
  {
   "cell_type": "code",
   "execution_count": 17,
   "id": "a150efab",
   "metadata": {},
   "outputs": [],
   "source": [
    "def reconstruct_punk(idx):\n",
    "    punk = I.get_punk_tensor(idx)\n",
    "    p = DS.rgba_to_one_hot(punk, dataset.mapper)\n",
    "    p = p.unsqueeze(0)\n",
    "    p = p.to(device)\n",
    "\n",
    "    _, labels = dataset[idx]\n",
    "    l = labels.unsqueeze(0)\n",
    "    l = l.to(device)\n",
    "    enabled_features = [k for k,v in zip(dataset._label_keys, labels) if v.item() == 1]\n",
    "\n",
    "    model.eval()\n",
    "    with torch.no_grad():\n",
    "        reconstructed, mu, logvar = model.forward(p, l)\n",
    "\n",
    "    recon_punk = reconstructed[0][:222, :, :].cpu()\n",
    "    recon_punk = DS.one_hot_to_rgba(recon_punk, dataset.mapper)\n",
    "\n",
    "    return punk, recon_punk, enabled_features\n",
    "\n",
    "\n",
    "def draw_two(img1, img2):\n",
    "    page_size = 2\n",
    "    view_x, view_y = 4*page_size, 2*page_size\n",
    "    fig = plt.figure(figsize=(view_x, view_y))\n",
    "    fig.add_subplot(1, 2, 1)\n",
    "    plt.imshow(transforms.functional.to_pil_image(img1))\n",
    "    plt.axis('off')\n",
    "    fig.add_subplot(1, 2, 2)\n",
    "    plt.imshow(transforms.functional.to_pil_image(img2))\n",
    "    plt.axis('off')\n",
    "    plt.show()\n"
   ]
  },
  {
   "cell_type": "markdown",
   "id": "7a12b220",
   "metadata": {},
   "source": [
    "### 5 Reconstructions"
   ]
  },
  {
   "cell_type": "code",
   "execution_count": 18,
   "id": "142e642d",
   "metadata": {},
   "outputs": [
    {
     "name": "stdout",
     "output_type": "stream",
     "text": [
      "Features: female, rosyCheeks, darkHair, cigarette\n"
     ]
    },
    {
     "data": {
      "image/png": "[encoded data removed]",
      "text/plain": [
       "<Figure size 800x400 with 2 Axes>"
      ]
     },
     "metadata": {},
     "output_type": "display_data"
    }
   ],
   "source": [
    "punk, recon_punk, features = reconstruct_punk(1000)\n",
    "\n",
    "print(f\"Features: {', '.join(features)}\")\n",
    "draw_two(punk, recon_punk)"
   ]
  },
  {
   "cell_type": "code",
   "execution_count": 19,
   "metadata": {},
   "outputs": [
    {
     "name": "stdout",
     "output_type": "stream",
     "text": [
      "Features: female, stringyHair, purpleLipstick, earring\n"
     ]
    },
    {
     "data": {
      "image/png": "[encoded data removed]",
      "text/plain": [
       "<Figure size 800x400 with 2 Axes>"
      ]
     },
     "metadata": {},
     "output_type": "display_data"
    }
   ],
   "source": [
    "punk, recon_punk, features = reconstruct_punk(2001)\n",
    "\n",
    "print(f\"Features: {', '.join(features)}\")\n",
    "draw_two(punk, recon_punk)\n"
   ]
  },
  {
   "cell_type": "code",
   "execution_count": 20,
   "id": "8e401eca",
   "metadata": {},
   "outputs": [
    {
     "name": "stdout",
     "output_type": "stream",
     "text": [
      "Features: female, wildWhiteHair, greenEyeShadow, hotLipstick\n"
     ]
    },
    {
     "data": {
      "image/png": "[encoded data removed]",
      "text/plain": [
       "<Figure size 800x400 with 2 Axes>"
      ]
     },
     "metadata": {},
     "output_type": "display_data"
    }
   ],
   "source": [
    "punk, recon_punk, features = reconstruct_punk(5000)\n",
    "\n",
    "print(f\"Features: {', '.join(features)}\")\n",
    "draw_two(punk, recon_punk)"
   ]
  },
  {
   "cell_type": "code",
   "execution_count": 21,
   "id": "99f3ac30",
   "metadata": {},
   "outputs": [
    {
     "name": "stdout",
     "output_type": "stream",
     "text": [
      "Features: male, rosyCheeks, mustache, vr, cap, cigarette\n"
     ]
    },
    {
     "data": {
      "image/png": "[encoded data removed]",
      "text/plain": [
       "<Figure size 800x400 with 2 Axes>"
      ]
     },
     "metadata": {},
     "output_type": "display_data"
    }
   ],
   "source": [
    "punk, recon_punk, features = reconstruct_punk(8000)\n",
    "\n",
    "print(f\"Features: {', '.join(features)}\")\n",
    "draw_two(punk, recon_punk)"
   ]
  },
  {
   "cell_type": "code",
   "execution_count": 22,
   "id": "eb402159",
   "metadata": {},
   "outputs": [
    {
     "name": "stdout",
     "output_type": "stream",
     "text": [
      "Features: male, handlebars, bandana\n"
     ]
    },
    {
     "data": {
      "image/png": "[encoded data removed]",
      "text/plain": [
       "<Figure size 800x400 with 2 Axes>"
      ]
     },
     "metadata": {},
     "output_type": "display_data"
    }
   ],
   "source": [
    "punk, recon_punk, features = reconstruct_punk(1337)\n",
    "\n",
    "print(f\"Features: {', '.join(features)}\")\n",
    "draw_two(punk, recon_punk)"
   ]
  },
  {
   "cell_type": "markdown",
   "id": "04a97510",
   "metadata": {},
   "source": [
    "## Losses"
   ]
  },
  {
   "cell_type": "code",
   "execution_count": 23,
   "metadata": {},
   "outputs": [
    {
     "data": {
      "text/plain": [
       "<function matplotlib.pyplot.show(close=None, block=None)>"
      ]
     },
     "execution_count": 23,
     "metadata": {},
     "output_type": "execute_result"
    },
    {
     "data": {
      "image/png": "[encoded data removed]",
      "text/plain": [
       "<Figure size 640x480 with 1 Axes>"
      ]
     },
     "metadata": {},
     "output_type": "display_data"
    }
   ],
   "source": [
    "plt.title(\"Train & Test loss\")\n",
    "plt.plot(train_losses, label='train loss')\n",
    "plt.plot(test_losses, label='test loss')\n",
    "plt.legend()\n",
    "plt.show\n"
   ]
  },
  {
   "cell_type": "code",
   "execution_count": 24,
   "id": "c1261252",
   "metadata": {},
   "outputs": [
    {
     "data": {
      "text/plain": [
       "[425156.3146054965,\n",
       " 267729.86642564274,\n",
       " 231887.83935893173,\n",
       " 213834.91061336437,\n",
       " 206240.89983654697,\n",
       " 192189.33597905585,\n",
       " 173946.75849124556,\n",
       " 150144.55444509088,\n",
       " 122305.58777288342,\n",
       " 98320.38017370345,\n",
       " 81170.9435533023,\n",
       " 68698.74737159241,\n",
       " 59022.19746301529,\n",
       " 50819.763976617905,\n",
       " 42693.27439847906,\n",
       " 36651.54911901596,\n",
       " 32359.010503241356,\n",
       " 29133.100274268618,\n",
       " 25648.687732020167,\n",
       " 23782.33675216783,\n",
       " 21315.563546687998,\n",
       " 19561.63712045656,\n",
       " 18337.803134350066,\n",
       " 17082.110536832337,\n",
       " 15676.963342544881,\n",
       " 15188.184932194703,\n",
       " 13772.001573927859,\n",
       " 12877.6806640625,\n",
       " 11409.90976839539,\n",
       " 10563.760472940216,\n",
       " 9633.537471257203,\n",
       " 9008.873549873948,\n",
       " 8180.066829167359,\n",
       " 7463.052904927139,\n",
       " 7052.160789976729,\n",
       " 6318.84437571857,\n",
       " 5340.495033210051,\n",
       " 5359.741616972795,\n",
       " 4748.680254564218,\n",
       " 4246.967168713292,\n",
       " 4906.268235659769,\n",
       " 3636.610259793329,\n",
       " 3089.1689903313386,\n",
       " 3502.393220617416,\n",
       " 3014.236694552374,\n",
       " 3096.7494442987104,\n",
       " 3023.4512034747618,\n",
       " 2629.805183897627,\n",
       " 2665.975208904726,\n",
       " 2440.856532752937,\n",
       " 2306.263594823526,\n",
       " 2037.4314170458638,\n",
       " 1720.266730342351,\n",
       " 1642.9949613530584,\n",
       " 2829.8710675611565,\n",
       " 2337.786311805671,\n",
       " 1660.785841164014,\n",
       " 1667.5031562967504,\n",
       " 1440.0834357079038,\n",
       " 2167.490996448706,\n",
       " 1816.7169302000223,\n",
       " 1717.4200595287566,\n",
       " 1494.3490244006434,\n",
       " 1269.0614963829094,\n",
       " 1371.573922880998,\n",
       " 950.0352490472455,\n",
       " 962.6860961372971,\n",
       " 1032.322758938404,\n",
       " 1903.6680239413647,\n",
       " 2757.6145487034573,\n",
       " 1217.2861356261774,\n",
       " 940.0658137544673,\n",
       " 689.3340175980372,\n",
       " 561.2512321742714,\n",
       " 506.2485108612277,\n",
       " 547.5474140627165,\n",
       " 1296.8731422153771,\n",
       " 2223.0720974536653,\n",
       " 1054.375554943761,\n",
       " 655.6595600750429,\n",
       " 596.79027857679,\n",
       " 578.4137425524124,\n",
       " 626.3760180101327,\n",
       " 622.7779504221381,\n",
       " 1515.476148672983,\n",
       " 1424.0281414275473,\n",
       " 813.8508592970828,\n",
       " 516.111480361181,\n",
       " 419.18167073675926,\n",
       " 659.8812851060367,\n",
       " 807.2639675275653,\n",
       " 1043.3556966578706,\n",
       " 856.7801937887855,\n",
       " 5181860.669257523,\n",
       " 2408.5861369464415,\n",
       " 677.1896533289699,\n",
       " 524.8979012239064,\n",
       " 494.55401091879986,\n",
       " 432.03677790215676,\n",
       " 374.0533363937486]"
      ]
     },
     "execution_count": 24,
     "metadata": {},
     "output_type": "execute_result"
    }
   ],
   "source": [
    "train_losses\n"
   ]
  },
  {
   "cell_type": "code",
   "execution_count": 25,
   "id": "15d6f86b",
   "metadata": {},
   "outputs": [
    {
     "data": {
      "text/plain": [
       "[270388.5743408203,\n",
       " 259954.48486328125,\n",
       " 214847.9969482422,\n",
       " 208389.3232421875,\n",
       " 200367.4149169922,\n",
       " 179334.4100341797,\n",
       " 162466.49536132812,\n",
       " 133166.53674316406,\n",
       " 110549.38653564453,\n",
       " 95741.35089111328,\n",
       " 78761.55212402344,\n",
       " 68026.17565917969,\n",
       " 60996.156311035156,\n",
       " 52732.08532714844,\n",
       " 45530.54406738281,\n",
       " 40474.853439331055,\n",
       " 36194.074279785156,\n",
       " 33640.6950378418,\n",
       " 31641.249572753906,\n",
       " 27663.828582763672,\n",
       " 28068.390579223633,\n",
       " 24894.384017944336,\n",
       " 23707.58122253418,\n",
       " 22681.81869506836,\n",
       " 21285.30258178711,\n",
       " 20348.808990478516,\n",
       " 19083.667846679688,\n",
       " 17475.273963928223,\n",
       " 17595.408325195312,\n",
       " 15282.889343261719,\n",
       " 15392.192985534668,\n",
       " 15185.566925048828,\n",
       " 13635.368927001953,\n",
       " 13069.493423461914,\n",
       " 12060.987815856934,\n",
       " 10933.153247833252,\n",
       " 11233.328325271606,\n",
       " 11377.771781921387,\n",
       " 10581.217491149902,\n",
       " 9776.831315994263,\n",
       " 9749.686962127686,\n",
       " 9080.00555229187,\n",
       " 8966.444675445557,\n",
       " 8295.91746711731,\n",
       " 8938.720932006836,\n",
       " 9193.868404388428,\n",
       " 8454.735216140747,\n",
       " 7363.685569763184,\n",
       " 8365.852725982666,\n",
       " 7635.2768478393555,\n",
       " 7292.837181091309,\n",
       " 6899.86502456665,\n",
       " 6158.950116157532,\n",
       " 8614.672769546509,\n",
       " 7937.419189453125,\n",
       " 7590.006938934326,\n",
       " 6868.4640254974365,\n",
       " 6389.935314178467,\n",
       " 8619.232322692871,\n",
       " 7538.076232910156,\n",
       " 7000.631509780884,\n",
       " 5728.584419250488,\n",
       " 6172.751695156097,\n",
       " 5861.528750896454,\n",
       " 5220.441799163818,\n",
       " 5557.697153091431,\n",
       " 6014.86540222168,\n",
       " 5418.432312011719,\n",
       " 10046.90270614624,\n",
       " 6755.309108734131,\n",
       " 6065.598764419556,\n",
       " 5745.922400474548,\n",
       " 4614.211674690247,\n",
       " 4792.908958435059,\n",
       " 4820.804195404053,\n",
       " 5501.023446559906,\n",
       " 7379.031139373779,\n",
       " 7382.217643737793,\n",
       " 5316.271556854248,\n",
       " 5048.677186012268,\n",
       " 5002.368319511414,\n",
       " 4733.860366344452,\n",
       " 4634.90379524231,\n",
       " 5673.34238243103,\n",
       " 8574.696445465088,\n",
       " 5162.899925231934,\n",
       " 4447.620846748352,\n",
       " 4275.796173810959,\n",
       " 4290.0510149002075,\n",
       " 4752.516870975494,\n",
       " 4796.980936050415,\n",
       " 5097.236140966415,\n",
       " 6085.904267549515,\n",
       " 4923.402573108673,\n",
       " 6119.656937599182,\n",
       " 4276.454794883728,\n",
       " 4595.870406389236,\n",
       " 4251.458527088165,\n",
       " 4427.852466344833,\n",
       " 4135.135190010071]"
      ]
     },
     "execution_count": 25,
     "metadata": {},
     "output_type": "execute_result"
    }
   ],
   "source": [
    "test_losses\n"
   ]
  },
  {
   "cell_type": "code",
   "execution_count": null,
   "id": "2c85eb18",
   "metadata": {},
   "outputs": [],
   "source": []
  }
 ],
 "metadata": {
  "kernelspec": {
   "display_name": "Python 3 (ipykernel)",
   "language": "python",
   "name": "python3"
  },
  "language_info": {
   "codemirror_mode": {
    "name": "ipython",
    "version": 3
   },
   "file_extension": ".py",
   "mimetype": "text/x-python",
   "name": "python",
   "nbconvert_exporter": "python",
   "pygments_lexer": "ipython3",
   "version": "3.11.6"
  }
 },
 "nbformat": 4,
 "nbformat_minor": 5
}
