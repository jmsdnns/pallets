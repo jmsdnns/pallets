{
 "cells": [
  {
   "cell_type": "markdown",
   "metadata": {},
   "source": [
    "# Labeled Convolutional CVAE"
   ]
  },
  {
   "cell_type": "code",
   "execution_count": 1,
   "id": "19d0f047",
   "metadata": {},
   "outputs": [],
   "source": [
    "import torch\n",
    "from torchvision import transforms\n",
    "from torch.utils.data import DataLoader, SubsetRandomSampler\n",
    "import matplotlib.pyplot as plt\n",
    "%matplotlib inline\n"
   ]
  },
  {
   "cell_type": "code",
   "execution_count": 2,
   "metadata": {},
   "outputs": [],
   "source": [
    "# Load pallets library from project root\n",
    "import sys, os\n",
    "sys.path.append(os.path.abspath(os.path.join(os.getcwd(), '..', '..')))\n",
    "\n",
    "from pallets import (\n",
    "    images as I,\n",
    "    datasets as DS,\n",
    "    models as M,\n",
    "    logging as L\n",
    ")"
   ]
  },
  {
   "cell_type": "markdown",
   "id": "844bbd48",
   "metadata": {},
   "source": [
    "# Settings"
   ]
  },
  {
   "cell_type": "code",
   "execution_count": 3,
   "id": "9b8ec428",
   "metadata": {},
   "outputs": [],
   "source": [
    "SAVE_NAME = 'cvae.labeledconv'"
   ]
  },
  {
   "cell_type": "code",
   "execution_count": 4,
   "id": "ae1b5c2f",
   "metadata": {},
   "outputs": [],
   "source": [
    "USE_GPU = True\n",
    "LOG_LEVEL = 'INFO'\n",
    "LABELS_FILE = 'pallets_labels.json'\n",
    "\n",
    "TEST_SIZE = 1000\n",
    "EPOCHS = 100\n",
    "LR = 3e-04\n",
    "BATCH_SIZE = 32\n"
   ]
  },
  {
   "cell_type": "code",
   "execution_count": 5,
   "metadata": {},
   "outputs": [
    {
     "data": {
      "text/plain": [
       "<Logger pallets (INFO)>"
      ]
     },
     "execution_count": 5,
     "metadata": {},
     "output_type": "execute_result"
    }
   ],
   "source": [
    "# To GPU, or not to GPU\n",
    "device = M.get_device(require_gpu=USE_GPU)\n",
    "\n",
    "# Logging\n",
    "L.init_logger(level=LOG_LEVEL, notebook=True)\n"
   ]
  },
  {
   "cell_type": "markdown",
   "metadata": {},
   "source": [
    "# Dataset"
   ]
  },
  {
   "cell_type": "code",
   "execution_count": 6,
   "id": "35fef1c0",
   "metadata": {},
   "outputs": [
    {
     "name": "stdout",
     "output_type": "stream",
     "text": [
      "INFO | loading punk images\n",
      "INFO | - image 0\n",
      "INFO | - image 1000\n",
      "INFO | - image 2000\n",
      "INFO | - image 3000\n",
      "INFO | - image 4000\n",
      "INFO | - image 5000\n",
      "INFO | - image 6000\n",
      "INFO | - image 7000\n",
      "INFO | - image 8000\n",
      "INFO | - image 9000\n",
      "INFO | punk images complete\n",
      "INFO | loading punk labels: pallets_labels.json\n"
     ]
    }
   ],
   "source": [
    "all_colors = I.get_punk_colors()\n",
    "mapper = DS.ColorOneHotMapper(all_colors)\n",
    "dataset = DS.OneHotCPunksDataset(\n",
    "    mapper, labels_file=LABELS_FILE, test_size=TEST_SIZE\n",
    ")\n",
    "\n",
    "# Uncomment to put entire dataset in GPU RAM\n",
    "# dataset = DS.FastOneHotCPunksDataset(\n",
    "#     device, mapper, labels_file=LABELS_FILE, test_size=TEST_SIZE\n",
    "# )"
   ]
  },
  {
   "cell_type": "code",
   "execution_count": 7,
   "metadata": {},
   "outputs": [],
   "source": [
    "train_sampler = SubsetRandomSampler(dataset.train_idx)\n",
    "test_sampler = SubsetRandomSampler(dataset.test_idx)\n",
    "\n",
    "train_loader = DataLoader(dataset, batch_size=BATCH_SIZE, sampler=train_sampler)\n",
    "test_loader = DataLoader(dataset, batch_size=BATCH_SIZE, sampler=test_sampler)"
   ]
  },
  {
   "cell_type": "markdown",
   "id": "b39e0222",
   "metadata": {},
   "source": [
    "# Training"
   ]
  },
  {
   "cell_type": "code",
   "execution_count": 8,
   "id": "7e4d5fd0",
   "metadata": {},
   "outputs": [],
   "source": [
    "input_dim = 222\n",
    "latent_dim = 32\n",
    "classes_dim = len(dataset._label_keys)  # 92"
   ]
  },
  {
   "cell_type": "code",
   "execution_count": 9,
   "id": "9521e7fe",
   "metadata": {},
   "outputs": [
    {
     "name": "stdout",
     "output_type": "stream",
     "text": [
      "INFO | model: pallets.models.cvae.LabeledConvCVAE\n",
      "INFO | criterion: pallets.models.cvae.Loss\n",
      "INFO | learn rate: 0.0003\n",
      "INFO | epochs: 100\n",
      "INFO | epoch 1 (  0%) loss: 2004287.875000\n",
      "INFO | epoch 1 ( 35%) loss: 341296.053682\n",
      "INFO | epoch 1 ( 70%) loss: 243350.869248\n",
      "INFO | epoch 1 (100%) loss: 213741.704704\n"
     ]
    },
    {
     "name": "stdout",
     "output_type": "stream",
     "text": [
      "INFO | epoch 1 (test) loss: 133000.371704\n",
      "INFO | epoch 2 (  0%) loss: 138496.281250\n",
      "INFO | epoch 2 ( 35%) loss: 136207.835396\n",
      "INFO | epoch 2 ( 70%) loss: 135232.631297\n",
      "INFO | epoch 2 (100%) loss: 134489.173343\n",
      "INFO | epoch 2 (test) loss: 128455.680786\n",
      "INFO | epoch 3 (  0%) loss: 135958.031250\n",
      "INFO | epoch 3 ( 35%) loss: 126584.844833\n",
      "INFO | epoch 3 ( 70%) loss: 119351.176695\n",
      "INFO | epoch 3 (100%) loss: 116366.099596\n",
      "INFO | epoch 3 (test) loss: 105924.974915\n",
      "INFO | epoch 4 (  0%) loss: 103909.234375\n",
      "INFO | epoch 4 ( 35%) loss: 108435.931467\n",
      "INFO | epoch 4 ( 70%) loss: 107630.513759\n",
      "INFO | epoch 4 (100%) loss: 106900.654844\n",
      "INFO | epoch 4 (test) loss: 102016.034241\n",
      "INFO | epoch 5 (  0%) loss: 103616.000000\n",
      "INFO | epoch 5 ( 35%) loss: 104717.695854\n",
      "INFO | epoch 5 ( 70%) loss: 103996.600552\n",
      "INFO | epoch 5 (100%) loss: 102801.422955\n",
      "INFO | epoch 5 (test) loss: 96950.574219\n",
      "INFO | epoch 6 (  0%) loss: 98531.296875\n",
      "INFO | epoch 6 ( 35%) loss: 98498.533957\n",
      "INFO | epoch 6 ( 70%) loss: 96499.810207\n",
      "INFO | epoch 6 (100%) loss: 94802.289007\n",
      "INFO | epoch 6 (test) loss: 87491.408020\n",
      "INFO | epoch 7 (  0%) loss: 85712.164062\n",
      "INFO | epoch 7 ( 35%) loss: 87338.432008\n",
      "INFO | epoch 7 ( 70%) loss: 85843.216379\n",
      "INFO | epoch 7 (100%) loss: 83970.190686\n",
      "INFO | epoch 7 (test) loss: 76980.825562\n",
      "INFO | epoch 8 (  0%) loss: 68910.843750\n",
      "INFO | epoch 8 ( 35%) loss: 76495.930964\n",
      "INFO | epoch 8 ( 70%) loss: 73942.382074\n",
      "INFO | epoch 8 (100%) loss: 72156.929868\n",
      "INFO | epoch 8 (test) loss: 65405.141846\n",
      "INFO | epoch 9 (  0%) loss: 65343.789062\n",
      "INFO | epoch 9 ( 35%) loss: 64058.430461\n",
      "INFO | epoch 9 ( 70%) loss: 62301.723628\n",
      "INFO | epoch 9 (100%) loss: 60750.986574\n",
      "INFO | epoch 9 (test) loss: 55412.779999\n",
      "INFO | epoch 10 (  0%) loss: 53510.632812\n",
      "INFO | epoch 10 ( 35%) loss: 53145.598236\n",
      "INFO | epoch 10 ( 70%) loss: 51475.012380\n",
      "INFO | epoch 10 (100%) loss: 49675.290382\n",
      "INFO | epoch 10 (test) loss: 45573.909637\n",
      "INFO | epoch 11 (  0%) loss: 36373.835938\n",
      "INFO | epoch 11 ( 35%) loss: 41979.136274\n",
      "INFO | epoch 11 ( 70%) loss: 40612.057243\n",
      "INFO | epoch 11 (100%) loss: 39333.526900\n",
      "INFO | epoch 11 (test) loss: 35861.988983\n",
      "INFO | epoch 12 (  0%) loss: 35107.691406\n",
      "INFO | epoch 12 ( 35%) loss: 32928.648476\n",
      "INFO | epoch 12 ( 70%) loss: 32216.058409\n",
      "INFO | epoch 12 (100%) loss: 31261.205043\n",
      "INFO | epoch 12 (test) loss: 28835.430023\n",
      "INFO | epoch 13 (  0%) loss: 23446.181641\n",
      "INFO | epoch 13 ( 35%) loss: 25775.927116\n",
      "INFO | epoch 13 ( 70%) loss: 25737.893812\n",
      "INFO | epoch 13 (100%) loss: 25235.515580\n",
      "INFO | epoch 13 (test) loss: 24673.881866\n",
      "INFO | epoch 14 (  0%) loss: 27062.759766\n",
      "INFO | epoch 14 ( 35%) loss: 21967.705068\n",
      "INFO | epoch 14 ( 70%) loss: 21370.925179\n",
      "INFO | epoch 14 (100%) loss: 20992.072517\n",
      "INFO | epoch 14 (test) loss: 21043.791031\n",
      "INFO | epoch 15 (  0%) loss: 15346.662109\n",
      "INFO | epoch 15 ( 35%) loss: 18297.724571\n",
      "INFO | epoch 15 ( 70%) loss: 18138.125160\n",
      "INFO | epoch 15 (100%) loss: 17972.577507\n",
      "INFO | epoch 15 (test) loss: 18746.996643\n",
      "INFO | epoch 16 (  0%) loss: 15595.474609\n",
      "INFO | epoch 16 ( 35%) loss: 15667.380163\n",
      "INFO | epoch 16 ( 70%) loss: 15575.434152\n",
      "INFO | epoch 16 (100%) loss: 15474.858606\n",
      "INFO | epoch 16 (test) loss: 16969.499649\n",
      "INFO | epoch 17 (  0%) loss: 15210.154297\n",
      "INFO | epoch 17 ( 35%) loss: 13909.309087\n",
      "INFO | epoch 17 ( 70%) loss: 13962.341809\n",
      "INFO | epoch 17 (100%) loss: 13820.845680\n",
      "INFO | epoch 17 (test) loss: 15116.141281\n",
      "INFO | epoch 18 (  0%) loss: 9605.312500\n",
      "INFO | epoch 18 ( 35%) loss: 12255.054891\n",
      "INFO | epoch 18 ( 70%) loss: 12265.370788\n",
      "INFO | epoch 18 (100%) loss: 12217.131623\n",
      "INFO | epoch 18 (test) loss: 15016.492828\n",
      "INFO | epoch 19 (  0%) loss: 14938.577148\n",
      "INFO | epoch 19 ( 35%) loss: 11427.215342\n",
      "INFO | epoch 19 ( 70%) loss: 11458.775199\n",
      "INFO | epoch 19 (100%) loss: 11110.329846\n",
      "INFO | epoch 19 (test) loss: 13702.921383\n",
      "INFO | epoch 20 (  0%) loss: 7388.055176\n",
      "INFO | epoch 20 ( 35%) loss: 10262.795434\n",
      "INFO | epoch 20 ( 70%) loss: 10354.443175\n",
      "INFO | epoch 20 (100%) loss: 10230.842226\n",
      "INFO | epoch 20 (test) loss: 12320.375263\n",
      "INFO | epoch 21 (  0%) loss: 9883.918945\n",
      "INFO | epoch 21 ( 35%) loss: 9073.668960\n",
      "INFO | epoch 21 ( 70%) loss: 9236.489481\n",
      "INFO | epoch 21 (100%) loss: 9299.721559\n",
      "INFO | epoch 21 (test) loss: 12028.130417\n",
      "INFO | epoch 22 (  0%) loss: 8426.198242\n",
      "INFO | epoch 22 ( 35%) loss: 8610.209081\n",
      "INFO | epoch 22 ( 70%) loss: 8463.408053\n",
      "INFO | epoch 22 (100%) loss: 8494.195160\n",
      "INFO | epoch 22 (test) loss: 11194.309814\n",
      "INFO | epoch 23 (  0%) loss: 8280.541992\n",
      "INFO | epoch 23 ( 35%) loss: 7889.913038\n",
      "INFO | epoch 23 ( 70%) loss: 7899.154411\n",
      "INFO | epoch 23 (100%) loss: 7902.033147\n",
      "INFO | epoch 23 (test) loss: 11207.536400\n",
      "INFO | epoch 24 (  0%) loss: 7615.074707\n",
      "INFO | epoch 24 ( 35%) loss: 7261.396470\n",
      "INFO | epoch 24 ( 70%) loss: 7245.968167\n",
      "INFO | epoch 24 (100%) loss: 7149.871460\n",
      "INFO | epoch 24 (test) loss: 9676.022888\n",
      "INFO | epoch 25 (  0%) loss: 5672.539062\n",
      "INFO | epoch 25 ( 35%) loss: 6589.320709\n",
      "INFO | epoch 25 ( 70%) loss: 6728.157394\n",
      "INFO | epoch 25 (100%) loss: 6739.614440\n",
      "INFO | epoch 25 (test) loss: 9096.269802\n",
      "INFO | epoch 26 (  0%) loss: 7541.099121\n",
      "INFO | epoch 26 ( 35%) loss: 6130.178227\n",
      "INFO | epoch 26 ( 70%) loss: 6340.171292\n",
      "INFO | epoch 26 (100%) loss: 6343.721729\n",
      "INFO | epoch 26 (test) loss: 8846.798618\n",
      "INFO | epoch 27 (  0%) loss: 6476.531738\n",
      "INFO | epoch 27 ( 35%) loss: 6177.751999\n",
      "INFO | epoch 27 ( 70%) loss: 5829.761222\n",
      "INFO | epoch 27 (100%) loss: 5823.968597\n",
      "INFO | epoch 27 (test) loss: 7784.460312\n",
      "INFO | epoch 28 (  0%) loss: 4117.946289\n",
      "INFO | epoch 28 ( 35%) loss: 5044.409148\n",
      "INFO | epoch 28 ( 70%) loss: 5068.761549\n",
      "INFO | epoch 28 (100%) loss: 5134.686444\n",
      "INFO | epoch 28 (test) loss: 7088.215843\n",
      "INFO | epoch 29 (  0%) loss: 6085.465820\n",
      "INFO | epoch 29 ( 35%) loss: 4830.961827\n",
      "INFO | epoch 29 ( 70%) loss: 4641.633098\n",
      "INFO | epoch 29 (100%) loss: 4661.374807\n",
      "INFO | epoch 29 (test) loss: 6687.934326\n",
      "INFO | epoch 30 (  0%) loss: 8617.398438\n",
      "INFO | epoch 30 ( 35%) loss: 4458.865331\n",
      "INFO | epoch 30 ( 70%) loss: 4424.124521\n",
      "INFO | epoch 30 (100%) loss: 4332.990469\n",
      "INFO | epoch 30 (test) loss: 6281.564339\n",
      "INFO | epoch 31 (  0%) loss: 4936.658203\n",
      "INFO | epoch 31 ( 35%) loss: 3557.096114\n",
      "INFO | epoch 31 ( 70%) loss: 3644.186393\n",
      "INFO | epoch 31 (100%) loss: 3662.280188\n",
      "INFO | epoch 31 (test) loss: 5763.804443\n",
      "INFO | epoch 32 (  0%) loss: 4511.400879\n",
      "INFO | epoch 32 ( 35%) loss: 3260.754982\n",
      "INFO | epoch 32 ( 70%) loss: 3320.333253\n",
      "INFO | epoch 32 (100%) loss: 3372.052765\n",
      "INFO | epoch 32 (test) loss: 5827.169319\n",
      "INFO | epoch 33 (  0%) loss: 4085.617432\n",
      "INFO | epoch 33 ( 35%) loss: 3016.022523\n",
      "INFO | epoch 33 ( 70%) loss: 2961.417838\n",
      "INFO | epoch 33 (100%) loss: 2903.904190\n",
      "INFO | epoch 33 (test) loss: 5291.652153\n",
      "INFO | epoch 34 (  0%) loss: 2759.962158\n",
      "INFO | epoch 34 ( 35%) loss: 2531.953923\n",
      "INFO | epoch 34 ( 70%) loss: 2758.072799\n",
      "INFO | epoch 34 (100%) loss: 2776.965913\n",
      "INFO | epoch 34 (test) loss: 4863.816154\n",
      "INFO | epoch 35 (  0%) loss: 1695.266479\n",
      "INFO | epoch 35 ( 35%) loss: 2665.590175\n",
      "INFO | epoch 35 ( 70%) loss: 2927.338053\n",
      "INFO | epoch 35 (100%) loss: 2934.964479\n",
      "INFO | epoch 35 (test) loss: 4462.826752\n",
      "INFO | epoch 36 (  0%) loss: 2174.990479\n",
      "INFO | epoch 36 ( 35%) loss: 2653.811899\n",
      "INFO | epoch 36 ( 70%) loss: 2573.869187\n",
      "INFO | epoch 36 (100%) loss: 2592.758338\n",
      "INFO | epoch 36 (test) loss: 4525.517822\n",
      "INFO | epoch 37 (  0%) loss: 2019.153564\n",
      "INFO | epoch 37 ( 35%) loss: 1958.037392\n",
      "INFO | epoch 37 ( 70%) loss: 2023.404372\n",
      "INFO | epoch 37 (100%) loss: 2003.028008\n",
      "INFO | epoch 37 (test) loss: 4056.824663\n",
      "INFO | epoch 38 (  0%) loss: 2047.035522\n",
      "INFO | epoch 38 ( 35%) loss: 1887.942660\n",
      "INFO | epoch 38 ( 70%) loss: 1807.598407\n",
      "INFO | epoch 38 (100%) loss: 1798.227123\n",
      "INFO | epoch 38 (test) loss: 4071.848349\n",
      "INFO | epoch 39 (  0%) loss: 1940.219849\n",
      "INFO | epoch 39 ( 35%) loss: 1794.608245\n",
      "INFO | epoch 39 ( 70%) loss: 1839.448908\n",
      "INFO | epoch 39 (100%) loss: 1826.768225\n",
      "INFO | epoch 39 (test) loss: 4059.816814\n",
      "INFO | epoch 40 (  0%) loss: 1955.628296\n",
      "INFO | epoch 40 ( 35%) loss: 1625.790544\n",
      "INFO | epoch 40 ( 70%) loss: 1599.882996\n",
      "INFO | epoch 40 (100%) loss: 1636.545142\n",
      "INFO | epoch 40 (test) loss: 3642.423631\n",
      "INFO | epoch 41 (  0%) loss: 1272.500366\n",
      "INFO | epoch 41 ( 35%) loss: 1448.550760\n",
      "INFO | epoch 41 ( 70%) loss: 1467.042984\n",
      "INFO | epoch 41 (100%) loss: 1545.599007\n",
      "INFO | epoch 41 (test) loss: 3794.799917\n",
      "INFO | epoch 42 (  0%) loss: 1794.164429\n",
      "INFO | epoch 42 ( 35%) loss: 1738.552943\n",
      "INFO | epoch 42 ( 70%) loss: 1880.087417\n",
      "INFO | epoch 42 (100%) loss: 1897.548368\n",
      "INFO | epoch 42 (test) loss: 3372.621134\n",
      "INFO | epoch 43 (  0%) loss: 1443.047729\n",
      "INFO | epoch 43 ( 35%) loss: 1739.263350\n",
      "INFO | epoch 43 ( 70%) loss: 1730.687143\n",
      "INFO | epoch 43 (100%) loss: 1688.314819\n",
      "INFO | epoch 43 (test) loss: 3327.865720\n",
      "INFO | epoch 44 (  0%) loss: 1411.379883\n",
      "INFO | epoch 44 ( 35%) loss: 1442.217670\n",
      "INFO | epoch 44 ( 70%) loss: 1471.979555\n",
      "INFO | epoch 44 (100%) loss: 1400.180260\n",
      "INFO | epoch 44 (test) loss: 3322.934674\n",
      "INFO | epoch 45 (  0%) loss: 1015.076477\n",
      "INFO | epoch 45 ( 35%) loss: 1167.279555\n",
      "INFO | epoch 45 ( 70%) loss: 1086.428132\n",
      "INFO | epoch 45 (100%) loss: 1109.065339\n",
      "INFO | epoch 45 (test) loss: 2984.430141\n",
      "INFO | epoch 46 (  0%) loss: 895.116333\n",
      "INFO | epoch 46 ( 35%) loss: 1128.025482\n",
      "INFO | epoch 46 ( 70%) loss: 1146.183172\n",
      "INFO | epoch 46 (100%) loss: 1198.377919\n",
      "INFO | epoch 46 (test) loss: 3141.812654\n",
      "INFO | epoch 47 (  0%) loss: 977.397583\n",
      "INFO | epoch 47 ( 35%) loss: 1704.566118\n",
      "INFO | epoch 47 ( 70%) loss: 1643.359700\n",
      "INFO | epoch 47 (100%) loss: 1566.698915\n",
      "INFO | epoch 47 (test) loss: 3083.859137\n",
      "INFO | epoch 48 (  0%) loss: 1035.987305\n",
      "INFO | epoch 48 ( 35%) loss: 1174.644882\n",
      "INFO | epoch 48 ( 70%) loss: 1110.869382\n",
      "INFO | epoch 48 (100%) loss: 1072.068588\n",
      "INFO | epoch 48 (test) loss: 3238.119494\n",
      "INFO | epoch 49 (  0%) loss: 1524.437622\n",
      "INFO | epoch 49 ( 35%) loss: 980.023967\n",
      "INFO | epoch 49 ( 70%) loss: 943.114219\n",
      "INFO | epoch 49 (100%) loss: 924.840557\n",
      "INFO | epoch 49 (test) loss: 2776.185473\n",
      "INFO | epoch 50 (  0%) loss: 630.836853\n",
      "INFO | epoch 50 ( 35%) loss: 1017.166098\n",
      "INFO | epoch 50 ( 70%) loss: 1022.937288\n",
      "INFO | epoch 50 (100%) loss: 1020.531648\n",
      "INFO | epoch 50 (test) loss: 2694.088549\n",
      "INFO | epoch 51 (  0%) loss: 746.481873\n",
      "INFO | epoch 51 ( 35%) loss: 883.224963\n",
      "INFO | epoch 51 ( 70%) loss: 918.616449\n",
      "INFO | epoch 51 (100%) loss: 947.432781\n",
      "INFO | epoch 51 (test) loss: 2678.376534\n",
      "INFO | epoch 52 (  0%) loss: 675.690674\n",
      "INFO | epoch 52 ( 35%) loss: 987.810422\n",
      "INFO | epoch 52 ( 70%) loss: 983.410305\n",
      "INFO | epoch 52 (100%) loss: 961.087620\n",
      "INFO | epoch 52 (test) loss: 2542.619751\n",
      "INFO | epoch 53 (  0%) loss: 731.433960\n",
      "INFO | epoch 53 ( 35%) loss: 1025.912063\n",
      "INFO | epoch 53 ( 70%) loss: 1075.796066\n",
      "INFO | epoch 53 (100%) loss: 1165.002985\n",
      "INFO | epoch 53 (test) loss: 3171.676010\n",
      "INFO | epoch 54 (  0%) loss: 872.364624\n",
      "INFO | epoch 54 ( 35%) loss: 1157.030470\n",
      "INFO | epoch 54 ( 70%) loss: 1181.725700\n",
      "INFO | epoch 54 (100%) loss: 1138.552929\n",
      "INFO | epoch 54 (test) loss: 2537.070776\n",
      "INFO | epoch 55 (  0%) loss: 615.920593\n",
      "INFO | epoch 55 ( 35%) loss: 876.370592\n",
      "INFO | epoch 55 ( 70%) loss: 822.807588\n",
      "INFO | epoch 55 (100%) loss: 791.977247\n",
      "INFO | epoch 55 (test) loss: 2161.219016\n",
      "INFO | epoch 56 (  0%) loss: 553.459656\n",
      "INFO | epoch 56 ( 35%) loss: 678.825769\n",
      "INFO | epoch 56 ( 70%) loss: 645.725177\n",
      "INFO | epoch 56 (100%) loss: 619.082545\n",
      "INFO | epoch 56 (test) loss: 2166.039433\n",
      "INFO | epoch 57 (  0%) loss: 483.801147\n",
      "INFO | epoch 57 ( 35%) loss: 515.766725\n",
      "INFO | epoch 57 ( 70%) loss: 554.932786\n",
      "INFO | epoch 57 (100%) loss: 560.120515\n",
      "INFO | epoch 57 (test) loss: 2478.589417\n",
      "INFO | epoch 58 (  0%) loss: 626.164978\n",
      "INFO | epoch 58 ( 35%) loss: 658.039544\n",
      "INFO | epoch 58 ( 70%) loss: 655.604843\n",
      "INFO | epoch 58 (100%) loss: 675.093489\n",
      "INFO | epoch 58 (test) loss: 2572.203139\n",
      "INFO | epoch 59 (  0%) loss: 478.210907\n",
      "INFO | epoch 59 ( 35%) loss: 652.300346\n",
      "INFO | epoch 59 ( 70%) loss: 615.141468\n",
      "INFO | epoch 59 (100%) loss: 595.133109\n",
      "INFO | epoch 59 (test) loss: 2191.064168\n",
      "INFO | epoch 60 (  0%) loss: 370.861450\n",
      "INFO | epoch 60 ( 35%) loss: 571.986210\n",
      "INFO | epoch 60 ( 70%) loss: 552.993647\n",
      "INFO | epoch 60 (100%) loss: 625.325881\n",
      "INFO | epoch 60 (test) loss: 2524.018863\n",
      "INFO | epoch 61 (  0%) loss: 553.186584\n",
      "INFO | epoch 61 ( 35%) loss: 660.243522\n",
      "INFO | epoch 61 ( 70%) loss: 909.201925\n",
      "INFO | epoch 61 (100%) loss: 1037.313883\n",
      "INFO | epoch 61 (test) loss: 3244.136475\n",
      "INFO | epoch 62 (  0%) loss: 1819.900879\n",
      "INFO | epoch 62 ( 35%) loss: 1026.458898\n",
      "INFO | epoch 62 ( 70%) loss: 929.331406\n",
      "INFO | epoch 62 (100%) loss: 928.732832\n",
      "INFO | epoch 62 (test) loss: 2331.102068\n",
      "INFO | epoch 63 (  0%) loss: 995.106934\n",
      "INFO | epoch 63 ( 35%) loss: 754.664676\n",
      "INFO | epoch 63 ( 70%) loss: 646.171077\n",
      "INFO | epoch 63 (100%) loss: 629.421973\n",
      "INFO | epoch 63 (test) loss: 2254.996226\n",
      "INFO | epoch 64 (  0%) loss: 506.645844\n",
      "INFO | epoch 64 ( 35%) loss: 668.927475\n",
      "INFO | epoch 64 ( 70%) loss: 622.080319\n",
      "INFO | epoch 64 (100%) loss: 582.005454\n",
      "INFO | epoch 64 (test) loss: 2062.323269\n",
      "INFO | epoch 65 (  0%) loss: 407.435242\n",
      "INFO | epoch 65 ( 35%) loss: 414.030904\n",
      "INFO | epoch 65 ( 70%) loss: 398.800444\n",
      "INFO | epoch 65 (100%) loss: 436.545869\n",
      "INFO | epoch 65 (test) loss: 2098.344868\n",
      "INFO | epoch 66 (  0%) loss: 440.349762\n",
      "INFO | epoch 66 ( 35%) loss: 488.017492\n",
      "INFO | epoch 66 ( 70%) loss: 445.185891\n",
      "INFO | epoch 66 (100%) loss: 429.326161\n",
      "INFO | epoch 66 (test) loss: 1991.734621\n",
      "INFO | epoch 67 (  0%) loss: 792.446411\n",
      "INFO | epoch 67 ( 35%) loss: 358.459391\n",
      "INFO | epoch 67 ( 70%) loss: 338.215647\n",
      "INFO | epoch 67 (100%) loss: 358.712817\n",
      "INFO | epoch 67 (test) loss: 2387.889230\n",
      "INFO | epoch 68 (  0%) loss: 409.670532\n",
      "INFO | epoch 68 ( 35%) loss: 489.481970\n",
      "INFO | epoch 68 ( 70%) loss: 492.396128\n",
      "INFO | epoch 68 (100%) loss: 488.302799\n",
      "INFO | epoch 68 (test) loss: 2527.344690\n",
      "INFO | epoch 69 (  0%) loss: 331.742950\n",
      "INFO | epoch 69 ( 35%) loss: 440.347860\n",
      "INFO | epoch 69 ( 70%) loss: 504.552019\n",
      "INFO | epoch 69 (100%) loss: 634.069327\n",
      "INFO | epoch 69 (test) loss: 2907.105762\n",
      "INFO | epoch 70 (  0%) loss: 587.613892\n",
      "INFO | epoch 70 ( 35%) loss: 940.901453\n",
      "INFO | epoch 70 ( 70%) loss: 863.950605\n",
      "INFO | epoch 70 (100%) loss: 796.617071\n",
      "INFO | epoch 70 (test) loss: 2269.618068\n",
      "INFO | epoch 71 (  0%) loss: 463.601227\n",
      "INFO | epoch 71 ( 35%) loss: 592.356795\n",
      "INFO | epoch 71 ( 70%) loss: 490.124517\n",
      "INFO | epoch 71 (100%) loss: 441.004522\n",
      "INFO | epoch 71 (test) loss: 2113.955061\n",
      "INFO | epoch 72 (  0%) loss: 320.578125\n",
      "INFO | epoch 72 ( 35%) loss: 310.301703\n",
      "INFO | epoch 72 ( 70%) loss: 334.895003\n",
      "INFO | epoch 72 (100%) loss: 338.054272\n",
      "INFO | epoch 72 (test) loss: 2254.307319\n",
      "INFO | epoch 73 (  0%) loss: 209.336151\n",
      "INFO | epoch 73 ( 35%) loss: 266.647466\n",
      "INFO | epoch 73 ( 70%) loss: 264.245569\n",
      "INFO | epoch 73 (100%) loss: 269.945272\n",
      "INFO | epoch 73 (test) loss: 1973.796232\n",
      "INFO | epoch 74 (  0%) loss: 317.968170\n",
      "INFO | epoch 74 ( 35%) loss: 248.982281\n",
      "INFO | epoch 74 ( 70%) loss: 253.180082\n",
      "INFO | epoch 74 (100%) loss: 295.576509\n",
      "INFO | epoch 74 (test) loss: 2319.774501\n",
      "INFO | epoch 75 (  0%) loss: 769.191528\n",
      "INFO | epoch 75 ( 35%) loss: 470.155182\n",
      "INFO | epoch 75 ( 70%) loss: 445.859308\n",
      "INFO | epoch 75 (100%) loss: 453.136996\n",
      "INFO | epoch 75 (test) loss: 3054.686007\n",
      "INFO | epoch 76 (  0%) loss: 1114.906494\n",
      "INFO | epoch 76 ( 35%) loss: 524.369851\n",
      "INFO | epoch 76 ( 70%) loss: 502.001052\n",
      "INFO | epoch 76 (100%) loss: 573.726262\n",
      "INFO | epoch 76 (test) loss: 3048.964077\n",
      "INFO | epoch 77 (  0%) loss: 643.729675\n",
      "INFO | epoch 77 ( 35%) loss: 1029.890734\n",
      "INFO | epoch 77 ( 70%) loss: 960.434494\n",
      "INFO | epoch 77 (100%) loss: 881.320612\n",
      "INFO | epoch 77 (test) loss: 2332.811080\n",
      "INFO | epoch 78 (  0%) loss: 383.687195\n",
      "INFO | epoch 78 ( 35%) loss: 471.088551\n",
      "INFO | epoch 78 ( 70%) loss: 493.468486\n",
      "INFO | epoch 78 (100%) loss: 592.593442\n",
      "INFO | epoch 78 (test) loss: 2899.383556\n",
      "INFO | epoch 79 (  0%) loss: 402.222839\n",
      "INFO | epoch 79 ( 35%) loss: 758.320991\n",
      "INFO | epoch 79 ( 70%) loss: 581.098840\n",
      "INFO | epoch 79 (100%) loss: 522.390233\n",
      "INFO | epoch 79 (test) loss: 1840.768051\n",
      "INFO | epoch 80 (  0%) loss: 252.528336\n",
      "INFO | epoch 80 ( 35%) loss: 316.470367\n",
      "INFO | epoch 80 ( 70%) loss: 313.739631\n",
      "INFO | epoch 80 (100%) loss: 301.972271\n",
      "INFO | epoch 80 (test) loss: 1766.178163\n",
      "INFO | epoch 81 (  0%) loss: 180.096313\n",
      "INFO | epoch 81 ( 35%) loss: 223.129934\n",
      "INFO | epoch 81 ( 70%) loss: 223.061755\n",
      "INFO | epoch 81 (100%) loss: 218.459877\n",
      "INFO | epoch 81 (test) loss: 1785.673540\n",
      "INFO | epoch 82 (  0%) loss: 178.849991\n",
      "INFO | epoch 82 ( 35%) loss: 207.255051\n",
      "INFO | epoch 82 ( 70%) loss: 205.232899\n",
      "INFO | epoch 82 (100%) loss: 202.276268\n",
      "INFO | epoch 82 (test) loss: 1791.741385\n",
      "INFO | epoch 83 (  0%) loss: 173.410797\n",
      "INFO | epoch 83 ( 35%) loss: 187.577811\n",
      "INFO | epoch 83 ( 70%) loss: 190.607955\n",
      "INFO | epoch 83 (100%) loss: 188.914206\n",
      "INFO | epoch 83 (test) loss: 1735.975109\n",
      "INFO | epoch 84 (  0%) loss: 144.293793\n",
      "INFO | epoch 84 ( 35%) loss: 181.829596\n",
      "INFO | epoch 84 ( 70%) loss: 241.916404\n",
      "INFO | epoch 84 (100%) loss: 277.572479\n",
      "INFO | epoch 84 (test) loss: 2178.490827\n",
      "INFO | epoch 85 (  0%) loss: 229.412460\n",
      "INFO | epoch 85 ( 35%) loss: 364.839334\n",
      "INFO | epoch 85 ( 70%) loss: 453.051854\n",
      "INFO | epoch 85 (100%) loss: 515.187637\n",
      "INFO | epoch 85 (test) loss: 2428.006275\n",
      "INFO | epoch 86 (  0%) loss: 341.925598\n",
      "INFO | epoch 86 ( 35%) loss: 507.610659\n",
      "INFO | epoch 86 ( 70%) loss: 621.712154\n",
      "INFO | epoch 86 (100%) loss: 623.341031\n",
      "INFO | epoch 86 (test) loss: 2503.139044\n",
      "INFO | epoch 87 (  0%) loss: 286.647888\n",
      "INFO | epoch 87 ( 35%) loss: 621.623274\n",
      "INFO | epoch 87 ( 70%) loss: 539.317691\n",
      "INFO | epoch 87 (100%) loss: 498.309758\n",
      "INFO | epoch 87 (test) loss: 2308.121361\n",
      "INFO | epoch 88 (  0%) loss: 178.683716\n",
      "INFO | epoch 88 ( 35%) loss: 239.984377\n",
      "INFO | epoch 88 ( 70%) loss: 222.948416\n",
      "INFO | epoch 88 (100%) loss: 212.812982\n",
      "INFO | epoch 88 (test) loss: 1696.496801\n",
      "INFO | epoch 89 (  0%) loss: 134.893402\n",
      "INFO | epoch 89 ( 35%) loss: 182.855148\n",
      "INFO | epoch 89 ( 70%) loss: 183.293522\n",
      "INFO | epoch 89 (100%) loss: 184.591562\n",
      "INFO | epoch 89 (test) loss: 1894.121488\n",
      "INFO | epoch 90 (  0%) loss: 181.455963\n",
      "INFO | epoch 90 ( 35%) loss: 200.979850\n",
      "INFO | epoch 90 ( 70%) loss: 251.610166\n",
      "INFO | epoch 90 (100%) loss: 251.693922\n",
      "INFO | epoch 90 (test) loss: 1891.777476\n",
      "INFO | epoch 91 (  0%) loss: 154.579926\n",
      "INFO | epoch 91 ( 35%) loss: 185.725022\n",
      "INFO | epoch 91 ( 70%) loss: 192.363501\n",
      "INFO | epoch 91 (100%) loss: 200.401614\n",
      "INFO | epoch 91 (test) loss: 2579.853179\n",
      "INFO | epoch 92 (  0%) loss: 150.851334\n",
      "INFO | epoch 92 ( 35%) loss: 189.531582\n",
      "INFO | epoch 92 ( 70%) loss: 226.827334\n",
      "INFO | epoch 92 (100%) loss: 316.219948\n",
      "INFO | epoch 92 (test) loss: 4681.420797\n",
      "INFO | epoch 93 (  0%) loss: 375.751953\n",
      "INFO | epoch 93 ( 35%) loss: 963.144894\n",
      "INFO | epoch 93 ( 70%) loss: 794.174619\n",
      "INFO | epoch 93 (100%) loss: 698.413171\n",
      "INFO | epoch 93 (test) loss: 2072.084081\n",
      "INFO | epoch 94 (  0%) loss: 289.800690\n",
      "INFO | epoch 94 ( 35%) loss: 352.819381\n",
      "INFO | epoch 94 ( 70%) loss: 345.821592\n",
      "INFO | epoch 94 (100%) loss: 335.790633\n",
      "INFO | epoch 94 (test) loss: 2331.405962\n",
      "INFO | epoch 95 (  0%) loss: 230.145126\n",
      "INFO | epoch 95 ( 35%) loss: 287.265940\n",
      "INFO | epoch 95 ( 70%) loss: 249.758823\n",
      "INFO | epoch 95 (100%) loss: 234.749020\n",
      "INFO | epoch 95 (test) loss: 1706.087202\n",
      "INFO | epoch 96 (  0%) loss: 132.657761\n",
      "INFO | epoch 96 ( 35%) loss: 159.194528\n",
      "INFO | epoch 96 ( 70%) loss: 157.117607\n",
      "INFO | epoch 96 (100%) loss: 176.955474\n",
      "INFO | epoch 96 (test) loss: 1655.174997\n",
      "INFO | epoch 97 (  0%) loss: 143.859665\n",
      "INFO | epoch 97 ( 35%) loss: 229.453743\n",
      "INFO | epoch 97 ( 70%) loss: 243.645767\n",
      "INFO | epoch 97 (100%) loss: 278.963334\n",
      "INFO | epoch 97 (test) loss: 1725.291480\n",
      "INFO | epoch 98 (  0%) loss: 178.184357\n",
      "INFO | epoch 98 ( 35%) loss: 182.793227\n",
      "INFO | epoch 98 ( 70%) loss: 276.060919\n",
      "INFO | epoch 98 (100%) loss: 317.366788\n",
      "INFO | epoch 98 (test) loss: 2111.925069\n",
      "INFO | epoch 99 (  0%) loss: 256.506104\n",
      "INFO | epoch 99 ( 35%) loss: 663.973750\n",
      "INFO | epoch 99 ( 70%) loss: 648.948542\n",
      "INFO | epoch 99 (100%) loss: 560.088973\n",
      "INFO | epoch 99 (test) loss: 1946.974045\n",
      "INFO | epoch 100 (  0%) loss: 237.620575\n",
      "INFO | epoch 100 ( 35%) loss: 291.531364\n",
      "INFO | epoch 100 ( 70%) loss: 288.425542\n",
      "INFO | epoch 100 (100%) loss: 269.713331\n",
      "INFO | epoch 100 (test) loss: 1786.471576\n",
      "INFO | model blob saved to /home/jmsdnns/ML/pallets/saved/cvae.labeledconv.pkl\n",
      "INFO | training losses saved to /home/jmsdnns/ML/pallets/saved/cvae.labeledconv.json\n"
     ]
    }
   ],
   "source": [
    "model = M.cvae.LabeledConvCVAE(input_dim, latent_dim, classes_dim)\n",
    "criterion = M.cvae.Loss()\n",
    "\n",
    "train_losses, test_losses = M.cvae.train(\n",
    "    device, model, criterion, train_loader, test_loader,\n",
    "    learn_rate=LR, epochs=EPOCHS, conditional_loss=True\n",
    ")\n",
    "\n",
    "M.save(SAVE_NAME, model, train_losses, test_losses)"
   ]
  },
  {
   "cell_type": "markdown",
   "id": "77fb32ad",
   "metadata": {},
   "source": [
    "# Results"
   ]
  },
  {
   "cell_type": "markdown",
   "id": "18005438",
   "metadata": {},
   "source": [
    "## Random Inputs w/ Real Labels"
   ]
  },
  {
   "cell_type": "code",
   "execution_count": 10,
   "id": "f2b9d212",
   "metadata": {},
   "outputs": [],
   "source": [
    "import random\n",
    "\n",
    "def rand_label():\n",
    "    label_idx = int(random.random() * len(dataset._labels))\n",
    "    features = dataset._labels[label_idx]\n",
    "    enabled_names = [k for k,v in zip(dataset._label_keys, features) if v.item() == 1]\n",
    "    return features.to(device), enabled_names\n"
   ]
  },
  {
   "cell_type": "code",
   "execution_count": 11,
   "id": "38c47d81",
   "metadata": {},
   "outputs": [],
   "source": [
    "# Generate new image\n",
    "\n",
    "def rand_punk():\n",
    "    z = torch.randn(1, latent_dim).to(device)\n",
    "    # print(z.shape)\n",
    "    features, names = rand_label()\n",
    "    print(f\"Features: {', '.join(names)}\")\n",
    "\n",
    "    with torch.no_grad():\n",
    "        model.eval()\n",
    "        generated_image = model.decoder(z, features.unsqueeze(0))\n",
    "        # print(generated_image.shape)\n",
    "\n",
    "    decoded_one_hot = generated_image[0][:222, :, :]\n",
    "    decoded_one_hot = decoded_one_hot.view((222, 24, 24))\n",
    "    # print(decoded_one_hot.shape)\n",
    "    decoded = DS.one_hot_to_rgba(decoded_one_hot, dataset.mapper)\n",
    "    print(f\"Shape: {decoded.shape}\")\n",
    "    return decoded\n"
   ]
  },
  {
   "cell_type": "markdown",
   "id": "31e74ceb",
   "metadata": {},
   "source": [
    "### 5 Randoms w/ Real Labels"
   ]
  },
  {
   "cell_type": "code",
   "execution_count": 12,
   "metadata": {},
   "outputs": [
    {
     "name": "stdout",
     "output_type": "stream",
     "text": [
      "Features: male, knittedCap, nerdGlasses, earring\n",
      "Shape: torch.Size([4, 24, 24])\n",
      "torch.Size([4, 24, 24])\n"
     ]
    },
    {
     "data": {
      "image/png": "[encoded data removed]",
      "text/plain": [
       "<Figure size 640x480 with 1 Axes>"
      ]
     },
     "metadata": {},
     "output_type": "display_data"
    }
   ],
   "source": [
    "decoded = rand_punk()\n",
    "print(decoded.shape)\n",
    "\n",
    "plt.imshow(transforms.functional.to_pil_image(decoded))\n",
    "plt.axis('off')\n",
    "plt.show()\n"
   ]
  },
  {
   "cell_type": "code",
   "execution_count": 13,
   "id": "6744444a",
   "metadata": {},
   "outputs": [
    {
     "name": "stdout",
     "output_type": "stream",
     "text": [
      "Features: female, crazyHair, nerdGlasses, purpleLipstick\n",
      "Shape: torch.Size([4, 24, 24])\n"
     ]
    },
    {
     "data": {
      "image/png": "[encoded data removed]",
      "text/plain": [
       "<Figure size 640x480 with 1 Axes>"
      ]
     },
     "metadata": {},
     "output_type": "display_data"
    }
   ],
   "source": [
    "decoded = rand_punk()\n",
    "\n",
    "plt.imshow(transforms.functional.to_pil_image(decoded))\n",
    "plt.axis('off')\n",
    "plt.show()\n"
   ]
  },
  {
   "cell_type": "code",
   "execution_count": 14,
   "id": "e190c583",
   "metadata": {},
   "outputs": [
    {
     "name": "stdout",
     "output_type": "stream",
     "text": [
      "Features: male, clownHairGreen, bigShades\n",
      "Shape: torch.Size([4, 24, 24])\n"
     ]
    },
    {
     "data": {
      "image/png": "[encoded data removed]",
      "text/plain": [
       "<Figure size 640x480 with 1 Axes>"
      ]
     },
     "metadata": {},
     "output_type": "display_data"
    }
   ],
   "source": [
    "decoded = rand_punk()\n",
    "\n",
    "plt.imshow(transforms.functional.to_pil_image(decoded))\n",
    "plt.axis('off')\n",
    "plt.show()\n"
   ]
  },
  {
   "cell_type": "code",
   "execution_count": 15,
   "id": "be357c27",
   "metadata": {},
   "outputs": [
    {
     "name": "stdout",
     "output_type": "stream",
     "text": [
      "Features: male, smallShades, stringyHair, earring\n",
      "Shape: torch.Size([4, 24, 24])\n"
     ]
    },
    {
     "data": {
      "image/png": "[encoded data removed]",
      "text/plain": [
       "<Figure size 640x480 with 1 Axes>"
      ]
     },
     "metadata": {},
     "output_type": "display_data"
    }
   ],
   "source": [
    "decoded = rand_punk()\n",
    "\n",
    "plt.imshow(transforms.functional.to_pil_image(decoded))\n",
    "plt.axis('off')\n",
    "plt.show()\n"
   ]
  },
  {
   "cell_type": "code",
   "execution_count": 16,
   "id": "d8f339ae",
   "metadata": {},
   "outputs": [
    {
     "name": "stdout",
     "output_type": "stream",
     "text": [
      "Features: female, blondeBob, regularShades, hotLipstick\n",
      "Shape: torch.Size([4, 24, 24])\n"
     ]
    },
    {
     "data": {
      "image/png": "[encoded data removed]",
      "text/plain": [
       "<Figure size 640x480 with 1 Axes>"
      ]
     },
     "metadata": {},
     "output_type": "display_data"
    }
   ],
   "source": [
    "decoded = rand_punk()\n",
    "\n",
    "plt.imshow(transforms.functional.to_pil_image(decoded))\n",
    "plt.axis('off')\n",
    "plt.show()\n"
   ]
  },
  {
   "cell_type": "markdown",
   "id": "3e1bd761",
   "metadata": {},
   "source": [
    "## Reconstruction"
   ]
  },
  {
   "cell_type": "code",
   "execution_count": 17,
   "id": "a150efab",
   "metadata": {},
   "outputs": [],
   "source": [
    "def reconstruct_punk(idx):\n",
    "    punk = I.get_punk_tensor(idx)\n",
    "    p = DS.rgba_to_one_hot(punk, dataset.mapper)\n",
    "    p = p.unsqueeze(0)\n",
    "    p = p.to(device)\n",
    "\n",
    "    _, labels = dataset[idx]\n",
    "    l = labels.unsqueeze(0)\n",
    "    l = l.to(device)\n",
    "    enabled_features = [k for k,v in zip(dataset._label_keys, labels) if v.item() == 1]\n",
    "\n",
    "    model.eval()\n",
    "    with torch.no_grad():\n",
    "        reconstructed, mu, logvar = model.forward(p, l)\n",
    "\n",
    "    recon_punk = reconstructed[0][:222, :, :].cpu()\n",
    "    recon_punk = DS.one_hot_to_rgba(recon_punk, dataset.mapper)\n",
    "\n",
    "    return punk, recon_punk, enabled_features\n",
    "\n",
    "\n",
    "def draw_two(img1, img2):\n",
    "    page_size = 2\n",
    "    view_x, view_y = 4*page_size, 2*page_size\n",
    "    fig = plt.figure(figsize=(view_x, view_y))\n",
    "    fig.add_subplot(1, 2, 1)\n",
    "    plt.imshow(transforms.functional.to_pil_image(img1))\n",
    "    plt.axis('off')\n",
    "    fig.add_subplot(1, 2, 2)\n",
    "    plt.imshow(transforms.functional.to_pil_image(img2))\n",
    "    plt.axis('off')\n",
    "    plt.show()\n"
   ]
  },
  {
   "cell_type": "markdown",
   "id": "7a12b220",
   "metadata": {},
   "source": [
    "### 5 Reconstructions"
   ]
  },
  {
   "cell_type": "code",
   "execution_count": 18,
   "id": "142e642d",
   "metadata": {},
   "outputs": [
    {
     "name": "stdout",
     "output_type": "stream",
     "text": [
      "Features: female, rosyCheeks, darkHair, cigarette\n"
     ]
    },
    {
     "data": {
      "image/png": "[encoded data removed]",
      "text/plain": [
       "<Figure size 800x400 with 2 Axes>"
      ]
     },
     "metadata": {},
     "output_type": "display_data"
    }
   ],
   "source": [
    "punk, recon_punk, features = reconstruct_punk(1000)\n",
    "\n",
    "print(f\"Features: {', '.join(features)}\")\n",
    "draw_two(punk, recon_punk)"
   ]
  },
  {
   "cell_type": "code",
   "execution_count": 19,
   "metadata": {},
   "outputs": [
    {
     "name": "stdout",
     "output_type": "stream",
     "text": [
      "Features: female, stringyHair, purpleLipstick, earring\n"
     ]
    },
    {
     "data": {
      "image/png": "[encoded data removed]",
      "text/plain": [
       "<Figure size 800x400 with 2 Axes>"
      ]
     },
     "metadata": {},
     "output_type": "display_data"
    }
   ],
   "source": [
    "punk, recon_punk, features = reconstruct_punk(2001)\n",
    "\n",
    "print(f\"Features: {', '.join(features)}\")\n",
    "draw_two(punk, recon_punk)\n"
   ]
  },
  {
   "cell_type": "code",
   "execution_count": 20,
   "id": "8e401eca",
   "metadata": {},
   "outputs": [
    {
     "name": "stdout",
     "output_type": "stream",
     "text": [
      "Features: female, wildWhiteHair, greenEyeShadow, hotLipstick\n"
     ]
    },
    {
     "data": {
      "image/png": "[encoded data removed]",
      "text/plain": [
       "<Figure size 800x400 with 2 Axes>"
      ]
     },
     "metadata": {},
     "output_type": "display_data"
    }
   ],
   "source": [
    "punk, recon_punk, features = reconstruct_punk(5000)\n",
    "\n",
    "print(f\"Features: {', '.join(features)}\")\n",
    "draw_two(punk, recon_punk)"
   ]
  },
  {
   "cell_type": "code",
   "execution_count": 21,
   "id": "99f3ac30",
   "metadata": {},
   "outputs": [
    {
     "name": "stdout",
     "output_type": "stream",
     "text": [
      "Features: male, rosyCheeks, mustache, vr, cap, cigarette\n"
     ]
    },
    {
     "data": {
      "image/png": "[encoded data removed]",
      "text/plain": [
       "<Figure size 800x400 with 2 Axes>"
      ]
     },
     "metadata": {},
     "output_type": "display_data"
    }
   ],
   "source": [
    "punk, recon_punk, features = reconstruct_punk(8000)\n",
    "\n",
    "print(f\"Features: {', '.join(features)}\")\n",
    "draw_two(punk, recon_punk)"
   ]
  },
  {
   "cell_type": "code",
   "execution_count": 22,
   "id": "eb402159",
   "metadata": {},
   "outputs": [
    {
     "name": "stdout",
     "output_type": "stream",
     "text": [
      "Features: male, handlebars, bandana\n"
     ]
    },
    {
     "data": {
      "image/png": "[encoded data removed]",
      "text/plain": [
       "<Figure size 800x400 with 2 Axes>"
      ]
     },
     "metadata": {},
     "output_type": "display_data"
    }
   ],
   "source": [
    "punk, recon_punk, features = reconstruct_punk(1337)\n",
    "\n",
    "print(f\"Features: {', '.join(features)}\")\n",
    "draw_two(punk, recon_punk)"
   ]
  },
  {
   "cell_type": "markdown",
   "id": "04a97510",
   "metadata": {},
   "source": [
    "## Losses"
   ]
  },
  {
   "cell_type": "code",
   "execution_count": 23,
   "metadata": {},
   "outputs": [
    {
     "data": {
      "text/plain": [
       "<function matplotlib.pyplot.show(close=None, block=None)>"
      ]
     },
     "execution_count": 23,
     "metadata": {},
     "output_type": "execute_result"
    },
    {
     "data": {
      "image/png": "[encoded data removed]",
      "text/plain": [
       "<Figure size 640x480 with 1 Axes>"
      ]
     },
     "metadata": {},
     "output_type": "display_data"
    }
   ],
   "source": [
    "plt.title(\"Train & Test loss\")\n",
    "plt.plot(train_losses, label='train loss')\n",
    "plt.plot(test_losses, label='test loss')\n",
    "plt.legend()\n",
    "plt.show\n"
   ]
  },
  {
   "cell_type": "code",
   "execution_count": 24,
   "id": "c1261252",
   "metadata": {},
   "outputs": [
    {
     "data": {
      "text/plain": [
       "[427483.40940824465,\n",
       " 268978.34668661345,\n",
       " 232732.1991910461,\n",
       " 213801.30968805408,\n",
       " 205602.84591090426,\n",
       " 189604.5780141844,\n",
       " 167940.38137189715,\n",
       " 144313.8597351507,\n",
       " 121501.97314799424,\n",
       " 99350.58076379655,\n",
       " 78667.05380097518,\n",
       " 62522.41008699025,\n",
       " 50471.031159962324,\n",
       " 41984.1450333832,\n",
       " 35945.15501371343,\n",
       " 30949.717212433512,\n",
       " 27641.691359499666,\n",
       " 24434.26324506178,\n",
       " 22220.65969220966,\n",
       " 20461.68445257092,\n",
       " 18599.443118697363,\n",
       " 16988.39032025709,\n",
       " 15804.06629456865,\n",
       " 14299.742919921875,\n",
       " 13479.228879238697,\n",
       " 12687.4434572044,\n",
       " 11647.937193525599,\n",
       " 10269.37288887619,\n",
       " 9322.749613876884,\n",
       " 8665.980938850566,\n",
       " 7324.560376322861,\n",
       " 6744.105530218029,\n",
       " 5807.808379261206,\n",
       " 5553.931825029089,\n",
       " 5869.928957891802,\n",
       " 5185.516676666043,\n",
       " 4006.05601555574,\n",
       " 3596.454246575105,\n",
       " 3653.5364509744845,\n",
       " 3273.0902831165504,\n",
       " 3091.1980134138826,\n",
       " 3795.096735528175,\n",
       " 3376.629638671875,\n",
       " 2800.3605190845246,\n",
       " 2218.1306781092435,\n",
       " 2396.7558377313276,\n",
       " 3133.397830827862,\n",
       " 2144.137175864362,\n",
       " 1849.681113818013,\n",
       " 2041.0632964871454,\n",
       " 1894.8655618437638,\n",
       " 1922.1752405910627,\n",
       " 2330.005969541293,\n",
       " 2277.105857470357,\n",
       " 1583.9544946115914,\n",
       " 1238.1650903580037,\n",
       " 1120.2410291306517,\n",
       " 1350.186978225167,\n",
       " 1190.266217603751,\n",
       " 1250.6517617516483,\n",
       " 2074.62776649421,\n",
       " 1857.4656631794383,\n",
       " 1258.843946686873,\n",
       " 1164.0109087355593,\n",
       " 873.0917385453029,\n",
       " 858.6523224309826,\n",
       " 717.4256330990622,\n",
       " 976.6055987202529,\n",
       " 1268.1386540730794,\n",
       " 1593.2341412483377,\n",
       " 882.0090431592143,\n",
       " 676.1085449651623,\n",
       " 539.8905446478661,\n",
       " 591.1530185726517,\n",
       " 906.273991523905,\n",
       " 1147.4525230353606,\n",
       " 1762.641224746163,\n",
       " 1185.1868843457378,\n",
       " 1044.7804652004377,\n",
       " 603.9445419852615,\n",
       " 436.91975440708455,\n",
       " 404.5525357401963,\n",
       " 377.82841158927755,\n",
       " 555.1449587125305,\n",
       " 1030.3752742794388,\n",
       " 1246.6820627848308,\n",
       " 996.6195158451161,\n",
       " 425.6259642256067,\n",
       " 369.18312356827107,\n",
       " 503.38784308467353,\n",
       " 400.80322771545843,\n",
       " 632.4398961168655,\n",
       " 1396.826341290846,\n",
       " 671.581265334542,\n",
       " 469.4980402195707,\n",
       " 353.9109472721181,\n",
       " 557.9266686946788,\n",
       " 634.7335769436884,\n",
       " 1120.1779467535357,\n",
       " 539.4266617687036]"
      ]
     },
     "execution_count": 24,
     "metadata": {},
     "output_type": "execute_result"
    }
   ],
   "source": [
    "train_losses\n"
   ]
  },
  {
   "cell_type": "code",
   "execution_count": 25,
   "id": "15d6f86b",
   "metadata": {},
   "outputs": [
    {
     "data": {
      "text/plain": [
       "[266000.7434082031,\n",
       " 256911.36157226562,\n",
       " 211849.94982910156,\n",
       " 204032.0684814453,\n",
       " 193901.1484375,\n",
       " 174982.81604003906,\n",
       " 153961.65112304688,\n",
       " 130810.28369140625,\n",
       " 110825.5599975586,\n",
       " 91147.81927490234,\n",
       " 71723.9779663086,\n",
       " 57670.86004638672,\n",
       " 49347.763732910156,\n",
       " 42087.58206176758,\n",
       " 37493.99328613281,\n",
       " 33938.9992980957,\n",
       " 30232.28256225586,\n",
       " 30032.98565673828,\n",
       " 27405.842765808105,\n",
       " 24640.750526428223,\n",
       " 24056.260833740234,\n",
       " 22388.61962890625,\n",
       " 22415.072799682617,\n",
       " 19352.045776367188,\n",
       " 18192.53960418701,\n",
       " 17693.5972366333,\n",
       " 15568.920623779297,\n",
       " 14176.431686401367,\n",
       " 13375.86865234375,\n",
       " 12563.128677368164,\n",
       " 11527.60888671875,\n",
       " 11654.338638305664,\n",
       " 10583.304306030273,\n",
       " 9727.632308959961,\n",
       " 8925.653503417969,\n",
       " 9051.03564453125,\n",
       " 8113.649326324463,\n",
       " 8143.696697235107,\n",
       " 8119.633628845215,\n",
       " 7284.847261428833,\n",
       " 7589.599834442139,\n",
       " 6745.242267608643,\n",
       " 6655.731439590454,\n",
       " 6645.869348526001,\n",
       " 5968.860282897949,\n",
       " 6283.6253089904785,\n",
       " 6167.718273162842,\n",
       " 6476.238988876343,\n",
       " 5552.370946884155,\n",
       " 5388.177097320557,\n",
       " 5356.75306892395,\n",
       " 5085.239501953125,\n",
       " 6343.352020263672,\n",
       " 5074.14155292511,\n",
       " 4322.438032150269,\n",
       " 4332.078866958618,\n",
       " 4957.178834915161,\n",
       " 5144.406278133392,\n",
       " 4382.128335952759,\n",
       " 5048.037726402283,\n",
       " 6488.27294921875,\n",
       " 4662.204135894775,\n",
       " 4509.99245262146,\n",
       " 4124.646538257599,\n",
       " 4196.689735412598,\n",
       " 3983.4692425727844,\n",
       " 4775.77845954895,\n",
       " 5054.689380645752,\n",
       " 5814.21152305603,\n",
       " 4539.236135482788,\n",
       " 4227.910121917725,\n",
       " 4508.614637851715,\n",
       " 3947.59246301651,\n",
       " 4639.549002170563,\n",
       " 6109.372014760971,\n",
       " 6097.928153514862,\n",
       " 4665.622159957886,\n",
       " 5798.767112731934,\n",
       " 3681.536102294922,\n",
       " 3532.3563265800476,\n",
       " 3571.3470804691315,\n",
       " 3583.482770681381,\n",
       " 3471.9502172470093,\n",
       " 4356.981654644012,\n",
       " 4856.012550354004,\n",
       " 5006.278087615967,\n",
       " 4616.242722034454,\n",
       " 3392.9936022758484,\n",
       " 3788.2429752349854,\n",
       " 3783.554951429367,\n",
       " 5159.706358909607,\n",
       " 9362.841594696045,\n",
       " 4144.168162345886,\n",
       " 4662.811924934387,\n",
       " 3412.174404859543,\n",
       " 3310.349993467331,\n",
       " 3450.582960128784,\n",
       " 4223.850138664246,\n",
       " 3893.9480895996094,\n",
       " 3572.943151473999]"
      ]
     },
     "execution_count": 25,
     "metadata": {},
     "output_type": "execute_result"
    }
   ],
   "source": [
    "test_losses\n"
   ]
  },
  {
   "cell_type": "code",
   "execution_count": null,
   "id": "2c85eb18",
   "metadata": {},
   "outputs": [],
   "source": []
  }
 ],
 "metadata": {
  "kernelspec": {
   "display_name": "Python 3 (ipykernel)",
   "language": "python",
   "name": "python3"
  },
  "language_info": {
   "codemirror_mode": {
    "name": "ipython",
    "version": 3
   },
   "file_extension": ".py",
   "mimetype": "text/x-python",
   "name": "python",
   "nbconvert_exporter": "python",
   "pygments_lexer": "ipython3",
   "version": "3.11.6"
  }
 },
 "nbformat": 4,
 "nbformat_minor": 5
}
