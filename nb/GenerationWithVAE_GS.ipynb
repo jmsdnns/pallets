{
 "cells": [
  {
   "cell_type": "markdown",
   "id": "7f324e22",
   "metadata": {},
   "source": [
    "# Generating Punks with a Variational Autoencoder"
   ]
  },
  {
   "cell_type": "code",
   "execution_count": 6,
   "id": "19d0f047",
   "metadata": {},
   "outputs": [],
   "source": [
    "import sys\n",
    "import os\n",
    "import torch\n",
    "from torchvision import transforms\n",
    "import torch.nn as nn\n",
    "import torch.nn.functional as F\n",
    "from torch.utils.data import DataLoader, SubsetRandomSampler\n",
    "import matplotlib.pyplot as plt\n",
    "\n",
    "%matplotlib inline\n"
   ]
  },
  {
   "cell_type": "code",
   "execution_count": 2,
   "id": "544188c3",
   "metadata": {},
   "outputs": [],
   "source": [
    "# Load pallets library\n",
    "\n",
    "sys.path.append(os.path.abspath(os.path.join(os.getcwd(), '..')))\n",
    "from pallets import images as I, datasets as DS, models as M, logging as L\n"
   ]
  },
  {
   "cell_type": "code",
   "execution_count": 3,
   "id": "96f35032",
   "metadata": {},
   "outputs": [
    {
     "data": {
      "text/plain": [
       "<Logger pallets (INFO)>"
      ]
     },
     "execution_count": 3,
     "metadata": {},
     "output_type": "execute_result"
    }
   ],
   "source": [
    "# To GPU, or not to GPU\n",
    "device = M.get_device(require_gpu=True)\n",
    "device = None\n",
    "# Logging\n",
    "L.init_logger(notebook=True)\n"
   ]
  },
  {
   "cell_type": "markdown",
   "id": "2587fe32",
   "metadata": {},
   "source": [
    "## Prepare Datasets"
   ]
  },
  {
   "cell_type": "code",
   "execution_count": 4,
   "id": "35fef1c0",
   "metadata": {},
   "outputs": [
    {
     "name": "stdout",
     "output_type": "stream",
     "text": [
      "INFO | loading punk images\n",
      "INFO | - image 0\n",
      "INFO | - image 1000\n",
      "INFO | - image 2000\n",
      "INFO | - image 3000\n",
      "INFO | - image 4000\n",
      "INFO | - image 5000\n",
      "INFO | - image 6000\n",
      "INFO | - image 7000\n",
      "INFO | - image 8000\n",
      "INFO | - image 9000\n",
      "INFO | punk images complete\n",
      "INFO | loading punk labels: ../../cpunks-10k/cpunks/data/punks.json\n"
     ]
    }
   ],
   "source": [
    "all_colors = I.get_punk_colors()\n",
    "mapper = DS.ColorOneHotMapper(all_colors)\n",
    "dataset = DS.FastOneHotCPunksDataset(device, mapper, test_size=1000)\n"
   ]
  },
  {
   "cell_type": "code",
   "execution_count": 9,
   "id": "14887b19",
   "metadata": {},
   "outputs": [],
   "source": [
    "batch_size = 32\n",
    "num_workers = 0\n",
    "\n",
    "train_sampler = SubsetRandomSampler(dataset.train_idx)\n",
    "test_sampler = SubsetRandomSampler(dataset.test_idx)\n",
    "\n",
    "train_loader = DataLoader(\n",
    "    dataset, batch_size=batch_size, sampler=train_sampler, num_workers=num_workers\n",
    ")\n",
    "test_loader = DataLoader(\n",
    "    dataset, batch_size=batch_size, sampler=test_sampler, num_workers=num_workers\n",
    ")\n"
   ]
  },
  {
   "cell_type": "code",
   "execution_count": 23,
   "id": "0ed7902a-9e8f-4d77-ae42-cfdd1f5d118e",
   "metadata": {},
   "outputs": [],
   "source": [
    "class VAE(nn.Module):\n",
    "    def __init__(self, input_dim, hidden_dims, latent_dim):\n",
    "        super(VAE, self).__init__()\n",
    "        self.input_dim = input_dim\n",
    "        self.hidden_dims = hidden_dims\n",
    "        self.latent_dim = latent_dim\n",
    "        self.fc_dim = 128\n",
    "\n",
    "        self.fc_mean = nn.Linear(self.fc_dim, self.latent_dim)\n",
    "        self.fc_logvar = nn.Linear(self.fc_dim, self.latent_dim)\n",
    "\n",
    "        self.encode = nn.Sequential(\n",
    "            nn.Conv2d(\n",
    "                self.input_dim, self.hidden_dims[0],\n",
    "                kernel_size=3, stride=1, padding=1\n",
    "            ),\n",
    "            nn.ReLU(),\n",
    "            nn.Conv2d(\n",
    "                self.hidden_dims[0], self.hidden_dims[1],\n",
    "                kernel_size=3, stride=1, padding=1\n",
    "            ),\n",
    "            nn.ReLU(),\n",
    "            nn.Flatten(),\n",
    "            nn.Linear(self.hidden_dims[1] * 24 * 24, self.fc_dim),\n",
    "            nn.ReLU(),\n",
    "        )\n",
    "\n",
    "        self.decode_fc = nn.Linear(self.latent_dim, self.fc_dim)\n",
    "\n",
    "        self.decode = nn.Sequential(\n",
    "            #nn.Linear(self.latent_dim, self.fc_dim),\n",
    "            nn.ReLU(),\n",
    "            nn.Linear(self.fc_dim, self.hidden_dims[1] * 24 * 24),\n",
    "            nn.ReLU(),\n",
    "            nn.Unflatten(-1, (self.hidden_dims[1], 24, 24)),\n",
    "            nn.ConvTranspose2d(\n",
    "                self.hidden_dims[1], self.hidden_dims[0],\n",
    "                kernel_size=3, stride=1, padding=1, output_padding=0\n",
    "            ),\n",
    "            nn.ReLU(),\n",
    "            nn.ConvTranspose2d(\n",
    "                self.hidden_dims[0], self.input_dim,\n",
    "                kernel_size=3, stride=1, padding=1, output_padding=0\n",
    "            ),\n",
    "            nn.Sigmoid(),\n",
    "        )\n",
    "\n",
    "    def reparameterize(self, mu, logvar):\n",
    "        std = torch.exp(0.5 * logvar)\n",
    "        eps = torch.randn_like(std)\n",
    "        return mu + eps * std\n",
    "\n",
    "    def forward(self, x, tau=1.0, hard=False):\n",
    "        x = self.encode(x)\n",
    "\n",
    "        mu = self.fc_mean(x)\n",
    "        logvar = self.fc_logvar(x)\n",
    "        z = self.reparameterize(mu, logvar)\n",
    "\n",
    "        #z = self.decode(z)\n",
    "        color_logits = self.decode(self.decode_fc(z))\n",
    "        flat_logits = color_logits.view(-1, self.input_dim)\n",
    "        one_hot_colors = F.gumbel_softmax(flat_logits, tau=tau, hard=hard)\n",
    "        one_hot_colors = one_hot_colors.view_as(color_logits)\n",
    "        \n",
    "        return one_hot_colors, mu, logvar"
   ]
  },
  {
   "cell_type": "markdown",
   "id": "b39e0222",
   "metadata": {},
   "source": [
    "## Convolutional VAE"
   ]
  },
  {
   "cell_type": "code",
   "execution_count": null,
   "id": "7e4d5fd0",
   "metadata": {},
   "outputs": [
    {
     "name": "stdout",
     "output_type": "stream",
     "text": [
      "INFO | model: __main__.VAE\n",
      "INFO | criterion: pallets.models.vae.Loss\n",
      "INFO | learn rate: 0.001\n",
      "INFO | epochs: 20\n",
      "INFO | epoch 1 (  0%) loss: 10551.598633\n",
      "INFO | epoch 1 ( 35%) loss: 10503.538134\n",
      "INFO | epoch 1 ( 70%) loss: 10499.545981\n",
      "INFO | epoch 1 (100%) loss: 10470.406761\n",
      "INFO | epoch 1 (test) loss: 10247.956001\n",
      "INFO | epoch 2 (  0%) loss: 10507.614258\n",
      "INFO | epoch 2 ( 35%) loss: 10492.676390\n",
      "INFO | epoch 2 ( 70%) loss: 10492.868596\n",
      "INFO | epoch 2 (100%) loss: 10465.220392\n",
      "INFO | epoch 2 (test) loss: 10244.519753\n",
      "INFO | epoch 3 (  0%) loss: 10489.536133\n",
      "INFO | epoch 3 ( 35%) loss: 10488.862015\n",
      "INFO | epoch 3 ( 70%) loss: 10490.057661\n",
      "INFO | epoch 3 (100%) loss: 10461.910164\n",
      "INFO | epoch 3 (test) loss: 10247.136673\n",
      "INFO | epoch 4 (  0%) loss: 10478.203125\n",
      "INFO | epoch 4 ( 35%) loss: 10491.803856\n",
      "INFO | epoch 4 ( 70%) loss: 10490.700273\n"
     ]
    }
   ],
   "source": [
    "# Cue training montage\n",
    "\n",
    "#model = M.vae.VAE(222, (64, 32), 20)\n",
    "model = VAE(222, (64, 32), 20)\n",
    "criterion = M.vae.Loss()\n",
    "\n",
    "train_losses, test_losses = M.vae.train(\n",
    "    device, model, criterion, train_loader, test_loader,\n",
    "    learn_rate=1e-03, epochs=20\n",
    ")\n"
   ]
  },
  {
   "cell_type": "code",
   "execution_count": 7,
   "id": "91746be9",
   "metadata": {},
   "outputs": [
    {
     "name": "stdout",
     "output_type": "stream",
     "text": [
      "INFO | model blob saved to /home/jmsdnns/ML/pallets/saved/vae.conv.pkl\n",
      "INFO | training losses saved to /home/jmsdnns/ML/pallets/saved/vae.conv.json\n"
     ]
    }
   ],
   "source": [
    "M.save('vae.conv', model, train_losses, test_losses)"
   ]
  },
  {
   "cell_type": "markdown",
   "id": "77fb32ad",
   "metadata": {},
   "source": [
    "# Model Output to Image"
   ]
  },
  {
   "cell_type": "code",
   "execution_count": 8,
   "id": "84a76798",
   "metadata": {},
   "outputs": [],
   "source": [
    "# model, train_losses, test_losses = M.load('vae.conv')\n"
   ]
  },
  {
   "cell_type": "code",
   "execution_count": 11,
   "id": "38c47d81",
   "metadata": {},
   "outputs": [
    {
     "name": "stdout",
     "output_type": "stream",
     "text": [
      "torch.Size([1, 222, 24, 24])\n",
      "torch.Size([222, 24, 24])\n"
     ]
    }
   ],
   "source": [
    "# Generate new image\n",
    "\n",
    "z = torch.randn(1, 20).to(device)\n",
    "with torch.no_grad():\n",
    "    model.eval()\n",
    "    generated_image = model.decode(z)\n",
    "    print(generated_image.shape)\n",
    "\n",
    "\n",
    "decoded_one_hot = generated_image[0]\n",
    "print(decoded_one_hot.shape)\n"
   ]
  },
  {
   "cell_type": "code",
   "execution_count": 12,
   "id": "e2a50848",
   "metadata": {},
   "outputs": [
    {
     "name": "stdout",
     "output_type": "stream",
     "text": [
      "torch.Size([4, 24, 24])\n"
     ]
    },
    {
     "data": {
      "image/png": "[encoded data removed]",
      "text/plain": [
       "<Figure size 640x480 with 1 Axes>"
      ]
     },
     "metadata": {},
     "output_type": "display_data"
    }
   ],
   "source": [
    "decoded = DS.one_hot_to_rgba(decoded_one_hot, mapper)\n",
    "print(decoded.shape)\n",
    "\n",
    "plt.imshow(transforms.functional.to_pil_image(decoded))\n",
    "plt.axis('off')\n",
    "plt.show()\n"
   ]
  },
  {
   "cell_type": "code",
   "execution_count": 13,
   "id": "cda8545f",
   "metadata": {},
   "outputs": [
    {
     "data": {
      "text/plain": [
       "[27089.379853377104]"
      ]
     },
     "execution_count": 13,
     "metadata": {},
     "output_type": "execute_result"
    }
   ],
   "source": [
    "train_losses\n"
   ]
  },
  {
   "cell_type": "code",
   "execution_count": 14,
   "id": "1918e7ee",
   "metadata": {},
   "outputs": [
    {
     "data": {
      "text/plain": [
       "[7474.659069061279]"
      ]
     },
     "execution_count": 14,
     "metadata": {},
     "output_type": "execute_result"
    }
   ],
   "source": [
    "test_losses\n"
   ]
  },
  {
   "cell_type": "code",
   "execution_count": 15,
   "id": "2ae67509",
   "metadata": {},
   "outputs": [
    {
     "data": {
      "image/png": "[encoded data removed]",
      "text/plain": [
       "<Figure size 640x480 with 1 Axes>"
      ]
     },
     "metadata": {},
     "output_type": "display_data"
    }
   ],
   "source": [
    "punk = I.get_punk_tensor(1000)\n",
    "\n",
    "plt.imshow(transforms.functional.to_pil_image(punk))\n",
    "plt.show()\n",
    "\n"
   ]
  },
  {
   "cell_type": "code",
   "execution_count": 16,
   "id": "78fc1407",
   "metadata": {},
   "outputs": [
    {
     "name": "stdout",
     "output_type": "stream",
     "text": [
      "torch.Size([1, 222, 24, 24])\n"
     ]
    },
    {
     "data": {
      "image/png": "[encoded data removed]",
      "text/plain": [
       "<Figure size 640x480 with 1 Axes>"
      ]
     },
     "metadata": {},
     "output_type": "display_data"
    }
   ],
   "source": [
    "punk = I.get_punk_tensor(1000)\n",
    "\n",
    "p = DS.rgba_to_one_hot(punk, mapper)\n",
    "p = p.unsqueeze(0)\n",
    "p = p.to(device)\n",
    "\n",
    "model.eval()\n",
    "with torch.no_grad():\n",
    "    reconstructed, mu, logcar = model.forward(p)\n",
    "    print(reconstructed.shape)\n",
    "\n",
    "recon_punk = reconstructed[0].cpu()\n",
    "recon_punk = DS.one_hot_to_rgba(recon_punk, mapper)\n",
    "plt.imshow(transforms.functional.to_pil_image(recon_punk.cpu()))\n",
    "plt.show()\n"
   ]
  },
  {
   "cell_type": "code",
   "execution_count": 17,
   "id": "9daabe79",
   "metadata": {},
   "outputs": [
    {
     "data": {
      "text/plain": [
       "<function matplotlib.pyplot.show(close=None, block=None)>"
      ]
     },
     "execution_count": 17,
     "metadata": {},
     "output_type": "execute_result"
    },
    {
     "data": {
      "image/png": "[encoded data removed]",
      "text/plain": [
       "<Figure size 640x480 with 1 Axes>"
      ]
     },
     "metadata": {},
     "output_type": "display_data"
    }
   ],
   "source": [
    "plt.title(\"Train & Test loss\")\n",
    "plt.plot(train_losses, label='train loss')\n",
    "plt.plot(test_losses, label='test loss')\n",
    "plt.legend()\n",
    "plt.show\n"
   ]
  },
  {
   "cell_type": "code",
   "execution_count": null,
   "id": "52e202fa",
   "metadata": {},
   "outputs": [],
   "source": []
  }
 ],
 "metadata": {
  "kernelspec": {
   "display_name": "Python 3 (ipykernel)",
   "language": "python",
   "name": "python3"
  },
  "language_info": {
   "codemirror_mode": {
    "name": "ipython",
    "version": 3
   },
   "file_extension": ".py",
   "mimetype": "text/x-python",
   "name": "python",
   "nbconvert_exporter": "python",
   "pygments_lexer": "ipython3",
   "version": "3.11.5"
  }
 },
 "nbformat": 4,
 "nbformat_minor": 5
}
