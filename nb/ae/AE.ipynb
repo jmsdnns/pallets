{
 "cells": [
  {
   "cell_type": "markdown",
   "id": "c1b184d4",
   "metadata": {},
   "source": [
    "# Autoencoder w/ RGBA"
   ]
  },
  {
   "cell_type": "code",
   "execution_count": 1,
   "id": "19d0f047",
   "metadata": {
    "slideshow": {
     "slide_type": ""
    },
    "tags": []
   },
   "outputs": [],
   "source": [
    "import torch\n",
    "from torch.utils.data import DataLoader, SubsetRandomSampler\n",
    "from torchvision.transforms.functional import to_pil_image\n",
    "import matplotlib.pyplot as plt\n",
    "%matplotlib inline"
   ]
  },
  {
   "cell_type": "code",
   "execution_count": 2,
   "id": "f42bf158",
   "metadata": {},
   "outputs": [],
   "source": [
    "# Load pallets library from project root\n",
    "import sys, os\n",
    "sys.path.append(os.path.abspath(os.path.join(os.getcwd(), '..', '..')))\n",
    "\n",
    "from pallets import (\n",
    "    images as I,\n",
    "    datasets as DS,\n",
    "    models as M,\n",
    "    logging as L\n",
    ")\n"
   ]
  },
  {
   "cell_type": "markdown",
   "id": "fdb35bdb",
   "metadata": {},
   "source": [
    "# Settings"
   ]
  },
  {
   "cell_type": "code",
   "execution_count": 3,
   "id": "de201fa4",
   "metadata": {},
   "outputs": [],
   "source": [
    "SAVE_NAME = 'ae'"
   ]
  },
  {
   "cell_type": "code",
   "execution_count": 4,
   "id": "7887e5ae",
   "metadata": {},
   "outputs": [],
   "source": [
    "USE_GPU = True\n",
    "LOG_LEVEL = 'INFO'\n",
    "LABELS_FILE = 'pallets_labels.json'\n",
    "\n",
    "TEST_SIZE = 1000\n",
    "EPOCHS = 20\n",
    "LR = 1e-03\n",
    "BATCH_SIZE = 32\n"
   ]
  },
  {
   "cell_type": "code",
   "execution_count": 5,
   "id": "189cf27e",
   "metadata": {},
   "outputs": [
    {
     "data": {
      "text/plain": [
       "<Logger pallets (INFO)>"
      ]
     },
     "execution_count": 5,
     "metadata": {},
     "output_type": "execute_result"
    }
   ],
   "source": [
    "# To GPU, or not to GPU\n",
    "device = M.get_device(require_gpu=USE_GPU)\n",
    "\n",
    "# Logging\n",
    "L.init_logger(level=LOG_LEVEL, notebook=True)\n"
   ]
  },
  {
   "cell_type": "markdown",
   "id": "adfd5648",
   "metadata": {},
   "source": [
    "# Dataset"
   ]
  },
  {
   "cell_type": "code",
   "execution_count": 6,
   "id": "3ffa75de",
   "metadata": {},
   "outputs": [
    {
     "name": "stdout",
     "output_type": "stream",
     "text": [
      "INFO | loading punk images\n",
      "INFO | - image 0\n",
      "INFO | - image 1000\n",
      "INFO | - image 2000\n",
      "INFO | - image 3000\n",
      "INFO | - image 4000\n",
      "INFO | - image 5000\n",
      "INFO | - image 6000\n",
      "INFO | - image 7000\n",
      "INFO | - image 8000\n",
      "INFO | - image 9000\n",
      "INFO | punk images complete\n",
      "INFO | loading punk labels: pallets_labels.json\n"
     ]
    }
   ],
   "source": [
    "dataset = DS.CPunksDataset(labels_file=LABELS_FILE, test_size=TEST_SIZE)\n",
    "\n",
    "# Uncomment to put entire dataset in GPU RAM\n",
    "# dataset = DS.FastCPunksDataset(\n",
    "#     device, labels_file=LABELS_FILE, test_size=TEST_SIZE\n",
    "# )"
   ]
  },
  {
   "cell_type": "code",
   "execution_count": 7,
   "id": "42f77c11",
   "metadata": {},
   "outputs": [],
   "source": [
    "train_sampler = SubsetRandomSampler(dataset.train_idx)\n",
    "test_sampler = SubsetRandomSampler(dataset.test_idx)\n",
    "\n",
    "train_loader = DataLoader(dataset, batch_size=BATCH_SIZE, sampler=train_sampler)\n",
    "test_loader = DataLoader(dataset, batch_size=BATCH_SIZE, sampler=test_sampler)"
   ]
  },
  {
   "cell_type": "markdown",
   "id": "bcfc5203",
   "metadata": {},
   "source": [
    "# Training"
   ]
  },
  {
   "cell_type": "code",
   "execution_count": 8,
   "id": "8b17fbfd",
   "metadata": {},
   "outputs": [
    {
     "name": "stdout",
     "output_type": "stream",
     "text": [
      "INFO | model: pallets.models.ae.AE\n",
      "INFO | criterion: torch.nn.modules.loss.MSELoss\n",
      "INFO | learn rate: 0.001\n",
      "INFO | epochs: 20\n",
      "INFO | epoch 1 (  0%) loss: 0.110234\n",
      "INFO | epoch 1 ( 35%) loss: 0.027267\n",
      "INFO | epoch 1 ( 70%) loss: 0.019573\n",
      "INFO | epoch 1 (100%) loss: 0.016257\n",
      "INFO | epoch 1 (test) loss: 0.001705\n",
      "INFO | epoch 2 (  0%) loss: 0.007559\n",
      "INFO | epoch 2 ( 35%) loss: 0.006256\n",
      "INFO | epoch 2 ( 70%) loss: 0.005663\n",
      "INFO | epoch 2 (100%) loss: 0.005280\n",
      "INFO | epoch 2 (test) loss: 0.000982\n",
      "INFO | epoch 3 (  0%) loss: 0.003926\n",
      "INFO | epoch 3 ( 35%) loss: 0.003696\n",
      "INFO | epoch 3 ( 70%) loss: 0.003451\n",
      "INFO | epoch 3 (100%) loss: 0.003273\n",
      "INFO | epoch 3 (test) loss: 0.000679\n",
      "INFO | epoch 4 (  0%) loss: 0.002129\n",
      "INFO | epoch 4 ( 35%) loss: 0.002578\n",
      "INFO | epoch 4 ( 70%) loss: 0.002493\n",
      "INFO | epoch 4 (100%) loss: 0.002410\n",
      "INFO | epoch 4 (test) loss: 0.000543\n",
      "INFO | epoch 5 (  0%) loss: 0.002083\n",
      "INFO | epoch 5 ( 35%) loss: 0.002102\n",
      "INFO | epoch 5 ( 70%) loss: 0.002043\n",
      "INFO | epoch 5 (100%) loss: 0.002000\n",
      "INFO | epoch 5 (test) loss: 0.000466\n",
      "INFO | epoch 6 (  0%) loss: 0.001680\n",
      "INFO | epoch 6 ( 35%) loss: 0.001798\n",
      "INFO | epoch 6 ( 70%) loss: 0.001781\n",
      "INFO | epoch 6 (100%) loss: 0.001744\n",
      "INFO | epoch 6 (test) loss: 0.000413\n",
      "INFO | epoch 7 (  0%) loss: 0.001596\n",
      "INFO | epoch 7 ( 35%) loss: 0.001602\n",
      "INFO | epoch 7 ( 70%) loss: 0.001566\n",
      "INFO | epoch 7 (100%) loss: 0.001548\n",
      "INFO | epoch 7 (test) loss: 0.000379\n",
      "INFO | epoch 8 (  0%) loss: 0.001648\n",
      "INFO | epoch 8 ( 35%) loss: 0.001428\n",
      "INFO | epoch 8 ( 70%) loss: 0.001401\n",
      "INFO | epoch 8 (100%) loss: 0.001381\n",
      "INFO | epoch 8 (test) loss: 0.000343\n",
      "INFO | epoch 9 (  0%) loss: 0.001212\n",
      "INFO | epoch 9 ( 35%) loss: 0.001326\n",
      "INFO | epoch 9 ( 70%) loss: 0.001262\n",
      "INFO | epoch 9 (100%) loss: 0.001241\n",
      "INFO | epoch 9 (test) loss: 0.000297\n",
      "INFO | epoch 10 (  0%) loss: 0.001114\n",
      "INFO | epoch 10 ( 35%) loss: 0.001150\n",
      "INFO | epoch 10 ( 70%) loss: 0.001138\n",
      "INFO | epoch 10 (100%) loss: 0.001117\n",
      "INFO | epoch 10 (test) loss: 0.000270\n",
      "INFO | epoch 11 (  0%) loss: 0.000917\n",
      "INFO | epoch 11 ( 35%) loss: 0.001008\n",
      "INFO | epoch 11 ( 70%) loss: 0.001025\n",
      "INFO | epoch 11 (100%) loss: 0.001008\n",
      "INFO | epoch 11 (test) loss: 0.000250\n",
      "INFO | epoch 12 (  0%) loss: 0.000966\n",
      "INFO | epoch 12 ( 35%) loss: 0.000950\n",
      "INFO | epoch 12 ( 70%) loss: 0.000934\n",
      "INFO | epoch 12 (100%) loss: 0.000921\n",
      "INFO | epoch 12 (test) loss: 0.000224\n",
      "INFO | epoch 13 (  0%) loss: 0.000876\n",
      "INFO | epoch 13 ( 35%) loss: 0.000862\n",
      "INFO | epoch 13 ( 70%) loss: 0.000855\n",
      "INFO | epoch 13 (100%) loss: 0.000843\n",
      "INFO | epoch 13 (test) loss: 0.000209\n",
      "INFO | epoch 14 (  0%) loss: 0.000756\n",
      "INFO | epoch 14 ( 35%) loss: 0.000788\n",
      "INFO | epoch 14 ( 70%) loss: 0.000790\n",
      "INFO | epoch 14 (100%) loss: 0.000785\n",
      "INFO | epoch 14 (test) loss: 0.000196\n",
      "INFO | epoch 15 (  0%) loss: 0.000727\n",
      "INFO | epoch 15 ( 35%) loss: 0.000738\n",
      "INFO | epoch 15 ( 70%) loss: 0.000740\n",
      "INFO | epoch 15 (100%) loss: 0.000737\n",
      "INFO | epoch 15 (test) loss: 0.000183\n",
      "INFO | epoch 16 (  0%) loss: 0.000802\n",
      "INFO | epoch 16 ( 35%) loss: 0.000704\n",
      "INFO | epoch 16 ( 70%) loss: 0.000701\n",
      "INFO | epoch 16 (100%) loss: 0.000687\n",
      "INFO | epoch 16 (test) loss: 0.000168\n",
      "INFO | epoch 17 (  0%) loss: 0.000628\n",
      "INFO | epoch 17 ( 35%) loss: 0.000654\n",
      "INFO | epoch 17 ( 70%) loss: 0.000659\n",
      "INFO | epoch 17 (100%) loss: 0.000649\n",
      "INFO | epoch 17 (test) loss: 0.000158\n",
      "INFO | epoch 18 (  0%) loss: 0.000500\n",
      "INFO | epoch 18 ( 35%) loss: 0.000617\n",
      "INFO | epoch 18 ( 70%) loss: 0.000614\n",
      "INFO | epoch 18 (100%) loss: 0.000613\n",
      "INFO | epoch 18 (test) loss: 0.000159\n",
      "INFO | epoch 19 (  0%) loss: 0.000760\n",
      "INFO | epoch 19 ( 35%) loss: 0.000591\n",
      "INFO | epoch 19 ( 70%) loss: 0.000580\n",
      "INFO | epoch 19 (100%) loss: 0.000575\n",
      "INFO | epoch 19 (test) loss: 0.000140\n",
      "INFO | epoch 20 (  0%) loss: 0.000566\n",
      "INFO | epoch 20 ( 35%) loss: 0.000545\n",
      "INFO | epoch 20 ( 70%) loss: 0.000542\n",
      "INFO | epoch 20 (100%) loss: 0.000544\n",
      "INFO | epoch 20 (test) loss: 0.000135\n",
      "INFO | model blob saved to /home/jmsdnns/ML/pallets/saved/ae.pkl\n",
      "INFO | training losses saved to /home/jmsdnns/ML/pallets/saved/ae.json\n"
     ]
    }
   ],
   "source": [
    "model = M.ae.AE()\n",
    "criterion = torch.nn.MSELoss()\n",
    "\n",
    "train_losses, test_losses = M.ae.train(\n",
    "    device, model, criterion, train_loader, test_loader,\n",
    "    learn_rate=LR, epochs=EPOCHS\n",
    ")\n",
    "\n",
    "M.save(SAVE_NAME, model, train_losses, test_losses)\n",
    "\n"
   ]
  },
  {
   "cell_type": "markdown",
   "id": "300e5db5",
   "metadata": {},
   "source": [
    "# Results"
   ]
  },
  {
   "cell_type": "code",
   "execution_count": 9,
   "id": "657d3b1b",
   "metadata": {},
   "outputs": [
    {
     "data": {
      "image/png": "[encoded data removed]",
      "text/plain": [
       "<Figure size 640x480 with 1 Axes>"
      ]
     },
     "metadata": {},
     "output_type": "display_data"
    }
   ],
   "source": [
    "punk, _ = next(iter(train_loader))\n",
    "reconstructed = model(punk.to(device))\n",
    "reconstructed = reconstructed.detach().cpu()\n",
    "some_image = reconstructed[0]\n",
    "\n",
    "pil_image = to_pil_image(some_image.clone().detach())\n",
    "plt.imshow(pil_image)\n",
    "plt.axis('off')\n",
    "plt.show()"
   ]
  },
  {
   "cell_type": "code",
   "execution_count": 10,
   "id": "361297dc",
   "metadata": {},
   "outputs": [
    {
     "data": {
      "image/png": "[encoded data removed]",
      "text/plain": [
       "<Figure size 640x480 with 1 Axes>"
      ]
     },
     "metadata": {},
     "output_type": "display_data"
    }
   ],
   "source": [
    "plt.title(\"Train & Test loss\")\n",
    "plt.plot(train_losses, label='train loss')\n",
    "plt.plot(test_losses, label='test loss')\n",
    "plt.legend()\n",
    "plt.show()"
   ]
  }
 ],
 "metadata": {
  "kernelspec": {
   "display_name": "Python 3 (ipykernel)",
   "language": "python",
   "name": "python3"
  },
  "language_info": {
   "codemirror_mode": {
    "name": "ipython",
    "version": 3
   },
   "file_extension": ".py",
   "mimetype": "text/x-python",
   "name": "python",
   "nbconvert_exporter": "python",
   "pygments_lexer": "ipython3",
   "version": "3.11.6"
  }
 },
 "nbformat": 4,
 "nbformat_minor": 5
}
