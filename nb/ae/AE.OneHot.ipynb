{
 "cells": [
  {
   "cell_type": "markdown",
   "id": "c1b184d4",
   "metadata": {},
   "source": [
    "# Autoencoder w/ One Hot"
   ]
  },
  {
   "cell_type": "code",
   "execution_count": 1,
   "id": "19d0f047",
   "metadata": {
    "slideshow": {
     "slide_type": ""
    },
    "tags": []
   },
   "outputs": [],
   "source": [
    "import torch\n",
    "from torch.utils.data import DataLoader, SubsetRandomSampler\n",
    "from torchvision.transforms.functional import to_pil_image\n",
    "import matplotlib.pyplot as plt\n",
    "%matplotlib inline"
   ]
  },
  {
   "cell_type": "code",
   "execution_count": 2,
   "id": "f42bf158",
   "metadata": {},
   "outputs": [],
   "source": [
    "# Load pallets library from project root\n",
    "import sys, os\n",
    "sys.path.append(os.path.abspath(os.path.join(os.getcwd(), '..', '..')))\n",
    "\n",
    "from pallets import (\n",
    "    images as I,\n",
    "    datasets as DS,\n",
    "    models as M,\n",
    "    logging as L\n",
    ")\n"
   ]
  },
  {
   "cell_type": "markdown",
   "id": "fdb35bdb",
   "metadata": {},
   "source": [
    "# Settings"
   ]
  },
  {
   "cell_type": "code",
   "execution_count": 3,
   "id": "93b89466",
   "metadata": {},
   "outputs": [],
   "source": [
    "SAVE_NAME = 'ae.onehot'"
   ]
  },
  {
   "cell_type": "code",
   "execution_count": 4,
   "id": "7887e5ae",
   "metadata": {},
   "outputs": [],
   "source": [
    "USE_GPU = True\n",
    "LOG_LEVEL = 'INFO'\n",
    "LABELS_FILE = 'pallets_labels.json'\n",
    "\n",
    "TEST_SIZE = 1000\n",
    "EPOCHS = 20\n",
    "LR = 1e-03\n",
    "BATCH_SIZE = 32\n"
   ]
  },
  {
   "cell_type": "code",
   "execution_count": 5,
   "id": "189cf27e",
   "metadata": {},
   "outputs": [
    {
     "data": {
      "text/plain": [
       "<Logger pallets (INFO)>"
      ]
     },
     "execution_count": 5,
     "metadata": {},
     "output_type": "execute_result"
    }
   ],
   "source": [
    "# To GPU, or not to GPU\n",
    "device = M.get_device(require_gpu=USE_GPU)\n",
    "\n",
    "# Logging\n",
    "L.init_logger(level=LOG_LEVEL, notebook=True)\n"
   ]
  },
  {
   "cell_type": "markdown",
   "id": "adfd5648",
   "metadata": {},
   "source": [
    "# Dataset"
   ]
  },
  {
   "cell_type": "code",
   "execution_count": 6,
   "id": "864aacb2",
   "metadata": {},
   "outputs": [
    {
     "name": "stdout",
     "output_type": "stream",
     "text": [
      "INFO | loading punk images\n",
      "INFO | - image 0\n",
      "INFO | - image 1000\n",
      "INFO | - image 2000\n",
      "INFO | - image 3000\n",
      "INFO | - image 4000\n",
      "INFO | - image 5000\n",
      "INFO | - image 6000\n",
      "INFO | - image 7000\n",
      "INFO | - image 8000\n",
      "INFO | - image 9000\n",
      "INFO | punk images complete\n",
      "INFO | loading punk labels: pallets_labels.json\n"
     ]
    }
   ],
   "source": [
    "all_colors = I.get_punk_colors()\n",
    "mapper = DS.ColorOneHotMapper(all_colors)\n",
    "dataset = DS.OneHotCPunksDataset(mapper, labels_file=LABELS_FILE, test_size=TEST_SIZE)\n",
    "\n",
    "# Uncomment to put entire dataset in GPU RAM\n",
    "# dataset = DS.FastOneHotCPunksDataset(\n",
    "#     device, mapper, labels_file=LABELS_FILE, test_size=TEST_SIZE\n",
    "# )"
   ]
  },
  {
   "cell_type": "code",
   "execution_count": 7,
   "id": "f3afb633",
   "metadata": {},
   "outputs": [],
   "source": [
    "train_sampler = SubsetRandomSampler(dataset.train_idx)\n",
    "test_sampler = SubsetRandomSampler(dataset.test_idx)\n",
    "\n",
    "train_loader = DataLoader(dataset, batch_size=BATCH_SIZE, sampler=train_sampler)\n",
    "test_loader = DataLoader(dataset, batch_size=BATCH_SIZE, sampler=test_sampler)\n"
   ]
  },
  {
   "cell_type": "markdown",
   "id": "8801d898",
   "metadata": {},
   "source": [
    "# Training"
   ]
  },
  {
   "cell_type": "code",
   "execution_count": 8,
   "id": "93fd96d3",
   "metadata": {},
   "outputs": [
    {
     "name": "stdout",
     "output_type": "stream",
     "text": [
      "INFO | model: pallets.models.ae.NaiveOneHotAutoencoder\n",
      "INFO | criterion: torch.nn.modules.loss.CrossEntropyLoss\n",
      "INFO | learn rate: 0.001\n",
      "INFO | epochs: 20\n",
      "INFO | epoch 1 (  0%) loss: 2.701870\n",
      "INFO | epoch 1 ( 35%) loss: 0.634616\n",
      "INFO | epoch 1 ( 70%) loss: 0.433014\n",
      "INFO | epoch 1 (100%) loss: 0.346864\n",
      "INFO | epoch 1 (test) loss: 0.028095\n",
      "INFO | epoch 2 (  0%) loss: 0.104967\n",
      "INFO | epoch 2 ( 35%) loss: 0.087530\n",
      "INFO | epoch 2 ( 70%) loss: 0.074554\n",
      "INFO | epoch 2 (100%) loss: 0.067037\n",
      "INFO | epoch 2 (test) loss: 0.011214\n",
      "INFO | epoch 3 (  0%) loss: 0.043240\n",
      "INFO | epoch 3 ( 35%) loss: 0.037757\n",
      "INFO | epoch 3 ( 70%) loss: 0.034584\n",
      "INFO | epoch 3 (100%) loss: 0.032214\n",
      "INFO | epoch 3 (test) loss: 0.006385\n",
      "INFO | epoch 4 (  0%) loss: 0.022259\n",
      "INFO | epoch 4 ( 35%) loss: 0.021835\n",
      "INFO | epoch 4 ( 70%) loss: 0.020191\n",
      "INFO | epoch 4 (100%) loss: 0.018975\n",
      "INFO | epoch 4 (test) loss: 0.004177\n",
      "INFO | epoch 5 (  0%) loss: 0.013530\n",
      "INFO | epoch 5 ( 35%) loss: 0.013573\n",
      "INFO | epoch 5 ( 70%) loss: 0.012860\n",
      "INFO | epoch 5 (100%) loss: 0.012322\n",
      "INFO | epoch 5 (test) loss: 0.002995\n",
      "INFO | epoch 6 (  0%) loss: 0.009662\n",
      "INFO | epoch 6 ( 35%) loss: 0.009169\n",
      "INFO | epoch 6 ( 70%) loss: 0.008823\n",
      "INFO | epoch 6 (100%) loss: 0.008619\n",
      "INFO | epoch 6 (test) loss: 0.002376\n",
      "INFO | epoch 7 (  0%) loss: 0.008745\n",
      "INFO | epoch 7 ( 35%) loss: 0.006657\n",
      "INFO | epoch 7 ( 70%) loss: 0.006353\n",
      "INFO | epoch 7 (100%) loss: 0.006106\n",
      "INFO | epoch 7 (test) loss: 0.001926\n",
      "INFO | epoch 8 (  0%) loss: 0.006163\n",
      "INFO | epoch 8 ( 35%) loss: 0.004945\n",
      "INFO | epoch 8 ( 70%) loss: 0.004688\n",
      "INFO | epoch 8 (100%) loss: 0.004547\n",
      "INFO | epoch 8 (test) loss: 0.001427\n",
      "INFO | epoch 9 (  0%) loss: 0.003749\n",
      "INFO | epoch 9 ( 35%) loss: 0.003531\n",
      "INFO | epoch 9 ( 70%) loss: 0.003500\n",
      "INFO | epoch 9 (100%) loss: 0.003459\n",
      "INFO | epoch 9 (test) loss: 0.001341\n",
      "INFO | epoch 10 (  0%) loss: 0.002130\n",
      "INFO | epoch 10 ( 35%) loss: 0.002741\n",
      "INFO | epoch 10 ( 70%) loss: 0.002610\n",
      "INFO | epoch 10 (100%) loss: 0.002601\n",
      "INFO | epoch 10 (test) loss: 0.001301\n",
      "INFO | epoch 11 (  0%) loss: 0.002730\n",
      "INFO | epoch 11 ( 35%) loss: 0.002149\n",
      "INFO | epoch 11 ( 70%) loss: 0.002173\n",
      "INFO | epoch 11 (100%) loss: 0.002187\n",
      "INFO | epoch 11 (test) loss: 0.001007\n",
      "INFO | epoch 12 (  0%) loss: 0.001641\n",
      "INFO | epoch 12 ( 35%) loss: 0.001819\n",
      "INFO | epoch 12 ( 70%) loss: 0.001806\n",
      "INFO | epoch 12 (100%) loss: 0.001886\n",
      "INFO | epoch 12 (test) loss: 0.001027\n",
      "INFO | epoch 13 (  0%) loss: 0.000693\n",
      "INFO | epoch 13 ( 35%) loss: 0.001656\n",
      "INFO | epoch 13 ( 70%) loss: 0.001634\n",
      "INFO | epoch 13 (100%) loss: 0.001619\n",
      "INFO | epoch 13 (test) loss: 0.000937\n",
      "INFO | epoch 14 (  0%) loss: 0.000986\n",
      "INFO | epoch 14 ( 35%) loss: 0.001262\n",
      "INFO | epoch 14 ( 70%) loss: 0.001317\n",
      "INFO | epoch 14 (100%) loss: 0.001342\n",
      "INFO | epoch 14 (test) loss: 0.001018\n",
      "INFO | epoch 15 (  0%) loss: 0.002063\n",
      "INFO | epoch 15 ( 35%) loss: 0.001371\n",
      "INFO | epoch 15 ( 70%) loss: 0.001394\n",
      "INFO | epoch 15 (100%) loss: 0.001434\n",
      "INFO | epoch 15 (test) loss: 0.000980\n",
      "INFO | epoch 16 (  0%) loss: 0.001144\n",
      "INFO | epoch 16 ( 35%) loss: 0.001572\n",
      "INFO | epoch 16 ( 70%) loss: 0.001476\n",
      "INFO | epoch 16 (100%) loss: 0.001522\n",
      "INFO | epoch 16 (test) loss: 0.001220\n",
      "INFO | epoch 17 (  0%) loss: 0.002101\n",
      "INFO | epoch 17 ( 35%) loss: 0.002484\n",
      "INFO | epoch 17 ( 70%) loss: 0.002253\n",
      "INFO | epoch 17 (100%) loss: 0.002031\n",
      "INFO | epoch 17 (test) loss: 0.000989\n",
      "INFO | epoch 18 (  0%) loss: 0.001416\n",
      "INFO | epoch 18 ( 35%) loss: 0.001090\n",
      "INFO | epoch 18 ( 70%) loss: 0.000918\n",
      "INFO | epoch 18 (100%) loss: 0.000934\n",
      "INFO | epoch 18 (test) loss: 0.000736\n",
      "INFO | epoch 19 (  0%) loss: 0.000537\n",
      "INFO | epoch 19 ( 35%) loss: 0.000599\n",
      "INFO | epoch 19 ( 70%) loss: 0.000593\n",
      "INFO | epoch 19 (100%) loss: 0.000610\n",
      "INFO | epoch 19 (test) loss: 0.000583\n",
      "INFO | epoch 20 (  0%) loss: 0.000260\n",
      "INFO | epoch 20 ( 35%) loss: 0.000431\n",
      "INFO | epoch 20 ( 70%) loss: 0.000484\n",
      "INFO | epoch 20 (100%) loss: 0.000521\n",
      "INFO | epoch 20 (test) loss: 0.000617\n",
      "INFO | model blob saved to /home/jmsdnns/ML/pallets/saved/ae.onehot.pkl\n",
      "INFO | training losses saved to /home/jmsdnns/ML/pallets/saved/ae.onehot.json\n"
     ]
    }
   ],
   "source": [
    "model = M.ae.NaiveOneHotAutoencoder()\n",
    "criterion = torch.nn.CrossEntropyLoss()\n",
    "\n",
    "train_losses, test_losses = M.ae.train(\n",
    "    device, model, criterion, train_loader, test_loader,\n",
    "    learn_rate=LR, epochs=EPOCHS\n",
    ")\n",
    "\n",
    "M.save(SAVE_NAME, model, train_losses, test_losses)\n"
   ]
  },
  {
   "cell_type": "markdown",
   "id": "6bfcbdcd",
   "metadata": {},
   "source": [
    "# Results"
   ]
  },
  {
   "cell_type": "code",
   "execution_count": 9,
   "id": "84593a4d",
   "metadata": {},
   "outputs": [
    {
     "data": {
      "image/png": "[encoded data removed]",
      "text/plain": [
       "<Figure size 640x480 with 1 Axes>"
      ]
     },
     "metadata": {},
     "output_type": "display_data"
    }
   ],
   "source": [
    "punk, _ = next(iter(train_loader))\n",
    "reconstructed = model(punk.to(device))\n",
    "reconstructed = reconstructed.detach().cpu()\n",
    "some_image = reconstructed[0]\n",
    "\n",
    "some_image = DS.one_hot_to_rgba(some_image, mapper)\n",
    "\n",
    "pil_image = to_pil_image(some_image.clone().detach())\n",
    "plt.imshow(pil_image)\n",
    "plt.axis('off')\n",
    "plt.show()"
   ]
  },
  {
   "cell_type": "code",
   "execution_count": 10,
   "id": "fd3506ac",
   "metadata": {},
   "outputs": [
    {
     "data": {
      "image/png": "[encoded data removed]",
      "text/plain": [
       "<Figure size 640x480 with 1 Axes>"
      ]
     },
     "metadata": {},
     "output_type": "display_data"
    },
    {
     "ename": "",
     "evalue": "",
     "output_type": "error",
     "traceback": [
      "\u001b[1;31mThe Kernel crashed while executing code in the the current cell or a previous cell. Please review the code in the cell(s) to identify a possible cause of the failure. Click <a href='https://aka.ms/vscodeJupyterKernelCrash'>here</a> for more info. View Jupyter <a href='command:jupyter.viewOutput'>log</a> for further details."
     ]
    }
   ],
   "source": [
    "plt.title(\"Train & Test loss\")\n",
    "plt.plot(train_losses, label='train loss')\n",
    "plt.plot(test_losses, label='test loss')\n",
    "plt.legend()\n",
    "plt.show()"
   ]
  }
 ],
 "metadata": {
  "kernelspec": {
   "display_name": "Python 3 (ipykernel)",
   "language": "python",
   "name": "python3"
  },
  "language_info": {
   "codemirror_mode": {
    "name": "ipython",
    "version": 3
   },
   "file_extension": ".py",
   "mimetype": "text/x-python",
   "name": "python",
   "nbconvert_exporter": "python",
   "pygments_lexer": "ipython3",
   "version": "3.11.6"
  }
 },
 "nbformat": 4,
 "nbformat_minor": 5
}
