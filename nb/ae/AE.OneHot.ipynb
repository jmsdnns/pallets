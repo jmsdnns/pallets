{
 "cells": [
  {
   "cell_type": "markdown",
   "id": "c1b184d4",
   "metadata": {},
   "source": [
    "# Autoencoder w/ One Hot"
   ]
  },
  {
   "cell_type": "code",
   "execution_count": 1,
   "id": "19d0f047",
   "metadata": {
    "slideshow": {
     "slide_type": ""
    },
    "tags": []
   },
   "outputs": [],
   "source": [
    "import torch\n",
    "from torch.utils.data import DataLoader, SubsetRandomSampler\n",
    "from torchvision.transforms.functional import to_pil_image\n",
    "import matplotlib.pyplot as plt\n",
    "%matplotlib inline"
   ]
  },
  {
   "cell_type": "code",
   "execution_count": 3,
   "id": "f42bf158",
   "metadata": {},
   "outputs": [],
   "source": [
    "# Load pallets library from project root\n",
    "import sys, os\n",
    "sys.path.append(os.path.abspath(os.path.join(os.getcwd(), '..', '..')))\n",
    "\n",
    "from pallets import (\n",
    "    images as I,\n",
    "    datasets as DS,\n",
    "    models as M,\n",
    "    logging as L\n",
    ")\n"
   ]
  },
  {
   "cell_type": "markdown",
   "id": "fdb35bdb",
   "metadata": {},
   "source": [
    "# Settings"
   ]
  },
  {
   "cell_type": "code",
   "execution_count": 4,
   "id": "93b89466",
   "metadata": {},
   "outputs": [],
   "source": [
    "SAVE_NAME = 'ae.onehot'"
   ]
  },
  {
   "cell_type": "code",
   "execution_count": 5,
   "id": "7887e5ae",
   "metadata": {},
   "outputs": [],
   "source": [
    "USE_GPU = True\n",
    "LOG_LEVEL = 'INFO'\n",
    "LABELS_FILE = 'pallets_labels.json'\n",
    "\n",
    "TEST_SIZE = 1000\n",
    "EPOCHS = 10\n",
    "LR = 1e-03\n",
    "BATCH_SIZE = 32\n"
   ]
  },
  {
   "cell_type": "code",
   "execution_count": 6,
   "id": "189cf27e",
   "metadata": {},
   "outputs": [
    {
     "data": {
      "text/plain": [
       "<Logger pallets (INFO)>"
      ]
     },
     "execution_count": 6,
     "metadata": {},
     "output_type": "execute_result"
    }
   ],
   "source": [
    "# To GPU, or not to GPU\n",
    "device = M.get_device(require_gpu=USE_GPU)\n",
    "\n",
    "# Logging\n",
    "L.init_logger(level=LOG_LEVEL, notebook=True)\n"
   ]
  },
  {
   "cell_type": "markdown",
   "id": "adfd5648",
   "metadata": {},
   "source": [
    "# Dataset"
   ]
  },
  {
   "cell_type": "code",
   "execution_count": 6,
   "id": "864aacb2",
   "metadata": {},
   "outputs": [
    {
     "name": "stdout",
     "output_type": "stream",
     "text": [
      "INFO | loading punk images\n",
      "INFO | - image 0\n",
      "INFO | - image 1000\n",
      "INFO | - image 2000\n",
      "INFO | - image 3000\n",
      "INFO | - image 4000\n",
      "INFO | - image 5000\n",
      "INFO | - image 6000\n",
      "INFO | - image 7000\n",
      "INFO | - image 8000\n",
      "INFO | - image 9000\n",
      "INFO | punk images complete\n",
      "INFO | loading punk labels: ../../cpunks-10k/cpunks/data/punks.json\n"
     ]
    }
   ],
   "source": [
    "all_colors = I.get_punk_colors()\n",
    "mapper = DS.ColorOneHotMapper(all_colors)\n",
    "dataset = DS.OneHotCPunksDataset(labels_file=LABELS_FILE, test_size=TEST_SIZE)\n",
    "\n",
    "# Uncomment to put entire dataset in GPU RAM\n",
    "# dataset = DS.FastOneHotCPunksDataset(\n",
    "#     device, mapper, labels_file=LABELS_FILE, test_size=TEST_SIZE\n",
    "# )"
   ]
  },
  {
   "cell_type": "code",
   "execution_count": null,
   "id": "f3afb633",
   "metadata": {},
   "outputs": [],
   "source": [
    "train_sampler = SubsetRandomSampler(dataset.train_idx)\n",
    "test_sampler = SubsetRandomSampler(dataset.test_idx)\n",
    "\n",
    "train_loader = DataLoader(dataset, batch_size=BATCH_SIZE, sampler=train_sampler)\n",
    "test_loader = DataLoader(dataset, batch_size=BATCH_SIZE, sampler=test_sampler)\n"
   ]
  },
  {
   "cell_type": "markdown",
   "id": "8801d898",
   "metadata": {},
   "source": [
    "# Training"
   ]
  },
  {
   "cell_type": "code",
   "execution_count": 14,
   "id": "93fd96d3",
   "metadata": {},
   "outputs": [
    {
     "name": "stdout",
     "output_type": "stream",
     "text": [
      "INFO | model: pallets.models.ae.NaiveOneHotAutoencoder\n",
      "INFO | criterion: torch.nn.modules.loss.CrossEntropyLoss\n",
      "INFO | learn rate: 0.001\n",
      "INFO | epochs: 10\n",
      "INFO | epoch 1 (  0%) loss: 2.703429\n",
      "INFO | epoch 1 ( 35%) loss: 0.655435\n",
      "INFO | epoch 1 ( 70%) loss: 0.458394\n",
      "INFO | epoch 1 (100%) loss: 0.372312\n",
      "INFO | epoch 1 (test) loss: 0.034508\n",
      "INFO | epoch 2 (  0%) loss: 0.130177\n",
      "INFO | epoch 2 ( 35%) loss: 0.111122\n",
      "INFO | epoch 2 ( 70%) loss: 0.093883\n",
      "INFO | epoch 2 (100%) loss: 0.083678\n",
      "INFO | epoch 2 (test) loss: 0.013702\n",
      "INFO | epoch 3 (  0%) loss: 0.044195\n",
      "INFO | epoch 3 ( 35%) loss: 0.045438\n",
      "INFO | epoch 3 ( 70%) loss: 0.041587\n",
      "INFO | epoch 3 (100%) loss: 0.038649\n",
      "INFO | epoch 3 (test) loss: 0.008047\n",
      "INFO | epoch 4 (  0%) loss: 0.025533\n",
      "INFO | epoch 4 ( 35%) loss: 0.026346\n",
      "INFO | epoch 4 ( 70%) loss: 0.024624\n",
      "INFO | epoch 4 (100%) loss: 0.023292\n",
      "INFO | epoch 4 (test) loss: 0.005664\n",
      "INFO | epoch 5 (  0%) loss: 0.026679\n",
      "INFO | epoch 5 ( 35%) loss: 0.017045\n",
      "INFO | epoch 5 ( 70%) loss: 0.016294\n",
      "INFO | epoch 5 (100%) loss: 0.015719\n",
      "INFO | epoch 5 (test) loss: 0.004080\n",
      "INFO | epoch 6 (  0%) loss: 0.014756\n",
      "INFO | epoch 6 ( 35%) loss: 0.011992\n",
      "INFO | epoch 6 ( 70%) loss: 0.011561\n",
      "INFO | epoch 6 (100%) loss: 0.011326\n",
      "INFO | epoch 6 (test) loss: 0.003244\n",
      "INFO | epoch 7 (  0%) loss: 0.006993\n",
      "INFO | epoch 7 ( 35%) loss: 0.009237\n",
      "INFO | epoch 7 ( 70%) loss: 0.008805\n",
      "INFO | epoch 7 (100%) loss: 0.008629\n",
      "INFO | epoch 7 (test) loss: 0.002667\n",
      "INFO | epoch 8 (  0%) loss: 0.008406\n",
      "INFO | epoch 8 ( 35%) loss: 0.006786\n",
      "INFO | epoch 8 ( 70%) loss: 0.006678\n",
      "INFO | epoch 8 (100%) loss: 0.006612\n",
      "INFO | epoch 8 (test) loss: 0.002204\n",
      "INFO | epoch 9 (  0%) loss: 0.003929\n",
      "INFO | epoch 9 ( 35%) loss: 0.005595\n",
      "INFO | epoch 9 ( 70%) loss: 0.005384\n",
      "INFO | epoch 9 (100%) loss: 0.005197\n",
      "INFO | epoch 9 (test) loss: 0.001783\n",
      "INFO | epoch 10 (  0%) loss: 0.004786\n",
      "INFO | epoch 10 ( 35%) loss: 0.004141\n",
      "INFO | epoch 10 ( 70%) loss: 0.004018\n",
      "INFO | epoch 10 (100%) loss: 0.003869\n",
      "INFO | epoch 10 (test) loss: 0.001550\n",
      "INFO | model blob saved to /home/jmsdnns/ML/pallets/saved/ae.naive.onehot.pkl\n",
      "INFO | training losses saved to /home/jmsdnns/ML/pallets/saved/ae.naive.onehot.json\n"
     ]
    }
   ],
   "source": [
    "model = M.ae.NaiveOneHotAutoencoder()\n",
    "criterion = torch.nn.CrossEntropyLoss()\n",
    "\n",
    "train_losses, test_losses = M.ae.train(\n",
    "    device, model, criterion, train_loader, test_loader,\n",
    "    learn_rate=LR, epochs=EPOCHS\n",
    ")\n",
    "\n",
    "M.save(SAVE_NAME, model, train_losses, test_losses)\n",
    "\n"
   ]
  },
  {
   "cell_type": "markdown",
   "id": "6bfcbdcd",
   "metadata": {},
   "source": [
    "# Results"
   ]
  },
  {
   "cell_type": "code",
   "execution_count": 15,
   "id": "84593a4d",
   "metadata": {},
   "outputs": [
    {
     "data": {
      "image/png": "[encoded data removed]",
      "text/plain": [
       "<Figure size 640x480 with 1 Axes>"
      ]
     },
     "metadata": {},
     "output_type": "display_data"
    }
   ],
   "source": [
    "punk, _ = next(iter(train_loader))\n",
    "reconstructed = model(punk.to(device))\n",
    "reconstructed = reconstructed.detach().cpu()\n",
    "some_image = reconstructed[0]\n",
    "\n",
    "some_image = DS.one_hot_to_rgba(some_image, mapper)\n",
    "\n",
    "pil_image = to_pil_image(some_image.clone().detach())\n",
    "plt.imshow(pil_image)\n",
    "plt.axis('off')\n",
    "plt.show()"
   ]
  },
  {
   "cell_type": "code",
   "execution_count": 16,
   "id": "fd3506ac",
   "metadata": {},
   "outputs": [
    {
     "data": {
      "image/png": "[encoded data removed]",
      "text/plain": [
       "<Figure size 640x480 with 1 Axes>"
      ]
     },
     "metadata": {},
     "output_type": "display_data"
    }
   ],
   "source": [
    "plt.title(\"Train & Test loss\")\n",
    "plt.plot(train_losses, label='train loss')\n",
    "plt.plot(test_losses, label='test loss')\n",
    "plt.legend()\n",
    "plt.show()"
   ]
  }
 ],
 "metadata": {
  "kernelspec": {
   "display_name": "Python 3 (ipykernel)",
   "language": "python",
   "name": "python3"
  },
  "language_info": {
   "codemirror_mode": {
    "name": "ipython",
    "version": 3
   },
   "file_extension": ".py",
   "mimetype": "text/x-python",
   "name": "python",
   "nbconvert_exporter": "python",
   "pygments_lexer": "ipython3",
   "version": "3.11.6"
  }
 },
 "nbformat": 4,
 "nbformat_minor": 5
}
