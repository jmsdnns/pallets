{
 "cells": [
  {
   "cell_type": "markdown",
   "id": "c1b184d4",
   "metadata": {},
   "source": [
    "# RGBA vs One-Hot Encoded"
   ]
  },
  {
   "cell_type": "code",
   "execution_count": 1,
   "id": "19d0f047",
   "metadata": {
    "slideshow": {
     "slide_type": ""
    },
    "tags": []
   },
   "outputs": [],
   "source": [
    "import torch\n",
    "from torch.utils.data import DataLoader, SubsetRandomSampler\n",
    "from torchvision.transforms.functional import to_pil_image\n",
    "import matplotlib.pyplot as plt\n",
    "%matplotlib inline"
   ]
  },
  {
   "cell_type": "code",
   "execution_count": 2,
   "id": "f42bf158",
   "metadata": {},
   "outputs": [],
   "source": [
    "# Load pallets library from project root\n",
    "import sys, os\n",
    "sys.path.append(os.path.abspath(os.path.join(os.getcwd(), '..', '..')))\n",
    "\n",
    "from pallets import (\n",
    "    images as I,\n",
    "    datasets as DS,\n",
    "    models as M,\n",
    "    logging as L\n",
    ")\n"
   ]
  },
  {
   "cell_type": "markdown",
   "id": "fdb35bdb",
   "metadata": {},
   "source": [
    "# Settings"
   ]
  },
  {
   "cell_type": "code",
   "execution_count": null,
   "id": "ee13b428",
   "metadata": {},
   "outputs": [],
   "source": [
    "SAVE_NAME = 'ae.conv.onehot'"
   ]
  },
  {
   "cell_type": "code",
   "execution_count": 3,
   "id": "7887e5ae",
   "metadata": {},
   "outputs": [],
   "source": [
    "USE_GPU = True\n",
    "LOG_LEVEL = 'INFO'\n",
    "LABELS_FILE = '../artifacts/pallets_labels.json'\n",
    "\n",
    "TEST_SIZE = 1000\n",
    "EPOCHS = 10\n",
    "LR = 1e-03\n",
    "BATCH_SIZE = 32\n"
   ]
  },
  {
   "cell_type": "code",
   "execution_count": 4,
   "id": "189cf27e",
   "metadata": {},
   "outputs": [
    {
     "data": {
      "text/plain": [
       "<Logger pallets (INFO)>"
      ]
     },
     "execution_count": 4,
     "metadata": {},
     "output_type": "execute_result"
    }
   ],
   "source": [
    "# To GPU, or not to GPU\n",
    "device = M.get_device(require_gpu=USE_GPU)\n",
    "\n",
    "# Logging\n",
    "L.init_logger(level=LOG_LEVEL, notebook=True)\n"
   ]
  },
  {
   "cell_type": "markdown",
   "id": "adfd5648",
   "metadata": {},
   "source": [
    "# Dataset"
   ]
  },
  {
   "cell_type": "code",
   "execution_count": 6,
   "id": "864aacb2",
   "metadata": {},
   "outputs": [
    {
     "name": "stdout",
     "output_type": "stream",
     "text": [
      "INFO | loading punk images\n",
      "INFO | - image 0\n",
      "INFO | - image 1000\n",
      "INFO | - image 2000\n",
      "INFO | - image 3000\n",
      "INFO | - image 4000\n",
      "INFO | - image 5000\n",
      "INFO | - image 6000\n",
      "INFO | - image 7000\n",
      "INFO | - image 8000\n",
      "INFO | - image 9000\n",
      "INFO | punk images complete\n",
      "INFO | loading punk labels: ../../cpunks-10k/cpunks/data/punks.json\n"
     ]
    }
   ],
   "source": [
    "all_colors = I.get_punk_colors()\n",
    "mapper = DS.ColorOneHotMapper(all_colors)\n",
    "dataset = DS.OneHotCPunksDataset(labels_file=LABELS_FILE, test_size=TEST_SIZE)\n",
    "\n",
    "# Uncomment to put entire dataset in GPU RAM\n",
    "# dataset = DS.FastOneHotCPunksDataset(\n",
    "#     device, mapper, labels_file=LABELS_FILE, test_size=TEST_SIZE\n",
    "# )"
   ]
  },
  {
   "cell_type": "code",
   "execution_count": null,
   "id": "14ddee1a",
   "metadata": {},
   "outputs": [],
   "source": [
    "train_sampler = SubsetRandomSampler(dataset.train_idx)\n",
    "test_sampler = SubsetRandomSampler(dataset.test_idx)\n",
    "\n",
    "train_loader = DataLoader(dataset, batch_size=BATCH_SIZE, sampler=train_sampler)\n",
    "test_loader = DataLoader(dataset, batch_size=BATCH_SIZE, sampler=test_sampler)\n"
   ]
  },
  {
   "cell_type": "markdown",
   "id": "e17eab0f",
   "metadata": {},
   "source": [
    "# Training"
   ]
  },
  {
   "cell_type": "code",
   "execution_count": 17,
   "id": "c8920a9f",
   "metadata": {},
   "outputs": [
    {
     "name": "stdout",
     "output_type": "stream",
     "text": [
      "INFO | model: pallets.models.ae.ConvOneHotAutoencoder\n",
      "INFO | criterion: torch.nn.modules.loss.CrossEntropyLoss\n",
      "INFO | learn rate: 0.001\n",
      "INFO | epochs: 10\n",
      "INFO | epoch 1 (  0%) loss: 2.694925\n",
      "INFO | epoch 1 ( 35%) loss: 0.897796\n",
      "INFO | epoch 1 ( 70%) loss: 0.602890\n",
      "INFO | epoch 1 (100%) loss: 0.479089\n",
      "INFO | epoch 1 (test) loss: 0.032021\n",
      "INFO | epoch 2 (  0%) loss: 0.128051\n",
      "INFO | epoch 2 ( 35%) loss: 0.090577\n",
      "INFO | epoch 2 ( 70%) loss: 0.071084\n",
      "INFO | epoch 2 (100%) loss: 0.060470\n",
      "INFO | epoch 2 (test) loss: 0.006846\n",
      "INFO | epoch 3 (  0%) loss: 0.032125\n",
      "INFO | epoch 3 ( 35%) loss: 0.021741\n",
      "INFO | epoch 3 ( 70%) loss: 0.018259\n",
      "INFO | epoch 3 (100%) loss: 0.015701\n",
      "INFO | epoch 3 (test) loss: 0.002096\n",
      "INFO | epoch 4 (  0%) loss: 0.006980\n",
      "INFO | epoch 4 ( 35%) loss: 0.006792\n",
      "INFO | epoch 4 ( 70%) loss: 0.006243\n",
      "INFO | epoch 4 (100%) loss: 0.005629\n",
      "INFO | epoch 4 (test) loss: 0.000976\n",
      "INFO | epoch 5 (  0%) loss: 0.003512\n",
      "INFO | epoch 5 ( 35%) loss: 0.003242\n",
      "INFO | epoch 5 ( 70%) loss: 0.002893\n",
      "INFO | epoch 5 (100%) loss: 0.002661\n",
      "INFO | epoch 5 (test) loss: 0.000533\n",
      "INFO | epoch 6 (  0%) loss: 0.001100\n",
      "INFO | epoch 6 ( 35%) loss: 0.001850\n",
      "INFO | epoch 6 ( 70%) loss: 0.001596\n",
      "INFO | epoch 6 (100%) loss: 0.001455\n",
      "INFO | epoch 6 (test) loss: 0.000381\n",
      "INFO | epoch 7 (  0%) loss: 0.001193\n",
      "INFO | epoch 7 ( 35%) loss: 0.000802\n",
      "INFO | epoch 7 ( 70%) loss: 0.000775\n",
      "INFO | epoch 7 (100%) loss: 0.000741\n",
      "INFO | epoch 7 (test) loss: 0.000262\n",
      "INFO | epoch 8 (  0%) loss: 0.000464\n",
      "INFO | epoch 8 ( 35%) loss: 0.000485\n",
      "INFO | epoch 8 ( 70%) loss: 0.000481\n",
      "INFO | epoch 8 (100%) loss: 0.000472\n",
      "INFO | epoch 8 (test) loss: 0.000235\n",
      "INFO | epoch 9 (  0%) loss: 0.000281\n",
      "INFO | epoch 9 ( 35%) loss: 0.000386\n",
      "INFO | epoch 9 ( 70%) loss: 0.000361\n",
      "INFO | epoch 9 (100%) loss: 0.000348\n",
      "INFO | epoch 9 (test) loss: 0.000206\n",
      "INFO | epoch 10 (  0%) loss: 0.000117\n",
      "INFO | epoch 10 ( 35%) loss: 0.000229\n",
      "INFO | epoch 10 ( 70%) loss: 0.000224\n",
      "INFO | epoch 10 (100%) loss: 0.000210\n",
      "INFO | epoch 10 (test) loss: 0.000178\n",
      "INFO | model blob saved to /home/jmsdnns/ML/pallets/saved/ae.conv.onehot.pkl\n",
      "INFO | training losses saved to /home/jmsdnns/ML/pallets/saved/ae.conv.onehot.json\n"
     ]
    }
   ],
   "source": [
    "model = M.ae.ConvOneHotAutoencoder()\n",
    "criterion = torch.nn.CrossEntropyLoss()\n",
    "\n",
    "train_losses, test_losses = M.ae.train(\n",
    "    device, model, criterion, train_loader, test_loader,\n",
    "    learn_rate=LR, epochs=EPOCHS\n",
    ")\n",
    "\n",
    "M.save(SAVE_NAME, model, train_losses, test_losses)\n",
    "\n"
   ]
  },
  {
   "cell_type": "markdown",
   "id": "0f75f35c",
   "metadata": {},
   "source": [
    "# Results"
   ]
  },
  {
   "cell_type": "code",
   "execution_count": 18,
   "id": "baa6e86f",
   "metadata": {},
   "outputs": [
    {
     "data": {
      "image/png": "[encoded data removed]",
      "text/plain": [
       "<Figure size 640x480 with 1 Axes>"
      ]
     },
     "metadata": {},
     "output_type": "display_data"
    }
   ],
   "source": [
    "punk, _ = next(iter(train_loader))\n",
    "reconstructed = model(punk.to(device))\n",
    "reconstructed = reconstructed.detach().cpu()\n",
    "some_image = reconstructed[22]\n",
    "\n",
    "some_image = DS.one_hot_to_rgba(some_image, mapper)\n",
    "\n",
    "pil_image = to_pil_image(some_image.clone().detach())\n",
    "plt.imshow(pil_image)\n",
    "plt.axis('off')\n",
    "plt.show()"
   ]
  },
  {
   "cell_type": "code",
   "execution_count": 19,
   "id": "55dc149e",
   "metadata": {},
   "outputs": [
    {
     "data": {
      "image/png": "[encoded data removed]",
      "text/plain": [
       "<Figure size 640x480 with 1 Axes>"
      ]
     },
     "metadata": {},
     "output_type": "display_data"
    },
    {
     "ename": "",
     "evalue": "",
     "output_type": "error",
     "traceback": [
      "\u001b[1;31mThe Kernel crashed while executing code in the the current cell or a previous cell. Please review the code in the cell(s) to identify a possible cause of the failure. Click <a href='https://aka.ms/vscodeJupyterKernelCrash'>here</a> for more info. View Jupyter <a href='command:jupyter.viewOutput'>log</a> for further details."
     ]
    }
   ],
   "source": [
    "plt.title(\"Train & Test loss\")\n",
    "plt.plot(train_losses, label='train loss')\n",
    "plt.plot(test_losses, label='test loss')\n",
    "plt.legend()\n",
    "plt.show()"
   ]
  },
  {
   "cell_type": "code",
   "execution_count": null,
   "id": "1ac9c638",
   "metadata": {},
   "outputs": [],
   "source": []
  }
 ],
 "metadata": {
  "kernelspec": {
   "display_name": "Python 3 (ipykernel)",
   "language": "python",
   "name": "python3"
  },
  "language_info": {
   "codemirror_mode": {
    "name": "ipython",
    "version": 3
   },
   "file_extension": ".py",
   "mimetype": "text/x-python",
   "name": "python",
   "nbconvert_exporter": "python",
   "pygments_lexer": "ipython3",
   "version": "3.11.6"
  }
 },
 "nbformat": 4,
 "nbformat_minor": 5
}
