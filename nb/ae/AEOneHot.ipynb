{
 "cells": [
  {
   "cell_type": "markdown",
   "id": "c1b184d4",
   "metadata": {},
   "source": [
    "# Autoencoder w/ One Hot"
   ]
  },
  {
   "cell_type": "code",
   "execution_count": 1,
   "id": "19d0f047",
   "metadata": {
    "slideshow": {
     "slide_type": ""
    },
    "tags": []
   },
   "outputs": [],
   "source": [
    "import torch\n",
    "from torch.utils.data import DataLoader, SubsetRandomSampler\n",
    "from torchvision.transforms.functional import to_pil_image\n",
    "import matplotlib.pyplot as plt\n",
    "%matplotlib inline"
   ]
  },
  {
   "cell_type": "code",
   "execution_count": 2,
   "id": "f42bf158",
   "metadata": {},
   "outputs": [],
   "source": [
    "# Load pallets library from project root\n",
    "import sys, os\n",
    "sys.path.append(os.path.abspath(os.path.join(os.getcwd(), '..', '..')))\n",
    "\n",
    "from pallets import (\n",
    "    images as I,\n",
    "    datasets as DS,\n",
    "    models as M,\n",
    "    logging as L\n",
    ")\n"
   ]
  },
  {
   "cell_type": "markdown",
   "id": "fdb35bdb",
   "metadata": {},
   "source": [
    "# Settings"
   ]
  },
  {
   "cell_type": "code",
   "execution_count": 3,
   "id": "93b89466",
   "metadata": {},
   "outputs": [],
   "source": [
    "SAVE_NAME = 'ae.onehot'"
   ]
  },
  {
   "cell_type": "code",
   "execution_count": 4,
   "id": "7887e5ae",
   "metadata": {},
   "outputs": [],
   "source": [
    "USE_GPU = True\n",
    "LOG_LEVEL = 'INFO'\n",
    "LABELS_FILE = 'pallets_labels.json'\n",
    "\n",
    "TEST_SIZE = 1000\n",
    "EPOCHS = 20\n",
    "LR = 1e-03\n",
    "BATCH_SIZE = 32\n"
   ]
  },
  {
   "cell_type": "code",
   "execution_count": 5,
   "id": "189cf27e",
   "metadata": {},
   "outputs": [
    {
     "data": {
      "text/plain": [
       "<Logger pallets (INFO)>"
      ]
     },
     "execution_count": 5,
     "metadata": {},
     "output_type": "execute_result"
    }
   ],
   "source": [
    "# To GPU, or not to GPU\n",
    "device = M.get_device(require_gpu=USE_GPU)\n",
    "\n",
    "# Logging\n",
    "L.init_logger(level=LOG_LEVEL, notebook=True)\n"
   ]
  },
  {
   "cell_type": "markdown",
   "id": "adfd5648",
   "metadata": {},
   "source": [
    "# Dataset"
   ]
  },
  {
   "cell_type": "code",
   "execution_count": 6,
   "id": "864aacb2",
   "metadata": {},
   "outputs": [
    {
     "name": "stdout",
     "output_type": "stream",
     "text": [
      "INFO | loading punk images\n",
      "INFO | - image 0\n",
      "INFO | - image 1000\n",
      "INFO | - image 2000\n",
      "INFO | - image 3000\n",
      "INFO | - image 4000\n",
      "INFO | - image 5000\n",
      "INFO | - image 6000\n",
      "INFO | - image 7000\n",
      "INFO | - image 8000\n",
      "INFO | - image 9000\n",
      "INFO | punk images complete\n",
      "INFO | loading punk labels: pallets_labels.json\n"
     ]
    }
   ],
   "source": [
    "all_colors = I.get_punk_colors()\n",
    "mapper = DS.ColorOneHotMapper(all_colors)\n",
    "dataset = DS.OneHotCPunksDataset(mapper, labels_file=LABELS_FILE, test_size=TEST_SIZE)\n",
    "\n",
    "# Uncomment to put entire dataset in GPU RAM\n",
    "# dataset = DS.FastOneHotCPunksDataset(\n",
    "#     device, mapper, labels_file=LABELS_FILE, test_size=TEST_SIZE\n",
    "# )"
   ]
  },
  {
   "cell_type": "code",
   "execution_count": 7,
   "id": "f3afb633",
   "metadata": {},
   "outputs": [],
   "source": [
    "train_sampler = SubsetRandomSampler(dataset.train_idx)\n",
    "test_sampler = SubsetRandomSampler(dataset.test_idx)\n",
    "\n",
    "train_loader = DataLoader(dataset, batch_size=BATCH_SIZE, sampler=train_sampler)\n",
    "test_loader = DataLoader(dataset, batch_size=BATCH_SIZE, sampler=test_sampler)\n"
   ]
  },
  {
   "cell_type": "markdown",
   "id": "8801d898",
   "metadata": {},
   "source": [
    "# Training"
   ]
  },
  {
   "cell_type": "code",
   "execution_count": 8,
   "id": "93fd96d3",
   "metadata": {},
   "outputs": [
    {
     "name": "stdout",
     "output_type": "stream",
     "text": [
      "INFO | model: pallets.models.ae.AEOneHot\n",
      "INFO | criterion: torch.nn.modules.loss.CrossEntropyLoss\n",
      "INFO | learn rate: 0.001\n",
      "INFO | epochs: 20\n",
      "INFO | epoch 1 (  0%) loss: 2.702146\n",
      "INFO | epoch 1 ( 35%) loss: 0.641268\n",
      "INFO | epoch 1 ( 70%) loss: 0.429861\n",
      "INFO | epoch 1 (100%) loss: 0.343722\n",
      "INFO | epoch 1 (test) loss: 0.025397\n",
      "INFO | epoch 2 (  0%) loss: 0.093849\n",
      "INFO | epoch 2 ( 35%) loss: 0.083924\n",
      "INFO | epoch 2 ( 70%) loss: 0.070849\n",
      "INFO | epoch 2 (100%) loss: 0.062984\n",
      "INFO | epoch 2 (test) loss: 0.010011\n",
      "INFO | epoch 3 (  0%) loss: 0.043845\n",
      "INFO | epoch 3 ( 35%) loss: 0.035484\n",
      "INFO | epoch 3 ( 70%) loss: 0.031486\n",
      "INFO | epoch 3 (100%) loss: 0.029306\n",
      "INFO | epoch 3 (test) loss: 0.005895\n",
      "INFO | epoch 4 (  0%) loss: 0.023858\n",
      "INFO | epoch 4 ( 35%) loss: 0.019508\n",
      "INFO | epoch 4 ( 70%) loss: 0.018061\n",
      "INFO | epoch 4 (100%) loss: 0.017288\n",
      "INFO | epoch 4 (test) loss: 0.003962\n",
      "INFO | epoch 5 (  0%) loss: 0.013934\n",
      "INFO | epoch 5 ( 35%) loss: 0.012579\n",
      "INFO | epoch 5 ( 70%) loss: 0.011955\n",
      "INFO | epoch 5 (100%) loss: 0.011610\n",
      "INFO | epoch 5 (test) loss: 0.003141\n",
      "INFO | epoch 6 (  0%) loss: 0.009598\n",
      "INFO | epoch 6 ( 35%) loss: 0.008874\n",
      "INFO | epoch 6 ( 70%) loss: 0.008562\n",
      "INFO | epoch 6 (100%) loss: 0.008417\n",
      "INFO | epoch 6 (test) loss: 0.002257\n",
      "INFO | epoch 7 (  0%) loss: 0.006814\n",
      "INFO | epoch 7 ( 35%) loss: 0.006343\n",
      "INFO | epoch 7 ( 70%) loss: 0.006192\n",
      "INFO | epoch 7 (100%) loss: 0.006024\n",
      "INFO | epoch 7 (test) loss: 0.001750\n",
      "INFO | epoch 8 (  0%) loss: 0.004836\n",
      "INFO | epoch 8 ( 35%) loss: 0.004854\n",
      "INFO | epoch 8 ( 70%) loss: 0.004626\n",
      "INFO | epoch 8 (100%) loss: 0.004511\n",
      "INFO | epoch 8 (test) loss: 0.001510\n",
      "INFO | epoch 9 (  0%) loss: 0.004235\n",
      "INFO | epoch 9 ( 35%) loss: 0.003408\n",
      "INFO | epoch 9 ( 70%) loss: 0.003480\n",
      "INFO | epoch 9 (100%) loss: 0.003425\n",
      "INFO | epoch 9 (test) loss: 0.001246\n",
      "INFO | epoch 10 (  0%) loss: 0.003116\n",
      "INFO | epoch 10 ( 35%) loss: 0.002802\n",
      "INFO | epoch 10 ( 70%) loss: 0.002789\n",
      "INFO | epoch 10 (100%) loss: 0.002783\n",
      "INFO | epoch 10 (test) loss: 0.001159\n",
      "INFO | epoch 11 (  0%) loss: 0.002058\n",
      "INFO | epoch 11 ( 35%) loss: 0.002389\n",
      "INFO | epoch 11 ( 70%) loss: 0.002290\n",
      "INFO | epoch 11 (100%) loss: 0.002274\n",
      "INFO | epoch 11 (test) loss: 0.001100\n",
      "INFO | epoch 12 (  0%) loss: 0.001880\n",
      "INFO | epoch 12 ( 35%) loss: 0.002080\n",
      "INFO | epoch 12 ( 70%) loss: 0.001958\n",
      "INFO | epoch 12 (100%) loss: 0.001918\n",
      "INFO | epoch 12 (test) loss: 0.000929\n",
      "INFO | epoch 13 (  0%) loss: 0.002213\n",
      "INFO | epoch 13 ( 35%) loss: 0.001582\n",
      "INFO | epoch 13 ( 70%) loss: 0.001562\n",
      "INFO | epoch 13 (100%) loss: 0.001586\n",
      "INFO | epoch 13 (test) loss: 0.001022\n",
      "INFO | epoch 14 (  0%) loss: 0.001627\n",
      "INFO | epoch 14 ( 35%) loss: 0.001368\n",
      "INFO | epoch 14 ( 70%) loss: 0.001350\n",
      "INFO | epoch 14 (100%) loss: 0.001399\n",
      "INFO | epoch 14 (test) loss: 0.000886\n",
      "INFO | epoch 15 (  0%) loss: 0.000836\n",
      "INFO | epoch 15 ( 35%) loss: 0.001202\n",
      "INFO | epoch 15 ( 70%) loss: 0.001364\n",
      "INFO | epoch 15 (100%) loss: 0.001427\n",
      "INFO | epoch 15 (test) loss: 0.000951\n",
      "INFO | epoch 16 (  0%) loss: 0.000804\n",
      "INFO | epoch 16 ( 35%) loss: 0.001573\n",
      "INFO | epoch 16 ( 70%) loss: 0.001353\n",
      "INFO | epoch 16 (100%) loss: 0.001393\n",
      "INFO | epoch 16 (test) loss: 0.000866\n",
      "INFO | epoch 17 (  0%) loss: 0.001031\n",
      "INFO | epoch 17 ( 35%) loss: 0.001018\n",
      "INFO | epoch 17 ( 70%) loss: 0.001009\n",
      "INFO | epoch 17 (100%) loss: 0.001065\n",
      "INFO | epoch 17 (test) loss: 0.001077\n",
      "INFO | epoch 18 (  0%) loss: 0.000959\n",
      "INFO | epoch 18 ( 35%) loss: 0.001817\n",
      "INFO | epoch 18 ( 70%) loss: 0.001774\n",
      "INFO | epoch 18 (100%) loss: 0.001723\n",
      "INFO | epoch 18 (test) loss: 0.000949\n",
      "INFO | epoch 19 (  0%) loss: 0.001045\n",
      "INFO | epoch 19 ( 35%) loss: 0.001279\n",
      "INFO | epoch 19 ( 70%) loss: 0.001074\n",
      "INFO | epoch 19 (100%) loss: 0.001015\n",
      "INFO | epoch 19 (test) loss: 0.000722\n",
      "INFO | epoch 20 (  0%) loss: 0.000374\n",
      "INFO | epoch 20 ( 35%) loss: 0.000641\n",
      "INFO | epoch 20 ( 70%) loss: 0.000590\n",
      "INFO | epoch 20 (100%) loss: 0.000581\n",
      "INFO | epoch 20 (test) loss: 0.000705\n",
      "INFO | model blob saved to /home/jmsdnns/ML/pallets/saved/ae.onehot.pkl\n",
      "INFO | training losses saved to /home/jmsdnns/ML/pallets/saved/ae.onehot.json\n"
     ]
    }
   ],
   "source": [
    "model = M.ae.AEOneHot()\n",
    "criterion = torch.nn.CrossEntropyLoss()\n",
    "\n",
    "train_losses, test_losses = M.ae.train(\n",
    "    device, model, criterion, train_loader, test_loader,\n",
    "    learn_rate=LR, epochs=EPOCHS\n",
    ")\n",
    "\n",
    "M.save(SAVE_NAME, model, train_losses, test_losses)\n"
   ]
  },
  {
   "cell_type": "markdown",
   "id": "6bfcbdcd",
   "metadata": {},
   "source": [
    "# Results"
   ]
  },
  {
   "cell_type": "code",
   "execution_count": 9,
   "id": "84593a4d",
   "metadata": {},
   "outputs": [
    {
     "data": {
      "image/png": "[encoded data removed]",
      "text/plain": [
       "<Figure size 640x480 with 1 Axes>"
      ]
     },
     "metadata": {},
     "output_type": "display_data"
    }
   ],
   "source": [
    "punk, _ = next(iter(train_loader))\n",
    "reconstructed = model(punk.to(device))\n",
    "reconstructed = reconstructed.detach().cpu()\n",
    "some_image = reconstructed[0]\n",
    "\n",
    "some_image = DS.one_hot_to_rgba(some_image, mapper)\n",
    "\n",
    "pil_image = to_pil_image(some_image.clone().detach())\n",
    "plt.imshow(pil_image)\n",
    "plt.axis('off')\n",
    "plt.show()"
   ]
  },
  {
   "cell_type": "code",
   "execution_count": 10,
   "id": "fd3506ac",
   "metadata": {},
   "outputs": [
    {
     "data": {
      "image/png": "[encoded data removed]",
      "text/plain": [
       "<Figure size 640x480 with 1 Axes>"
      ]
     },
     "metadata": {},
     "output_type": "display_data"
    }
   ],
   "source": [
    "plt.title(\"Train & Test loss\")\n",
    "plt.plot(train_losses, label='train loss')\n",
    "plt.plot(test_losses, label='test loss')\n",
    "plt.legend()\n",
    "plt.show()"
   ]
  }
 ],
 "metadata": {
  "kernelspec": {
   "display_name": "Python 3 (ipykernel)",
   "language": "python",
   "name": "python3"
  },
  "language_info": {
   "codemirror_mode": {
    "name": "ipython",
    "version": 3
   },
   "file_extension": ".py",
   "mimetype": "text/x-python",
   "name": "python",
   "nbconvert_exporter": "python",
   "pygments_lexer": "ipython3",
   "version": "3.11.6"
  }
 },
 "nbformat": 4,
 "nbformat_minor": 5
}
