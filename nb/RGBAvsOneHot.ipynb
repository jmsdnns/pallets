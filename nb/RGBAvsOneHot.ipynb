{
 "cells": [
  {
   "cell_type": "markdown",
   "id": "c1b184d4",
   "metadata": {},
   "source": [
    "# RGBA vs One-Hot Encoded"
   ]
  },
  {
   "cell_type": "code",
   "execution_count": 1,
   "id": "19d0f047",
   "metadata": {
    "slideshow": {
     "slide_type": ""
    },
    "tags": []
   },
   "outputs": [],
   "source": [
    "import sys\n",
    "import os\n",
    "import numpy as np\n",
    "import torch\n",
    "from torch.utils.data import DataLoader, SubsetRandomSampler\n",
    "from torchvision.transforms.functional import to_pil_image\n",
    "import matplotlib.pyplot as plt\n",
    "import random\n"
   ]
  },
  {
   "cell_type": "markdown",
   "id": "fdb35bdb",
   "metadata": {},
   "source": [
    "## Prepare Environment"
   ]
  },
  {
   "cell_type": "code",
   "execution_count": 2,
   "id": "f42bf158",
   "metadata": {},
   "outputs": [],
   "source": [
    "# Load pallets library\n",
    "\n",
    "sys.path.append(os.path.abspath(os.path.join(os.getcwd(), '..')))  # uncomment to run nb from 'pallets/nb'\n",
    "# sys.path.append(os.path.abspath(os.getcwd()))                    # uncomment to run from project root\n",
    "\n",
    "from pallets import images as I, datasets as DS, models as M, logging as L\n"
   ]
  },
  {
   "cell_type": "code",
   "execution_count": 3,
   "id": "7887e5ae",
   "metadata": {},
   "outputs": [],
   "source": [
    "USE_GPU = True\n",
    "LOG_LEVEL = 'INFO'\n",
    "\n",
    "TEST_SIZE = 1000\n",
    "EPOCHS = 10\n",
    "LR = 1e-03\n",
    "BATCH_SIZE = 32\n"
   ]
  },
  {
   "cell_type": "code",
   "execution_count": 4,
   "id": "189cf27e",
   "metadata": {},
   "outputs": [
    {
     "data": {
      "text/plain": [
       "<Logger pallets (INFO)>"
      ]
     },
     "execution_count": 4,
     "metadata": {},
     "output_type": "execute_result"
    }
   ],
   "source": [
    "# To GPU, or not to GPU\n",
    "device = M.get_device(require_gpu=USE_GPU)\n",
    "\n",
    "# Logging\n",
    "L.init_logger(level=LOG_LEVEL, notebook=True)\n"
   ]
  },
  {
   "cell_type": "markdown",
   "id": "adfd5648",
   "metadata": {},
   "source": [
    "# Datasets"
   ]
  },
  {
   "cell_type": "markdown",
   "id": "72c3cb93",
   "metadata": {},
   "source": [
    "## RGBA Dataset"
   ]
  },
  {
   "cell_type": "code",
   "execution_count": 5,
   "id": "3ffa75de",
   "metadata": {},
   "outputs": [
    {
     "name": "stdout",
     "output_type": "stream",
     "text": [
      "INFO | loading punk images\n",
      "INFO | - image 0\n",
      "INFO | - image 1000\n",
      "INFO | - image 2000\n",
      "INFO | - image 3000\n",
      "INFO | - image 4000\n",
      "INFO | - image 5000\n",
      "INFO | - image 6000\n",
      "INFO | - image 7000\n",
      "INFO | - image 8000\n",
      "INFO | - image 9000\n",
      "INFO | punk images complete\n",
      "INFO | loading punk labels: ../../cpunks-10k/cpunks/data/punks.json\n"
     ]
    }
   ],
   "source": [
    "dataset_rgba = DS.CPunksDataset(test_size=TEST_SIZE)\n",
    "\n",
    "train_sampler_rgba = SubsetRandomSampler(dataset_rgba.train_idx)\n",
    "test_sampler_rgba = SubsetRandomSampler(dataset_rgba.test_idx)\n"
   ]
  },
  {
   "cell_type": "markdown",
   "id": "6d36b887",
   "metadata": {},
   "source": [
    "## One Hot Dataset"
   ]
  },
  {
   "cell_type": "code",
   "execution_count": 6,
   "id": "864aacb2",
   "metadata": {},
   "outputs": [
    {
     "name": "stdout",
     "output_type": "stream",
     "text": [
      "INFO | loading punk images\n",
      "INFO | - image 0\n",
      "INFO | - image 1000\n",
      "INFO | - image 2000\n",
      "INFO | - image 3000\n",
      "INFO | - image 4000\n",
      "INFO | - image 5000\n",
      "INFO | - image 6000\n",
      "INFO | - image 7000\n",
      "INFO | - image 8000\n",
      "INFO | - image 9000\n",
      "INFO | punk images complete\n",
      "INFO | loading punk labels: ../../cpunks-10k/cpunks/data/punks.json\n"
     ]
    }
   ],
   "source": [
    "all_colors = I.get_punk_colors()\n",
    "mapper = DS.ColorOneHotMapper(all_colors)\n",
    "dataset_oh = DS.FastOneHotCPunksDataset(device, mapper, test_size=TEST_SIZE)\n",
    "\n",
    "train_sampler_oh = SubsetRandomSampler(dataset_oh.train_idx)\n",
    "test_sampler_oh = SubsetRandomSampler(dataset_oh.test_idx)\n"
   ]
  },
  {
   "cell_type": "markdown",
   "id": "6c0b9f3f",
   "metadata": {},
   "source": [
    "# Train All 4 Models\n",
    "\n",
    "There are four autencoders. Two are based on RGBA colors and two are based on one-hot encoded colors.\n",
    "\n",
    "* NaiveRGBAAutoencoder\n",
    "* ConvRGBAAutoencoder\n",
    "* NaiveOneHotAutoencoder\n",
    "* ConvOneHotAutoencoder\n",
    "\n",
    "Once each model is built, we will use the `graph_losses` and `view_reconstruction` functions to visualize their quality."
   ]
  },
  {
   "cell_type": "code",
   "execution_count": 7,
   "id": "76609b83",
   "metadata": {},
   "outputs": [],
   "source": [
    "def graph_losses(train_losses, test_losses):\n",
    "    plt.title(\"Train & Test loss\")\n",
    "    plt.plot(train_losses, label='train loss')\n",
    "    plt.plot(test_losses, label='test loss')\n",
    "    plt.legend()\n",
    "    plt.show()\n",
    "\n",
    "\n",
    "def view_reconstruction(model, data_loader):\n",
    "    \"\"\"\n",
    "    Loads a punk from the data loader, reconstructs it with a trained model,\n",
    "    then draws the punk below the cell where this is called.\n",
    "    \"\"\"\n",
    "    punk, _ = next(iter(data_loader))\n",
    "    reconstructed = model(punk.to(device))\n",
    "    reconstructed = reconstructed.detach().cpu()\n",
    "    some_image = reconstructed[22]\n",
    "\n",
    "    # decode if one hot\n",
    "    one_hot_models = (M.ae.NaiveOneHotAutoencoder, M.ae.ConvOneHotAutoencoder)\n",
    "    if isinstance(model, one_hot_models):\n",
    "        some_image = DS.one_hot_to_rgba(some_image, mapper)\n",
    "\n",
    "    pil_image = to_pil_image(some_image.clone().detach())\n",
    "    plt.imshow(pil_image)\n",
    "    plt.axis('off')\n",
    "    plt.show()\n"
   ]
  },
  {
   "cell_type": "markdown",
   "id": "bcfc5203",
   "metadata": {},
   "source": [
    "## Naive RGBA"
   ]
  },
  {
   "cell_type": "code",
   "execution_count": 8,
   "id": "8b17fbfd",
   "metadata": {},
   "outputs": [
    {
     "name": "stdout",
     "output_type": "stream",
     "text": [
      "INFO | model: pallets.models.ae.NaiveRGBAAutoencoder\n",
      "INFO | criterion: torch.nn.modules.loss.MSELoss\n",
      "INFO | learn rate: 0.001\n",
      "INFO | epochs: 10\n",
      "INFO | epoch 1 (  0%) loss: 0.109474\n",
      "INFO | epoch 1 ( 35%) loss: 0.026664\n",
      "INFO | epoch 1 ( 70%) loss: 0.018825\n",
      "INFO | epoch 1 (100%) loss: 0.015669\n",
      "INFO | epoch 1 (test) loss: 0.001753\n",
      "INFO | epoch 2 (  0%) loss: 0.006117\n",
      "INFO | epoch 2 ( 35%) loss: 0.006050\n",
      "INFO | epoch 2 ( 70%) loss: 0.005392\n",
      "INFO | epoch 2 (100%) loss: 0.004918\n",
      "INFO | epoch 2 (test) loss: 0.000868\n",
      "INFO | epoch 3 (  0%) loss: 0.002885\n",
      "INFO | epoch 3 ( 35%) loss: 0.003223\n",
      "INFO | epoch 3 ( 70%) loss: 0.003032\n",
      "INFO | epoch 3 (100%) loss: 0.002923\n",
      "INFO | epoch 3 (test) loss: 0.000619\n",
      "INFO | epoch 4 (  0%) loss: 0.002321\n",
      "INFO | epoch 4 ( 35%) loss: 0.002441\n",
      "INFO | epoch 4 ( 70%) loss: 0.002344\n",
      "INFO | epoch 4 (100%) loss: 0.002272\n",
      "INFO | epoch 4 (test) loss: 0.000514\n",
      "INFO | epoch 5 (  0%) loss: 0.002165\n",
      "INFO | epoch 5 ( 35%) loss: 0.002037\n",
      "INFO | epoch 5 ( 70%) loss: 0.001967\n",
      "INFO | epoch 5 (100%) loss: 0.001920\n",
      "INFO | epoch 5 (test) loss: 0.000455\n",
      "INFO | epoch 6 (  0%) loss: 0.002438\n",
      "INFO | epoch 6 ( 35%) loss: 0.001731\n",
      "INFO | epoch 6 ( 70%) loss: 0.001705\n",
      "INFO | epoch 6 (100%) loss: 0.001677\n",
      "INFO | epoch 6 (test) loss: 0.000401\n",
      "INFO | epoch 7 (  0%) loss: 0.002324\n",
      "INFO | epoch 7 ( 35%) loss: 0.001516\n",
      "INFO | epoch 7 ( 70%) loss: 0.001492\n",
      "INFO | epoch 7 (100%) loss: 0.001479\n",
      "INFO | epoch 7 (test) loss: 0.000360\n",
      "INFO | epoch 8 (  0%) loss: 0.001471\n",
      "INFO | epoch 8 ( 35%) loss: 0.001339\n",
      "INFO | epoch 8 ( 70%) loss: 0.001338\n",
      "INFO | epoch 8 (100%) loss: 0.001320\n",
      "INFO | epoch 8 (test) loss: 0.000321\n",
      "INFO | epoch 9 (  0%) loss: 0.001186\n",
      "INFO | epoch 9 ( 35%) loss: 0.001233\n",
      "INFO | epoch 9 ( 70%) loss: 0.001203\n",
      "INFO | epoch 9 (100%) loss: 0.001181\n",
      "INFO | epoch 9 (test) loss: 0.000283\n",
      "INFO | epoch 10 (  0%) loss: 0.001097\n",
      "INFO | epoch 10 ( 35%) loss: 0.001096\n",
      "INFO | epoch 10 ( 70%) loss: 0.001079\n",
      "INFO | epoch 10 (100%) loss: 0.001064\n",
      "INFO | epoch 10 (test) loss: 0.000261\n",
      "INFO | model blob saved to /home/jmsdnns/ML/pallets/saved/ae.naive.rgba.pkl\n",
      "INFO | training losses saved to /home/jmsdnns/ML/pallets/saved/ae.naive.rgba.json\n"
     ]
    }
   ],
   "source": [
    "model = M.ae.NaiveRGBAAutoencoder()\n",
    "criterion = torch.nn.MSELoss()\n",
    "train_loader = DataLoader(dataset_rgba, batch_size=BATCH_SIZE, sampler=train_sampler_rgba)\n",
    "test_loader = DataLoader(dataset_rgba, batch_size=BATCH_SIZE, sampler=test_sampler_rgba)\n",
    "save_name = 'ae.naive.rgba'\n",
    "\n",
    "train_losses, test_losses = M.ae.train(\n",
    "    device, model, criterion, train_loader, test_loader,\n",
    "    learn_rate=LR, epochs=EPOCHS\n",
    ")\n",
    "\n",
    "M.save(save_name, model, train_losses, test_losses)\n",
    "\n"
   ]
  },
  {
   "cell_type": "code",
   "execution_count": 9,
   "id": "657d3b1b",
   "metadata": {},
   "outputs": [
    {
     "data": {
      "image/png": "[encoded data removed]",
      "text/plain": [
       "<Figure size 640x480 with 1 Axes>"
      ]
     },
     "metadata": {},
     "output_type": "display_data"
    }
   ],
   "source": [
    "view_reconstruction(model, train_loader)"
   ]
  },
  {
   "cell_type": "code",
   "execution_count": 10,
   "id": "361297dc",
   "metadata": {},
   "outputs": [
    {
     "data": {
      "image/png": "[encoded data removed]",
      "text/plain": [
       "<Figure size 640x480 with 1 Axes>"
      ]
     },
     "metadata": {},
     "output_type": "display_data"
    }
   ],
   "source": [
    "graph_losses(train_losses, test_losses)"
   ]
  },
  {
   "cell_type": "markdown",
   "id": "34ebd956",
   "metadata": {},
   "source": [
    "## Conv RGBA"
   ]
  },
  {
   "cell_type": "code",
   "execution_count": 11,
   "id": "2cd988a4",
   "metadata": {},
   "outputs": [
    {
     "name": "stdout",
     "output_type": "stream",
     "text": [
      "INFO | model: pallets.models.ae.ConvRGBAAutoencoder\n",
      "INFO | criterion: torch.nn.modules.loss.MSELoss\n",
      "INFO | learn rate: 0.001\n",
      "INFO | epochs: 10\n",
      "INFO | epoch 1 (  0%) loss: 0.113313\n",
      "INFO | epoch 1 ( 35%) loss: 0.029328\n",
      "INFO | epoch 1 ( 70%) loss: 0.016821\n",
      "INFO | epoch 1 (100%) loss: 0.012290\n",
      "INFO | epoch 1 (test) loss: 0.000200\n",
      "INFO | epoch 2 (  0%) loss: 0.000677\n",
      "INFO | epoch 2 ( 35%) loss: 0.000672\n",
      "INFO | epoch 2 ( 70%) loss: 0.000582\n",
      "INFO | epoch 2 (100%) loss: 0.000534\n",
      "INFO | epoch 2 (test) loss: 0.000115\n",
      "INFO | epoch 3 (  0%) loss: 0.000454\n",
      "INFO | epoch 3 ( 35%) loss: 0.000352\n",
      "INFO | epoch 3 ( 70%) loss: 0.000328\n",
      "INFO | epoch 3 (100%) loss: 0.000310\n",
      "INFO | epoch 3 (test) loss: 0.000065\n",
      "INFO | epoch 4 (  0%) loss: 0.000275\n",
      "INFO | epoch 4 ( 35%) loss: 0.000244\n",
      "INFO | epoch 4 ( 70%) loss: 0.000236\n",
      "INFO | epoch 4 (100%) loss: 0.000224\n",
      "INFO | epoch 4 (test) loss: 0.000049\n",
      "INFO | epoch 5 (  0%) loss: 0.000195\n",
      "INFO | epoch 5 ( 35%) loss: 0.000188\n",
      "INFO | epoch 5 ( 70%) loss: 0.000176\n",
      "INFO | epoch 5 (100%) loss: 0.000171\n",
      "INFO | epoch 5 (test) loss: 0.000041\n",
      "INFO | epoch 6 (  0%) loss: 0.000178\n",
      "INFO | epoch 6 ( 35%) loss: 0.000141\n",
      "INFO | epoch 6 ( 70%) loss: 0.000139\n",
      "INFO | epoch 6 (100%) loss: 0.000135\n",
      "INFO | epoch 6 (test) loss: 0.000029\n",
      "INFO | epoch 7 (  0%) loss: 0.000108\n",
      "INFO | epoch 7 ( 35%) loss: 0.000113\n",
      "INFO | epoch 7 ( 70%) loss: 0.000111\n",
      "INFO | epoch 7 (100%) loss: 0.000109\n",
      "INFO | epoch 7 (test) loss: 0.000029\n",
      "INFO | epoch 8 (  0%) loss: 0.000103\n",
      "INFO | epoch 8 ( 35%) loss: 0.000103\n",
      "INFO | epoch 8 ( 70%) loss: 0.000099\n",
      "INFO | epoch 8 (100%) loss: 0.000096\n",
      "INFO | epoch 8 (test) loss: 0.000020\n",
      "INFO | epoch 9 (  0%) loss: 0.000066\n",
      "INFO | epoch 9 ( 35%) loss: 0.000091\n",
      "INFO | epoch 9 ( 70%) loss: 0.000083\n",
      "INFO | epoch 9 (100%) loss: 0.000080\n",
      "INFO | epoch 9 (test) loss: 0.000024\n",
      "INFO | epoch 10 (  0%) loss: 0.000080\n",
      "INFO | epoch 10 ( 35%) loss: 0.000078\n",
      "INFO | epoch 10 ( 70%) loss: 0.000078\n",
      "INFO | epoch 10 (100%) loss: 0.000075\n",
      "INFO | epoch 10 (test) loss: 0.000018\n",
      "INFO | model blob saved to /home/jmsdnns/ML/pallets/saved/ae.conv.rgba.pkl\n",
      "INFO | training losses saved to /home/jmsdnns/ML/pallets/saved/ae.conv.rgba.json\n"
     ]
    }
   ],
   "source": [
    "model = M.ae.ConvRGBAAutoencoder()\n",
    "criterion = torch.nn.MSELoss()\n",
    "train_loader = DataLoader(dataset_rgba, batch_size=BATCH_SIZE, sampler=train_sampler_rgba)\n",
    "test_loader = DataLoader(dataset_rgba, batch_size=BATCH_SIZE, sampler=test_sampler_rgba)\n",
    "save_name = 'ae.conv.rgba'\n",
    "\n",
    "train_losses, test_losses = M.ae.train(\n",
    "    device, model, criterion, train_loader, test_loader,\n",
    "    learn_rate=LR, epochs=EPOCHS\n",
    ")\n",
    "\n",
    "M.save(save_name, model, train_losses, test_losses)\n",
    "\n"
   ]
  },
  {
   "cell_type": "code",
   "execution_count": 12,
   "id": "bd1ca0a1",
   "metadata": {},
   "outputs": [
    {
     "data": {
      "image/png": "[encoded data removed]",
      "text/plain": [
       "<Figure size 640x480 with 1 Axes>"
      ]
     },
     "metadata": {},
     "output_type": "display_data"
    }
   ],
   "source": [
    "view_reconstruction(model, train_loader)"
   ]
  },
  {
   "cell_type": "code",
   "execution_count": 13,
   "id": "67acf27a",
   "metadata": {},
   "outputs": [
    {
     "data": {
      "image/png": "[encoded data removed]",
      "text/plain": [
       "<Figure size 640x480 with 1 Axes>"
      ]
     },
     "metadata": {},
     "output_type": "display_data"
    }
   ],
   "source": [
    "graph_losses(train_losses, test_losses)"
   ]
  },
  {
   "cell_type": "markdown",
   "id": "8801d898",
   "metadata": {},
   "source": [
    "## Naive One Hot"
   ]
  },
  {
   "cell_type": "code",
   "execution_count": 14,
   "id": "93fd96d3",
   "metadata": {},
   "outputs": [
    {
     "name": "stdout",
     "output_type": "stream",
     "text": [
      "INFO | model: pallets.models.ae.NaiveOneHotAutoencoder\n",
      "INFO | criterion: torch.nn.modules.loss.CrossEntropyLoss\n",
      "INFO | learn rate: 0.001\n",
      "INFO | epochs: 10\n",
      "INFO | epoch 1 (  0%) loss: 2.703429\n",
      "INFO | epoch 1 ( 35%) loss: 0.655435\n",
      "INFO | epoch 1 ( 70%) loss: 0.458394\n",
      "INFO | epoch 1 (100%) loss: 0.372312\n",
      "INFO | epoch 1 (test) loss: 0.034508\n",
      "INFO | epoch 2 (  0%) loss: 0.130177\n",
      "INFO | epoch 2 ( 35%) loss: 0.111122\n",
      "INFO | epoch 2 ( 70%) loss: 0.093883\n",
      "INFO | epoch 2 (100%) loss: 0.083678\n",
      "INFO | epoch 2 (test) loss: 0.013702\n",
      "INFO | epoch 3 (  0%) loss: 0.044195\n",
      "INFO | epoch 3 ( 35%) loss: 0.045438\n",
      "INFO | epoch 3 ( 70%) loss: 0.041587\n",
      "INFO | epoch 3 (100%) loss: 0.038649\n",
      "INFO | epoch 3 (test) loss: 0.008047\n",
      "INFO | epoch 4 (  0%) loss: 0.025533\n",
      "INFO | epoch 4 ( 35%) loss: 0.026346\n",
      "INFO | epoch 4 ( 70%) loss: 0.024624\n",
      "INFO | epoch 4 (100%) loss: 0.023292\n",
      "INFO | epoch 4 (test) loss: 0.005664\n",
      "INFO | epoch 5 (  0%) loss: 0.026679\n",
      "INFO | epoch 5 ( 35%) loss: 0.017045\n",
      "INFO | epoch 5 ( 70%) loss: 0.016294\n",
      "INFO | epoch 5 (100%) loss: 0.015719\n",
      "INFO | epoch 5 (test) loss: 0.004080\n",
      "INFO | epoch 6 (  0%) loss: 0.014756\n",
      "INFO | epoch 6 ( 35%) loss: 0.011992\n",
      "INFO | epoch 6 ( 70%) loss: 0.011561\n",
      "INFO | epoch 6 (100%) loss: 0.011326\n",
      "INFO | epoch 6 (test) loss: 0.003244\n",
      "INFO | epoch 7 (  0%) loss: 0.006993\n",
      "INFO | epoch 7 ( 35%) loss: 0.009237\n",
      "INFO | epoch 7 ( 70%) loss: 0.008805\n",
      "INFO | epoch 7 (100%) loss: 0.008629\n",
      "INFO | epoch 7 (test) loss: 0.002667\n",
      "INFO | epoch 8 (  0%) loss: 0.008406\n",
      "INFO | epoch 8 ( 35%) loss: 0.006786\n",
      "INFO | epoch 8 ( 70%) loss: 0.006678\n",
      "INFO | epoch 8 (100%) loss: 0.006612\n",
      "INFO | epoch 8 (test) loss: 0.002204\n",
      "INFO | epoch 9 (  0%) loss: 0.003929\n",
      "INFO | epoch 9 ( 35%) loss: 0.005595\n",
      "INFO | epoch 9 ( 70%) loss: 0.005384\n",
      "INFO | epoch 9 (100%) loss: 0.005197\n",
      "INFO | epoch 9 (test) loss: 0.001783\n",
      "INFO | epoch 10 (  0%) loss: 0.004786\n",
      "INFO | epoch 10 ( 35%) loss: 0.004141\n",
      "INFO | epoch 10 ( 70%) loss: 0.004018\n",
      "INFO | epoch 10 (100%) loss: 0.003869\n",
      "INFO | epoch 10 (test) loss: 0.001550\n",
      "INFO | model blob saved to /home/jmsdnns/ML/pallets/saved/ae.naive.onehot.pkl\n",
      "INFO | training losses saved to /home/jmsdnns/ML/pallets/saved/ae.naive.onehot.json\n"
     ]
    }
   ],
   "source": [
    "model = M.ae.NaiveOneHotAutoencoder()\n",
    "criterion = torch.nn.CrossEntropyLoss()\n",
    "train_loader = DataLoader(dataset_oh, batch_size=BATCH_SIZE, sampler=train_sampler_oh)\n",
    "test_loader = DataLoader(dataset_oh, batch_size=BATCH_SIZE, sampler=test_sampler_oh)\n",
    "save_name = 'ae.naive.onehot'\n",
    "\n",
    "train_losses, test_losses = M.ae.train(\n",
    "    device, model, criterion, train_loader, test_loader,\n",
    "    learn_rate=LR, epochs=EPOCHS\n",
    ")\n",
    "\n",
    "M.save(save_name, model, train_losses, test_losses)\n",
    "\n"
   ]
  },
  {
   "cell_type": "code",
   "execution_count": 15,
   "id": "84593a4d",
   "metadata": {},
   "outputs": [
    {
     "data": {
      "image/png": "[encoded data removed]",
      "text/plain": [
       "<Figure size 640x480 with 1 Axes>"
      ]
     },
     "metadata": {},
     "output_type": "display_data"
    }
   ],
   "source": [
    "view_reconstruction(model, train_loader)"
   ]
  },
  {
   "cell_type": "code",
   "execution_count": 16,
   "id": "fd3506ac",
   "metadata": {},
   "outputs": [
    {
     "data": {
      "image/png": "[encoded data removed]",
      "text/plain": [
       "<Figure size 640x480 with 1 Axes>"
      ]
     },
     "metadata": {},
     "output_type": "display_data"
    }
   ],
   "source": [
    "graph_losses(train_losses, test_losses)"
   ]
  },
  {
   "cell_type": "markdown",
   "id": "e17eab0f",
   "metadata": {},
   "source": [
    "## Conv One Hot"
   ]
  },
  {
   "cell_type": "code",
   "execution_count": 17,
   "id": "c8920a9f",
   "metadata": {},
   "outputs": [
    {
     "name": "stdout",
     "output_type": "stream",
     "text": [
      "INFO | model: pallets.models.ae.ConvOneHotAutoencoder\n",
      "INFO | criterion: torch.nn.modules.loss.CrossEntropyLoss\n",
      "INFO | learn rate: 0.001\n",
      "INFO | epochs: 10\n",
      "INFO | epoch 1 (  0%) loss: 2.694925\n",
      "INFO | epoch 1 ( 35%) loss: 0.897796\n",
      "INFO | epoch 1 ( 70%) loss: 0.602890\n",
      "INFO | epoch 1 (100%) loss: 0.479089\n",
      "INFO | epoch 1 (test) loss: 0.032021\n",
      "INFO | epoch 2 (  0%) loss: 0.128051\n",
      "INFO | epoch 2 ( 35%) loss: 0.090577\n",
      "INFO | epoch 2 ( 70%) loss: 0.071084\n",
      "INFO | epoch 2 (100%) loss: 0.060470\n",
      "INFO | epoch 2 (test) loss: 0.006846\n",
      "INFO | epoch 3 (  0%) loss: 0.032125\n",
      "INFO | epoch 3 ( 35%) loss: 0.021741\n",
      "INFO | epoch 3 ( 70%) loss: 0.018259\n",
      "INFO | epoch 3 (100%) loss: 0.015701\n",
      "INFO | epoch 3 (test) loss: 0.002096\n",
      "INFO | epoch 4 (  0%) loss: 0.006980\n",
      "INFO | epoch 4 ( 35%) loss: 0.006792\n",
      "INFO | epoch 4 ( 70%) loss: 0.006243\n",
      "INFO | epoch 4 (100%) loss: 0.005629\n",
      "INFO | epoch 4 (test) loss: 0.000976\n",
      "INFO | epoch 5 (  0%) loss: 0.003512\n",
      "INFO | epoch 5 ( 35%) loss: 0.003242\n",
      "INFO | epoch 5 ( 70%) loss: 0.002893\n",
      "INFO | epoch 5 (100%) loss: 0.002661\n",
      "INFO | epoch 5 (test) loss: 0.000533\n",
      "INFO | epoch 6 (  0%) loss: 0.001100\n",
      "INFO | epoch 6 ( 35%) loss: 0.001850\n",
      "INFO | epoch 6 ( 70%) loss: 0.001596\n",
      "INFO | epoch 6 (100%) loss: 0.001455\n",
      "INFO | epoch 6 (test) loss: 0.000381\n",
      "INFO | epoch 7 (  0%) loss: 0.001193\n",
      "INFO | epoch 7 ( 35%) loss: 0.000802\n",
      "INFO | epoch 7 ( 70%) loss: 0.000775\n",
      "INFO | epoch 7 (100%) loss: 0.000741\n",
      "INFO | epoch 7 (test) loss: 0.000262\n",
      "INFO | epoch 8 (  0%) loss: 0.000464\n",
      "INFO | epoch 8 ( 35%) loss: 0.000485\n",
      "INFO | epoch 8 ( 70%) loss: 0.000481\n",
      "INFO | epoch 8 (100%) loss: 0.000472\n",
      "INFO | epoch 8 (test) loss: 0.000235\n",
      "INFO | epoch 9 (  0%) loss: 0.000281\n",
      "INFO | epoch 9 ( 35%) loss: 0.000386\n",
      "INFO | epoch 9 ( 70%) loss: 0.000361\n",
      "INFO | epoch 9 (100%) loss: 0.000348\n",
      "INFO | epoch 9 (test) loss: 0.000206\n",
      "INFO | epoch 10 (  0%) loss: 0.000117\n",
      "INFO | epoch 10 ( 35%) loss: 0.000229\n",
      "INFO | epoch 10 ( 70%) loss: 0.000224\n",
      "INFO | epoch 10 (100%) loss: 0.000210\n",
      "INFO | epoch 10 (test) loss: 0.000178\n",
      "INFO | model blob saved to /home/jmsdnns/ML/pallets/saved/ae.conv.onehot.pkl\n",
      "INFO | training losses saved to /home/jmsdnns/ML/pallets/saved/ae.conv.onehot.json\n"
     ]
    }
   ],
   "source": [
    "model = M.ae.ConvOneHotAutoencoder()\n",
    "criterion = torch.nn.CrossEntropyLoss()\n",
    "train_loader = DataLoader(dataset_oh, batch_size=BATCH_SIZE, sampler=train_sampler_oh)\n",
    "test_loader = DataLoader(dataset_oh, batch_size=BATCH_SIZE, sampler=test_sampler_oh)\n",
    "save_name = 'ae.conv.onehot'\n",
    "\n",
    "train_losses, test_losses = M.ae.train(\n",
    "    device, model, criterion, train_loader, test_loader,\n",
    "    learn_rate=LR, epochs=EPOCHS\n",
    ")\n",
    "\n",
    "M.save(save_name, model, train_losses, test_losses)\n",
    "\n"
   ]
  },
  {
   "cell_type": "code",
   "execution_count": 18,
   "id": "baa6e86f",
   "metadata": {},
   "outputs": [
    {
     "data": {
      "image/png": "[encoded data removed]",
      "text/plain": [
       "<Figure size 640x480 with 1 Axes>"
      ]
     },
     "metadata": {},
     "output_type": "display_data"
    }
   ],
   "source": [
    "view_reconstruction(model, train_loader)"
   ]
  },
  {
   "cell_type": "code",
   "execution_count": 19,
   "id": "55dc149e",
   "metadata": {},
   "outputs": [
    {
     "data": {
      "image/png": "[encoded data removed]",
      "text/plain": [
       "<Figure size 640x480 with 1 Axes>"
      ]
     },
     "metadata": {},
     "output_type": "display_data"
    },
    {
     "ename": "",
     "evalue": "",
     "output_type": "error",
     "traceback": [
      "\u001b[1;31mThe Kernel crashed while executing code in the the current cell or a previous cell. Please review the code in the cell(s) to identify a possible cause of the failure. Click <a href='https://aka.ms/vscodeJupyterKernelCrash'>here</a> for more info. View Jupyter <a href='command:jupyter.viewOutput'>log</a> for further details."
     ]
    }
   ],
   "source": [
    "graph_losses(train_losses, test_losses)"
   ]
  },
  {
   "cell_type": "code",
   "execution_count": null,
   "id": "1ac9c638",
   "metadata": {},
   "outputs": [],
   "source": []
  }
 ],
 "metadata": {
  "kernelspec": {
   "display_name": "Python 3 (ipykernel)",
   "language": "python",
   "name": "python3"
  },
  "language_info": {
   "codemirror_mode": {
    "name": "ipython",
    "version": 3
   },
   "file_extension": ".py",
   "mimetype": "text/x-python",
   "name": "python",
   "nbconvert_exporter": "python",
   "pygments_lexer": "ipython3",
   "version": "3.11.6"
  }
 },
 "nbformat": 4,
 "nbformat_minor": 5
}
