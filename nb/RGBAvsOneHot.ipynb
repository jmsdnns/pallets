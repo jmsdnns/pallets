{
 "cells": [
  {
   "cell_type": "markdown",
   "id": "c1b184d4",
   "metadata": {},
   "source": [
    "# RGBA vs One-Hot Encoded"
   ]
  },
  {
   "cell_type": "code",
   "execution_count": 1,
   "id": "19d0f047",
   "metadata": {
    "slideshow": {
     "slide_type": ""
    },
    "tags": []
   },
   "outputs": [],
   "source": [
    "import sys\n",
    "import os\n",
    "import numpy as np\n",
    "import torch\n",
    "from torch.utils.data import DataLoader, SubsetRandomSampler\n",
    "from torchvision.transforms.functional import to_pil_image\n",
    "import matplotlib.pyplot as plt\n",
    "import random\n"
   ]
  },
  {
   "cell_type": "markdown",
   "id": "fdb35bdb",
   "metadata": {},
   "source": [
    "## Prepare Environment"
   ]
  },
  {
   "cell_type": "code",
   "execution_count": 2,
   "id": "f42bf158",
   "metadata": {},
   "outputs": [],
   "source": [
    "# Load pallets library\n",
    "\n",
    "sys.path.append(os.path.abspath(os.path.join(os.getcwd(), '..')))  # uncomment to run nb from 'pallets/nb'\n",
    "# sys.path.append(os.path.abspath(os.getcwd()))                    # uncomment to run from project root\n",
    "\n",
    "from pallets import images as I, datasets as DS, models as M, logging as L\n"
   ]
  },
  {
   "cell_type": "code",
   "execution_count": 3,
   "id": "7887e5ae",
   "metadata": {},
   "outputs": [],
   "source": [
    "USE_GPU = True\n",
    "LOG_LEVEL = 'INFO'\n",
    "\n",
    "TEST_SIZE = 1000\n",
    "EPOCHS = 10\n",
    "LR = 1e-03\n",
    "BATCH_SIZE = 32\n"
   ]
  },
  {
   "cell_type": "code",
   "execution_count": 4,
   "id": "189cf27e",
   "metadata": {},
   "outputs": [
    {
     "data": {
      "text/plain": [
       "<Logger pallets (INFO)>"
      ]
     },
     "execution_count": 4,
     "metadata": {},
     "output_type": "execute_result"
    }
   ],
   "source": [
    "# To GPU, or not to GPU\n",
    "device = M.get_device(require_gpu=USE_GPU)\n",
    "\n",
    "# Logging\n",
    "L.init_logger(level=LOG_LEVEL)\n"
   ]
  },
  {
   "cell_type": "markdown",
   "id": "adfd5648",
   "metadata": {},
   "source": [
    "# Datasets"
   ]
  },
  {
   "cell_type": "markdown",
   "id": "72c3cb93",
   "metadata": {},
   "source": [
    "## RGBA Dataset"
   ]
  },
  {
   "cell_type": "code",
   "execution_count": 5,
   "id": "3ffa75de",
   "metadata": {},
   "outputs": [
    {
     "name": "stderr",
     "output_type": "stream",
     "text": [
      "INFO | loading punk images\n",
      "INFO | - image 0\n",
      "INFO | - image 1000\n",
      "INFO | - image 2000\n",
      "INFO | - image 3000\n",
      "INFO | - image 4000\n",
      "INFO | - image 5000\n",
      "INFO | - image 6000\n",
      "INFO | - image 7000\n",
      "INFO | - image 8000\n",
      "INFO | - image 9000\n",
      "INFO | punk images complete\n",
      "INFO | loading punk labels: ../../cpunks-10k/cpunks/data/punks.json\n"
     ]
    }
   ],
   "source": [
    "dataset_rgba = DS.CPunksDataset(test_size=TEST_SIZE)\n",
    "\n",
    "train_sampler_rgba = SubsetRandomSampler(dataset_rgba.train_idx)\n",
    "test_sampler_rgba = SubsetRandomSampler(dataset_rgba.test_idx)\n"
   ]
  },
  {
   "cell_type": "markdown",
   "id": "6d36b887",
   "metadata": {},
   "source": [
    "## One Hot Dataset"
   ]
  },
  {
   "cell_type": "code",
   "execution_count": 6,
   "id": "864aacb2",
   "metadata": {},
   "outputs": [
    {
     "name": "stderr",
     "output_type": "stream",
     "text": [
      "INFO | loading punk images\n",
      "INFO | - image 0\n",
      "INFO | - image 1000\n",
      "INFO | - image 2000\n",
      "INFO | - image 3000\n",
      "INFO | - image 4000\n",
      "INFO | - image 5000\n",
      "INFO | - image 6000\n",
      "INFO | - image 7000\n",
      "INFO | - image 8000\n",
      "INFO | - image 9000\n",
      "INFO | punk images complete\n",
      "INFO | loading punk labels: ../../cpunks-10k/cpunks/data/punks.json\n"
     ]
    }
   ],
   "source": [
    "all_colors = I.get_punk_colors()\n",
    "mapper = DS.ColorOneHotMapper(all_colors)\n",
    "dataset_oh = DS.FastOneHotCPunksDataset(device, mapper, test_size=TEST_SIZE)\n",
    "\n",
    "train_sampler_oh = SubsetRandomSampler(dataset_oh.train_idx)\n",
    "test_sampler_oh = SubsetRandomSampler(dataset_oh.test_idx)\n"
   ]
  },
  {
   "cell_type": "markdown",
   "id": "6c0b9f3f",
   "metadata": {},
   "source": [
    "# Train All 4 Models\n",
    "\n",
    "There are four autencoders. Two are based on RGBA colors and two are based on one-hot encoded colors.\n",
    "\n",
    "* NaiveRGBAAutoencoder\n",
    "* ConvRGBAAutoencoder\n",
    "* NaiveOneHotAutoencoder\n",
    "* ConvOneHotAutoencoder\n",
    "\n",
    "Once each model is built, we will use the `graph_losses` and `view_reconstruction` functions to visualize their quality."
   ]
  },
  {
   "cell_type": "code",
   "execution_count": 7,
   "id": "76609b83",
   "metadata": {},
   "outputs": [],
   "source": [
    "def graph_losses(train_losses, test_losses):\n",
    "    plt.title(\"Train & Test loss\")\n",
    "    plt.plot(train_losses, label='train loss')\n",
    "    plt.plot(test_losses, label='test loss')\n",
    "    plt.legend()\n",
    "    plt.show()\n",
    "\n",
    "\n",
    "def view_reconstruction(model, data_loader):\n",
    "    \"\"\"\n",
    "    Loads a punk from the data loader, reconstructs it with a trained model,\n",
    "    then draws the punk below the cell where this is called.\n",
    "    \"\"\"\n",
    "    punk, _ = next(iter(data_loader))\n",
    "    reconstructed = model(punk.to(device))\n",
    "    reconstructed = reconstructed.detach().cpu()\n",
    "    some_image = reconstructed[22]\n",
    "\n",
    "    # decode if one hot\n",
    "    one_hot_models = (M.ae.NaiveOneHotAutoencoder, M.ae.ConvOneHotAutoencoder)\n",
    "    if isinstance(model, one_hot_models):\n",
    "        some_image = DS.one_hot_to_rgba(some_image, mapper)\n",
    "\n",
    "    pil_image = to_pil_image(some_image.clone().detach())\n",
    "    plt.imshow(pil_image)\n",
    "    plt.axis('off')\n",
    "    plt.show()\n"
   ]
  },
  {
   "cell_type": "markdown",
   "id": "bcfc5203",
   "metadata": {},
   "source": [
    "## Naive RGBA"
   ]
  },
  {
   "cell_type": "code",
   "execution_count": 8,
   "id": "8b17fbfd",
   "metadata": {},
   "outputs": [
    {
     "name": "stderr",
     "output_type": "stream",
     "text": [
      "INFO | model: pallets.models.ae.NaiveRGBAAutoencoder\n",
      "INFO | criterion: torch.nn.modules.loss.MSELoss\n",
      "INFO | learn rate: 0.001\n",
      "INFO | epochs: 10\n",
      "INFO | epoch 1 (  0%) loss: 0.111492\n",
      "INFO | epoch 1 ( 35%) loss: 0.027003\n",
      "INFO | epoch 1 ( 70%) loss: 0.019289\n",
      "INFO | epoch 1 (100%) loss: 0.015960\n",
      "INFO | epoch 1 (test) loss: 0.001669\n",
      "INFO | epoch 2 (  0%) loss: 0.007316\n",
      "INFO | epoch 2 ( 35%) loss: 0.005842\n",
      "INFO | epoch 2 ( 70%) loss: 0.005211\n",
      "INFO | epoch 2 (100%) loss: 0.004812\n",
      "INFO | epoch 2 (test) loss: 0.000906\n",
      "INFO | epoch 3 (  0%) loss: 0.003739\n",
      "INFO | epoch 3 ( 35%) loss: 0.003357\n",
      "INFO | epoch 3 ( 70%) loss: 0.003153\n",
      "INFO | epoch 3 (100%) loss: 0.002997\n",
      "INFO | epoch 3 (test) loss: 0.000638\n",
      "INFO | epoch 4 (  0%) loss: 0.002095\n",
      "INFO | epoch 4 ( 35%) loss: 0.002351\n",
      "INFO | epoch 4 ( 70%) loss: 0.002264\n",
      "INFO | epoch 4 (100%) loss: 0.002215\n",
      "INFO | epoch 4 (test) loss: 0.000514\n",
      "INFO | epoch 5 (  0%) loss: 0.002394\n",
      "INFO | epoch 5 ( 35%) loss: 0.001935\n",
      "INFO | epoch 5 ( 70%) loss: 0.001862\n",
      "INFO | epoch 5 (100%) loss: 0.001825\n",
      "INFO | epoch 5 (test) loss: 0.000436\n",
      "INFO | epoch 6 (  0%) loss: 0.001604\n",
      "INFO | epoch 6 ( 35%) loss: 0.001658\n",
      "INFO | epoch 6 ( 70%) loss: 0.001596\n",
      "INFO | epoch 6 (100%) loss: 0.001556\n",
      "INFO | epoch 6 (test) loss: 0.000381\n",
      "INFO | epoch 7 (  0%) loss: 0.001297\n",
      "INFO | epoch 7 ( 35%) loss: 0.001434\n",
      "INFO | epoch 7 ( 70%) loss: 0.001393\n",
      "INFO | epoch 7 (100%) loss: 0.001373\n",
      "INFO | epoch 7 (test) loss: 0.000343\n",
      "INFO | epoch 8 (  0%) loss: 0.001187\n",
      "INFO | epoch 8 ( 35%) loss: 0.001291\n",
      "INFO | epoch 8 ( 70%) loss: 0.001260\n",
      "INFO | epoch 8 (100%) loss: 0.001238\n",
      "INFO | epoch 8 (test) loss: 0.000303\n",
      "INFO | epoch 9 (  0%) loss: 0.001061\n",
      "INFO | epoch 9 ( 35%) loss: 0.001170\n",
      "INFO | epoch 9 ( 70%) loss: 0.001144\n",
      "INFO | epoch 9 (100%) loss: 0.001120\n",
      "INFO | epoch 9 (test) loss: 0.000280\n",
      "INFO | epoch 10 (  0%) loss: 0.001259\n",
      "INFO | epoch 10 ( 35%) loss: 0.001043\n",
      "INFO | epoch 10 ( 70%) loss: 0.001026\n",
      "INFO | epoch 10 (100%) loss: 0.001012\n",
      "INFO | epoch 10 (test) loss: 0.000249\n",
      "INFO | model blob saved to /home/jmsdnns/ML/pallets/saved/ae.naive.rgba.pkl\n",
      "INFO | training losses saved to /home/jmsdnns/ML/pallets/saved/ae.naive.rgba.json\n"
     ]
    }
   ],
   "source": [
    "model = M.ae.NaiveRGBAAutoencoder()\n",
    "criterion = torch.nn.MSELoss()\n",
    "train_loader = DataLoader(dataset_rgba, batch_size=BATCH_SIZE, sampler=train_sampler_rgba)\n",
    "test_loader = DataLoader(dataset_rgba, batch_size=BATCH_SIZE, sampler=test_sampler_rgba)\n",
    "save_name = 'ae.naive.rgba'\n",
    "\n",
    "train_losses, test_losses = M.ae.train(\n",
    "    device, model, criterion, train_loader, test_loader,\n",
    "    learn_rate=LR, epochs=EPOCHS\n",
    ")\n",
    "\n",
    "M.save(save_name, model, train_losses, test_losses)\n",
    "\n"
   ]
  },
  {
   "cell_type": "code",
   "execution_count": 9,
   "id": "657d3b1b",
   "metadata": {},
   "outputs": [
    {
     "data": {
      "image/png": "[encoded data removed]",
      "text/plain": [
       "<Figure size 640x480 with 1 Axes>"
      ]
     },
     "metadata": {},
     "output_type": "display_data"
    }
   ],
   "source": [
    "view_reconstruction(model, train_loader)"
   ]
  },
  {
   "cell_type": "code",
   "execution_count": 10,
   "id": "361297dc",
   "metadata": {},
   "outputs": [
    {
     "data": {
      "image/png": "[encoded data removed]",
      "text/plain": [
       "<Figure size 640x480 with 1 Axes>"
      ]
     },
     "metadata": {},
     "output_type": "display_data"
    }
   ],
   "source": [
    "graph_losses(train_losses, test_losses)"
   ]
  },
  {
   "cell_type": "markdown",
   "id": "34ebd956",
   "metadata": {},
   "source": [
    "## Conv RGBA"
   ]
  },
  {
   "cell_type": "code",
   "execution_count": 11,
   "id": "2cd988a4",
   "metadata": {},
   "outputs": [
    {
     "name": "stderr",
     "output_type": "stream",
     "text": [
      "INFO | model: pallets.models.ae.ConvRGBAAutoencoder\n",
      "INFO | criterion: torch.nn.modules.loss.MSELoss\n",
      "INFO | learn rate: 0.001\n",
      "INFO | epochs: 10\n",
      "INFO | epoch 1 (  0%) loss: 0.102316\n",
      "INFO | epoch 1 ( 35%) loss: 0.018801\n",
      "INFO | epoch 1 ( 70%) loss: 0.010600\n",
      "INFO | epoch 1 (100%) loss: 0.007808\n",
      "INFO | epoch 1 (test) loss: 0.000162\n",
      "INFO | epoch 2 (  0%) loss: 0.000602\n",
      "INFO | epoch 2 ( 35%) loss: 0.000571\n",
      "INFO | epoch 2 ( 70%) loss: 0.000499\n",
      "INFO | epoch 2 (100%) loss: 0.000449\n",
      "INFO | epoch 2 (test) loss: 0.000074\n",
      "INFO | epoch 3 (  0%) loss: 0.000262\n",
      "INFO | epoch 3 ( 35%) loss: 0.000294\n",
      "INFO | epoch 3 ( 70%) loss: 0.000270\n",
      "INFO | epoch 3 (100%) loss: 0.000255\n",
      "INFO | epoch 3 (test) loss: 0.000048\n",
      "INFO | epoch 4 (  0%) loss: 0.000204\n",
      "INFO | epoch 4 ( 35%) loss: 0.000203\n",
      "INFO | epoch 4 ( 70%) loss: 0.000190\n",
      "INFO | epoch 4 (100%) loss: 0.000184\n",
      "INFO | epoch 4 (test) loss: 0.000037\n",
      "INFO | epoch 5 (  0%) loss: 0.000176\n",
      "INFO | epoch 5 ( 35%) loss: 0.000147\n",
      "INFO | epoch 5 ( 70%) loss: 0.000144\n",
      "INFO | epoch 5 (100%) loss: 0.000145\n",
      "INFO | epoch 5 (test) loss: 0.000031\n",
      "INFO | epoch 6 (  0%) loss: 0.000124\n",
      "INFO | epoch 6 ( 35%) loss: 0.000116\n",
      "INFO | epoch 6 ( 70%) loss: 0.000116\n",
      "INFO | epoch 6 (100%) loss: 0.000114\n",
      "INFO | epoch 6 (test) loss: 0.000032\n",
      "INFO | epoch 7 (  0%) loss: 0.000136\n",
      "INFO | epoch 7 ( 35%) loss: 0.000107\n",
      "INFO | epoch 7 ( 70%) loss: 0.000103\n",
      "INFO | epoch 7 (100%) loss: 0.000102\n",
      "INFO | epoch 7 (test) loss: 0.000020\n",
      "INFO | epoch 8 (  0%) loss: 0.000094\n",
      "INFO | epoch 8 ( 35%) loss: 0.000087\n",
      "INFO | epoch 8 ( 70%) loss: 0.000085\n",
      "INFO | epoch 8 (100%) loss: 0.000084\n",
      "INFO | epoch 8 (test) loss: 0.000018\n",
      "INFO | epoch 9 (  0%) loss: 0.000075\n",
      "INFO | epoch 9 ( 35%) loss: 0.000078\n",
      "INFO | epoch 9 ( 70%) loss: 0.000078\n",
      "INFO | epoch 9 (100%) loss: 0.000075\n",
      "INFO | epoch 9 (test) loss: 0.000020\n",
      "INFO | epoch 10 (  0%) loss: 0.000080\n",
      "INFO | epoch 10 ( 35%) loss: 0.000075\n",
      "INFO | epoch 10 ( 70%) loss: 0.000067\n",
      "INFO | epoch 10 (100%) loss: 0.000068\n",
      "INFO | epoch 10 (test) loss: 0.000021\n",
      "INFO | model blob saved to /home/jmsdnns/ML/pallets/saved/ae.conv.rgba.pkl\n",
      "INFO | training losses saved to /home/jmsdnns/ML/pallets/saved/ae.conv.rgba.json\n"
     ]
    }
   ],
   "source": [
    "model = M.ae.ConvRGBAAutoencoder()\n",
    "criterion = torch.nn.MSELoss()\n",
    "train_loader = DataLoader(dataset_rgba, batch_size=BATCH_SIZE, sampler=train_sampler_rgba)\n",
    "test_loader = DataLoader(dataset_rgba, batch_size=BATCH_SIZE, sampler=test_sampler_rgba)\n",
    "save_name = 'ae.conv.rgba'\n",
    "\n",
    "train_losses, test_losses = M.ae.train(\n",
    "    device, model, criterion, train_loader, test_loader,\n",
    "    learn_rate=LR, epochs=EPOCHS\n",
    ")\n",
    "\n",
    "M.save(save_name, model, train_losses, test_losses)\n",
    "\n"
   ]
  },
  {
   "cell_type": "code",
   "execution_count": 12,
   "id": "bd1ca0a1",
   "metadata": {},
   "outputs": [
    {
     "data": {
      "image/png": "[encoded data removed]",
      "text/plain": [
       "<Figure size 640x480 with 1 Axes>"
      ]
     },
     "metadata": {},
     "output_type": "display_data"
    }
   ],
   "source": [
    "view_reconstruction(model, train_loader)"
   ]
  },
  {
   "cell_type": "code",
   "execution_count": 13,
   "id": "67acf27a",
   "metadata": {},
   "outputs": [
    {
     "data": {
      "image/png": "[encoded data removed]",
      "text/plain": [
       "<Figure size 640x480 with 1 Axes>"
      ]
     },
     "metadata": {},
     "output_type": "display_data"
    }
   ],
   "source": [
    "graph_losses(train_losses, test_losses)"
   ]
  },
  {
   "cell_type": "markdown",
   "id": "8801d898",
   "metadata": {},
   "source": [
    "## Naive One Hot"
   ]
  },
  {
   "cell_type": "code",
   "execution_count": 14,
   "id": "93fd96d3",
   "metadata": {},
   "outputs": [
    {
     "name": "stderr",
     "output_type": "stream",
     "text": [
      "INFO | model: pallets.models.ae.NaiveOneHotAutoencoder\n",
      "INFO | criterion: torch.nn.modules.loss.CrossEntropyLoss\n",
      "INFO | learn rate: 0.001\n",
      "INFO | epochs: 10\n",
      "INFO | epoch 1 (  0%) loss: 2.703327\n",
      "INFO | epoch 1 ( 35%) loss: 0.642619\n",
      "INFO | epoch 1 ( 70%) loss: 0.438328\n",
      "INFO | epoch 1 (100%) loss: 0.350931\n",
      "INFO | epoch 1 (test) loss: 0.029084\n",
      "INFO | epoch 2 (  0%) loss: 0.117710\n",
      "INFO | epoch 2 ( 35%) loss: 0.086442\n",
      "INFO | epoch 2 ( 70%) loss: 0.072885\n",
      "INFO | epoch 2 (100%) loss: 0.065406\n",
      "INFO | epoch 2 (test) loss: 0.010961\n",
      "INFO | epoch 3 (  0%) loss: 0.039310\n",
      "INFO | epoch 3 ( 35%) loss: 0.035981\n",
      "INFO | epoch 3 ( 70%) loss: 0.033039\n",
      "INFO | epoch 3 (100%) loss: 0.030908\n",
      "INFO | epoch 3 (test) loss: 0.006842\n",
      "INFO | epoch 4 (  0%) loss: 0.028138\n",
      "INFO | epoch 4 ( 35%) loss: 0.021288\n",
      "INFO | epoch 4 ( 70%) loss: 0.019785\n",
      "INFO | epoch 4 (100%) loss: 0.018762\n",
      "INFO | epoch 4 (test) loss: 0.004720\n",
      "INFO | epoch 5 (  0%) loss: 0.015820\n",
      "INFO | epoch 5 ( 35%) loss: 0.013668\n",
      "INFO | epoch 5 ( 70%) loss: 0.012805\n",
      "INFO | epoch 5 (100%) loss: 0.012294\n",
      "INFO | epoch 5 (test) loss: 0.003264\n",
      "INFO | epoch 6 (  0%) loss: 0.009582\n",
      "INFO | epoch 6 ( 35%) loss: 0.009472\n",
      "INFO | epoch 6 ( 70%) loss: 0.009215\n",
      "INFO | epoch 6 (100%) loss: 0.008876\n",
      "INFO | epoch 6 (test) loss: 0.002576\n",
      "INFO | epoch 7 (  0%) loss: 0.006922\n",
      "INFO | epoch 7 ( 35%) loss: 0.007151\n",
      "INFO | epoch 7 ( 70%) loss: 0.006970\n",
      "INFO | epoch 7 (100%) loss: 0.006823\n",
      "INFO | epoch 7 (test) loss: 0.002186\n",
      "INFO | epoch 8 (  0%) loss: 0.004820\n",
      "INFO | epoch 8 ( 35%) loss: 0.005689\n",
      "INFO | epoch 8 ( 70%) loss: 0.005468\n",
      "INFO | epoch 8 (100%) loss: 0.005270\n",
      "INFO | epoch 8 (test) loss: 0.001759\n",
      "INFO | epoch 9 (  0%) loss: 0.003630\n",
      "INFO | epoch 9 ( 35%) loss: 0.004057\n",
      "INFO | epoch 9 ( 70%) loss: 0.003940\n",
      "INFO | epoch 9 (100%) loss: 0.003943\n",
      "INFO | epoch 9 (test) loss: 0.001609\n",
      "INFO | epoch 10 (  0%) loss: 0.004402\n",
      "INFO | epoch 10 ( 35%) loss: 0.003176\n",
      "INFO | epoch 10 ( 70%) loss: 0.003096\n",
      "INFO | epoch 10 (100%) loss: 0.003094\n",
      "INFO | epoch 10 (test) loss: 0.001394\n",
      "INFO | model blob saved to /home/jmsdnns/ML/pallets/saved/ae.naive.onehot.pkl\n",
      "INFO | training losses saved to /home/jmsdnns/ML/pallets/saved/ae.naive.onehot.json\n"
     ]
    }
   ],
   "source": [
    "model = M.ae.NaiveOneHotAutoencoder()\n",
    "criterion = torch.nn.CrossEntropyLoss()\n",
    "train_loader = DataLoader(dataset_oh, batch_size=BATCH_SIZE, sampler=train_sampler_oh)\n",
    "test_loader = DataLoader(dataset_oh, batch_size=BATCH_SIZE, sampler=test_sampler_oh)\n",
    "save_name = 'ae.naive.onehot'\n",
    "\n",
    "train_losses, test_losses = M.ae.train(\n",
    "    device, model, criterion, train_loader, test_loader,\n",
    "    learn_rate=LR, epochs=EPOCHS\n",
    ")\n",
    "\n",
    "M.save(save_name, model, train_losses, test_losses)\n",
    "\n"
   ]
  },
  {
   "cell_type": "code",
   "execution_count": 15,
   "id": "84593a4d",
   "metadata": {},
   "outputs": [
    {
     "data": {
      "image/png": "[encoded data removed]",
      "text/plain": [
       "<Figure size 640x480 with 1 Axes>"
      ]
     },
     "metadata": {},
     "output_type": "display_data"
    }
   ],
   "source": [
    "view_reconstruction(model, train_loader)"
   ]
  },
  {
   "cell_type": "code",
   "execution_count": 16,
   "id": "fd3506ac",
   "metadata": {},
   "outputs": [
    {
     "data": {
      "image/png": "[encoded data removed]",
      "text/plain": [
       "<Figure size 640x480 with 1 Axes>"
      ]
     },
     "metadata": {},
     "output_type": "display_data"
    }
   ],
   "source": [
    "graph_losses(train_losses, test_losses)"
   ]
  },
  {
   "cell_type": "markdown",
   "id": "e17eab0f",
   "metadata": {},
   "source": [
    "## Conv One Hot"
   ]
  },
  {
   "cell_type": "code",
   "execution_count": 17,
   "id": "c8920a9f",
   "metadata": {},
   "outputs": [
    {
     "name": "stderr",
     "output_type": "stream",
     "text": [
      "INFO | model: pallets.models.ae.ConvOneHotAutoencoder\n",
      "INFO | criterion: torch.nn.modules.loss.CrossEntropyLoss\n",
      "INFO | learn rate: 0.001\n",
      "INFO | epochs: 10\n",
      "INFO | epoch 1 (  0%) loss: 2.705872\n",
      "INFO | epoch 1 ( 35%) loss: 0.952971\n",
      "INFO | epoch 1 ( 70%) loss: 0.630623\n",
      "INFO | epoch 1 (100%) loss: 0.494235\n",
      "INFO | epoch 1 (test) loss: 0.028836\n",
      "INFO | epoch 2 (  0%) loss: 0.112175\n",
      "INFO | epoch 2 ( 35%) loss: 0.069830\n",
      "INFO | epoch 2 ( 70%) loss: 0.051294\n",
      "INFO | epoch 2 (100%) loss: 0.042831\n",
      "INFO | epoch 2 (test) loss: 0.004837\n",
      "INFO | epoch 3 (  0%) loss: 0.015867\n",
      "INFO | epoch 3 ( 35%) loss: 0.015901\n",
      "INFO | epoch 3 ( 70%) loss: 0.013218\n",
      "INFO | epoch 3 (100%) loss: 0.011792\n",
      "INFO | epoch 3 (test) loss: 0.002058\n",
      "INFO | epoch 4 (  0%) loss: 0.006515\n",
      "INFO | epoch 4 ( 35%) loss: 0.005904\n",
      "INFO | epoch 4 ( 70%) loss: 0.005342\n",
      "INFO | epoch 4 (100%) loss: 0.004736\n",
      "INFO | epoch 4 (test) loss: 0.000970\n",
      "INFO | epoch 5 (  0%) loss: 0.003706\n",
      "INFO | epoch 5 ( 35%) loss: 0.002534\n",
      "INFO | epoch 5 ( 70%) loss: 0.002126\n",
      "INFO | epoch 5 (100%) loss: 0.001990\n",
      "INFO | epoch 5 (test) loss: 0.000689\n",
      "INFO | epoch 6 (  0%) loss: 0.001208\n",
      "INFO | epoch 6 ( 35%) loss: 0.001188\n",
      "INFO | epoch 6 ( 70%) loss: 0.001088\n",
      "INFO | epoch 6 (100%) loss: 0.001011\n",
      "INFO | epoch 6 (test) loss: 0.000538\n",
      "INFO | epoch 7 (  0%) loss: 0.001606\n",
      "INFO | epoch 7 ( 35%) loss: 0.000611\n",
      "INFO | epoch 7 ( 70%) loss: 0.000583\n",
      "INFO | epoch 7 (100%) loss: 0.000566\n",
      "INFO | epoch 7 (test) loss: 0.000512\n",
      "INFO | epoch 8 (  0%) loss: 0.000284\n",
      "INFO | epoch 8 ( 35%) loss: 0.000364\n",
      "INFO | epoch 8 ( 70%) loss: 0.000356\n",
      "INFO | epoch 8 (100%) loss: 0.000349\n",
      "INFO | epoch 8 (test) loss: 0.000483\n",
      "INFO | epoch 9 (  0%) loss: 0.000225\n",
      "INFO | epoch 9 ( 35%) loss: 0.000311\n",
      "INFO | epoch 9 ( 70%) loss: 0.000276\n",
      "INFO | epoch 9 (100%) loss: 0.000253\n",
      "INFO | epoch 9 (test) loss: 0.000469\n",
      "INFO | epoch 10 (  0%) loss: 0.000127\n",
      "INFO | epoch 10 ( 35%) loss: 0.000151\n",
      "INFO | epoch 10 ( 70%) loss: 0.000135\n",
      "INFO | epoch 10 (100%) loss: 0.000137\n",
      "INFO | epoch 10 (test) loss: 0.000489\n",
      "INFO | model blob saved to /home/jmsdnns/ML/pallets/saved/ae.conv.onehot.pkl\n",
      "INFO | training losses saved to /home/jmsdnns/ML/pallets/saved/ae.conv.onehot.json\n"
     ]
    }
   ],
   "source": [
    "model = M.ae.ConvOneHotAutoencoder()\n",
    "criterion = torch.nn.CrossEntropyLoss()\n",
    "train_loader = DataLoader(dataset_oh, batch_size=BATCH_SIZE, sampler=train_sampler_oh)\n",
    "test_loader = DataLoader(dataset_oh, batch_size=BATCH_SIZE, sampler=test_sampler_oh)\n",
    "save_name = 'ae.conv.onehot'\n",
    "\n",
    "train_losses, test_losses = M.ae.train(\n",
    "    device, model, criterion, train_loader, test_loader,\n",
    "    learn_rate=LR, epochs=EPOCHS\n",
    ")\n",
    "\n",
    "M.save(save_name, model, train_losses, test_losses)\n",
    "\n"
   ]
  },
  {
   "cell_type": "code",
   "execution_count": 18,
   "id": "baa6e86f",
   "metadata": {},
   "outputs": [
    {
     "data": {
      "image/png": "[encoded data removed]",
      "text/plain": [
       "<Figure size 640x480 with 1 Axes>"
      ]
     },
     "metadata": {},
     "output_type": "display_data"
    }
   ],
   "source": [
    "view_reconstruction(model, train_loader)"
   ]
  },
  {
   "cell_type": "code",
   "execution_count": 19,
   "id": "55dc149e",
   "metadata": {},
   "outputs": [
    {
     "data": {
      "image/png": "[encoded data removed]",
      "text/plain": [
       "<Figure size 640x480 with 1 Axes>"
      ]
     },
     "metadata": {},
     "output_type": "display_data"
    }
   ],
   "source": [
    "graph_losses(train_losses, test_losses)"
   ]
  },
  {
   "cell_type": "code",
   "execution_count": null,
   "id": "1ac9c638",
   "metadata": {},
   "outputs": [],
   "source": []
  }
 ],
 "metadata": {
  "kernelspec": {
   "display_name": "Python 3 (ipykernel)",
   "language": "python",
   "name": "python3"
  },
  "language_info": {
   "codemirror_mode": {
    "name": "ipython",
    "version": 3
   },
   "file_extension": ".py",
   "mimetype": "text/x-python",
   "name": "python",
   "nbconvert_exporter": "python",
   "pygments_lexer": "ipython3",
   "version": "3.11.6"
  }
 },
 "nbformat": 4,
 "nbformat_minor": 5
}
