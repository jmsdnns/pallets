{
 "cells": [
  {
   "cell_type": "code",
   "execution_count": 1,
   "id": "19d0f047",
   "metadata": {
    "editable": true,
    "slideshow": {
     "slide_type": ""
    },
    "tags": []
   },
   "outputs": [],
   "source": [
    "import sys\n",
    "import os\n",
    "import numpy as np\n",
    "import torch\n",
    "from torch.utils.data import DataLoader, SubsetRandomSampler\n",
    "import matplotlib.pyplot as plt\n"
   ]
  },
  {
   "cell_type": "code",
   "execution_count": 2,
   "id": "f42bf158",
   "metadata": {},
   "outputs": [],
   "source": [
    "# Make it possible to import `pallets` from parent dir\n",
    "\n",
    "sys.path.append(\n",
    "    os.path.abspath(os.path.join(os.getcwd(), '..'))\n",
    ")\n",
    "from pallets import images, datasets, models\n"
   ]
  },
  {
   "cell_type": "markdown",
   "metadata": {},
   "source": [
    "# Prepare Datasets\n",
    "\n",
    "Create DataLoaders for both:\n",
    "\n",
    "* the RGBA dataset\n",
    "* the one-hot encoded dataset"
   ]
  },
  {
   "cell_type": "code",
   "execution_count": 3,
   "metadata": {},
   "outputs": [
    {
     "name": "stdout",
     "output_type": "stream",
     "text": [
      "image shape: torch.Size([4, 24, 24])\n",
      "\n",
      "total colors: 7\n",
      "\n",
      "image colors:\n",
      "[[  0   0   0   0]\n",
      " [  0   0   0 255]\n",
      " [ 80 124  51 255]\n",
      " [ 93 139  67 255]\n",
      " [ 95  29   9 255]\n",
      " [174 139  97 255]\n",
      " [255 246 142 255]]\n"
     ]
    }
   ],
   "source": [
    "# Unique colors for one punk\n",
    "\n",
    "image = images.get_punk_tensor(0)\n",
    "print(f\"image shape: {image.shape}\\n\")\n",
    "\n",
    "colors = images.one_image_colors(image)\n",
    "print(f\"total colors: {len(colors)}\\n\")\n",
    "print(f\"image colors:\\n{colors}\")\n"
   ]
  },
  {
   "cell_type": "code",
   "execution_count": 4,
   "id": "864aacb2",
   "metadata": {},
   "outputs": [
    {
     "name": "stdout",
     "output_type": "stream",
     "text": [
      "colors found: 222\n"
     ]
    }
   ],
   "source": [
    "# Unique colors for all punks\n",
    "\n",
    "all_colors = images.get_punk_colors()\n",
    "print(f\"colors found: {len(all_colors)}\")\n"
   ]
  },
  {
   "cell_type": "markdown",
   "metadata": {},
   "source": [
    "### RGBA Dataset"
   ]
  },
  {
   "cell_type": "code",
   "execution_count": null,
   "metadata": {},
   "outputs": [],
   "source": []
  },
  {
   "cell_type": "markdown",
   "id": "6d36b887",
   "metadata": {},
   "source": [
    "### One Hot Dataset\n",
    "\n",
    "1. Generate a one hot representation for all 222 colors.\n",
    "\n",
    "2. Instantiate a mapper to go from each color to its one hot representation and back.\n",
    "\n",
    "3. Create dataloader for punks that represents its color data as one hot vectors."
   ]
  },
  {
   "cell_type": "code",
   "execution_count": 5,
   "id": "7d09b245",
   "metadata": {},
   "outputs": [
    {
     "data": {
      "image/png": "[encoded data removed]",
      "text/plain": [
       "<Figure size 640x480 with 1 Axes>"
      ]
     },
     "metadata": {},
     "output_type": "display_data"
    },
    {
     "data": {
      "image/png": "[encoded data removed]",
      "text/plain": [
       "<Figure size 640x480 with 1 Axes>"
      ]
     },
     "metadata": {},
     "output_type": "display_data"
    }
   ],
   "source": [
    "# Mapper from color to one hot\n",
    "\n",
    "from torchvision.transforms.functional import to_pil_image\n",
    "\n",
    "mapper = datasets.ColorOneHotMapper(all_colors)\n",
    "\n",
    "one_hot_encoded_image = datasets.rgb_to_one_hot(image, mapper)\n",
    "restored = datasets.one_hot_to_rgb(one_hot_encoded_image, mapper)\n",
    "\n",
    "plt.imshow(to_pil_image(image))\n",
    "plt.show()\n",
    "\n",
    "plt.imshow(to_pil_image(restored))\n",
    "plt.show()\n"
   ]
  },
  {
   "cell_type": "code",
   "execution_count": 6,
   "id": "1f7ccbe3",
   "metadata": {},
   "outputs": [
    {
     "name": "stdout",
     "output_type": "stream",
     "text": [
      "color:\n",
      "[  0  64 255 255]\n",
      "\n",
      "one-hot encoding:\n",
      "[0. 0. 1. 0. 0. 0. 0. 0. 0. 0. 0. 0. 0. 0. 0. 0. 0. 0. 0. 0. 0. 0. 0. 0.\n",
      " 0. 0. 0. 0. 0. 0. 0. 0. 0. 0. 0. 0. 0. 0. 0. 0. 0. 0. 0. 0. 0. 0. 0. 0.\n",
      " 0. 0. 0. 0. 0. 0. 0. 0. 0. 0. 0. 0. 0. 0. 0. 0. 0. 0. 0. 0. 0. 0. 0. 0.\n",
      " 0. 0. 0. 0. 0. 0. 0. 0. 0. 0. 0. 0. 0. 0. 0. 0. 0. 0. 0. 0. 0. 0. 0. 0.\n",
      " 0. 0. 0. 0. 0. 0. 0. 0. 0. 0. 0. 0. 0. 0. 0. 0. 0. 0. 0. 0. 0. 0. 0. 0.\n",
      " 0. 0. 0. 0. 0. 0. 0. 0. 0. 0. 0. 0. 0. 0. 0. 0. 0. 0. 0. 0. 0. 0. 0. 0.\n",
      " 0. 0. 0. 0. 0. 0. 0. 0. 0. 0. 0. 0. 0. 0. 0. 0. 0. 0. 0. 0. 0. 0. 0. 0.\n",
      " 0. 0. 0. 0. 0. 0. 0. 0. 0. 0. 0. 0. 0. 0. 0. 0. 0. 0. 0. 0. 0. 0. 0. 0.\n",
      " 0. 0. 0. 0. 0. 0. 0. 0. 0. 0. 0. 0. 0. 0. 0. 0. 0. 0. 0. 0. 0. 0. 0. 0.\n",
      " 0. 0. 0. 0. 0. 0.]\n",
      "\n",
      "retrieved color:\n",
      "[  0  64 255 255]\n"
     ]
    }
   ],
   "source": [
    "# Start with a color\n",
    "test_color = all_colors[2]\n",
    "print(f\"color:\\n{test_color}\\n\")\n",
    "\n",
    "# Convert color to one hot\n",
    "test_one_hot = mapper.to_one_hot(test_color)\n",
    "print(f\"one-hot encoding:\\n{test_one_hot}\\n\")\n",
    "\n",
    "# Convert one hat back to original color\n",
    "retrieved_color = mapper.to_color(test_one_hot)\n",
    "print(f\"retrieved color:\\n{retrieved_color}\")\n"
   ]
  },
  {
   "cell_type": "code",
   "execution_count": 7,
   "id": "35fef1c0",
   "metadata": {},
   "outputs": [
    {
     "name": "stdout",
     "output_type": "stream",
     "text": [
      "dataset size:   10000\n",
      "  - train size: 8000\n",
      "  - test size:  2000\n",
      "\n",
      "train sampler:  8000\n",
      "  - sample id:  556\n",
      "\n",
      "test sampler:   2000\n",
      "  - sample id:  7473\n",
      "\n"
     ]
    }
   ],
   "source": [
    "# Punks Dataset\n",
    "\n",
    "dataset = datasets.OneHotEncodedImageDataset(mapper, test_size=2000)\n",
    "print(f\"dataset size:   {len(dataset)}\")\n",
    "print(f\"  - train size: {len(dataset.train_idx)}\")\n",
    "print(f\"  - test size:  {len(dataset.test_idx)}\\n\")\n",
    "\n",
    "train_sampler = SubsetRandomSampler(dataset.train_idx)\n",
    "print(f\"train sampler:  {len(train_sampler)}\")\n",
    "print(f\"  - sample id:  {next(iter(train_sampler))}\\n\")\n",
    "\n",
    "test_sampler = SubsetRandomSampler(dataset.test_idx)\n",
    "print(f\"test sampler:   {len(test_sampler)}\")\n",
    "print(f\"  - sample id:  {next(iter(test_sampler))}\\n\")\n",
    "\n"
   ]
  },
  {
   "cell_type": "markdown",
   "metadata": {},
   "source": [
    "# Prepare DataLoaders"
   ]
  },
  {
   "cell_type": "code",
   "execution_count": 8,
   "id": "2366d73d",
   "metadata": {},
   "outputs": [
    {
     "name": "stdout",
     "output_type": "stream",
     "text": [
      "batch size:   32\n",
      "  - train punk: torch.Size([32, 222, 24, 24])\n",
      "  - test punk:  torch.Size([32, 222, 24, 24])\n"
     ]
    }
   ],
   "source": [
    "# Punks DataLoader\n",
    "\n",
    "batch_size = 32\n",
    "shuffle = True\n",
    "num_workers = 4\n",
    "\n",
    "train_loader = DataLoader(\n",
    "    dataset, batch_size=batch_size, num_workers=0, sampler=train_sampler\n",
    ")\n",
    "\n",
    "test_loader = DataLoader(\n",
    "    dataset, batch_size=batch_size, num_workers=0, sampler=test_sampler\n",
    ")\n",
    "\n",
    "print(f\"batch size:   {batch_size}\")\n",
    "\n",
    "train_punk = next(iter(train_loader))\n",
    "print(f\"  - train punk: {train_punk.shape}\")\n",
    "\n",
    "test_punk = next(iter(train_loader))\n",
    "print(f\"  - test punk:  {test_punk.shape}\")\n"
   ]
  },
  {
   "cell_type": "markdown",
   "id": "6c0b9f3f",
   "metadata": {},
   "source": [
    "# Train Model"
   ]
  },
  {
   "cell_type": "code",
   "execution_count": 9,
   "id": "c733c096",
   "metadata": {
    "scrolled": true
   },
   "outputs": [
    {
     "name": "stdout",
     "output_type": "stream",
     "text": [
      "epoch [1/5]\n",
      "  - train loss: 0.011101825165562332\n",
      "  - test loss:  0.0014313087661913227\n",
      "epoch [2/5]\n",
      "  - train loss: 0.0013993972749449313\n",
      "  - test loss:  0.00134047698636081\n",
      "epoch [3/5]\n",
      "  - train loss: 0.0012301854859106242\n",
      "  - test loss:  0.0011237465216600824\n",
      "epoch [4/5]\n",
      "  - train loss: 0.001066529650473967\n",
      "  - test loss:  0.001004138944803604\n",
      "epoch [5/5]\n",
      "  - train loss: 0.0009781468058936299\n",
      "  - test loss:  0.0009222191431382228\n"
     ]
    }
   ],
   "source": [
    "# Model: One Hot\n",
    "autoencoder = models.OneHotAutoencoder()\n",
    "criterion = torch.nn.MSELoss()\n",
    "\n",
    "# Model: Simple Conv\n",
    "# autoencoder = models.SimpleConvAutoencoder()\n",
    "# criterion = torch.nn.MSELoss()\n",
    "\n",
    "# Cue training montage\n",
    "train_losses, test_losses = models.train(\n",
    "    autoencoder, criterion, train_loader, test_loader,\n",
    "    learn_rate=1e-3, epochs=5\n",
    ")\n"
   ]
  },
  {
   "cell_type": "markdown",
   "id": "b6b4cdbf",
   "metadata": {},
   "source": [
    "# Model Output to Image"
   ]
  },
  {
   "cell_type": "code",
   "execution_count": 10,
   "id": "dcf1a2ab",
   "metadata": {},
   "outputs": [
    {
     "name": "stdout",
     "output_type": "stream",
     "text": [
      "torch.Size([32, 222, 24, 24])\n"
     ]
    }
   ],
   "source": [
    "# Reconstruct random data for test\n",
    "\n",
    "if isinstance(autoencoder, models.SimpleConvAutoencoder):\n",
    "    example_input = torch.rand(32, 222, 24, 24)\n",
    "else:\n",
    "    example_input = torch.rand(32, 222*24*24)\n",
    "\n",
    "reconstructed = autoencoder(example_input)\n",
    "print(reconstructed.shape)\n"
   ]
  },
  {
   "cell_type": "code",
   "execution_count": 11,
   "id": "5f0d2833",
   "metadata": {},
   "outputs": [],
   "source": [
    "# Get image from batch\n",
    "\n",
    "image_batch = reconstructed.detach().cpu().numpy()\n",
    "some_image = image_batch[0]\n",
    "\n",
    "if isinstance(autoencoder, models.SimpleConvAutoencoder):\n",
    "    # if model is Conv2D, dimensions were changed during training\n",
    "    # and need to be adjustmented back\n",
    "    some_image = np.transpose(some_image, (1, 2, 0))\n",
    "\n"
   ]
  },
  {
   "cell_type": "code",
   "execution_count": 12,
   "id": "7be7562b",
   "metadata": {},
   "outputs": [
    {
     "data": {
      "text/plain": [
       "tensor([[[0, 0, 0,  ..., 0, 0, 0],\n",
       "         [0, 0, 0,  ..., 0, 0, 0],\n",
       "         [0, 0, 0,  ..., 0, 0, 0],\n",
       "         ...,\n",
       "         [0, 0, 0,  ..., 0, 0, 0],\n",
       "         [0, 0, 0,  ..., 0, 0, 0],\n",
       "         [0, 0, 0,  ..., 0, 0, 0]],\n",
       "\n",
       "        [[0, 0, 0,  ..., 0, 0, 0],\n",
       "         [0, 0, 0,  ..., 0, 0, 0],\n",
       "         [0, 0, 0,  ..., 0, 0, 0],\n",
       "         ...,\n",
       "         [0, 0, 0,  ..., 0, 0, 0],\n",
       "         [0, 0, 0,  ..., 0, 0, 0],\n",
       "         [0, 0, 0,  ..., 0, 0, 0]],\n",
       "\n",
       "        [[0, 0, 0,  ..., 0, 0, 0],\n",
       "         [0, 0, 0,  ..., 0, 0, 0],\n",
       "         [0, 0, 0,  ..., 0, 0, 0],\n",
       "         ...,\n",
       "         [0, 0, 0,  ..., 0, 0, 0],\n",
       "         [0, 0, 0,  ..., 0, 0, 0],\n",
       "         [0, 0, 0,  ..., 0, 0, 0]],\n",
       "\n",
       "        [[0, 0, 0,  ..., 0, 0, 0],\n",
       "         [0, 0, 0,  ..., 0, 0, 0],\n",
       "         [0, 0, 0,  ..., 0, 0, 0],\n",
       "         ...,\n",
       "         [0, 0, 0,  ..., 0, 0, 0],\n",
       "         [0, 0, 0,  ..., 0, 0, 0],\n",
       "         [0, 0, 0,  ..., 0, 0, 0]]], dtype=torch.uint8)"
      ]
     },
     "execution_count": 12,
     "metadata": {},
     "output_type": "execute_result"
    }
   ],
   "source": [
    "# 24x24 image with RGBA colors\n",
    "some_image = datasets.one_hot_to_rgb(some_image, mapper)\n",
    "# some_image.shape\n",
    "some_image\n"
   ]
  },
  {
   "cell_type": "code",
   "execution_count": 13,
   "id": "7baa76b2",
   "metadata": {},
   "outputs": [
    {
     "data": {
      "image/png": "[encoded data removed]",
      "text/plain": [
       "<Figure size 640x480 with 1 Axes>"
      ]
     },
     "metadata": {},
     "output_type": "display_data"
    }
   ],
   "source": [
    "from torchvision.transforms.functional import to_pil_image\n",
    "\n",
    "# print(type(some_image))\n",
    "# pil_image = to_pil_image(torch.tensor(some_image))\n",
    "pil_image = to_pil_image(some_image.clone().detach())\n",
    "plt.imshow(pil_image)\n",
    "plt.axis('off')\n",
    "plt.show()\n",
    "\n"
   ]
  },
  {
   "cell_type": "markdown",
   "id": "916d1d79",
   "metadata": {},
   "source": [
    "# Tests"
   ]
  },
  {
   "cell_type": "code",
   "execution_count": 14,
   "metadata": {},
   "outputs": [
    {
     "data": {
      "text/plain": [
       "[0.0014313087661913227,\n",
       " 0.00134047698636081,\n",
       " 0.0011237465216600824,\n",
       " 0.001004138944803604,\n",
       " 0.0009222191431382228]"
      ]
     },
     "execution_count": 14,
     "metadata": {},
     "output_type": "execute_result"
    }
   ],
   "source": [
    "test_losses\n"
   ]
  },
  {
   "cell_type": "code",
   "execution_count": 15,
   "metadata": {},
   "outputs": [
    {
     "data": {
      "text/plain": [
       "[0.011101825165562332,\n",
       " 0.0013993972749449313,\n",
       " 0.0012301854859106242,\n",
       " 0.001066529650473967,\n",
       " 0.0009781468058936299]"
      ]
     },
     "execution_count": 15,
     "metadata": {},
     "output_type": "execute_result"
    }
   ],
   "source": [
    "train_losses\n"
   ]
  },
  {
   "cell_type": "code",
   "execution_count": 16,
   "id": "044fd7c2",
   "metadata": {},
   "outputs": [
    {
     "data": {
      "text/plain": [
       "<function matplotlib.pyplot.show(close=None, block=None)>"
      ]
     },
     "execution_count": 16,
     "metadata": {},
     "output_type": "execute_result"
    },
    {
     "data": {
      "image/png": "[encoded data removed]",
      "text/plain": [
       "<Figure size 640x480 with 1 Axes>"
      ]
     },
     "metadata": {},
     "output_type": "display_data"
    }
   ],
   "source": [
    "# plt.figure(figsize=(10,5))\n",
    "plt.title(\"Train & Test loss\")\n",
    "plt.plot(train_losses, label='train loss')\n",
    "plt.plot(test_losses, label='test loss')\n",
    "plt.legend()\n",
    "plt.show\n"
   ]
  },
  {
   "cell_type": "code",
   "execution_count": null,
   "metadata": {},
   "outputs": [],
   "source": []
  }
 ],
 "metadata": {
  "kernelspec": {
   "display_name": "Python 3 (ipykernel)",
   "language": "python",
   "name": "python3"
  },
  "language_info": {
   "codemirror_mode": {
    "name": "ipython",
    "version": 3
   },
   "file_extension": ".py",
   "mimetype": "text/x-python",
   "name": "python",
   "nbconvert_exporter": "python",
   "pygments_lexer": "ipython3",
   "version": "3.11.5"
  }
 },
 "nbformat": 4,
 "nbformat_minor": 5
}
