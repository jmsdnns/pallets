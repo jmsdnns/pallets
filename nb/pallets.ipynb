{
 "cells": [
  {
   "cell_type": "code",
   "execution_count": 1,
   "id": "19d0f047",
   "metadata": {
    "editable": true,
    "slideshow": {
     "slide_type": ""
    },
    "tags": []
   },
   "outputs": [],
   "source": [
    "import sys\n",
    "import os\n",
    "import numpy as np\n",
    "import torch\n",
    "from torch.utils.data import DataLoader, SubsetRandomSampler\n",
    "from torchvision.transforms.functional import to_pil_image\n",
    "import matplotlib.pyplot as plt\n"
   ]
  },
  {
   "cell_type": "code",
   "execution_count": 2,
   "id": "f42bf158",
   "metadata": {},
   "outputs": [],
   "source": [
    "# Make it possible to import `pallets`\n",
    "\n",
    "# run from 'pallets/nb'\n",
    "sys.path.append(os.path.abspath(os.path.join(os.getcwd(), '..')))\n",
    "# run from project root\n",
    "# sys.path.append(os.path.abspath(os.getcwd()))\n",
    "\n",
    "from pallets import images, datasets, models\n"
   ]
  },
  {
   "cell_type": "markdown",
   "metadata": {},
   "source": [
    "# Prepare Datasets\n",
    "\n",
    "Create DataLoaders for both:\n",
    "\n",
    "* the RGBA dataset\n",
    "* the one-hot encoded dataset"
   ]
  },
  {
   "cell_type": "code",
   "execution_count": 3,
   "metadata": {},
   "outputs": [
    {
     "name": "stdout",
     "output_type": "stream",
     "text": [
      "image shape: torch.Size([4, 24, 24])\n",
      "\n",
      "total colors: 7\n",
      "\n",
      "image colors:\n",
      "tensor([[0.0000, 0.0000, 0.0000, 0.0000],\n",
      "        [0.0000, 0.0000, 0.0000, 1.0000],\n",
      "        [0.3137, 0.4863, 0.2000, 1.0000],\n",
      "        [0.3647, 0.5451, 0.2627, 1.0000],\n",
      "        [0.3725, 0.1137, 0.0353, 1.0000],\n",
      "        [0.6824, 0.5451, 0.3804, 1.0000],\n",
      "        [1.0000, 0.9647, 0.5569, 1.0000]])\n"
     ]
    }
   ],
   "source": [
    "# Unique colors for one punk\n",
    "\n",
    "image = images.get_punk_tensor(0)\n",
    "print(f\"image shape: {image.shape}\\n\")\n",
    "\n",
    "colors = images.one_image_colors(image)\n",
    "print(f\"total colors: {len(colors)}\\n\")\n",
    "print(f\"image colors:\\n{colors}\")\n"
   ]
  },
  {
   "cell_type": "markdown",
   "metadata": {},
   "source": [
    "### RGBA Dataset"
   ]
  },
  {
   "cell_type": "code",
   "execution_count": 4,
   "metadata": {},
   "outputs": [
    {
     "name": "stdout",
     "output_type": "stream",
     "text": [
      "dataset size:   10000\n",
      "  - train size: 8000\n",
      "  - test size:  2000\n",
      "\n",
      "train sampler:  8000\n",
      "  - sample id:  7659\n",
      "\n",
      "test sampler:   2000\n",
      "  - sample id:  4321\n",
      "\n"
     ]
    }
   ],
   "source": [
    "# RGBA Dataset\n",
    "\n",
    "dataset = datasets.CPunksDataset(test_size=2000)\n",
    "print(f\"dataset size:   {len(dataset)}\")\n",
    "print(f\"  - train size: {len(dataset.train_idx)}\")\n",
    "print(f\"  - test size:  {len(dataset.test_idx)}\\n\")\n",
    "\n",
    "train_sampler = SubsetRandomSampler(dataset.train_idx)\n",
    "print(f\"train sampler:  {len(train_sampler)}\")\n",
    "print(f\"  - sample id:  {next(iter(train_sampler))}\\n\")\n",
    "\n",
    "test_sampler = SubsetRandomSampler(dataset.test_idx)\n",
    "print(f\"test sampler:   {len(test_sampler)}\")\n",
    "print(f\"  - sample id:  {next(iter(test_sampler))}\\n\")\n",
    "\n",
    "rgba_ds = (dataset, train_sampler, test_sampler)\n",
    "\n"
   ]
  },
  {
   "cell_type": "markdown",
   "id": "6d36b887",
   "metadata": {},
   "source": [
    "### One Hot Dataset\n",
    "\n",
    "1. Generate a one hot representation for all 222 colors.\n",
    "\n",
    "2. Instantiate a mapper to go from each color to its one hot representation and back.\n",
    "\n",
    "3. Create dataloader for punks that represents its color data as one hot vectors."
   ]
  },
  {
   "cell_type": "code",
   "execution_count": 5,
   "id": "864aacb2",
   "metadata": {},
   "outputs": [
    {
     "name": "stdout",
     "output_type": "stream",
     "text": [
      "colors found: 222\n"
     ]
    }
   ],
   "source": [
    "# Unique colors for all punks\n",
    "\n",
    "all_colors = images.get_punk_colors()\n",
    "print(f\"colors found: {len(all_colors)}\")\n"
   ]
  },
  {
   "cell_type": "code",
   "execution_count": 6,
   "id": "7d09b245",
   "metadata": {},
   "outputs": [
    {
     "name": "stdout",
     "output_type": "stream",
     "text": [
      "color:\n",
      "tensor([0.0000, 0.2510, 1.0000, 1.0000])\n",
      "\n",
      "one-hot encoding:\n",
      "tensor([0., 0., 1., 0., 0., 0., 0., 0., 0., 0., 0., 0., 0., 0., 0., 0., 0., 0.,\n",
      "        0., 0., 0., 0., 0., 0., 0., 0., 0., 0., 0., 0., 0., 0., 0., 0., 0., 0.,\n",
      "        0., 0., 0., 0., 0., 0., 0., 0., 0., 0., 0., 0., 0., 0., 0., 0., 0., 0.,\n",
      "        0., 0., 0., 0., 0., 0., 0., 0., 0., 0., 0., 0., 0., 0., 0., 0., 0., 0.,\n",
      "        0., 0., 0., 0., 0., 0., 0., 0., 0., 0., 0., 0., 0., 0., 0., 0., 0., 0.,\n",
      "        0., 0., 0., 0., 0., 0., 0., 0., 0., 0., 0., 0., 0., 0., 0., 0., 0., 0.,\n",
      "        0., 0., 0., 0., 0., 0., 0., 0., 0., 0., 0., 0., 0., 0., 0., 0., 0., 0.,\n",
      "        0., 0., 0., 0., 0., 0., 0., 0., 0., 0., 0., 0., 0., 0., 0., 0., 0., 0.,\n",
      "        0., 0., 0., 0., 0., 0., 0., 0., 0., 0., 0., 0., 0., 0., 0., 0., 0., 0.,\n",
      "        0., 0., 0., 0., 0., 0., 0., 0., 0., 0., 0., 0., 0., 0., 0., 0., 0., 0.,\n",
      "        0., 0., 0., 0., 0., 0., 0., 0., 0., 0., 0., 0., 0., 0., 0., 0., 0., 0.,\n",
      "        0., 0., 0., 0., 0., 0., 0., 0., 0., 0., 0., 0., 0., 0., 0., 0., 0., 0.,\n",
      "        0., 0., 0., 0., 0., 0.])\n",
      "\n",
      "retrieved color:\n",
      "tensor([0.0000, 0.2510, 1.0000, 1.0000])\n"
     ]
    }
   ],
   "source": [
    "# Mapper from color to one hot\n",
    "\n",
    "mapper = datasets.ColorOneHotMapper(all_colors)\n",
    "\n",
    "# Start with a color\n",
    "test_color = all_colors[2]\n",
    "print(f\"color:\\n{test_color}\\n\")\n",
    "\n",
    "# Convert color to one hot\n",
    "test_one_hot = mapper.to_one_hot(test_color)\n",
    "print(f\"one-hot encoding:\\n{test_one_hot}\\n\")\n",
    "\n",
    "# Convert one hot back to original color\n",
    "retrieved_color = mapper.to_color(test_one_hot)\n",
    "print(f\"retrieved color:\\n{retrieved_color}\")\n"
   ]
  },
  {
   "cell_type": "code",
   "execution_count": 7,
   "id": "1f7ccbe3",
   "metadata": {},
   "outputs": [
    {
     "name": "stdout",
     "output_type": "stream",
     "text": [
      "one hot encoded: torch.Size([222, 24, 24])\n",
      "rgba encoded: torch.Size([222, 24, 24])\n"
     ]
    },
    {
     "data": {
      "image/png": "[encoded data removed]",
      "text/plain": [
       "<Figure size 640x480 with 1 Axes>"
      ]
     },
     "metadata": {},
     "output_type": "display_data"
    }
   ],
   "source": [
    "# Convert entire image to one hot encoded and back\n",
    "\n",
    "one_hot_encoded_image = datasets.rgba_to_one_hot(image, mapper)\n",
    "print(f\"one hot encoded: {one_hot_encoded_image.shape}\")\n",
    "\n",
    "restored = datasets.one_hot_to_rgba(one_hot_encoded_image, mapper)\n",
    "print(f\"rgba encoded: {one_hot_encoded_image.shape}\")\n",
    "\n",
    "# Show an image after going to one hot encoding and back\n",
    "plt.imshow(to_pil_image(restored))\n",
    "plt.show()\n"
   ]
  },
  {
   "cell_type": "code",
   "execution_count": 8,
   "id": "35fef1c0",
   "metadata": {},
   "outputs": [
    {
     "name": "stdout",
     "output_type": "stream",
     "text": [
      "dataset size:   10000\n",
      "  - train size: 8000\n",
      "  - test size:  2000\n",
      "\n",
      "train sampler:  8000\n",
      "  - sample id:  2215\n",
      "\n",
      "test sampler:   2000\n",
      "  - sample id:  8160\n",
      "\n"
     ]
    }
   ],
   "source": [
    "# One Hot Dataset\n",
    "\n",
    "dataset = datasets.OneHotEncodedImageDataset(mapper, test_size=2000)\n",
    "print(f\"dataset size:   {len(dataset)}\")\n",
    "print(f\"  - train size: {len(dataset.train_idx)}\")\n",
    "print(f\"  - test size:  {len(dataset.test_idx)}\\n\")\n",
    "\n",
    "train_sampler = SubsetRandomSampler(dataset.train_idx)\n",
    "print(f\"train sampler:  {len(train_sampler)}\")\n",
    "print(f\"  - sample id:  {next(iter(train_sampler))}\\n\")\n",
    "\n",
    "test_sampler = SubsetRandomSampler(dataset.test_idx)\n",
    "print(f\"test sampler:   {len(test_sampler)}\")\n",
    "print(f\"  - sample id:  {next(iter(test_sampler))}\\n\")\n",
    "\n",
    "one_hot_ds = (dataset, train_sampler, test_sampler)\n"
   ]
  },
  {
   "cell_type": "markdown",
   "id": "6c0b9f3f",
   "metadata": {},
   "source": [
    "# Train Model"
   ]
  },
  {
   "cell_type": "code",
   "execution_count": 9,
   "metadata": {},
   "outputs": [],
   "source": [
    "# Model: Naive RGBA\n",
    "# autoencoder = models.NaiveRGBAutoencoder()\n",
    "# criterion = torch.nn.MSELoss()\n",
    "# (dataset, train_sampler, test_sampler) = rgba_ds\n",
    "\n",
    "# Model: Naive One Hot\n",
    "# autoencoder = models.NaiveOneHotAutoencoder()\n",
    "# criterion = torch.nn.MSELoss()\n",
    "# (dataset, train_sampler, test_sampler) = one_hot_ds\n",
    "\n",
    "# Model: Conv RGBA\n",
    "# autoencoder = models.ConvRGBAutoencoder()\n",
    "# criterion = torch.nn.MSELoss()\n",
    "# (dataset, train_sampler, test_sampler) = rgba_ds\n",
    "\n",
    "# Model: Conv One Hot\n",
    "autoencoder = models.ConvOneHotAutoencoder()\n",
    "criterion = torch.nn.CrossEntropyLoss()\n",
    "(dataset, train_sampler, test_sampler) = one_hot_ds\n"
   ]
  },
  {
   "cell_type": "code",
   "execution_count": 10,
   "id": "2366d73d",
   "metadata": {},
   "outputs": [
    {
     "name": "stdout",
     "output_type": "stream",
     "text": [
      "train punk: torch.Size([32, 222, 24, 24])\n",
      "test punk:  torch.Size([32, 222, 24, 24])\n"
     ]
    }
   ],
   "source": [
    "# Prepare dataset\n",
    "\n",
    "batch_size = 32\n",
    "\n",
    "train_loader = DataLoader(\n",
    "    dataset, batch_size=batch_size, sampler=train_sampler,\n",
    ")\n",
    "\n",
    "test_loader = DataLoader(\n",
    "    dataset, batch_size=batch_size, sampler=test_sampler,\n",
    ")\n",
    "\n",
    "train_punk = next(iter(train_loader))\n",
    "print(f\"train punk: {train_punk.shape}\")\n",
    "\n",
    "test_punk = next(iter(test_loader))\n",
    "print(f\"test punk:  {test_punk.shape}\")\n"
   ]
  },
  {
   "cell_type": "code",
   "execution_count": 11,
   "id": "c733c096",
   "metadata": {
    "scrolled": true
   },
   "outputs": [
    {
     "name": "stdout",
     "output_type": "stream",
     "text": [
      "epoch [1/5]\n",
      "  - train loss: 1.0706090731620788\n",
      "  - test loss:  0.2970140680434212\n",
      "epoch [2/5]\n",
      "  - train loss: 0.152654072239995\n",
      "  - test loss:  0.07093060560642726\n",
      "epoch [3/5]\n",
      "  - train loss: 0.044281114369630815\n",
      "  - test loss:  0.02605066962894939\n",
      "epoch [4/5]\n",
      "  - train loss: 0.017373810049146413\n",
      "  - test loss:  0.0108388226612338\n",
      "epoch [5/5]\n",
      "  - train loss: 0.00770403213892132\n",
      "  - test loss:  0.005436047364676755\n"
     ]
    }
   ],
   "source": [
    "# Cue training montage\n",
    "\n",
    "train_losses, test_losses = models.train(\n",
    "    autoencoder, criterion, train_loader, test_loader,\n",
    "    learn_rate=1e-3, epochs=5\n",
    ")\n"
   ]
  },
  {
   "cell_type": "code",
   "execution_count": 12,
   "id": "dcf1a2ab",
   "metadata": {},
   "outputs": [],
   "source": [
    "# models.save(autoencoder, 'convoh.jms')\n"
   ]
  },
  {
   "cell_type": "markdown",
   "id": "b6b4cdbf",
   "metadata": {},
   "source": [
    "# Model Output to Image"
   ]
  },
  {
   "cell_type": "code",
   "execution_count": 13,
   "metadata": {},
   "outputs": [],
   "source": [
    "# autoencoder = models.load('convoh-onehot-cross.jms')\n"
   ]
  },
  {
   "cell_type": "code",
   "execution_count": 14,
   "id": "5f0d2833",
   "metadata": {},
   "outputs": [
    {
     "name": "stdout",
     "output_type": "stream",
     "text": [
      "torch.Size([32, 222, 24, 24])\n",
      "torch.Size([32, 222, 24, 24])\n",
      "torch.Size([222, 24, 24])\n",
      "tensor([[[ 1.1389e+01,  9.6775e+00,  1.2429e+01,  ...,  2.1876e+01,\n",
      "           1.4445e+01,  1.0551e+01],\n",
      "         [ 1.1983e+01,  9.4942e+00,  8.7896e+00,  ...,  1.7457e+01,\n",
      "           1.1874e+01,  1.3565e+01],\n",
      "         [ 1.9108e+01,  1.5398e+01,  2.7642e+01,  ...,  4.2983e+01,\n",
      "           2.0415e+01,  2.0748e+01],\n",
      "         ...,\n",
      "         [ 1.5838e+01,  1.4172e+01,  3.7227e+01,  ...,  5.3523e+01,\n",
      "           1.7537e+01,  1.5893e+01],\n",
      "         [ 1.0494e+01,  1.0626e+01,  1.8686e+01,  ...,  2.8655e+01,\n",
      "           1.5625e+01,  1.0283e+01],\n",
      "         [ 7.1412e+00,  8.7587e+00,  1.6522e+01,  ...,  2.3414e+01,\n",
      "           1.6293e+01,  9.3041e+00]],\n",
      "\n",
      "        [[-1.1194e-01,  1.7971e+00, -2.0455e+00,  ..., -8.9802e+00,\n",
      "          -5.8956e+00, -4.2267e+00],\n",
      "         [ 4.8774e+00, -3.9851e+00, -4.3807e+00,  ...,  5.8436e+00,\n",
      "           4.5501e+00,  1.6868e+00],\n",
      "         [-3.8155e+00, -2.3946e+01,  1.3461e+01,  ...,  2.8797e+01,\n",
      "           7.3156e+00,  1.1885e+00],\n",
      "         ...,\n",
      "         [-1.0442e+01, -4.2111e+01,  2.1036e+01,  ...,  2.4680e+01,\n",
      "           8.8551e+00, -6.3060e+00],\n",
      "         [-1.2921e+00, -2.4841e+01,  6.3352e+00,  ...,  1.4205e+01,\n",
      "           5.4764e+00, -2.4766e+00],\n",
      "         [-2.2395e-01, -5.8674e+00,  7.6851e+00,  ...,  8.9512e+00,\n",
      "          -2.9383e+00,  8.4182e-01]],\n",
      "\n",
      "        [[-2.0481e+01, -2.8338e+01, -3.5683e+01,  ..., -1.3762e+01,\n",
      "          -7.6529e+00, -6.6807e+00],\n",
      "         [-3.9166e+01, -4.5986e+01, -5.3887e+01,  ..., -2.4423e+01,\n",
      "          -1.3652e+01, -1.4140e+01],\n",
      "         [-6.1609e+01, -6.8916e+01, -1.0097e+02,  ..., -9.2669e+01,\n",
      "          -5.4307e+01, -3.8358e+01],\n",
      "         ...,\n",
      "         [-5.4082e+01, -7.8125e+01, -1.4506e+02,  ..., -1.8732e+02,\n",
      "          -1.1464e+02, -6.9676e+01],\n",
      "         [-3.3215e+01, -5.5473e+01, -1.0067e+02,  ..., -1.1699e+02,\n",
      "          -7.1598e+01, -4.6093e+01],\n",
      "         [-1.8909e+01, -3.8620e+01, -7.2467e+01,  ..., -7.8284e+01,\n",
      "          -4.3156e+01, -2.6070e+01]],\n",
      "\n",
      "        ...,\n",
      "\n",
      "        [[-2.2327e+01, -3.7207e+01, -5.4659e+01,  ..., -3.1651e+01,\n",
      "          -1.1044e+01, -5.7408e+00],\n",
      "         [-3.9875e+01, -5.8673e+01, -8.3324e+01,  ..., -3.7736e+01,\n",
      "          -1.2247e+01, -9.5724e+00],\n",
      "         [-5.5933e+01, -6.8230e+01, -1.0091e+02,  ..., -5.3865e+01,\n",
      "          -1.8374e+01, -2.3028e+01],\n",
      "         ...,\n",
      "         [-4.7811e+01, -6.8498e+01, -1.2762e+02,  ..., -1.1771e+02,\n",
      "          -5.2055e+01, -5.0495e+01],\n",
      "         [-2.8877e+01, -4.9951e+01, -9.2921e+01,  ..., -8.0863e+01,\n",
      "          -4.0025e+01, -3.6331e+01],\n",
      "         [-1.4034e+01, -2.4977e+01, -4.6655e+01,  ..., -4.2041e+01,\n",
      "          -2.1911e+01, -2.1366e+01]],\n",
      "\n",
      "        [[-5.5613e+00, -4.0480e+00, -7.8357e+00,  ..., -8.8875e+00,\n",
      "          -4.4104e+00, -2.8525e+00],\n",
      "         [-4.2756e+00, -1.4542e-01, -4.1416e+00,  ..., -4.1526e+00,\n",
      "          -3.6183e-01, -3.4127e+00],\n",
      "         [-9.4243e+00, -1.0241e+01, -3.6595e+01,  ..., -2.1337e+01,\n",
      "          -6.9700e+00, -5.7782e+00],\n",
      "         ...,\n",
      "         [-9.1176e+00, -3.2549e+00, -1.3021e+01,  ...,  1.4051e+01,\n",
      "           7.9888e+00, -7.1821e-01],\n",
      "         [-9.0282e+00, -5.2474e+00, -8.4035e+00,  ...,  1.2554e+01,\n",
      "           3.2046e+00, -4.0087e+00],\n",
      "         [-7.0133e+00, -1.3507e+01, -3.0134e+01,  ..., -3.0538e+01,\n",
      "          -1.7250e+01, -9.9769e+00]],\n",
      "\n",
      "        [[-1.0334e+01, -1.6786e+00, -1.1205e+01,  ..., -1.9404e+01,\n",
      "          -1.0468e+01, -6.6415e+00],\n",
      "         [-1.3886e+01, -9.9684e+00, -2.4692e+01,  ..., -7.6856e+00,\n",
      "          -2.2315e+00, -4.9091e+00],\n",
      "         [-2.9930e+01, -1.9075e+01, -3.9189e+01,  ..., -1.4549e+01,\n",
      "          -6.5041e+00, -9.7308e+00],\n",
      "         ...,\n",
      "         [-2.7105e+01, -3.7694e+01, -7.6218e+01,  ..., -3.5414e+01,\n",
      "          -1.2351e+01, -9.9262e+00],\n",
      "         [-6.1658e+00, -1.2294e+01, -2.6692e+01,  ..., -1.7929e+01,\n",
      "          -9.4113e+00, -6.1833e+00],\n",
      "         [-4.0213e+00, -6.8545e+00, -1.8378e+01,  ..., -2.2382e+01,\n",
      "          -1.1001e+01, -7.1486e+00]]])\n"
     ]
    }
   ],
   "source": [
    "# Reconstruct `train_punk`\n",
    "\n",
    "print(train_punk.shape)\n",
    "\n",
    "# one_hot_encoded_image = datasets.rgb_to_one_hot(train_punk, mapper)\n",
    "reconstructed = autoencoder(train_punk)\n",
    "print(reconstructed.shape)\n",
    "image_batch = reconstructed.detach().cpu()\n",
    "some_image = image_batch[0]\n",
    "\n",
    "print(some_image.shape)\n",
    "print(some_image)\n"
   ]
  },
  {
   "cell_type": "code",
   "execution_count": 16,
   "id": "7be7562b",
   "metadata": {},
   "outputs": [
    {
     "name": "stdout",
     "output_type": "stream",
     "text": [
      "torch.Size([4, 24, 24])\n"
     ]
    }
   ],
   "source": [
    "# From one hot back to 24x24 image with RGBA colors\n",
    "one_hot_models = (models.ConvOneHotAutoencoder, models.NaiveOneHotAutoencoder)\n",
    "if isinstance(autoencoder, one_hot_models):\n",
    "    some_image = datasets.one_hot_to_rgba(some_image, mapper)\n",
    "    print(some_image.shape)\n"
   ]
  },
  {
   "cell_type": "code",
   "execution_count": 17,
   "id": "7baa76b2",
   "metadata": {},
   "outputs": [
    {
     "name": "stdout",
     "output_type": "stream",
     "text": [
      "torch.float32\n"
     ]
    },
    {
     "data": {
      "image/png": "[encoded data removed]",
      "text/plain": [
       "<Figure size 640x480 with 1 Axes>"
      ]
     },
     "metadata": {},
     "output_type": "display_data"
    }
   ],
   "source": [
    "# print(type(some_image))\n",
    "# pil_image = to_pil_image(torch.tensor(some_image))\n",
    "\n",
    "# reconstructed = autoencoder(images.get_punk_tensor(0))\n",
    "\n",
    "# pil_image = to_pil_image(reconstructed.clone().detach())\n",
    "print(some_image.dtype)\n",
    "pil_image = to_pil_image(some_image.clone().detach())\n",
    "\n",
    "plt.imshow(pil_image)\n",
    "plt.axis('off')\n",
    "plt.show()\n",
    "\n"
   ]
  },
  {
   "cell_type": "markdown",
   "id": "916d1d79",
   "metadata": {},
   "source": [
    "# Tests"
   ]
  },
  {
   "cell_type": "code",
   "execution_count": 18,
   "metadata": {},
   "outputs": [
    {
     "data": {
      "text/plain": [
       "[1.0706090731620788,\n",
       " 0.152654072239995,\n",
       " 0.044281114369630815,\n",
       " 0.017373810049146413,\n",
       " 0.00770403213892132]"
      ]
     },
     "execution_count": 18,
     "metadata": {},
     "output_type": "execute_result"
    }
   ],
   "source": [
    "train_losses\n"
   ]
  },
  {
   "cell_type": "code",
   "execution_count": 19,
   "metadata": {},
   "outputs": [
    {
     "data": {
      "text/plain": [
       "[0.2970140680434212,\n",
       " 0.07093060560642726,\n",
       " 0.02605066962894939,\n",
       " 0.0108388226612338,\n",
       " 0.005436047364676755]"
      ]
     },
     "execution_count": 19,
     "metadata": {},
     "output_type": "execute_result"
    }
   ],
   "source": [
    "test_losses\n"
   ]
  },
  {
   "cell_type": "code",
   "execution_count": 20,
   "id": "044fd7c2",
   "metadata": {},
   "outputs": [
    {
     "data": {
      "text/plain": [
       "<function matplotlib.pyplot.show(close=None, block=None)>"
      ]
     },
     "execution_count": 20,
     "metadata": {},
     "output_type": "execute_result"
    },
    {
     "data": {
      "image/png": "[encoded data removed]",
      "text/plain": [
       "<Figure size 640x480 with 1 Axes>"
      ]
     },
     "metadata": {},
     "output_type": "display_data"
    }
   ],
   "source": [
    "# plt.figure(figsize=(10,5))\n",
    "plt.title(\"Train & Test loss\")\n",
    "plt.plot(train_losses, label='train loss')\n",
    "plt.plot(test_losses, label='test loss')\n",
    "plt.legend()\n",
    "plt.show\n"
   ]
  },
  {
   "cell_type": "code",
   "execution_count": null,
   "metadata": {},
   "outputs": [],
   "source": []
  }
 ],
 "metadata": {
  "kernelspec": {
   "display_name": "Python 3 (ipykernel)",
   "language": "python",
   "name": "python3"
  },
  "language_info": {
   "codemirror_mode": {
    "name": "ipython",
    "version": 3
   },
   "file_extension": ".py",
   "mimetype": "text/x-python",
   "name": "python",
   "nbconvert_exporter": "python",
   "pygments_lexer": "ipython3",
   "version": "3.11.6"
  }
 },
 "nbformat": 4,
 "nbformat_minor": 5
}
