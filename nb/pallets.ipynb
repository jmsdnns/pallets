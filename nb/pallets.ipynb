{
 "cells": [
  {
   "cell_type": "code",
   "execution_count": 1,
   "id": "19d0f047",
   "metadata": {
    "editable": true,
    "slideshow": {
     "slide_type": ""
    },
    "tags": []
   },
   "outputs": [],
   "source": [
    "import sys\n",
    "import os\n",
    "import numpy as np\n",
    "import torch\n",
    "from torch.utils.data import DataLoader, SubsetRandomSampler\n",
    "from torchvision.transforms.functional import to_pil_image\n",
    "import matplotlib.pyplot as plt\n"
   ]
  },
  {
   "cell_type": "markdown",
   "metadata": {},
   "source": [
    "# Prepare Environment"
   ]
  },
  {
   "cell_type": "code",
   "execution_count": 2,
   "id": "f42bf158",
   "metadata": {},
   "outputs": [],
   "source": [
    "# Load pallets library\n",
    "\n",
    "sys.path.append(os.path.abspath(os.path.join(os.getcwd(), '..')))  # uncomment to run nb from 'pallets/nb'\n",
    "# sys.path.append(os.path.abspath(os.getcwd()))                    # uncomment to run from project root\n",
    "\n",
    "from pallets import images as I, datasets as DS, models as M\n"
   ]
  },
  {
   "cell_type": "code",
   "execution_count": 3,
   "metadata": {},
   "outputs": [],
   "source": [
    "# Any GPUs available?\n",
    "\n",
    "if torch.cuda.is_available():\n",
    "    device = torch.device(\"cuda\")\n",
    "elif torch.backends.mps.is_available():\n",
    "    device = torch.device(\"mps\")\n",
    "else:\n",
    "    device = torch.device(\"cpu\")\n",
    "\n",
    "# The device is passed as an argument to datasets and the training loop\n"
   ]
  },
  {
   "cell_type": "markdown",
   "metadata": {},
   "source": [
    "# Prepare Datasets\n",
    "\n",
    "Create DataLoaders for both:\n",
    "\n",
    "* the RGBA dataset\n",
    "* the one-hot encoded dataset"
   ]
  },
  {
   "cell_type": "code",
   "execution_count": 4,
   "metadata": {},
   "outputs": [
    {
     "name": "stdout",
     "output_type": "stream",
     "text": [
      "image shape: torch.Size([4, 24, 24])\n",
      "\n",
      "total colors: 7\n",
      "\n",
      "image colors:\n",
      "tensor([[0.0000, 0.0000, 0.0000, 0.0000],\n",
      "        [0.0000, 0.0000, 0.0000, 1.0000],\n",
      "        [0.3137, 0.4863, 0.2000, 1.0000],\n",
      "        [0.3647, 0.5451, 0.2627, 1.0000],\n",
      "        [0.3725, 0.1137, 0.0353, 1.0000],\n",
      "        [0.6824, 0.5451, 0.3804, 1.0000],\n",
      "        [1.0000, 0.9647, 0.5569, 1.0000]])\n"
     ]
    }
   ],
   "source": [
    "# Demonstrate path from cpunk ID to list of the unique colors found\n",
    "# in the image, eg. the image's color palette.\n",
    "\n",
    "image = I.get_punk_tensor(0)\n",
    "print(f\"image shape: {image.shape}\\n\")\n",
    "\n",
    "colors = I.one_image_colors(image)\n",
    "print(f\"total colors: {len(colors)}\\n\")\n",
    "print(f\"image colors:\\n{colors}\")\n"
   ]
  },
  {
   "cell_type": "markdown",
   "metadata": {},
   "source": [
    "### RGBA Dataset"
   ]
  },
  {
   "cell_type": "code",
   "execution_count": 5,
   "metadata": {},
   "outputs": [
    {
     "name": "stdout",
     "output_type": "stream",
     "text": [
      "dataset size:   10000\n",
      "  - train size: 8000\n",
      "  - test size:  2000\n",
      "\n",
      "train sampler:  8000\n",
      "  - sample id:  3880\n",
      "\n",
      "test sampler:   2000\n",
      "  - sample id:  6859\n",
      "\n"
     ]
    }
   ],
   "source": [
    "# RGBA Dataset\n",
    "\n",
    "dataset = DS.CPunksDataset(device, test_size=2000)\n",
    "print(f\"dataset size:   {len(dataset)}\")\n",
    "print(f\"  - train size: {len(dataset.train_idx)}\")\n",
    "print(f\"  - test size:  {len(dataset.test_idx)}\\n\")\n",
    "\n",
    "train_sampler = SubsetRandomSampler(dataset.train_idx)\n",
    "print(f\"train sampler:  {len(train_sampler)}\")\n",
    "print(f\"  - sample id:  {next(iter(train_sampler))}\\n\")\n",
    "\n",
    "test_sampler = SubsetRandomSampler(dataset.test_idx)\n",
    "print(f\"test sampler:   {len(test_sampler)}\")\n",
    "print(f\"  - sample id:  {next(iter(test_sampler))}\\n\")\n",
    "\n",
    "# Put the RGBA things together\n",
    "rgba_ds = (dataset, train_sampler, test_sampler)\n",
    "rgba_models = (M.NaiveRGBAAutoencoder, M.ConvRGBAAutoencoder)\n"
   ]
  },
  {
   "cell_type": "markdown",
   "id": "6d36b887",
   "metadata": {},
   "source": [
    "### One Hot Dataset\n",
    "\n",
    "1. Generate a one hot representation for all 222 colors.\n",
    "\n",
    "2. Instantiate a mapper to go from each color to its one hot representation and back.\n",
    "\n",
    "3. Create dataloader for punks that represents its color data as one hot vectors."
   ]
  },
  {
   "cell_type": "code",
   "execution_count": 6,
   "id": "864aacb2",
   "metadata": {},
   "outputs": [
    {
     "name": "stdout",
     "output_type": "stream",
     "text": [
      "colors found: 222\n"
     ]
    }
   ],
   "source": [
    "# Unique colors for all punks\n",
    "\n",
    "all_colors = I.get_punk_colors()\n",
    "print(f\"colors found: {len(all_colors)}\")\n"
   ]
  },
  {
   "cell_type": "code",
   "execution_count": 7,
   "id": "7d09b245",
   "metadata": {},
   "outputs": [
    {
     "name": "stdout",
     "output_type": "stream",
     "text": [
      "color:\n",
      "tensor([0.0000, 0.2510, 1.0000, 1.0000])\n",
      "\n",
      "one-hot encoded:\n",
      "tensor([0., 0., 1., 0., 0., 0., 0., 0., 0., 0., 0., 0., 0., 0., 0., 0., 0., 0.,\n",
      "        0., 0., 0., 0., 0., 0., 0., 0., 0., 0., 0., 0., 0., 0., 0., 0., 0., 0.,\n",
      "        0., 0., 0., 0., 0., 0., 0., 0., 0., 0., 0., 0., 0., 0., 0., 0., 0., 0.,\n",
      "        0., 0., 0., 0., 0., 0., 0., 0., 0., 0., 0., 0., 0., 0., 0., 0., 0., 0.,\n",
      "        0., 0., 0., 0., 0., 0., 0., 0., 0., 0., 0., 0., 0., 0., 0., 0., 0., 0.,\n",
      "        0., 0., 0., 0., 0., 0., 0., 0., 0., 0., 0., 0., 0., 0., 0., 0., 0., 0.,\n",
      "        0., 0., 0., 0., 0., 0., 0., 0., 0., 0., 0., 0., 0., 0., 0., 0., 0., 0.,\n",
      "        0., 0., 0., 0., 0., 0., 0., 0., 0., 0., 0., 0., 0., 0., 0., 0., 0., 0.,\n",
      "        0., 0., 0., 0., 0., 0., 0., 0., 0., 0., 0., 0., 0., 0., 0., 0., 0., 0.,\n",
      "        0., 0., 0., 0., 0., 0., 0., 0., 0., 0., 0., 0., 0., 0., 0., 0., 0., 0.,\n",
      "        0., 0., 0., 0., 0., 0., 0., 0., 0., 0., 0., 0., 0., 0., 0., 0., 0., 0.,\n",
      "        0., 0., 0., 0., 0., 0., 0., 0., 0., 0., 0., 0., 0., 0., 0., 0., 0., 0.,\n",
      "        0., 0., 0., 0., 0., 0.])\n",
      "\n",
      "back as color:\n",
      "tensor([0.0000, 0.2510, 1.0000, 1.0000])\n"
     ]
    }
   ],
   "source": [
    "# Mapper from color to one hot\n",
    "\n",
    "mapper = DS.ColorOneHotMapper(all_colors)\n",
    "\n",
    "# Start with a color\n",
    "test_color = all_colors[2]\n",
    "print(f\"color:\\n{test_color}\\n\")\n",
    "\n",
    "# Convert color to one hot\n",
    "test_one_hot = mapper.to_one_hot(test_color)\n",
    "print(f\"one-hot encoded:\\n{test_one_hot}\\n\")\n",
    "\n",
    "# Convert one hot back to original color\n",
    "retrieved_color = mapper.to_color(test_one_hot)\n",
    "print(f\"back as color:\\n{retrieved_color}\")\n"
   ]
  },
  {
   "cell_type": "code",
   "execution_count": 8,
   "id": "1f7ccbe3",
   "metadata": {},
   "outputs": [
    {
     "name": "stdout",
     "output_type": "stream",
     "text": [
      "one hot encoded: torch.Size([222, 24, 24])\n",
      "rgba encoded: torch.Size([222, 24, 24])\n"
     ]
    },
    {
     "data": {
      "image/png": "[encoded data removed]",
      "text/plain": [
       "<Figure size 640x480 with 1 Axes>"
      ]
     },
     "metadata": {},
     "output_type": "display_data"
    }
   ],
   "source": [
    "# Convert entire image to one hot encoded and back\n",
    "\n",
    "one_hot_encoded_image = DS.rgba_to_one_hot(image, mapper)\n",
    "print(f\"one hot encoded: {one_hot_encoded_image.shape}\")\n",
    "\n",
    "restored = DS.one_hot_to_rgba(one_hot_encoded_image, mapper)\n",
    "print(f\"rgba encoded: {one_hot_encoded_image.shape}\")\n",
    "\n",
    "# Show an image after going to one hot encoding and back\n",
    "plt.imshow(to_pil_image(restored))\n",
    "plt.show()\n"
   ]
  },
  {
   "cell_type": "code",
   "execution_count": 9,
   "id": "35fef1c0",
   "metadata": {},
   "outputs": [
    {
     "name": "stdout",
     "output_type": "stream",
     "text": [
      "dataset size:   10000\n",
      "  - train size: 8000\n",
      "  - test size:  2000\n",
      "\n",
      "train sampler:  8000\n",
      "  - sample id:  5933\n",
      "\n",
      "test sampler:   2000\n",
      "  - sample id:  331\n",
      "\n"
     ]
    }
   ],
   "source": [
    "# One Hot Dataset\n",
    "\n",
    "dataset = DS.OneHotEncodedImageDataset(mapper, device=device, test_size=2000)\n",
    "print(f\"dataset size:   {len(dataset)}\")\n",
    "print(f\"  - train size: {len(dataset.train_idx)}\")\n",
    "print(f\"  - test size:  {len(dataset.test_idx)}\\n\")\n",
    "\n",
    "train_sampler = SubsetRandomSampler(dataset.train_idx)\n",
    "print(f\"train sampler:  {len(train_sampler)}\")\n",
    "print(f\"  - sample id:  {next(iter(train_sampler))}\\n\")\n",
    "\n",
    "test_sampler = SubsetRandomSampler(dataset.test_idx)\n",
    "print(f\"test sampler:   {len(test_sampler)}\")\n",
    "print(f\"  - sample id:  {next(iter(test_sampler))}\\n\")\n",
    "\n",
    "# Put the one hot things together\n",
    "one_hot_ds = (dataset, train_sampler, test_sampler)\n",
    "one_hot_models = (M.NaiveOneHotAutoencoder, M.ConvOneHotAutoencoder)\n"
   ]
  },
  {
   "cell_type": "markdown",
   "id": "6c0b9f3f",
   "metadata": {},
   "source": [
    "# Train Model"
   ]
  },
  {
   "cell_type": "code",
   "execution_count": 10,
   "metadata": {},
   "outputs": [],
   "source": [
    "# Model: Naive RGBA\n",
    "# autoencoder = M.NaiveRGBAAutoencoder()\n",
    "# criterion = torch.nn.MSELoss()\n",
    "# (dataset, train_sampler, test_sampler) = rgba_ds\n",
    "\n",
    "# Model: Conv RGBA\n",
    "# autoencoder = M.ConvRGBAAutoencoder()\n",
    "# criterion = torch.nn.MSELoss()\n",
    "# (dataset, train_sampler, test_sampler) = rgba_ds\n",
    "\n",
    "# Model: Naive One Hot\n",
    "# autoencoder = M.NaiveOneHotAutoencoder()\n",
    "# criterion = torch.nn.CrossEntropyLoss()\n",
    "# (dataset, train_sampler, test_sampler) = one_hot_ds\n",
    "\n",
    "# Model: Conv One Hot\n",
    "autoencoder = M.ConvOneHotAutoencoder()\n",
    "criterion = torch.nn.CrossEntropyLoss()\n",
    "(dataset, train_sampler, test_sampler) = one_hot_ds\n"
   ]
  },
  {
   "cell_type": "code",
   "execution_count": 11,
   "id": "2366d73d",
   "metadata": {},
   "outputs": [
    {
     "name": "stdout",
     "output_type": "stream",
     "text": [
      "train punk: torch.Size([32, 222, 24, 24])\n",
      "test punk:  torch.Size([32, 222, 24, 24])\n"
     ]
    }
   ],
   "source": [
    "# Prepare dataset\n",
    "\n",
    "batch_size = 32\n",
    "\n",
    "train_loader = DataLoader(\n",
    "    dataset, batch_size=batch_size, sampler=train_sampler,\n",
    ")\n",
    "\n",
    "test_loader = DataLoader(\n",
    "    dataset, batch_size=batch_size, sampler=test_sampler,\n",
    ")\n",
    "\n",
    "train_punk = next(iter(train_loader))\n",
    "print(f\"train punk: {train_punk.shape}\")\n",
    "\n",
    "test_punk = next(iter(test_loader))\n",
    "print(f\"test punk:  {test_punk.shape}\")\n"
   ]
  },
  {
   "cell_type": "code",
   "execution_count": 12,
   "id": "c733c096",
   "metadata": {
    "scrolled": true
   },
   "outputs": [
    {
     "name": "stdout",
     "output_type": "stream",
     "text": [
      "epoch [1/5]\n",
      "  - train loss: 0.9869925975203514\n",
      "  - test loss:  0.23700452134722755\n",
      "epoch [2/5]\n",
      "  - train loss: 0.0983364215567708\n",
      "  - test loss:  0.034757541196923404\n",
      "epoch [3/5]\n",
      "  - train loss: 0.018301887525245548\n",
      "  - test loss:  0.010511612785714013\n",
      "epoch [4/5]\n",
      "  - train loss: 0.006421952511183917\n",
      "  - test loss:  0.005328022026722985\n",
      "epoch [5/5]\n",
      "  - train loss: 0.0033537068939767777\n",
      "  - test loss:  0.0033841081894934177\n"
     ]
    }
   ],
   "source": [
    "# Cue training montage\n",
    "\n",
    "train_losses, test_losses = M.train(\n",
    "    device, autoencoder, criterion, train_loader, test_loader,\n",
    "    learn_rate=1e-3, epochs=5\n",
    ")\n"
   ]
  },
  {
   "cell_type": "code",
   "execution_count": 13,
   "id": "dcf1a2ab",
   "metadata": {},
   "outputs": [],
   "source": [
    "# M.save(autoencoder, 'conv-onehot.pkl')\n"
   ]
  },
  {
   "cell_type": "markdown",
   "id": "b6b4cdbf",
   "metadata": {},
   "source": [
    "# Model Output to Image"
   ]
  },
  {
   "cell_type": "code",
   "execution_count": 14,
   "metadata": {},
   "outputs": [],
   "source": [
    "# autoencoder = M.load('naive-onehot.pkl')\n",
    "# autoencoder.to(torch.device(\"cuda\"))\n"
   ]
  },
  {
   "cell_type": "code",
   "execution_count": 15,
   "id": "5f0d2833",
   "metadata": {},
   "outputs": [
    {
     "name": "stdout",
     "output_type": "stream",
     "text": [
      "torch.Size([32, 222, 24, 24])\n",
      "torch.Size([32, 222, 24, 24])\n",
      "torch.Size([4, 24, 24])\n"
     ]
    }
   ],
   "source": [
    "# Reconstruct `train_punk`\n",
    "\n",
    "print(train_punk.shape)\n",
    "\n",
    "reconstructed = autoencoder(train_punk)\n",
    "print(reconstructed.shape)\n",
    "reconstructed = reconstructed.detach().cpu()\n",
    "some_image = reconstructed[0]\n",
    "\n",
    "# From one hot back to 24x24 image with RGBA colors\n",
    "if isinstance(autoencoder, one_hot_models):\n",
    "    some_image = DS.one_hot_to_rgba(some_image, mapper)\n",
    "\n",
    "print(some_image.shape)\n",
    "\n"
   ]
  },
  {
   "cell_type": "code",
   "execution_count": 16,
   "id": "7baa76b2",
   "metadata": {},
   "outputs": [
    {
     "data": {
      "image/png": "[encoded data removed]",
      "text/plain": [
       "<Figure size 640x480 with 1 Axes>"
      ]
     },
     "metadata": {},
     "output_type": "display_data"
    }
   ],
   "source": [
    "pil_image = to_pil_image(some_image.clone().detach())\n",
    "\n",
    "plt.imshow(pil_image)\n",
    "plt.axis('off')\n",
    "plt.show()\n",
    "\n"
   ]
  },
  {
   "cell_type": "markdown",
   "id": "916d1d79",
   "metadata": {},
   "source": [
    "# Tests"
   ]
  },
  {
   "cell_type": "code",
   "execution_count": 17,
   "metadata": {},
   "outputs": [
    {
     "data": {
      "text/plain": [
       "[0.9869925975203514,\n",
       " 0.0983364215567708,\n",
       " 0.018301887525245548,\n",
       " 0.006421952511183917,\n",
       " 0.0033537068939767777]"
      ]
     },
     "execution_count": 17,
     "metadata": {},
     "output_type": "execute_result"
    }
   ],
   "source": [
    "train_losses\n"
   ]
  },
  {
   "cell_type": "code",
   "execution_count": 18,
   "metadata": {},
   "outputs": [
    {
     "data": {
      "text/plain": [
       "[0.23700452134722755,\n",
       " 0.034757541196923404,\n",
       " 0.010511612785714013,\n",
       " 0.005328022026722985,\n",
       " 0.0033841081894934177]"
      ]
     },
     "execution_count": 18,
     "metadata": {},
     "output_type": "execute_result"
    }
   ],
   "source": [
    "test_losses\n"
   ]
  },
  {
   "cell_type": "code",
   "execution_count": 19,
   "id": "044fd7c2",
   "metadata": {},
   "outputs": [
    {
     "data": {
      "text/plain": [
       "<function matplotlib.pyplot.show(close=None, block=None)>"
      ]
     },
     "execution_count": 19,
     "metadata": {},
     "output_type": "execute_result"
    },
    {
     "data": {
      "image/png": "[encoded data removed]",
      "text/plain": [
       "<Figure size 640x480 with 1 Axes>"
      ]
     },
     "metadata": {},
     "output_type": "display_data"
    }
   ],
   "source": [
    "# plt.figure(figsize=(10,5))\n",
    "plt.title(\"Train & Test loss\")\n",
    "plt.plot(train_losses, label='train loss')\n",
    "plt.plot(test_losses, label='test loss')\n",
    "plt.legend()\n",
    "plt.show\n"
   ]
  },
  {
   "cell_type": "code",
   "execution_count": null,
   "metadata": {},
   "outputs": [],
   "source": []
  }
 ],
 "metadata": {
  "kernelspec": {
   "display_name": "Python 3 (ipykernel)",
   "language": "python",
   "name": "python3"
  },
  "language_info": {
   "codemirror_mode": {
    "name": "ipython",
    "version": 3
   },
   "file_extension": ".py",
   "mimetype": "text/x-python",
   "name": "python",
   "nbconvert_exporter": "python",
   "pygments_lexer": "ipython3",
   "version": "3.11.6"
  }
 },
 "nbformat": 4,
 "nbformat_minor": 5
}
