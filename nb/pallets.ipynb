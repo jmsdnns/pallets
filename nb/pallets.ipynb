{
 "cells": [
  {
   "cell_type": "code",
   "execution_count": 1,
   "id": "19d0f047",
   "metadata": {
    "editable": true,
    "slideshow": {
     "slide_type": ""
    },
    "tags": []
   },
   "outputs": [],
   "source": [
    "import sys\n",
    "import os\n",
    "import numpy as np\n",
    "import torch\n",
    "from torch.utils.data import DataLoader, SubsetRandomSampler\n",
    "from torchvision.transforms.functional import to_pil_image\n",
    "import matplotlib.pyplot as plt\n"
   ]
  },
  {
   "cell_type": "code",
   "execution_count": 2,
   "id": "f42bf158",
   "metadata": {},
   "outputs": [],
   "source": [
    "# Make it possible to import `pallets`\n",
    "\n",
    "# run from 'pallets/nb'\n",
    "sys.path.append(os.path.abspath(os.path.join(os.getcwd(), '..')))\n",
    "# run from project root\n",
    "# sys.path.append(os.path.abspath(os.getcwd()))\n",
    "\n",
    "from pallets import images, datasets, models\n"
   ]
  },
  {
   "cell_type": "code",
   "execution_count": 3,
   "metadata": {},
   "outputs": [],
   "source": [
    "# Any GPUs available?\n",
    "\n",
    "if torch.cuda.is_available():\n",
    "    device = torch.device(\"cuda\")\n",
    "elif torch.backends.mps.is_available():\n",
    "    device = torch.device(\"mps\")\n",
    "else:\n",
    "    device = torch.device(\"cpu\")\n",
    "\n",
    "# The device is passed as an argument to datasets and the training loop\n"
   ]
  },
  {
   "cell_type": "markdown",
   "metadata": {},
   "source": [
    "# Prepare Datasets\n",
    "\n",
    "Create DataLoaders for both:\n",
    "\n",
    "* the RGBA dataset\n",
    "* the one-hot encoded dataset"
   ]
  },
  {
   "cell_type": "code",
   "execution_count": 4,
   "metadata": {},
   "outputs": [
    {
     "name": "stdout",
     "output_type": "stream",
     "text": [
      "image shape: torch.Size([4, 24, 24])\n",
      "\n",
      "total colors: 7\n",
      "\n",
      "image colors:\n",
      "tensor([[0.0000, 0.0000, 0.0000, 0.0000],\n",
      "        [0.0000, 0.0000, 0.0000, 1.0000],\n",
      "        [0.3137, 0.4863, 0.2000, 1.0000],\n",
      "        [0.3647, 0.5451, 0.2627, 1.0000],\n",
      "        [0.3725, 0.1137, 0.0353, 1.0000],\n",
      "        [0.6824, 0.5451, 0.3804, 1.0000],\n",
      "        [1.0000, 0.9647, 0.5569, 1.0000]])\n"
     ]
    }
   ],
   "source": [
    "# Unique colors for one punk\n",
    "\n",
    "image = images.get_punk_tensor(0)\n",
    "print(f\"image shape: {image.shape}\\n\")\n",
    "\n",
    "colors = images.one_image_colors(image)\n",
    "print(f\"total colors: {len(colors)}\\n\")\n",
    "print(f\"image colors:\\n{colors}\")\n"
   ]
  },
  {
   "cell_type": "markdown",
   "metadata": {},
   "source": [
    "### RGBA Dataset"
   ]
  },
  {
   "cell_type": "code",
   "execution_count": 5,
   "metadata": {},
   "outputs": [
    {
     "name": "stdout",
     "output_type": "stream",
     "text": [
      "dataset size:   10000\n",
      "  - train size: 8000\n",
      "  - test size:  2000\n",
      "\n",
      "train sampler:  8000\n",
      "  - sample id:  614\n",
      "\n",
      "test sampler:   2000\n",
      "  - sample id:  9841\n",
      "\n"
     ]
    }
   ],
   "source": [
    "# RGBA Dataset\n",
    "\n",
    "dataset = datasets.CPunksDataset(device, test_size=2000)\n",
    "print(f\"dataset size:   {len(dataset)}\")\n",
    "print(f\"  - train size: {len(dataset.train_idx)}\")\n",
    "print(f\"  - test size:  {len(dataset.test_idx)}\\n\")\n",
    "\n",
    "train_sampler = SubsetRandomSampler(dataset.train_idx)\n",
    "print(f\"train sampler:  {len(train_sampler)}\")\n",
    "print(f\"  - sample id:  {next(iter(train_sampler))}\\n\")\n",
    "\n",
    "test_sampler = SubsetRandomSampler(dataset.test_idx)\n",
    "print(f\"test sampler:   {len(test_sampler)}\")\n",
    "print(f\"  - sample id:  {next(iter(test_sampler))}\\n\")\n",
    "\n",
    "rgba_ds = (dataset, train_sampler, test_sampler)\n",
    "\n"
   ]
  },
  {
   "cell_type": "markdown",
   "id": "6d36b887",
   "metadata": {},
   "source": [
    "### One Hot Dataset\n",
    "\n",
    "1. Generate a one hot representation for all 222 colors.\n",
    "\n",
    "2. Instantiate a mapper to go from each color to its one hot representation and back.\n",
    "\n",
    "3. Create dataloader for punks that represents its color data as one hot vectors."
   ]
  },
  {
   "cell_type": "code",
   "execution_count": 6,
   "id": "864aacb2",
   "metadata": {},
   "outputs": [
    {
     "name": "stdout",
     "output_type": "stream",
     "text": [
      "colors found: 222\n"
     ]
    }
   ],
   "source": [
    "# Unique colors for all punks\n",
    "\n",
    "all_colors = images.get_punk_colors()\n",
    "print(f\"colors found: {len(all_colors)}\")\n"
   ]
  },
  {
   "cell_type": "code",
   "execution_count": 7,
   "id": "7d09b245",
   "metadata": {},
   "outputs": [
    {
     "name": "stdout",
     "output_type": "stream",
     "text": [
      "color:\n",
      "tensor([0.0000, 0.2510, 1.0000, 1.0000])\n",
      "\n",
      "one-hot encoding:\n",
      "tensor([0., 0., 1., 0., 0., 0., 0., 0., 0., 0., 0., 0., 0., 0., 0., 0., 0., 0.,\n",
      "        0., 0., 0., 0., 0., 0., 0., 0., 0., 0., 0., 0., 0., 0., 0., 0., 0., 0.,\n",
      "        0., 0., 0., 0., 0., 0., 0., 0., 0., 0., 0., 0., 0., 0., 0., 0., 0., 0.,\n",
      "        0., 0., 0., 0., 0., 0., 0., 0., 0., 0., 0., 0., 0., 0., 0., 0., 0., 0.,\n",
      "        0., 0., 0., 0., 0., 0., 0., 0., 0., 0., 0., 0., 0., 0., 0., 0., 0., 0.,\n",
      "        0., 0., 0., 0., 0., 0., 0., 0., 0., 0., 0., 0., 0., 0., 0., 0., 0., 0.,\n",
      "        0., 0., 0., 0., 0., 0., 0., 0., 0., 0., 0., 0., 0., 0., 0., 0., 0., 0.,\n",
      "        0., 0., 0., 0., 0., 0., 0., 0., 0., 0., 0., 0., 0., 0., 0., 0., 0., 0.,\n",
      "        0., 0., 0., 0., 0., 0., 0., 0., 0., 0., 0., 0., 0., 0., 0., 0., 0., 0.,\n",
      "        0., 0., 0., 0., 0., 0., 0., 0., 0., 0., 0., 0., 0., 0., 0., 0., 0., 0.,\n",
      "        0., 0., 0., 0., 0., 0., 0., 0., 0., 0., 0., 0., 0., 0., 0., 0., 0., 0.,\n",
      "        0., 0., 0., 0., 0., 0., 0., 0., 0., 0., 0., 0., 0., 0., 0., 0., 0., 0.,\n",
      "        0., 0., 0., 0., 0., 0.])\n",
      "\n",
      "retrieved color:\n",
      "tensor([0.0000, 0.2510, 1.0000, 1.0000])\n"
     ]
    }
   ],
   "source": [
    "# Mapper from color to one hot\n",
    "\n",
    "mapper = datasets.ColorOneHotMapper(all_colors)\n",
    "\n",
    "# Start with a color\n",
    "test_color = all_colors[2]\n",
    "print(f\"color:\\n{test_color}\\n\")\n",
    "\n",
    "# Convert color to one hot\n",
    "test_one_hot = mapper.to_one_hot(test_color)\n",
    "print(f\"one-hot encoding:\\n{test_one_hot}\\n\")\n",
    "\n",
    "# Convert one hot back to original color\n",
    "retrieved_color = mapper.to_color(test_one_hot)\n",
    "print(f\"retrieved color:\\n{retrieved_color}\")\n"
   ]
  },
  {
   "cell_type": "code",
   "execution_count": 8,
   "id": "1f7ccbe3",
   "metadata": {},
   "outputs": [
    {
     "name": "stdout",
     "output_type": "stream",
     "text": [
      "one hot encoded: torch.Size([222, 24, 24])\n",
      "rgba encoded: torch.Size([222, 24, 24])\n"
     ]
    },
    {
     "data": {
      "image/png": "[encoded data removed]",
      "text/plain": [
       "<Figure size 640x480 with 1 Axes>"
      ]
     },
     "metadata": {},
     "output_type": "display_data"
    }
   ],
   "source": [
    "# Convert entire image to one hot encoded and back\n",
    "\n",
    "one_hot_encoded_image = datasets.rgba_to_one_hot(image, mapper)\n",
    "print(f\"one hot encoded: {one_hot_encoded_image.shape}\")\n",
    "\n",
    "restored = datasets.one_hot_to_rgba(one_hot_encoded_image, mapper)\n",
    "print(f\"rgba encoded: {one_hot_encoded_image.shape}\")\n",
    "\n",
    "# Show an image after going to one hot encoding and back\n",
    "plt.imshow(to_pil_image(restored))\n",
    "plt.show()\n"
   ]
  },
  {
   "cell_type": "code",
   "execution_count": 9,
   "id": "35fef1c0",
   "metadata": {},
   "outputs": [
    {
     "name": "stdout",
     "output_type": "stream",
     "text": [
      "dataset size:   10000\n",
      "  - train size: 8000\n",
      "  - test size:  2000\n",
      "\n",
      "train sampler:  8000\n",
      "  - sample id:  8947\n",
      "\n",
      "test sampler:   2000\n",
      "  - sample id:  8138\n",
      "\n"
     ]
    }
   ],
   "source": [
    "# One Hot Dataset\n",
    "\n",
    "dataset = datasets.OneHotEncodedImageDataset(mapper, device=device, test_size=2000)\n",
    "print(f\"dataset size:   {len(dataset)}\")\n",
    "print(f\"  - train size: {len(dataset.train_idx)}\")\n",
    "print(f\"  - test size:  {len(dataset.test_idx)}\\n\")\n",
    "\n",
    "train_sampler = SubsetRandomSampler(dataset.train_idx)\n",
    "print(f\"train sampler:  {len(train_sampler)}\")\n",
    "print(f\"  - sample id:  {next(iter(train_sampler))}\\n\")\n",
    "\n",
    "test_sampler = SubsetRandomSampler(dataset.test_idx)\n",
    "print(f\"test sampler:   {len(test_sampler)}\")\n",
    "print(f\"  - sample id:  {next(iter(test_sampler))}\\n\")\n",
    "\n",
    "one_hot_ds = (dataset, train_sampler, test_sampler)\n"
   ]
  },
  {
   "cell_type": "markdown",
   "id": "6c0b9f3f",
   "metadata": {},
   "source": [
    "# Train Model"
   ]
  },
  {
   "cell_type": "code",
   "execution_count": 10,
   "metadata": {},
   "outputs": [],
   "source": [
    "# Model: Naive RGBA\n",
    "# autoencoder = models.NaiveRGBAAutoencoder()\n",
    "# criterion = torch.nn.MSELoss()\n",
    "# (dataset, train_sampler, test_sampler) = rgba_ds\n",
    "\n",
    "# Model: Naive One Hot\n",
    "# autoencoder = models.NaiveOneHotAutoencoder()\n",
    "# criterion = torch.nn.CrossEntropyLoss()\n",
    "# (dataset, train_sampler, test_sampler) = one_hot_ds\n",
    "\n",
    "# Model: Conv RGBA\n",
    "# autoencoder = models.ConvRGBAutoencoder()\n",
    "# criterion = torch.nn.MSELoss()\n",
    "# (dataset, train_sampler, test_sampler) = rgba_ds\n",
    "\n",
    "# Model: Conv One Hot\n",
    "autoencoder = models.ConvOneHotAutoencoder()\n",
    "criterion = torch.nn.CrossEntropyLoss()\n",
    "(dataset, train_sampler, test_sampler) = one_hot_ds\n"
   ]
  },
  {
   "cell_type": "code",
   "execution_count": 11,
   "id": "2366d73d",
   "metadata": {},
   "outputs": [
    {
     "name": "stdout",
     "output_type": "stream",
     "text": [
      "train punk: torch.Size([32, 222, 24, 24])\n",
      "test punk:  torch.Size([32, 222, 24, 24])\n"
     ]
    }
   ],
   "source": [
    "# Prepare dataset\n",
    "\n",
    "batch_size = 32\n",
    "\n",
    "train_loader = DataLoader(\n",
    "    dataset, batch_size=batch_size, sampler=train_sampler,\n",
    ")\n",
    "\n",
    "test_loader = DataLoader(\n",
    "    dataset, batch_size=batch_size, sampler=test_sampler,\n",
    ")\n",
    "\n",
    "train_punk = next(iter(train_loader))\n",
    "print(f\"train punk: {train_punk.shape}\")\n",
    "\n",
    "test_punk = next(iter(test_loader))\n",
    "print(f\"test punk:  {test_punk.shape}\")\n"
   ]
  },
  {
   "cell_type": "code",
   "execution_count": 12,
   "id": "c733c096",
   "metadata": {
    "scrolled": true
   },
   "outputs": [
    {
     "name": "stdout",
     "output_type": "stream",
     "text": [
      "epoch [1/5]\n",
      "  - train loss: 1.0658789358735083\n",
      "  - test loss:  0.27171630400513846\n",
      "epoch [2/5]\n",
      "  - train loss: 0.122899569272995\n",
      "  - test loss:  0.04828251407496513\n",
      "epoch [3/5]\n",
      "  - train loss: 0.027568459764122963\n",
      "  - test loss:  0.015275772587056197\n",
      "epoch [4/5]\n",
      "  - train loss: 0.010917236240580677\n",
      "  - test loss:  0.006967080502016913\n",
      "epoch [5/5]\n",
      "  - train loss: 0.004821622342802584\n",
      "  - test loss:  0.004180638829157466\n"
     ]
    }
   ],
   "source": [
    "# Cue training montage\n",
    "\n",
    "train_losses, test_losses = models.train(\n",
    "    device, autoencoder, criterion, train_loader, test_loader,\n",
    "    learn_rate=1e-3, epochs=5\n",
    ")\n"
   ]
  },
  {
   "cell_type": "code",
   "execution_count": 21,
   "id": "dcf1a2ab",
   "metadata": {},
   "outputs": [],
   "source": [
    "# models.save(autoencoder, 'conv-onehot.pkl')\n"
   ]
  },
  {
   "cell_type": "markdown",
   "id": "b6b4cdbf",
   "metadata": {},
   "source": [
    "# Model Output to Image"
   ]
  },
  {
   "cell_type": "code",
   "execution_count": 14,
   "metadata": {},
   "outputs": [],
   "source": [
    "# autoencoder = models.load('naive-onehot.pkl')\n",
    "# autoencoder.to(torch.device(\"cuda\"))\n"
   ]
  },
  {
   "cell_type": "code",
   "execution_count": 15,
   "id": "5f0d2833",
   "metadata": {},
   "outputs": [
    {
     "name": "stdout",
     "output_type": "stream",
     "text": [
      "torch.Size([32, 222, 24, 24])\n",
      "torch.Size([32, 222, 24, 24])\n",
      "torch.Size([222, 24, 24])\n",
      "tensor([[[ 8.0636e+00,  1.0900e+01,  1.7692e+01,  ...,  1.7535e+01,\n",
      "           1.0026e+01,  6.9687e+00],\n",
      "         [ 1.3061e+01,  7.5353e+00,  1.0904e+01,  ...,  3.0217e+00,\n",
      "          -1.3288e+00,  4.1719e+00],\n",
      "         [ 2.0598e+01,  1.5711e+01,  2.9390e+01,  ...,  1.8563e+01,\n",
      "          -2.3070e+00,  1.0658e+01],\n",
      "         ...,\n",
      "         [ 1.7447e+01,  2.0553e+01,  4.1661e+01,  ...,  4.7256e+01,\n",
      "           6.7836e+00,  1.3980e+01],\n",
      "         [ 1.0346e+01,  1.6573e+01,  2.6100e+01,  ...,  2.5657e+01,\n",
      "           6.2422e+00,  6.9865e+00],\n",
      "         [ 7.7797e+00,  1.2768e+01,  2.0984e+01,  ...,  2.2011e+01,\n",
      "           1.0711e+01,  8.0417e+00]],\n",
      "\n",
      "        [[-3.0735e-01, -3.7643e+00, -9.7567e+00,  ..., -1.9569e+01,\n",
      "          -1.4723e+01, -4.9595e+00],\n",
      "         [-2.1037e-01, -9.6635e-01, -9.5213e+00,  ..., -1.7094e+01,\n",
      "          -9.7276e+00, -7.5958e+00],\n",
      "         [ 5.0642e-01, -3.6142e+00,  3.8906e+00,  ...,  3.8360e+00,\n",
      "          -1.0919e+01, -2.2552e+01],\n",
      "         ...,\n",
      "         [ 5.1968e+00, -3.5942e+00,  1.7897e+01,  ...,  1.5457e+01,\n",
      "          -8.2623e+00, -2.3656e+01],\n",
      "         [ 1.3895e+00, -5.8306e+00,  4.6504e+00,  ...,  9.8330e+00,\n",
      "          -7.6321e+00, -7.0780e+00],\n",
      "         [ 2.1715e-01, -2.8860e-01,  7.3696e+00,  ...,  1.1906e+01,\n",
      "          -1.7226e+00, -2.1163e+00]],\n",
      "\n",
      "        [[-1.1026e+01, -2.0098e+01, -2.8047e+01,  ..., -2.3947e+01,\n",
      "          -1.6830e+01, -8.8397e+00],\n",
      "         [-1.9590e+01, -3.5696e+01, -4.9000e+01,  ..., -4.2536e+01,\n",
      "          -3.3149e+01, -2.3750e+01],\n",
      "         [-3.2782e+01, -5.4184e+01, -9.5071e+01,  ..., -1.1213e+02,\n",
      "          -7.9610e+01, -5.4025e+01],\n",
      "         ...,\n",
      "         [-3.4024e+01, -4.6737e+01, -9.1365e+01,  ..., -1.1961e+02,\n",
      "          -8.2149e+01, -5.6031e+01],\n",
      "         [-1.8004e+01, -2.3314e+01, -3.8812e+01,  ..., -5.2862e+01,\n",
      "          -3.9851e+01, -3.0788e+01],\n",
      "         [-1.0419e+01, -1.2052e+01, -2.1296e+01,  ..., -2.9238e+01,\n",
      "          -2.0338e+01, -1.5200e+01]],\n",
      "\n",
      "        ...,\n",
      "\n",
      "        [[-1.2497e+01, -1.6729e+01, -3.1217e+01,  ..., -3.0814e+01,\n",
      "          -1.8161e+01, -1.2057e+01],\n",
      "         [-1.9442e+01, -2.0418e+01, -4.1959e+01,  ..., -3.7873e+01,\n",
      "          -2.8491e+01, -1.9939e+01],\n",
      "         [-3.4970e+01, -4.8374e+01, -1.0486e+02,  ..., -1.0133e+02,\n",
      "          -6.1231e+01, -4.1273e+01],\n",
      "         ...,\n",
      "         [-3.5703e+01, -3.5944e+01, -8.4264e+01,  ..., -8.0768e+01,\n",
      "          -4.3259e+01, -3.7134e+01],\n",
      "         [-1.8192e+01, -1.5902e+01, -3.6539e+01,  ..., -3.6594e+01,\n",
      "          -2.0357e+01, -2.0075e+01],\n",
      "         [-7.4173e+00, -7.4242e+00, -1.6611e+01,  ..., -2.0976e+01,\n",
      "          -1.5090e+01, -1.4250e+01]],\n",
      "\n",
      "        [[-4.7135e+00, -1.2459e+01, -2.9802e+01,  ..., -4.7469e+01,\n",
      "          -3.0494e+01, -1.6565e+01],\n",
      "         [-1.0560e+01, -1.2175e+01, -2.3838e+01,  ..., -4.1093e+01,\n",
      "          -3.3787e+01, -2.1814e+01],\n",
      "         [-1.2176e+01, -8.1699e+00, -2.4079e+01,  ..., -6.1391e+01,\n",
      "          -5.3991e+01, -4.1065e+01],\n",
      "         ...,\n",
      "         [-4.1982e+00,  5.3574e+00,  7.6290e+00,  ..., -3.4403e+00,\n",
      "          -1.9099e+01, -2.6346e+01],\n",
      "         [-2.8952e+00, -6.9726e-02,  1.0259e+00,  ...,  9.4290e-01,\n",
      "          -4.7729e+00, -8.6574e+00],\n",
      "         [-5.6360e+00, -1.0548e+01, -2.1057e+01,  ..., -2.1128e+01,\n",
      "          -1.3402e+01, -8.2452e+00]],\n",
      "\n",
      "        [[-1.1205e+01, -1.0898e+01, -2.6671e+01,  ..., -4.1873e+01,\n",
      "          -2.4874e+01, -1.5552e+01],\n",
      "         [-1.7060e+01, -6.2993e+00, -1.4627e+01,  ..., -3.1551e+01,\n",
      "          -2.4401e+01, -2.1062e+01],\n",
      "         [-2.0660e+01,  4.6499e+00, -3.4324e+00,  ..., -4.3744e+01,\n",
      "          -3.0835e+01, -3.3140e+01],\n",
      "         ...,\n",
      "         [-1.6418e+01, -1.2147e+01, -1.4387e+01,  ..., -1.5794e+01,\n",
      "          -1.4322e+01, -1.7254e+01],\n",
      "         [-6.0073e+00, -1.1178e+01, -1.6343e+01,  ..., -6.9134e+00,\n",
      "          -5.8268e+00, -6.4412e+00],\n",
      "         [-2.4510e+00, -2.6459e+00, -7.5242e+00,  ..., -1.1636e+01,\n",
      "          -9.4603e+00, -8.6518e+00]]])\n"
     ]
    }
   ],
   "source": [
    "# Reconstruct `train_punk`\n",
    "\n",
    "print(train_punk.shape)\n",
    "\n",
    "# one_hot_encoded_image = datasets.rgb_to_one_hot(train_punk, mapper)\n",
    "reconstructed = autoencoder(train_punk)\n",
    "print(reconstructed.shape)\n",
    "image_batch = reconstructed.detach().cpu()\n",
    "some_image = image_batch[0]\n",
    "\n",
    "print(some_image.shape)\n",
    "print(some_image)\n"
   ]
  },
  {
   "cell_type": "code",
   "execution_count": 16,
   "id": "7be7562b",
   "metadata": {},
   "outputs": [
    {
     "name": "stdout",
     "output_type": "stream",
     "text": [
      "torch.Size([4, 24, 24])\n"
     ]
    }
   ],
   "source": [
    "# From one hot back to 24x24 image with RGBA colors\n",
    "one_hot_models = (models.ConvOneHotAutoencoder, models.NaiveOneHotAutoencoder)\n",
    "if isinstance(autoencoder, one_hot_models):\n",
    "    some_image = datasets.one_hot_to_rgba(some_image, mapper)\n",
    "    print(some_image.shape)\n"
   ]
  },
  {
   "cell_type": "code",
   "execution_count": 17,
   "id": "7baa76b2",
   "metadata": {},
   "outputs": [
    {
     "data": {
      "image/png": "[encoded data removed]",
      "text/plain": [
       "<Figure size 640x480 with 1 Axes>"
      ]
     },
     "metadata": {},
     "output_type": "display_data"
    }
   ],
   "source": [
    "pil_image = to_pil_image(some_image.clone().detach())\n",
    "\n",
    "plt.imshow(pil_image)\n",
    "plt.axis('off')\n",
    "plt.show()\n",
    "\n"
   ]
  },
  {
   "cell_type": "markdown",
   "id": "916d1d79",
   "metadata": {},
   "source": [
    "# Tests"
   ]
  },
  {
   "cell_type": "code",
   "execution_count": 18,
   "metadata": {},
   "outputs": [
    {
     "data": {
      "text/plain": [
       "[1.0658789358735083,\n",
       " 0.122899569272995,\n",
       " 0.027568459764122963,\n",
       " 0.010917236240580677,\n",
       " 0.004821622342802584]"
      ]
     },
     "execution_count": 18,
     "metadata": {},
     "output_type": "execute_result"
    }
   ],
   "source": [
    "train_losses\n"
   ]
  },
  {
   "cell_type": "code",
   "execution_count": 19,
   "metadata": {},
   "outputs": [
    {
     "data": {
      "text/plain": [
       "[0.27171630400513846,\n",
       " 0.04828251407496513,\n",
       " 0.015275772587056197,\n",
       " 0.006967080502016913,\n",
       " 0.004180638829157466]"
      ]
     },
     "execution_count": 19,
     "metadata": {},
     "output_type": "execute_result"
    }
   ],
   "source": [
    "test_losses\n"
   ]
  },
  {
   "cell_type": "code",
   "execution_count": 20,
   "id": "044fd7c2",
   "metadata": {},
   "outputs": [
    {
     "data": {
      "text/plain": [
       "<function matplotlib.pyplot.show(close=None, block=None)>"
      ]
     },
     "execution_count": 20,
     "metadata": {},
     "output_type": "execute_result"
    },
    {
     "data": {
      "image/png": "[encoded data removed]",
      "text/plain": [
       "<Figure size 640x480 with 1 Axes>"
      ]
     },
     "metadata": {},
     "output_type": "display_data"
    }
   ],
   "source": [
    "# plt.figure(figsize=(10,5))\n",
    "plt.title(\"Train & Test loss\")\n",
    "plt.plot(train_losses, label='train loss')\n",
    "plt.plot(test_losses, label='test loss')\n",
    "plt.legend()\n",
    "plt.show\n"
   ]
  },
  {
   "cell_type": "code",
   "execution_count": null,
   "metadata": {},
   "outputs": [],
   "source": []
  }
 ],
 "metadata": {
  "kernelspec": {
   "display_name": "Python 3 (ipykernel)",
   "language": "python",
   "name": "python3"
  },
  "language_info": {
   "codemirror_mode": {
    "name": "ipython",
    "version": 3
   },
   "file_extension": ".py",
   "mimetype": "text/x-python",
   "name": "python",
   "nbconvert_exporter": "python",
   "pygments_lexer": "ipython3",
   "version": "3.11.6"
  }
 },
 "nbformat": 4,
 "nbformat_minor": 5
}
