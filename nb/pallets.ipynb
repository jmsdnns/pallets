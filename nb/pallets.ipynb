{
 "cells": [
  {
   "cell_type": "code",
   "execution_count": 1,
   "id": "19d0f047",
   "metadata": {
    "editable": true,
    "slideshow": {
     "slide_type": ""
    },
    "tags": []
   },
   "outputs": [],
   "source": [
    "import sys\n",
    "import os\n",
    "import numpy as np\n",
    "import torch\n",
    "from torch.utils.data import DataLoader, SubsetRandomSampler\n",
    "import matplotlib.pyplot as plt\n"
   ]
  },
  {
   "cell_type": "code",
   "execution_count": 2,
   "id": "f42bf158",
   "metadata": {},
   "outputs": [],
   "source": [
    "# Make it possible to import `pallets` from parent dir\n",
    "\n",
    "sys.path.append(\n",
    "    os.path.abspath(os.path.join(os.getcwd(), '..'))\n",
    ")\n",
    "from pallets import images, datasets, models\n"
   ]
  },
  {
   "cell_type": "markdown",
   "id": "6d36b887",
   "metadata": {},
   "source": [
    "# Prepare Data\n",
    "\n",
    "1. Gather every unique color from the 10,000 punks and generate a one hot representation for each.\n",
    "\n",
    "2. Instantiate a mapper to go from each color to its one hot representation and back.\n",
    "\n",
    "3. Create dataloader for punks that represents its color data as one hot vectors."
   ]
  },
  {
   "cell_type": "code",
   "execution_count": 3,
   "id": "b94b5080",
   "metadata": {},
   "outputs": [
    {
     "name": "stdout",
     "output_type": "stream",
     "text": [
      "Image shape: (24, 24, 4)\n",
      "Image colors:\n",
      " [[0.         0.         0.         0.        ]\n",
      " [0.         0.         0.         1.        ]\n",
      " [0.3137255  0.4862745  0.2        1.        ]\n",
      " [0.3647059  0.54509807 0.2627451  1.        ]\n",
      " [0.37254903 0.11372549 0.03529412 1.        ]\n",
      " [0.68235296 0.54509807 0.38039216 1.        ]\n",
      " [1.         0.9647059  0.5568628  1.        ]]\n"
     ]
    }
   ],
   "source": [
    "# Unique colors for one punk\n",
    "\n",
    "image = images.get_punk(0)\n",
    "print(\"Image shape:\", image.shape)\n",
    "\n",
    "colors = images.one_image_colors(image)\n",
    "print(\"Image colors:\\n\", colors)\n"
   ]
  },
  {
   "cell_type": "code",
   "execution_count": 4,
   "id": "864aacb2",
   "metadata": {},
   "outputs": [
    {
     "name": "stdout",
     "output_type": "stream",
     "text": [
      "Found 222 colors\n"
     ]
    }
   ],
   "source": [
    "# Unique colors for all punks\n",
    "\n",
    "all_colors = images.get_punk_colors()\n",
    "print(f\"Found {len(all_colors)} colors\")\n"
   ]
  },
  {
   "cell_type": "code",
   "execution_count": 5,
   "id": "7d09b245",
   "metadata": {},
   "outputs": [
    {
     "name": "stdout",
     "output_type": "stream",
     "text": [
      "Image one hot:\n",
      " [1. 0. 0. 0. 0. 0. 0. 0. 0. 0. 0. 0. 0. 0. 0. 0. 0. 0. 0. 0. 0. 0. 0. 0.\n",
      " 0. 0. 0. 0. 0. 0. 0. 0. 0. 0. 0. 0. 0. 0. 0. 0. 0. 0. 0. 0. 0. 0. 0. 0.\n",
      " 0. 0. 0. 0. 0. 0. 0. 0. 0. 0. 0. 0. 0. 0. 0. 0. 0. 0. 0. 0. 0. 0. 0. 0.\n",
      " 0. 0. 0. 0. 0. 0. 0. 0. 0. 0. 0. 0. 0. 0. 0. 0. 0. 0. 0. 0. 0. 0. 0. 0.\n",
      " 0. 0. 0. 0. 0. 0. 0. 0. 0. 0. 0. 0. 0. 0. 0. 0. 0. 0. 0. 0. 0. 0. 0. 0.\n",
      " 0. 0. 0. 0. 0. 0. 0. 0. 0. 0. 0. 0. 0. 0. 0. 0. 0. 0. 0. 0. 0. 0. 0. 0.\n",
      " 0. 0. 0. 0. 0. 0. 0. 0. 0. 0. 0. 0. 0. 0. 0. 0. 0. 0. 0. 0. 0. 0. 0. 0.\n",
      " 0. 0. 0. 0. 0. 0. 0. 0. 0. 0. 0. 0. 0. 0. 0. 0. 0. 0. 0. 0. 0. 0. 0. 0.\n",
      " 0. 0. 0. 0. 0. 0. 0. 0. 0. 0. 0. 0. 0. 0. 0. 0. 0. 0. 0. 0. 0. 0. 0. 0.\n",
      " 0. 0. 0. 0. 0. 0.]\n"
     ]
    }
   ],
   "source": [
    "# Mapper from color to one hot\n",
    "\n",
    "mapper = datasets.ColorOneHotMapper(all_colors)\n",
    "one_hot_encoded_image = datasets.convert_image_to_one_hot(image, mapper)\n",
    "print(\"Image one hot:\\n\", one_hot_encoded_image[0][0])\n"
   ]
  },
  {
   "cell_type": "code",
   "execution_count": 6,
   "id": "1f7ccbe3",
   "metadata": {},
   "outputs": [
    {
     "name": "stdout",
     "output_type": "stream",
     "text": [
      "Color:\n",
      " [0.        0.2509804 1.        1.       ]\n",
      "One-hot encoding:\n",
      " [0. 0. 1. 0. 0. 0. 0. 0. 0. 0. 0. 0. 0. 0. 0. 0. 0. 0. 0. 0. 0. 0. 0. 0.\n",
      " 0. 0. 0. 0. 0. 0. 0. 0. 0. 0. 0. 0. 0. 0. 0. 0. 0. 0. 0. 0. 0. 0. 0. 0.\n",
      " 0. 0. 0. 0. 0. 0. 0. 0. 0. 0. 0. 0. 0. 0. 0. 0. 0. 0. 0. 0. 0. 0. 0. 0.\n",
      " 0. 0. 0. 0. 0. 0. 0. 0. 0. 0. 0. 0. 0. 0. 0. 0. 0. 0. 0. 0. 0. 0. 0. 0.\n",
      " 0. 0. 0. 0. 0. 0. 0. 0. 0. 0. 0. 0. 0. 0. 0. 0. 0. 0. 0. 0. 0. 0. 0. 0.\n",
      " 0. 0. 0. 0. 0. 0. 0. 0. 0. 0. 0. 0. 0. 0. 0. 0. 0. 0. 0. 0. 0. 0. 0. 0.\n",
      " 0. 0. 0. 0. 0. 0. 0. 0. 0. 0. 0. 0. 0. 0. 0. 0. 0. 0. 0. 0. 0. 0. 0. 0.\n",
      " 0. 0. 0. 0. 0. 0. 0. 0. 0. 0. 0. 0. 0. 0. 0. 0. 0. 0. 0. 0. 0. 0. 0. 0.\n",
      " 0. 0. 0. 0. 0. 0. 0. 0. 0. 0. 0. 0. 0. 0. 0. 0. 0. 0. 0. 0. 0. 0. 0. 0.\n",
      " 0. 0. 0. 0. 0. 0.]\n",
      "Retrieved color:\n",
      " [0.        0.2509804 1.        1.       ]\n"
     ]
    }
   ],
   "source": [
    "# Start with a color\n",
    "test_color = all_colors[2]\n",
    "print(\"Color:\\n\", test_color)\n",
    "\n",
    "# Convert color to one hot\n",
    "test_one_hot = mapper.get_one_hot(test_color)\n",
    "print(\"One-hot encoding:\\n\", test_one_hot)\n",
    "\n",
    "# Convert one hat back to original color\n",
    "retrieved_color = mapper.get_color(test_one_hot)\n",
    "print(\"Retrieved color:\\n\", retrieved_color)\n"
   ]
  },
  {
   "cell_type": "code",
   "execution_count": 7,
   "id": "35fef1c0",
   "metadata": {},
   "outputs": [
    {
     "data": {
      "text/plain": [
       "(pallets.datasets.OneHotEncodedImageDataset, 10000, torch.Size([24, 24, 222]))"
      ]
     },
     "execution_count": 7,
     "metadata": {},
     "output_type": "execute_result"
    }
   ],
   "source": [
    "# Punks Dataset\n",
    "\n",
    "dataset = datasets.OneHotEncodedImageDataset(images.CPUNKS_IMAGE_DIR, mapper, test_size=2000)\n",
    "\n",
    "train_sampler = SubsetRandomSampler(dataset.train_idx)\n",
    "test_sampler = SubsetRandomSampler(dataset.test_idx)\n",
    "(type(dataset), len(dataset), dataset[0].shape)\n"
   ]
  },
  {
   "cell_type": "code",
   "execution_count": 8,
   "id": "2366d73d",
   "metadata": {},
   "outputs": [
    {
     "data": {
      "text/plain": [
       "torch.Size([32, 24, 24, 222])"
      ]
     },
     "execution_count": 8,
     "metadata": {},
     "output_type": "execute_result"
    }
   ],
   "source": [
    "# Punks DataLoader\n",
    "\n",
    "batch_size = 32\n",
    "shuffle = True\n",
    "num_workers = 4\n",
    "\n",
    "train_loader = DataLoader(\n",
    "    dataset, batch_size=batch_size, num_workers=0, sampler=train_sampler\n",
    ")\n",
    "test_loader = DataLoader(\n",
    "    dataset, batch_size=batch_size, num_workers=0, sampler=test_sampler\n",
    ")\n",
    "\n",
    "# dataloader = DataLoader(\n",
    "#     dataset, batch_size=batch_size, shuffle=shuffle, num_workers=0,\n",
    "# )\n",
    "\n",
    "test_punk = next(iter(train_loader))\n",
    "test_punk.shape\n"
   ]
  },
  {
   "cell_type": "markdown",
   "id": "6c0b9f3f",
   "metadata": {},
   "source": [
    "# Train Model"
   ]
  },
  {
   "cell_type": "code",
   "execution_count": 9,
   "id": "c733c096",
   "metadata": {
    "scrolled": true
   },
   "outputs": [
    {
     "name": "stdout",
     "output_type": "stream",
     "text": [
      "Epoch [1/5]\n",
      "  - train loss: 0.010373790318146349\n",
      "  - test loss:  0.001457257187067871\n",
      "Epoch [2/5]\n",
      "  - train loss: 0.0014289987171068788\n",
      "  - test loss:  0.0013938407276919674\n",
      "Epoch [3/5]\n",
      "  - train loss: 0.001306318332441151\n",
      "  - test loss:  0.0012188382679596543\n",
      "Epoch [4/5]\n",
      "  - train loss: 0.001139265194768086\n",
      "  - test loss:  0.0010437392047606409\n",
      "Epoch [5/5]\n",
      "  - train loss: 0.0009860445822123438\n",
      "  - test loss:  0.0009475715526764\n"
     ]
    }
   ],
   "source": [
    "# One Hot\n",
    "autoencoder = models.OneHotAutoencoder()\n",
    "train_losses, test_losses = models.train_onehot(autoencoder, train_loader, test_loader)\n",
    "\n",
    "# # Simple Conv\n",
    "# autoencoder = models.SimpleConvAutoencoder()\n",
    "# models.train_simple_conv(autoencoder, dataloader)\n"
   ]
  },
  {
   "cell_type": "markdown",
   "id": "b6b4cdbf",
   "metadata": {},
   "source": [
    "# Model Output to Image"
   ]
  },
  {
   "cell_type": "code",
   "execution_count": 10,
   "id": "dcf1a2ab",
   "metadata": {},
   "outputs": [
    {
     "name": "stdout",
     "output_type": "stream",
     "text": [
      "torch.Size([32, 24, 24, 222])\n"
     ]
    }
   ],
   "source": [
    "# Reconstruct random data for test\n",
    "\n",
    "# One Hot\n",
    "if isinstance(autoencoder, models.OneHotAutoencoder):\n",
    "    example_input = torch.rand(32, 24*24*222)\n",
    "    reconstructed = autoencoder(example_input)\n",
    "    print(reconstructed.shape)\n",
    "\n",
    "# Simple Conv\n",
    "else:\n",
    "    example_input = torch.rand(32, 222, 28, 28)\n",
    "    reconstructed = autoencoder(example_input)\n",
    "    print(reconstructed.shape)  # Should be torch.Size([32, 222, 28, 28])\n"
   ]
  },
  {
   "cell_type": "code",
   "execution_count": 11,
   "id": "5f0d2833",
   "metadata": {},
   "outputs": [
    {
     "data": {
      "text/plain": [
       "array([2.16011070e-25, 1.07361689e-23, 3.45778621e-20, 2.75633044e-16,\n",
       "       7.05600150e-26, 5.59118377e-12, 1.21725874e-16, 5.72738940e-27,\n",
       "       3.06529064e-18, 3.50351521e-19, 1.51895579e-28, 4.75024774e-23,\n",
       "       1.28333854e-17, 7.71135794e-22, 1.01335673e-21, 2.43669608e-17,\n",
       "       2.34326718e-17, 1.36711529e-21, 3.91240687e-19, 6.37294156e-17,\n",
       "       1.73352979e-22, 9.75999481e-26, 4.60806669e-24, 1.65151811e-20],\n",
       "      dtype=float32)"
      ]
     },
     "execution_count": 11,
     "metadata": {},
     "output_type": "execute_result"
    }
   ],
   "source": [
    "img_array = reconstructed.detach().cpu().numpy()\n",
    "\n",
    "# Select the image at the specified index\n",
    "one_hot_image = img_array[0]\n",
    "one_hot_image[:,12,12]\n"
   ]
  },
  {
   "cell_type": "code",
   "execution_count": 12,
   "id": "7be7562b",
   "metadata": {},
   "outputs": [
    {
     "data": {
      "text/plain": [
       "(24, 24, 4)"
      ]
     },
     "execution_count": 12,
     "metadata": {},
     "output_type": "execute_result"
    }
   ],
   "source": [
    "# One Hot\n",
    "if isinstance(autoencoder, models.OneHotAutoencoder):\n",
    "    s = datasets.decode_to_rgb(one_hot_image, mapper)\n",
    "\n",
    "# Simple Conv\n",
    "else:\n",
    "    reordered_array = np.transpose(one_hot_image, (1, 2, 0))\n",
    "    s = datasets.decode_to_rgb(reordered_array, mapper)\n",
    "\n",
    "s.shape\n"
   ]
  },
  {
   "cell_type": "code",
   "execution_count": 13,
   "id": "7baa76b2",
   "metadata": {},
   "outputs": [
    {
     "data": {
      "image/png": "[encoded data removed]",
      "text/plain": [
       "<Figure size 640x480 with 1 Axes>"
      ]
     },
     "metadata": {},
     "output_type": "display_data"
    }
   ],
   "source": [
    "plt.imshow(s)\n",
    "plt.axis('off')\n",
    "plt.show()\n"
   ]
  },
  {
   "cell_type": "markdown",
   "id": "916d1d79",
   "metadata": {},
   "source": [
    "# Tests"
   ]
  },
  {
   "cell_type": "code",
   "execution_count": 14,
   "metadata": {},
   "outputs": [
    {
     "data": {
      "text/plain": [
       "[0.001457257187067871,\n",
       " 0.0013938407276919674,\n",
       " 0.0012188382679596543,\n",
       " 0.0010437392047606409,\n",
       " 0.0009475715526764]"
      ]
     },
     "execution_count": 14,
     "metadata": {},
     "output_type": "execute_result"
    }
   ],
   "source": [
    "test_losses\n"
   ]
  },
  {
   "cell_type": "code",
   "execution_count": 15,
   "metadata": {},
   "outputs": [
    {
     "data": {
      "text/plain": [
       "[0.010373790318146349,\n",
       " 0.0014289987171068788,\n",
       " 0.001306318332441151,\n",
       " 0.001139265194768086,\n",
       " 0.0009860445822123438]"
      ]
     },
     "execution_count": 15,
     "metadata": {},
     "output_type": "execute_result"
    }
   ],
   "source": [
    "train_losses\n"
   ]
  },
  {
   "cell_type": "code",
   "execution_count": 16,
   "id": "044fd7c2",
   "metadata": {},
   "outputs": [
    {
     "data": {
      "text/plain": [
       "<function matplotlib.pyplot.show(close=None, block=None)>"
      ]
     },
     "execution_count": 16,
     "metadata": {},
     "output_type": "execute_result"
    },
    {
     "data": {
      "image/png": "[encoded data removed]",
      "text/plain": [
       "<Figure size 640x480 with 1 Axes>"
      ]
     },
     "metadata": {},
     "output_type": "display_data"
    }
   ],
   "source": [
    "# plt.figure(figsize=(10,5))\n",
    "plt.title(\"Train & Test loss\")\n",
    "plt.plot(train_losses, label='train loss')\n",
    "plt.plot(test_losses, label='test loss')\n",
    "plt.legend()\n",
    "plt.show\n"
   ]
  },
  {
   "cell_type": "code",
   "execution_count": null,
   "metadata": {},
   "outputs": [],
   "source": []
  }
 ],
 "metadata": {
  "kernelspec": {
   "display_name": "Python 3 (ipykernel)",
   "language": "python",
   "name": "python3"
  },
  "language_info": {
   "codemirror_mode": {
    "name": "ipython",
    "version": 3
   },
   "file_extension": ".py",
   "mimetype": "text/x-python",
   "name": "python",
   "nbconvert_exporter": "python",
   "pygments_lexer": "ipython3",
   "version": "3.11.5"
  }
 },
 "nbformat": 4,
 "nbformat_minor": 5
}
