{
 "cells": [
  {
   "cell_type": "markdown",
   "metadata": {},
   "source": [
    "# Labeled VAE"
   ]
  },
  {
   "cell_type": "code",
   "execution_count": 1,
   "id": "19d0f047",
   "metadata": {},
   "outputs": [],
   "source": [
    "import torch\n",
    "from torchvision import transforms\n",
    "from torch.utils.data import DataLoader, SubsetRandomSampler\n",
    "import matplotlib.pyplot as plt\n",
    "%matplotlib inline\n"
   ]
  },
  {
   "cell_type": "code",
   "execution_count": 2,
   "metadata": {},
   "outputs": [],
   "source": [
    "# Load pallets library from project root\n",
    "import sys, os\n",
    "sys.path.append(os.path.abspath(os.path.join(os.getcwd(), '..', '..')))\n",
    "\n",
    "from pallets import (\n",
    "    images as I,\n",
    "    datasets as DS,\n",
    "    models as M,\n",
    "    logging as L\n",
    ")\n"
   ]
  },
  {
   "cell_type": "markdown",
   "id": "bb153804",
   "metadata": {},
   "source": [
    "# Settings"
   ]
  },
  {
   "cell_type": "code",
   "execution_count": 3,
   "id": "21b9150c",
   "metadata": {},
   "outputs": [],
   "source": [
    "SAVE_NAME = 'vae.labeled'"
   ]
  },
  {
   "cell_type": "code",
   "execution_count": 4,
   "id": "79c2b692",
   "metadata": {},
   "outputs": [],
   "source": [
    "USE_GPU = True\n",
    "LOG_LEVEL = 'INFO'\n",
    "LABELS_FILE = 'pallets_labels.json'\n",
    "\n",
    "TEST_SIZE = 1000\n",
    "EPOCHS = 50\n",
    "LR = 1e-03\n",
    "BATCH_SIZE = 32"
   ]
  },
  {
   "cell_type": "code",
   "execution_count": 5,
   "metadata": {},
   "outputs": [
    {
     "data": {
      "text/plain": [
       "<Logger pallets (INFO)>"
      ]
     },
     "execution_count": 5,
     "metadata": {},
     "output_type": "execute_result"
    }
   ],
   "source": [
    "# To GPU, or not to GPU\n",
    "device = M.get_device(require_gpu=USE_GPU)\n",
    "\n",
    "# Logging\n",
    "L.init_logger(level=LOG_LEVEL, notebook=True)\n"
   ]
  },
  {
   "cell_type": "markdown",
   "metadata": {},
   "source": [
    "# Dataset"
   ]
  },
  {
   "cell_type": "code",
   "execution_count": 6,
   "id": "35fef1c0",
   "metadata": {},
   "outputs": [],
   "source": [
    "all_colors = I.get_punk_colors()\n",
    "mapper = DS.ColorOneHotMapper(all_colors)\n",
    "dataset = DS.OneHotCPunksDataset(\n",
    "    mapper, labels_file=LABELS_FILE, test_size=TEST_SIZE\n",
    ")\n",
    "\n",
    "# Uncomment to put entire dataset in GPU RAM\n",
    "# dataset = DS.FastOneHotCPunksDataset(\n",
    "#     device, mapper, labels_file=LABELS_FILE, test_size=TEST_SIZE\n",
    "# )"
   ]
  },
  {
   "cell_type": "code",
   "execution_count": 7,
   "id": "ffdf1379",
   "metadata": {},
   "outputs": [],
   "source": [
    "train_sampler = SubsetRandomSampler(dataset.train_idx)\n",
    "test_sampler = SubsetRandomSampler(dataset.test_idx)\n",
    "\n",
    "train_loader = DataLoader(dataset, batch_size=BATCH_SIZE, sampler=train_sampler)\n",
    "test_loader = DataLoader(dataset, batch_size=BATCH_SIZE, sampler=test_sampler)"
   ]
  },
  {
   "cell_type": "markdown",
   "id": "b39e0222",
   "metadata": {},
   "source": [
    "# Training"
   ]
  },
  {
   "cell_type": "code",
   "execution_count": 8,
   "id": "7e4d5fd0",
   "metadata": {},
   "outputs": [
    {
     "name": "stdout",
     "output_type": "stream",
     "text": [
      "INFO | model: pallets.models.vae.LabeledVAE\n",
      "INFO | criterion: pallets.models.vae.Loss\n",
      "INFO | learn rate: 0.001\n",
      "INFO | epochs: 50\n",
      "INFO | epoch 1 (  0%) loss: 1432590.000000\n",
      "INFO | epoch 1 ( 35%) loss: 159032.142907\n",
      "INFO | epoch 1 ( 70%) loss: 86802.182486\n",
      "INFO | epoch 1 (100%) loss: 65254.369437\n",
      "INFO | epoch 1 (test) loss: 10335.540726\n",
      "INFO | epoch 2 (  0%) loss: 11359.992188\n",
      "INFO | epoch 2 ( 35%) loss: 9687.071415\n",
      "INFO | epoch 2 ( 70%) loss: 9047.255998\n",
      "INFO | epoch 2 (100%) loss: 8529.424603\n",
      "INFO | epoch 2 (test) loss: 6805.975708\n",
      "INFO | epoch 3 (  0%) loss: 7279.046875\n",
      "INFO | epoch 3 ( 35%) loss: 6662.333849\n",
      "INFO | epoch 3 ( 70%) loss: 6393.909947\n",
      "INFO | epoch 3 (100%) loss: 6204.867654\n",
      "INFO | epoch 3 (test) loss: 5401.465302\n",
      "INFO | epoch 4 (  0%) loss: 5010.911133\n",
      "INFO | epoch 4 ( 35%) loss: 5350.365553\n",
      "INFO | epoch 4 ( 70%) loss: 5206.670087\n",
      "INFO | epoch 4 (100%) loss: 5084.625072\n",
      "INFO | epoch 4 (test) loss: 4566.013216\n",
      "INFO | epoch 5 (  0%) loss: 4873.926758\n",
      "INFO | epoch 5 ( 35%) loss: 4543.194906\n",
      "INFO | epoch 5 ( 70%) loss: 4432.933569\n",
      "INFO | epoch 5 (100%) loss: 4325.511346\n",
      "INFO | epoch 5 (test) loss: 3884.329617\n",
      "INFO | epoch 6 (  0%) loss: 4056.572021\n",
      "INFO | epoch 6 ( 35%) loss: 3817.552290\n",
      "INFO | epoch 6 ( 70%) loss: 3761.595278\n",
      "INFO | epoch 6 (100%) loss: 3702.748418\n",
      "INFO | epoch 6 (test) loss: 3406.659977\n",
      "INFO | epoch 7 (  0%) loss: 3562.715332\n",
      "INFO | epoch 7 ( 35%) loss: 3451.071951\n",
      "INFO | epoch 7 ( 70%) loss: 3376.099719\n",
      "INFO | epoch 7 (100%) loss: 3305.249575\n",
      "INFO | epoch 7 (test) loss: 3059.427170\n",
      "INFO | epoch 8 (  0%) loss: 2990.285156\n",
      "INFO | epoch 8 ( 35%) loss: 3058.450372\n",
      "INFO | epoch 8 ( 70%) loss: 3040.539899\n",
      "INFO | epoch 8 (100%) loss: 2999.965575\n",
      "INFO | epoch 8 (test) loss: 2788.606266\n",
      "INFO | epoch 9 (  0%) loss: 2664.859375\n",
      "INFO | epoch 9 ( 35%) loss: 2819.656750\n",
      "INFO | epoch 9 ( 70%) loss: 2786.243518\n",
      "INFO | epoch 9 (100%) loss: 2754.840255\n",
      "INFO | epoch 9 (test) loss: 2623.448597\n",
      "INFO | epoch 10 (  0%) loss: 2607.137207\n",
      "INFO | epoch 10 ( 35%) loss: 2602.642953\n",
      "INFO | epoch 10 ( 70%) loss: 2587.889103\n",
      "INFO | epoch 10 (100%) loss: 2553.362127\n",
      "INFO | epoch 10 (test) loss: 2501.327196\n",
      "INFO | epoch 11 (  0%) loss: 2597.574219\n",
      "INFO | epoch 11 ( 35%) loss: 2462.922774\n",
      "INFO | epoch 11 ( 70%) loss: 2432.080016\n",
      "INFO | epoch 11 (100%) loss: 2405.336334\n",
      "INFO | epoch 11 (test) loss: 2297.449333\n",
      "INFO | epoch 12 (  0%) loss: 2280.232178\n",
      "INFO | epoch 12 ( 35%) loss: 2314.699158\n",
      "INFO | epoch 12 ( 70%) loss: 2282.270607\n",
      "INFO | epoch 12 (100%) loss: 2260.542395\n",
      "INFO | epoch 12 (test) loss: 2203.787386\n",
      "INFO | epoch 13 (  0%) loss: 2245.557373\n",
      "INFO | epoch 13 ( 35%) loss: 2188.237963\n",
      "INFO | epoch 13 ( 70%) loss: 2154.547261\n",
      "INFO | epoch 13 (100%) loss: 2133.718239\n",
      "INFO | epoch 13 (test) loss: 2125.216240\n",
      "INFO | epoch 14 (  0%) loss: 2005.340454\n",
      "INFO | epoch 14 ( 35%) loss: 2060.819848\n",
      "INFO | epoch 14 ( 70%) loss: 2038.222173\n",
      "INFO | epoch 14 (100%) loss: 2020.991784\n",
      "INFO | epoch 14 (test) loss: 1986.747017\n",
      "INFO | epoch 15 (  0%) loss: 1879.495361\n",
      "INFO | epoch 15 ( 35%) loss: 1956.781018\n",
      "INFO | epoch 15 ( 70%) loss: 1939.075198\n",
      "INFO | epoch 15 (100%) loss: 1924.275450\n",
      "INFO | epoch 15 (test) loss: 1879.273092\n",
      "INFO | epoch 16 (  0%) loss: 2010.775757\n",
      "INFO | epoch 16 ( 35%) loss: 1861.059163\n",
      "INFO | epoch 16 ( 70%) loss: 1845.719903\n",
      "INFO | epoch 16 (100%) loss: 1831.347833\n",
      "INFO | epoch 16 (test) loss: 1824.999293\n",
      "INFO | epoch 17 (  0%) loss: 1962.565430\n",
      "INFO | epoch 17 ( 35%) loss: 1788.773386\n",
      "INFO | epoch 17 ( 70%) loss: 1770.551858\n",
      "INFO | epoch 17 (100%) loss: 1757.398945\n",
      "INFO | epoch 17 (test) loss: 1744.762580\n",
      "INFO | epoch 18 (  0%) loss: 1567.027588\n",
      "INFO | epoch 18 ( 35%) loss: 1700.372035\n",
      "INFO | epoch 18 ( 70%) loss: 1689.121458\n",
      "INFO | epoch 18 (100%) loss: 1683.389144\n",
      "INFO | epoch 18 (test) loss: 1673.833776\n",
      "INFO | epoch 19 (  0%) loss: 1634.797119\n",
      "INFO | epoch 19 ( 35%) loss: 1633.699906\n",
      "INFO | epoch 19 ( 70%) loss: 1632.469947\n",
      "INFO | epoch 19 (100%) loss: 1619.818290\n",
      "INFO | epoch 19 (test) loss: 1633.398976\n",
      "INFO | epoch 20 (  0%) loss: 1539.614136\n",
      "INFO | epoch 20 ( 35%) loss: 1578.073923\n",
      "INFO | epoch 20 ( 70%) loss: 1570.479604\n",
      "INFO | epoch 20 (100%) loss: 1556.526940\n",
      "INFO | epoch 20 (test) loss: 1551.841290\n",
      "INFO | epoch 21 (  0%) loss: 1581.799927\n",
      "INFO | epoch 21 ( 35%) loss: 1508.079842\n",
      "INFO | epoch 21 ( 70%) loss: 1512.591538\n",
      "INFO | epoch 21 (100%) loss: 1509.288492\n",
      "INFO | epoch 21 (test) loss: 1568.187248\n",
      "INFO | epoch 22 (  0%) loss: 1666.333496\n",
      "INFO | epoch 22 ( 35%) loss: 1482.186179\n",
      "INFO | epoch 22 ( 70%) loss: 1466.018082\n",
      "INFO | epoch 22 (100%) loss: 1455.592686\n",
      "INFO | epoch 22 (test) loss: 1474.504357\n",
      "INFO | epoch 23 (  0%) loss: 1486.318237\n",
      "INFO | epoch 23 ( 35%) loss: 1417.257584\n",
      "INFO | epoch 23 ( 70%) loss: 1411.653351\n",
      "INFO | epoch 23 (100%) loss: 1406.737713\n",
      "INFO | epoch 23 (test) loss: 1398.203972\n",
      "INFO | epoch 24 (  0%) loss: 1347.367676\n",
      "INFO | epoch 24 ( 35%) loss: 1373.417123\n",
      "INFO | epoch 24 ( 70%) loss: 1365.912344\n",
      "INFO | epoch 24 (100%) loss: 1357.258707\n",
      "INFO | epoch 24 (test) loss: 1370.989714\n",
      "INFO | epoch 25 (  0%) loss: 1368.155762\n",
      "INFO | epoch 25 ( 35%) loss: 1343.120042\n",
      "INFO | epoch 25 ( 70%) loss: 1335.300096\n",
      "INFO | epoch 25 (100%) loss: 1320.727392\n",
      "INFO | epoch 25 (test) loss: 1370.673138\n",
      "INFO | epoch 26 (  0%) loss: 1291.399780\n",
      "INFO | epoch 26 ( 35%) loss: 1294.190874\n",
      "INFO | epoch 26 ( 70%) loss: 1292.671860\n",
      "INFO | epoch 26 (100%) loss: 1282.117100\n",
      "INFO | epoch 26 (test) loss: 1312.511839\n",
      "INFO | epoch 27 (  0%) loss: 1354.969116\n",
      "INFO | epoch 27 ( 35%) loss: 1268.631181\n",
      "INFO | epoch 27 ( 70%) loss: 1264.570044\n",
      "INFO | epoch 27 (100%) loss: 1257.632872\n",
      "INFO | epoch 27 (test) loss: 1273.289380\n",
      "INFO | epoch 28 (  0%) loss: 1258.635010\n",
      "INFO | epoch 28 ( 35%) loss: 1219.866415\n",
      "INFO | epoch 28 ( 70%) loss: 1221.099600\n",
      "INFO | epoch 28 (100%) loss: 1216.130318\n",
      "INFO | epoch 28 (test) loss: 1219.803040\n",
      "INFO | epoch 29 (  0%) loss: 1182.989258\n",
      "INFO | epoch 29 ( 35%) loss: 1190.433388\n",
      "INFO | epoch 29 ( 70%) loss: 1190.068010\n",
      "INFO | epoch 29 (100%) loss: 1182.871512\n",
      "INFO | epoch 29 (test) loss: 1193.181808\n",
      "INFO | epoch 30 (  0%) loss: 1217.105469\n",
      "INFO | epoch 30 ( 35%) loss: 1160.807893\n",
      "INFO | epoch 30 ( 70%) loss: 1156.776364\n",
      "INFO | epoch 30 (100%) loss: 1150.418629\n",
      "INFO | epoch 30 (test) loss: 1207.363854\n",
      "INFO | epoch 31 (  0%) loss: 1181.758179\n",
      "INFO | epoch 31 ( 35%) loss: 1124.191729\n",
      "INFO | epoch 31 ( 70%) loss: 1132.109284\n",
      "INFO | epoch 31 (100%) loss: 1127.453816\n",
      "INFO | epoch 31 (test) loss: 1146.607162\n",
      "INFO | epoch 32 (  0%) loss: 1143.294434\n",
      "INFO | epoch 32 ( 35%) loss: 1109.211287\n",
      "INFO | epoch 32 ( 70%) loss: 1115.897989\n",
      "INFO | epoch 32 (100%) loss: 1112.467269\n",
      "INFO | epoch 32 (test) loss: 1140.462021\n",
      "INFO | epoch 33 (  0%) loss: 1103.510620\n",
      "INFO | epoch 33 ( 35%) loss: 1080.114179\n",
      "INFO | epoch 33 ( 70%) loss: 1078.719991\n",
      "INFO | epoch 33 (100%) loss: 1077.381972\n",
      "INFO | epoch 33 (test) loss: 1128.466704\n",
      "INFO | epoch 34 (  0%) loss: 1049.253540\n",
      "INFO | epoch 34 ( 35%) loss: 1065.335901\n",
      "INFO | epoch 34 ( 70%) loss: 1064.152084\n",
      "INFO | epoch 34 (100%) loss: 1062.424730\n",
      "INFO | epoch 34 (test) loss: 1083.531378\n",
      "INFO | epoch 35 (  0%) loss: 1036.339355\n",
      "INFO | epoch 35 ( 35%) loss: 1037.582658\n",
      "INFO | epoch 35 ( 70%) loss: 1043.100544\n",
      "INFO | epoch 35 (100%) loss: 1038.857184\n",
      "INFO | epoch 35 (test) loss: 1081.492531\n",
      "INFO | epoch 36 (  0%) loss: 1096.255127\n",
      "INFO | epoch 36 ( 35%) loss: 1020.779525\n",
      "INFO | epoch 36 ( 70%) loss: 1023.253756\n",
      "INFO | epoch 36 (100%) loss: 1022.185867\n",
      "INFO | epoch 36 (test) loss: 1056.589451\n",
      "INFO | epoch 37 (  0%) loss: 983.264648\n",
      "INFO | epoch 37 ( 35%) loss: 1001.862759\n",
      "INFO | epoch 37 ( 70%) loss: 1010.142459\n",
      "INFO | epoch 37 (100%) loss: 1004.280156\n",
      "INFO | epoch 37 (test) loss: 998.335082\n",
      "INFO | epoch 38 (  0%) loss: 997.770874\n",
      "INFO | epoch 38 ( 35%) loss: 975.411486\n",
      "INFO | epoch 38 ( 70%) loss: 984.503765\n",
      "INFO | epoch 38 (100%) loss: 984.094665\n",
      "INFO | epoch 38 (test) loss: 1011.488749\n",
      "INFO | epoch 39 (  0%) loss: 916.561584\n",
      "INFO | epoch 39 ( 35%) loss: 976.289281\n",
      "INFO | epoch 39 ( 70%) loss: 975.295512\n",
      "INFO | epoch 39 (100%) loss: 974.102575\n",
      "INFO | epoch 39 (test) loss: 1045.563667\n",
      "INFO | epoch 40 (  0%) loss: 895.100708\n",
      "INFO | epoch 40 ( 35%) loss: 965.954057\n",
      "INFO | epoch 40 ( 70%) loss: 959.217482\n",
      "INFO | epoch 40 (100%) loss: 953.764609\n",
      "INFO | epoch 40 (test) loss: 968.245537\n",
      "INFO | epoch 41 (  0%) loss: 882.600769\n",
      "INFO | epoch 41 ( 35%) loss: 939.884841\n",
      "INFO | epoch 41 ( 70%) loss: 948.422776\n",
      "INFO | epoch 41 (100%) loss: 943.356393\n",
      "INFO | epoch 41 (test) loss: 994.006450\n",
      "INFO | epoch 42 (  0%) loss: 912.255005\n",
      "INFO | epoch 42 ( 35%) loss: 937.191510\n",
      "INFO | epoch 42 ( 70%) loss: 941.413500\n",
      "INFO | epoch 42 (100%) loss: 939.227780\n",
      "INFO | epoch 42 (test) loss: 946.914830\n",
      "INFO | epoch 43 (  0%) loss: 898.147949\n",
      "INFO | epoch 43 ( 35%) loss: 927.086270\n",
      "INFO | epoch 43 ( 70%) loss: 924.414316\n",
      "INFO | epoch 43 (100%) loss: 920.938974\n",
      "INFO | epoch 43 (test) loss: 954.099564\n",
      "INFO | epoch 44 (  0%) loss: 885.659363\n",
      "INFO | epoch 44 ( 35%) loss: 898.705586\n",
      "INFO | epoch 44 ( 70%) loss: 904.139465\n",
      "INFO | epoch 44 (100%) loss: 903.176915\n",
      "INFO | epoch 44 (test) loss: 949.110899\n",
      "INFO | epoch 45 (  0%) loss: 866.199097\n",
      "INFO | epoch 45 ( 35%) loss: 892.473004\n",
      "INFO | epoch 45 ( 70%) loss: 897.271874\n",
      "INFO | epoch 45 (100%) loss: 893.884843\n",
      "INFO | epoch 45 (test) loss: 934.383188\n",
      "INFO | epoch 46 (  0%) loss: 1030.688232\n",
      "INFO | epoch 46 ( 35%) loss: 906.663739\n",
      "INFO | epoch 46 ( 70%) loss: 892.295406\n",
      "INFO | epoch 46 (100%) loss: 886.193055\n",
      "INFO | epoch 46 (test) loss: 922.795526\n",
      "INFO | epoch 47 (  0%) loss: 931.698853\n",
      "INFO | epoch 47 ( 35%) loss: 875.224326\n",
      "INFO | epoch 47 ( 70%) loss: 879.557753\n",
      "INFO | epoch 47 (100%) loss: 878.476986\n",
      "INFO | epoch 47 (test) loss: 958.951241\n",
      "INFO | epoch 48 (  0%) loss: 925.504272\n",
      "INFO | epoch 48 ( 35%) loss: 881.231798\n",
      "INFO | epoch 48 ( 70%) loss: 878.521956\n",
      "INFO | epoch 48 (100%) loss: 874.188084\n",
      "INFO | epoch 48 (test) loss: 903.299149\n",
      "INFO | epoch 49 (  0%) loss: 868.640015\n",
      "INFO | epoch 49 ( 35%) loss: 852.217286\n",
      "INFO | epoch 49 ( 70%) loss: 856.402858\n",
      "INFO | epoch 49 (100%) loss: 855.852922\n",
      "INFO | epoch 49 (test) loss: 912.808419\n",
      "INFO | epoch 50 (  0%) loss: 865.937622\n",
      "INFO | epoch 50 ( 35%) loss: 859.435481\n",
      "INFO | epoch 50 ( 70%) loss: 857.862409\n",
      "INFO | epoch 50 (100%) loss: 852.130314\n",
      "INFO | epoch 50 (test) loss: 868.700444\n",
      "INFO | model blob saved to /home/jmsdnns/ML/pallets/saved/vae.labeled.pkl\n",
      "INFO | training losses saved to /home/jmsdnns/ML/pallets/saved/vae.labeled.json\n"
     ]
    }
   ],
   "source": [
    "input_dim = 222 * 24 * 24\n",
    "hidden_dim = 128\n",
    "latent_dim = 32\n",
    "classes_dim = len(dataset._label_keys)  # 92\n",
    "\n",
    "model = M.vae.LabeledVAE(input_dim, hidden_dim, latent_dim, classes_dim)\n",
    "criterion = M.vae.Loss()\n",
    "\n",
    "train_losses, test_losses = M.vae.train(\n",
    "    device, model, criterion, train_loader, test_loader,\n",
    "    learn_rate=LR, epochs=EPOCHS, with_labels=True\n",
    ")\n",
    "\n",
    "M.save(SAVE_NAME, model, train_losses, test_losses)"
   ]
  },
  {
   "cell_type": "markdown",
   "id": "77fb32ad",
   "metadata": {},
   "source": [
    "# Results"
   ]
  },
  {
   "cell_type": "code",
   "execution_count": 9,
   "id": "38c47d81",
   "metadata": {},
   "outputs": [
    {
     "name": "stdout",
     "output_type": "stream",
     "text": [
      "torch.Size([1, 127872])\n",
      "torch.Size([222, 24, 24])\n"
     ]
    }
   ],
   "source": [
    "# Generate new image\n",
    "\n",
    "z = torch.randn(1, latent_dim).to(device)\n",
    "with torch.no_grad():\n",
    "    model.eval()\n",
    "    generated_image = model.decode(z)\n",
    "    print(generated_image.shape)\n",
    "\n",
    "\n",
    "decoded_one_hot = generated_image[0].view(222, 24, 24)\n",
    "print(decoded_one_hot.shape)\n"
   ]
  },
  {
   "cell_type": "code",
   "execution_count": 10,
   "metadata": {},
   "outputs": [
    {
     "name": "stdout",
     "output_type": "stream",
     "text": [
      "torch.Size([4, 24, 24])\n"
     ]
    },
    {
     "data": {
      "image/png": "[encoded data removed]",
      "text/plain": [
       "<Figure size 640x480 with 1 Axes>"
      ]
     },
     "metadata": {},
     "output_type": "display_data"
    }
   ],
   "source": [
    "decoded = DS.one_hot_to_rgba(decoded_one_hot, dataset.mapper)\n",
    "print(decoded.shape)\n",
    "\n",
    "plt.imshow(transforms.functional.to_pil_image(decoded))\n",
    "plt.axis('off')\n",
    "plt.show()\n"
   ]
  },
  {
   "cell_type": "code",
   "execution_count": 11,
   "metadata": {},
   "outputs": [
    {
     "data": {
      "image/png": "[encoded data removed]",
      "text/plain": [
       "<Figure size 640x480 with 1 Axes>"
      ]
     },
     "metadata": {},
     "output_type": "display_data"
    }
   ],
   "source": [
    "punk, punk_labels = dataset[1000]\n",
    "punk = DS.one_hot_to_rgba(punk, dataset.mapper)\n",
    "\n",
    "plt.imshow(transforms.functional.to_pil_image(punk))\n",
    "plt.show()"
   ]
  },
  {
   "cell_type": "code",
   "execution_count": 40,
   "metadata": {},
   "outputs": [
    {
     "name": "stdout",
     "output_type": "stream",
     "text": [
      "torch.Size([1, 222, 24, 24])\n"
     ]
    },
    {
     "data": {
      "image/png": "[encoded data removed]",
      "text/plain": [
       "<Figure size 640x480 with 1 Axes>"
      ]
     },
     "metadata": {},
     "output_type": "display_data"
    }
   ],
   "source": [
    "punk, punk_labels = dataset[1000]\n",
    "\n",
    "punk_labels = punk_labels.unsqueeze(0).to(device)\n",
    "\n",
    "# punk = I.get_punk_tensor(1000)\n",
    "\n",
    "p = DS.rgba_to_one_hot(punk, dataset.mapper)\n",
    "p = p.unsqueeze(0)\n",
    "p = p.to(device)\n",
    "\n",
    "model.eval()\n",
    "with torch.no_grad():\n",
    "    reconstructed, mu, logcar = model.forward(p, punk_labels)\n",
    "    print(reconstructed.shape)\n",
    "\n",
    "recon_punk = reconstructed[0].cpu()\n",
    "recon_punk = DS.one_hot_to_rgba(recon_punk, dataset.mapper)\n",
    "plt.imshow(transforms.functional.to_pil_image(recon_punk.cpu()))\n",
    "plt.show()\n"
   ]
  },
  {
   "cell_type": "markdown",
   "id": "cea5f5a3",
   "metadata": {},
   "source": [
    "## Losses"
   ]
  },
  {
   "cell_type": "code",
   "execution_count": 13,
   "metadata": {},
   "outputs": [
    {
     "data": {
      "text/plain": [
       "<function matplotlib.pyplot.show(close=None, block=None)>"
      ]
     },
     "execution_count": 13,
     "metadata": {},
     "output_type": "execute_result"
    },
    {
     "data": {
      "image/png": "[encoded data removed]",
      "text/plain": [
       "<Figure size 640x480 with 1 Axes>"
      ]
     },
     "metadata": {},
     "output_type": "display_data"
    }
   ],
   "source": [
    "plt.title(\"Train & Test loss\")\n",
    "plt.plot(train_losses, label='train loss')\n",
    "plt.plot(test_losses, label='test loss')\n",
    "plt.legend()\n",
    "plt.show\n"
   ]
  },
  {
   "cell_type": "code",
   "execution_count": 14,
   "id": "fd748446",
   "metadata": {},
   "outputs": [
    {
     "data": {
      "text/plain": [
       "[130508.73887342088,\n",
       " 17058.849205936946,\n",
       " 12409.735307409408,\n",
       " 10169.250143713985,\n",
       " 8651.022692091921,\n",
       " 7405.496835262217,\n",
       " 6610.499149836547,\n",
       " 5999.93114974651,\n",
       " 5509.680510392426,\n",
       " 5106.724253553025,\n",
       " 4810.672667158411,\n",
       " 4521.084789519615,\n",
       " 4267.436477985788,\n",
       " 4041.9835676910184,\n",
       " 3848.5509007230717,\n",
       " 3662.695665724734,\n",
       " 3514.7978900882367,\n",
       " 3366.7782882798647,\n",
       " 3239.6365793647497,\n",
       " 3113.053879758145,\n",
       " 3018.576984378463,\n",
       " 2911.1853715612533,\n",
       " 2813.475425341451,\n",
       " 2714.5174136330897,\n",
       " 2641.454783771055,\n",
       " 2564.234200119127,\n",
       " 2515.265743607325,\n",
       " 2432.2606365663787,\n",
       " 2365.743024244376,\n",
       " 2300.837257331145,\n",
       " 2254.9076324895764,\n",
       " 2224.934538929175,\n",
       " 2154.763943286652,\n",
       " 2124.849459925442,\n",
       " 2077.7143673727696,\n",
       " 2044.3717342944856,\n",
       " 2008.5603111754072,\n",
       " 1968.1893293231938,\n",
       " 1948.205150414866,\n",
       " 1907.5292177673773,\n",
       " 1886.712786951809,\n",
       " 1878.4555603460217,\n",
       " 1841.8779474353114,\n",
       " 1806.353830323997,\n",
       " 1787.769686651568,\n",
       " 1772.3861107792416,\n",
       " 1756.953971267592,\n",
       " 1748.376168974748,\n",
       " 1711.705843986349,\n",
       " 1704.260628341783]"
      ]
     },
     "execution_count": 14,
     "metadata": {},
     "output_type": "execute_result"
    }
   ],
   "source": [
    "train_losses\n"
   ]
  },
  {
   "cell_type": "code",
   "execution_count": 15,
   "id": "3955ea68",
   "metadata": {},
   "outputs": [
    {
     "data": {
      "text/plain": [
       "[20671.081451416016,\n",
       " 13611.951416015625,\n",
       " 10802.930603027344,\n",
       " 9132.026432037354,\n",
       " 7768.659233093262,\n",
       " 6813.319953918457,\n",
       " 6118.854339599609,\n",
       " 5577.212532043457,\n",
       " 5246.897193908691,\n",
       " 5002.654392242432,\n",
       " 4594.898666381836,\n",
       " 4407.5747718811035,\n",
       " 4250.432479858398,\n",
       " 3973.4940338134766,\n",
       " 3758.546184539795,\n",
       " 3649.998586654663,\n",
       " 3489.5251598358154,\n",
       " 3347.6675510406494,\n",
       " 3266.7979526519775,\n",
       " 3103.6825790405273,\n",
       " 3136.374496459961,\n",
       " 2949.0087146759033,\n",
       " 2796.407943725586,\n",
       " 2741.9794273376465,\n",
       " 2741.34627532959,\n",
       " 2625.0236778259277,\n",
       " 2546.5787601470947,\n",
       " 2439.6060791015625,\n",
       " 2386.3636150360107,\n",
       " 2414.7277088165283,\n",
       " 2293.2143230438232,\n",
       " 2280.924042701721,\n",
       " 2256.9334087371826,\n",
       " 2167.062755584717,\n",
       " 2162.985062599182,\n",
       " 2113.1789026260376,\n",
       " 1996.6701641082764,\n",
       " 2022.97749710083,\n",
       " 2091.1273345947266,\n",
       " 1936.4910745620728,\n",
       " 1988.0128993988037,\n",
       " 1893.829659461975,\n",
       " 1908.1991271972656,\n",
       " 1898.2217979431152,\n",
       " 1868.7663764953613,\n",
       " 1845.591052055359,\n",
       " 1917.9024810791016,\n",
       " 1806.5982971191406,\n",
       " 1825.6168384552002,\n",
       " 1737.4008884429932]"
      ]
     },
     "execution_count": 15,
     "metadata": {},
     "output_type": "execute_result"
    }
   ],
   "source": [
    "test_losses\n"
   ]
  },
  {
   "cell_type": "code",
   "execution_count": null,
   "id": "cdafd461",
   "metadata": {},
   "outputs": [],
   "source": []
  }
 ],
 "metadata": {
  "kernelspec": {
   "display_name": "Python 3 (ipykernel)",
   "language": "python",
   "name": "python3"
  },
  "language_info": {
   "codemirror_mode": {
    "name": "ipython",
    "version": 3
   },
   "file_extension": ".py",
   "mimetype": "text/x-python",
   "name": "python",
   "nbconvert_exporter": "python",
   "pygments_lexer": "ipython3",
   "version": "3.11.6"
  }
 },
 "nbformat": 4,
 "nbformat_minor": 5
}
