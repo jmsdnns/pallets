{
 "cells": [
  {
   "cell_type": "markdown",
   "metadata": {},
   "source": [
    "# Labeled VAE"
   ]
  },
  {
   "cell_type": "code",
   "execution_count": 1,
   "id": "19d0f047",
   "metadata": {},
   "outputs": [],
   "source": [
    "import torch\n",
    "from torchvision import transforms\n",
    "from torch.utils.data import DataLoader, SubsetRandomSampler\n",
    "import matplotlib.pyplot as plt\n",
    "%matplotlib inline\n"
   ]
  },
  {
   "cell_type": "code",
   "execution_count": 2,
   "metadata": {},
   "outputs": [],
   "source": [
    "# Load pallets library from project root\n",
    "import sys, os\n",
    "sys.path.append(os.path.abspath(os.path.join(os.getcwd(), '..', '..')))\n",
    "\n",
    "from pallets import (\n",
    "    images as I,\n",
    "    datasets as DS,\n",
    "    models as M,\n",
    "    logging as L\n",
    ")\n"
   ]
  },
  {
   "cell_type": "markdown",
   "id": "623557d9",
   "metadata": {},
   "source": [
    "# Settings"
   ]
  },
  {
   "cell_type": "code",
   "execution_count": null,
   "id": "0e8f0793",
   "metadata": {},
   "outputs": [],
   "source": [
    "SAVE_NAME = 'vae.conv.labels'"
   ]
  },
  {
   "cell_type": "code",
   "execution_count": null,
   "id": "3252c377",
   "metadata": {},
   "outputs": [],
   "source": [
    "USE_GPU = True\n",
    "LOG_LEVEL = 'INFO'\n",
    "LABELS_FILE = 'pallets_labels.json'\n",
    "\n",
    "TEST_SIZE = 1000\n",
    "EPOCHS = 50\n",
    "LR = 1e-03\n",
    "BATCH_SIZE = 32\n"
   ]
  },
  {
   "cell_type": "code",
   "execution_count": 3,
   "metadata": {},
   "outputs": [
    {
     "data": {
      "text/plain": [
       "<Logger pallets (INFO)>"
      ]
     },
     "execution_count": 3,
     "metadata": {},
     "output_type": "execute_result"
    }
   ],
   "source": [
    "# To GPU, or not to GPU\n",
    "device = M.get_device(require_gpu=USE_GPU)\n",
    "\n",
    "# Logging\n",
    "L.init_logger(level=LOG_LEVEL, notebook=True)\n"
   ]
  },
  {
   "cell_type": "markdown",
   "metadata": {},
   "source": [
    "# Dataset"
   ]
  },
  {
   "cell_type": "code",
   "execution_count": 4,
   "id": "35fef1c0",
   "metadata": {},
   "outputs": [
    {
     "name": "stdout",
     "output_type": "stream",
     "text": [
      "INFO | loading punk images\n",
      "INFO | - image 0\n",
      "INFO | - image 1000\n",
      "INFO | - image 2000\n",
      "INFO | - image 3000\n",
      "INFO | - image 4000\n",
      "INFO | - image 5000\n",
      "INFO | - image 6000\n",
      "INFO | - image 7000\n",
      "INFO | - image 8000\n",
      "INFO | - image 9000\n",
      "INFO | punk images complete\n",
      "INFO | loading punk labels: ../../cpunks-10k/cpunks/data/punks.json\n"
     ]
    }
   ],
   "source": [
    "all_colors = I.get_punk_colors()\n",
    "mapper = DS.ColorOneHotMapper(all_colors)\n",
    "dataset = DS.OneHotCPunksDataset(\n",
    "    mapper, labels_file=LABELS_FILE, test_size=TEST_SIZE\n",
    ")\n",
    "\n",
    "# Uncomment to put entire dataset in GPU RAM\n",
    "# dataset = DS.FastOneHotCPunksDataset(\n",
    "#     device, mapper, labels_file=LABELS_FILE, test_size=TEST_SIZE\n",
    "# )"
   ]
  },
  {
   "cell_type": "code",
   "execution_count": null,
   "id": "4a9839d3",
   "metadata": {},
   "outputs": [],
   "source": [
    "train_sampler = SubsetRandomSampler(dataset.train_idx)\n",
    "test_sampler = SubsetRandomSampler(dataset.test_idx)\n",
    "\n",
    "train_loader = DataLoader(dataset, batch_size=BATCH_SIZE, sampler=train_sampler)\n",
    "test_loader = DataLoader(dataset, batch_size=BATCH_SIZE, sampler=test_sampler)"
   ]
  },
  {
   "cell_type": "markdown",
   "id": "b39e0222",
   "metadata": {},
   "source": [
    "# Training"
   ]
  },
  {
   "cell_type": "code",
   "execution_count": 6,
   "metadata": {},
   "outputs": [
    {
     "name": "stdout",
     "output_type": "stream",
     "text": [
      "INFO | model: pallets.models.vae.LabeledVAE\n",
      "INFO | criterion: pallets.models.vae.Loss\n",
      "INFO | learn rate: 0.001\n",
      "INFO | epochs: 50\n",
      "INFO | epoch 1 (  0%) loss: 511340.343750\n",
      "INFO | epoch 1 ( 35%) loss: 36567.423161\n",
      "INFO | epoch 1 ( 70%) loss: 20193.799364\n",
      "INFO | epoch 1 (100%) loss: 15286.630175\n",
      "INFO | epoch 1 (test) loss: 3011.733999\n",
      "INFO | epoch 2 (  0%) loss: 3168.992188\n",
      "INFO | epoch 2 ( 35%) loss: 2989.891227\n",
      "INFO | epoch 2 ( 70%) loss: 2919.502352\n",
      "INFO | epoch 2 (100%) loss: 2848.778398\n",
      "INFO | epoch 2 (test) loss: 2585.529720\n",
      "INFO | epoch 3 (  0%) loss: 2605.232666\n",
      "INFO | epoch 3 ( 35%) loss: 2550.318004\n",
      "INFO | epoch 3 ( 70%) loss: 2491.184335\n",
      "INFO | epoch 3 (100%) loss: 2441.376340\n",
      "INFO | epoch 3 (test) loss: 2258.153040\n",
      "INFO | epoch 4 (  0%) loss: 2315.772461\n",
      "INFO | epoch 4 ( 35%) loss: 2248.870850\n",
      "INFO | epoch 4 ( 70%) loss: 2213.483287\n",
      "INFO | epoch 4 (100%) loss: 2185.638485\n",
      "INFO | epoch 4 (test) loss: 2073.863382\n",
      "INFO | epoch 5 (  0%) loss: 2103.203613\n",
      "INFO | epoch 5 ( 35%) loss: 2085.520105\n",
      "INFO | epoch 5 ( 70%) loss: 2060.372313\n",
      "INFO | epoch 5 (100%) loss: 2028.599135\n",
      "INFO | epoch 5 (test) loss: 1935.271231\n",
      "INFO | epoch 6 (  0%) loss: 1986.692383\n",
      "INFO | epoch 6 ( 35%) loss: 1940.431178\n",
      "INFO | epoch 6 ( 70%) loss: 1919.053128\n",
      "INFO | epoch 6 (100%) loss: 1908.823697\n",
      "INFO | epoch 6 (test) loss: 1857.655243\n",
      "INFO | epoch 7 (  0%) loss: 1938.356445\n",
      "INFO | epoch 7 ( 35%) loss: 1836.603661\n",
      "INFO | epoch 7 ( 70%) loss: 1742.980882\n",
      "INFO | epoch 7 (100%) loss: 1658.832442\n",
      "INFO | epoch 7 (test) loss: 1365.755366\n",
      "INFO | epoch 8 (  0%) loss: 1376.193481\n",
      "INFO | epoch 8 ( 35%) loss: 1319.609069\n",
      "INFO | epoch 8 ( 70%) loss: 1266.813319\n",
      "INFO | epoch 8 (100%) loss: 1234.792528\n",
      "INFO | epoch 8 (test) loss: 1126.506610\n",
      "INFO | epoch 9 (  0%) loss: 1113.928101\n",
      "INFO | epoch 9 ( 35%) loss: 1117.200287\n",
      "INFO | epoch 9 ( 70%) loss: 1094.387877\n",
      "INFO | epoch 9 (100%) loss: 1067.732713\n",
      "INFO | epoch 9 (test) loss: 965.241548\n",
      "INFO | epoch 10 (  0%) loss: 999.814636\n",
      "INFO | epoch 10 ( 35%) loss: 938.918564\n",
      "INFO | epoch 10 ( 70%) loss: 933.023721\n",
      "INFO | epoch 10 (100%) loss: 925.473530\n",
      "INFO | epoch 10 (test) loss: 879.955753\n",
      "INFO | epoch 11 (  0%) loss: 957.207947\n",
      "INFO | epoch 11 ( 35%) loss: 893.630579\n",
      "INFO | epoch 11 ( 70%) loss: 886.085464\n",
      "INFO | epoch 11 (100%) loss: 879.969722\n",
      "INFO | epoch 11 (test) loss: 854.362410\n",
      "INFO | epoch 12 (  0%) loss: 671.834351\n",
      "INFO | epoch 12 ( 35%) loss: 859.196239\n",
      "INFO | epoch 12 ( 70%) loss: 864.383246\n",
      "INFO | epoch 12 (100%) loss: 862.532305\n",
      "INFO | epoch 12 (test) loss: 837.170549\n",
      "INFO | epoch 13 (  0%) loss: 876.927185\n",
      "INFO | epoch 13 ( 35%) loss: 847.379103\n",
      "INFO | epoch 13 ( 70%) loss: 851.568863\n",
      "INFO | epoch 13 (100%) loss: 848.733841\n",
      "INFO | epoch 13 (test) loss: 828.616707\n",
      "INFO | epoch 14 (  0%) loss: 873.051453\n",
      "INFO | epoch 14 ( 35%) loss: 837.270147\n",
      "INFO | epoch 14 ( 70%) loss: 842.586305\n",
      "INFO | epoch 14 (100%) loss: 843.672407\n",
      "INFO | epoch 14 (test) loss: 822.932885\n",
      "INFO | epoch 15 (  0%) loss: 793.058167\n",
      "INFO | epoch 15 ( 35%) loss: 825.876207\n",
      "INFO | epoch 15 ( 70%) loss: 830.738234\n",
      "INFO | epoch 15 (100%) loss: 831.804135\n",
      "INFO | epoch 15 (test) loss: 818.035791\n",
      "INFO | epoch 16 (  0%) loss: 687.907227\n",
      "INFO | epoch 16 ( 35%) loss: 833.957750\n",
      "INFO | epoch 16 ( 70%) loss: 837.026555\n",
      "INFO | epoch 16 (100%) loss: 831.206524\n",
      "INFO | epoch 16 (test) loss: 812.517396\n",
      "INFO | epoch 17 (  0%) loss: 795.757507\n",
      "INFO | epoch 17 ( 35%) loss: 822.401842\n",
      "INFO | epoch 17 ( 70%) loss: 831.440793\n",
      "INFO | epoch 17 (100%) loss: 828.084105\n",
      "INFO | epoch 17 (test) loss: 818.313101\n",
      "INFO | epoch 18 (  0%) loss: 821.505310\n",
      "INFO | epoch 18 ( 35%) loss: 833.313405\n",
      "INFO | epoch 18 ( 70%) loss: 827.789628\n",
      "INFO | epoch 18 (100%) loss: 824.675348\n",
      "INFO | epoch 18 (test) loss: 806.318277\n",
      "INFO | epoch 19 (  0%) loss: 898.479614\n",
      "INFO | epoch 19 ( 35%) loss: 814.716475\n",
      "INFO | epoch 19 ( 70%) loss: 821.895167\n",
      "INFO | epoch 19 (100%) loss: 822.336974\n",
      "INFO | epoch 19 (test) loss: 803.292780\n",
      "INFO | epoch 20 (  0%) loss: 629.940674\n",
      "INFO | epoch 20 ( 35%) loss: 828.939969\n",
      "INFO | epoch 20 ( 70%) loss: 826.712790\n",
      "INFO | epoch 20 (100%) loss: 822.243956\n",
      "INFO | epoch 20 (test) loss: 806.877462\n",
      "INFO | epoch 21 (  0%) loss: 819.299072\n",
      "INFO | epoch 21 ( 35%) loss: 819.299402\n",
      "INFO | epoch 21 ( 70%) loss: 821.517127\n",
      "INFO | epoch 21 (100%) loss: 817.641371\n",
      "INFO | epoch 21 (test) loss: 809.517725\n",
      "INFO | epoch 22 (  0%) loss: 702.830566\n",
      "INFO | epoch 22 ( 35%) loss: 813.485589\n",
      "INFO | epoch 22 ( 70%) loss: 822.330400\n",
      "INFO | epoch 22 (100%) loss: 817.225352\n",
      "INFO | epoch 22 (test) loss: 799.193820\n",
      "INFO | epoch 23 (  0%) loss: 780.139587\n",
      "INFO | epoch 23 ( 35%) loss: 817.592906\n",
      "INFO | epoch 23 ( 70%) loss: 820.921864\n",
      "INFO | epoch 23 (100%) loss: 819.257292\n",
      "INFO | epoch 23 (test) loss: 823.849185\n",
      "INFO | epoch 24 (  0%) loss: 1097.682739\n",
      "INFO | epoch 24 ( 35%) loss: 827.325419\n",
      "INFO | epoch 24 ( 70%) loss: 821.901930\n",
      "INFO | epoch 24 (100%) loss: 815.805639\n",
      "INFO | epoch 24 (test) loss: 805.714966\n",
      "INFO | epoch 25 (  0%) loss: 885.013916\n",
      "INFO | epoch 25 ( 35%) loss: 814.427485\n",
      "INFO | epoch 25 ( 70%) loss: 819.113601\n",
      "INFO | epoch 25 (100%) loss: 816.010899\n",
      "INFO | epoch 25 (test) loss: 799.186643\n",
      "INFO | epoch 26 (  0%) loss: 950.887878\n",
      "INFO | epoch 26 ( 35%) loss: 817.914420\n",
      "INFO | epoch 26 ( 70%) loss: 824.028669\n",
      "INFO | epoch 26 (100%) loss: 816.027923\n",
      "INFO | epoch 26 (test) loss: 798.499685\n",
      "INFO | epoch 27 (  0%) loss: 914.275635\n",
      "INFO | epoch 27 ( 35%) loss: 813.769305\n",
      "INFO | epoch 27 ( 70%) loss: 806.991529\n",
      "INFO | epoch 27 (100%) loss: 809.991406\n",
      "INFO | epoch 27 (test) loss: 792.162355\n",
      "INFO | epoch 28 (  0%) loss: 742.749268\n",
      "INFO | epoch 28 ( 35%) loss: 806.106952\n",
      "INFO | epoch 28 ( 70%) loss: 810.471651\n",
      "INFO | epoch 28 (100%) loss: 812.176868\n",
      "INFO | epoch 28 (test) loss: 789.896866\n",
      "INFO | epoch 29 (  0%) loss: 657.248230\n",
      "INFO | epoch 29 ( 35%) loss: 805.518321\n",
      "INFO | epoch 29 ( 70%) loss: 812.579182\n",
      "INFO | epoch 29 (100%) loss: 808.087312\n",
      "INFO | epoch 29 (test) loss: 797.596894\n",
      "INFO | epoch 30 (  0%) loss: 840.738220\n",
      "INFO | epoch 30 ( 35%) loss: 812.001507\n",
      "INFO | epoch 30 ( 70%) loss: 810.143655\n",
      "INFO | epoch 30 (100%) loss: 808.209139\n",
      "INFO | epoch 30 (test) loss: 805.923356\n",
      "INFO | epoch 31 (  0%) loss: 749.823853\n",
      "INFO | epoch 31 ( 35%) loss: 807.999019\n",
      "INFO | epoch 31 ( 70%) loss: 806.803911\n",
      "INFO | epoch 31 (100%) loss: 804.759411\n",
      "INFO | epoch 31 (test) loss: 787.218836\n",
      "INFO | epoch 32 (  0%) loss: 783.836975\n",
      "INFO | epoch 32 ( 35%) loss: 796.215063\n",
      "INFO | epoch 32 ( 70%) loss: 802.999535\n",
      "INFO | epoch 32 (100%) loss: 804.014939\n",
      "INFO | epoch 32 (test) loss: 795.915915\n",
      "INFO | epoch 33 (  0%) loss: 614.859375\n",
      "INFO | epoch 33 ( 35%) loss: 805.582717\n",
      "INFO | epoch 33 ( 70%) loss: 803.661629\n",
      "INFO | epoch 33 (100%) loss: 803.332285\n",
      "INFO | epoch 33 (test) loss: 791.335993\n",
      "INFO | epoch 34 (  0%) loss: 892.299927\n",
      "INFO | epoch 34 ( 35%) loss: 818.272017\n",
      "INFO | epoch 34 ( 70%) loss: 814.735713\n",
      "INFO | epoch 34 (100%) loss: 806.796650\n",
      "INFO | epoch 34 (test) loss: 792.002936\n",
      "INFO | epoch 35 (  0%) loss: 880.117188\n",
      "INFO | epoch 35 ( 35%) loss: 806.231221\n",
      "INFO | epoch 35 ( 70%) loss: 806.503713\n",
      "INFO | epoch 35 (100%) loss: 804.604013\n",
      "INFO | epoch 35 (test) loss: 788.914695\n",
      "INFO | epoch 36 (  0%) loss: 850.464661\n",
      "INFO | epoch 36 ( 35%) loss: 804.085116\n",
      "INFO | epoch 36 ( 70%) loss: 800.145834\n",
      "INFO | epoch 36 (100%) loss: 802.333379\n",
      "INFO | epoch 36 (test) loss: 782.219261\n",
      "INFO | epoch 37 (  0%) loss: 812.953979\n",
      "INFO | epoch 37 ( 35%) loss: 810.881858\n",
      "INFO | epoch 37 ( 70%) loss: 807.044189\n",
      "INFO | epoch 37 (100%) loss: 802.885007\n",
      "INFO | epoch 37 (test) loss: 784.703700\n",
      "INFO | epoch 38 (  0%) loss: 678.863403\n",
      "INFO | epoch 38 ( 35%) loss: 793.632602\n",
      "INFO | epoch 38 ( 70%) loss: 803.608649\n",
      "INFO | epoch 38 (100%) loss: 805.250032\n",
      "INFO | epoch 38 (test) loss: 788.974273\n",
      "INFO | epoch 39 (  0%) loss: 1077.878906\n",
      "INFO | epoch 39 ( 35%) loss: 803.452859\n",
      "INFO | epoch 39 ( 70%) loss: 803.102485\n",
      "INFO | epoch 39 (100%) loss: 802.382738\n",
      "INFO | epoch 39 (test) loss: 784.053399\n",
      "INFO | epoch 40 (  0%) loss: 860.888550\n",
      "INFO | epoch 40 ( 35%) loss: 795.907720\n",
      "INFO | epoch 40 ( 70%) loss: 804.938492\n",
      "INFO | epoch 40 (100%) loss: 801.413536\n",
      "INFO | epoch 40 (test) loss: 793.310874\n",
      "INFO | epoch 41 (  0%) loss: 731.401733\n",
      "INFO | epoch 41 ( 35%) loss: 801.590484\n",
      "INFO | epoch 41 ( 70%) loss: 802.552960\n",
      "INFO | epoch 41 (100%) loss: 797.341035\n",
      "INFO | epoch 41 (test) loss: 779.239886\n",
      "INFO | epoch 42 (  0%) loss: 683.874268\n",
      "INFO | epoch 42 ( 35%) loss: 803.583940\n",
      "INFO | epoch 42 ( 70%) loss: 793.140141\n",
      "INFO | epoch 42 (100%) loss: 796.342542\n",
      "INFO | epoch 42 (test) loss: 782.192867\n",
      "INFO | epoch 43 (  0%) loss: 615.624084\n",
      "INFO | epoch 43 ( 35%) loss: 791.771106\n",
      "INFO | epoch 43 ( 70%) loss: 795.797311\n",
      "INFO | epoch 43 (100%) loss: 796.140568\n",
      "INFO | epoch 43 (test) loss: 779.825410\n",
      "INFO | epoch 44 (  0%) loss: 961.480286\n",
      "INFO | epoch 44 ( 35%) loss: 801.388453\n",
      "INFO | epoch 44 ( 70%) loss: 800.630997\n",
      "INFO | epoch 44 (100%) loss: 797.634728\n",
      "INFO | epoch 44 (test) loss: 777.532871\n",
      "INFO | epoch 45 (  0%) loss: 592.317627\n",
      "INFO | epoch 45 ( 35%) loss: 793.072481\n",
      "INFO | epoch 45 ( 70%) loss: 795.076711\n",
      "INFO | epoch 45 (100%) loss: 795.362398\n",
      "INFO | epoch 45 (test) loss: 783.800032\n",
      "INFO | epoch 46 (  0%) loss: 716.277771\n",
      "INFO | epoch 46 ( 35%) loss: 791.535169\n",
      "INFO | epoch 46 ( 70%) loss: 800.678987\n",
      "INFO | epoch 46 (100%) loss: 792.728593\n",
      "INFO | epoch 46 (test) loss: 775.748652\n",
      "INFO | epoch 47 (  0%) loss: 752.001404\n",
      "INFO | epoch 47 ( 35%) loss: 795.745769\n",
      "INFO | epoch 47 ( 70%) loss: 798.404007\n",
      "INFO | epoch 47 (100%) loss: 794.000502\n",
      "INFO | epoch 47 (test) loss: 782.722558\n",
      "INFO | epoch 48 (  0%) loss: 791.233215\n",
      "INFO | epoch 48 ( 35%) loss: 797.346762\n",
      "INFO | epoch 48 ( 70%) loss: 799.595231\n",
      "INFO | epoch 48 (100%) loss: 796.049287\n",
      "INFO | epoch 48 (test) loss: 776.493297\n",
      "INFO | epoch 49 (  0%) loss: 863.057983\n",
      "INFO | epoch 49 ( 35%) loss: 795.051767\n",
      "INFO | epoch 49 ( 70%) loss: 796.276947\n",
      "INFO | epoch 49 (100%) loss: 794.053579\n",
      "INFO | epoch 49 (test) loss: 807.721003\n",
      "INFO | epoch 50 (  0%) loss: 987.322510\n",
      "INFO | epoch 50 ( 35%) loss: 774.830443\n",
      "INFO | epoch 50 ( 70%) loss: 794.759671\n",
      "INFO | epoch 50 (100%) loss: 793.286827\n",
      "INFO | epoch 50 (test) loss: 775.471688\n"
     ]
    }
   ],
   "source": [
    "input_dim = 222\n",
    "hidden_dims = (64, 32)\n",
    "latent_dim = 20\n",
    "classes_dim = len(dataset._label_keys)  # 92\n",
    "\n",
    "model = M.vae.LabeledVAE(input_dim, hidden_dims, latent_dim, classes_dim)\n",
    "criterion = M.vae.Loss()\n",
    "\n",
    "\n",
    "train_losses, test_losses = M.vae.train(\n",
    "    device, model, criterion, train_loader, test_loader,\n",
    "    learn_rate=LR, epochs=EPOCHS, with_labels=True\n",
    ")\n",
    "\n",
    "M.save(SAVE_NAME, model, train_losses, test_losses)\n"
   ]
  },
  {
   "cell_type": "markdown",
   "metadata": {},
   "source": [
    "# Results"
   ]
  },
  {
   "cell_type": "code",
   "execution_count": 9,
   "metadata": {},
   "outputs": [
    {
     "name": "stdout",
     "output_type": "stream",
     "text": [
      "torch.Size([1, 222, 24, 24])\n",
      "torch.Size([222, 24, 24])\n",
      "torch.Size([4, 24, 24])\n"
     ]
    },
    {
     "data": {
      "image/png": "[encoded data removed]",
      "text/plain": [
       "<Figure size 640x480 with 1 Axes>"
      ]
     },
     "metadata": {},
     "output_type": "display_data"
    }
   ],
   "source": [
    "\n",
    "z = torch.randn(1, latent_dim + classes_dim).to(device)\n",
    "\n",
    "with torch.no_grad():\n",
    "    model.eval()\n",
    "    generated_image = model.decode(z)\n",
    "    print(generated_image.shape)\n",
    "\n",
    "\n",
    "decoded_one_hot = generated_image[0]\n",
    "print(decoded_one_hot.shape)\n",
    "\n",
    "decoded = DS.one_hot_to_rgba(decoded_one_hot, mapper)\n",
    "print(decoded.shape)\n",
    "\n",
    "plt.imshow(transforms.functional.to_pil_image(decoded))\n",
    "plt.axis('off')\n",
    "plt.show()\n"
   ]
  },
  {
   "cell_type": "code",
   "execution_count": 31,
   "metadata": {},
   "outputs": [
    {
     "name": "stdout",
     "output_type": "stream",
     "text": [
      "Features: ['male', 'muttonchops', 'mohawkDark']\n"
     ]
    }
   ],
   "source": [
    "import random\n",
    "\n",
    "label_idx = int(random.random() * len(dataset))\n",
    "_, features = dataset[label_idx]\n",
    "\n",
    "enabled_features = [k for k,v in zip(dataset._label_keys, features) if v.item() == 1]\n",
    "print(f\"Features: {enabled_features}\")\n"
   ]
  },
  {
   "cell_type": "code",
   "execution_count": 32,
   "id": "38c47d81",
   "metadata": {},
   "outputs": [
    {
     "name": "stdout",
     "output_type": "stream",
     "text": [
      "torch.Size([1, 222, 24, 24])\n",
      "torch.Size([222, 24, 24])\n",
      "torch.Size([4, 24, 24])\n"
     ]
    },
    {
     "data": {
      "image/png": "[encoded data removed]",
      "text/plain": [
       "<Figure size 640x480 with 1 Axes>"
      ]
     },
     "metadata": {},
     "output_type": "display_data"
    }
   ],
   "source": [
    "# Generate new image\n",
    "\n",
    "z = torch.randn(1, latent_dim).to(device)\n",
    "z = torch.concat([z, features.unsqueeze(0)], dim=1)\n",
    "\n",
    "with torch.no_grad():\n",
    "    model.eval()\n",
    "    generated_image = model.decode(z)\n",
    "    print(generated_image.shape)\n",
    "\n",
    "\n",
    "decoded_one_hot = generated_image[0]\n",
    "print(decoded_one_hot.shape)\n",
    "\n",
    "decoded = DS.one_hot_to_rgba(decoded_one_hot, mapper)\n",
    "print(decoded.shape)\n",
    "\n",
    "plt.imshow(transforms.functional.to_pil_image(decoded))\n",
    "plt.axis('off')\n",
    "plt.show()\n"
   ]
  },
  {
   "cell_type": "code",
   "execution_count": 14,
   "metadata": {},
   "outputs": [
    {
     "data": {
      "image/png": "[encoded data removed]",
      "text/plain": [
       "<Figure size 640x480 with 1 Axes>"
      ]
     },
     "metadata": {},
     "output_type": "display_data"
    }
   ],
   "source": [
    "punk = I.get_punk_tensor(1000)\n",
    "\n",
    "plt.imshow(transforms.functional.to_pil_image(punk))\n",
    "plt.show()\n",
    "\n"
   ]
  },
  {
   "cell_type": "code",
   "execution_count": 15,
   "metadata": {},
   "outputs": [],
   "source": [
    "import json\n",
    "ps_labels = json.load(open(\"../../cpunks-10k/cpunks/data/punks.json\"))\n",
    "punk_labels = torch.tensor([v for _,v in ps_labels[\"1000\"].items()])\n",
    "punk_labels = punk_labels.unsqueeze(0)\n",
    "punk_labels = punk_labels.to(device)\n"
   ]
  },
  {
   "cell_type": "code",
   "execution_count": 16,
   "metadata": {},
   "outputs": [
    {
     "name": "stdout",
     "output_type": "stream",
     "text": [
      "torch.Size([1, 222, 24, 24])\n"
     ]
    },
    {
     "data": {
      "image/png": "[encoded data removed]",
      "text/plain": [
       "<Figure size 640x480 with 1 Axes>"
      ]
     },
     "metadata": {},
     "output_type": "display_data"
    }
   ],
   "source": [
    "punk = I.get_punk_tensor(1000)\n",
    "\n",
    "p = DS.rgba_to_one_hot(punk, mapper)\n",
    "p = p.unsqueeze(0)\n",
    "p = p.to(device)\n",
    "\n",
    "model.eval()\n",
    "with torch.no_grad():\n",
    "    reconstructed, mu, logcar = model.forward(p, punk_labels)\n",
    "    print(reconstructed.shape)\n",
    "\n",
    "recon_punk = reconstructed[0].cpu()\n",
    "recon_punk = DS.one_hot_to_rgba(recon_punk, mapper)\n",
    "plt.imshow(transforms.functional.to_pil_image(recon_punk.cpu()))\n",
    "plt.show()\n"
   ]
  },
  {
   "cell_type": "markdown",
   "id": "3f5402ce",
   "metadata": {},
   "source": [
    "## Losses"
   ]
  },
  {
   "cell_type": "code",
   "execution_count": 17,
   "id": "9960007e",
   "metadata": {},
   "outputs": [
    {
     "data": {
      "text/plain": [
       "<function matplotlib.pyplot.show(close=None, block=None)>"
      ]
     },
     "execution_count": 17,
     "metadata": {},
     "output_type": "execute_result"
    },
    {
     "data": {
      "image/png": "[encoded data removed]",
      "text/plain": [
       "<Figure size 640x480 with 1 Axes>"
      ]
     },
     "metadata": {},
     "output_type": "display_data"
    }
   ],
   "source": [
    "plt.title(\"Train & Test loss\")\n",
    "plt.plot(train_losses, label='train loss')\n",
    "plt.plot(test_losses, label='test loss')\n",
    "plt.legend()\n",
    "plt.show\n"
   ]
  },
  {
   "cell_type": "code",
   "execution_count": 12,
   "id": "5ba01be4",
   "metadata": {},
   "outputs": [
    {
     "data": {
      "text/plain": [
       "[30573.260350004155,\n",
       " 5697.556796459441,\n",
       " 4882.752680352393,\n",
       " 4371.2769701802135,\n",
       " 4057.198269674964,\n",
       " 3817.647393625679,\n",
       " 3317.664884959552,\n",
       " 2469.5850553039118,\n",
       " 2135.465425640133,\n",
       " 1850.9470607676406,\n",
       " 1759.9394449004044,\n",
       " 1725.0646092840966,\n",
       " 1697.4676818847656,\n",
       " 1687.3448147604652,\n",
       " 1663.6082692247755,\n",
       " 1662.413048602165,\n",
       " 1656.1682109426945,\n",
       " 1649.3506967531027,\n",
       " 1644.6739481391637,\n",
       " 1644.4879110349832,\n",
       " 1635.2827425476507,\n",
       " 1634.4507044798938,\n",
       " 1638.5145845886664,\n",
       " 1631.61127856099,\n",
       " 1632.0217974507216,\n",
       " 1632.0558463022219,\n",
       " 1619.982811244667,\n",
       " 1624.3537363904588,\n",
       " 1616.1746239628353,\n",
       " 1616.4182771723322,\n",
       " 1609.5188225279462,\n",
       " 1608.0298785486966,\n",
       " 1606.6645706393194,\n",
       " 1613.5932991623033,\n",
       " 1609.2080250192196,\n",
       " 1604.6667576783093,\n",
       " 1605.770013254585,\n",
       " 1610.5000641734887,\n",
       " 1604.7654754422235,\n",
       " 1602.8270726846465,\n",
       " 1594.682070035461,\n",
       " 1592.6850839168467,\n",
       " 1592.2811364789382,\n",
       " 1595.269455064273,\n",
       " 1590.7247967009848,\n",
       " 1585.4571862186947,\n",
       " 1588.0010041581822,\n",
       " 1592.098573617056,\n",
       " 1588.1071572811045,\n",
       " 1586.5736536337129]"
      ]
     },
     "execution_count": 12,
     "metadata": {},
     "output_type": "execute_result"
    }
   ],
   "source": [
    "train_losses\n"
   ]
  },
  {
   "cell_type": "code",
   "execution_count": 13,
   "id": "3d96dc46",
   "metadata": {},
   "outputs": [
    {
     "data": {
      "text/plain": [
       "[6023.467998504639,\n",
       " 5171.059440612793,\n",
       " 4516.306079864502,\n",
       " 4147.726764678955,\n",
       " 3870.5424613952637,\n",
       " 3715.3104858398438,\n",
       " 2731.510732650757,\n",
       " 2253.013219833374,\n",
       " 1930.4830951690674,\n",
       " 1759.9115056991577,\n",
       " 1708.724820137024,\n",
       " 1674.341097831726,\n",
       " 1657.233413696289,\n",
       " 1645.8657703399658,\n",
       " 1636.0715827941895,\n",
       " 1625.0347919464111,\n",
       " 1636.626202583313,\n",
       " 1612.6365537643433,\n",
       " 1606.5855598449707,\n",
       " 1613.7549238204956,\n",
       " 1619.0354499816895,\n",
       " 1598.3876395225525,\n",
       " 1647.698369026184,\n",
       " 1611.4299325942993,\n",
       " 1598.373285293579,\n",
       " 1596.9993705749512,\n",
       " 1584.324709892273,\n",
       " 1579.7937316894531,\n",
       " 1595.193788766861,\n",
       " 1611.8467111587524,\n",
       " 1574.4376726150513,\n",
       " 1591.8318309783936,\n",
       " 1582.6719856262207,\n",
       " 1584.0058727264404,\n",
       " 1577.8293905258179,\n",
       " 1564.4385213851929,\n",
       " 1569.4074001312256,\n",
       " 1577.948546409607,\n",
       " 1568.1067972183228,\n",
       " 1586.6217470169067,\n",
       " 1558.4797716140747,\n",
       " 1564.3857345581055,\n",
       " 1559.6508197784424,\n",
       " 1555.0657424926758,\n",
       " 1567.6000633239746,\n",
       " 1551.4973034858704,\n",
       " 1565.4451160430908,\n",
       " 1552.98659324646,\n",
       " 1615.4420051574707,\n",
       " 1550.9433765411377]"
      ]
     },
     "execution_count": 13,
     "metadata": {},
     "output_type": "execute_result"
    }
   ],
   "source": [
    "test_losses\n"
   ]
  }
 ],
 "metadata": {
  "kernelspec": {
   "display_name": "Python 3 (ipykernel)",
   "language": "python",
   "name": "python3"
  },
  "language_info": {
   "codemirror_mode": {
    "name": "ipython",
    "version": 3
   },
   "file_extension": ".py",
   "mimetype": "text/x-python",
   "name": "python",
   "nbconvert_exporter": "python",
   "pygments_lexer": "ipython3",
   "version": "3.11.6"
  }
 },
 "nbformat": 4,
 "nbformat_minor": 5
}
