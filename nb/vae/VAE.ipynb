{
 "cells": [
  {
   "cell_type": "markdown",
   "metadata": {},
   "source": [
    "# Variational Autoencoder"
   ]
  },
  {
   "cell_type": "code",
   "execution_count": 1,
   "id": "19d0f047",
   "metadata": {},
   "outputs": [],
   "source": [
    "import torch\n",
    "from torchvision import transforms\n",
    "from torch.utils.data import DataLoader, SubsetRandomSampler\n",
    "import matplotlib.pyplot as plt\n",
    "%matplotlib inline\n"
   ]
  },
  {
   "cell_type": "code",
   "execution_count": 2,
   "metadata": {},
   "outputs": [],
   "source": [
    "# Load pallets library from project root\n",
    "import sys, os\n",
    "sys.path.append(os.path.abspath(os.path.join(os.getcwd(), '..', '..')))\n",
    "\n",
    "from pallets import (\n",
    "    images as I,\n",
    "    datasets as DS,\n",
    "    models as M,\n",
    "    logging as L\n",
    ")\n"
   ]
  },
  {
   "cell_type": "markdown",
   "id": "bb153804",
   "metadata": {},
   "source": [
    "# Settings"
   ]
  },
  {
   "cell_type": "code",
   "execution_count": null,
   "id": "21b9150c",
   "metadata": {},
   "outputs": [],
   "source": [
    "SAVE_NAME = 'vae'"
   ]
  },
  {
   "cell_type": "code",
   "execution_count": null,
   "id": "79c2b692",
   "metadata": {},
   "outputs": [],
   "source": [
    "USE_GPU = True\n",
    "LOG_LEVEL = 'INFO'\n",
    "LABELS_FILE = 'pallets_labels.json'\n",
    "\n",
    "TEST_SIZE = 1000\n",
    "EPOCHS = 50\n",
    "LR = 1e-03\n",
    "BATCH_SIZE = 32"
   ]
  },
  {
   "cell_type": "code",
   "execution_count": 3,
   "metadata": {},
   "outputs": [
    {
     "data": {
      "text/plain": [
       "<Logger pallets (INFO)>"
      ]
     },
     "execution_count": 3,
     "metadata": {},
     "output_type": "execute_result"
    }
   ],
   "source": [
    "# To GPU, or not to GPU\n",
    "device = M.get_device(require_gpu=USE_GPU)\n",
    "\n",
    "# Logging\n",
    "L.init_logger(level=LOG_LEVEL, notebook=True)\n"
   ]
  },
  {
   "cell_type": "markdown",
   "metadata": {},
   "source": [
    "# Dataset"
   ]
  },
  {
   "cell_type": "code",
   "execution_count": 4,
   "id": "35fef1c0",
   "metadata": {},
   "outputs": [
    {
     "name": "stdout",
     "output_type": "stream",
     "text": [
      "INFO | loading punk images\n",
      "INFO | - image 0\n",
      "INFO | - image 1000\n",
      "INFO | - image 2000\n",
      "INFO | - image 3000\n",
      "INFO | - image 4000\n",
      "INFO | - image 5000\n",
      "INFO | - image 6000\n",
      "INFO | - image 7000\n",
      "INFO | - image 8000\n",
      "INFO | - image 9000\n",
      "INFO | punk images complete\n",
      "INFO | loading punk labels: ../../cpunks-10k/cpunks/data/punks.json\n"
     ]
    }
   ],
   "source": [
    "all_colors = I.get_punk_colors()\n",
    "mapper = DS.ColorOneHotMapper(all_colors)\n",
    "dataset = DS.OneHotCPunksDataset(\n",
    "    mapper, labels_file=LABELS_FILE, test_size=TEST_SIZE\n",
    ")\n",
    "\n",
    "# Uncomment to put entire dataset in GPU RAM\n",
    "# dataset = DS.FastOneHotCPunksDataset(\n",
    "#     device, mapper, labels_file=LABELS_FILE, test_size=TEST_SIZE\n",
    "# )"
   ]
  },
  {
   "cell_type": "code",
   "execution_count": null,
   "id": "ffdf1379",
   "metadata": {},
   "outputs": [],
   "source": [
    "train_sampler = SubsetRandomSampler(dataset.train_idx)\n",
    "test_sampler = SubsetRandomSampler(dataset.test_idx)\n",
    "\n",
    "train_loader = DataLoader(dataset, batch_size=BATCH_SIZE, sampler=train_sampler)\n",
    "test_loader = DataLoader(dataset, batch_size=BATCH_SIZE, sampler=test_sampler)"
   ]
  },
  {
   "cell_type": "markdown",
   "id": "b39e0222",
   "metadata": {},
   "source": [
    "# Training"
   ]
  },
  {
   "cell_type": "code",
   "execution_count": 6,
   "id": "7e4d5fd0",
   "metadata": {},
   "outputs": [
    {
     "name": "stdout",
     "output_type": "stream",
     "text": [
      "INFO | model: pallets.models.vae.VAE\n",
      "INFO | criterion: pallets.models.vae.Loss\n",
      "INFO | learn rate: 0.001\n",
      "INFO | epochs: 50\n",
      "INFO | epoch 1 (  0%) loss: 511519.656250\n",
      "INFO | epoch 1 ( 35%) loss: 38855.819495\n",
      "INFO | epoch 1 ( 70%) loss: 21744.505008\n",
      "INFO | epoch 1 (100%) loss: 16595.956616\n",
      "INFO | epoch 1 (test) loss: 3770.168264\n",
      "INFO | epoch 2 (  0%) loss: 3568.685303\n",
      "INFO | epoch 2 ( 35%) loss: 3827.919574\n",
      "INFO | epoch 2 ( 70%) loss: 3830.832894\n",
      "INFO | epoch 2 (100%) loss: 3812.020109\n",
      "INFO | epoch 2 (test) loss: 3743.992252\n",
      "INFO | epoch 3 (  0%) loss: 3987.702881\n",
      "INFO | epoch 3 ( 35%) loss: 3813.149726\n",
      "INFO | epoch 3 ( 70%) loss: 3808.768013\n",
      "INFO | epoch 3 (100%) loss: 3794.421789\n",
      "INFO | epoch 3 (test) loss: 3727.764042\n",
      "INFO | epoch 4 (  0%) loss: 3760.359375\n",
      "INFO | epoch 4 ( 35%) loss: 3783.482637\n",
      "INFO | epoch 4 ( 70%) loss: 3781.303460\n",
      "INFO | epoch 4 (100%) loss: 3780.405223\n",
      "INFO | epoch 4 (test) loss: 3716.228521\n",
      "INFO | epoch 5 (  0%) loss: 3726.244629\n",
      "INFO | epoch 5 ( 35%) loss: 3781.888152\n",
      "INFO | epoch 5 ( 70%) loss: 3775.461663\n",
      "INFO | epoch 5 (100%) loss: 3772.795081\n",
      "INFO | epoch 5 (test) loss: 3716.556288\n",
      "INFO | epoch 6 (  0%) loss: 3750.631592\n",
      "INFO | epoch 6 ( 35%) loss: 3786.790759\n",
      "INFO | epoch 6 ( 70%) loss: 3778.542397\n",
      "INFO | epoch 6 (100%) loss: 3765.852817\n",
      "INFO | epoch 6 (test) loss: 3709.238672\n",
      "INFO | epoch 7 (  0%) loss: 3687.064697\n",
      "INFO | epoch 7 ( 35%) loss: 3768.205472\n",
      "INFO | epoch 7 ( 70%) loss: 3766.073676\n",
      "INFO | epoch 7 (100%) loss: 3751.139187\n",
      "INFO | epoch 7 (test) loss: 3688.703896\n",
      "INFO | epoch 8 (  0%) loss: 3631.868652\n",
      "INFO | epoch 8 ( 35%) loss: 3732.518514\n",
      "INFO | epoch 8 ( 70%) loss: 3734.520340\n",
      "INFO | epoch 8 (100%) loss: 3715.893109\n",
      "INFO | epoch 8 (test) loss: 3654.435219\n",
      "INFO | epoch 9 (  0%) loss: 3658.678467\n",
      "INFO | epoch 9 ( 35%) loss: 3708.158643\n",
      "INFO | epoch 9 ( 70%) loss: 3708.493952\n",
      "INFO | epoch 9 (100%) loss: 3704.436763\n",
      "INFO | epoch 9 (test) loss: 3646.338490\n",
      "INFO | epoch 10 (  0%) loss: 3658.140625\n",
      "INFO | epoch 10 ( 35%) loss: 3724.280950\n",
      "INFO | epoch 10 ( 70%) loss: 3716.874288\n",
      "INFO | epoch 10 (100%) loss: 3698.523171\n",
      "INFO | epoch 10 (test) loss: 3641.192560\n",
      "INFO | epoch 11 (  0%) loss: 3823.015625\n",
      "INFO | epoch 11 ( 35%) loss: 3723.125566\n",
      "INFO | epoch 11 ( 70%) loss: 3712.642952\n",
      "INFO | epoch 11 (100%) loss: 3695.324018\n",
      "INFO | epoch 11 (test) loss: 3636.890541\n",
      "INFO | epoch 12 (  0%) loss: 3679.922852\n",
      "INFO | epoch 12 ( 35%) loss: 3694.118273\n",
      "INFO | epoch 12 ( 70%) loss: 3699.625862\n",
      "INFO | epoch 12 (100%) loss: 3690.217763\n",
      "INFO | epoch 12 (test) loss: 3633.208645\n",
      "INFO | epoch 13 (  0%) loss: 3867.263916\n",
      "INFO | epoch 13 ( 35%) loss: 3715.247300\n",
      "INFO | epoch 13 ( 70%) loss: 3708.789740\n",
      "INFO | epoch 13 (100%) loss: 3684.555378\n",
      "INFO | epoch 13 (test) loss: 3606.667202\n",
      "INFO | epoch 14 (  0%) loss: 3680.900146\n",
      "INFO | epoch 14 ( 35%) loss: 3663.466190\n",
      "INFO | epoch 14 ( 70%) loss: 3653.793327\n",
      "INFO | epoch 14 (100%) loss: 3647.603577\n",
      "INFO | epoch 14 (test) loss: 3585.447178\n",
      "INFO | epoch 15 (  0%) loss: 3610.657959\n",
      "INFO | epoch 15 ( 35%) loss: 3652.148570\n",
      "INFO | epoch 15 ( 70%) loss: 3646.307180\n",
      "INFO | epoch 15 (100%) loss: 3631.753216\n",
      "INFO | epoch 15 (test) loss: 3572.005152\n",
      "INFO | epoch 16 (  0%) loss: 3419.394287\n",
      "INFO | epoch 16 ( 35%) loss: 3625.985173\n",
      "INFO | epoch 16 ( 70%) loss: 3632.954689\n",
      "INFO | epoch 16 (100%) loss: 3621.925103\n",
      "INFO | epoch 16 (test) loss: 3562.149586\n",
      "INFO | epoch 17 (  0%) loss: 3634.764893\n",
      "INFO | epoch 17 ( 35%) loss: 3618.948617\n",
      "INFO | epoch 17 ( 70%) loss: 3616.951946\n",
      "INFO | epoch 17 (100%) loss: 3607.110633\n",
      "INFO | epoch 17 (test) loss: 3551.944857\n",
      "INFO | epoch 18 (  0%) loss: 3662.056396\n",
      "INFO | epoch 18 ( 35%) loss: 3616.109878\n",
      "INFO | epoch 18 ( 70%) loss: 3613.909177\n",
      "INFO | epoch 18 (100%) loss: 3598.950981\n",
      "INFO | epoch 18 (test) loss: 3545.486568\n",
      "INFO | epoch 19 (  0%) loss: 3542.608887\n",
      "INFO | epoch 19 ( 35%) loss: 3596.172956\n",
      "INFO | epoch 19 ( 70%) loss: 3596.924118\n",
      "INFO | epoch 19 (100%) loss: 3590.603400\n",
      "INFO | epoch 19 (test) loss: 3537.907904\n",
      "INFO | epoch 20 (  0%) loss: 3573.164062\n",
      "INFO | epoch 20 ( 35%) loss: 3589.731934\n",
      "INFO | epoch 20 ( 70%) loss: 3598.975311\n",
      "INFO | epoch 20 (100%) loss: 3588.910459\n",
      "INFO | epoch 20 (test) loss: 3535.713671\n",
      "INFO | epoch 21 (  0%) loss: 3812.026855\n",
      "INFO | epoch 21 ( 35%) loss: 3586.750515\n",
      "INFO | epoch 21 ( 70%) loss: 3591.839618\n",
      "INFO | epoch 21 (100%) loss: 3580.448951\n",
      "INFO | epoch 21 (test) loss: 3527.628407\n",
      "INFO | epoch 22 (  0%) loss: 3615.011963\n",
      "INFO | epoch 22 ( 35%) loss: 3581.283856\n",
      "INFO | epoch 22 ( 70%) loss: 3581.931263\n",
      "INFO | epoch 22 (100%) loss: 3573.400502\n",
      "INFO | epoch 22 (test) loss: 3518.325073\n",
      "INFO | epoch 23 (  0%) loss: 3429.584229\n",
      "INFO | epoch 23 ( 35%) loss: 3574.272268\n",
      "INFO | epoch 23 ( 70%) loss: 3585.021967\n",
      "INFO | epoch 23 (100%) loss: 3568.855801\n",
      "INFO | epoch 23 (test) loss: 3517.539637\n",
      "INFO | epoch 24 (  0%) loss: 3595.724365\n",
      "INFO | epoch 24 ( 35%) loss: 3579.347927\n",
      "INFO | epoch 24 ( 70%) loss: 3570.819612\n",
      "INFO | epoch 24 (100%) loss: 3564.621166\n",
      "INFO | epoch 24 (test) loss: 3511.117807\n",
      "INFO | epoch 25 (  0%) loss: 3556.750000\n",
      "INFO | epoch 25 ( 35%) loss: 3578.878865\n",
      "INFO | epoch 25 ( 70%) loss: 3573.023891\n",
      "INFO | epoch 25 (100%) loss: 3560.776984\n",
      "INFO | epoch 25 (test) loss: 3544.042900\n",
      "INFO | epoch 26 (  0%) loss: 3611.567139\n",
      "INFO | epoch 26 ( 35%) loss: 3571.477435\n",
      "INFO | epoch 26 ( 70%) loss: 3568.759823\n",
      "INFO | epoch 26 (100%) loss: 3556.889022\n",
      "INFO | epoch 26 (test) loss: 3500.933109\n",
      "INFO | epoch 27 (  0%) loss: 3635.275391\n",
      "INFO | epoch 27 ( 35%) loss: 3553.045178\n",
      "INFO | epoch 27 ( 70%) loss: 3560.539071\n",
      "INFO | epoch 27 (100%) loss: 3552.444634\n",
      "INFO | epoch 27 (test) loss: 3505.119917\n",
      "INFO | epoch 28 (  0%) loss: 3762.137695\n",
      "INFO | epoch 28 ( 35%) loss: 3560.948581\n",
      "INFO | epoch 28 ( 70%) loss: 3558.199813\n",
      "INFO | epoch 28 (100%) loss: 3547.887254\n",
      "INFO | epoch 28 (test) loss: 3497.509497\n",
      "INFO | epoch 29 (  0%) loss: 3431.547607\n",
      "INFO | epoch 29 ( 35%) loss: 3554.273979\n",
      "INFO | epoch 29 ( 70%) loss: 3551.828329\n",
      "INFO | epoch 29 (100%) loss: 3545.060214\n",
      "INFO | epoch 29 (test) loss: 3491.621908\n",
      "INFO | epoch 30 (  0%) loss: 3613.668457\n",
      "INFO | epoch 30 ( 35%) loss: 3556.120528\n",
      "INFO | epoch 30 ( 70%) loss: 3552.726532\n",
      "INFO | epoch 30 (100%) loss: 3539.659315\n",
      "INFO | epoch 30 (test) loss: 3485.709846\n",
      "INFO | epoch 31 (  0%) loss: 3620.184814\n",
      "INFO | epoch 31 ( 35%) loss: 3544.790975\n",
      "INFO | epoch 31 ( 70%) loss: 3527.328070\n",
      "INFO | epoch 31 (100%) loss: 3338.366215\n",
      "INFO | epoch 31 (test) loss: 2751.852015\n",
      "INFO | epoch 32 (  0%) loss: 2707.874268\n",
      "INFO | epoch 32 ( 35%) loss: 2730.777223\n",
      "INFO | epoch 32 ( 70%) loss: 2700.975407\n",
      "INFO | epoch 32 (100%) loss: 2670.630445\n",
      "INFO | epoch 32 (test) loss: 2586.734917\n",
      "INFO | epoch 33 (  0%) loss: 2619.152588\n",
      "INFO | epoch 33 ( 35%) loss: 2606.990822\n",
      "INFO | epoch 33 ( 70%) loss: 2588.103466\n",
      "INFO | epoch 33 (100%) loss: 2568.682607\n",
      "INFO | epoch 33 (test) loss: 2486.887262\n",
      "INFO | epoch 34 (  0%) loss: 2489.912354\n",
      "INFO | epoch 34 ( 35%) loss: 2503.971593\n",
      "INFO | epoch 34 ( 70%) loss: 2494.676817\n",
      "INFO | epoch 34 (100%) loss: 2433.757193\n",
      "INFO | epoch 34 (test) loss: 2193.670286\n",
      "INFO | epoch 35 (  0%) loss: 2255.242676\n",
      "INFO | epoch 35 ( 35%) loss: 2191.101446\n",
      "INFO | epoch 35 ( 70%) loss: 2169.175886\n",
      "INFO | epoch 35 (100%) loss: 2141.409150\n",
      "INFO | epoch 35 (test) loss: 2075.696115\n",
      "INFO | epoch 36 (  0%) loss: 2048.219971\n",
      "INFO | epoch 36 ( 35%) loss: 2046.898961\n",
      "INFO | epoch 36 ( 70%) loss: 2037.485982\n",
      "INFO | epoch 36 (100%) loss: 2010.672469\n",
      "INFO | epoch 36 (test) loss: 1962.733866\n",
      "INFO | epoch 37 (  0%) loss: 2085.792480\n",
      "INFO | epoch 37 ( 35%) loss: 1953.478391\n",
      "INFO | epoch 37 ( 70%) loss: 1948.864724\n",
      "INFO | epoch 37 (100%) loss: 1937.813411\n",
      "INFO | epoch 37 (test) loss: 1901.897085\n",
      "INFO | epoch 38 (  0%) loss: 1830.692017\n",
      "INFO | epoch 38 ( 35%) loss: 1912.845982\n",
      "INFO | epoch 38 ( 70%) loss: 1914.006156\n",
      "INFO | epoch 38 (100%) loss: 1898.672651\n",
      "INFO | epoch 38 (test) loss: 1855.994287\n",
      "INFO | epoch 39 (  0%) loss: 2106.423340\n",
      "INFO | epoch 39 ( 35%) loss: 1882.058099\n",
      "INFO | epoch 39 ( 70%) loss: 1870.422049\n",
      "INFO | epoch 39 (100%) loss: 1863.861751\n",
      "INFO | epoch 39 (test) loss: 1836.739172\n",
      "INFO | epoch 40 (  0%) loss: 1842.494995\n",
      "INFO | epoch 40 ( 35%) loss: 1861.532095\n",
      "INFO | epoch 40 ( 70%) loss: 1861.550683\n",
      "INFO | epoch 40 (100%) loss: 1849.981856\n",
      "INFO | epoch 40 (test) loss: 1822.562250\n",
      "INFO | epoch 41 (  0%) loss: 1911.673706\n",
      "INFO | epoch 41 ( 35%) loss: 1857.672412\n",
      "INFO | epoch 41 ( 70%) loss: 1844.016416\n",
      "INFO | epoch 41 (100%) loss: 1835.962162\n",
      "INFO | epoch 41 (test) loss: 1810.183741\n",
      "INFO | epoch 42 (  0%) loss: 1875.126587\n",
      "INFO | epoch 42 ( 35%) loss: 1831.950698\n",
      "INFO | epoch 42 ( 70%) loss: 1835.758834\n",
      "INFO | epoch 42 (100%) loss: 1829.158414\n",
      "INFO | epoch 42 (test) loss: 1793.644449\n",
      "INFO | epoch 43 (  0%) loss: 1893.286865\n",
      "INFO | epoch 43 ( 35%) loss: 1819.881133\n",
      "INFO | epoch 43 ( 70%) loss: 1814.324598\n",
      "INFO | epoch 43 (100%) loss: 1810.724811\n",
      "INFO | epoch 43 (test) loss: 1785.286047\n",
      "INFO | epoch 44 (  0%) loss: 1712.848267\n",
      "INFO | epoch 44 ( 35%) loss: 1822.492955\n",
      "INFO | epoch 44 ( 70%) loss: 1810.485997\n",
      "INFO | epoch 44 (100%) loss: 1807.709642\n",
      "INFO | epoch 44 (test) loss: 1784.284565\n",
      "INFO | epoch 45 (  0%) loss: 1836.268311\n",
      "INFO | epoch 45 ( 35%) loss: 1798.403401\n",
      "INFO | epoch 45 ( 70%) loss: 1811.378808\n",
      "INFO | epoch 45 (100%) loss: 1802.937901\n",
      "INFO | epoch 45 (test) loss: 1775.801874\n",
      "INFO | epoch 46 (  0%) loss: 1715.732056\n",
      "INFO | epoch 46 ( 35%) loss: 1818.063686\n",
      "INFO | epoch 46 ( 70%) loss: 1812.956794\n",
      "INFO | epoch 46 (100%) loss: 1802.094234\n",
      "INFO | epoch 46 (test) loss: 1783.165996\n",
      "INFO | epoch 47 (  0%) loss: 1839.863159\n",
      "INFO | epoch 47 ( 35%) loss: 1797.867553\n",
      "INFO | epoch 47 ( 70%) loss: 1806.049774\n",
      "INFO | epoch 47 (100%) loss: 1798.286449\n",
      "INFO | epoch 47 (test) loss: 1766.563719\n",
      "INFO | epoch 48 (  0%) loss: 1806.315308\n",
      "INFO | epoch 48 ( 35%) loss: 1793.835015\n",
      "INFO | epoch 48 ( 70%) loss: 1797.784765\n",
      "INFO | epoch 48 (100%) loss: 1792.541710\n",
      "INFO | epoch 48 (test) loss: 1774.084109\n",
      "INFO | epoch 49 (  0%) loss: 1768.829102\n",
      "INFO | epoch 49 ( 35%) loss: 1787.525432\n",
      "INFO | epoch 49 ( 70%) loss: 1792.073939\n",
      "INFO | epoch 49 (100%) loss: 1791.602175\n",
      "INFO | epoch 49 (test) loss: 1768.689833\n",
      "INFO | epoch 50 (  0%) loss: 1699.519409\n",
      "INFO | epoch 50 ( 35%) loss: 1798.588409\n",
      "INFO | epoch 50 ( 70%) loss: 1802.871912\n",
      "INFO | epoch 50 (100%) loss: 1791.236052\n",
      "INFO | epoch 50 (test) loss: 1759.574286\n"
     ]
    }
   ],
   "source": [
    "input_dim = 222\n",
    "hidden_dims = (64, 32)\n",
    "latent_dim = 20\n",
    "\n",
    "model = M.vae.VAE(input_dim, hidden_dims, latent_dim)\n",
    "criterion = M.vae.Loss()\n",
    "\n",
    "train_losses, test_losses = M.vae.train(\n",
    "    device, model, criterion, train_loader, test_loader,\n",
    "    learn_rate=LR, epochs=EPOCHS\n",
    ")\n",
    "\n",
    "M.save(SAVE_NAME, model, train_losses, test_losses)"
   ]
  },
  {
   "cell_type": "markdown",
   "id": "77fb32ad",
   "metadata": {},
   "source": [
    "# Results"
   ]
  },
  {
   "cell_type": "code",
   "execution_count": 9,
   "id": "38c47d81",
   "metadata": {},
   "outputs": [
    {
     "name": "stdout",
     "output_type": "stream",
     "text": [
      "torch.Size([1, 222, 24, 24])\n",
      "torch.Size([222, 24, 24])\n"
     ]
    }
   ],
   "source": [
    "# Generate new image\n",
    "\n",
    "z = torch.randn(1, latent_dim).to(device)\n",
    "with torch.no_grad():\n",
    "    model.eval()\n",
    "    generated_image = model.decode(z)\n",
    "    print(generated_image.shape)\n",
    "\n",
    "\n",
    "decoded_one_hot = generated_image[0]\n",
    "print(decoded_one_hot.shape)\n"
   ]
  },
  {
   "cell_type": "code",
   "execution_count": 10,
   "metadata": {},
   "outputs": [
    {
     "name": "stdout",
     "output_type": "stream",
     "text": [
      "torch.Size([4, 24, 24])\n"
     ]
    },
    {
     "data": {
      "image/png": "[encoded data removed]",
      "text/plain": [
       "<Figure size 640x480 with 1 Axes>"
      ]
     },
     "metadata": {},
     "output_type": "display_data"
    }
   ],
   "source": [
    "decoded = DS.one_hot_to_rgba(decoded_one_hot, mapper)\n",
    "print(decoded.shape)\n",
    "\n",
    "plt.imshow(transforms.functional.to_pil_image(decoded))\n",
    "plt.axis('off')\n",
    "plt.show()\n"
   ]
  },
  {
   "cell_type": "code",
   "execution_count": 13,
   "metadata": {},
   "outputs": [
    {
     "data": {
      "image/png": "[encoded data removed]",
      "text/plain": [
       "<Figure size 640x480 with 1 Axes>"
      ]
     },
     "metadata": {},
     "output_type": "display_data"
    }
   ],
   "source": [
    "punk = I.get_punk_tensor(1000)\n",
    "\n",
    "plt.imshow(transforms.functional.to_pil_image(punk))\n",
    "plt.show()\n",
    "\n"
   ]
  },
  {
   "cell_type": "code",
   "execution_count": 14,
   "metadata": {},
   "outputs": [
    {
     "name": "stdout",
     "output_type": "stream",
     "text": [
      "torch.Size([1, 222, 24, 24])\n"
     ]
    },
    {
     "data": {
      "image/png": "[encoded data removed]",
      "text/plain": [
       "<Figure size 640x480 with 1 Axes>"
      ]
     },
     "metadata": {},
     "output_type": "display_data"
    }
   ],
   "source": [
    "punk = I.get_punk_tensor(1000)\n",
    "\n",
    "p = DS.rgba_to_one_hot(punk, mapper)\n",
    "p = p.unsqueeze(0)\n",
    "p = p.to(device)\n",
    "\n",
    "model.eval()\n",
    "with torch.no_grad():\n",
    "    reconstructed, mu, logcar = model.forward(p)\n",
    "    print(reconstructed.shape)\n",
    "\n",
    "recon_punk = reconstructed[0].cpu()\n",
    "recon_punk = DS.one_hot_to_rgba(recon_punk, mapper)\n",
    "plt.imshow(transforms.functional.to_pil_image(recon_punk.cpu()))\n",
    "plt.show()\n"
   ]
  },
  {
   "cell_type": "markdown",
   "id": "cea5f5a3",
   "metadata": {},
   "source": [
    "## Losses"
   ]
  },
  {
   "cell_type": "code",
   "execution_count": 15,
   "metadata": {},
   "outputs": [
    {
     "data": {
      "text/plain": [
       "<function matplotlib.pyplot.show(close=None, block=None)>"
      ]
     },
     "execution_count": 15,
     "metadata": {},
     "output_type": "execute_result"
    },
    {
     "data": {
      "image/png": "[encoded data removed]",
      "text/plain": [
       "<Figure size 640x480 with 1 Axes>"
      ]
     },
     "metadata": {},
     "output_type": "display_data"
    },
    {
     "ename": "",
     "evalue": "",
     "output_type": "error",
     "traceback": [
      "\u001b[1;31mThe Kernel crashed while executing code in the the current cell or a previous cell. Please review the code in the cell(s) to identify a possible cause of the failure. Click <a href='https://aka.ms/vscodeJupyterKernelCrash'>here</a> for more info. View Jupyter <a href='command:jupyter.viewOutput'>log</a> for further details."
     ]
    }
   ],
   "source": [
    "plt.title(\"Train & Test loss\")\n",
    "plt.plot(train_losses, label='train loss')\n",
    "plt.plot(test_losses, label='test loss')\n",
    "plt.legend()\n",
    "plt.show\n"
   ]
  },
  {
   "cell_type": "code",
   "execution_count": 11,
   "id": "fd748446",
   "metadata": {},
   "outputs": [
    {
     "data": {
      "text/plain": [
       "[33191.91323224873,\n",
       " 7624.040217839234,\n",
       " 7588.843578582115,\n",
       " 7560.810446015486,\n",
       " 7545.590161911985,\n",
       " 7531.705634800255,\n",
       " 7502.278373555934,\n",
       " 7431.786218954317,\n",
       " 7408.873526498781,\n",
       " 7397.046342565658,\n",
       " 7390.648036226313,\n",
       " 7380.435526097074,\n",
       " 7369.1107550005545,\n",
       " 7295.20715418606,\n",
       " 7263.5064329323195,\n",
       " 7243.850206740359,\n",
       " 7214.22126542761,\n",
       " 7197.9019623884915,\n",
       " 7181.206800961325,\n",
       " 7177.820918089955,\n",
       " 7160.897902035544,\n",
       " 7146.801003746952,\n",
       " 7137.711601960744,\n",
       " 7129.2423316468585,\n",
       " 7121.553968930075,\n",
       " 7113.778043273493,\n",
       " 7104.8892675088655,\n",
       " 7095.774508428912,\n",
       " 7090.120427124889,\n",
       " 7079.318630786653,\n",
       " 6676.732429233849,\n",
       " 5341.260890230219,\n",
       " 5137.365213164201,\n",
       " 4867.514385250443,\n",
       " 4282.818299205591,\n",
       " 4021.344937804743,\n",
       " 3875.6268219643453,\n",
       " 3797.3453014184397,\n",
       " 3727.7235029504654,\n",
       " 3699.963712435242,\n",
       " 3671.9243244144086,\n",
       " 3658.316827868739,\n",
       " 3621.449621538744,\n",
       " 3615.4192836031,\n",
       " 3605.87580146519,\n",
       " 3604.188468121468,\n",
       " 3596.5728987024186,\n",
       " 3585.0834203408963,\n",
       " 3583.204350248296,\n",
       " 3582.472104336353]"
      ]
     },
     "execution_count": 11,
     "metadata": {},
     "output_type": "execute_result"
    }
   ],
   "source": [
    "train_losses\n"
   ]
  },
  {
   "cell_type": "code",
   "execution_count": 12,
   "id": "3955ea68",
   "metadata": {},
   "outputs": [
    {
     "data": {
      "text/plain": [
       "[7540.336528778076,\n",
       " 7487.984504699707,\n",
       " 7455.5280838012695,\n",
       " 7432.457042694092,\n",
       " 7433.112575531006,\n",
       " 7418.477344512939,\n",
       " 7377.407791137695,\n",
       " 7308.87043762207,\n",
       " 7292.676979064941,\n",
       " 7282.385120391846,\n",
       " 7273.78108215332,\n",
       " 7266.417289733887,\n",
       " 7213.334403991699,\n",
       " 7170.894355773926,\n",
       " 7144.010303497314,\n",
       " 7124.299171447754,\n",
       " 7103.8897132873535,\n",
       " 7090.9731369018555,\n",
       " 7075.815807342529,\n",
       " 7071.427341461182,\n",
       " 7055.256813049316,\n",
       " 7036.650146484375,\n",
       " 7035.079273223877,\n",
       " 7022.235614776611,\n",
       " 7088.085800170898,\n",
       " 7001.8662185668945,\n",
       " 7010.239833831787,\n",
       " 6995.018993377686,\n",
       " 6983.243816375732,\n",
       " 6971.419692993164,\n",
       " 5503.704029083252,\n",
       " 5173.469833374023,\n",
       " 4973.774524688721,\n",
       " 4387.340572357178,\n",
       " 4151.392230987549,\n",
       " 3925.46773147583,\n",
       " 3803.7941703796387,\n",
       " 3711.988573074341,\n",
       " 3673.478343963623,\n",
       " 3645.124500274658,\n",
       " 3620.3674812316895,\n",
       " 3587.2888984680176,\n",
       " 3570.572093963623,\n",
       " 3568.5691299438477,\n",
       " 3551.603748321533,\n",
       " 3566.3319911956787,\n",
       " 3533.1274375915527,\n",
       " 3548.168218612671,\n",
       " 3537.379665374756,\n",
       " 3519.148572921753]"
      ]
     },
     "execution_count": 12,
     "metadata": {},
     "output_type": "execute_result"
    }
   ],
   "source": [
    "test_losses\n"
   ]
  }
 ],
 "metadata": {
  "kernelspec": {
   "display_name": "Python 3 (ipykernel)",
   "language": "python",
   "name": "python3"
  },
  "language_info": {
   "codemirror_mode": {
    "name": "ipython",
    "version": 3
   },
   "file_extension": ".py",
   "mimetype": "text/x-python",
   "name": "python",
   "nbconvert_exporter": "python",
   "pygments_lexer": "ipython3",
   "version": "3.11.6"
  }
 },
 "nbformat": 4,
 "nbformat_minor": 5
}
