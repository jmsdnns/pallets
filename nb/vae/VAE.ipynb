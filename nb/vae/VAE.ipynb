{
 "cells": [
  {
   "cell_type": "markdown",
   "metadata": {},
   "source": [
    "# Variational Autoencoder"
   ]
  },
  {
   "cell_type": "code",
   "execution_count": 1,
   "id": "19d0f047",
   "metadata": {},
   "outputs": [],
   "source": [
    "import torch\n",
    "from torchvision import transforms\n",
    "from torch.utils.data import DataLoader, SubsetRandomSampler\n",
    "import matplotlib.pyplot as plt\n",
    "%matplotlib inline\n"
   ]
  },
  {
   "cell_type": "code",
   "execution_count": 2,
   "metadata": {},
   "outputs": [],
   "source": [
    "# Load pallets library from project root\n",
    "import sys, os\n",
    "sys.path.append(os.path.abspath(os.path.join(os.getcwd(), '..', '..')))\n",
    "\n",
    "from pallets import (\n",
    "    images as I,\n",
    "    datasets as DS,\n",
    "    models as M,\n",
    "    logging as L\n",
    ")\n"
   ]
  },
  {
   "cell_type": "markdown",
   "id": "bb153804",
   "metadata": {},
   "source": [
    "# Settings"
   ]
  },
  {
   "cell_type": "code",
   "execution_count": 3,
   "id": "21b9150c",
   "metadata": {},
   "outputs": [],
   "source": [
    "SAVE_NAME = 'vae'"
   ]
  },
  {
   "cell_type": "code",
   "execution_count": 4,
   "id": "79c2b692",
   "metadata": {},
   "outputs": [],
   "source": [
    "USE_GPU = True\n",
    "LOG_LEVEL = 'INFO'\n",
    "LABELS_FILE = 'pallets_labels.json'\n",
    "\n",
    "TEST_SIZE = 1000\n",
    "EPOCHS = 50\n",
    "LR = 1e-03\n",
    "BATCH_SIZE = 32"
   ]
  },
  {
   "cell_type": "code",
   "execution_count": 5,
   "metadata": {},
   "outputs": [
    {
     "data": {
      "text/plain": [
       "<Logger pallets (INFO)>"
      ]
     },
     "execution_count": 5,
     "metadata": {},
     "output_type": "execute_result"
    }
   ],
   "source": [
    "# To GPU, or not to GPU\n",
    "device = M.get_device(require_gpu=USE_GPU)\n",
    "\n",
    "# Logging\n",
    "L.init_logger(level=LOG_LEVEL, notebook=True)\n"
   ]
  },
  {
   "cell_type": "markdown",
   "metadata": {},
   "source": [
    "# Dataset"
   ]
  },
  {
   "cell_type": "code",
   "execution_count": 6,
   "id": "35fef1c0",
   "metadata": {},
   "outputs": [],
   "source": [
    "all_colors = I.get_punk_colors()\n",
    "mapper = DS.ColorOneHotMapper(all_colors)\n",
    "dataset = DS.OneHotCPunksDataset(\n",
    "    mapper, labels_file=LABELS_FILE, test_size=TEST_SIZE\n",
    ")\n",
    "\n",
    "# Uncomment to put entire dataset in GPU RAM\n",
    "# dataset = DS.FastOneHotCPunksDataset(\n",
    "#     device, mapper, labels_file=LABELS_FILE, test_size=TEST_SIZE\n",
    "# )"
   ]
  },
  {
   "cell_type": "code",
   "execution_count": 7,
   "id": "ffdf1379",
   "metadata": {},
   "outputs": [],
   "source": [
    "train_sampler = SubsetRandomSampler(dataset.train_idx)\n",
    "test_sampler = SubsetRandomSampler(dataset.test_idx)\n",
    "\n",
    "train_loader = DataLoader(dataset, batch_size=BATCH_SIZE, sampler=train_sampler)\n",
    "test_loader = DataLoader(dataset, batch_size=BATCH_SIZE, sampler=test_sampler)"
   ]
  },
  {
   "cell_type": "markdown",
   "id": "b39e0222",
   "metadata": {},
   "source": [
    "# Training"
   ]
  },
  {
   "cell_type": "code",
   "execution_count": 8,
   "id": "7e4d5fd0",
   "metadata": {},
   "outputs": [
    {
     "name": "stdout",
     "output_type": "stream",
     "text": [
      "INFO | model: pallets.models.vae.VAE\n",
      "INFO | criterion: pallets.models.vae.Loss\n",
      "INFO | learn rate: 0.001\n",
      "INFO | epochs: 50\n",
      "INFO | epoch 1 (  0%) loss: 1433884.750000\n",
      "INFO | epoch 1 ( 35%) loss: 153950.791045\n",
      "INFO | epoch 1 ( 70%) loss: 84249.829000\n",
      "INFO | epoch 1 (100%) loss: 63463.940259\n",
      "INFO | epoch 1 (test) loss: 10413.646179\n",
      "INFO | epoch 2 (  0%) loss: 10446.083984\n",
      "INFO | epoch 2 ( 35%) loss: 9579.232876\n",
      "INFO | epoch 2 ( 70%) loss: 8845.071619\n",
      "INFO | epoch 2 (100%) loss: 8371.413679\n",
      "INFO | epoch 2 (test) loss: 6800.322433\n",
      "INFO | epoch 3 (  0%) loss: 6694.165527\n",
      "INFO | epoch 3 ( 35%) loss: 6510.715042\n",
      "INFO | epoch 3 ( 70%) loss: 6219.638125\n",
      "INFO | epoch 3 (100%) loss: 5975.719047\n",
      "INFO | epoch 3 (test) loss: 5089.602184\n",
      "INFO | epoch 4 (  0%) loss: 5013.729980\n",
      "INFO | epoch 4 ( 35%) loss: 5074.578299\n",
      "INFO | epoch 4 ( 70%) loss: 4894.161738\n",
      "INFO | epoch 4 (100%) loss: 4783.572460\n",
      "INFO | epoch 4 (test) loss: 4289.923733\n",
      "INFO | epoch 5 (  0%) loss: 4312.207031\n",
      "INFO | epoch 5 ( 35%) loss: 4281.325169\n",
      "INFO | epoch 5 ( 70%) loss: 4135.415328\n",
      "INFO | epoch 5 (100%) loss: 4025.743317\n",
      "INFO | epoch 5 (test) loss: 3721.860502\n",
      "INFO | epoch 6 (  0%) loss: 3622.271484\n",
      "INFO | epoch 6 ( 35%) loss: 3656.789331\n",
      "INFO | epoch 6 ( 70%) loss: 3591.369195\n",
      "INFO | epoch 6 (100%) loss: 3537.975588\n",
      "INFO | epoch 6 (test) loss: 3294.314955\n",
      "INFO | epoch 7 (  0%) loss: 3721.167969\n",
      "INFO | epoch 7 ( 35%) loss: 3292.169673\n",
      "INFO | epoch 7 ( 70%) loss: 3217.720144\n",
      "INFO | epoch 7 (100%) loss: 3181.031835\n",
      "INFO | epoch 7 (test) loss: 3001.412989\n",
      "INFO | epoch 8 (  0%) loss: 3129.386230\n",
      "INFO | epoch 8 ( 35%) loss: 2978.743413\n",
      "INFO | epoch 8 ( 70%) loss: 2948.162839\n",
      "INFO | epoch 8 (100%) loss: 2906.243665\n",
      "INFO | epoch 8 (test) loss: 2816.158176\n",
      "INFO | epoch 9 (  0%) loss: 3430.817871\n",
      "INFO | epoch 9 ( 35%) loss: 2777.706255\n",
      "INFO | epoch 9 ( 70%) loss: 2746.720271\n",
      "INFO | epoch 9 (100%) loss: 2695.417042\n",
      "INFO | epoch 9 (test) loss: 2539.581253\n",
      "INFO | epoch 10 (  0%) loss: 2764.960938\n",
      "INFO | epoch 10 ( 35%) loss: 2547.798886\n",
      "INFO | epoch 10 ( 70%) loss: 2536.329815\n",
      "INFO | epoch 10 (100%) loss: 2517.307935\n",
      "INFO | epoch 10 (test) loss: 2425.775822\n",
      "INFO | epoch 11 (  0%) loss: 2382.523682\n",
      "INFO | epoch 11 ( 35%) loss: 2411.717508\n",
      "INFO | epoch 11 ( 70%) loss: 2382.746349\n",
      "INFO | epoch 11 (100%) loss: 2361.057411\n",
      "INFO | epoch 11 (test) loss: 2317.097782\n",
      "INFO | epoch 12 (  0%) loss: 2163.756836\n",
      "INFO | epoch 12 ( 35%) loss: 2266.588952\n",
      "INFO | epoch 12 ( 70%) loss: 2237.059516\n",
      "INFO | epoch 12 (100%) loss: 2222.508421\n",
      "INFO | epoch 12 (test) loss: 2193.894447\n",
      "INFO | epoch 13 (  0%) loss: 2208.582764\n",
      "INFO | epoch 13 ( 35%) loss: 2132.728362\n",
      "INFO | epoch 13 ( 70%) loss: 2122.797507\n",
      "INFO | epoch 13 (100%) loss: 2108.520213\n",
      "INFO | epoch 13 (test) loss: 2020.915873\n",
      "INFO | epoch 14 (  0%) loss: 1968.035767\n",
      "INFO | epoch 14 ( 35%) loss: 2007.617520\n",
      "INFO | epoch 14 ( 70%) loss: 2009.581403\n",
      "INFO | epoch 14 (100%) loss: 1994.773526\n",
      "INFO | epoch 14 (test) loss: 1958.850039\n",
      "INFO | epoch 15 (  0%) loss: 1947.025879\n",
      "INFO | epoch 15 ( 35%) loss: 1935.166326\n",
      "INFO | epoch 15 ( 70%) loss: 1918.403857\n",
      "INFO | epoch 15 (100%) loss: 1900.453410\n",
      "INFO | epoch 15 (test) loss: 1867.155607\n",
      "INFO | epoch 16 (  0%) loss: 1985.516113\n",
      "INFO | epoch 16 ( 35%) loss: 1848.750384\n",
      "INFO | epoch 16 ( 70%) loss: 1826.245192\n",
      "INFO | epoch 16 (100%) loss: 1817.821729\n",
      "INFO | epoch 16 (test) loss: 1806.292685\n",
      "INFO | epoch 17 (  0%) loss: 1839.921021\n",
      "INFO | epoch 17 ( 35%) loss: 1758.180223\n",
      "INFO | epoch 17 ( 70%) loss: 1760.065900\n",
      "INFO | epoch 17 (100%) loss: 1743.384636\n",
      "INFO | epoch 17 (test) loss: 1732.114800\n",
      "INFO | epoch 18 (  0%) loss: 1842.242310\n",
      "INFO | epoch 18 ( 35%) loss: 1691.654061\n",
      "INFO | epoch 18 ( 70%) loss: 1676.256977\n",
      "INFO | epoch 18 (100%) loss: 1666.614408\n",
      "INFO | epoch 18 (test) loss: 1692.611698\n",
      "INFO | epoch 19 (  0%) loss: 1661.357666\n",
      "INFO | epoch 19 ( 35%) loss: 1630.522828\n",
      "INFO | epoch 19 ( 70%) loss: 1619.780385\n",
      "INFO | epoch 19 (100%) loss: 1610.847463\n",
      "INFO | epoch 19 (test) loss: 1639.907146\n",
      "INFO | epoch 20 (  0%) loss: 1838.446533\n",
      "INFO | epoch 20 ( 35%) loss: 1592.069407\n",
      "INFO | epoch 20 ( 70%) loss: 1576.108188\n",
      "INFO | epoch 20 (100%) loss: 1556.905738\n",
      "INFO | epoch 20 (test) loss: 1588.129484\n",
      "INFO | epoch 21 (  0%) loss: 1457.887207\n",
      "INFO | epoch 21 ( 35%) loss: 1513.865315\n",
      "INFO | epoch 21 ( 70%) loss: 1504.714765\n",
      "INFO | epoch 21 (100%) loss: 1498.170283\n",
      "INFO | epoch 21 (test) loss: 1505.247776\n",
      "INFO | epoch 22 (  0%) loss: 1402.911377\n",
      "INFO | epoch 22 ( 35%) loss: 1466.934506\n",
      "INFO | epoch 22 ( 70%) loss: 1465.251066\n",
      "INFO | epoch 22 (100%) loss: 1462.833679\n",
      "INFO | epoch 22 (test) loss: 1479.412358\n",
      "INFO | epoch 23 (  0%) loss: 1460.740967\n",
      "INFO | epoch 23 ( 35%) loss: 1425.439213\n",
      "INFO | epoch 23 ( 70%) loss: 1416.889372\n",
      "INFO | epoch 23 (100%) loss: 1413.837613\n",
      "INFO | epoch 23 (test) loss: 1429.292537\n",
      "INFO | epoch 24 (  0%) loss: 1424.511230\n",
      "INFO | epoch 24 ( 35%) loss: 1394.242352\n",
      "INFO | epoch 24 ( 70%) loss: 1385.590241\n",
      "INFO | epoch 24 (100%) loss: 1377.776858\n",
      "INFO | epoch 24 (test) loss: 1383.241030\n",
      "INFO | epoch 25 (  0%) loss: 1250.053955\n",
      "INFO | epoch 25 ( 35%) loss: 1340.473708\n",
      "INFO | epoch 25 ( 70%) loss: 1335.646789\n",
      "INFO | epoch 25 (100%) loss: 1333.680243\n",
      "INFO | epoch 25 (test) loss: 1366.712700\n",
      "INFO | epoch 26 (  0%) loss: 1423.677246\n",
      "INFO | epoch 26 ( 35%) loss: 1329.173188\n",
      "INFO | epoch 26 ( 70%) loss: 1323.272692\n",
      "INFO | epoch 26 (100%) loss: 1310.560496\n",
      "INFO | epoch 26 (test) loss: 1315.759008\n",
      "INFO | epoch 27 (  0%) loss: 1225.720703\n",
      "INFO | epoch 27 ( 35%) loss: 1272.847373\n",
      "INFO | epoch 27 ( 70%) loss: 1282.237859\n",
      "INFO | epoch 27 (100%) loss: 1274.085106\n",
      "INFO | epoch 27 (test) loss: 1298.581197\n",
      "INFO | epoch 28 (  0%) loss: 1202.683594\n",
      "INFO | epoch 28 ( 35%) loss: 1250.517761\n",
      "INFO | epoch 28 ( 70%) loss: 1251.087602\n",
      "INFO | epoch 28 (100%) loss: 1241.630055\n",
      "INFO | epoch 28 (test) loss: 1256.296705\n",
      "INFO | epoch 29 (  0%) loss: 1265.733398\n",
      "INFO | epoch 29 ( 35%) loss: 1220.725342\n",
      "INFO | epoch 29 ( 70%) loss: 1217.376320\n",
      "INFO | epoch 29 (100%) loss: 1209.625694\n",
      "INFO | epoch 29 (test) loss: 1236.761844\n",
      "INFO | epoch 30 (  0%) loss: 1222.155884\n",
      "INFO | epoch 30 ( 35%) loss: 1203.787921\n",
      "INFO | epoch 30 ( 70%) loss: 1195.983424\n",
      "INFO | epoch 30 (100%) loss: 1188.529079\n",
      "INFO | epoch 30 (test) loss: 1218.831613\n",
      "INFO | epoch 31 (  0%) loss: 1214.022217\n",
      "INFO | epoch 31 ( 35%) loss: 1172.079689\n",
      "INFO | epoch 31 ( 70%) loss: 1163.681265\n",
      "INFO | epoch 31 (100%) loss: 1155.993171\n",
      "INFO | epoch 31 (test) loss: 1161.071114\n",
      "INFO | epoch 32 (  0%) loss: 1127.971191\n",
      "INFO | epoch 32 ( 35%) loss: 1131.932851\n",
      "INFO | epoch 32 ( 70%) loss: 1132.214913\n",
      "INFO | epoch 32 (100%) loss: 1135.743755\n",
      "INFO | epoch 32 (test) loss: 1173.179162\n",
      "INFO | epoch 33 (  0%) loss: 1083.987549\n",
      "INFO | epoch 33 ( 35%) loss: 1142.486605\n",
      "INFO | epoch 33 ( 70%) loss: 1131.730427\n",
      "INFO | epoch 33 (100%) loss: 1120.255503\n",
      "INFO | epoch 33 (test) loss: 1132.880163\n",
      "INFO | epoch 34 (  0%) loss: 1061.836670\n",
      "INFO | epoch 34 ( 35%) loss: 1093.143217\n",
      "INFO | epoch 34 ( 70%) loss: 1096.007315\n",
      "INFO | epoch 34 (100%) loss: 1090.656495\n",
      "INFO | epoch 34 (test) loss: 1133.656561\n",
      "INFO | epoch 35 (  0%) loss: 1010.611877\n",
      "INFO | epoch 35 ( 35%) loss: 1076.991705\n",
      "INFO | epoch 35 ( 70%) loss: 1079.804109\n",
      "INFO | epoch 35 (100%) loss: 1074.337390\n",
      "INFO | epoch 35 (test) loss: 1076.130782\n",
      "INFO | epoch 36 (  0%) loss: 1070.410889\n",
      "INFO | epoch 36 ( 35%) loss: 1072.585615\n",
      "INFO | epoch 36 ( 70%) loss: 1060.822895\n",
      "INFO | epoch 36 (100%) loss: 1051.317405\n",
      "INFO | epoch 36 (test) loss: 1076.902014\n",
      "INFO | epoch 37 (  0%) loss: 1082.744507\n",
      "INFO | epoch 37 ( 35%) loss: 1046.303008\n",
      "INFO | epoch 37 ( 70%) loss: 1040.745100\n",
      "INFO | epoch 37 (100%) loss: 1037.527979\n",
      "INFO | epoch 37 (test) loss: 1077.743489\n",
      "INFO | epoch 38 (  0%) loss: 1130.155029\n",
      "INFO | epoch 38 ( 35%) loss: 1017.241186\n",
      "INFO | epoch 38 ( 70%) loss: 1018.541651\n",
      "INFO | epoch 38 (100%) loss: 1024.325392\n",
      "INFO | epoch 38 (test) loss: 1037.765070\n",
      "INFO | epoch 39 (  0%) loss: 1078.547852\n",
      "INFO | epoch 39 ( 35%) loss: 1005.962402\n",
      "INFO | epoch 39 ( 70%) loss: 997.899135\n",
      "INFO | epoch 39 (100%) loss: 995.455591\n",
      "INFO | epoch 39 (test) loss: 1052.212493\n",
      "INFO | epoch 40 (  0%) loss: 1016.250122\n",
      "INFO | epoch 40 ( 35%) loss: 989.107714\n",
      "INFO | epoch 40 ( 70%) loss: 993.424494\n",
      "INFO | epoch 40 (100%) loss: 989.535732\n",
      "INFO | epoch 40 (test) loss: 1021.958840\n",
      "INFO | epoch 41 (  0%) loss: 970.699341\n",
      "INFO | epoch 41 ( 35%) loss: 982.881684\n",
      "INFO | epoch 41 ( 70%) loss: 979.309829\n",
      "INFO | epoch 41 (100%) loss: 972.215110\n",
      "INFO | epoch 41 (test) loss: 1031.865088\n",
      "INFO | epoch 42 (  0%) loss: 1008.915649\n",
      "INFO | epoch 42 ( 35%) loss: 969.295199\n",
      "INFO | epoch 42 ( 70%) loss: 970.895462\n",
      "INFO | epoch 42 (100%) loss: 964.035726\n",
      "INFO | epoch 42 (test) loss: 1006.899620\n",
      "INFO | epoch 43 (  0%) loss: 996.172607\n",
      "INFO | epoch 43 ( 35%) loss: 940.745106\n",
      "INFO | epoch 43 ( 70%) loss: 943.182363\n",
      "INFO | epoch 43 (100%) loss: 936.338083\n",
      "INFO | epoch 43 (test) loss: 979.157697\n",
      "INFO | epoch 44 (  0%) loss: 953.257019\n",
      "INFO | epoch 44 ( 35%) loss: 931.584998\n",
      "INFO | epoch 44 ( 70%) loss: 929.877289\n",
      "INFO | epoch 44 (100%) loss: 929.187226\n",
      "INFO | epoch 44 (test) loss: 965.404744\n",
      "INFO | epoch 45 (  0%) loss: 874.052612\n",
      "INFO | epoch 45 ( 35%) loss: 931.310142\n",
      "INFO | epoch 45 ( 70%) loss: 935.616538\n",
      "INFO | epoch 45 (100%) loss: 928.915966\n",
      "INFO | epoch 45 (test) loss: 963.447596\n",
      "INFO | epoch 46 (  0%) loss: 855.436768\n",
      "INFO | epoch 46 ( 35%) loss: 911.780757\n",
      "INFO | epoch 46 ( 70%) loss: 908.503334\n",
      "INFO | epoch 46 (100%) loss: 908.893087\n",
      "INFO | epoch 46 (test) loss: 936.374277\n",
      "INFO | epoch 47 (  0%) loss: 844.316223\n",
      "INFO | epoch 47 ( 35%) loss: 915.936045\n",
      "INFO | epoch 47 ( 70%) loss: 904.906838\n",
      "INFO | epoch 47 (100%) loss: 902.334213\n",
      "INFO | epoch 47 (test) loss: 940.368822\n",
      "INFO | epoch 48 (  0%) loss: 914.744019\n",
      "INFO | epoch 48 ( 35%) loss: 888.775942\n",
      "INFO | epoch 48 ( 70%) loss: 893.886415\n",
      "INFO | epoch 48 (100%) loss: 891.081172\n",
      "INFO | epoch 48 (test) loss: 933.419758\n",
      "INFO | epoch 49 (  0%) loss: 866.151733\n",
      "INFO | epoch 49 ( 35%) loss: 881.781530\n",
      "INFO | epoch 49 ( 70%) loss: 878.815623\n",
      "INFO | epoch 49 (100%) loss: 880.809411\n",
      "INFO | epoch 49 (test) loss: 919.676147\n",
      "INFO | epoch 50 (  0%) loss: 887.822021\n",
      "INFO | epoch 50 ( 35%) loss: 881.961841\n",
      "INFO | epoch 50 ( 70%) loss: 878.458221\n",
      "INFO | epoch 50 (100%) loss: 875.325213\n",
      "INFO | epoch 50 (test) loss: 913.920201\n",
      "INFO | model blob saved to /home/jmsdnns/ML/pallets/saved/vae.pkl\n",
      "INFO | training losses saved to /home/jmsdnns/ML/pallets/saved/vae.json\n"
     ]
    }
   ],
   "source": [
    "input_dim = 222 * 24 * 24\n",
    "hidden_dim = 128\n",
    "latent_dim = 32\n",
    "\n",
    "model = M.vae.VAE(input_dim, hidden_dim, latent_dim)\n",
    "criterion = M.vae.Loss()\n",
    "\n",
    "train_losses, test_losses = M.vae.train(\n",
    "    device, model, criterion, train_loader, test_loader,\n",
    "    learn_rate=LR, epochs=EPOCHS\n",
    ")\n",
    "\n",
    "M.save(SAVE_NAME, model, train_losses, test_losses)"
   ]
  },
  {
   "cell_type": "markdown",
   "id": "2781818a",
   "metadata": {},
   "source": []
  },
  {
   "cell_type": "markdown",
   "id": "77fb32ad",
   "metadata": {},
   "source": [
    "# Results"
   ]
  },
  {
   "cell_type": "code",
   "execution_count": 18,
   "id": "38c47d81",
   "metadata": {},
   "outputs": [
    {
     "name": "stdout",
     "output_type": "stream",
     "text": [
      "torch.Size([1, 127872])\n",
      "torch.Size([222, 24, 24])\n"
     ]
    }
   ],
   "source": [
    "# Generate new image\n",
    "\n",
    "z = torch.randn(1, latent_dim).to(device)\n",
    "with torch.no_grad():\n",
    "    model.eval()\n",
    "    generated_image = model.decode(z)\n",
    "    print(generated_image.shape)\n",
    "\n",
    "\n",
    "decoded_one_hot = generated_image[0].view(222, 24, 24)\n",
    "print(decoded_one_hot.shape)\n"
   ]
  },
  {
   "cell_type": "code",
   "execution_count": 20,
   "metadata": {},
   "outputs": [
    {
     "name": "stdout",
     "output_type": "stream",
     "text": [
      "torch.Size([4, 24, 24])\n"
     ]
    },
    {
     "data": {
      "image/png": "[encoded data removed]",
      "text/plain": [
       "<Figure size 640x480 with 1 Axes>"
      ]
     },
     "metadata": {},
     "output_type": "display_data"
    }
   ],
   "source": [
    "decoded = DS.one_hot_to_rgba(decoded_one_hot, dataset.mapper)\n",
    "print(decoded.shape)\n",
    "\n",
    "plt.imshow(transforms.functional.to_pil_image(decoded))\n",
    "plt.axis('off')\n",
    "plt.show()\n"
   ]
  },
  {
   "cell_type": "code",
   "execution_count": 21,
   "metadata": {},
   "outputs": [
    {
     "data": {
      "image/png": "[encoded data removed]",
      "text/plain": [
       "<Figure size 640x480 with 1 Axes>"
      ]
     },
     "metadata": {},
     "output_type": "display_data"
    }
   ],
   "source": [
    "punk = I.get_punk_tensor(1000)\n",
    "\n",
    "plt.imshow(transforms.functional.to_pil_image(punk))\n",
    "plt.show()\n",
    "\n"
   ]
  },
  {
   "cell_type": "code",
   "execution_count": 22,
   "metadata": {},
   "outputs": [
    {
     "name": "stdout",
     "output_type": "stream",
     "text": [
      "torch.Size([1, 222, 24, 24])\n"
     ]
    },
    {
     "data": {
      "image/png": "[encoded data removed]",
      "text/plain": [
       "<Figure size 640x480 with 1 Axes>"
      ]
     },
     "metadata": {},
     "output_type": "display_data"
    }
   ],
   "source": [
    "punk = I.get_punk_tensor(1000)\n",
    "\n",
    "p = DS.rgba_to_one_hot(punk, dataset.mapper)\n",
    "p = p.unsqueeze(0)\n",
    "p = p.to(device)\n",
    "\n",
    "model.eval()\n",
    "with torch.no_grad():\n",
    "    reconstructed, mu, logcar = model.forward(p)\n",
    "    print(reconstructed.shape)\n",
    "\n",
    "recon_punk = reconstructed[0].cpu()\n",
    "recon_punk = DS.one_hot_to_rgba(recon_punk, dataset.mapper)\n",
    "plt.imshow(transforms.functional.to_pil_image(recon_punk.cpu()))\n",
    "plt.show()\n"
   ]
  },
  {
   "cell_type": "markdown",
   "id": "cea5f5a3",
   "metadata": {},
   "source": [
    "## Losses"
   ]
  },
  {
   "cell_type": "code",
   "execution_count": 23,
   "metadata": {},
   "outputs": [
    {
     "data": {
      "text/plain": [
       "<function matplotlib.pyplot.show(close=None, block=None)>"
      ]
     },
     "execution_count": 23,
     "metadata": {},
     "output_type": "execute_result"
    },
    {
     "data": {
      "image/png": "[encoded data removed]",
      "text/plain": [
       "<Figure size 640x480 with 1 Axes>"
      ]
     },
     "metadata": {},
     "output_type": "display_data"
    }
   ],
   "source": [
    "plt.title(\"Train & Test loss\")\n",
    "plt.plot(train_losses, label='train loss')\n",
    "plt.plot(test_losses, label='test loss')\n",
    "plt.legend()\n",
    "plt.show\n"
   ]
  },
  {
   "cell_type": "code",
   "execution_count": 24,
   "id": "fd748446",
   "metadata": {},
   "outputs": [
    {
     "data": {
      "text/plain": [
       "[126927.88051827073,\n",
       " 16742.827357082504,\n",
       " 11951.438093036624,\n",
       " 9567.14491910461,\n",
       " 8051.486634599401,\n",
       " 7075.951176203735,\n",
       " 6362.063670489805,\n",
       " 5812.48732979416,\n",
       " 5390.83408480164,\n",
       " 5034.615869400349,\n",
       " 4722.11482141373,\n",
       " 4445.016842673011,\n",
       " 4217.04042691711,\n",
       " 3989.5470520452404,\n",
       " 3800.9068209600787,\n",
       " 3635.643458806031,\n",
       " 3486.769271525931,\n",
       " 3333.2288158227366,\n",
       " 3221.694925511137,\n",
       " 3113.8114764707307,\n",
       " 2996.3405662157857,\n",
       " 2925.6673577491274,\n",
       " 2827.6752265226755,\n",
       " 2755.5537152662346,\n",
       " 2667.3604853203956,\n",
       " 2621.1209920247397,\n",
       " 2548.170212549521,\n",
       " 2483.2601106251386,\n",
       " 2419.251388333368,\n",
       " 2377.058158712184,\n",
       " 2311.9863410029852,\n",
       " 2271.4875090037676,\n",
       " 2240.51100515812,\n",
       " 2181.3129893634336,\n",
       " 2148.6747808794603,\n",
       " 2102.6348106438386,\n",
       " 2075.055957550698,\n",
       " 2048.650783674091,\n",
       " 1990.9111812943263,\n",
       " 1979.0714631858448,\n",
       " 1944.4302199343417,\n",
       " 1928.0714518229167,\n",
       " 1872.6761662909325,\n",
       " 1858.3744517657774,\n",
       " 1857.8319327712904,\n",
       " 1817.7861746930062,\n",
       " 1804.6684255397065,\n",
       " 1782.162344533501,\n",
       " 1761.61882148905,\n",
       " 1750.650425254876]"
      ]
     },
     "execution_count": 24,
     "metadata": {},
     "output_type": "execute_result"
    }
   ],
   "source": [
    "train_losses\n"
   ]
  },
  {
   "cell_type": "code",
   "execution_count": 25,
   "id": "3955ea68",
   "metadata": {},
   "outputs": [
    {
     "data": {
      "text/plain": [
       "[20827.292358398438,\n",
       " 13600.64486694336,\n",
       " 10179.204368591309,\n",
       " 8579.847465515137,\n",
       " 7443.721004486084,\n",
       " 6588.629909515381,\n",
       " 6002.825977325439,\n",
       " 5632.316352844238,\n",
       " 5079.162506103516,\n",
       " 4851.551643371582,\n",
       " 4634.1955642700195,\n",
       " 4387.78889465332,\n",
       " 4041.831745147705,\n",
       " 3917.7000770568848,\n",
       " 3734.3112144470215,\n",
       " 3612.5853691101074,\n",
       " 3464.229600906372,\n",
       " 3385.2233963012695,\n",
       " 3279.814291000366,\n",
       " 3176.2589683532715,\n",
       " 3010.4955520629883,\n",
       " 2958.824716567993,\n",
       " 2858.5850734710693,\n",
       " 2766.4820594787598,\n",
       " 2733.4253997802734,\n",
       " 2631.5180168151855,\n",
       " 2597.1623935699463,\n",
       " 2512.5934104919434,\n",
       " 2473.523687362671,\n",
       " 2437.66322517395,\n",
       " 2322.1422271728516,\n",
       " 2346.3583240509033,\n",
       " 2265.760326385498,\n",
       " 2267.3131217956543,\n",
       " 2152.2615642547607,\n",
       " 2153.804027557373,\n",
       " 2155.486978530884,\n",
       " 2075.53014087677,\n",
       " 2104.42498588562,\n",
       " 2043.9176807403564,\n",
       " 2063.7301750183105,\n",
       " 2013.7992401123047,\n",
       " 1958.315393447876,\n",
       " 1930.8094882965088,\n",
       " 1926.895191192627,\n",
       " 1872.7485542297363,\n",
       " 1880.7376441955566,\n",
       " 1866.8395156860352,\n",
       " 1839.3522939682007,\n",
       " 1827.8404026031494]"
      ]
     },
     "execution_count": 25,
     "metadata": {},
     "output_type": "execute_result"
    }
   ],
   "source": [
    "test_losses\n"
   ]
  },
  {
   "cell_type": "code",
   "execution_count": null,
   "id": "cdafd461",
   "metadata": {},
   "outputs": [],
   "source": []
  }
 ],
 "metadata": {
  "kernelspec": {
   "display_name": "Python 3 (ipykernel)",
   "language": "python",
   "name": "python3"
  },
  "language_info": {
   "codemirror_mode": {
    "name": "ipython",
    "version": 3
   },
   "file_extension": ".py",
   "mimetype": "text/x-python",
   "name": "python",
   "nbconvert_exporter": "python",
   "pygments_lexer": "ipython3",
   "version": "3.11.6"
  }
 },
 "nbformat": 4,
 "nbformat_minor": 5
}
