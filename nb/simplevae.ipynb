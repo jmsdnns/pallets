{
 "cells": [
  {
   "cell_type": "code",
   "execution_count": 1,
   "id": "19d0f047",
   "metadata": {},
   "outputs": [],
   "source": [
    "import sys\n",
    "import os\n",
    "import numpy as np\n",
    "# from PIL import Image\n",
    "import torch\n",
    "import torch.nn as nn\n",
    "import torch.nn.functional as F\n",
    "import torch.optim as optim\n",
    "from torchvision import transforms\n",
    "from torch.utils.data import Dataset, DataLoader, SubsetRandomSampler\n",
    "import matplotlib.pyplot as plt\n",
    "import pickle\n",
    "from matplotlib.colors import rgb2hex\n",
    "import matplotlib.image as mpimg\n",
    "import matplotlib.pyplot as plt\n",
    "%matplotlib inline\n"
   ]
  },
  {
   "cell_type": "code",
   "execution_count": 2,
   "metadata": {},
   "outputs": [],
   "source": [
    "# Load pallets library\n",
    "\n",
    "sys.path.append(os.path.abspath(os.path.join(os.getcwd(), '..')))  # uncomment to run nb from 'pallets/nb'\n",
    "# sys.path.append(os.path.abspath(os.getcwd()))                    # uncomment to run from project root\n",
    "\n",
    "from pallets import images as I, datasets as DS, models as M\n"
   ]
  },
  {
   "cell_type": "code",
   "execution_count": 3,
   "metadata": {},
   "outputs": [],
   "source": [
    "# Any GPUs available?\n",
    "\n",
    "if torch.cuda.is_available():\n",
    "    device = torch.device(\"cuda\")\n",
    "elif torch.backends.mps.is_available():\n",
    "    device = torch.device(\"mps\")\n",
    "else:\n",
    "    device = torch.device(\"cpu\")\n"
   ]
  },
  {
   "cell_type": "code",
   "execution_count": 4,
   "id": "35fef1c0",
   "metadata": {},
   "outputs": [],
   "source": [
    "\n",
    "all_colors = I.get_punk_colors()\n",
    "mapper = DS.ColorOneHotMapper(all_colors)\n",
    "dataset = DS.OneHotEncodedImageDataset(mapper, device=device, test_size=0)\n"
   ]
  },
  {
   "cell_type": "markdown",
   "id": "47da5508",
   "metadata": {},
   "source": [
    "### prepare a dataloader"
   ]
  },
  {
   "cell_type": "code",
   "execution_count": 5,
   "metadata": {},
   "outputs": [],
   "source": [
    "batch_size = 32\n",
    "num_workers = 0\n",
    "\n",
    "train_sampler = SubsetRandomSampler(dataset.train_idx)\n",
    "test_sampler = SubsetRandomSampler(dataset.test_idx)\n",
    "\n",
    "train_loader = DataLoader(\n",
    "    dataset, batch_size=batch_size, sampler=train_sampler, num_workers=num_workers\n",
    ")\n",
    "test_loader = DataLoader(\n",
    "    dataset, batch_size=batch_size, sampler=test_sampler, num_workers=num_workers\n",
    ")\n",
    "\n",
    "dataloader = train_loader\n"
   ]
  },
  {
   "cell_type": "code",
   "execution_count": 7,
   "metadata": {},
   "outputs": [],
   "source": [
    "img = next(iter(dataset))\n",
    "print(img.shape)\n",
    "\n",
    "print(img.shape)\n",
    "test_img = DS.one_hot_to_rgba(img, mapper)\n",
    "print(test_img.shape)\n",
    "test_img = transforms.functional.to_pil_image(test_img)\n",
    "print(test_img.size)\n",
    "plt.imshow(test_img)\n",
    "plt.show()\n",
    "\n"
   ]
  },
  {
   "cell_type": "markdown",
   "id": "b39e0222",
   "metadata": {},
   "source": [
    "## simple VAE w/ conv"
   ]
  },
  {
   "cell_type": "code",
   "execution_count": 8,
   "id": "fb33f04f",
   "metadata": {},
   "outputs": [],
   "source": [
    "import torch\n",
    "import torch.nn as nn\n",
    "import torch.nn.functional as F\n",
    "\n",
    "class VAE(nn.Module):\n",
    "    \n",
    "    # Calculate the output size after the convolutional layers\n",
    "    def conv_output_size(self, input_size, kernel_size, stride, padding):\n",
    "        return (input_size - kernel_size + 2 * padding) // stride + 1\n",
    "        \n",
    "    def __init__(self):\n",
    "        super(VAE, self).__init__()\n",
    "\n",
    "        # Encoder\n",
    "        self.enc_conv1_out_channels = 64\n",
    "        self.enc_conv2_out_channels = 32\n",
    "        self.kernel_size = 3\n",
    "        self.stride = 1\n",
    "        self.padding = 1\n",
    "        self.latent_space_dim = 20\n",
    "\n",
    "        self.conv1 = nn.Conv2d(222, \n",
    "                               self.enc_conv1_out_channels, \n",
    "                               kernel_size=self.kernel_size, \n",
    "                               stride=self.stride, \n",
    "                               padding=self.padding)\n",
    "        self.conv2 = nn.Conv2d(self.enc_conv1_out_channels, \n",
    "                               self.enc_conv2_out_channels, \n",
    "                               kernel_size=self.kernel_size, \n",
    "                               stride=self.stride, \n",
    "                               padding=self.padding)\n",
    "\n",
    "      \n",
    "\n",
    "        self.conv1_output_size = self.conv_output_size(24, self.kernel_size, self.stride, self.padding)\n",
    "        self.conv2_output_size = self.conv_output_size(self.conv1_output_size, \n",
    "                                                       self.kernel_size, \n",
    "                                                       self.stride, \n",
    "                                                       self.padding)\n",
    "\n",
    "        self.fc_input_features = self.enc_conv2_out_channels * self.conv2_output_size * self.conv2_output_size\n",
    "        self.fc1 = nn.Linear(self.fc_input_features, 128)\n",
    "        self.fc_mean = nn.Linear(128, self.latent_space_dim)\n",
    "        self.fc_logvar = nn.Linear(128, self.latent_space_dim)\n",
    "\n",
    "        # Decoder\n",
    "        self.fc3 = nn.Linear(self.latent_space_dim, 128)\n",
    "        self.fc4 = nn.Linear(128, self.fc_input_features)\n",
    "        self.conv3 = nn.ConvTranspose2d(self.enc_conv2_out_channels, \n",
    "                                        self.enc_conv1_out_channels, \n",
    "                                        kernel_size=self.kernel_size, \n",
    "                                        stride=self.stride, \n",
    "                                        padding=self.padding, \n",
    "                                        output_padding=0)\n",
    "        self.conv4 = nn.ConvTranspose2d(self.enc_conv1_out_channels, \n",
    "                                        222, \n",
    "                                        kernel_size=self.kernel_size, \n",
    "                                        stride=self.stride, \n",
    "                                        padding=self.padding, \n",
    "                                        output_padding=0)\n",
    "\n",
    "    def encode(self, x):\n",
    "        x = F.relu(self.conv1(x))  # Shape: (batch_size, 64, new_height, new_width)\n",
    "        x = F.relu(self.conv2(x))  # Shape: (batch_size, 32, new_height, new_width)\n",
    "        x = x.view(x.size(0), -1)  # Flatten\n",
    "        x = F.relu(self.fc1(x))    # Shape: (batch_size, 128)\n",
    "        return self.fc_mean(x), self.fc_logvar(x)  # Shape: (batch_size, 20) each\n",
    "\n",
    "    def reparameterize(self, mean, logvar):\n",
    "        std = torch.exp(0.5 * logvar)\n",
    "        eps = torch.randn_like(std)\n",
    "        return mean + eps * std\n",
    "\n",
    "    def decode(self, z):\n",
    "        z = F.relu(self.fc3(z))  # Shape: (batch_size, 128)\n",
    "        z = F.relu(self.fc4(z))  # Shape: (batch_size, self.fc_input_features)\n",
    "        z = z.view(-1, self.enc_conv2_out_channels, self.conv2_output_size, self.conv2_output_size)  # Reshape to (batch_size, 32, new_height, new_width)\n",
    "        z = F.relu(self.conv3(z))  # Shape: (batch_size, 64, new_height, new_width)\n",
    "        z = torch.sigmoid(self.conv4(z))  # Shape: (batch_size, 222, original_height, original_width)\n",
    "        return z\n",
    "\n",
    "    def forward(self, x):\n",
    "        mean, logvar = self.encode(x)\n",
    "        z = self.reparameterize(mean, logvar)\n",
    "        return self.decode(z), mean, logvar\n",
    "\n",
    "\n"
   ]
  },
  {
   "cell_type": "code",
   "execution_count": 9,
   "id": "ea242297",
   "metadata": {},
   "outputs": [
    {
     "data": {
      "text/plain": [
       "torch.Size([32, 222, 24, 24])"
      ]
     },
     "execution_count": 9,
     "metadata": {},
     "output_type": "execute_result"
    }
   ],
   "source": [
    "# Instantiate the model\n",
    "vae = VAE()\n",
    "\n",
    "# Example input\n",
    "input_data = torch.randn(32, 222, 24, 24)  # Batch size 32, 222 channels, 24x24 images\n",
    "\n",
    "# Forward pass\n",
    "reconstructed, mean, logvar = vae(input_data)\n",
    "\n",
    "# Print the shape of the reconstructed output\n",
    "reconstructed.shape\n"
   ]
  },
  {
   "cell_type": "code",
   "execution_count": 10,
   "metadata": {},
   "outputs": [],
   "source": [
    "# JMS Allows putting Loss on GPU\n",
    "\n",
    "class Loss(nn.Module):\n",
    "    def forward(self, reconstructed_x, x, mean, logvar):\n",
    "        # Reconstruction loss (Mean Squared Error)\n",
    "        recon_loss = F.mse_loss(reconstructed_x, x, reduction='sum')\n",
    "\n",
    "        # KL divergence\n",
    "        kl_div = -0.5 * torch.sum(1 + logvar - mean.pow(2) - logvar.exp())\n",
    "\n",
    "        return recon_loss + kl_div\n",
    "\n",
    "\n",
    "vae_loss = Loss().to(device)\n"
   ]
  },
  {
   "cell_type": "code",
   "execution_count": 11,
   "id": "967c08f7",
   "metadata": {},
   "outputs": [],
   "source": [
    "import torch.optim as optim\n",
    "\n",
    "\n",
    "# Instantiate the model\n",
    "vae = VAE().to(device)  # JMS\n",
    "\n",
    "# Optimizer (Adam is commonly used)\n",
    "optimizer = optim.Adam(vae.parameters(), lr=0.001)\n",
    "\n",
    "# Training loop\n",
    "def train(epoch):\n",
    "    vae.train()\n",
    "    train_loss = 0\n",
    "    for batch_idx, data in enumerate(dataloader):\n",
    "        # If dataloader returns a tuple (images, labels), use data[0] to get the images\n",
    "        images = data\n",
    "        optimizer.zero_grad()\n",
    "        \n",
    "        # Forward pass: Compute the reconstructed images and the VAE loss\n",
    "        reconstructed, mean, logvar = vae(images)\n",
    "        loss = vae_loss(reconstructed, images, mean, logvar)\n",
    "\n",
    "        # Backward pass and optimize\n",
    "        loss.backward()\n",
    "        train_loss += loss.item()\n",
    "        optimizer.step()\n",
    "\n",
    "        if batch_idx % 100 == 0:\n",
    "            print('Train Epoch: {} [{}/{} ({:.0f}%)]\\tLoss: {:.6f}'.format(\n",
    "                epoch, batch_idx * len(data), len(dataloader.dataset),\n",
    "                100. * batch_idx / len(dataloader), loss.item() / len(data)))\n",
    "\n",
    "    print('====> Epoch: {} Average loss: {:.4f}'.format(\n",
    "          epoch, train_loss / len(dataloader.dataset)))\n",
    "\n"
   ]
  },
  {
   "cell_type": "code",
   "execution_count": 12,
   "id": "aa5e2998",
   "metadata": {},
   "outputs": [],
   "source": [
    "\n",
    "# Number of epochs\n",
    "num_epochs = 15\n",
    "\n",
    "# Run the training loop\n",
    "for epoch in range(1, num_epochs + 1):\n",
    "    train(epoch)\n"
   ]
  },
  {
   "cell_type": "code",
   "execution_count": 13,
   "metadata": {},
   "outputs": [],
   "source": [
    "# M.save(vae, 'simplevae.pkl')\n",
    "# vae = M.load('simplevae.pkl')\n"
   ]
  },
  {
   "cell_type": "code",
   "execution_count": 14,
   "id": "38c47d81",
   "metadata": {},
   "outputs": [
    {
     "name": "stdout",
     "output_type": "stream",
     "text": [
      "torch.Size([1, 222, 24, 24])\n",
      "torch.Size([222, 24, 24])\n"
     ]
    }
   ],
   "source": [
    "# Function to generate a new image from the latent space\n",
    "def generate_image_from_latent(vae, latent_dim):\n",
    "    # Sample from the standard normal distribution\n",
    "    z = torch.randn(1, latent_dim).to(device)\n",
    "    \n",
    "    # Run through the decoder\n",
    "    with torch.no_grad():\n",
    "        vae.eval()\n",
    "        generated_image = vae.decode(z)\n",
    "\n",
    "    return generated_image\n",
    "\n",
    "\n",
    "# Specify the latent dimension\n",
    "latent_dim = 20  # Must match the latent dimension size used in the VAE\n",
    "\n",
    "# Generate the image (assuming the VAE model and latent_dim are already defined)\n",
    "generated_image = generate_image_from_latent(vae, latent_dim)\n",
    "\n",
    "# Print the shape to confirm\n",
    "print(generated_image.shape)\n",
    "decoded_one_hot= generated_image[0]\n",
    "\n",
    "print(decoded_one_hot.shape)\n"
   ]
  },
  {
   "cell_type": "code",
   "execution_count": 15,
   "metadata": {},
   "outputs": [
    {
     "name": "stdout",
     "output_type": "stream",
     "text": [
      "torch.Size([222, 24, 24])\n",
      "torch.Size([4, 24, 24])\n"
     ]
    }
   ],
   "source": [
    "# decoded = decoded_one_hot.permute(1, 2, 0)\n",
    "decoded = decoded_one_hot\n",
    "print(decoded.shape)\n",
    "decoded = DS.one_hot_to_rgba(decoded, mapper)\n",
    "print(decoded.shape)\n"
   ]
  },
  {
   "cell_type": "code",
   "execution_count": 16,
   "metadata": {},
   "outputs": [
    {
     "data": {
      "image/png": "[encoded data removed]",
      "text/plain": [
       "<Figure size 640x480 with 1 Axes>"
      ]
     },
     "metadata": {},
     "output_type": "display_data"
    }
   ],
   "source": [
    "plt.imshow(transforms.functional.to_pil_image(decoded))\n",
    "plt.axis('off')\n",
    "plt.show()\n"
   ]
  },
  {
   "cell_type": "code",
   "execution_count": 17,
   "metadata": {},
   "outputs": [
    {
     "name": "stdout",
     "output_type": "stream",
     "text": [
      "torch.Size([222, 24, 24])\n",
      "torch.Size([4, 24, 24])\n"
     ]
    },
    {
     "data": {
      "image/png": "[encoded data removed]",
      "text/plain": [
       "<Figure size 640x480 with 1 Axes>"
      ]
     },
     "metadata": {},
     "output_type": "display_data"
    }
   ],
   "source": [
    "# punk = I.get_punk_tensor(420).permute((1, 2, 0))\n",
    "punk = I.get_punk_tensor(420)\n",
    "\n",
    "p = DS.rgba_to_one_hot(punk, mapper)\n",
    "print(p.shape)\n",
    "\n",
    "# p = p.permute((1, 2, 0))\n",
    "# print(p.shape)\n",
    "\n",
    "p = DS.one_hot_to_rgba(p, mapper)\n",
    "print(p.shape)\n",
    "\n",
    "plt.imshow(transforms.functional.to_pil_image(p))\n",
    "plt.show()\n",
    "\n"
   ]
  },
  {
   "cell_type": "code",
   "execution_count": 19,
   "metadata": {},
   "outputs": [
    {
     "name": "stdout",
     "output_type": "stream",
     "text": [
      "torch.Size([1, 222, 24, 24])\n",
      "torch.Size([222, 24, 24])\n",
      "torch.Size([4, 24, 24])\n"
     ]
    },
    {
     "data": {
      "image/png": "[encoded data removed]",
      "text/plain": [
       "<Figure size 640x480 with 1 Axes>"
      ]
     },
     "metadata": {},
     "output_type": "display_data"
    }
   ],
   "source": [
    "# punk = I.get_punk_tensor(420).permute((1, 2, 0))\n",
    "punk = I.get_punk_tensor(420)\n",
    "\n",
    "p = DS.rgba_to_one_hot(punk, mapper)\n",
    "p = p.unsqueeze(0)\n",
    "# print(p.shape)\n",
    "\n",
    "vae.eval()\n",
    "with torch.no_grad():\n",
    "    # Encode the input image\n",
    "    reconstructed, mu, logcar = vae.forward(p.to(device))\n",
    "    print(reconstructed.shape)\n",
    "\n",
    "\n",
    "recon_punk = reconstructed[0].cpu()\n",
    "print(recon_punk.shape)\n",
    "# recon_punk = recon_punk.permute((1, 2, 0))\n",
    "# print(recon_punk.shape)\n",
    "\n",
    "recon_punk = DS.one_hot_to_rgba(recon_punk, mapper)\n",
    "print(recon_punk.shape)\n",
    "\n",
    "plt.imshow(transforms.functional.to_pil_image(recon_punk.cpu()))\n",
    "plt.show()\n"
   ]
  },
  {
   "cell_type": "code",
   "execution_count": null,
   "metadata": {},
   "outputs": [],
   "source": []
  }
 ],
 "metadata": {
  "kernelspec": {
   "display_name": "Python 3 (ipykernel)",
   "language": "python",
   "name": "python3"
  },
  "language_info": {
   "codemirror_mode": {
    "name": "ipython",
    "version": 3
   },
   "file_extension": ".py",
   "mimetype": "text/x-python",
   "name": "python",
   "nbconvert_exporter": "python",
   "pygments_lexer": "ipython3",
   "version": "3.11.5"
  }
 },
 "nbformat": 4,
 "nbformat_minor": 5
}
