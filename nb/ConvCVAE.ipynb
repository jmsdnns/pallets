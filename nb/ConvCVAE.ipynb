{
 "cells": [
  {
   "cell_type": "markdown",
   "metadata": {},
   "source": [
    "# Punks Gen w/ Convolutional CVAE"
   ]
  },
  {
   "cell_type": "code",
   "execution_count": 1,
   "id": "19d0f047",
   "metadata": {},
   "outputs": [],
   "source": [
    "import sys\n",
    "import os\n",
    "import torch\n",
    "from torchvision import transforms\n",
    "from torch.utils.data import DataLoader, SubsetRandomSampler\n",
    "import matplotlib.pyplot as plt\n",
    "\n",
    "%matplotlib inline\n"
   ]
  },
  {
   "cell_type": "code",
   "execution_count": 2,
   "metadata": {},
   "outputs": [],
   "source": [
    "# Load pallets library\n",
    "\n",
    "sys.path.append(os.path.abspath(os.path.join(os.getcwd(), '..')))\n",
    "from pallets import images as I, datasets as DS, models as M, logging as L\n"
   ]
  },
  {
   "cell_type": "markdown",
   "id": "844bbd48",
   "metadata": {},
   "source": [
    "# Settings"
   ]
  },
  {
   "cell_type": "code",
   "execution_count": 3,
   "id": "9b8ec428",
   "metadata": {},
   "outputs": [],
   "source": [
    "SAVE_NAME = 'cvae.conv'"
   ]
  },
  {
   "cell_type": "code",
   "execution_count": 4,
   "id": "ae1b5c2f",
   "metadata": {},
   "outputs": [],
   "source": [
    "USE_GPU = True\n",
    "LOG_LEVEL = 'INFO'\n",
    "TEST_SIZE = 1000\n",
    "EPOCHS = 50\n",
    "LR = 3e-04\n",
    "BATCH_SIZE = 32\n",
    "\n",
    "LABELS_FILE = '../artifacts/pallets_labels.json'"
   ]
  },
  {
   "cell_type": "code",
   "execution_count": 5,
   "metadata": {},
   "outputs": [
    {
     "data": {
      "text/plain": [
       "<Logger pallets (INFO)>"
      ]
     },
     "execution_count": 5,
     "metadata": {},
     "output_type": "execute_result"
    }
   ],
   "source": [
    "# To GPU, or not to GPU\n",
    "device = M.get_device(require_gpu=USE_GPU)\n",
    "\n",
    "# Logging\n",
    "L.init_logger(notebook=True)\n"
   ]
  },
  {
   "cell_type": "markdown",
   "metadata": {},
   "source": [
    "## Prepare Datasets"
   ]
  },
  {
   "cell_type": "code",
   "execution_count": 6,
   "id": "35fef1c0",
   "metadata": {},
   "outputs": [
    {
     "name": "stdout",
     "output_type": "stream",
     "text": [
      "INFO | loading punk images\n",
      "INFO | - image 0\n",
      "INFO | - image 1000\n",
      "INFO | - image 2000\n",
      "INFO | - image 3000\n",
      "INFO | - image 4000\n",
      "INFO | - image 5000\n",
      "INFO | - image 6000\n",
      "INFO | - image 7000\n",
      "INFO | - image 8000\n",
      "INFO | - image 9000\n",
      "INFO | punk images complete\n",
      "INFO | loading punk labels: ../scripts/pallets_labels.json\n"
     ]
    }
   ],
   "source": [
    "# all_colors = I.get_punk_colors()\n",
    "# mapper = DS.ColorOneHotMapper(all_colors)\n",
    "# dataset = DS.OneHotCPunksDataset(\n",
    "#     mapper, labels_file=LABELS_FILE, test_size=TEST_SIZE\n",
    "# )\n",
    "# torch.save(dataset, '../artifacts/onehot_ds_cpu.pt')\n",
    "\n",
    "dataset = torch.load('../artifacts/onehot_ds_cpu.pt')"
   ]
  },
  {
   "cell_type": "code",
   "execution_count": 7,
   "metadata": {},
   "outputs": [],
   "source": [
    "train_sampler = SubsetRandomSampler(dataset.train_idx)\n",
    "test_sampler = SubsetRandomSampler(dataset.test_idx)\n",
    "\n",
    "train_loader = DataLoader(\n",
    "    dataset, batch_size=BATCH_SIZE, sampler=train_sampler,\n",
    ")\n",
    "test_loader = DataLoader(\n",
    "    dataset, batch_size=BATCH_SIZE, sampler=test_sampler,\n",
    ")\n"
   ]
  },
  {
   "cell_type": "markdown",
   "id": "b39e0222",
   "metadata": {},
   "source": [
    "## Convolutional CVAE"
   ]
  },
  {
   "cell_type": "code",
   "execution_count": 8,
   "id": "7e4d5fd0",
   "metadata": {},
   "outputs": [],
   "source": [
    "input_dim = 222\n",
    "latent_dim = 32\n",
    "classes_dim = 92\n",
    "\n",
    "model = M.cvae.ConvCVAE(input_dim, latent_dim, classes_dim)\n",
    "criterion = M.cvae.Loss()\n"
   ]
  },
  {
   "cell_type": "code",
   "execution_count": 9,
   "id": "9521e7fe",
   "metadata": {},
   "outputs": [
    {
     "name": "stdout",
     "output_type": "stream",
     "text": [
      "INFO | model: pallets.models.cvae.ConvCVAE\n",
      "INFO | criterion: pallets.models.cvae.Loss\n",
      "INFO | learn rate: 0.0003\n",
      "INFO | epochs: 50\n",
      "INFO | epoch 1 (  0%) loss: 1417047.000000\n",
      "INFO | epoch 1 ( 35%) loss: 158117.244682\n",
      "INFO | epoch 1 ( 70%) loss: 87349.213158\n",
      "INFO | epoch 1 (100%) loss: 66192.733606\n",
      "INFO | epoch 1 (test) loss: 13016.098328\n",
      "INFO | epoch 2 (  0%) loss: 13432.509766\n",
      "INFO | epoch 2 ( 35%) loss: 13005.386438\n",
      "INFO | epoch 2 ( 70%) loss: 12551.720863\n",
      "INFO | epoch 2 (100%) loss: 12195.360380\n",
      "INFO | epoch 2 (test) loss: 11105.471069\n",
      "INFO | epoch 3 (  0%) loss: 11077.093750\n",
      "INFO | epoch 3 ( 35%) loss: 11110.944858\n",
      "INFO | epoch 3 ( 70%) loss: 10920.656925\n",
      "INFO | epoch 3 (100%) loss: 10760.625437\n",
      "INFO | epoch 3 (test) loss: 10054.503563\n",
      "INFO | epoch 4 (  0%) loss: 10519.417969\n",
      "INFO | epoch 4 ( 35%) loss: 10087.117197\n",
      "INFO | epoch 4 ( 70%) loss: 9854.466768\n",
      "INFO | epoch 4 (100%) loss: 9617.662887\n",
      "INFO | epoch 4 (test) loss: 8735.941078\n",
      "INFO | epoch 5 (  0%) loss: 8944.197266\n",
      "INFO | epoch 5 ( 35%) loss: 8733.770406\n",
      "INFO | epoch 5 ( 70%) loss: 8527.772065\n",
      "INFO | epoch 5 (100%) loss: 8338.829074\n",
      "INFO | epoch 5 (test) loss: 7752.102837\n",
      "INFO | epoch 6 (  0%) loss: 7691.902344\n",
      "INFO | epoch 6 ( 35%) loss: 7705.603641\n",
      "INFO | epoch 6 ( 70%) loss: 7529.478929\n",
      "INFO | epoch 6 (100%) loss: 7408.802760\n",
      "INFO | epoch 6 (test) loss: 6891.160278\n",
      "INFO | epoch 7 (  0%) loss: 7688.797852\n",
      "INFO | epoch 7 ( 35%) loss: 6887.558603\n",
      "INFO | epoch 7 ( 70%) loss: 6795.578516\n",
      "INFO | epoch 7 (100%) loss: 6681.420062\n",
      "INFO | epoch 7 (test) loss: 6259.322342\n",
      "INFO | epoch 8 (  0%) loss: 6141.064453\n",
      "INFO | epoch 8 ( 35%) loss: 6233.081441\n",
      "INFO | epoch 8 ( 70%) loss: 6142.007242\n",
      "INFO | epoch 8 (100%) loss: 6032.470820\n",
      "INFO | epoch 8 (test) loss: 5662.386219\n",
      "INFO | epoch 9 (  0%) loss: 5877.447754\n",
      "INFO | epoch 9 ( 35%) loss: 5583.436997\n",
      "INFO | epoch 9 ( 70%) loss: 5512.032744\n",
      "INFO | epoch 9 (100%) loss: 5409.662142\n",
      "INFO | epoch 9 (test) loss: 5021.061077\n",
      "INFO | epoch 10 (  0%) loss: 5106.799805\n",
      "INFO | epoch 10 ( 35%) loss: 5015.872041\n",
      "INFO | epoch 10 ( 70%) loss: 4915.042461\n",
      "INFO | epoch 10 (100%) loss: 4724.448636\n",
      "INFO | epoch 10 (test) loss: 3879.573278\n",
      "INFO | epoch 11 (  0%) loss: 3596.708740\n",
      "INFO | epoch 11 ( 35%) loss: 3569.641152\n",
      "INFO | epoch 11 ( 70%) loss: 3197.817176\n",
      "INFO | epoch 11 (100%) loss: 2926.251117\n",
      "INFO | epoch 11 (test) loss: 2199.110649\n",
      "INFO | epoch 12 (  0%) loss: 2056.976562\n",
      "INFO | epoch 12 ( 35%) loss: 1986.586491\n",
      "INFO | epoch 12 ( 70%) loss: 1873.713652\n",
      "INFO | epoch 12 (100%) loss: 1791.324144\n",
      "INFO | epoch 12 (test) loss: 1533.293058\n",
      "INFO | epoch 13 (  0%) loss: 1861.613403\n",
      "INFO | epoch 13 ( 35%) loss: 1427.184883\n",
      "INFO | epoch 13 ( 70%) loss: 1396.115349\n",
      "INFO | epoch 13 (100%) loss: 1356.594394\n",
      "INFO | epoch 13 (test) loss: 1212.532344\n",
      "INFO | epoch 14 (  0%) loss: 1316.257812\n",
      "INFO | epoch 14 ( 35%) loss: 1141.610896\n",
      "INFO | epoch 14 ( 70%) loss: 1104.711726\n",
      "INFO | epoch 14 (100%) loss: 1066.845179\n",
      "INFO | epoch 14 (test) loss: 974.969052\n",
      "INFO | epoch 15 (  0%) loss: 980.746887\n",
      "INFO | epoch 15 ( 35%) loss: 924.902451\n",
      "INFO | epoch 15 ( 70%) loss: 893.171014\n",
      "INFO | epoch 15 (100%) loss: 870.864196\n",
      "INFO | epoch 15 (test) loss: 806.286282\n",
      "INFO | epoch 16 (  0%) loss: 783.851318\n",
      "INFO | epoch 16 ( 35%) loss: 760.167692\n",
      "INFO | epoch 16 ( 70%) loss: 744.978573\n",
      "INFO | epoch 16 (100%) loss: 723.950858\n",
      "INFO | epoch 16 (test) loss: 675.197265\n",
      "INFO | epoch 17 (  0%) loss: 784.339966\n",
      "INFO | epoch 17 ( 35%) loss: 639.436199\n",
      "INFO | epoch 17 ( 70%) loss: 626.373247\n",
      "INFO | epoch 17 (100%) loss: 604.501642\n",
      "INFO | epoch 17 (test) loss: 577.369634\n",
      "INFO | epoch 18 (  0%) loss: 481.937775\n",
      "INFO | epoch 18 ( 35%) loss: 526.396180\n",
      "INFO | epoch 18 ( 70%) loss: 522.428662\n",
      "INFO | epoch 18 (100%) loss: 507.917488\n",
      "INFO | epoch 18 (test) loss: 500.860472\n",
      "INFO | epoch 19 (  0%) loss: 528.979248\n",
      "INFO | epoch 19 ( 35%) loss: 452.009432\n",
      "INFO | epoch 19 ( 70%) loss: 443.173212\n",
      "INFO | epoch 19 (100%) loss: 432.300190\n",
      "INFO | epoch 19 (test) loss: 425.480873\n",
      "INFO | epoch 20 (  0%) loss: 330.324493\n",
      "INFO | epoch 20 ( 35%) loss: 383.110068\n",
      "INFO | epoch 20 ( 70%) loss: 378.037365\n",
      "INFO | epoch 20 (100%) loss: 369.823927\n",
      "INFO | epoch 20 (test) loss: 383.502161\n",
      "INFO | epoch 21 (  0%) loss: 366.768311\n",
      "INFO | epoch 21 ( 35%) loss: 333.396685\n",
      "INFO | epoch 21 ( 70%) loss: 325.483414\n",
      "INFO | epoch 21 (100%) loss: 326.705034\n",
      "INFO | epoch 21 (test) loss: 345.804653\n",
      "INFO | epoch 22 (  0%) loss: 359.608826\n",
      "INFO | epoch 22 ( 35%) loss: 289.124604\n",
      "INFO | epoch 22 ( 70%) loss: 287.818080\n",
      "INFO | epoch 22 (100%) loss: 289.546325\n",
      "INFO | epoch 22 (test) loss: 297.447513\n",
      "INFO | epoch 23 (  0%) loss: 420.175720\n",
      "INFO | epoch 23 ( 35%) loss: 260.893068\n",
      "INFO | epoch 23 ( 70%) loss: 265.236797\n",
      "INFO | epoch 23 (100%) loss: 280.226079\n",
      "INFO | epoch 23 (test) loss: 484.880335\n",
      "INFO | epoch 24 (  0%) loss: 478.622681\n",
      "INFO | epoch 24 ( 35%) loss: 388.440428\n",
      "INFO | epoch 24 ( 70%) loss: 332.616376\n",
      "INFO | epoch 24 (100%) loss: 314.631406\n",
      "INFO | epoch 24 (test) loss: 247.944277\n",
      "INFO | epoch 25 (  0%) loss: 168.185150\n",
      "INFO | epoch 25 ( 35%) loss: 214.794717\n",
      "INFO | epoch 25 ( 70%) loss: 214.685830\n",
      "INFO | epoch 25 (100%) loss: 216.200553\n",
      "INFO | epoch 25 (test) loss: 237.898192\n",
      "INFO | epoch 26 (  0%) loss: 276.228210\n",
      "INFO | epoch 26 ( 35%) loss: 194.583942\n",
      "INFO | epoch 26 ( 70%) loss: 193.786690\n",
      "INFO | epoch 26 (100%) loss: 194.301113\n",
      "INFO | epoch 26 (test) loss: 212.808440\n",
      "INFO | epoch 27 (  0%) loss: 158.522308\n",
      "INFO | epoch 27 ( 35%) loss: 205.342723\n",
      "INFO | epoch 27 ( 70%) loss: 187.555214\n",
      "INFO | epoch 27 (100%) loss: 182.820676\n",
      "INFO | epoch 27 (test) loss: 191.696677\n",
      "INFO | epoch 28 (  0%) loss: 225.921387\n",
      "INFO | epoch 28 ( 35%) loss: 175.491742\n",
      "INFO | epoch 28 ( 70%) loss: 166.321557\n",
      "INFO | epoch 28 (100%) loss: 164.939761\n",
      "INFO | epoch 28 (test) loss: 312.848808\n",
      "INFO | epoch 29 (  0%) loss: 141.124023\n",
      "INFO | epoch 29 ( 35%) loss: 219.910953\n",
      "INFO | epoch 29 ( 70%) loss: 193.568117\n",
      "INFO | epoch 29 (100%) loss: 183.459432\n",
      "INFO | epoch 29 (test) loss: 179.413606\n",
      "INFO | epoch 30 (  0%) loss: 126.338844\n",
      "INFO | epoch 30 ( 35%) loss: 139.404439\n",
      "INFO | epoch 30 ( 70%) loss: 142.001076\n",
      "INFO | epoch 30 (100%) loss: 143.220094\n",
      "INFO | epoch 30 (test) loss: 161.122004\n",
      "INFO | epoch 31 (  0%) loss: 145.777496\n",
      "INFO | epoch 31 ( 35%) loss: 135.301103\n",
      "INFO | epoch 31 ( 70%) loss: 133.957225\n",
      "INFO | epoch 31 (100%) loss: 134.602750\n",
      "INFO | epoch 31 (test) loss: 157.900292\n",
      "INFO | epoch 32 (  0%) loss: 136.374359\n",
      "INFO | epoch 32 ( 35%) loss: 141.540927\n",
      "INFO | epoch 32 ( 70%) loss: 131.852771\n",
      "INFO | epoch 32 (100%) loss: 131.820490\n",
      "INFO | epoch 32 (test) loss: 163.715456\n",
      "INFO | epoch 33 (  0%) loss: 141.108307\n",
      "INFO | epoch 33 ( 35%) loss: 126.104080\n",
      "INFO | epoch 33 ( 70%) loss: 123.458251\n",
      "INFO | epoch 33 (100%) loss: 129.161917\n",
      "INFO | epoch 33 (test) loss: 165.580270\n",
      "INFO | epoch 34 (  0%) loss: 83.153748\n",
      "INFO | epoch 34 ( 35%) loss: 137.409577\n",
      "INFO | epoch 34 ( 70%) loss: 130.392297\n",
      "INFO | epoch 34 (100%) loss: 128.789999\n",
      "INFO | epoch 34 (test) loss: 178.029971\n",
      "INFO | epoch 35 (  0%) loss: 126.128761\n",
      "INFO | epoch 35 ( 35%) loss: 129.968739\n",
      "INFO | epoch 35 ( 70%) loss: 123.007127\n",
      "INFO | epoch 35 (100%) loss: 127.715502\n",
      "INFO | epoch 35 (test) loss: 145.406281\n",
      "INFO | epoch 36 (  0%) loss: 131.850464\n",
      "INFO | epoch 36 ( 35%) loss: 133.919718\n",
      "INFO | epoch 36 ( 70%) loss: 146.561016\n",
      "INFO | epoch 36 (100%) loss: 151.696030\n",
      "INFO | epoch 36 (test) loss: 144.653980\n",
      "INFO | epoch 37 (  0%) loss: 120.440628\n",
      "INFO | epoch 37 ( 35%) loss: 117.870752\n",
      "INFO | epoch 37 ( 70%) loss: 118.858222\n",
      "INFO | epoch 37 (100%) loss: 114.023953\n",
      "INFO | epoch 37 (test) loss: 120.340839\n",
      "INFO | epoch 38 (  0%) loss: 79.035522\n",
      "INFO | epoch 38 ( 35%) loss: 100.053281\n",
      "INFO | epoch 38 ( 70%) loss: 100.413529\n",
      "INFO | epoch 38 (100%) loss: 100.187333\n",
      "INFO | epoch 38 (test) loss: 112.748836\n",
      "INFO | epoch 39 (  0%) loss: 68.673447\n",
      "INFO | epoch 39 ( 35%) loss: 97.732087\n",
      "INFO | epoch 39 ( 70%) loss: 104.885762\n",
      "INFO | epoch 39 (100%) loss: 104.367394\n",
      "INFO | epoch 39 (test) loss: 131.294746\n",
      "INFO | epoch 40 (  0%) loss: 127.564774\n",
      "INFO | epoch 40 ( 35%) loss: 94.084721\n",
      "INFO | epoch 40 ( 70%) loss: 120.810684\n",
      "INFO | epoch 40 (100%) loss: 114.494930\n",
      "INFO | epoch 40 (test) loss: 117.074368\n",
      "INFO | epoch 41 (  0%) loss: 79.084503\n",
      "INFO | epoch 41 ( 35%) loss: 81.073089\n",
      "INFO | epoch 41 ( 70%) loss: 86.019194\n",
      "INFO | epoch 41 (100%) loss: 86.504728\n",
      "INFO | epoch 41 (test) loss: 105.980039\n",
      "INFO | epoch 42 (  0%) loss: 62.896461\n",
      "INFO | epoch 42 ( 35%) loss: 83.209159\n",
      "INFO | epoch 42 ( 70%) loss: 83.479340\n",
      "INFO | epoch 42 (100%) loss: 88.077426\n",
      "INFO | epoch 42 (test) loss: 109.594294\n",
      "INFO | epoch 43 (  0%) loss: 82.196259\n",
      "INFO | epoch 43 ( 35%) loss: 92.827508\n",
      "INFO | epoch 43 ( 70%) loss: 106.040808\n",
      "INFO | epoch 43 (100%) loss: 108.968728\n",
      "INFO | epoch 43 (test) loss: 121.860799\n",
      "INFO | epoch 44 (  0%) loss: 134.816223\n",
      "INFO | epoch 44 ( 35%) loss: 92.795353\n",
      "INFO | epoch 44 ( 70%) loss: 90.008725\n",
      "INFO | epoch 44 (100%) loss: 88.521262\n",
      "INFO | epoch 44 (test) loss: 138.622830\n",
      "INFO | epoch 45 (  0%) loss: 84.666046\n",
      "INFO | epoch 45 ( 35%) loss: 89.436800\n",
      "INFO | epoch 45 ( 70%) loss: 84.824650\n",
      "INFO | epoch 45 (100%) loss: 80.431299\n",
      "INFO | epoch 45 (test) loss: 85.849537\n",
      "INFO | epoch 46 (  0%) loss: 64.803841\n",
      "INFO | epoch 46 ( 35%) loss: 82.207181\n",
      "INFO | epoch 46 ( 70%) loss: 100.993832\n",
      "INFO | epoch 46 (100%) loss: 96.600497\n",
      "INFO | epoch 46 (test) loss: 95.815073\n",
      "INFO | epoch 47 (  0%) loss: 67.094986\n",
      "INFO | epoch 47 ( 35%) loss: 80.891094\n",
      "INFO | epoch 47 ( 70%) loss: 92.137998\n",
      "INFO | epoch 47 (100%) loss: 89.621529\n",
      "INFO | epoch 47 (test) loss: 88.287156\n",
      "INFO | epoch 48 (  0%) loss: 67.193695\n",
      "INFO | epoch 48 ( 35%) loss: 84.550815\n",
      "INFO | epoch 48 ( 70%) loss: 93.778970\n",
      "INFO | epoch 48 (100%) loss: 93.713602\n",
      "INFO | epoch 48 (test) loss: 95.368453\n",
      "INFO | epoch 49 (  0%) loss: 68.039497\n",
      "INFO | epoch 49 ( 35%) loss: 71.669341\n",
      "INFO | epoch 49 ( 70%) loss: 74.008552\n",
      "INFO | epoch 49 (100%) loss: 72.889145\n",
      "INFO | epoch 49 (test) loss: 92.424276\n",
      "INFO | epoch 50 (  0%) loss: 103.592384\n",
      "INFO | epoch 50 ( 35%) loss: 69.236475\n",
      "INFO | epoch 50 ( 70%) loss: 68.757609\n",
      "INFO | epoch 50 (100%) loss: 71.022847\n",
      "INFO | epoch 50 (test) loss: 110.150990\n"
     ]
    }
   ],
   "source": [
    "\n",
    "train_losses, test_losses = M.cvae.train(\n",
    "    device, model, criterion, train_loader, test_loader,\n",
    "    learn_rate=LR, epochs=EPOCHS\n",
    ")\n"
   ]
  },
  {
   "cell_type": "code",
   "execution_count": 10,
   "metadata": {},
   "outputs": [
    {
     "name": "stdout",
     "output_type": "stream",
     "text": [
      "INFO | model blob saved to /home/jmsdnns/ML/pallets/saved/cvae.conv.pkl\n",
      "INFO | training losses saved to /home/jmsdnns/ML/pallets/saved/cvae.conv.json\n"
     ]
    }
   ],
   "source": [
    "M.save(SAVE_NAME, model, train_losses, test_losses)"
   ]
  },
  {
   "cell_type": "markdown",
   "id": "77fb32ad",
   "metadata": {},
   "source": [
    "# Model Output to Image"
   ]
  },
  {
   "cell_type": "code",
   "execution_count": 11,
   "id": "84a76798",
   "metadata": {},
   "outputs": [],
   "source": [
    "# model, train_losses, test_losses = M.load(SAVE_NAME, device)\n",
    "# model = model.to(device)\n"
   ]
  },
  {
   "cell_type": "markdown",
   "id": "c71acb2c",
   "metadata": {},
   "source": [
    "#"
   ]
  },
  {
   "cell_type": "code",
   "execution_count": 12,
   "id": "f2b9d212",
   "metadata": {},
   "outputs": [],
   "source": [
    "import random\n",
    "import json\n",
    "\n",
    "raw_labels = json.load(open(\"../artifacts/pallets_labels.json\"))\n",
    "label_keys = [k for k in raw_labels[\"0\"].keys()]\n",
    "\n",
    "def rand_label():\n",
    "    label_idx = int(random.random() * len(dataset._labels))\n",
    "    features = dataset._labels[label_idx]\n",
    "    enabled_names = [k for k,v in zip(label_keys, features) if v.item() == 1]\n",
    "    return features.to(device), enabled_names\n"
   ]
  },
  {
   "cell_type": "code",
   "execution_count": 13,
   "id": "38c47d81",
   "metadata": {},
   "outputs": [],
   "source": [
    "# Generate new image\n",
    "\n",
    "def rand_punk():\n",
    "    z = torch.randn(1, latent_dim).to(device)\n",
    "    # print(z.shape)\n",
    "    features, names = rand_label()\n",
    "    print(f\"Features: {', '.join(names)}\")\n",
    "\n",
    "    with torch.no_grad():\n",
    "        model.eval()\n",
    "        generated_image = model.decoder(z, features.unsqueeze(0))\n",
    "        # print(generated_image.shape)\n",
    "\n",
    "    decoded_one_hot = generated_image[0]\n",
    "    decoded_one_hot = decoded_one_hot.view((222, 24, 24))\n",
    "    # print(decoded_one_hot.shape)\n",
    "    decoded = DS.one_hot_to_rgba(decoded_one_hot, dataset.mapper)\n",
    "    print(f\"Shape: {decoded.shape}\")\n",
    "    return decoded\n"
   ]
  },
  {
   "cell_type": "markdown",
   "id": "31e74ceb",
   "metadata": {},
   "source": [
    "### 5 Randoms"
   ]
  },
  {
   "cell_type": "code",
   "execution_count": 28,
   "metadata": {},
   "outputs": [
    {
     "name": "stdout",
     "output_type": "stream",
     "text": [
      "Features: male, crazyHair, hornedRimGlasses\n",
      "Shape: torch.Size([4, 24, 24])\n",
      "torch.Size([4, 24, 24])\n"
     ]
    },
    {
     "data": {
      "image/png": "[encoded data removed]",
      "text/plain": [
       "<Figure size 640x480 with 1 Axes>"
      ]
     },
     "metadata": {},
     "output_type": "display_data"
    }
   ],
   "source": [
    "decoded = rand_punk()\n",
    "print(decoded.shape)\n",
    "\n",
    "plt.imshow(transforms.functional.to_pil_image(decoded))\n",
    "plt.axis('off')\n",
    "plt.show()\n"
   ]
  },
  {
   "cell_type": "code",
   "execution_count": 29,
   "id": "6744444a",
   "metadata": {},
   "outputs": [
    {
     "name": "stdout",
     "output_type": "stream",
     "text": [
      "Features: male, frown, mohawk, bigShades, earring\n",
      "Shape: torch.Size([4, 24, 24])\n"
     ]
    },
    {
     "data": {
      "image/png": "[encoded data removed]",
      "text/plain": [
       "<Figure size 640x480 with 1 Axes>"
      ]
     },
     "metadata": {},
     "output_type": "display_data"
    }
   ],
   "source": [
    "decoded = rand_punk()\n",
    "\n",
    "plt.imshow(transforms.functional.to_pil_image(decoded))\n",
    "plt.axis('off')\n",
    "plt.show()\n"
   ]
  },
  {
   "cell_type": "code",
   "execution_count": 30,
   "id": "e190c583",
   "metadata": {},
   "outputs": [
    {
     "name": "stdout",
     "output_type": "stream",
     "text": [
      "Features: male, policeCap, eyePatch, earring\n",
      "Shape: torch.Size([4, 24, 24])\n"
     ]
    },
    {
     "data": {
      "image/png": "[encoded data removed]",
      "text/plain": [
       "<Figure size 640x480 with 1 Axes>"
      ]
     },
     "metadata": {},
     "output_type": "display_data"
    }
   ],
   "source": [
    "decoded = rand_punk()\n",
    "\n",
    "plt.imshow(transforms.functional.to_pil_image(decoded))\n",
    "plt.axis('off')\n",
    "plt.show()\n"
   ]
  },
  {
   "cell_type": "code",
   "execution_count": 31,
   "id": "be357c27",
   "metadata": {},
   "outputs": [
    {
     "name": "stdout",
     "output_type": "stream",
     "text": [
      "Features: female, wildBlonde, purpleEyeShadow, hotLipstick\n",
      "Shape: torch.Size([4, 24, 24])\n"
     ]
    },
    {
     "data": {
      "image/png": "[encoded data removed]",
      "text/plain": [
       "<Figure size 640x480 with 1 Axes>"
      ]
     },
     "metadata": {},
     "output_type": "display_data"
    }
   ],
   "source": [
    "decoded = rand_punk()\n",
    "\n",
    "plt.imshow(transforms.functional.to_pil_image(decoded))\n",
    "plt.axis('off')\n",
    "plt.show()\n"
   ]
  },
  {
   "cell_type": "code",
   "execution_count": 32,
   "id": "d8f339ae",
   "metadata": {},
   "outputs": [
    {
     "name": "stdout",
     "output_type": "stream",
     "text": [
      "Features: male, hoodie, clownEyesBlue\n",
      "Shape: torch.Size([4, 24, 24])\n"
     ]
    },
    {
     "data": {
      "image/png": "[encoded data removed]",
      "text/plain": [
       "<Figure size 640x480 with 1 Axes>"
      ]
     },
     "metadata": {},
     "output_type": "display_data"
    }
   ],
   "source": [
    "decoded = rand_punk()\n",
    "\n",
    "plt.imshow(transforms.functional.to_pil_image(decoded))\n",
    "plt.axis('off')\n",
    "plt.show()\n"
   ]
  },
  {
   "cell_type": "markdown",
   "id": "3e1bd761",
   "metadata": {},
   "source": [
    "## Reconstruction"
   ]
  },
  {
   "cell_type": "code",
   "execution_count": 19,
   "id": "a150efab",
   "metadata": {},
   "outputs": [],
   "source": [
    "def reconstruct_punk(idx):\n",
    "    punk = I.get_punk_tensor(idx)\n",
    "    p = DS.rgba_to_one_hot(punk, dataset.mapper)\n",
    "    p = p.unsqueeze(0)\n",
    "    p = p.to(device)\n",
    "\n",
    "    _, labels = dataset[idx]\n",
    "    l = labels.unsqueeze(0)\n",
    "    l = l.to(device)\n",
    "    enabled_features = [k for k,v in zip(label_keys, labels) if v.item() == 1]\n",
    "\n",
    "    model.eval()\n",
    "    with torch.no_grad():\n",
    "        reconstructed, mu, logvar = model.forward(p, l)\n",
    "\n",
    "    recon_punk = reconstructed[0].cpu()\n",
    "    recon_punk = DS.one_hot_to_rgba(recon_punk, dataset.mapper)\n",
    "\n",
    "    return punk, recon_punk, enabled_features\n",
    "\n",
    "\n",
    "def draw_two(img1, img2):\n",
    "    page_size = 2\n",
    "    view_x, view_y = 4*page_size, 2*page_size\n",
    "    fig = plt.figure(figsize=(view_x, view_y))\n",
    "    fig.add_subplot(1, 2, 1)\n",
    "    plt.imshow(transforms.functional.to_pil_image(img1))\n",
    "    plt.axis('off')\n",
    "    fig.add_subplot(1, 2, 2)\n",
    "    plt.imshow(transforms.functional.to_pil_image(img2))\n",
    "    plt.axis('off')\n",
    "    plt.show()\n"
   ]
  },
  {
   "cell_type": "markdown",
   "id": "7a12b220",
   "metadata": {},
   "source": [
    "### 5 Recons"
   ]
  },
  {
   "cell_type": "code",
   "execution_count": 33,
   "id": "142e642d",
   "metadata": {},
   "outputs": [
    {
     "name": "stdout",
     "output_type": "stream",
     "text": [
      "Features: female, rosyCheeks, darkHair, cigarette\n"
     ]
    },
    {
     "data": {
      "image/png": "[encoded data removed]",
      "text/plain": [
       "<Figure size 800x400 with 2 Axes>"
      ]
     },
     "metadata": {},
     "output_type": "display_data"
    }
   ],
   "source": [
    "punk, recon_punk, features = reconstruct_punk(1000)\n",
    "\n",
    "print(f\"Features: {', '.join(features)}\")\n",
    "draw_two(punk, recon_punk)"
   ]
  },
  {
   "cell_type": "code",
   "execution_count": 34,
   "metadata": {},
   "outputs": [
    {
     "name": "stdout",
     "output_type": "stream",
     "text": [
      "Features: female, stringyHair, purpleLipstick, earring\n"
     ]
    },
    {
     "data": {
      "image/png": "[encoded data removed]",
      "text/plain": [
       "<Figure size 800x400 with 2 Axes>"
      ]
     },
     "metadata": {},
     "output_type": "display_data"
    }
   ],
   "source": [
    "punk, recon_punk, features = reconstruct_punk(2001)\n",
    "\n",
    "print(f\"Features: {', '.join(features)}\")\n",
    "draw_two(punk, recon_punk)\n"
   ]
  },
  {
   "cell_type": "code",
   "execution_count": 35,
   "id": "8e401eca",
   "metadata": {},
   "outputs": [
    {
     "name": "stdout",
     "output_type": "stream",
     "text": [
      "Features: female, wildWhiteHair, greenEyeShadow, hotLipstick\n"
     ]
    },
    {
     "data": {
      "image/png": "[encoded data removed]",
      "text/plain": [
       "<Figure size 800x400 with 2 Axes>"
      ]
     },
     "metadata": {},
     "output_type": "display_data"
    }
   ],
   "source": [
    "punk, recon_punk, features = reconstruct_punk(5000)\n",
    "\n",
    "print(f\"Features: {', '.join(features)}\")\n",
    "draw_two(punk, recon_punk)"
   ]
  },
  {
   "cell_type": "code",
   "execution_count": 36,
   "id": "99f3ac30",
   "metadata": {},
   "outputs": [
    {
     "name": "stdout",
     "output_type": "stream",
     "text": [
      "Features: male, rosyCheeks, mustache, vr, cap, cigarette\n"
     ]
    },
    {
     "data": {
      "image/png": "[encoded data removed]",
      "text/plain": [
       "<Figure size 800x400 with 2 Axes>"
      ]
     },
     "metadata": {},
     "output_type": "display_data"
    }
   ],
   "source": [
    "punk, recon_punk, features = reconstruct_punk(8000)\n",
    "\n",
    "print(f\"Features: {', '.join(features)}\")\n",
    "draw_two(punk, recon_punk)"
   ]
  },
  {
   "cell_type": "code",
   "execution_count": 37,
   "id": "eb402159",
   "metadata": {},
   "outputs": [
    {
     "name": "stdout",
     "output_type": "stream",
     "text": [
      "Features: male, handlebars, bandana\n"
     ]
    },
    {
     "data": {
      "image/png": "[encoded data removed]",
      "text/plain": [
       "<Figure size 800x400 with 2 Axes>"
      ]
     },
     "metadata": {},
     "output_type": "display_data"
    }
   ],
   "source": [
    "punk, recon_punk, features = reconstruct_punk(1337)\n",
    "\n",
    "print(f\"Features: {', '.join(features)}\")\n",
    "draw_two(punk, recon_punk)"
   ]
  },
  {
   "cell_type": "markdown",
   "id": "04a97510",
   "metadata": {},
   "source": [
    "# Testing"
   ]
  },
  {
   "cell_type": "code",
   "execution_count": 25,
   "metadata": {},
   "outputs": [
    {
     "data": {
      "text/plain": [
       "<function matplotlib.pyplot.show(close=None, block=None)>"
      ]
     },
     "execution_count": 25,
     "metadata": {},
     "output_type": "execute_result"
    },
    {
     "data": {
      "image/png": "[encoded data removed]",
      "text/plain": [
       "<Figure size 640x480 with 1 Axes>"
      ]
     },
     "metadata": {},
     "output_type": "display_data"
    }
   ],
   "source": [
    "plt.title(\"Train & Test loss\")\n",
    "plt.plot(train_losses, label='train loss')\n",
    "plt.plot(test_losses, label='test loss')\n",
    "plt.legend()\n",
    "plt.show\n"
   ]
  },
  {
   "cell_type": "code",
   "execution_count": 26,
   "id": "c1261252",
   "metadata": {},
   "outputs": [
    {
     "data": {
      "text/plain": [
       "[132385.46721243352,\n",
       " 24390.720760264296,\n",
       " 21521.250874404366,\n",
       " 19235.325773631426,\n",
       " 16677.6581477172,\n",
       " 14817.605520694813,\n",
       " 13362.840124251994,\n",
       " 12064.941640001662,\n",
       " 10819.324283681017,\n",
       " 9448.897272204676,\n",
       " 5852.502233843431,\n",
       " 3582.6482881586603,\n",
       " 2713.1887877985096,\n",
       " 2133.6903580469443,\n",
       " 1741.7283929053774,\n",
       " 1447.901715001316,\n",
       " 1209.0032836697626,\n",
       " 1015.8349751141054,\n",
       " 864.6003791322099,\n",
       " 739.6478536619362,\n",
       " 653.4100681602532,\n",
       " 579.0926501767855,\n",
       " 560.4521587182444,\n",
       " 629.2628127294229,\n",
       " 432.40110659768396,\n",
       " 388.6022259326691,\n",
       " 365.64135240324845,\n",
       " 329.8795226076816,\n",
       " 366.9188644463289,\n",
       " 286.4401871836777,\n",
       " 269.2055006365404,\n",
       " 263.64097942866334,\n",
       " 258.32383322208483,\n",
       " 257.57999739410184,\n",
       " 255.4310039763755,\n",
       " 303.39206046246466,\n",
       " 228.04790699735602,\n",
       " 200.37466584875227,\n",
       " 208.73478881348956,\n",
       " 228.98986004768534,\n",
       " 173.00945675626716,\n",
       " 176.1548520487251,\n",
       " 217.93745665854595,\n",
       " 177.0425247300601,\n",
       " 160.8625980268979,\n",
       " 193.20099478917766,\n",
       " 179.24305727803116,\n",
       " 187.4272034827699,\n",
       " 145.77828953790328,\n",
       " 142.0456931743216]"
      ]
     },
     "execution_count": 26,
     "metadata": {},
     "output_type": "execute_result"
    }
   ],
   "source": [
    "train_losses\n"
   ]
  },
  {
   "cell_type": "code",
   "execution_count": 27,
   "id": "15d6f86b",
   "metadata": {},
   "outputs": [
    {
     "data": {
      "text/plain": [
       "[26032.196655273438,\n",
       " 22210.942138671875,\n",
       " 20109.007125854492,\n",
       " 17471.88215637207,\n",
       " 15504.205673217773,\n",
       " 13782.320556640625,\n",
       " 12518.64468383789,\n",
       " 11324.772438049316,\n",
       " 10042.12215423584,\n",
       " 7759.146556854248,\n",
       " 4398.221298217773,\n",
       " 3066.5861167907715,\n",
       " 2425.064688682556,\n",
       " 1949.9381046295166,\n",
       " 1612.5725631713867,\n",
       " 1350.3945293426514,\n",
       " 1154.7392673492432,\n",
       " 1001.7209434509277,\n",
       " 850.961745262146,\n",
       " 767.004322052002,\n",
       " 691.6093063354492,\n",
       " 594.8950262069702,\n",
       " 969.7606706619263,\n",
       " 495.8885545730591,\n",
       " 475.7963833808899,\n",
       " 425.61687994003296,\n",
       " 383.39335322380066,\n",
       " 625.6976156234741,\n",
       " 358.82721161842346,\n",
       " 322.24400806427,\n",
       " 315.8005847930908,\n",
       " 327.4309115409851,\n",
       " 331.1605393886566,\n",
       " 356.05994272232056,\n",
       " 290.8125627040863,\n",
       " 289.30795907974243,\n",
       " 240.68167805671692,\n",
       " 225.49767184257507,\n",
       " 262.5894923210144,\n",
       " 234.14873576164246,\n",
       " 211.9600771665573,\n",
       " 219.18858885765076,\n",
       " 243.72159814834595,\n",
       " 277.2456600666046,\n",
       " 171.6990739107132,\n",
       " 191.63014554977417,\n",
       " 176.57431268692017,\n",
       " 190.7369064092636,\n",
       " 184.84855151176453,\n",
       " 220.30197930335999]"
      ]
     },
     "execution_count": 27,
     "metadata": {},
     "output_type": "execute_result"
    }
   ],
   "source": [
    "test_losses\n"
   ]
  }
 ],
 "metadata": {
  "kernelspec": {
   "display_name": "Python 3 (ipykernel)",
   "language": "python",
   "name": "python3"
  },
  "language_info": {
   "codemirror_mode": {
    "name": "ipython",
    "version": 3
   },
   "file_extension": ".py",
   "mimetype": "text/x-python",
   "name": "python",
   "nbconvert_exporter": "python",
   "pygments_lexer": "ipython3",
   "version": "3.11.6"
  }
 },
 "nbformat": 4,
 "nbformat_minor": 5
}
