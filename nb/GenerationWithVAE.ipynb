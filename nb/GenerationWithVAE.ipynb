{
 "cells": [
  {
   "cell_type": "markdown",
   "metadata": {},
   "source": [
    "# Generating Punks with a Variational Autoencoder"
   ]
  },
  {
   "cell_type": "code",
   "execution_count": 1,
   "id": "19d0f047",
   "metadata": {},
   "outputs": [],
   "source": [
    "import sys\n",
    "import os\n",
    "import torch\n",
    "from torchvision import transforms\n",
    "from torch.utils.data import DataLoader, SubsetRandomSampler\n",
    "import matplotlib.pyplot as plt\n",
    "\n",
    "%matplotlib inline\n"
   ]
  },
  {
   "cell_type": "code",
   "execution_count": 2,
   "metadata": {},
   "outputs": [],
   "source": [
    "# Load pallets library\n",
    "\n",
    "sys.path.append(os.path.abspath(os.path.join(os.getcwd(), '..')))\n",
    "from pallets import images as I, datasets as DS, models as M, logging as L\n"
   ]
  },
  {
   "cell_type": "code",
   "execution_count": 3,
   "metadata": {},
   "outputs": [
    {
     "data": {
      "text/plain": [
       "<Logger pallets (INFO)>"
      ]
     },
     "execution_count": 3,
     "metadata": {},
     "output_type": "execute_result"
    }
   ],
   "source": [
    "# To GPU, or not to GPU\n",
    "device = M.get_device(require_gpu=True)\n",
    "\n",
    "# Logging\n",
    "L.init_logger()\n"
   ]
  },
  {
   "cell_type": "markdown",
   "metadata": {},
   "source": [
    "## Prepare Datasets"
   ]
  },
  {
   "cell_type": "code",
   "execution_count": 4,
   "id": "35fef1c0",
   "metadata": {},
   "outputs": [
    {
     "name": "stderr",
     "output_type": "stream",
     "text": [
      "INFO | loading punk images\n",
      "INFO | - image 0\n",
      "INFO | - image 1000\n",
      "INFO | - image 2000\n",
      "INFO | - image 3000\n",
      "INFO | - image 4000\n",
      "INFO | - image 5000\n",
      "INFO | - image 6000\n",
      "INFO | - image 7000\n",
      "INFO | - image 8000\n",
      "INFO | - image 9000\n",
      "INFO | punk images complete\n",
      "INFO | loading punk labels: ../../cpunks-10k/cpunks/data/punks.json\n"
     ]
    }
   ],
   "source": [
    "all_colors = I.get_punk_colors()\n",
    "mapper = DS.ColorOneHotMapper(all_colors)\n",
    "dataset = DS.FastOneHotCPunksDataset(device, mapper, test_size=1000)\n"
   ]
  },
  {
   "cell_type": "code",
   "execution_count": 5,
   "metadata": {},
   "outputs": [],
   "source": [
    "batch_size = 32\n",
    "num_workers = 0\n",
    "\n",
    "train_sampler = SubsetRandomSampler(dataset.train_idx)\n",
    "test_sampler = SubsetRandomSampler(dataset.test_idx)\n",
    "\n",
    "train_loader = DataLoader(\n",
    "    dataset, batch_size=batch_size, sampler=train_sampler, num_workers=num_workers\n",
    ")\n",
    "test_loader = DataLoader(\n",
    "    dataset, batch_size=batch_size, sampler=test_sampler, num_workers=num_workers\n",
    ")\n"
   ]
  },
  {
   "cell_type": "markdown",
   "id": "b39e0222",
   "metadata": {},
   "source": [
    "## Convolutional VAE"
   ]
  },
  {
   "cell_type": "code",
   "execution_count": 6,
   "id": "7e4d5fd0",
   "metadata": {},
   "outputs": [
    {
     "name": "stderr",
     "output_type": "stream",
     "text": [
      "INFO | model: pallets.models.vae.VAE\n",
      "INFO | criterion: pallets.models.vae.Loss\n",
      "INFO | learn rate: 0.001\n",
      "INFO | epochs: 50\n",
      "INFO | epoch 1 (  0%) loss: 511434.656250\n",
      "INFO | epoch 1 ( 35%) loss: 29068.487648\n",
      "INFO | epoch 1 ( 70%) loss: 16498.244375\n",
      "INFO | epoch 1 (100%) loss: 12724.692905\n",
      "INFO | epoch 1 (test) loss: 3273.220243\n",
      "INFO | epoch 2 (  0%) loss: 3343.030518\n",
      "INFO | epoch 2 ( 35%) loss: 3256.372143\n",
      "INFO | epoch 2 ( 70%) loss: 3218.057014\n",
      "INFO | epoch 2 (100%) loss: 3150.602561\n",
      "INFO | epoch 2 (test) loss: 2839.882257\n",
      "INFO | epoch 3 (  0%) loss: 2946.720703\n",
      "INFO | epoch 3 ( 35%) loss: 2836.684706\n",
      "INFO | epoch 3 ( 70%) loss: 2797.466622\n",
      "INFO | epoch 3 (100%) loss: 2764.208574\n",
      "INFO | epoch 3 (test) loss: 2619.762283\n",
      "INFO | epoch 4 (  0%) loss: 2808.705322\n",
      "INFO | epoch 4 ( 35%) loss: 2664.948211\n",
      "INFO | epoch 4 ( 70%) loss: 2646.614847\n",
      "INFO | epoch 4 (100%) loss: 2626.749254\n",
      "INFO | epoch 4 (test) loss: 2550.433319\n",
      "INFO | epoch 5 (  0%) loss: 2736.033203\n",
      "INFO | epoch 5 ( 35%) loss: 2574.954116\n",
      "INFO | epoch 5 ( 70%) loss: 2548.163262\n",
      "INFO | epoch 5 (100%) loss: 2525.402693\n",
      "INFO | epoch 5 (test) loss: 2408.813156\n",
      "INFO | epoch 6 (  0%) loss: 2451.404297\n",
      "INFO | epoch 6 ( 35%) loss: 2431.718508\n",
      "INFO | epoch 6 ( 70%) loss: 2430.192023\n",
      "INFO | epoch 6 (100%) loss: 2414.881812\n",
      "INFO | epoch 6 (test) loss: 2325.490993\n",
      "INFO | epoch 7 (  0%) loss: 2543.903564\n",
      "INFO | epoch 7 ( 35%) loss: 2383.295915\n",
      "INFO | epoch 7 ( 70%) loss: 2351.695406\n",
      "INFO | epoch 7 (100%) loss: 2329.242376\n",
      "INFO | epoch 7 (test) loss: 2253.791975\n",
      "INFO | epoch 8 (  0%) loss: 2225.001953\n",
      "INFO | epoch 8 ( 35%) loss: 2247.420016\n",
      "INFO | epoch 8 ( 70%) loss: 2241.098197\n",
      "INFO | epoch 8 (100%) loss: 2227.473862\n",
      "INFO | epoch 8 (test) loss: 2137.385464\n",
      "INFO | epoch 9 (  0%) loss: 2209.671143\n",
      "INFO | epoch 9 ( 35%) loss: 2161.665931\n",
      "INFO | epoch 9 ( 70%) loss: 2075.999299\n",
      "INFO | epoch 9 (100%) loss: 2029.548380\n",
      "INFO | epoch 9 (test) loss: 1842.002401\n",
      "INFO | epoch 10 (  0%) loss: 2047.518799\n",
      "INFO | epoch 10 ( 35%) loss: 1786.092358\n",
      "INFO | epoch 10 ( 70%) loss: 1699.377529\n",
      "INFO | epoch 10 (100%) loss: 1649.104528\n",
      "INFO | epoch 10 (test) loss: 1467.727604\n",
      "INFO | epoch 11 (  0%) loss: 1230.811279\n",
      "INFO | epoch 11 ( 35%) loss: 1463.655296\n",
      "INFO | epoch 11 ( 70%) loss: 1437.708970\n",
      "INFO | epoch 11 (100%) loss: 1420.120771\n",
      "INFO | epoch 11 (test) loss: 1340.021909\n",
      "INFO | epoch 12 (  0%) loss: 1386.831299\n",
      "INFO | epoch 12 ( 35%) loss: 1342.056546\n",
      "INFO | epoch 12 ( 70%) loss: 1337.171138\n",
      "INFO | epoch 12 (100%) loss: 1320.667921\n",
      "INFO | epoch 12 (test) loss: 1253.056214\n",
      "INFO | epoch 13 (  0%) loss: 1266.380249\n",
      "INFO | epoch 13 ( 35%) loss: 1268.958559\n",
      "INFO | epoch 13 ( 70%) loss: 1267.049991\n",
      "INFO | epoch 13 (100%) loss: 1249.762989\n",
      "INFO | epoch 13 (test) loss: 1193.781797\n",
      "INFO | epoch 14 (  0%) loss: 1202.169189\n",
      "INFO | epoch 14 ( 35%) loss: 1211.990365\n",
      "INFO | epoch 14 ( 70%) loss: 1190.623122\n",
      "INFO | epoch 14 (100%) loss: 1185.079389\n",
      "INFO | epoch 14 (test) loss: 1145.789327\n",
      "INFO | epoch 15 (  0%) loss: 1048.612061\n",
      "INFO | epoch 15 ( 35%) loss: 1159.119140\n",
      "INFO | epoch 15 ( 70%) loss: 1141.775621\n",
      "INFO | epoch 15 (100%) loss: 1128.194112\n",
      "INFO | epoch 15 (test) loss: 1087.803162\n",
      "INFO | epoch 16 (  0%) loss: 1116.202393\n",
      "INFO | epoch 16 ( 35%) loss: 1071.959622\n",
      "INFO | epoch 16 ( 70%) loss: 1054.987691\n",
      "INFO | epoch 16 (100%) loss: 1050.779587\n",
      "INFO | epoch 16 (test) loss: 1008.415679\n",
      "INFO | epoch 17 (  0%) loss: 973.476318\n",
      "INFO | epoch 17 ( 35%) loss: 1013.248046\n",
      "INFO | epoch 17 ( 70%) loss: 1002.624878\n",
      "INFO | epoch 17 (100%) loss: 1000.101441\n",
      "INFO | epoch 17 (test) loss: 959.142195\n",
      "INFO | epoch 18 (  0%) loss: 1230.041626\n",
      "INFO | epoch 18 ( 35%) loss: 972.781080\n",
      "INFO | epoch 18 ( 70%) loss: 962.974821\n",
      "INFO | epoch 18 (100%) loss: 957.951260\n",
      "INFO | epoch 18 (test) loss: 948.174872\n",
      "INFO | epoch 19 (  0%) loss: 1101.429321\n",
      "INFO | epoch 19 ( 35%) loss: 936.239671\n",
      "INFO | epoch 19 ( 70%) loss: 932.954908\n",
      "INFO | epoch 19 (100%) loss: 923.939865\n",
      "INFO | epoch 19 (test) loss: 911.757813\n",
      "INFO | epoch 20 (  0%) loss: 870.046753\n",
      "INFO | epoch 20 ( 35%) loss: 902.153306\n",
      "INFO | epoch 20 ( 70%) loss: 895.479343\n",
      "INFO | epoch 20 (100%) loss: 897.896404\n",
      "INFO | epoch 20 (test) loss: 889.574418\n",
      "INFO | epoch 21 (  0%) loss: 974.013550\n",
      "INFO | epoch 21 ( 35%) loss: 876.868411\n",
      "INFO | epoch 21 ( 70%) loss: 868.967173\n",
      "INFO | epoch 21 (100%) loss: 869.924407\n",
      "INFO | epoch 21 (test) loss: 880.185876\n",
      "INFO | epoch 22 (  0%) loss: 895.958679\n",
      "INFO | epoch 22 ( 35%) loss: 877.627318\n",
      "INFO | epoch 22 ( 70%) loss: 855.608045\n",
      "INFO | epoch 22 (100%) loss: 852.125581\n",
      "INFO | epoch 22 (test) loss: 834.918494\n",
      "INFO | epoch 23 (  0%) loss: 920.906006\n",
      "INFO | epoch 23 ( 35%) loss: 849.772471\n",
      "INFO | epoch 23 ( 70%) loss: 833.980178\n",
      "INFO | epoch 23 (100%) loss: 826.903501\n",
      "INFO | epoch 23 (test) loss: 821.858353\n",
      "INFO | epoch 24 (  0%) loss: 985.869446\n",
      "INFO | epoch 24 ( 35%) loss: 826.741735\n",
      "INFO | epoch 24 ( 70%) loss: 818.843723\n",
      "INFO | epoch 24 (100%) loss: 814.292490\n",
      "INFO | epoch 24 (test) loss: 791.019409\n",
      "INFO | epoch 25 (  0%) loss: 800.453186\n",
      "INFO | epoch 25 ( 35%) loss: 800.661028\n",
      "INFO | epoch 25 ( 70%) loss: 802.627379\n",
      "INFO | epoch 25 (100%) loss: 799.403060\n",
      "INFO | epoch 25 (test) loss: 794.019661\n",
      "INFO | epoch 26 (  0%) loss: 918.584229\n",
      "INFO | epoch 26 ( 35%) loss: 796.153568\n",
      "INFO | epoch 26 ( 70%) loss: 790.882342\n",
      "INFO | epoch 26 (100%) loss: 783.578388\n",
      "INFO | epoch 26 (test) loss: 757.736919\n",
      "INFO | epoch 27 (  0%) loss: 715.730713\n",
      "INFO | epoch 27 ( 35%) loss: 775.575708\n",
      "INFO | epoch 27 ( 70%) loss: 778.202344\n",
      "INFO | epoch 27 (100%) loss: 772.195373\n",
      "INFO | epoch 27 (test) loss: 765.007334\n",
      "INFO | epoch 28 (  0%) loss: 856.245300\n",
      "INFO | epoch 28 ( 35%) loss: 760.489202\n",
      "INFO | epoch 28 ( 70%) loss: 755.327357\n",
      "INFO | epoch 28 (100%) loss: 752.143942\n",
      "INFO | epoch 28 (test) loss: 746.089089\n",
      "INFO | epoch 29 (  0%) loss: 771.405151\n",
      "INFO | epoch 29 ( 35%) loss: 738.415698\n",
      "INFO | epoch 29 ( 70%) loss: 735.269889\n",
      "INFO | epoch 29 (100%) loss: 733.990783\n",
      "INFO | epoch 29 (test) loss: 719.328108\n",
      "INFO | epoch 30 (  0%) loss: 784.780518\n",
      "INFO | epoch 30 ( 35%) loss: 711.799504\n",
      "INFO | epoch 30 ( 70%) loss: 710.105466\n",
      "INFO | epoch 30 (100%) loss: 705.959414\n",
      "INFO | epoch 30 (test) loss: 697.476782\n",
      "INFO | epoch 31 (  0%) loss: 640.591187\n",
      "INFO | epoch 31 ( 35%) loss: 704.046411\n",
      "INFO | epoch 31 ( 70%) loss: 693.362866\n",
      "INFO | epoch 31 (100%) loss: 693.782903\n",
      "INFO | epoch 31 (test) loss: 700.549173\n",
      "INFO | epoch 32 (  0%) loss: 716.254089\n",
      "INFO | epoch 32 ( 35%) loss: 677.001965\n",
      "INFO | epoch 32 ( 70%) loss: 677.448607\n",
      "INFO | epoch 32 (100%) loss: 680.712263\n",
      "INFO | epoch 32 (test) loss: 667.659636\n",
      "INFO | epoch 33 (  0%) loss: 681.736694\n",
      "INFO | epoch 33 ( 35%) loss: 669.146426\n",
      "INFO | epoch 33 ( 70%) loss: 669.677188\n",
      "INFO | epoch 33 (100%) loss: 669.016499\n",
      "INFO | epoch 33 (test) loss: 657.435680\n",
      "INFO | epoch 34 (  0%) loss: 663.861633\n",
      "INFO | epoch 34 ( 35%) loss: 670.563347\n",
      "INFO | epoch 34 ( 70%) loss: 668.173333\n",
      "INFO | epoch 34 (100%) loss: 666.969817\n",
      "INFO | epoch 34 (test) loss: 656.885750\n",
      "INFO | epoch 35 (  0%) loss: 835.274536\n",
      "INFO | epoch 35 ( 35%) loss: 653.994787\n",
      "INFO | epoch 35 ( 70%) loss: 666.467078\n",
      "INFO | epoch 35 (100%) loss: 658.830385\n",
      "INFO | epoch 35 (test) loss: 637.430155\n",
      "INFO | epoch 36 (  0%) loss: 690.784180\n",
      "INFO | epoch 36 ( 35%) loss: 653.772331\n",
      "INFO | epoch 36 ( 70%) loss: 657.108366\n",
      "INFO | epoch 36 (100%) loss: 650.565269\n",
      "INFO | epoch 36 (test) loss: 646.342050\n",
      "INFO | epoch 37 (  0%) loss: 665.629578\n",
      "INFO | epoch 37 ( 35%) loss: 647.070196\n",
      "INFO | epoch 37 ( 70%) loss: 645.030646\n",
      "INFO | epoch 37 (100%) loss: 645.815713\n",
      "INFO | epoch 37 (test) loss: 629.660974\n",
      "INFO | epoch 38 (  0%) loss: 690.819031\n",
      "INFO | epoch 38 ( 35%) loss: 636.448560\n",
      "INFO | epoch 38 ( 70%) loss: 633.996969\n",
      "INFO | epoch 38 (100%) loss: 635.243643\n",
      "INFO | epoch 38 (test) loss: 638.012433\n",
      "INFO | epoch 39 (  0%) loss: 588.692871\n",
      "INFO | epoch 39 ( 35%) loss: 633.355258\n",
      "INFO | epoch 39 ( 70%) loss: 634.438756\n",
      "INFO | epoch 39 (100%) loss: 626.193195\n",
      "INFO | epoch 39 (test) loss: 607.255934\n",
      "INFO | epoch 40 (  0%) loss: 624.808777\n",
      "INFO | epoch 40 ( 35%) loss: 609.201873\n",
      "INFO | epoch 40 ( 70%) loss: 615.506605\n",
      "INFO | epoch 40 (100%) loss: 615.255926\n",
      "INFO | epoch 40 (test) loss: 608.297219\n",
      "INFO | epoch 41 (  0%) loss: 656.324646\n",
      "INFO | epoch 41 ( 35%) loss: 611.583384\n",
      "INFO | epoch 41 ( 70%) loss: 609.579395\n",
      "INFO | epoch 41 (100%) loss: 607.379079\n",
      "INFO | epoch 41 (test) loss: 593.545627\n",
      "INFO | epoch 42 (  0%) loss: 545.256287\n",
      "INFO | epoch 42 ( 35%) loss: 606.244034\n",
      "INFO | epoch 42 ( 70%) loss: 602.452749\n",
      "INFO | epoch 42 (100%) loss: 601.588656\n",
      "INFO | epoch 42 (test) loss: 577.206753\n",
      "INFO | epoch 43 (  0%) loss: 544.570984\n",
      "INFO | epoch 43 ( 35%) loss: 586.632691\n",
      "INFO | epoch 43 ( 70%) loss: 584.159077\n",
      "INFO | epoch 43 (100%) loss: 582.053995\n",
      "INFO | epoch 43 (test) loss: 562.509745\n",
      "INFO | epoch 44 (  0%) loss: 564.583130\n",
      "INFO | epoch 44 ( 35%) loss: 569.868598\n",
      "INFO | epoch 44 ( 70%) loss: 572.022871\n",
      "INFO | epoch 44 (100%) loss: 573.068528\n",
      "INFO | epoch 44 (test) loss: 561.049112\n",
      "INFO | epoch 45 (  0%) loss: 521.237061\n",
      "INFO | epoch 45 ( 35%) loss: 582.837052\n",
      "INFO | epoch 45 ( 70%) loss: 573.597077\n",
      "INFO | epoch 45 (100%) loss: 568.310921\n",
      "INFO | epoch 45 (test) loss: 554.811082\n",
      "INFO | epoch 46 (  0%) loss: 549.160767\n",
      "INFO | epoch 46 ( 35%) loss: 557.859834\n",
      "INFO | epoch 46 ( 70%) loss: 559.846799\n",
      "INFO | epoch 46 (100%) loss: 558.301267\n",
      "INFO | epoch 46 (test) loss: 548.550745\n",
      "INFO | epoch 47 (  0%) loss: 537.926514\n",
      "INFO | epoch 47 ( 35%) loss: 557.360160\n",
      "INFO | epoch 47 ( 70%) loss: 562.530783\n",
      "INFO | epoch 47 (100%) loss: 559.441780\n",
      "INFO | epoch 47 (test) loss: 537.276519\n",
      "INFO | epoch 48 (  0%) loss: 638.433716\n",
      "INFO | epoch 48 ( 35%) loss: 547.221612\n",
      "INFO | epoch 48 ( 70%) loss: 546.640282\n",
      "INFO | epoch 48 (100%) loss: 548.636327\n",
      "INFO | epoch 48 (test) loss: 562.075165\n",
      "INFO | epoch 49 (  0%) loss: 510.886749\n",
      "INFO | epoch 49 ( 35%) loss: 562.259217\n",
      "INFO | epoch 49 ( 70%) loss: 553.171159\n",
      "INFO | epoch 49 (100%) loss: 550.413551\n",
      "INFO | epoch 49 (test) loss: 541.218791\n",
      "INFO | epoch 50 (  0%) loss: 536.703857\n",
      "INFO | epoch 50 ( 35%) loss: 544.806158\n",
      "INFO | epoch 50 ( 70%) loss: 545.964620\n",
      "INFO | epoch 50 (100%) loss: 545.662788\n",
      "INFO | epoch 50 (test) loss: 533.490483\n"
     ]
    }
   ],
   "source": [
    "# Cue training montage\n",
    "\n",
    "model = M.vae.VAE(222, (64, 32), 20)\n",
    "criterion = M.vae.Loss()\n",
    "\n",
    "train_losses, test_losses = M.vae.train(\n",
    "    device, model, criterion, train_loader, test_loader,\n",
    "    learn_rate=1e-03, epochs=50\n",
    ")\n"
   ]
  },
  {
   "cell_type": "code",
   "execution_count": 7,
   "metadata": {},
   "outputs": [
    {
     "name": "stderr",
     "output_type": "stream",
     "text": [
      "INFO | model blob saved to /home/jmsdnns/ML/pallets/saved/vae.conv.pkl\n",
      "INFO | training losses saved to /home/jmsdnns/ML/pallets/saved/vae.conv.json\n"
     ]
    }
   ],
   "source": [
    "M.save('vae.conv', model, train_losses, test_losses)"
   ]
  },
  {
   "cell_type": "markdown",
   "id": "77fb32ad",
   "metadata": {},
   "source": [
    "# Model Output to Image"
   ]
  },
  {
   "cell_type": "code",
   "execution_count": 8,
   "id": "84a76798",
   "metadata": {},
   "outputs": [],
   "source": [
    "# model, train_losses, test_losses = M.load('vae.conv')\n"
   ]
  },
  {
   "cell_type": "code",
   "execution_count": 9,
   "id": "38c47d81",
   "metadata": {},
   "outputs": [
    {
     "name": "stdout",
     "output_type": "stream",
     "text": [
      "torch.Size([1, 222, 24, 24])\n",
      "torch.Size([222, 24, 24])\n"
     ]
    }
   ],
   "source": [
    "# Generate new image\n",
    "\n",
    "z = torch.randn(1, 20).to(device)\n",
    "with torch.no_grad():\n",
    "    model.eval()\n",
    "    generated_image = model.decode(z)\n",
    "    print(generated_image.shape)\n",
    "\n",
    "\n",
    "decoded_one_hot = generated_image[0]\n",
    "print(decoded_one_hot.shape)\n"
   ]
  },
  {
   "cell_type": "code",
   "execution_count": 10,
   "metadata": {},
   "outputs": [
    {
     "name": "stdout",
     "output_type": "stream",
     "text": [
      "torch.Size([4, 24, 24])\n"
     ]
    },
    {
     "data": {
      "image/png": "[encoded data removed]",
      "text/plain": [
       "<Figure size 640x480 with 1 Axes>"
      ]
     },
     "metadata": {},
     "output_type": "display_data"
    }
   ],
   "source": [
    "decoded = DS.one_hot_to_rgba(decoded_one_hot, mapper)\n",
    "print(decoded.shape)\n",
    "\n",
    "plt.imshow(transforms.functional.to_pil_image(decoded))\n",
    "plt.axis('off')\n",
    "plt.show()\n"
   ]
  },
  {
   "cell_type": "code",
   "execution_count": 11,
   "metadata": {},
   "outputs": [
    {
     "data": {
      "text/plain": [
       "[25449.385809715757,\n",
       " 6301.205121412345,\n",
       " 5528.417148454815,\n",
       " 5253.498508318096,\n",
       " 5050.805386157746,\n",
       " 4829.7636238260475,\n",
       " 4658.484751167027,\n",
       " 4454.947724903729,\n",
       " 4059.0967591197777,\n",
       " 3298.209055582682,\n",
       " 2840.2415420856883,\n",
       " 2641.3358420514046,\n",
       " 2499.525977168523,\n",
       " 2370.1587784138133,\n",
       " 2256.3882232016704,\n",
       " 2101.5591742332945,\n",
       " 2000.2028825908687,\n",
       " 1915.9025196048385,\n",
       " 1847.879730982138,\n",
       " 1795.792807396422,\n",
       " 1739.848814186475,\n",
       " 1704.251161832336,\n",
       " 1653.8070017496746,\n",
       " 1628.5849802003684,\n",
       " 1598.8061205275515,\n",
       " 1567.15677594124,\n",
       " 1544.390745771692,\n",
       " 1504.287884218473,\n",
       " 1467.9815663006289,\n",
       " 1411.9188283284504,\n",
       " 1387.5658067202737,\n",
       " 1361.4245265663094,\n",
       " 1338.0329988087324,\n",
       " 1333.939634498975,\n",
       " 1317.6607694152399,\n",
       " 1301.130537263045,\n",
       " 1291.6314263851084,\n",
       " 1270.4872854246316,\n",
       " 1252.386389766179,\n",
       " 1230.5118515339304,\n",
       " 1214.758158582322,\n",
       " 1203.1773111870948,\n",
       " 1164.1079891015452,\n",
       " 1146.1370556337613,\n",
       " 1136.621841106009,\n",
       " 1116.6025332187085,\n",
       " 1118.8835603971008,\n",
       " 1097.272653999058,\n",
       " 1100.827102390587,\n",
       " 1091.3255768904448]"
      ]
     },
     "execution_count": 11,
     "metadata": {},
     "output_type": "execute_result"
    }
   ],
   "source": [
    "train_losses\n"
   ]
  },
  {
   "cell_type": "code",
   "execution_count": 12,
   "metadata": {},
   "outputs": [
    {
     "data": {
      "text/plain": [
       "[6546.440486907959,\n",
       " 5679.764514923096,\n",
       " 5239.524566650391,\n",
       " 5100.866638183594,\n",
       " 4817.626312255859,\n",
       " 4650.981986999512,\n",
       " 4507.583950042725,\n",
       " 4274.770927429199,\n",
       " 3684.0048027038574,\n",
       " 2935.455207824707,\n",
       " 2680.0438175201416,\n",
       " 2506.112428665161,\n",
       " 2387.5635948181152,\n",
       " 2291.5786533355713,\n",
       " 2175.6063232421875,\n",
       " 2016.8313579559326,\n",
       " 1918.2843894958496,\n",
       " 1896.3497438430786,\n",
       " 1823.5156269073486,\n",
       " 1779.1488361358643,\n",
       " 1760.3717527389526,\n",
       " 1669.8369884490967,\n",
       " 1643.7167053222656,\n",
       " 1582.038818359375,\n",
       " 1588.039321899414,\n",
       " 1515.4738388061523,\n",
       " 1530.0146684646606,\n",
       " 1492.1781787872314,\n",
       " 1438.6562156677246,\n",
       " 1394.9535636901855,\n",
       " 1401.098346710205,\n",
       " 1335.3192729949951,\n",
       " 1314.8713603019714,\n",
       " 1313.771499633789,\n",
       " 1274.86030960083,\n",
       " 1292.6840991973877,\n",
       " 1259.3219480514526,\n",
       " 1276.024866104126,\n",
       " 1214.5118684768677,\n",
       " 1216.5944375991821,\n",
       " 1187.0912537574768,\n",
       " 1154.4135065078735,\n",
       " 1125.01948928833,\n",
       " 1122.0982236862183,\n",
       " 1109.622163772583,\n",
       " 1097.1014909744263,\n",
       " 1074.5530376434326,\n",
       " 1124.150330543518,\n",
       " 1082.437581539154,\n",
       " 1066.9809651374817]"
      ]
     },
     "execution_count": 12,
     "metadata": {},
     "output_type": "execute_result"
    }
   ],
   "source": [
    "test_losses\n"
   ]
  },
  {
   "cell_type": "code",
   "execution_count": 13,
   "metadata": {},
   "outputs": [
    {
     "data": {
      "image/png": "[encoded data removed]",
      "text/plain": [
       "<Figure size 640x480 with 1 Axes>"
      ]
     },
     "metadata": {},
     "output_type": "display_data"
    }
   ],
   "source": [
    "punk = I.get_punk_tensor(1000)\n",
    "\n",
    "plt.imshow(transforms.functional.to_pil_image(punk))\n",
    "plt.show()\n",
    "\n"
   ]
  },
  {
   "cell_type": "code",
   "execution_count": 14,
   "metadata": {},
   "outputs": [
    {
     "name": "stdout",
     "output_type": "stream",
     "text": [
      "torch.Size([1, 222, 24, 24])\n"
     ]
    },
    {
     "data": {
      "image/png": "[encoded data removed]",
      "text/plain": [
       "<Figure size 640x480 with 1 Axes>"
      ]
     },
     "metadata": {},
     "output_type": "display_data"
    }
   ],
   "source": [
    "punk = I.get_punk_tensor(1000)\n",
    "\n",
    "p = DS.rgba_to_one_hot(punk, mapper)\n",
    "p = p.unsqueeze(0)\n",
    "p = p.to(device)\n",
    "\n",
    "model.eval()\n",
    "with torch.no_grad():\n",
    "    reconstructed, mu, logcar = model.forward(p)\n",
    "    print(reconstructed.shape)\n",
    "\n",
    "recon_punk = reconstructed[0].cpu()\n",
    "recon_punk = DS.one_hot_to_rgba(recon_punk, mapper)\n",
    "plt.imshow(transforms.functional.to_pil_image(recon_punk.cpu()))\n",
    "plt.show()\n"
   ]
  },
  {
   "cell_type": "code",
   "execution_count": 15,
   "metadata": {},
   "outputs": [
    {
     "data": {
      "text/plain": [
       "<function matplotlib.pyplot.show(close=None, block=None)>"
      ]
     },
     "execution_count": 15,
     "metadata": {},
     "output_type": "execute_result"
    },
    {
     "data": {
      "image/png": "[encoded data removed]",
      "text/plain": [
       "<Figure size 640x480 with 1 Axes>"
      ]
     },
     "metadata": {},
     "output_type": "display_data"
    }
   ],
   "source": [
    "plt.title(\"Train & Test loss\")\n",
    "plt.plot(train_losses, label='train loss')\n",
    "plt.plot(test_losses, label='test loss')\n",
    "plt.legend()\n",
    "plt.show\n"
   ]
  },
  {
   "cell_type": "code",
   "execution_count": null,
   "metadata": {},
   "outputs": [],
   "source": []
  }
 ],
 "metadata": {
  "kernelspec": {
   "display_name": "Python 3 (ipykernel)",
   "language": "python",
   "name": "python3"
  },
  "language_info": {
   "codemirror_mode": {
    "name": "ipython",
    "version": 3
   },
   "file_extension": ".py",
   "mimetype": "text/x-python",
   "name": "python",
   "nbconvert_exporter": "python",
   "pygments_lexer": "ipython3",
   "version": "3.11.6"
  }
 },
 "nbformat": 4,
 "nbformat_minor": 5
}
