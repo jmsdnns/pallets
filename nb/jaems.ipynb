{
 "cells": [
  {
   "cell_type": "markdown",
   "metadata": {},
   "source": [
    "# Generating Punks with a Variational Autoencoder"
   ]
  },
  {
   "cell_type": "code",
   "execution_count": 1,
   "id": "19d0f047",
   "metadata": {},
   "outputs": [],
   "source": [
    "import sys\n",
    "import os\n",
    "import numpy as np\n",
    "# from PIL import Image\n",
    "import torch\n",
    "import torch.nn as nn\n",
    "import torch.nn.functional as F\n",
    "import torch.optim as optim\n",
    "from torchvision import transforms\n",
    "from torch.utils.data import Dataset, DataLoader, SubsetRandomSampler\n",
    "import matplotlib.pyplot as plt\n",
    "import pickle\n",
    "from matplotlib.colors import rgb2hex\n",
    "import matplotlib.image as mpimg\n",
    "import matplotlib.pyplot as plt\n",
    "%matplotlib inline\n"
   ]
  },
  {
   "cell_type": "code",
   "execution_count": 2,
   "metadata": {},
   "outputs": [],
   "source": [
    "# Load pallets library\n",
    "\n",
    "sys.path.append(os.path.abspath(os.path.join(os.getcwd(), '..')))  # uncomment to run nb from 'pallets/nb'\n",
    "# sys.path.append(os.path.abspath(os.getcwd()))                    # uncomment to run from project root\n",
    "\n",
    "from pallets import images as I, datasets as DS, models as M\n"
   ]
  },
  {
   "cell_type": "code",
   "execution_count": 3,
   "metadata": {},
   "outputs": [],
   "source": [
    "# To GPU, or not to GPU\n",
    "\n",
    "device = M.get_device(require_gpu=True)\n"
   ]
  },
  {
   "cell_type": "markdown",
   "metadata": {},
   "source": [
    "## Prepare Datasets"
   ]
  },
  {
   "cell_type": "code",
   "execution_count": 4,
   "id": "35fef1c0",
   "metadata": {},
   "outputs": [],
   "source": [
    "# dataset = DS.CPunksDataset(device=device, test_size=0)\n",
    "\n",
    "all_colors = I.get_punk_colors()\n",
    "mapper = DS.ColorOneHotMapper(all_colors)\n",
    "dataset = DS.OneHotEncodedImageDataset(mapper, device=device, test_size=1000)\n"
   ]
  },
  {
   "cell_type": "code",
   "execution_count": 5,
   "metadata": {},
   "outputs": [],
   "source": [
    "batch_size = 32\n",
    "num_workers = 0\n",
    "\n",
    "train_sampler = SubsetRandomSampler(dataset.train_idx)\n",
    "test_sampler = SubsetRandomSampler(dataset.test_idx)\n",
    "\n",
    "train_loader = DataLoader(\n",
    "    dataset, batch_size=batch_size, sampler=train_sampler, num_workers=num_workers\n",
    ")\n",
    "test_loader = DataLoader(\n",
    "    dataset, batch_size=batch_size, sampler=test_sampler, num_workers=num_workers\n",
    ")\n"
   ]
  },
  {
   "cell_type": "markdown",
   "id": "b39e0222",
   "metadata": {},
   "source": [
    "## Convolutional VAE"
   ]
  },
  {
   "cell_type": "code",
   "execution_count": 8,
   "metadata": {},
   "outputs": [
    {
     "name": "stdout",
     "output_type": "stream",
     "text": [
      "epoch 1 (0%)\t loss: 31949.107422\n",
      "epoch 1 (35%)\t loss: 260.553925\n",
      "epoch 1 (71%)\t loss: 243.327164\n",
      "epoch 1 (100%)\t loss: 830.198145\n",
      "epoch 1 test\t loss: 214.274795\n",
      "epoch 2 (0%)\t loss: 215.800171\n",
      "epoch 2 (35%)\t loss: 220.008774\n",
      "epoch 2 (71%)\t loss: 200.514755\n",
      "epoch 2 (100%)\t loss: 203.075368\n",
      "epoch 2 test\t loss: 192.961199\n",
      "epoch 3 (0%)\t loss: 200.541153\n",
      "epoch 3 (35%)\t loss: 182.495865\n",
      "epoch 3 (71%)\t loss: 177.396423\n",
      "epoch 3 (100%)\t loss: 182.938855\n",
      "epoch 3 test\t loss: 172.174372\n",
      "epoch 4 (0%)\t loss: 171.031845\n",
      "epoch 4 (35%)\t loss: 181.067017\n",
      "epoch 4 (71%)\t loss: 169.630585\n",
      "epoch 4 (100%)\t loss: 166.994334\n",
      "epoch 4 test\t loss: 161.581150\n",
      "epoch 5 (0%)\t loss: 158.127197\n",
      "epoch 5 (35%)\t loss: 161.786362\n",
      "epoch 5 (71%)\t loss: 146.418671\n",
      "epoch 5 (100%)\t loss: 159.241402\n",
      "epoch 5 test\t loss: 153.958063\n",
      "epoch 6 (0%)\t loss: 161.131821\n",
      "epoch 6 (35%)\t loss: 158.474838\n",
      "epoch 6 (71%)\t loss: 147.803024\n",
      "epoch 6 (100%)\t loss: 150.058158\n",
      "epoch 6 test\t loss: 140.823260\n",
      "epoch 7 (0%)\t loss: 152.632309\n",
      "epoch 7 (35%)\t loss: 135.719391\n",
      "epoch 7 (71%)\t loss: 126.139450\n",
      "epoch 7 (100%)\t loss: 126.028355\n",
      "epoch 7 test\t loss: 116.342641\n",
      "epoch 8 (0%)\t loss: 119.604088\n",
      "epoch 8 (35%)\t loss: 113.710152\n",
      "epoch 8 (71%)\t loss: 94.024742\n",
      "epoch 8 (100%)\t loss: 111.796315\n",
      "epoch 8 test\t loss: 106.748758\n",
      "epoch 9 (0%)\t loss: 103.712593\n",
      "epoch 9 (35%)\t loss: 112.105469\n",
      "epoch 9 (71%)\t loss: 119.702988\n",
      "epoch 9 (100%)\t loss: 103.647063\n",
      "epoch 9 test\t loss: 99.737426\n",
      "epoch 10 (0%)\t loss: 94.550682\n",
      "epoch 10 (35%)\t loss: 103.655602\n",
      "epoch 10 (71%)\t loss: 106.462112\n",
      "epoch 10 (100%)\t loss: 98.472849\n",
      "epoch 10 test\t loss: 94.759954\n",
      "epoch 11 (0%)\t loss: 100.418564\n",
      "epoch 11 (35%)\t loss: 91.932327\n",
      "epoch 11 (71%)\t loss: 93.077805\n",
      "epoch 11 (100%)\t loss: 94.458119\n",
      "epoch 11 test\t loss: 92.904056\n",
      "epoch 12 (0%)\t loss: 87.438980\n",
      "epoch 12 (35%)\t loss: 88.367058\n",
      "epoch 12 (71%)\t loss: 108.544281\n",
      "epoch 12 (100%)\t loss: 91.309033\n",
      "epoch 12 test\t loss: 90.193235\n",
      "epoch 13 (0%)\t loss: 82.048706\n",
      "epoch 13 (35%)\t loss: 83.894241\n",
      "epoch 13 (71%)\t loss: 77.358604\n",
      "epoch 13 (100%)\t loss: 86.324468\n",
      "epoch 13 test\t loss: 84.594105\n",
      "epoch 14 (0%)\t loss: 88.223259\n",
      "epoch 14 (35%)\t loss: 78.214043\n",
      "epoch 14 (71%)\t loss: 77.861794\n",
      "epoch 14 (100%)\t loss: 81.918059\n",
      "epoch 14 test\t loss: 82.730236\n",
      "epoch 15 (0%)\t loss: 74.769165\n",
      "epoch 15 (35%)\t loss: 76.974579\n",
      "epoch 15 (71%)\t loss: 75.576134\n",
      "epoch 15 (100%)\t loss: 79.077596\n",
      "epoch 15 test\t loss: 78.859709\n",
      "epoch 16 (0%)\t loss: 74.441223\n",
      "epoch 16 (35%)\t loss: 79.966339\n",
      "epoch 16 (71%)\t loss: 71.457687\n",
      "epoch 16 (100%)\t loss: 76.958869\n",
      "epoch 16 test\t loss: 75.504479\n",
      "epoch 17 (0%)\t loss: 63.204758\n",
      "epoch 17 (35%)\t loss: 71.539497\n",
      "epoch 17 (71%)\t loss: 72.489265\n",
      "epoch 17 (100%)\t loss: 75.438010\n",
      "epoch 17 test\t loss: 74.096484\n",
      "epoch 18 (0%)\t loss: 79.252922\n",
      "epoch 18 (35%)\t loss: 79.086151\n",
      "epoch 18 (71%)\t loss: 78.008804\n",
      "epoch 18 (100%)\t loss: 73.411428\n",
      "epoch 18 test\t loss: 73.352033\n",
      "epoch 19 (0%)\t loss: 68.687012\n",
      "epoch 19 (35%)\t loss: 74.368446\n",
      "epoch 19 (71%)\t loss: 68.374771\n",
      "epoch 19 (100%)\t loss: 71.776786\n",
      "epoch 19 test\t loss: 71.438194\n",
      "epoch 20 (0%)\t loss: 63.063507\n",
      "epoch 20 (35%)\t loss: 67.843880\n",
      "epoch 20 (71%)\t loss: 61.899994\n",
      "epoch 20 (100%)\t loss: 69.761884\n",
      "epoch 20 test\t loss: 69.153066\n",
      "epoch 21 (0%)\t loss: 62.115353\n",
      "epoch 21 (35%)\t loss: 69.995300\n",
      "epoch 21 (71%)\t loss: 90.716942\n",
      "epoch 21 (100%)\t loss: 67.618669\n",
      "epoch 21 test\t loss: 67.302023\n",
      "epoch 22 (0%)\t loss: 68.196640\n",
      "epoch 22 (35%)\t loss: 69.307434\n",
      "epoch 22 (71%)\t loss: 75.674110\n",
      "epoch 22 (100%)\t loss: 65.595337\n",
      "epoch 22 test\t loss: 65.353204\n",
      "epoch 23 (0%)\t loss: 58.346462\n",
      "epoch 23 (35%)\t loss: 60.414833\n",
      "epoch 23 (71%)\t loss: 56.785583\n",
      "epoch 23 (100%)\t loss: 64.308627\n",
      "epoch 23 test\t loss: 63.615198\n",
      "epoch 24 (0%)\t loss: 82.716454\n",
      "epoch 24 (35%)\t loss: 73.412445\n",
      "epoch 24 (71%)\t loss: 58.574951\n",
      "epoch 24 (100%)\t loss: 62.237769\n",
      "epoch 24 test\t loss: 61.578719\n",
      "epoch 25 (0%)\t loss: 62.682091\n",
      "epoch 25 (35%)\t loss: 56.106674\n",
      "epoch 25 (71%)\t loss: 77.793282\n",
      "epoch 25 (100%)\t loss: 60.583686\n",
      "epoch 25 test\t loss: 62.578969\n",
      "epoch 26 (0%)\t loss: 58.363575\n",
      "epoch 26 (35%)\t loss: 54.183369\n",
      "epoch 26 (71%)\t loss: 62.150242\n",
      "epoch 26 (100%)\t loss: 59.545545\n",
      "epoch 26 test\t loss: 59.169163\n",
      "epoch 27 (0%)\t loss: 50.200665\n",
      "epoch 27 (35%)\t loss: 63.839035\n",
      "epoch 27 (71%)\t loss: 56.819450\n",
      "epoch 27 (100%)\t loss: 56.794941\n",
      "epoch 27 test\t loss: 55.513200\n",
      "epoch 28 (0%)\t loss: 55.691830\n",
      "epoch 28 (35%)\t loss: 49.732979\n",
      "epoch 28 (71%)\t loss: 56.778362\n",
      "epoch 28 (100%)\t loss: 53.900796\n",
      "epoch 28 test\t loss: 53.894971\n",
      "epoch 29 (0%)\t loss: 47.317734\n",
      "epoch 29 (35%)\t loss: 48.585159\n",
      "epoch 29 (71%)\t loss: 60.415039\n",
      "epoch 29 (100%)\t loss: 52.425319\n",
      "epoch 29 test\t loss: 54.566156\n",
      "epoch 30 (0%)\t loss: 65.599968\n",
      "epoch 30 (35%)\t loss: 58.628693\n",
      "epoch 30 (71%)\t loss: 50.428104\n",
      "epoch 30 (100%)\t loss: 51.299359\n",
      "epoch 30 test\t loss: 50.912029\n",
      "epoch 31 (0%)\t loss: 43.375633\n",
      "epoch 31 (35%)\t loss: 48.689579\n",
      "epoch 31 (71%)\t loss: 45.346336\n",
      "epoch 31 (100%)\t loss: 49.885618\n",
      "epoch 31 test\t loss: 50.401117\n",
      "epoch 32 (0%)\t loss: 47.868370\n",
      "epoch 32 (35%)\t loss: 45.745491\n",
      "epoch 32 (71%)\t loss: 48.520790\n",
      "epoch 32 (100%)\t loss: 48.877440\n",
      "epoch 32 test\t loss: 48.110186\n",
      "epoch 33 (0%)\t loss: 65.283401\n",
      "epoch 33 (35%)\t loss: 41.109329\n",
      "epoch 33 (71%)\t loss: 54.108917\n",
      "epoch 33 (100%)\t loss: 47.304702\n",
      "epoch 33 test\t loss: 47.067374\n",
      "epoch 34 (0%)\t loss: 45.347572\n",
      "epoch 34 (35%)\t loss: 36.842445\n",
      "epoch 34 (71%)\t loss: 47.517323\n",
      "epoch 34 (100%)\t loss: 45.950128\n",
      "epoch 34 test\t loss: 45.622014\n",
      "epoch 35 (0%)\t loss: 53.641129\n",
      "epoch 35 (35%)\t loss: 42.958744\n",
      "epoch 35 (71%)\t loss: 37.082176\n",
      "epoch 35 (100%)\t loss: 44.664485\n",
      "epoch 35 test\t loss: 43.953981\n",
      "epoch 36 (0%)\t loss: 44.623074\n",
      "epoch 36 (35%)\t loss: 39.855423\n",
      "epoch 36 (71%)\t loss: 40.241161\n",
      "epoch 36 (100%)\t loss: 43.676648\n",
      "epoch 36 test\t loss: 42.232812\n",
      "epoch 37 (0%)\t loss: 43.639397\n",
      "epoch 37 (35%)\t loss: 46.634163\n",
      "epoch 37 (71%)\t loss: 48.974480\n",
      "epoch 37 (100%)\t loss: 42.359125\n",
      "epoch 37 test\t loss: 41.886322\n",
      "epoch 38 (0%)\t loss: 48.564789\n",
      "epoch 38 (35%)\t loss: 43.861958\n",
      "epoch 38 (71%)\t loss: 37.240341\n",
      "epoch 38 (100%)\t loss: 41.773087\n",
      "epoch 38 test\t loss: 41.549296\n",
      "epoch 39 (0%)\t loss: 43.786339\n",
      "epoch 39 (35%)\t loss: 40.129356\n",
      "epoch 39 (71%)\t loss: 32.217690\n",
      "epoch 39 (100%)\t loss: 40.661832\n",
      "epoch 39 test\t loss: 42.305330\n",
      "epoch 40 (0%)\t loss: 44.183846\n",
      "epoch 40 (35%)\t loss: 40.524910\n",
      "epoch 40 (71%)\t loss: 43.025993\n",
      "epoch 40 (100%)\t loss: 40.292065\n",
      "epoch 40 test\t loss: 39.316996\n"
     ]
    }
   ],
   "source": [
    "# Cue training montage\n",
    "\n",
    "model = M.vae.VAE(222, (64, 32), 20).to(device)\n",
    "criterion = M.vae.Loss().to(device)\n",
    "\n",
    "train_losses, test_losses = M.vae.train(\n",
    "    device, model, criterion, train_loader, test_loader,\n",
    "    learn_rate=1e-03, epochs=40\n",
    ")\n"
   ]
  },
  {
   "cell_type": "code",
   "execution_count": 9,
   "metadata": {},
   "outputs": [],
   "source": [
    "# M.save(model, 'jaems.pkl')\n",
    "# model = M.load('jaems.pkl')\n"
   ]
  },
  {
   "cell_type": "code",
   "execution_count": 10,
   "id": "38c47d81",
   "metadata": {},
   "outputs": [
    {
     "name": "stdout",
     "output_type": "stream",
     "text": [
      "torch.Size([1, 222, 24, 24])\n",
      "torch.Size([222, 24, 24])\n"
     ]
    }
   ],
   "source": [
    "# Generate new image\n",
    "\n",
    "z = torch.randn(1, 20).to(device)\n",
    "with torch.no_grad():\n",
    "    model.eval()\n",
    "    generated_image = model.decode(z)\n",
    "    print(generated_image.shape)\n",
    "\n",
    "\n",
    "decoded_one_hot = generated_image[0]\n",
    "print(decoded_one_hot.shape)\n"
   ]
  },
  {
   "cell_type": "code",
   "execution_count": 11,
   "metadata": {},
   "outputs": [
    {
     "name": "stdout",
     "output_type": "stream",
     "text": [
      "torch.Size([4, 24, 24])\n"
     ]
    },
    {
     "data": {
      "image/png": "[encoded data removed]",
      "text/plain": [
       "<Figure size 640x480 with 1 Axes>"
      ]
     },
     "metadata": {},
     "output_type": "display_data"
    }
   ],
   "source": [
    "decoded = DS.one_hot_to_rgba(decoded_one_hot, mapper)\n",
    "print(decoded.shape)\n",
    "\n",
    "plt.imshow(transforms.functional.to_pil_image(decoded))\n",
    "plt.axis('off')\n",
    "plt.show()\n"
   ]
  },
  {
   "cell_type": "code",
   "execution_count": 12,
   "metadata": {},
   "outputs": [
    {
     "data": {
      "text/plain": [
       "[26495.685468092033,\n",
       " 6481.128753012799,\n",
       " 5838.474086463874,\n",
       " 5329.606389471825,\n",
       " 5082.172390119404,\n",
       " 4789.090148925781,\n",
       " 4022.181546691462,\n",
       " 3567.9675024587214,\n",
       " 3307.8849783823,\n",
       " 3142.750495423662,\n",
       " 3014.620823636968,\n",
       " 2914.1180634194234,\n",
       " 2755.036228693969,\n",
       " 2614.4061396172706,\n",
       " 2523.7530762151623,\n",
       " 2456.1341286517204,\n",
       " 2407.5960759372574,\n",
       " 2342.917900788869,\n",
       " 2290.7484914360316,\n",
       " 2226.443114043973,\n",
       " 2158.0426239662984,\n",
       " 2093.468212371177,\n",
       " 2052.4029831040834,\n",
       " 1986.3117664959414,\n",
       " 1933.5218794802402,\n",
       " 1900.3897415052913,\n",
       " 1812.6045100435297,\n",
       " 1720.2381648070423,\n",
       " 1673.1484667189577,\n",
       " 1637.2135888498726,\n",
       " 1592.094195859652,\n",
       " 1559.9182916735926,\n",
       " 1509.724525397551,\n",
       " 1466.4934365563358,\n",
       " 1425.4622782172887,\n",
       " 1393.935586915794,\n",
       " 1351.8869527180989,\n",
       " 1333.1836372537816,\n",
       " 1297.7180294821449,\n",
       " 1285.916952146706]"
      ]
     },
     "execution_count": 12,
     "metadata": {},
     "output_type": "execute_result"
    }
   ],
   "source": [
    "train_losses\n"
   ]
  },
  {
   "cell_type": "code",
   "execution_count": 13,
   "metadata": {},
   "outputs": [
    {
     "data": {
      "text/plain": [
       "[6696.087341308594,\n",
       " 6030.037479400635,\n",
       " 5380.449138641357,\n",
       " 5049.410942077637,\n",
       " 4811.189464569092,\n",
       " 4400.726860046387,\n",
       " 3635.7075386047363,\n",
       " 3335.8986949920654,\n",
       " 3116.7945709228516,\n",
       " 2961.24857711792,\n",
       " 2903.251735687256,\n",
       " 2818.538589477539,\n",
       " 2643.5657863616943,\n",
       " 2585.3198623657227,\n",
       " 2464.365921020508,\n",
       " 2359.514980316162,\n",
       " 2315.515130996704,\n",
       " 2292.251043319702,\n",
       " 2232.443576812744,\n",
       " 2161.0333003997803,\n",
       " 2103.1882038116455,\n",
       " 2042.287618637085,\n",
       " 1987.9749298095703,\n",
       " 1924.3349647521973,\n",
       " 1955.5927801132202,\n",
       " 1849.03635597229,\n",
       " 1734.7874937057495,\n",
       " 1684.2178344726562,\n",
       " 1705.1923732757568,\n",
       " 1591.0008974075317,\n",
       " 1575.034906387329,\n",
       " 1503.4433212280273,\n",
       " 1470.8554420471191,\n",
       " 1425.6879234313965,\n",
       " 1373.5618991851807,\n",
       " 1319.7753791809082,\n",
       " 1308.9475479125977,\n",
       " 1298.4154901504517,\n",
       " 1322.0415630340576,\n",
       " 1228.6561164855957]"
      ]
     },
     "execution_count": 13,
     "metadata": {},
     "output_type": "execute_result"
    }
   ],
   "source": [
    "test_losses\n"
   ]
  },
  {
   "cell_type": "code",
   "execution_count": 14,
   "metadata": {},
   "outputs": [
    {
     "data": {
      "image/png": "[encoded data removed]",
      "text/plain": [
       "<Figure size 640x480 with 1 Axes>"
      ]
     },
     "metadata": {},
     "output_type": "display_data"
    }
   ],
   "source": [
    "punk = I.get_punk_tensor(1000)\n",
    "\n",
    "plt.imshow(transforms.functional.to_pil_image(punk))\n",
    "plt.show()\n",
    "\n"
   ]
  },
  {
   "cell_type": "code",
   "execution_count": 15,
   "metadata": {},
   "outputs": [
    {
     "name": "stdout",
     "output_type": "stream",
     "text": [
      "torch.Size([1, 222, 24, 24])\n"
     ]
    },
    {
     "data": {
      "image/png": "[encoded data removed]",
      "text/plain": [
       "<Figure size 640x480 with 1 Axes>"
      ]
     },
     "metadata": {},
     "output_type": "display_data"
    }
   ],
   "source": [
    "punk = I.get_punk_tensor(1000)\n",
    "\n",
    "p = DS.rgba_to_one_hot(punk, mapper)\n",
    "p = p.unsqueeze(0)\n",
    "\n",
    "model.eval()\n",
    "with torch.no_grad():\n",
    "    reconstructed, mu, logcar = model.forward(p.to(device))\n",
    "    print(reconstructed.shape)\n",
    "\n",
    "recon_punk = reconstructed[0].cpu()\n",
    "recon_punk = DS.one_hot_to_rgba(recon_punk, mapper)\n",
    "plt.imshow(transforms.functional.to_pil_image(recon_punk.cpu()))\n",
    "plt.show()\n"
   ]
  },
  {
   "cell_type": "code",
   "execution_count": 16,
   "metadata": {},
   "outputs": [
    {
     "data": {
      "text/plain": [
       "<function matplotlib.pyplot.show(close=None, block=None)>"
      ]
     },
     "execution_count": 16,
     "metadata": {},
     "output_type": "execute_result"
    },
    {
     "data": {
      "image/png": "[encoded data removed]",
      "text/plain": [
       "<Figure size 640x480 with 1 Axes>"
      ]
     },
     "metadata": {},
     "output_type": "display_data"
    }
   ],
   "source": [
    "plt.title(\"Train & Test loss\")\n",
    "plt.plot(train_losses, label='train loss')\n",
    "plt.plot(test_losses, label='test loss')\n",
    "plt.legend()\n",
    "plt.show\n"
   ]
  },
  {
   "cell_type": "code",
   "execution_count": null,
   "metadata": {},
   "outputs": [],
   "source": []
  }
 ],
 "metadata": {
  "kernelspec": {
   "display_name": "Python 3 (ipykernel)",
   "language": "python",
   "name": "python3"
  },
  "language_info": {
   "codemirror_mode": {
    "name": "ipython",
    "version": 3
   },
   "file_extension": ".py",
   "mimetype": "text/x-python",
   "name": "python",
   "nbconvert_exporter": "python",
   "pygments_lexer": "ipython3",
   "version": "3.11.5"
  }
 },
 "nbformat": 4,
 "nbformat_minor": 5
}
