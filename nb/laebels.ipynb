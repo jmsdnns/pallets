{
 "cells": [
  {
   "cell_type": "markdown",
   "metadata": {},
   "source": [
    "# Generating Punks with a VAE & Labels"
   ]
  },
  {
   "cell_type": "code",
   "execution_count": 1,
   "id": "19d0f047",
   "metadata": {},
   "outputs": [],
   "source": [
    "import sys\n",
    "import os\n",
    "import numpy as np\n",
    "import torch\n",
    "import torch.nn as nn\n",
    "import torch.nn.functional as F\n",
    "import torch.optim as optim\n",
    "from torchvision import transforms\n",
    "from torch.utils.data import DataLoader, SubsetRandomSampler\n",
    "import matplotlib.pyplot as plt\n",
    "import matplotlib.pyplot as plt\n",
    "%matplotlib inline\n"
   ]
  },
  {
   "cell_type": "code",
   "execution_count": 2,
   "metadata": {},
   "outputs": [],
   "source": [
    "# Load pallets library\n",
    "\n",
    "sys.path.append(os.path.abspath(os.path.join(os.getcwd(), '..')))  # uncomment to run nb from 'pallets/nb'\n",
    "# sys.path.append(os.path.abspath(os.getcwd()))                    # uncomment to run from project root\n",
    "\n",
    "from pallets import images as I, datasets as DS, models as M\n"
   ]
  },
  {
   "cell_type": "code",
   "execution_count": 3,
   "metadata": {},
   "outputs": [],
   "source": [
    "# To GPU, or not to GPU\n",
    "\n",
    "device = M.get_device(require_gpu=True)\n"
   ]
  },
  {
   "cell_type": "markdown",
   "metadata": {},
   "source": [
    "## Prepare Datasets"
   ]
  },
  {
   "cell_type": "code",
   "execution_count": 4,
   "id": "35fef1c0",
   "metadata": {},
   "outputs": [],
   "source": [
    "all_colors = I.get_punk_colors()\n",
    "mapper = DS.ColorOneHotMapper(all_colors)\n",
    "dataset = DS.OneHotAndLabelsDataset(mapper, device=device, test_size=1000)\n"
   ]
  },
  {
   "cell_type": "code",
   "execution_count": 5,
   "metadata": {},
   "outputs": [],
   "source": [
    "batch_size = 32\n",
    "num_workers = 0\n",
    "\n",
    "train_sampler = SubsetRandomSampler(dataset.train_idx)\n",
    "test_sampler = SubsetRandomSampler(dataset.test_idx)\n",
    "\n",
    "train_loader = DataLoader(\n",
    "    dataset, batch_size=batch_size, sampler=train_sampler, num_workers=num_workers\n",
    ")\n",
    "test_loader = DataLoader(\n",
    "    dataset, batch_size=batch_size, sampler=test_sampler, num_workers=num_workers\n",
    ")\n",
    "\n"
   ]
  },
  {
   "cell_type": "markdown",
   "id": "b39e0222",
   "metadata": {},
   "source": [
    "## Training"
   ]
  },
  {
   "cell_type": "code",
   "execution_count": 8,
   "metadata": {},
   "outputs": [
    {
     "name": "stdout",
     "output_type": "stream",
     "text": [
      "epoch 1 (0%)\t loss: 511126.843750\n",
      "epoch 1 (35%)\t loss: 4603.400879\n",
      "epoch 1 (71%)\t loss: 3174.203125\n",
      "epoch 1 (100%)\t loss: 964.026833\n",
      "epoch 1 test\t loss: 203.052442\n",
      "epoch 2 (0%)\t loss: 3295.598145\n",
      "epoch 2 (35%)\t loss: 3043.049561\n",
      "epoch 2 (71%)\t loss: 2831.271729\n",
      "epoch 2 (100%)\t loss: 183.690663\n",
      "epoch 2 test\t loss: 163.799301\n",
      "epoch 3 (0%)\t loss: 2529.678467\n",
      "epoch 3 (35%)\t loss: 2487.468506\n",
      "epoch 3 (71%)\t loss: 2310.230469\n",
      "epoch 3 (100%)\t loss: 151.793595\n",
      "epoch 3 test\t loss: 143.986797\n",
      "epoch 4 (0%)\t loss: 2298.099609\n",
      "epoch 4 (35%)\t loss: 2148.415527\n",
      "epoch 4 (71%)\t loss: 2229.571045\n",
      "epoch 4 (100%)\t loss: 136.061045\n",
      "epoch 4 test\t loss: 131.701481\n",
      "epoch 5 (0%)\t loss: 2129.429443\n",
      "epoch 5 (35%)\t loss: 1975.338867\n",
      "epoch 5 (71%)\t loss: 1926.582764\n",
      "epoch 5 (100%)\t loss: 125.825246\n",
      "epoch 5 test\t loss: 123.456267\n",
      "epoch 6 (0%)\t loss: 1807.283691\n",
      "epoch 6 (35%)\t loss: 1933.133667\n",
      "epoch 6 (71%)\t loss: 1888.898560\n",
      "epoch 6 (100%)\t loss: 118.128822\n",
      "epoch 6 test\t loss: 112.553964\n",
      "epoch 7 (0%)\t loss: 1700.612183\n",
      "epoch 7 (35%)\t loss: 1463.476929\n",
      "epoch 7 (71%)\t loss: 1387.504517\n",
      "epoch 7 (100%)\t loss: 94.085327\n",
      "epoch 7 test\t loss: 82.702235\n",
      "epoch 8 (0%)\t loss: 1129.682861\n",
      "epoch 8 (35%)\t loss: 1257.190308\n",
      "epoch 8 (71%)\t loss: 1092.503540\n",
      "epoch 8 (100%)\t loss: 75.688498\n",
      "epoch 8 test\t loss: 74.348884\n",
      "epoch 9 (0%)\t loss: 1363.756348\n",
      "epoch 9 (35%)\t loss: 980.715027\n",
      "epoch 9 (71%)\t loss: 1055.169678\n",
      "epoch 9 (100%)\t loss: 70.716260\n",
      "epoch 9 test\t loss: 70.803145\n",
      "epoch 10 (0%)\t loss: 1186.266602\n",
      "epoch 10 (35%)\t loss: 1206.328491\n",
      "epoch 10 (71%)\t loss: 900.810425\n",
      "epoch 10 (100%)\t loss: 67.867556\n",
      "epoch 10 test\t loss: 68.246453\n",
      "epoch 11 (0%)\t loss: 918.094116\n",
      "epoch 11 (35%)\t loss: 1070.568848\n",
      "epoch 11 (71%)\t loss: 1011.238281\n",
      "epoch 11 (100%)\t loss: 66.002312\n",
      "epoch 11 test\t loss: 66.381189\n",
      "epoch 12 (0%)\t loss: 959.042358\n",
      "epoch 12 (35%)\t loss: 999.837036\n",
      "epoch 12 (71%)\t loss: 874.346558\n",
      "epoch 12 (100%)\t loss: 64.206536\n",
      "epoch 12 test\t loss: 65.156612\n",
      "epoch 13 (0%)\t loss: 1063.694214\n",
      "epoch 13 (35%)\t loss: 892.336060\n",
      "epoch 13 (71%)\t loss: 1361.466187\n",
      "epoch 13 (100%)\t loss: 62.915792\n",
      "epoch 13 test\t loss: 63.690725\n",
      "epoch 14 (0%)\t loss: 1021.000732\n",
      "epoch 14 (35%)\t loss: 792.578735\n",
      "epoch 14 (71%)\t loss: 867.718628\n",
      "epoch 14 (100%)\t loss: 62.150281\n",
      "epoch 14 test\t loss: 63.226665\n",
      "epoch 15 (0%)\t loss: 1181.791748\n",
      "epoch 15 (35%)\t loss: 827.085083\n",
      "epoch 15 (71%)\t loss: 822.461426\n",
      "epoch 15 (100%)\t loss: 61.601826\n",
      "epoch 15 test\t loss: 62.937382\n",
      "epoch 16 (0%)\t loss: 754.691528\n",
      "epoch 16 (35%)\t loss: 952.955933\n",
      "epoch 16 (71%)\t loss: 934.946777\n",
      "epoch 16 (100%)\t loss: 61.532012\n",
      "epoch 16 test\t loss: 62.430013\n",
      "epoch 17 (0%)\t loss: 1030.390137\n",
      "epoch 17 (35%)\t loss: 1114.932129\n",
      "epoch 17 (71%)\t loss: 843.103149\n",
      "epoch 17 (100%)\t loss: 61.206662\n",
      "epoch 17 test\t loss: 63.237835\n",
      "epoch 18 (0%)\t loss: 963.065002\n",
      "epoch 18 (35%)\t loss: 933.902954\n",
      "epoch 18 (71%)\t loss: 903.792969\n",
      "epoch 18 (100%)\t loss: 60.797256\n",
      "epoch 18 test\t loss: 62.075333\n",
      "epoch 19 (0%)\t loss: 849.032471\n",
      "epoch 19 (35%)\t loss: 1151.965942\n",
      "epoch 19 (71%)\t loss: 1205.567505\n",
      "epoch 19 (100%)\t loss: 60.854415\n",
      "epoch 19 test\t loss: 62.251125\n",
      "epoch 20 (0%)\t loss: 797.245239\n",
      "epoch 20 (35%)\t loss: 850.151367\n",
      "epoch 20 (71%)\t loss: 1193.435059\n",
      "epoch 20 (100%)\t loss: 60.625142\n",
      "epoch 20 test\t loss: 61.367819\n",
      "epoch 21 (0%)\t loss: 735.855896\n",
      "epoch 21 (35%)\t loss: 893.328491\n",
      "epoch 21 (71%)\t loss: 962.046326\n",
      "epoch 21 (100%)\t loss: 60.633141\n",
      "epoch 21 test\t loss: 61.819890\n",
      "epoch 22 (0%)\t loss: 727.574097\n",
      "epoch 22 (35%)\t loss: 893.928589\n",
      "epoch 22 (71%)\t loss: 862.847290\n",
      "epoch 22 (100%)\t loss: 60.526274\n",
      "epoch 22 test\t loss: 62.895473\n",
      "epoch 23 (0%)\t loss: 937.297302\n",
      "epoch 23 (35%)\t loss: 928.917603\n",
      "epoch 23 (71%)\t loss: 912.153625\n",
      "epoch 23 (100%)\t loss: 60.732452\n",
      "epoch 23 test\t loss: 61.920902\n",
      "epoch 24 (0%)\t loss: 991.446960\n",
      "epoch 24 (35%)\t loss: 835.208801\n",
      "epoch 24 (71%)\t loss: 977.504395\n",
      "epoch 24 (100%)\t loss: 60.438286\n",
      "epoch 24 test\t loss: 61.831768\n",
      "epoch 25 (0%)\t loss: 884.734436\n",
      "epoch 25 (35%)\t loss: 956.829346\n",
      "epoch 25 (71%)\t loss: 889.618896\n",
      "epoch 25 (100%)\t loss: 60.266893\n",
      "epoch 25 test\t loss: 61.631696\n",
      "epoch 26 (0%)\t loss: 1089.112183\n",
      "epoch 26 (35%)\t loss: 942.910583\n",
      "epoch 26 (71%)\t loss: 923.242065\n",
      "epoch 26 (100%)\t loss: 60.344086\n",
      "epoch 26 test\t loss: 61.568675\n",
      "epoch 27 (0%)\t loss: 1078.262085\n",
      "epoch 27 (35%)\t loss: 1033.266235\n",
      "epoch 27 (71%)\t loss: 1006.801941\n",
      "epoch 27 (100%)\t loss: 60.127482\n",
      "epoch 27 test\t loss: 61.969757\n",
      "epoch 28 (0%)\t loss: 1140.689209\n",
      "epoch 28 (35%)\t loss: 1122.003662\n",
      "epoch 28 (71%)\t loss: 1037.826782\n",
      "epoch 28 (100%)\t loss: 60.323322\n",
      "epoch 28 test\t loss: 61.506883\n",
      "epoch 29 (0%)\t loss: 1006.164307\n",
      "epoch 29 (35%)\t loss: 1206.764282\n",
      "epoch 29 (71%)\t loss: 851.782288\n",
      "epoch 29 (100%)\t loss: 60.113823\n",
      "epoch 29 test\t loss: 61.207218\n",
      "epoch 30 (0%)\t loss: 1075.741089\n",
      "epoch 30 (35%)\t loss: 1134.739746\n",
      "epoch 30 (71%)\t loss: 1148.321533\n",
      "epoch 30 (100%)\t loss: 60.070393\n",
      "epoch 30 test\t loss: 62.129806\n",
      "epoch 31 (0%)\t loss: 1217.565674\n",
      "epoch 31 (35%)\t loss: 1059.538696\n",
      "epoch 31 (71%)\t loss: 856.305298\n",
      "epoch 31 (100%)\t loss: 60.310634\n",
      "epoch 31 test\t loss: 62.644369\n",
      "epoch 32 (0%)\t loss: 946.302246\n",
      "epoch 32 (35%)\t loss: 1042.999268\n",
      "epoch 32 (71%)\t loss: 1066.149170\n",
      "epoch 32 (100%)\t loss: 60.281659\n",
      "epoch 32 test\t loss: 61.240825\n",
      "epoch 33 (0%)\t loss: 951.131653\n",
      "epoch 33 (35%)\t loss: 1047.625366\n",
      "epoch 33 (71%)\t loss: 1050.663086\n",
      "epoch 33 (100%)\t loss: 59.981226\n",
      "epoch 33 test\t loss: 60.808894\n",
      "epoch 34 (0%)\t loss: 1080.742920\n",
      "epoch 34 (35%)\t loss: 1068.241821\n",
      "epoch 34 (71%)\t loss: 771.352173\n",
      "epoch 34 (100%)\t loss: 59.847332\n",
      "epoch 34 test\t loss: 60.788732\n",
      "epoch 35 (0%)\t loss: 770.033936\n",
      "epoch 35 (35%)\t loss: 943.079407\n",
      "epoch 35 (71%)\t loss: 1042.669922\n",
      "epoch 35 (100%)\t loss: 59.953742\n",
      "epoch 35 test\t loss: 60.974940\n",
      "epoch 36 (0%)\t loss: 918.026306\n",
      "epoch 36 (35%)\t loss: 808.687378\n",
      "epoch 36 (71%)\t loss: 1095.698608\n",
      "epoch 36 (100%)\t loss: 59.332709\n",
      "epoch 36 test\t loss: 60.358993\n",
      "epoch 37 (0%)\t loss: 891.292480\n",
      "epoch 37 (35%)\t loss: 859.841736\n",
      "epoch 37 (71%)\t loss: 838.589539\n",
      "epoch 37 (100%)\t loss: 59.035877\n",
      "epoch 37 test\t loss: 60.235757\n",
      "epoch 38 (0%)\t loss: 1118.870483\n",
      "epoch 38 (35%)\t loss: 987.482727\n",
      "epoch 38 (71%)\t loss: 931.306519\n",
      "epoch 38 (100%)\t loss: 59.013889\n",
      "epoch 38 test\t loss: 59.975952\n",
      "epoch 39 (0%)\t loss: 917.493225\n",
      "epoch 39 (35%)\t loss: 831.022522\n",
      "epoch 39 (71%)\t loss: 1072.837524\n",
      "epoch 39 (100%)\t loss: 58.946108\n",
      "epoch 39 test\t loss: 59.785959\n",
      "epoch 40 (0%)\t loss: 1068.312378\n",
      "epoch 40 (35%)\t loss: 1233.940308\n",
      "epoch 40 (71%)\t loss: 1119.670898\n",
      "epoch 40 (100%)\t loss: 58.882271\n",
      "epoch 40 test\t loss: 59.903437\n",
      "epoch 41 (0%)\t loss: 1061.445801\n",
      "epoch 41 (35%)\t loss: 988.215820\n",
      "epoch 41 (71%)\t loss: 975.291016\n",
      "epoch 41 (100%)\t loss: 58.663405\n",
      "epoch 41 test\t loss: 59.657163\n",
      "epoch 42 (0%)\t loss: 1080.323853\n",
      "epoch 42 (35%)\t loss: 1117.010864\n",
      "epoch 42 (71%)\t loss: 1018.764038\n",
      "epoch 42 (100%)\t loss: 58.413588\n",
      "epoch 42 test\t loss: 59.444913\n",
      "epoch 43 (0%)\t loss: 772.163086\n",
      "epoch 43 (35%)\t loss: 1122.172852\n",
      "epoch 43 (71%)\t loss: 924.370789\n",
      "epoch 43 (100%)\t loss: 58.326367\n",
      "epoch 43 test\t loss: 59.468974\n",
      "epoch 44 (0%)\t loss: 794.620605\n",
      "epoch 44 (35%)\t loss: 870.391602\n",
      "epoch 44 (71%)\t loss: 790.755676\n",
      "epoch 44 (100%)\t loss: 58.398926\n",
      "epoch 44 test\t loss: 59.578737\n",
      "epoch 45 (0%)\t loss: 970.415833\n",
      "epoch 45 (35%)\t loss: 802.781311\n",
      "epoch 45 (71%)\t loss: 832.845398\n",
      "epoch 45 (100%)\t loss: 58.384042\n",
      "epoch 45 test\t loss: 59.281980\n",
      "epoch 46 (0%)\t loss: 867.969971\n",
      "epoch 46 (35%)\t loss: 993.776978\n",
      "epoch 46 (71%)\t loss: 980.520630\n",
      "epoch 46 (100%)\t loss: 58.356735\n",
      "epoch 46 test\t loss: 59.050745\n",
      "epoch 47 (0%)\t loss: 745.747498\n",
      "epoch 47 (35%)\t loss: 897.860718\n",
      "epoch 47 (71%)\t loss: 1060.469727\n",
      "epoch 47 (100%)\t loss: 58.302604\n",
      "epoch 47 test\t loss: 59.351143\n",
      "epoch 48 (0%)\t loss: 1095.417725\n",
      "epoch 48 (35%)\t loss: 928.971924\n",
      "epoch 48 (71%)\t loss: 791.553772\n",
      "epoch 48 (100%)\t loss: 58.064183\n",
      "epoch 48 test\t loss: 59.161229\n",
      "epoch 49 (0%)\t loss: 896.975098\n",
      "epoch 49 (35%)\t loss: 990.394775\n",
      "epoch 49 (71%)\t loss: 995.956116\n",
      "epoch 49 (100%)\t loss: 58.260102\n",
      "epoch 49 test\t loss: 59.005661\n",
      "epoch 50 (0%)\t loss: 1067.626465\n",
      "epoch 50 (35%)\t loss: 849.941895\n",
      "epoch 50 (71%)\t loss: 969.309937\n",
      "epoch 50 (100%)\t loss: 58.211205\n",
      "epoch 50 test\t loss: 58.806446\n"
     ]
    }
   ],
   "source": [
    "# Cue training montage\n",
    "\n",
    "num_labels = len(dataset._labels[0])\n",
    "\n",
    "model = M.vae.LabeledVAE(222, (64, 32), 20, num_labels).to(device)\n",
    "criterion = M.vae.Loss().to(device)\n",
    "\n",
    "\n",
    "train_losses, test_losses = M.vae.train(\n",
    "    device, model, criterion, train_loader, test_loader,\n",
    "    learn_rate=1e-03, epochs=50\n",
    ")\n"
   ]
  },
  {
   "cell_type": "code",
   "execution_count": 9,
   "metadata": {},
   "outputs": [],
   "source": [
    "M.save(model, 'laebels.pkl')\n",
    "# model = M.load('laebels.pkl')\n"
   ]
  },
  {
   "cell_type": "markdown",
   "metadata": {},
   "source": [
    "## Generate punk with specific features"
   ]
  },
  {
   "cell_type": "code",
   "execution_count": 27,
   "metadata": {},
   "outputs": [
    {
     "name": "stdout",
     "output_type": "stream",
     "text": [
      "torch.Size([1, 222, 24, 24])\n",
      "torch.Size([222, 24, 24])\n",
      "torch.Size([4, 24, 24])\n"
     ]
    },
    {
     "data": {
      "image/png": "[encoded data removed]",
      "text/plain": [
       "<Figure size 640x480 with 1 Axes>"
      ]
     },
     "metadata": {},
     "output_type": "display_data"
    }
   ],
   "source": [
    "\n",
    "z = torch.randn(1, 20 + num_labels).to(device)\n",
    "\n",
    "with torch.no_grad():\n",
    "    model.eval()\n",
    "    generated_image = model.decode(z)\n",
    "    print(generated_image.shape)\n",
    "\n",
    "\n",
    "decoded_one_hot = generated_image[0]\n",
    "print(decoded_one_hot.shape)\n",
    "\n",
    "decoded = DS.one_hot_to_rgba(decoded_one_hot, mapper)\n",
    "print(decoded.shape)\n",
    "\n",
    "plt.imshow(transforms.functional.to_pil_image(decoded))\n",
    "plt.axis('off')\n",
    "plt.show()\n"
   ]
  },
  {
   "cell_type": "code",
   "execution_count": 28,
   "metadata": {},
   "outputs": [
    {
     "name": "stdout",
     "output_type": "stream",
     "text": [
      "Features: ['male', 'peakSpike', 'cigarette']\n"
     ]
    }
   ],
   "source": [
    "import json\n",
    "ps_labels = json.load(open(\"../../cpunks-10k/cpunks/data/punks.json\"))\n",
    "label_keys = [k for k in ps_labels[\"0\"].keys()]\n",
    "_, test_labels = next(iter(train_loader))\n",
    "features = test_labels[2]\n",
    "\n",
    "enabled_features = [k for k,v in zip(label_keys, features) if v.item() == 1]\n",
    "\n",
    "print(f\"Features: {enabled_features}\")\n"
   ]
  },
  {
   "cell_type": "code",
   "execution_count": 29,
   "id": "38c47d81",
   "metadata": {},
   "outputs": [
    {
     "name": "stdout",
     "output_type": "stream",
     "text": [
      "torch.Size([1, 222, 24, 24])\n",
      "torch.Size([222, 24, 24])\n",
      "torch.Size([4, 24, 24])\n"
     ]
    },
    {
     "data": {
      "image/png": "[encoded data removed]",
      "text/plain": [
       "<Figure size 640x480 with 1 Axes>"
      ]
     },
     "metadata": {},
     "output_type": "display_data"
    }
   ],
   "source": [
    "# Generate new image\n",
    "\n",
    "z = torch.randn(1, 20).to(device)\n",
    "z = torch.concat([z, features.unsqueeze(0)], dim=1)\n",
    "\n",
    "with torch.no_grad():\n",
    "    model.eval()\n",
    "    generated_image = model.decode(z)\n",
    "    print(generated_image.shape)\n",
    "\n",
    "\n",
    "decoded_one_hot = generated_image[0]\n",
    "print(decoded_one_hot.shape)\n",
    "\n",
    "decoded = DS.one_hot_to_rgba(decoded_one_hot, mapper)\n",
    "print(decoded.shape)\n",
    "\n",
    "plt.imshow(transforms.functional.to_pil_image(decoded))\n",
    "plt.axis('off')\n",
    "plt.show()\n"
   ]
  },
  {
   "cell_type": "code",
   "execution_count": 13,
   "metadata": {},
   "outputs": [
    {
     "data": {
      "text/plain": [
       "[30766.813815935282,\n",
       " 5862.467960005956,\n",
       " 4844.4764369667,\n",
       " 4342.373785789977,\n",
       " 4015.69934298468,\n",
       " 3770.0687760156943,\n",
       " 3002.7231999390515,\n",
       " 2415.5903636310118,\n",
       " 2256.9019100108044,\n",
       " 2165.98583389174,\n",
       " 2106.456776071102,\n",
       " 2049.144760131836,\n",
       " 2007.950803391477,\n",
       " 1983.5196134959551,\n",
       " 1966.0157339758907,\n",
       " 1963.7876011192375,\n",
       " 1953.4041218859084,\n",
       " 1940.3379655121066,\n",
       " 1942.1621810155557,\n",
       " 1934.844954253934,\n",
       " 1935.1002395305227,\n",
       " 1931.6895961896748,\n",
       " 1938.2697422758063,\n",
       " 1928.881475570354,\n",
       " 1923.4114733756858,\n",
       " 1925.8750967472158,\n",
       " 1918.9621886124849,\n",
       " 1925.2123903315119,\n",
       " 1918.5262589691379,\n",
       " 1917.1401938580452,\n",
       " 1924.8074532366813,\n",
       " 1923.882746486799,\n",
       " 1914.2944493936309,\n",
       " 1910.0212227030004,\n",
       " 1913.4173079686807,\n",
       " 1893.5971032541695,\n",
       " 1884.123725837004,\n",
       " 1883.421979322501,\n",
       " 1881.2587788899739,\n",
       " 1879.2214026484928,\n",
       " 1872.2363333194814,\n",
       " 1864.263457602643,\n",
       " 1861.4797939002938,\n",
       " 1863.7955170759917,\n",
       " 1863.3204940904118,\n",
       " 1862.4489925736232,\n",
       " 1860.7213907444732,\n",
       " 1853.1122367263686,\n",
       " 1859.364943916916,\n",
       " 1857.8044210663925]"
      ]
     },
     "execution_count": 13,
     "metadata": {},
     "output_type": "execute_result"
    }
   ],
   "source": [
    "train_losses\n"
   ]
  },
  {
   "cell_type": "code",
   "execution_count": 14,
   "metadata": {},
   "outputs": [
    {
     "data": {
      "text/plain": [
       "[6345.388824462891,\n",
       " 5118.728168487549,\n",
       " 4499.587390899658,\n",
       " 4115.671291351318,\n",
       " 3858.0083446502686,\n",
       " 3517.311378479004,\n",
       " 2584.444835662842,\n",
       " 2323.4026165008545,\n",
       " 2212.5982913970947,\n",
       " 2132.701671600342,\n",
       " 2074.4121475219727,\n",
       " 2036.144136428833,\n",
       " 1990.3351421356201,\n",
       " 1975.8332901000977,\n",
       " 1966.7931928634644,\n",
       " 1950.9379138946533,\n",
       " 1976.1823558807373,\n",
       " 1939.8541622161865,\n",
       " 1945.3476486206055,\n",
       " 1917.7443313598633,\n",
       " 1931.8715496063232,\n",
       " 1965.483528137207,\n",
       " 1935.0281867980957,\n",
       " 1932.2427616119385,\n",
       " 1925.9905128479004,\n",
       " 1924.0210800170898,\n",
       " 1936.55491065979,\n",
       " 1922.090106010437,\n",
       " 1912.7255516052246,\n",
       " 1941.5564470291138,\n",
       " 1957.6365232467651,\n",
       " 1913.7757740020752,\n",
       " 1900.2779521942139,\n",
       " 1899.6478691101074,\n",
       " 1905.4668617248535,\n",
       " 1886.2185230255127,\n",
       " 1882.3674087524414,\n",
       " 1874.2485036849976,\n",
       " 1868.31121301651,\n",
       " 1871.9824018478394,\n",
       " 1864.2863292694092,\n",
       " 1857.6535396575928,\n",
       " 1858.405439376831,\n",
       " 1861.8355407714844,\n",
       " 1852.561861038208,\n",
       " 1845.335765838623,\n",
       " 1854.7232036590576,\n",
       " 1848.7884159088135,\n",
       " 1843.9269094467163,\n",
       " 1837.7014255523682]"
      ]
     },
     "execution_count": 14,
     "metadata": {},
     "output_type": "execute_result"
    }
   ],
   "source": [
    "test_losses\n"
   ]
  },
  {
   "cell_type": "code",
   "execution_count": 15,
   "metadata": {},
   "outputs": [
    {
     "data": {
      "image/png": "[encoded data removed]",
      "text/plain": [
       "<Figure size 640x480 with 1 Axes>"
      ]
     },
     "metadata": {},
     "output_type": "display_data"
    }
   ],
   "source": [
    "punk = I.get_punk_tensor(1000)\n",
    "\n",
    "plt.imshow(transforms.functional.to_pil_image(punk))\n",
    "plt.show()\n",
    "\n"
   ]
  },
  {
   "cell_type": "code",
   "execution_count": 23,
   "metadata": {},
   "outputs": [],
   "source": [
    "ps_labels = json.load(open(\"../../cpunks-10k/cpunks/data/punks.json\"))\n",
    "punk_labels = torch.tensor([v for _,v in ps_labels[\"1000\"].items()])\n",
    "punk_labels = punk_labels.unsqueeze(0)\n"
   ]
  },
  {
   "cell_type": "code",
   "execution_count": 24,
   "metadata": {},
   "outputs": [
    {
     "name": "stdout",
     "output_type": "stream",
     "text": [
      "torch.Size([1, 222, 24, 24])\n"
     ]
    },
    {
     "data": {
      "image/png": "[encoded data removed]",
      "text/plain": [
       "<Figure size 640x480 with 1 Axes>"
      ]
     },
     "metadata": {},
     "output_type": "display_data"
    }
   ],
   "source": [
    "punk = I.get_punk_tensor(1000)\n",
    "\n",
    "p = DS.rgba_to_one_hot(punk, mapper)\n",
    "p = p.unsqueeze(0)\n",
    "\n",
    "model.eval()\n",
    "with torch.no_grad():\n",
    "    reconstructed, mu, logcar = model.forward(p.to(device), punk_labels.to(device))\n",
    "    print(reconstructed.shape)\n",
    "\n",
    "recon_punk = reconstructed[0].cpu()\n",
    "recon_punk = DS.one_hot_to_rgba(recon_punk, mapper)\n",
    "plt.imshow(transforms.functional.to_pil_image(recon_punk.cpu()))\n",
    "plt.show()\n"
   ]
  },
  {
   "cell_type": "code",
   "execution_count": 30,
   "metadata": {},
   "outputs": [
    {
     "data": {
      "text/plain": [
       "<function matplotlib.pyplot.show(close=None, block=None)>"
      ]
     },
     "execution_count": 30,
     "metadata": {},
     "output_type": "execute_result"
    },
    {
     "data": {
      "image/png": "[encoded data removed]",
      "text/plain": [
       "<Figure size 640x480 with 1 Axes>"
      ]
     },
     "metadata": {},
     "output_type": "display_data"
    }
   ],
   "source": [
    "plt.title(\"Train & Test loss\")\n",
    "plt.plot(train_losses, label='train loss')\n",
    "plt.plot(test_losses, label='test loss')\n",
    "plt.legend()\n",
    "plt.show\n"
   ]
  },
  {
   "cell_type": "code",
   "execution_count": null,
   "metadata": {},
   "outputs": [],
   "source": []
  }
 ],
 "metadata": {
  "kernelspec": {
   "display_name": "Python 3 (ipykernel)",
   "language": "python",
   "name": "python3"
  },
  "language_info": {
   "codemirror_mode": {
    "name": "ipython",
    "version": 3
   },
   "file_extension": ".py",
   "mimetype": "text/x-python",
   "name": "python",
   "nbconvert_exporter": "python",
   "pygments_lexer": "ipython3",
   "version": "3.11.5"
  }
 },
 "nbformat": 4,
 "nbformat_minor": 5
}
