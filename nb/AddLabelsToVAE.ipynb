{
 "cells": [
  {
   "cell_type": "markdown",
   "metadata": {},
   "source": [
    "# Generating Punks with a VAE & Labels"
   ]
  },
  {
   "cell_type": "code",
   "execution_count": 1,
   "id": "19d0f047",
   "metadata": {},
   "outputs": [],
   "source": [
    "import sys\n",
    "import os\n",
    "import torch\n",
    "from torchvision import transforms\n",
    "from torch.utils.data import DataLoader, SubsetRandomSampler\n",
    "import matplotlib.pyplot as plt\n",
    "\n",
    "%matplotlib inline\n"
   ]
  },
  {
   "cell_type": "code",
   "execution_count": 2,
   "metadata": {},
   "outputs": [],
   "source": [
    "# Load pallets library\n",
    "\n",
    "sys.path.append(os.path.abspath(os.path.join(os.getcwd(), '..')))\n",
    "from pallets import images as I, datasets as DS, models as M, logging as L\n"
   ]
  },
  {
   "cell_type": "code",
   "execution_count": 3,
   "metadata": {},
   "outputs": [
    {
     "data": {
      "text/plain": [
       "<Logger pallets (INFO)>"
      ]
     },
     "execution_count": 3,
     "metadata": {},
     "output_type": "execute_result"
    }
   ],
   "source": [
    "# To GPU, or not to GPU\n",
    "device = M.get_device(require_gpu=True)\n",
    "\n",
    "# Logging\n",
    "L.init_logger()\n"
   ]
  },
  {
   "cell_type": "markdown",
   "metadata": {},
   "source": [
    "## Prepare Datasets"
   ]
  },
  {
   "cell_type": "code",
   "execution_count": 4,
   "id": "35fef1c0",
   "metadata": {},
   "outputs": [
    {
     "name": "stderr",
     "output_type": "stream",
     "text": [
      "INFO | loading punk images\n",
      "INFO | - image 0\n",
      "INFO | - image 1000\n",
      "INFO | - image 2000\n",
      "INFO | - image 3000\n",
      "INFO | - image 4000\n",
      "INFO | - image 5000\n",
      "INFO | - image 6000\n",
      "INFO | - image 7000\n",
      "INFO | - image 8000\n",
      "INFO | - image 9000\n",
      "INFO | punk images complete\n",
      "INFO | loading punk labels: ../../cpunks-10k/cpunks/data/punks.json\n"
     ]
    }
   ],
   "source": [
    "all_colors = I.get_punk_colors()\n",
    "mapper = DS.ColorOneHotMapper(all_colors)\n",
    "dataset = DS.FastOneHotCPunksDataset(device, mapper, test_size=1000)\n",
    "num_labels = len(dataset._labels[0])"
   ]
  },
  {
   "cell_type": "code",
   "execution_count": 5,
   "metadata": {},
   "outputs": [],
   "source": [
    "batch_size = 32\n",
    "num_workers = 0\n",
    "\n",
    "train_sampler = SubsetRandomSampler(dataset.train_idx)\n",
    "test_sampler = SubsetRandomSampler(dataset.test_idx)\n",
    "\n",
    "train_loader = DataLoader(\n",
    "    dataset, batch_size=batch_size, sampler=train_sampler, num_workers=num_workers\n",
    ")\n",
    "test_loader = DataLoader(\n",
    "    dataset, batch_size=batch_size, sampler=test_sampler, num_workers=num_workers\n",
    ")\n",
    "\n"
   ]
  },
  {
   "cell_type": "markdown",
   "id": "b39e0222",
   "metadata": {},
   "source": [
    "## Training"
   ]
  },
  {
   "cell_type": "code",
   "execution_count": 6,
   "metadata": {},
   "outputs": [
    {
     "name": "stderr",
     "output_type": "stream",
     "text": [
      "INFO | model: pallets.models.vae.LabeledVAE\n",
      "INFO | criterion: pallets.models.vae.Loss\n",
      "INFO | learn rate: 0.001\n",
      "INFO | epochs: 50\n",
      "INFO | epoch 1 (  0%) loss: 511768.625000\n",
      "INFO | epoch 1 ( 35%) loss: 36696.694027\n",
      "INFO | epoch 1 ( 70%) loss: 20477.250170\n",
      "INFO | epoch 1 (100%) loss: 15670.404504\n",
      "INFO | epoch 1 (test) loss: 3395.722692\n",
      "INFO | epoch 2 (  0%) loss: 3634.620361\n",
      "INFO | epoch 2 ( 35%) loss: 3290.567767\n",
      "INFO | epoch 2 ( 70%) loss: 3158.406150\n",
      "INFO | epoch 2 (100%) loss: 3043.573456\n",
      "INFO | epoch 2 (test) loss: 2667.232544\n",
      "INFO | epoch 3 (  0%) loss: 2728.961182\n",
      "INFO | epoch 3 ( 35%) loss: 2633.309580\n",
      "INFO | epoch 3 ( 70%) loss: 2560.730741\n",
      "INFO | epoch 3 (100%) loss: 2504.972910\n",
      "INFO | epoch 3 (test) loss: 2327.997801\n",
      "INFO | epoch 4 (  0%) loss: 2327.551270\n",
      "INFO | epoch 4 ( 35%) loss: 2321.568886\n",
      "INFO | epoch 4 ( 70%) loss: 2270.441075\n",
      "INFO | epoch 4 (100%) loss: 2233.951571\n",
      "INFO | epoch 4 (test) loss: 2095.894856\n",
      "INFO | epoch 5 (  0%) loss: 2101.103027\n",
      "INFO | epoch 5 ( 35%) loss: 2095.665037\n",
      "INFO | epoch 5 ( 70%) loss: 2066.692978\n",
      "INFO | epoch 5 (100%) loss: 2038.491041\n",
      "INFO | epoch 5 (test) loss: 1918.003551\n",
      "INFO | epoch 6 (  0%) loss: 1957.057983\n",
      "INFO | epoch 6 ( 35%) loss: 1942.211154\n",
      "INFO | epoch 6 ( 70%) loss: 1941.525209\n",
      "INFO | epoch 6 (100%) loss: 1920.133323\n",
      "INFO | epoch 6 (test) loss: 1825.740419\n",
      "INFO | epoch 7 (  0%) loss: 1899.453613\n",
      "INFO | epoch 7 ( 35%) loss: 1832.392133\n",
      "INFO | epoch 7 ( 70%) loss: 1757.489183\n",
      "INFO | epoch 7 (100%) loss: 1705.300315\n",
      "INFO | epoch 7 (test) loss: 1522.313183\n",
      "INFO | epoch 8 (  0%) loss: 1555.646362\n",
      "INFO | epoch 8 ( 35%) loss: 1546.858572\n",
      "INFO | epoch 8 ( 70%) loss: 1448.841033\n",
      "INFO | epoch 8 (100%) loss: 1378.369895\n",
      "INFO | epoch 8 (test) loss: 1132.894814\n",
      "INFO | epoch 9 (  0%) loss: 954.891235\n",
      "INFO | epoch 9 ( 35%) loss: 1144.300029\n",
      "INFO | epoch 9 ( 70%) loss: 1127.435264\n",
      "INFO | epoch 9 (100%) loss: 1120.453424\n",
      "INFO | epoch 9 (test) loss: 1039.088687\n",
      "INFO | epoch 10 (  0%) loss: 1096.579346\n",
      "INFO | epoch 10 ( 35%) loss: 1092.838665\n",
      "INFO | epoch 10 ( 70%) loss: 1079.645055\n",
      "INFO | epoch 10 (100%) loss: 1067.118794\n",
      "INFO | epoch 10 (test) loss: 1003.072292\n",
      "INFO | epoch 11 (  0%) loss: 928.835022\n",
      "INFO | epoch 11 ( 35%) loss: 1068.209279\n",
      "INFO | epoch 11 ( 70%) loss: 1049.040522\n",
      "INFO | epoch 11 (100%) loss: 1035.533788\n",
      "INFO | epoch 11 (test) loss: 976.250894\n",
      "INFO | epoch 12 (  0%) loss: 1145.882202\n",
      "INFO | epoch 12 ( 35%) loss: 1037.764583\n",
      "INFO | epoch 12 ( 70%) loss: 1017.595394\n",
      "INFO | epoch 12 (100%) loss: 1016.833214\n",
      "INFO | epoch 12 (test) loss: 963.676562\n",
      "INFO | epoch 13 (  0%) loss: 1216.803833\n",
      "INFO | epoch 13 ( 35%) loss: 1010.567106\n",
      "INFO | epoch 13 ( 70%) loss: 1010.472630\n",
      "INFO | epoch 13 (100%) loss: 1003.052890\n",
      "INFO | epoch 13 (test) loss: 944.657943\n",
      "INFO | epoch 14 (  0%) loss: 959.249207\n",
      "INFO | epoch 14 ( 35%) loss: 992.258717\n",
      "INFO | epoch 14 ( 70%) loss: 992.116728\n",
      "INFO | epoch 14 (100%) loss: 988.212610\n",
      "INFO | epoch 14 (test) loss: 937.120122\n",
      "INFO | epoch 15 (  0%) loss: 922.384827\n",
      "INFO | epoch 15 ( 35%) loss: 995.694576\n",
      "INFO | epoch 15 ( 70%) loss: 995.059245\n",
      "INFO | epoch 15 (100%) loss: 983.931111\n",
      "INFO | epoch 15 (test) loss: 926.096241\n",
      "INFO | epoch 16 (  0%) loss: 969.641113\n",
      "INFO | epoch 16 ( 35%) loss: 975.874149\n",
      "INFO | epoch 16 ( 70%) loss: 976.880440\n",
      "INFO | epoch 16 (100%) loss: 976.532429\n",
      "INFO | epoch 16 (test) loss: 927.670458\n",
      "INFO | epoch 17 (  0%) loss: 1056.426758\n",
      "INFO | epoch 17 ( 35%) loss: 979.052618\n",
      "INFO | epoch 17 ( 70%) loss: 970.628984\n",
      "INFO | epoch 17 (100%) loss: 971.801308\n",
      "INFO | epoch 17 (test) loss: 922.594011\n",
      "INFO | epoch 18 (  0%) loss: 977.568359\n",
      "INFO | epoch 18 ( 35%) loss: 971.983023\n",
      "INFO | epoch 18 ( 70%) loss: 975.743997\n",
      "INFO | epoch 18 (100%) loss: 967.045337\n",
      "INFO | epoch 18 (test) loss: 929.184818\n",
      "INFO | epoch 19 (  0%) loss: 1093.622314\n",
      "INFO | epoch 19 ( 35%) loss: 945.341202\n",
      "INFO | epoch 19 ( 70%) loss: 963.571120\n",
      "INFO | epoch 19 (100%) loss: 958.430426\n",
      "INFO | epoch 19 (test) loss: 908.246620\n",
      "INFO | epoch 20 (  0%) loss: 829.187927\n",
      "INFO | epoch 20 ( 35%) loss: 957.872198\n",
      "INFO | epoch 20 ( 70%) loss: 958.227964\n",
      "INFO | epoch 20 (100%) loss: 958.685171\n",
      "INFO | epoch 20 (test) loss: 911.641655\n",
      "INFO | epoch 21 (  0%) loss: 1131.672974\n",
      "INFO | epoch 21 ( 35%) loss: 969.126975\n",
      "INFO | epoch 21 ( 70%) loss: 961.413839\n",
      "INFO | epoch 21 (100%) loss: 957.141346\n",
      "INFO | epoch 21 (test) loss: 903.387820\n",
      "INFO | epoch 22 (  0%) loss: 964.243042\n",
      "INFO | epoch 22 ( 35%) loss: 965.249963\n",
      "INFO | epoch 22 ( 70%) loss: 958.424659\n",
      "INFO | epoch 22 (100%) loss: 955.399160\n",
      "INFO | epoch 22 (test) loss: 919.701850\n",
      "INFO | epoch 23 (  0%) loss: 1209.567627\n",
      "INFO | epoch 23 ( 35%) loss: 980.448333\n",
      "INFO | epoch 23 ( 70%) loss: 957.386982\n",
      "INFO | epoch 23 (100%) loss: 954.515618\n",
      "INFO | epoch 23 (test) loss: 903.959855\n",
      "INFO | epoch 24 (  0%) loss: 1063.679443\n",
      "INFO | epoch 24 ( 35%) loss: 942.337230\n",
      "INFO | epoch 24 ( 70%) loss: 951.988948\n",
      "INFO | epoch 24 (100%) loss: 951.382102\n",
      "INFO | epoch 24 (test) loss: 896.870179\n",
      "INFO | epoch 25 (  0%) loss: 999.579285\n",
      "INFO | epoch 25 ( 35%) loss: 951.443425\n",
      "INFO | epoch 25 ( 70%) loss: 950.262216\n",
      "INFO | epoch 25 (100%) loss: 947.591775\n",
      "INFO | epoch 25 (test) loss: 900.462944\n",
      "INFO | epoch 26 (  0%) loss: 817.264954\n",
      "INFO | epoch 26 ( 35%) loss: 952.770759\n",
      "INFO | epoch 26 ( 70%) loss: 948.236819\n",
      "INFO | epoch 26 (100%) loss: 946.013087\n",
      "INFO | epoch 26 (test) loss: 897.604117\n",
      "INFO | epoch 27 (  0%) loss: 1047.859253\n",
      "INFO | epoch 27 ( 35%) loss: 947.165641\n",
      "INFO | epoch 27 ( 70%) loss: 947.945888\n",
      "INFO | epoch 27 (100%) loss: 950.884560\n",
      "INFO | epoch 27 (test) loss: 906.236679\n",
      "INFO | epoch 28 (  0%) loss: 1019.218567\n",
      "INFO | epoch 28 ( 35%) loss: 933.552601\n",
      "INFO | epoch 28 ( 70%) loss: 953.593528\n",
      "INFO | epoch 28 (100%) loss: 944.148705\n",
      "INFO | epoch 28 (test) loss: 895.411202\n",
      "INFO | epoch 29 (  0%) loss: 773.171631\n",
      "INFO | epoch 29 ( 35%) loss: 944.063019\n",
      "INFO | epoch 29 ( 70%) loss: 947.788257\n",
      "INFO | epoch 29 (100%) loss: 944.745855\n",
      "INFO | epoch 29 (test) loss: 890.415948\n",
      "INFO | epoch 30 (  0%) loss: 1094.135254\n",
      "INFO | epoch 30 ( 35%) loss: 931.784457\n",
      "INFO | epoch 30 ( 70%) loss: 945.589015\n",
      "INFO | epoch 30 (100%) loss: 944.983120\n",
      "INFO | epoch 30 (test) loss: 890.426485\n",
      "INFO | epoch 31 (  0%) loss: 1139.930054\n",
      "INFO | epoch 31 ( 35%) loss: 961.241528\n",
      "INFO | epoch 31 ( 70%) loss: 953.019659\n",
      "INFO | epoch 31 (100%) loss: 944.815261\n",
      "INFO | epoch 31 (test) loss: 892.016600\n",
      "INFO | epoch 32 (  0%) loss: 956.924744\n",
      "INFO | epoch 32 ( 35%) loss: 956.193822\n",
      "INFO | epoch 32 ( 70%) loss: 949.249388\n",
      "INFO | epoch 32 (100%) loss: 942.987968\n",
      "INFO | epoch 32 (test) loss: 893.614895\n",
      "INFO | epoch 33 (  0%) loss: 802.746521\n",
      "INFO | epoch 33 ( 35%) loss: 933.288258\n",
      "INFO | epoch 33 ( 70%) loss: 947.672518\n",
      "INFO | epoch 33 (100%) loss: 943.404318\n",
      "INFO | epoch 33 (test) loss: 899.797647\n",
      "INFO | epoch 34 (  0%) loss: 1023.098877\n",
      "INFO | epoch 34 ( 35%) loss: 952.530518\n",
      "INFO | epoch 34 ( 70%) loss: 948.240973\n",
      "INFO | epoch 34 (100%) loss: 942.866242\n",
      "INFO | epoch 34 (test) loss: 900.876592\n",
      "INFO | epoch 35 (  0%) loss: 874.906494\n",
      "INFO | epoch 35 ( 35%) loss: 945.112336\n",
      "INFO | epoch 35 ( 70%) loss: 940.830547\n",
      "INFO | epoch 35 (100%) loss: 946.591268\n",
      "INFO | epoch 35 (test) loss: 887.766612\n",
      "INFO | epoch 36 (  0%) loss: 1005.266785\n",
      "INFO | epoch 36 ( 35%) loss: 946.103736\n",
      "INFO | epoch 36 ( 70%) loss: 935.602799\n",
      "INFO | epoch 36 (100%) loss: 938.582225\n",
      "INFO | epoch 36 (test) loss: 884.986531\n",
      "INFO | epoch 37 (  0%) loss: 807.095459\n",
      "INFO | epoch 37 ( 35%) loss: 932.350180\n",
      "INFO | epoch 37 ( 70%) loss: 934.108737\n",
      "INFO | epoch 37 (100%) loss: 938.912499\n",
      "INFO | epoch 37 (test) loss: 889.485971\n",
      "INFO | epoch 38 (  0%) loss: 842.423401\n",
      "INFO | epoch 38 ( 35%) loss: 959.463591\n",
      "INFO | epoch 38 ( 70%) loss: 949.145055\n",
      "INFO | epoch 38 (100%) loss: 939.672289\n",
      "INFO | epoch 38 (test) loss: 884.519650\n",
      "INFO | epoch 39 (  0%) loss: 878.670105\n",
      "INFO | epoch 39 ( 35%) loss: 945.603546\n",
      "INFO | epoch 39 ( 70%) loss: 938.210290\n",
      "INFO | epoch 39 (100%) loss: 935.195404\n",
      "INFO | epoch 39 (test) loss: 880.792761\n",
      "INFO | epoch 40 (  0%) loss: 889.590942\n",
      "INFO | epoch 40 ( 35%) loss: 962.148586\n",
      "INFO | epoch 40 ( 70%) loss: 943.618308\n",
      "INFO | epoch 40 (100%) loss: 937.327152\n",
      "INFO | epoch 40 (test) loss: 885.497638\n",
      "INFO | epoch 41 (  0%) loss: 1028.844116\n",
      "INFO | epoch 41 ( 35%) loss: 930.171922\n",
      "INFO | epoch 41 ( 70%) loss: 940.162068\n",
      "INFO | epoch 41 (100%) loss: 934.688766\n",
      "INFO | epoch 41 (test) loss: 883.019872\n",
      "INFO | epoch 42 (  0%) loss: 949.541992\n",
      "INFO | epoch 42 ( 35%) loss: 921.968894\n",
      "INFO | epoch 42 ( 70%) loss: 932.829617\n",
      "INFO | epoch 42 (100%) loss: 934.253388\n",
      "INFO | epoch 42 (test) loss: 883.655856\n",
      "INFO | epoch 43 (  0%) loss: 915.623108\n",
      "INFO | epoch 43 ( 35%) loss: 943.631400\n",
      "INFO | epoch 43 ( 70%) loss: 943.045387\n",
      "INFO | epoch 43 (100%) loss: 934.536569\n",
      "INFO | epoch 43 (test) loss: 891.156618\n",
      "INFO | epoch 44 (  0%) loss: 762.703430\n",
      "INFO | epoch 44 ( 35%) loss: 939.732077\n",
      "INFO | epoch 44 ( 70%) loss: 940.193014\n",
      "INFO | epoch 44 (100%) loss: 934.891194\n",
      "INFO | epoch 44 (test) loss: 882.552329\n",
      "INFO | epoch 45 (  0%) loss: 844.542603\n",
      "INFO | epoch 45 ( 35%) loss: 925.107117\n",
      "INFO | epoch 45 ( 70%) loss: 936.800968\n",
      "INFO | epoch 45 (100%) loss: 934.824872\n",
      "INFO | epoch 45 (test) loss: 890.219552\n",
      "INFO | epoch 46 (  0%) loss: 897.388550\n",
      "INFO | epoch 46 ( 35%) loss: 939.543759\n",
      "INFO | epoch 46 ( 70%) loss: 937.670181\n",
      "INFO | epoch 46 (100%) loss: 935.814623\n",
      "INFO | epoch 46 (test) loss: 884.103415\n",
      "INFO | epoch 47 (  0%) loss: 811.688110\n",
      "INFO | epoch 47 ( 35%) loss: 930.762452\n",
      "INFO | epoch 47 ( 70%) loss: 936.343197\n",
      "INFO | epoch 47 (100%) loss: 935.010062\n",
      "INFO | epoch 47 (test) loss: 884.947163\n",
      "INFO | epoch 48 (  0%) loss: 772.738220\n",
      "INFO | epoch 48 ( 35%) loss: 930.322236\n",
      "INFO | epoch 48 ( 70%) loss: 938.228752\n",
      "INFO | epoch 48 (100%) loss: 935.018319\n",
      "INFO | epoch 48 (test) loss: 889.952674\n",
      "INFO | epoch 49 (  0%) loss: 1024.734863\n",
      "INFO | epoch 49 ( 35%) loss: 948.206333\n",
      "INFO | epoch 49 ( 70%) loss: 936.002831\n",
      "INFO | epoch 49 (100%) loss: 932.349696\n",
      "INFO | epoch 49 (test) loss: 875.848763\n",
      "INFO | epoch 50 (  0%) loss: 1005.165588\n",
      "INFO | epoch 50 ( 35%) loss: 922.692140\n",
      "INFO | epoch 50 ( 70%) loss: 934.287863\n",
      "INFO | epoch 50 (100%) loss: 926.278321\n",
      "INFO | epoch 50 (test) loss: 872.275501\n"
     ]
    }
   ],
   "source": [
    "# Cue training montage\n",
    "\n",
    "model = M.vae.LabeledVAE(222, (64, 32), 20, num_labels)\n",
    "criterion = M.vae.Loss()\n",
    "\n",
    "\n",
    "train_losses, test_losses = M.vae.train(\n",
    "    device, model, criterion, train_loader, test_loader,\n",
    "    learn_rate=1e-03, epochs=50, with_labels=True\n",
    ")\n"
   ]
  },
  {
   "cell_type": "code",
   "execution_count": 7,
   "metadata": {},
   "outputs": [
    {
     "name": "stderr",
     "output_type": "stream",
     "text": [
      "INFO | model blob saved to /home/jmsdnns/ML/pallets/saved/vae.conv.labels.pkl\n",
      "INFO | training losses saved to /home/jmsdnns/ML/pallets/saved/vae.conv.labels.json\n"
     ]
    }
   ],
   "source": [
    "M.save('vae.conv.labels', model, train_losses, test_losses)\n"
   ]
  },
  {
   "cell_type": "markdown",
   "metadata": {},
   "source": [
    "## Generate punk with specific features"
   ]
  },
  {
   "cell_type": "code",
   "execution_count": null,
   "id": "b8bca7f0",
   "metadata": {},
   "outputs": [],
   "source": [
    "# model, train_losses, test_losses = M.load('vae.conv.labels')"
   ]
  },
  {
   "cell_type": "code",
   "execution_count": 8,
   "metadata": {},
   "outputs": [
    {
     "name": "stdout",
     "output_type": "stream",
     "text": [
      "torch.Size([1, 222, 24, 24])\n",
      "torch.Size([222, 24, 24])\n",
      "torch.Size([4, 24, 24])\n"
     ]
    },
    {
     "data": {
      "image/png": "[encoded data removed]",
      "text/plain": [
       "<Figure size 640x480 with 1 Axes>"
      ]
     },
     "metadata": {},
     "output_type": "display_data"
    }
   ],
   "source": [
    "\n",
    "z = torch.randn(1, 20 + num_labels).to(device)\n",
    "\n",
    "with torch.no_grad():\n",
    "    model.eval()\n",
    "    generated_image = model.decode(z)\n",
    "    print(generated_image.shape)\n",
    "\n",
    "\n",
    "decoded_one_hot = generated_image[0]\n",
    "print(decoded_one_hot.shape)\n",
    "\n",
    "decoded = DS.one_hot_to_rgba(decoded_one_hot, mapper)\n",
    "print(decoded.shape)\n",
    "\n",
    "plt.imshow(transforms.functional.to_pil_image(decoded))\n",
    "plt.axis('off')\n",
    "plt.show()\n"
   ]
  },
  {
   "cell_type": "code",
   "execution_count": 9,
   "metadata": {},
   "outputs": [
    {
     "name": "stdout",
     "output_type": "stream",
     "text": [
      "Features: ['male', 'chinstrap', 'mohawkDark', 'earring']\n"
     ]
    }
   ],
   "source": [
    "import json\n",
    "ps_labels = json.load(open(\"../../cpunks-10k/cpunks/data/punks.json\"))\n",
    "label_keys = [k for k in ps_labels[\"0\"].keys()]\n",
    "_, test_labels = next(iter(train_loader))\n",
    "features = test_labels[2]\n",
    "\n",
    "enabled_features = [k for k,v in zip(label_keys, features) if v.item() == 1]\n",
    "\n",
    "print(f\"Features: {enabled_features}\")\n"
   ]
  },
  {
   "cell_type": "code",
   "execution_count": 10,
   "id": "38c47d81",
   "metadata": {},
   "outputs": [
    {
     "name": "stdout",
     "output_type": "stream",
     "text": [
      "torch.Size([1, 222, 24, 24])\n",
      "torch.Size([222, 24, 24])\n",
      "torch.Size([4, 24, 24])\n"
     ]
    },
    {
     "data": {
      "image/png": "[encoded data removed]",
      "text/plain": [
       "<Figure size 640x480 with 1 Axes>"
      ]
     },
     "metadata": {},
     "output_type": "display_data"
    }
   ],
   "source": [
    "# Generate new image\n",
    "\n",
    "z = torch.randn(1, 20).to(device)\n",
    "z = torch.concat([z, features.unsqueeze(0)], dim=1)\n",
    "\n",
    "with torch.no_grad():\n",
    "    model.eval()\n",
    "    generated_image = model.decode(z)\n",
    "    print(generated_image.shape)\n",
    "\n",
    "\n",
    "decoded_one_hot = generated_image[0]\n",
    "print(decoded_one_hot.shape)\n",
    "\n",
    "decoded = DS.one_hot_to_rgba(decoded_one_hot, mapper)\n",
    "print(decoded.shape)\n",
    "\n",
    "plt.imshow(transforms.functional.to_pil_image(decoded))\n",
    "plt.axis('off')\n",
    "plt.show()\n"
   ]
  },
  {
   "cell_type": "code",
   "execution_count": 11,
   "metadata": {},
   "outputs": [
    {
     "data": {
      "text/plain": [
       "[31340.809007577016,\n",
       " 6087.146912486841,\n",
       " 5009.945820260556,\n",
       " 4467.903141968639,\n",
       " 4076.982081852906,\n",
       " 3840.266645715592,\n",
       " 3410.6006303070285,\n",
       " 2756.739790679715,\n",
       " 2240.906848447543,\n",
       " 2134.2375886524824,\n",
       " 2071.0675754411845,\n",
       " 2033.6664284780516,\n",
       " 2006.1057805271014,\n",
       " 1976.425220678884,\n",
       " 1967.8622217922345,\n",
       " 1953.0648582945478,\n",
       " 1943.602616113974,\n",
       " 1934.0906734601826,\n",
       " 1916.8608517477699,\n",
       " 1917.3703426063485,\n",
       " 1914.2826910357103,\n",
       " 1910.7983199315713,\n",
       " 1909.0312361480496,\n",
       " 1902.7642048504335,\n",
       " 1895.183549813345,\n",
       " 1892.0261736930686,\n",
       " 1901.7691190462585,\n",
       " 1888.2974098151458,\n",
       " 1889.491710906333,\n",
       " 1889.9662397668717,\n",
       " 1889.630522599457,\n",
       " 1885.9759369978667,\n",
       " 1886.808636820908,\n",
       " 1885.7324835594663,\n",
       " 1893.182535590855,\n",
       " 1877.1644507874835,\n",
       " 1877.824998679736,\n",
       " 1879.3445774375969,\n",
       " 1870.3908081054688,\n",
       " 1874.6543034763201,\n",
       " 1869.3775329589844,\n",
       " 1868.5067760927457,\n",
       " 1869.073137864999,\n",
       " 1869.7823884571699,\n",
       " 1869.6497438579586,\n",
       " 1871.6292464885305,\n",
       " 1870.020124394843,\n",
       " 1870.0366370018492,\n",
       " 1864.6993917911611,\n",
       " 1852.5566414907469]"
      ]
     },
     "execution_count": 11,
     "metadata": {},
     "output_type": "execute_result"
    }
   ],
   "source": [
    "train_losses\n"
   ]
  },
  {
   "cell_type": "code",
   "execution_count": 12,
   "metadata": {},
   "outputs": [
    {
     "data": {
      "text/plain": [
       "[6791.445384979248,\n",
       " 5334.465087890625,\n",
       " 4655.995601654053,\n",
       " 4191.789712905884,\n",
       " 3836.0071029663086,\n",
       " 3651.4808387756348,\n",
       " 3044.626365661621,\n",
       " 2265.789628982544,\n",
       " 2078.1773738861084,\n",
       " 2006.1445846557617,\n",
       " 1952.501787185669,\n",
       " 1927.353123664856,\n",
       " 1889.3158855438232,\n",
       " 1874.2402439117432,\n",
       " 1852.192481994629,\n",
       " 1855.340916633606,\n",
       " 1845.1880226135254,\n",
       " 1858.3696365356445,\n",
       " 1816.4932403564453,\n",
       " 1823.2833099365234,\n",
       " 1806.775640487671,\n",
       " 1839.403699874878,\n",
       " 1807.9197101593018,\n",
       " 1793.7403573989868,\n",
       " 1800.9258880615234,\n",
       " 1795.2082347869873,\n",
       " 1812.4733581542969,\n",
       " 1790.8224048614502,\n",
       " 1780.8318967819214,\n",
       " 1780.852970123291,\n",
       " 1784.0331993103027,\n",
       " 1787.2297897338867,\n",
       " 1799.5952939987183,\n",
       " 1801.7531833648682,\n",
       " 1775.5332231521606,\n",
       " 1769.9730625152588,\n",
       " 1778.9719429016113,\n",
       " 1769.039300918579,\n",
       " 1761.585521697998,\n",
       " 1770.9952754974365,\n",
       " 1766.039743423462,\n",
       " 1767.3117122650146,\n",
       " 1782.3132362365723,\n",
       " 1765.104658126831,\n",
       " 1780.4391031265259,\n",
       " 1768.2068309783936,\n",
       " 1769.8943252563477,\n",
       " 1779.9053478240967,\n",
       " 1751.6975259780884,\n",
       " 1744.551001548767]"
      ]
     },
     "execution_count": 12,
     "metadata": {},
     "output_type": "execute_result"
    }
   ],
   "source": [
    "test_losses\n"
   ]
  },
  {
   "cell_type": "code",
   "execution_count": 13,
   "metadata": {},
   "outputs": [
    {
     "data": {
      "image/png": "[encoded data removed]",
      "text/plain": [
       "<Figure size 640x480 with 1 Axes>"
      ]
     },
     "metadata": {},
     "output_type": "display_data"
    }
   ],
   "source": [
    "punk = I.get_punk_tensor(1000)\n",
    "\n",
    "plt.imshow(transforms.functional.to_pil_image(punk))\n",
    "plt.show()\n",
    "\n"
   ]
  },
  {
   "cell_type": "code",
   "execution_count": 14,
   "metadata": {},
   "outputs": [],
   "source": [
    "ps_labels = json.load(open(\"../../cpunks-10k/cpunks/data/punks.json\"))\n",
    "punk_labels = torch.tensor([v for _,v in ps_labels[\"1000\"].items()])\n",
    "punk_labels = punk_labels.unsqueeze(0)\n",
    "punk_labels = punk_labels.to(device)\n"
   ]
  },
  {
   "cell_type": "code",
   "execution_count": 15,
   "metadata": {},
   "outputs": [
    {
     "name": "stdout",
     "output_type": "stream",
     "text": [
      "torch.Size([1, 222, 24, 24])\n"
     ]
    },
    {
     "data": {
      "image/png": "[encoded data removed]",
      "text/plain": [
       "<Figure size 640x480 with 1 Axes>"
      ]
     },
     "metadata": {},
     "output_type": "display_data"
    }
   ],
   "source": [
    "punk = I.get_punk_tensor(1000)\n",
    "\n",
    "p = DS.rgba_to_one_hot(punk, mapper)\n",
    "p = p.unsqueeze(0)\n",
    "p = p.to(device)\n",
    "\n",
    "model.eval()\n",
    "with torch.no_grad():\n",
    "    reconstructed, mu, logcar = model.forward(p, punk_labels)\n",
    "    print(reconstructed.shape)\n",
    "\n",
    "recon_punk = reconstructed[0].cpu()\n",
    "recon_punk = DS.one_hot_to_rgba(recon_punk, mapper)\n",
    "plt.imshow(transforms.functional.to_pil_image(recon_punk.cpu()))\n",
    "plt.show()\n"
   ]
  },
  {
   "cell_type": "code",
   "execution_count": 16,
   "metadata": {},
   "outputs": [
    {
     "data": {
      "text/plain": [
       "<function matplotlib.pyplot.show(close=None, block=None)>"
      ]
     },
     "execution_count": 16,
     "metadata": {},
     "output_type": "execute_result"
    },
    {
     "data": {
      "image/png": "[encoded data removed]",
      "text/plain": [
       "<Figure size 640x480 with 1 Axes>"
      ]
     },
     "metadata": {},
     "output_type": "display_data"
    }
   ],
   "source": [
    "plt.title(\"Train & Test loss\")\n",
    "plt.plot(train_losses, label='train loss')\n",
    "plt.plot(test_losses, label='test loss')\n",
    "plt.legend()\n",
    "plt.show\n"
   ]
  },
  {
   "cell_type": "code",
   "execution_count": null,
   "metadata": {},
   "outputs": [],
   "source": []
  }
 ],
 "metadata": {
  "kernelspec": {
   "display_name": "Python 3 (ipykernel)",
   "language": "python",
   "name": "python3"
  },
  "language_info": {
   "codemirror_mode": {
    "name": "ipython",
    "version": 3
   },
   "file_extension": ".py",
   "mimetype": "text/x-python",
   "name": "python",
   "nbconvert_exporter": "python",
   "pygments_lexer": "ipython3",
   "version": "3.11.6"
  }
 },
 "nbformat": 4,
 "nbformat_minor": 5
}
